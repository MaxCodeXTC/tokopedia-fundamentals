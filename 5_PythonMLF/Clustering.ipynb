{
 "cells": [
  {
   "cell_type": "markdown",
   "metadata": {},
   "source": [
    "**Coursebook: Clustering Analysis**\n",
    "- Part 5 of Python Fundamental Course\n",
    "- Course Length: 24 Hours\n",
    "- Last Updated: July 2019\n",
    "\n",
    "___\n",
    "\n",
    "- Developed by [Algoritma](https://algorit.ma)'s product division and instructors team"
   ]
  },
  {
   "cell_type": "markdown",
   "metadata": {},
   "source": [
    "# Background\n",
    "\n",
    "The coursebook is part of the **Python Fundamentals Course** prepared by [Algoritma](https://algorit.ma). The coursebook is intended for a restricted audience only, i.e. the individuals and organizations having received this coursebook directly from the training organization. It may not be reproduced, distributed, translated or adapted in any form outside these individuals and organizations without permission.\n",
    "\n",
    "Algoritma is a data science education center based in Jakarta. We organize workshops and training programs to help working professionals and students gain mastery in various data science sub-fields: data visualization, machine learning, data modeling, statistical inference etc."
   ]
  },
  {
   "cell_type": "markdown",
   "metadata": {},
   "source": [
    "# Clustering for Data Mining"
   ]
  },
  {
   "cell_type": "markdown",
   "metadata": {},
   "source": [
    "## Training Objectives\n",
    "\n",
    "In this workshop, we'll take a look at some clustering algorithms to complement our data mining techniques. We will also touch the fundamental difference between clustering and classification and how to use both technique effectively in different set of problems.\n",
    "\n",
    "You will learn to develop clustering analysis and investigate the mathematical foundations for two main algorithm: centroid-based and hierarchical clustering. The main objective will be the following:\n",
    "\n",
    "- **Unsupervised Learning**\n",
    "- **Clustering for Data Mining**\n",
    "- **K-means Clustering**\n",
    "- **Hierarchical Clustering**\n",
    "\n",
    "    \n",
    "By the end of this course, you'll be working on a **Learn-by-Building** module to create a data exploratory analysis project to apply what you have learned on provided dataset and attempt to answer all the given questions. This final part is considered as a Graded Assignment so make sure you do well on the assignment."
   ]
  },
  {
   "cell_type": "markdown",
   "metadata": {},
   "source": [
    "Before going into our main topic for this coursebook, let's import the packages we are going to use:"
   ]
  },
  {
   "cell_type": "code",
   "execution_count": 147,
   "metadata": {},
   "outputs": [],
   "source": [
    "import pandas as pd\n",
    "import numpy as np\n",
    "import scipy.cluster.hierarchy as shc\n",
    "from sklearn.cluster import KMeans\n",
    "import matplotlib.pyplot as plt\n",
    "import math\n",
    "\n",
    "%matplotlib inline"
   ]
  },
  {
   "cell_type": "markdown",
   "metadata": {},
   "source": [
    "# Unsupervised Learning\n",
    "\n",
    "In the previous chapters we've been learning about algorithms that are greatly useful in situations of regression and classification. More generally, we learn to find the parameters for X1, X2 ... Xn to explain or predict a \"target\" response Y. \n",
    "\n",
    "In the case of unsupervised learning, the situation differs in that there is no such a response Y but rather, we're interested in discovering the structure between X1, X2, to Xn - possibly to identify opportunities for clustering. Some people have likened unsupervised learning to an exploratory process because it is difficult or impossible to know if the model or any formulation is the \"right\" one since we don't have a \"ground truth\" that we use as a measuring stick. Techniques such as cross-validation and AUC do not apply due to the lack of a \"ground truth\" label. \n",
    "\n",
    "With that said, unsupervised learning methods can still be very powerful especially in the field of clustering and dimensionality reduction. In this workshop, we'll take an in-depth look at unsupervised algorithms such as hierarchical clustering and k-means and see why unsupervised methods such as these are great tools to add to your toolbox."
   ]
  },
  {
   "cell_type": "markdown",
   "metadata": {},
   "source": [
    "## K-means Clustering\n",
    "Clustering refers to the practice of finding meaningful ways to group data (or create subgroups) within a dataset - and the resulting groups are usually called clusters. The objective is to have a number of partitions where the observations that fall into each partition are similar to others in that group, while the partitions are distinctive from one another. \n",
    "\n",
    "K-means is a centroid-based clustering algorithm that follows a simple procedure of classifying a given dataset into a pre-determined number of clusters, denoted as \"k\". This procedure is essentially a series of iterations where we:  \n",
    "1. Find cluster centers  \n",
    "2. Compute distances between each point to each cluster centers  \n",
    "3. Assign / re-assign cluster membership  \n",
    "\n",
    "A few technicality: Instead of saying \"cluster centers\", we'll call them \"centroids\"; Also, in the first iteration of the above procedure, because there are clusters in our feature space, we can't yet compute any centroids so in the first \"iteration\" we'll randomly assign our centroids. It turns out, with enough iteration, that the procedure can usually converge at a reasonably well solution, giving us very reasonable k centroids (remember: we define k, just as in the k-NN algorithm we learned) that we can use for clustering task.\n"
   ]
  },
  {
   "cell_type": "markdown",
   "metadata": {},
   "source": [
    "Let's take a look at the image below:   \n",
    "\n",
    "![ ](assets/centroids.png)\n",
    "\n",
    "If we choose _k_ to be 2, these are the steps that a k-means algorithm take in assigning the original data (green dots) to two clusters:  \n",
    "Step (a): Our data on a two-dimensional space  \n",
    "Step (b): Iteration 1 - Randomly initialize our cluster centroids  \n",
    "Step (c): Iteration 1 - Assigning cluster membership based on a distance function  \n",
    "Step (d): Iteration 2 - Move cluster centroids to be at the center of clusters  \n",
    "Step (e): Iteration 2 - Re-Assigning cluster membership based on a distance function  \n",
    "Step (f): Iteration 3 ...\n",
    "\n",
    "We'll get into the mathematical details a bit later; For now, let's take a look at how we can use Python `KMeans()` function to solve a clustering problem in the absence of a target predictor.\n",
    "\n",
    "### Cluster-based Whisky Recommendation\n",
    "The data we'll be reading in is from Dr.Wisehart (University of St. Andrews), and comprise of 86 distilleries that produce malt whiskies. Each of the whiskies were scored between 0-4 under 12 different taste categories including `Body`, `Sweetness`, `Smoky`, `Medicinal`, `Tobacco`, `Honey`, `Nutty`, `Floral` etc. The original motivation also notes that \"by using correlation data it may be possible to provide whisky recommendations based upon an individual's particular preferences\"[]."
   ]
  },
  {
   "cell_type": "code",
   "execution_count": 187,
   "metadata": {},
   "outputs": [
    {
     "data": {
      "text/html": [
       "<div>\n",
       "<style scoped>\n",
       "    .dataframe tbody tr th:only-of-type {\n",
       "        vertical-align: middle;\n",
       "    }\n",
       "\n",
       "    .dataframe tbody tr th {\n",
       "        vertical-align: top;\n",
       "    }\n",
       "\n",
       "    .dataframe thead th {\n",
       "        text-align: right;\n",
       "    }\n",
       "</style>\n",
       "<table border=\"1\" class=\"dataframe\">\n",
       "  <thead>\n",
       "    <tr style=\"text-align: right;\">\n",
       "      <th></th>\n",
       "      <th>Body</th>\n",
       "      <th>Sweetness</th>\n",
       "      <th>Smoky</th>\n",
       "      <th>Medicinal</th>\n",
       "      <th>Tobacco</th>\n",
       "      <th>Honey</th>\n",
       "      <th>Spicy</th>\n",
       "      <th>Winey</th>\n",
       "      <th>Nutty</th>\n",
       "      <th>Malty</th>\n",
       "      <th>Fruity</th>\n",
       "      <th>Floral</th>\n",
       "    </tr>\n",
       "    <tr>\n",
       "      <th>Distillery</th>\n",
       "      <th></th>\n",
       "      <th></th>\n",
       "      <th></th>\n",
       "      <th></th>\n",
       "      <th></th>\n",
       "      <th></th>\n",
       "      <th></th>\n",
       "      <th></th>\n",
       "      <th></th>\n",
       "      <th></th>\n",
       "      <th></th>\n",
       "      <th></th>\n",
       "    </tr>\n",
       "  </thead>\n",
       "  <tbody>\n",
       "    <tr>\n",
       "      <th>Aberfeldy</th>\n",
       "      <td>2</td>\n",
       "      <td>2</td>\n",
       "      <td>2</td>\n",
       "      <td>0</td>\n",
       "      <td>0</td>\n",
       "      <td>2</td>\n",
       "      <td>1</td>\n",
       "      <td>2</td>\n",
       "      <td>2</td>\n",
       "      <td>2</td>\n",
       "      <td>2</td>\n",
       "      <td>2</td>\n",
       "    </tr>\n",
       "    <tr>\n",
       "      <th>Aberlour</th>\n",
       "      <td>3</td>\n",
       "      <td>3</td>\n",
       "      <td>1</td>\n",
       "      <td>0</td>\n",
       "      <td>0</td>\n",
       "      <td>4</td>\n",
       "      <td>3</td>\n",
       "      <td>2</td>\n",
       "      <td>2</td>\n",
       "      <td>3</td>\n",
       "      <td>3</td>\n",
       "      <td>2</td>\n",
       "    </tr>\n",
       "    <tr>\n",
       "      <th>AnCnoc</th>\n",
       "      <td>1</td>\n",
       "      <td>3</td>\n",
       "      <td>2</td>\n",
       "      <td>0</td>\n",
       "      <td>0</td>\n",
       "      <td>2</td>\n",
       "      <td>0</td>\n",
       "      <td>0</td>\n",
       "      <td>2</td>\n",
       "      <td>2</td>\n",
       "      <td>3</td>\n",
       "      <td>2</td>\n",
       "    </tr>\n",
       "    <tr>\n",
       "      <th>Ardbeg</th>\n",
       "      <td>4</td>\n",
       "      <td>1</td>\n",
       "      <td>4</td>\n",
       "      <td>4</td>\n",
       "      <td>0</td>\n",
       "      <td>0</td>\n",
       "      <td>2</td>\n",
       "      <td>0</td>\n",
       "      <td>1</td>\n",
       "      <td>2</td>\n",
       "      <td>1</td>\n",
       "      <td>0</td>\n",
       "    </tr>\n",
       "    <tr>\n",
       "      <th>Ardmore</th>\n",
       "      <td>2</td>\n",
       "      <td>2</td>\n",
       "      <td>2</td>\n",
       "      <td>0</td>\n",
       "      <td>0</td>\n",
       "      <td>1</td>\n",
       "      <td>1</td>\n",
       "      <td>1</td>\n",
       "      <td>2</td>\n",
       "      <td>3</td>\n",
       "      <td>1</td>\n",
       "      <td>1</td>\n",
       "    </tr>\n",
       "  </tbody>\n",
       "</table>\n",
       "</div>"
      ],
      "text/plain": [
       "            Body  Sweetness  Smoky  Medicinal  Tobacco  Honey  Spicy  Winey  \\\n",
       "Distillery                                                                    \n",
       "Aberfeldy      2          2      2          0        0      2      1      2   \n",
       "Aberlour       3          3      1          0        0      4      3      2   \n",
       "AnCnoc         1          3      2          0        0      2      0      0   \n",
       "Ardbeg         4          1      4          4        0      0      2      0   \n",
       "Ardmore        2          2      2          0        0      1      1      1   \n",
       "\n",
       "            Nutty  Malty  Fruity  Floral  \n",
       "Distillery                                \n",
       "Aberfeldy       2      2       2       2  \n",
       "Aberlour        2      3       3       2  \n",
       "AnCnoc          2      2       3       2  \n",
       "Ardbeg          1      2       1       0  \n",
       "Ardmore         2      3       1       1  "
      ]
     },
     "execution_count": 187,
     "metadata": {},
     "output_type": "execute_result"
    }
   ],
   "source": [
    "whiskies = pd.read_csv(\"data_input/whiskies.txt\", index_col='Distillery')\n",
    "whiskies = whiskies.drop(labels=['RowID', 'Postcode', ' Latitude', ' Longitude'], axis=1)\n",
    "whiskies.head()\n",
    "# Distillery column is the name of each whisky\n",
    "# remove RowID, Postcode, Latitude and Longitude"
   ]
  },
  {
   "cell_type": "markdown",
   "metadata": {},
   "source": [
    "With this dataset - scaling is rather arbitary and optional because all measurements assume the same range (0 to 4), but with most data this won't be the case. Recall that the `kmeans` procedure compute a distance (typically Euclidean distance) and as we've learned in the k-NN section, failing to scale may cause our model to perform adequately with the algorithm favoring variables on higher scales. "
   ]
  },
  {
   "cell_type": "code",
   "execution_count": 188,
   "metadata": {},
   "outputs": [],
   "source": [
    "cols = whiskies.columns\n",
    "\n",
    "whiskies[cols] = StandardScaler().fit_transform(whiskies[cols])"
   ]
  },
  {
   "cell_type": "markdown",
   "metadata": {},
   "source": [
    "We will have to set a seed for reproducibility because in the first iteration, our centroids are randomly picked on the feature space - thus each time we run the `KMeans()` we are bound to get a slightly different result. Given the objective of **minimizing the within-cluster sum of squared** the k-means algorithm is guaranteed to converge but is not guaranteed to a global optima - a point I'll illustrate later through some code experiment. "
   ]
  },
  {
   "cell_type": "code",
   "execution_count": 189,
   "metadata": {
    "scrolled": true
   },
   "outputs": [
    {
     "data": {
      "text/html": [
       "<div>\n",
       "<style scoped>\n",
       "    .dataframe tbody tr th:only-of-type {\n",
       "        vertical-align: middle;\n",
       "    }\n",
       "\n",
       "    .dataframe tbody tr th {\n",
       "        vertical-align: top;\n",
       "    }\n",
       "\n",
       "    .dataframe thead th {\n",
       "        text-align: right;\n",
       "    }\n",
       "</style>\n",
       "<table border=\"1\" class=\"dataframe\">\n",
       "  <thead>\n",
       "    <tr style=\"text-align: right;\">\n",
       "      <th></th>\n",
       "      <th>Body</th>\n",
       "      <th>Sweetness</th>\n",
       "      <th>Smoky</th>\n",
       "      <th>Medicinal</th>\n",
       "      <th>Tobacco</th>\n",
       "      <th>Honey</th>\n",
       "      <th>Spicy</th>\n",
       "      <th>Winey</th>\n",
       "      <th>Nutty</th>\n",
       "      <th>Malty</th>\n",
       "      <th>Fruity</th>\n",
       "      <th>Floral</th>\n",
       "      <th>Cluster</th>\n",
       "    </tr>\n",
       "    <tr>\n",
       "      <th>Distillery</th>\n",
       "      <th></th>\n",
       "      <th></th>\n",
       "      <th></th>\n",
       "      <th></th>\n",
       "      <th></th>\n",
       "      <th></th>\n",
       "      <th></th>\n",
       "      <th></th>\n",
       "      <th></th>\n",
       "      <th></th>\n",
       "      <th></th>\n",
       "      <th></th>\n",
       "      <th></th>\n",
       "    </tr>\n",
       "  </thead>\n",
       "  <tbody>\n",
       "    <tr>\n",
       "      <th>Aberfeldy</th>\n",
       "      <td>-0.075425</td>\n",
       "      <td>-0.407651</td>\n",
       "      <td>0.541729</td>\n",
       "      <td>-0.555252</td>\n",
       "      <td>-0.362738</td>\n",
       "      <td>0.891080</td>\n",
       "      <td>-0.491880</td>\n",
       "      <td>1.103454</td>\n",
       "      <td>0.654742</td>\n",
       "      <td>0.316064</td>\n",
       "      <td>0.255099</td>\n",
       "      <td>0.355664</td>\n",
       "      <td>0</td>\n",
       "    </tr>\n",
       "    <tr>\n",
       "      <th>Aberlour</th>\n",
       "      <td>1.005673</td>\n",
       "      <td>0.994668</td>\n",
       "      <td>-0.622988</td>\n",
       "      <td>-0.555252</td>\n",
       "      <td>-0.362738</td>\n",
       "      <td>3.249015</td>\n",
       "      <td>2.071859</td>\n",
       "      <td>1.103454</td>\n",
       "      <td>0.654742</td>\n",
       "      <td>1.914975</td>\n",
       "      <td>1.545599</td>\n",
       "      <td>0.355664</td>\n",
       "      <td>0</td>\n",
       "    </tr>\n",
       "    <tr>\n",
       "      <th>AnCnoc</th>\n",
       "      <td>-1.156524</td>\n",
       "      <td>0.994668</td>\n",
       "      <td>0.541729</td>\n",
       "      <td>-0.555252</td>\n",
       "      <td>-0.362738</td>\n",
       "      <td>0.891080</td>\n",
       "      <td>-1.773750</td>\n",
       "      <td>-1.053297</td>\n",
       "      <td>0.654742</td>\n",
       "      <td>0.316064</td>\n",
       "      <td>1.545599</td>\n",
       "      <td>0.355664</td>\n",
       "      <td>2</td>\n",
       "    </tr>\n",
       "    <tr>\n",
       "      <th>Ardbeg</th>\n",
       "      <td>2.086771</td>\n",
       "      <td>-1.809970</td>\n",
       "      <td>2.871164</td>\n",
       "      <td>3.508717</td>\n",
       "      <td>-0.362738</td>\n",
       "      <td>-1.466855</td>\n",
       "      <td>0.789990</td>\n",
       "      <td>-1.053297</td>\n",
       "      <td>-0.569341</td>\n",
       "      <td>0.316064</td>\n",
       "      <td>-1.035401</td>\n",
       "      <td>-1.997191</td>\n",
       "      <td>1</td>\n",
       "    </tr>\n",
       "    <tr>\n",
       "      <th>Ardmore</th>\n",
       "      <td>-0.075425</td>\n",
       "      <td>-0.407651</td>\n",
       "      <td>0.541729</td>\n",
       "      <td>-0.555252</td>\n",
       "      <td>-0.362738</td>\n",
       "      <td>-0.287887</td>\n",
       "      <td>-0.491880</td>\n",
       "      <td>0.025078</td>\n",
       "      <td>0.654742</td>\n",
       "      <td>1.914975</td>\n",
       "      <td>-1.035401</td>\n",
       "      <td>-0.820763</td>\n",
       "      <td>3</td>\n",
       "    </tr>\n",
       "  </tbody>\n",
       "</table>\n",
       "</div>"
      ],
      "text/plain": [
       "                Body  Sweetness     Smoky  Medicinal   Tobacco     Honey  \\\n",
       "Distillery                                                                 \n",
       "Aberfeldy  -0.075425  -0.407651  0.541729  -0.555252 -0.362738  0.891080   \n",
       "Aberlour    1.005673   0.994668 -0.622988  -0.555252 -0.362738  3.249015   \n",
       "AnCnoc     -1.156524   0.994668  0.541729  -0.555252 -0.362738  0.891080   \n",
       "Ardbeg      2.086771  -1.809970  2.871164   3.508717 -0.362738 -1.466855   \n",
       "Ardmore    -0.075425  -0.407651  0.541729  -0.555252 -0.362738 -0.287887   \n",
       "\n",
       "               Spicy     Winey     Nutty     Malty    Fruity    Floral  \\\n",
       "Distillery                                                               \n",
       "Aberfeldy  -0.491880  1.103454  0.654742  0.316064  0.255099  0.355664   \n",
       "Aberlour    2.071859  1.103454  0.654742  1.914975  1.545599  0.355664   \n",
       "AnCnoc     -1.773750 -1.053297  0.654742  0.316064  1.545599  0.355664   \n",
       "Ardbeg      0.789990 -1.053297 -0.569341  0.316064 -1.035401 -1.997191   \n",
       "Ardmore    -0.491880  0.025078  0.654742  1.914975 -1.035401 -0.820763   \n",
       "\n",
       "            Cluster  \n",
       "Distillery           \n",
       "Aberfeldy         0  \n",
       "Aberlour          0  \n",
       "AnCnoc            2  \n",
       "Ardbeg            1  \n",
       "Ardmore           3  "
      ]
     },
     "execution_count": 189,
     "metadata": {},
     "output_type": "execute_result"
    }
   ],
   "source": [
    "whiskies_cluster = KMeans(n_clusters=4, random_state=0)\n",
    "whiskies_cluster.fit(whiskies)\n",
    "\n",
    "whiskies['Cluster'] = whiskies_cluster.labels_\n",
    "\n",
    "whiskies.head()"
   ]
  },
  {
   "cell_type": "code",
   "execution_count": 190,
   "metadata": {},
   "outputs": [
    {
     "data": {
      "text/plain": [
       "9"
      ]
     },
     "execution_count": 190,
     "metadata": {},
     "output_type": "execute_result"
    }
   ],
   "source": [
    "whiskies_cluster.n_iter_"
   ]
  },
  {
   "cell_type": "markdown",
   "metadata": {},
   "source": [
    "When we use `n_iter_`, we see that k-means take 9 iterations to converge: it already identified 4 sufficiently distinct clusters and further iteration wouldn't improve it any further. The objective has been satisfied. The original algorithm by Lloyd uses this as the objective (minimizing the within-cluster sum of squares):  \n",
    "\n",
    "$\\sum\\limits^k_{i=1}\\sum\\limits_{x_j \\in S_i} (x_j - \\mu_i)^2$\n",
    "\n",
    "Where $\\mu_i$ is the mean of all the points in cluster $S_i$\n",
    "\n",
    "Now let's make this whole idea a lot more concrete by working with some simulated data in code."
   ]
  },
  {
   "cell_type": "markdown",
   "metadata": {},
   "source": [
    "### Mathematical Understanding on K-means\n",
    "In the following experiment, we'll observe how the initialization may not converge to the global optima by simulating some data and changing the seed number iteratively. Here's the code to generate some random data:"
   ]
  },
  {
   "cell_type": "code",
   "execution_count": 149,
   "metadata": {},
   "outputs": [],
   "source": [
    "# code randomize x1,y1,x2,y2, and save it in a object\n",
    "\n",
    "np.random.seed(2019)\n",
    "x1 = np.random.normal(0, 1, 50)\n",
    "y1 = np.random.normal(0, 1, 50)\n",
    "\n",
    "x2 = np.random.normal(3, 1, 50)\n",
    "y2 = np.random.normal(3, 1, 50)\n",
    "\n",
    "x3 = np.random.normal(0, 1, 50)\n",
    "y3 = np.random.normal(3, 1, 50)\n",
    "\n",
    "\n",
    "df = pd.DataFrame({'x':np.concatenate((x1, x2, x3)), 'y':np.concatenate((y1, y2, y3))})"
   ]
  },
  {
   "cell_type": "markdown",
   "metadata": {},
   "source": [
    "Plotting `x` and `y` from a data will yield the following:"
   ]
  },
  {
   "cell_type": "code",
   "execution_count": 150,
   "metadata": {},
   "outputs": [
    {
     "data": {
      "text/plain": [
       "<matplotlib.collections.PathCollection at 0x136cb2b8128>"
      ]
     },
     "execution_count": 150,
     "metadata": {},
     "output_type": "execute_result"
    },
    {
     "data": {
      "image/png": "[encoded data removed]",
      "text/plain": [
       "<Figure size 432x288 with 1 Axes>"
      ]
     },
     "metadata": {
      "needs_background": "light"
     },
     "output_type": "display_data"
    }
   ],
   "source": [
    "plt.scatter(df.x, df.y)"
   ]
  },
  {
   "cell_type": "markdown",
   "metadata": {},
   "source": [
    "By eye-balling the data, one may make a reasonable argument that there can be three clusters. I'm going to run `KMeans()` on the simulated data, specifying 3 so the k-means algorithm would use 3 number of clusters. Later, you may want to change the seed from 50 to 100 so you can get a visual idea of how the initialization of our centroids will lead to a rather different outcome:"
   ]
  },
  {
   "cell_type": "code",
   "execution_count": 151,
   "metadata": {},
   "outputs": [
    {
     "name": "stdout",
     "output_type": "stream",
     "text": [
      "[ 0.03705466 -0.40099858]\n",
      "[3.29894995 3.14333198]\n",
      "[0.21373481 2.9045718 ]\n"
     ]
    }
   ],
   "source": [
    "# code build kmeans clustering using k=3, print centers\n",
    "\n",
    "kmeans = KMeans(n_clusters=3, random_state=0)\n",
    "kmeans.fit(df)\n",
    "\n",
    "for center in kmeans.cluster_centers_:\n",
    "    print(center)"
   ]
  },
  {
   "cell_type": "markdown",
   "metadata": {},
   "source": [
    "With the kmeans model `kmeans`, we'll now plot our clusters (square) and map the color of our points to the assigned clusters from our `cluster_centers_`:"
   ]
  },
  {
   "cell_type": "code",
   "execution_count": 152,
   "metadata": {},
   "outputs": [
    {
     "data": {
      "text/plain": [
       "<matplotlib.collections.PathCollection at 0x136c8a39e80>"
      ]
     },
     "execution_count": 152,
     "metadata": {},
     "output_type": "execute_result"
    },
    {
     "data": {
      "image/png": "[encoded data removed]",
      "text/plain": [
       "<Figure size 432x288 with 1 Axes>"
      ]
     },
     "metadata": {
      "needs_background": "light"
     },
     "output_type": "display_data"
    }
   ],
   "source": [
    "# code plot x and y and adding center\n",
    "color_dict = {\n",
    "    '0' : 'red',\n",
    "    '1' : 'green',\n",
    "    '2' : 'blue',\n",
    "    '3' : 'black',\n",
    "    '4' : 'pink',\n",
    "    '5' : 'yellow',\n",
    "    '6' : 'brown'\n",
    "}\n",
    "\n",
    "df['cluster'] = kmeans.labels_\n",
    "df['colors'] = df['cluster'].astype('str').map(color_dict)\n",
    "\n",
    "plt.scatter(df.x, df.y, c=df.colors)"
   ]
  },
  {
   "cell_type": "markdown",
   "metadata": {},
   "source": [
    "The `kmeans` model we obtained also has attributes of the following:"
   ]
  },
  {
   "cell_type": "code",
   "execution_count": 153,
   "metadata": {},
   "outputs": [
    {
     "data": {
      "text/plain": [
       "265.09966778260093"
      ]
     },
     "execution_count": 153,
     "metadata": {},
     "output_type": "execute_result"
    }
   ],
   "source": [
    "kmeans.inertia_"
   ]
  },
  {
   "cell_type": "markdown",
   "metadata": {},
   "source": [
    "This figures as stated in the documentation:\n",
    "\n",
    "> Sum of squared distances of samples to their closest cluster center.\n",
    "\n",
    "This can serve as another indicator for the goodness of fit. It can be thought of as how homogeneous each member within the cluster to its designated cluster center - we want a clustering model that has strong properties of internal cohesion and maximal external separation and so a smaller sum of squared of their distance to the center indicates a good fit.\n",
    "\n",
    "Note that however, we can arbitrarily improve the \"goodness\" of model by just increasing *k*, so the quality as I've mentioned above is purely mathematical and may not reflect the user's requirement. Often times, as with the case of whiskies clustering, we want to consider external information when picking a good value of k.\n",
    "\n",
    "Run the function below and observe that our within sum of squares decrease as we naively increase the number of clusters - what we're looking for is a point where diminishing returns start to kick in (an elbow) and we start to lose substantial gains: we'll use that point as the number of clusters (*k*) for our kmeans model:\n"
   ]
  },
  {
   "cell_type": "code",
   "execution_count": 154,
   "metadata": {},
   "outputs": [
    {
     "data": {
      "image/png": "[encoded data removed]",
      "text/plain": [
       "<Figure size 432x288 with 1 Axes>"
      ]
     },
     "metadata": {
      "needs_background": "light"
     },
     "output_type": "display_data"
    }
   ],
   "source": [
    "def elbow_plot(data, n=9, cols=['x','y']):\n",
    "    y = []\n",
    "    K = range(1,n)\n",
    "    for k in K:\n",
    "        km = KMeans(n_clusters=k)\n",
    "        km = km.fit(data[cols])\n",
    "        y.append(km.inertia_)\n",
    "    plt.plot(y)\n",
    "    plt.xlabel('k')\n",
    "    plt.ylabel('Sum of squared distances')\n",
    "    \n",
    "elbow_plot(df)"
   ]
  },
  {
   "cell_type": "markdown",
   "metadata": {},
   "source": [
    "Since looking at the elbow method indicates that k=2 has the optimal trade off between information gain and number of k, we'll create our new kmeans model using k=2:"
   ]
  },
  {
   "cell_type": "code",
   "execution_count": 155,
   "metadata": {},
   "outputs": [
    {
     "name": "stdout",
     "output_type": "stream",
     "text": [
      "[-0.10526758  0.21250721]\n",
      "[1.99125469 3.22293684]\n"
     ]
    }
   ],
   "source": [
    "# code build kmeans clustering using k=3, print centers\n",
    "\n",
    "kmeans = KMeans(n_clusters=2, random_state=0)\n",
    "kmeans.fit(df[['x','y']])\n",
    "\n",
    "for center in kmeans.cluster_centers_:\n",
    "    print(center)"
   ]
  },
  {
   "cell_type": "code",
   "execution_count": 156,
   "metadata": {},
   "outputs": [
    {
     "data": {
      "text/plain": [
       "<matplotlib.collections.PathCollection at 0x136c8d31470>"
      ]
     },
     "execution_count": 156,
     "metadata": {},
     "output_type": "execute_result"
    },
    {
     "data": {
      "image/png": "[encoded data removed]",
      "text/plain": [
       "<Figure size 432x288 with 1 Axes>"
      ]
     },
     "metadata": {
      "needs_background": "light"
     },
     "output_type": "display_data"
    }
   ],
   "source": [
    "df['cluster'] = kmeans.labels_\n",
    "df['colors'] = df['cluster'].astype('str').map(color_dict)\n",
    "\n",
    "plt.scatter(df.x, df.y, c=df.colors)"
   ]
  },
  {
   "cell_type": "markdown",
   "metadata": {},
   "source": [
    "### Dive Deeper: Whiskies Recommendation\n",
    "Going back to our `whiskies` dataset. Assuming a long-time customer of ours reveal that him (and his spouse) enjoy Laphroig the most, what other whiskies can we recommend? Create each variable average for the cluster Laphroig is to understand the profile of this cluster."
   ]
  },
  {
   "cell_type": "markdown",
   "metadata": {},
   "source": [
    "## Hierarchical Clustering\n",
    "\n",
    "Another common approach for data clustering is hierarchical clustering. As we have learned in previous section, K-means clustering perform a clustering based on its centroid. In other terms, it is also called centroid-based clustering. While in hierarchical clustering, the approach focused on the similarity between each observation rather than the *center* of a cluster. Before implementing hierarchical clustering using `scikit-learn`, let's first understand the theory behind hierarchical clustering. In this course we will focus with buttom-up appoarch or we called it **agglomerative**. Each observation starts with its own cluster and it will merge together successively into one cluster."
   ]
  },
  {
   "cell_type": "markdown",
   "metadata": {},
   "source": [
    "The steps of performing the cluster can be summarized as follow:"
   ]
  },
  {
   "cell_type": "markdown",
   "metadata": {},
   "source": [
    "1. Calculate distance between each observation  \n",
    "2. Pair the closest observations and merge them together as 1 cluster  \n",
    "3. Address the new clustered observations as one observation, and repeat step 1 and 2  \n",
    "4. Repeat step 1 to 2 until it forms 1 cluster of the dataset  "
   ]
  },
  {
   "cell_type": "markdown",
   "metadata": {},
   "source": [
    "The most common way in calculating distance between each observation is by using Euclidean distance we have learned in the K-NN section. A shorter distance indicates similarity of observation, hence the most similar pairs of observation are then clustered together. A term commonly known in calculating cluster similarity in hierarchical clustering is called **linkage** and vary in implementation, some of the popular method for example:"
   ]
  },
  {
   "cell_type": "markdown",
   "metadata": {},
   "source": [
    "- **Complete linkage** minimizes the maximum distance between observations of pairs of clusters.  \n",
    "\n",
    "- **Average linkage** minimizes the average of the distances between all observations of pairs of clusters. (Similar to centroid)  \n",
    "\n",
    "- **Single linkage** minimizes the distance between the closest observations of pairs of clusters. (Similar to nearest neighbor)  \n",
    "\n",
    "- **Ward** minimizes the sum of squared variance difference between clusters  \n"
   ]
  },
  {
   "cell_type": "markdown",
   "metadata": {},
   "source": [
    "In using K-means, to finally create a cluster, you would need a defined K for the dataset. While in hierarchical, you can pick how how many cluster you'd like to have by interpreting the dendogram. It is a common visualization tools for hierarchical clustering. We'll jump into the implementation of this clustering approach in the next section."
   ]
  },
  {
   "cell_type": "markdown",
   "metadata": {},
   "source": [
    "### Clustering Market Segment"
   ]
  },
  {
   "cell_type": "markdown",
   "metadata": {},
   "source": [
    "Let's recall back to our online retail dataset we have used in our visualization course. I've saved monthly sales for each country. Now let's take a step back and try to answer this question: Knowing United Kingdom is our main market, how do we further segment our secondary market by looking at our monthly sales?\n",
    "\n",
    "Let's read our dataset in and jump into the know-how practice:"
   ]
  },
  {
   "cell_type": "code",
   "execution_count": 102,
   "metadata": {},
   "outputs": [
    {
     "data": {
      "text/html": [
       "<div>\n",
       "<style scoped>\n",
       "    .dataframe tbody tr th:only-of-type {\n",
       "        vertical-align: middle;\n",
       "    }\n",
       "\n",
       "    .dataframe tbody tr th {\n",
       "        vertical-align: top;\n",
       "    }\n",
       "\n",
       "    .dataframe thead th {\n",
       "        text-align: right;\n",
       "    }\n",
       "</style>\n",
       "<table border=\"1\" class=\"dataframe\">\n",
       "  <thead>\n",
       "    <tr style=\"text-align: right;\">\n",
       "      <th>Year</th>\n",
       "      <th>2010-12</th>\n",
       "      <th>2011-01</th>\n",
       "      <th>2011-02</th>\n",
       "      <th>2011-03</th>\n",
       "      <th>2011-04</th>\n",
       "      <th>2011-05</th>\n",
       "      <th>2011-06</th>\n",
       "    </tr>\n",
       "    <tr>\n",
       "      <th>Country</th>\n",
       "      <th></th>\n",
       "      <th></th>\n",
       "      <th></th>\n",
       "      <th></th>\n",
       "      <th></th>\n",
       "      <th></th>\n",
       "      <th></th>\n",
       "    </tr>\n",
       "  </thead>\n",
       "  <tbody>\n",
       "    <tr>\n",
       "      <th>Australia</th>\n",
       "      <td>1005.10</td>\n",
       "      <td>9017.71</td>\n",
       "      <td>14627.47</td>\n",
       "      <td>17055.29</td>\n",
       "      <td>333.40</td>\n",
       "      <td>13628.51</td>\n",
       "      <td>23403.81</td>\n",
       "    </tr>\n",
       "    <tr>\n",
       "      <th>Austria</th>\n",
       "      <td>257.04</td>\n",
       "      <td>0.00</td>\n",
       "      <td>518.36</td>\n",
       "      <td>1708.12</td>\n",
       "      <td>680.78</td>\n",
       "      <td>1249.43</td>\n",
       "      <td>-24.20</td>\n",
       "    </tr>\n",
       "    <tr>\n",
       "      <th>Bahrain</th>\n",
       "      <td>205.74</td>\n",
       "      <td>-205.74</td>\n",
       "      <td>0.00</td>\n",
       "      <td>0.00</td>\n",
       "      <td>0.00</td>\n",
       "      <td>548.40</td>\n",
       "      <td>0.00</td>\n",
       "    </tr>\n",
       "    <tr>\n",
       "      <th>Belgium</th>\n",
       "      <td>1809.91</td>\n",
       "      <td>1154.05</td>\n",
       "      <td>2161.32</td>\n",
       "      <td>3333.58</td>\n",
       "      <td>1954.15</td>\n",
       "      <td>2727.00</td>\n",
       "      <td>4110.92</td>\n",
       "    </tr>\n",
       "    <tr>\n",
       "      <th>Brazil</th>\n",
       "      <td>0.00</td>\n",
       "      <td>0.00</td>\n",
       "      <td>0.00</td>\n",
       "      <td>0.00</td>\n",
       "      <td>1143.60</td>\n",
       "      <td>0.00</td>\n",
       "      <td>0.00</td>\n",
       "    </tr>\n",
       "  </tbody>\n",
       "</table>\n",
       "</div>"
      ],
      "text/plain": [
       "Year       2010-12  2011-01   2011-02   2011-03  2011-04   2011-05   2011-06\n",
       "Country                                                                     \n",
       "Australia  1005.10  9017.71  14627.47  17055.29   333.40  13628.51  23403.81\n",
       "Austria     257.04     0.00    518.36   1708.12   680.78   1249.43    -24.20\n",
       "Bahrain     205.74  -205.74      0.00      0.00     0.00    548.40      0.00\n",
       "Belgium    1809.91  1154.05   2161.32   3333.58  1954.15   2727.00   4110.92\n",
       "Brazil        0.00     0.00      0.00      0.00  1143.60      0.00      0.00"
      ]
     },
     "execution_count": 102,
     "metadata": {},
     "output_type": "execute_result"
    }
   ],
   "source": [
    "monthly_sales = pd.read_pickle('data_input/country_sales.pkl')\n",
    "monthly_sales = monthly_sales.fillna(value=0)\n",
    "monthly_sales.head()"
   ]
  },
  {
   "cell_type": "markdown",
   "metadata": {},
   "source": [
    "Since we're trying to segment the second market, we'll remove United Kingdom sales record from our dataset and we're left with 37 countries:"
   ]
  },
  {
   "cell_type": "code",
   "execution_count": 103,
   "metadata": {},
   "outputs": [
    {
     "data": {
      "text/plain": [
       "(37, 7)"
      ]
     },
     "execution_count": 103,
     "metadata": {},
     "output_type": "execute_result"
    }
   ],
   "source": [
    "secondary_monthly_sales = monthly_sales[monthly_sales.index != 'United Kingdom']\n",
    "secondary_monthly_sales.shape"
   ]
  },
  {
   "cell_type": "markdown",
   "metadata": {},
   "source": [
    "Recall how in dealing with observation distance, we need to perform data scaling using `StandardScaler()` for our dataset:"
   ]
  },
  {
   "cell_type": "code",
   "execution_count": 104,
   "metadata": {},
   "outputs": [],
   "source": [
    "monthly_sales_scaled = StandardScaler().fit_transform(secondary_monthly_sales)"
   ]
  },
  {
   "cell_type": "markdown",
   "metadata": {},
   "source": [
    "A dendogram gives you a clustered data point with similarity metrics based on the method of our choice. A y axis plotted in a dendogram give you the idea of how similar is one cluster to another measured by linkage linkage method of your choice we have mentioned in the first section. We'll use `scipy`to first create a linkage matrix:"
   ]
  },
  {
   "cell_type": "code",
   "execution_count": 105,
   "metadata": {},
   "outputs": [
    {
     "data": {
      "text/plain": [
       "(36, 4)"
      ]
     },
     "execution_count": 105,
     "metadata": {},
     "output_type": "execute_result"
    }
   ],
   "source": [
    "link = shc.linkage(monthly_sales_scaled, method='centroid')\n",
    "\n",
    "link.shape"
   ]
  },
  {
   "cell_type": "markdown",
   "metadata": {},
   "source": [
    "As stated in the official documentation of scipy `sch.linkage`:\n",
    "\n",
    "> A  by 4 matrix Z is returned. At the -th iteration, clusters with indices Z[i, 0] and Z[i, 1] are combined to form cluster. The distance between clusters Z[i, 0] and Z[i, 1] is given by Z[i, 2]. The fourth value Z[i, 3] represents the number of original observations in the newly formed cluster.\n",
    "\n",
    "Let's take a look at our first cluster:"
   ]
  },
  {
   "cell_type": "code",
   "execution_count": 118,
   "metadata": {},
   "outputs": [
    {
     "data": {
      "text/plain": [
       "array([2.80000000e+01, 3.40000000e+01, 3.08386626e-02, 2.00000000e+00])"
      ]
     },
     "execution_count": 118,
     "metadata": {},
     "output_type": "execute_result"
    }
   ],
   "source": [
    "link[0]"
   ]
  },
  {
   "cell_type": "markdown",
   "metadata": {},
   "source": [
    "The first and second element indicate the country of index 28 and 34, `Unit` and `Saudi Arabia`:"
   ]
  },
  {
   "cell_type": "code",
   "execution_count": 122,
   "metadata": {},
   "outputs": [
    {
     "data": {
      "text/plain": [
       "28    Saudi Arabia\n",
       "34            Unit\n",
       "Name: Country, dtype: object"
      ]
     },
     "execution_count": 122,
     "metadata": {},
     "output_type": "execute_result"
    }
   ],
   "source": [
    "temp = secondary_monthly_sales.reset_index()\n",
    "temp = temp[temp.index.isin([28,34])]['Country']\n",
    "temp"
   ]
  },
  {
   "cell_type": "markdown",
   "metadata": {},
   "source": [
    "Recall how we can calculate Euclidean distance using the following formula:\n",
    "\n",
    "dist(A, B) = $\\sqrt{\\sum\\limits^{m}_{i=1}(x_i-y_i)^2}$\n",
    "\n",
    "Now we are going to take each monthly sales from Saudi Arabia and Unit and calculate the distance between each observation:"
   ]
  },
  {
   "cell_type": "code",
   "execution_count": 128,
   "metadata": {},
   "outputs": [
    {
     "data": {
      "text/plain": [
       "0.030838662609437555"
      ]
     },
     "execution_count": 128,
     "metadata": {},
     "output_type": "execute_result"
    }
   ],
   "source": [
    "dist = 0\n",
    "for i in range(0, 7):\n",
    "    x = monthly_sales_scaled[28,i]\n",
    "    y = monthly_sales_scaled[34,i]\n",
    "    dist += (x-y)**2\n",
    "    \n",
    "math.sqrt(dist)"
   ]
  },
  {
   "cell_type": "markdown",
   "metadata": {},
   "source": [
    "See how it has the exact same value as our third element in our linkage matrix? It is, fundamentally doing a simple calculation we have learned in the past weeks and store it as a simple matrix. This newly formed cluster between Saudi Arabia and Unit is then merged as the 38th cluster referred in the next agglomerative steps. So how does this value can help us? `scipy` package also shipped in a `dendogram()` method to easily pass the linkage matrix into an interpretable dendogram:"
   ]
  },
  {
   "cell_type": "code",
   "execution_count": 142,
   "metadata": {
    "scrolled": false
   },
   "outputs": [
    {
     "data": {
      "image/png": "[encoded data removed]",
      "text/plain": [
       "<Figure size 1080x504 with 1 Axes>"
      ]
     },
     "metadata": {
      "needs_background": "light"
     },
     "output_type": "display_data"
    }
   ],
   "source": [
    "plt.figure(figsize=(15, 7))\n",
    "plt.title(\"Wholesale Dendograms\")\n",
    "dend = shc.dendrogram(link, labels=secondary_monthly_sales.index)"
   ]
  },
  {
   "cell_type": "markdown",
   "metadata": {},
   "source": [
    "Within the above dendogram, you'll see the first branch was shown a bit below 7 in y axis, that will divide our countries into two major cluster:\n",
    "- Australia, Netherlands, Germany, ERIE, France\n",
    "- The rest of the countries  \n",
    "\n",
    "This top cluster, is also recorded within our linkage matrix as the last, 36th, element:"
   ]
  },
  {
   "cell_type": "code",
   "execution_count": 134,
   "metadata": {},
   "outputs": [
    {
     "data": {
      "text/plain": [
       "array([68.        , 71.        ,  6.70713875, 37.        ])"
      ]
     },
     "execution_count": 134,
     "metadata": {},
     "output_type": "execute_result"
    }
   ],
   "source": [
    "link[35]"
   ]
  },
  {
   "cell_type": "markdown",
   "metadata": {},
   "source": [
    "If you refer back to our original matrix, the 68th and 71st cluster will be well traced back to each of the observation.\n",
    "\n",
    "**Dive Deeper:**\n",
    "Try and reproduce the distance of `6.7` between cluster 68th and 71st by using centroid method and calculate the distance using euclidean distance: "
   ]
  },
  {
   "cell_type": "code",
   "execution_count": 135,
   "metadata": {},
   "outputs": [],
   "source": [
    "# Your answer here\n",
    "\n"
   ]
  },
  {
   "cell_type": "markdown",
   "metadata": {},
   "source": [
    "By generating a dendogram, we will be given a more holistic approach of how do we divide our countries based on similarity of each points. You would say that there are a significant difference from the cluster on the far right to the one cluttered on the middle. While on K-means, you are required to specify an optimum K to create a cluster, in hierarchical clustering, the cluster analysis will be based on how you would interpret the dendogram and select number of cluster afterward.\n",
    "\n",
    "By deciding how many cluster we'd like our data to be divided, we can easily understand how does it separate each observations based on the similarity and how it gives us a better idea of how each of it differ to each other.\n",
    "\n",
    "**Discussion:**\n",
    "\n",
    "If you were to assign number of cluster for the store marketing campaign strategy, how many cluster will you established? Why?"
   ]
  },
  {
   "cell_type": "markdown",
   "metadata": {},
   "source": [
    "### Assigning Cluster Segment\n",
    "\n",
    "Say for example we'd like to have the cluster divided into 4 clusters. In our model, we see that the 4 cluster will be separated as: \n",
    "\n",
    "- Australia\n",
    "- Netherlands  \n",
    "- Germany, ERIE, and France \n",
    "- The rest of the countries  \n",
    "\n",
    "If we look in our dendogram we'll see if we cut our tree nodes in order to get 4 cluster, we'd like to cut it with the cophenetic distance above 4.2 (you can check the exact figure by checking the linkage matrix). To then separate our observations into its cluster accordingly, we can use `fcluster` method from `scipy`:"
   ]
  },
  {
   "cell_type": "code",
   "execution_count": 186,
   "metadata": {},
   "outputs": [
    {
     "name": "stderr",
     "output_type": "stream",
     "text": [
      "C:\\Users\\tiara\\Anaconda3\\envs\\tokopedia\\lib\\site-packages\\ipykernel_launcher.py:3: SettingWithCopyWarning: \n",
      "A value is trying to be set on a copy of a slice from a DataFrame.\n",
      "Try using .loc[row_indexer,col_indexer] = value instead\n",
      "\n",
      "See the caveats in the documentation: http://pandas.pydata.org/pandas-docs/stable/indexing.html#indexing-view-versus-copy\n",
      "  This is separate from the ipykernel package so we can avoid doing imports until\n"
     ]
    },
    {
     "data": {
      "text/html": [
       "<div>\n",
       "<style scoped>\n",
       "    .dataframe tbody tr th:only-of-type {\n",
       "        vertical-align: middle;\n",
       "    }\n",
       "\n",
       "    .dataframe tbody tr th {\n",
       "        vertical-align: top;\n",
       "    }\n",
       "\n",
       "    .dataframe thead th {\n",
       "        text-align: right;\n",
       "    }\n",
       "</style>\n",
       "<table border=\"1\" class=\"dataframe\">\n",
       "  <thead>\n",
       "    <tr style=\"text-align: right;\">\n",
       "      <th>Year</th>\n",
       "      <th>2010-12</th>\n",
       "      <th>2011-01</th>\n",
       "      <th>2011-02</th>\n",
       "      <th>2011-03</th>\n",
       "      <th>2011-04</th>\n",
       "      <th>2011-05</th>\n",
       "      <th>2011-06</th>\n",
       "      <th>Cluster</th>\n",
       "    </tr>\n",
       "    <tr>\n",
       "      <th>Country</th>\n",
       "      <th></th>\n",
       "      <th></th>\n",
       "      <th></th>\n",
       "      <th></th>\n",
       "      <th></th>\n",
       "      <th></th>\n",
       "      <th></th>\n",
       "      <th></th>\n",
       "    </tr>\n",
       "  </thead>\n",
       "  <tbody>\n",
       "    <tr>\n",
       "      <th>Australia</th>\n",
       "      <td>1005.10</td>\n",
       "      <td>9017.71</td>\n",
       "      <td>14627.47</td>\n",
       "      <td>17055.29</td>\n",
       "      <td>333.40</td>\n",
       "      <td>13628.51</td>\n",
       "      <td>23403.81</td>\n",
       "      <td>4</td>\n",
       "    </tr>\n",
       "    <tr>\n",
       "      <th>Austria</th>\n",
       "      <td>257.04</td>\n",
       "      <td>0.00</td>\n",
       "      <td>518.36</td>\n",
       "      <td>1708.12</td>\n",
       "      <td>680.78</td>\n",
       "      <td>1249.43</td>\n",
       "      <td>-24.20</td>\n",
       "      <td>1</td>\n",
       "    </tr>\n",
       "    <tr>\n",
       "      <th>Bahrain</th>\n",
       "      <td>205.74</td>\n",
       "      <td>-205.74</td>\n",
       "      <td>0.00</td>\n",
       "      <td>0.00</td>\n",
       "      <td>0.00</td>\n",
       "      <td>548.40</td>\n",
       "      <td>0.00</td>\n",
       "      <td>1</td>\n",
       "    </tr>\n",
       "    <tr>\n",
       "      <th>Belgium</th>\n",
       "      <td>1809.91</td>\n",
       "      <td>1154.05</td>\n",
       "      <td>2161.32</td>\n",
       "      <td>3333.58</td>\n",
       "      <td>1954.15</td>\n",
       "      <td>2727.00</td>\n",
       "      <td>4110.92</td>\n",
       "      <td>1</td>\n",
       "    </tr>\n",
       "    <tr>\n",
       "      <th>Brazil</th>\n",
       "      <td>0.00</td>\n",
       "      <td>0.00</td>\n",
       "      <td>0.00</td>\n",
       "      <td>0.00</td>\n",
       "      <td>1143.60</td>\n",
       "      <td>0.00</td>\n",
       "      <td>0.00</td>\n",
       "      <td>1</td>\n",
       "    </tr>\n",
       "  </tbody>\n",
       "</table>\n",
       "</div>"
      ],
      "text/plain": [
       "Year       2010-12  2011-01   2011-02   2011-03  2011-04   2011-05   2011-06  \\\n",
       "Country                                                                        \n",
       "Australia  1005.10  9017.71  14627.47  17055.29   333.40  13628.51  23403.81   \n",
       "Austria     257.04     0.00    518.36   1708.12   680.78   1249.43    -24.20   \n",
       "Bahrain     205.74  -205.74      0.00      0.00     0.00    548.40      0.00   \n",
       "Belgium    1809.91  1154.05   2161.32   3333.58  1954.15   2727.00   4110.92   \n",
       "Brazil        0.00     0.00      0.00      0.00  1143.60      0.00      0.00   \n",
       "\n",
       "Year       Cluster  \n",
       "Country             \n",
       "Australia        4  \n",
       "Austria          1  \n",
       "Bahrain          1  \n",
       "Belgium          1  \n",
       "Brazil           1  "
      ]
     },
     "execution_count": 186,
     "metadata": {},
     "output_type": "execute_result"
    }
   ],
   "source": [
    "T = shc.fcluster(link, 4.2, criterion='distance')\n",
    "\n",
    "secondary_monthly_sales['Cluster'] = T\n",
    "\n",
    "secondary_monthly_sales.head()"
   ]
  },
  {
   "cell_type": "markdown",
   "metadata": {},
   "source": [
    "In this form, it's way easier to then subset our dataset to get a specific members of each cluster and ease your data exploratory phase."
   ]
  },
  {
   "cell_type": "markdown",
   "metadata": {},
   "source": [
    "### Dive Deeper: Comparing Cluster Results\n",
    "\n",
    "Now going back to our `whiskies` dataset, in the previous dive deeper section, you would have a set of wine selection that you can recommend customer that enjoys Laphroig. Using Hierarchical clustering, which next wine would you then recommend for a customer that enjoys Laphroig? Try to create a dendogram to get a holistic views of the cluster similarity with each other."
   ]
  }
 ],
 "metadata": {
  "kernelspec": {
   "display_name": "Python [conda env:tokopedia] *",
   "language": "python",
   "name": "conda-env-tokopedia-py"
  },
  "language_info": {
   "codemirror_mode": {
    "name": "ipython",
    "version": 3
   },
   "file_extension": ".py",
   "mimetype": "text/x-python",
   "name": "python",
   "nbconvert_exporter": "python",
   "pygments_lexer": "ipython3",
   "version": "3.7.3"
  },
  "toc": {
   "base_numbering": 1,
   "nav_menu": {},
   "number_sections": true,
   "sideBar": true,
   "skip_h1_title": false,
   "title_cell": "Table of Contents",
   "title_sidebar": "Contents",
   "toc_cell": false,
   "toc_position": {},
   "toc_section_display": true,
   "toc_window_display": true
  }
 },
 "nbformat": 4,
 "nbformat_minor": 2
}
