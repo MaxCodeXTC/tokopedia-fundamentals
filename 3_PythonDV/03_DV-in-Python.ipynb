{
 "cells": [
  {
   "cell_type": "markdown",
   "metadata": {},
   "source": [
    "This coursebook is part of Tokopedia Python for Data Analytics course prepared by team at [Algoritma](https://algorit.ma/). Algoritma is a data science education center based in Jakarta. We organize workshops and training programs to help working professionals and students gain mastery in various data science sub-fields: data visualization, machine learning, data modeling, statistical inference etc. This coursebook is intended for a restricted audience only, i.e. the individuals and organization having received this coursebook directly from Algoritma. It may not be reproduced, distributed, translated or adapted in any form outside these individuals and organizations without permission."
   ]
  },
  {
   "cell_type": "markdown",
   "metadata": {},
   "source": [
    "## Training Objectives\n",
    "\n",
    "The primary objectives in this coursebook is to provide a full hands-on experience in using visual exploratory techniques to help participants gain full proficiency in data visualization tools in Python. The library we'll be using is called Bokeh, an interactive visualization library.\n",
    "\n",
    "The objectives of this training is divided into 2 main focus:\n",
    "\n",
    "- **Introduction to Bokeh**\n",
    "- Grammar of graphics\n",
    "- Plotting parameters\n",
    "- Adding annotations\n",
    "- **Plotting Essentials**\n",
    "- Data Sources and Transformations\n",
    "- Basic plotting\n",
    "- Choosing appropriate plot\n",
    "- **Enhancing Plot**\n",
    "- \n",
    "\n",
    "At the end of this course, we'll be working with **Learn by Building** module as their graded assignment. You'll be given a dataset to apply what you've learned. Create a visualization with the appropriate annotations and aestethics to generate a powerful insight and communicate a story."
   ]
  },
  {
   "cell_type": "markdown",
   "metadata": {},
   "source": [
    "## Introduction to Bokeh\n",
    "\n",
    "### Why Learn Bokeh?\n",
    "\n",
    "Visualizing dataset using any programming language can have a higher learning curve than most tools. Some of you might wonder: why use Python to visualize when you can use a drag-and-drop tools such as Tableau or Power BI. There are 2 main points of why we should learn this:\n",
    "- Reproducibility\n",
    "- Customization\n",
    "- Data Streaming\n",
    "\n",
    "Since we'll be creating our own visualization from scratch. It gives us limitless capability to create any kind of visualization that we can imagine. There are also limitless variance of the plot that we can try, iterating through the plot types can give us an unexplored insight we never think of, this process is called: **visual exploratory data analysis**. Once we're satisfied with the result, the plot can always be reproduced with the same script telling the same stories from different data variance.\n",
    "\n",
    "In this hands-on exercise, we'll be going through a visual exploratory data analysis process drawing out all available insights within our dataset."
   ]
  },
  {
   "cell_type": "markdown",
   "metadata": {},
   "source": [
    "### Grammar of Graphics\n",
    "\n",
    "Bokeh adopt a versatile system where user can alter graphic components layer by layer with a high level of modularity. On top of that, it's also able to be rendered within HTML, giving a flexibility of the plots to be presented in a standard browser.\n",
    "\n",
    "To understand the grammar of graphics, we'll use one of the sample data provided by Bokeh library:"
   ]
  },
  {
   "cell_type": "code",
   "execution_count": 1,
   "metadata": {},
   "outputs": [
    {
     "data": {
      "text/plain": [
       "mpg       float64\n",
       "cyl         int64\n",
       "displ     float64\n",
       "hp          int64\n",
       "weight      int64\n",
       "accel     float64\n",
       "yr          int64\n",
       "origin      int64\n",
       "name       object\n",
       "dtype: object"
      ]
     },
     "execution_count": 1,
     "metadata": {},
     "output_type": "execute_result"
    }
   ],
   "source": [
    "from bokeh.sampledata.autompg import autompg\n",
    "\n",
    "autompg.dtypes"
   ]
  },
  {
   "cell_type": "markdown",
   "metadata": {},
   "source": [
    "In order to produce a bokeh plot in a notebook, we need to use `output_notebook()` function in order to make the java script compatible with Jupyter's notebook."
   ]
  },
  {
   "cell_type": "code",
   "execution_count": 2,
   "metadata": {
    "scrolled": false
   },
   "outputs": [
    {
     "data": {
      "text/html": [
       "\n",
       "    <div class=\"bk-root\">\n",
       "        <a href=\"https://bokeh.pydata.org\" target=\"_blank\" class=\"bk-logo bk-logo-small bk-logo-notebook\"></a>\n",
       "        <span id=\"1001\">Loading BokehJS ...</span>\n",
       "    </div>"
      ]
     },
     "metadata": {},
     "output_type": "display_data"
    },
    {
     "data": {
      "application/javascript": [
       "\n",
       "(function(root) {\n",
       "  function now() {\n",
       "    return new Date();\n",
       "  }\n",
       "\n",
       "  var force = true;\n",
       "\n",
       "  if (typeof root._bokeh_onload_callbacks === \"undefined\" || force === true) {\n",
       "    root._bokeh_onload_callbacks = [];\n",
       "    root._bokeh_is_loading = undefined;\n",
       "  }\n",
       "\n",
       "  var JS_MIME_TYPE = 'application/javascript';\n",
       "  var HTML_MIME_TYPE = 'text/html';\n",
       "  var EXEC_MIME_TYPE = 'application/vnd.bokehjs_exec.v0+json';\n",
       "  var CLASS_NAME = 'output_bokeh rendered_html';\n",
       "\n",
       "  /**\n",
       "   * Render data to the DOM node\n",
       "   */\n",
       "  function render(props, node) {\n",
       "    var script = document.createElement(\"script\");\n",
       "    node.appendChild(script);\n",
       "  }\n",
       "\n",
       "  /**\n",
       "   * Handle when an output is cleared or removed\n",
       "   */\n",
       "  function handleClearOutput(event, handle) {\n",
       "    var cell = handle.cell;\n",
       "\n",
       "    var id = cell.output_area._bokeh_element_id;\n",
       "    var server_id = cell.output_area._bokeh_server_id;\n",
       "    // Clean up Bokeh references\n",
       "    if (id != null && id in Bokeh.index) {\n",
       "      Bokeh.index[id].model.document.clear();\n",
       "      delete Bokeh.index[id];\n",
       "    }\n",
       "\n",
       "    if (server_id !== undefined) {\n",
       "      // Clean up Bokeh references\n",
       "      var cmd = \"from bokeh.io.state import curstate; print(curstate().uuid_to_server['\" + server_id + \"'].get_sessions()[0].document.roots[0]._id)\";\n",
       "      cell.notebook.kernel.execute(cmd, {\n",
       "        iopub: {\n",
       "          output: function(msg) {\n",
       "            var id = msg.content.text.trim();\n",
       "            if (id in Bokeh.index) {\n",
       "              Bokeh.index[id].model.document.clear();\n",
       "              delete Bokeh.index[id];\n",
       "            }\n",
       "          }\n",
       "        }\n",
       "      });\n",
       "      // Destroy server and session\n",
       "      var cmd = \"import bokeh.io.notebook as ion; ion.destroy_server('\" + server_id + \"')\";\n",
       "      cell.notebook.kernel.execute(cmd);\n",
       "    }\n",
       "  }\n",
       "\n",
       "  /**\n",
       "   * Handle when a new output is added\n",
       "   */\n",
       "  function handleAddOutput(event, handle) {\n",
       "    var output_area = handle.output_area;\n",
       "    var output = handle.output;\n",
       "\n",
       "    // limit handleAddOutput to display_data with EXEC_MIME_TYPE content only\n",
       "    if ((output.output_type != \"display_data\") || (!output.data.hasOwnProperty(EXEC_MIME_TYPE))) {\n",
       "      return\n",
       "    }\n",
       "\n",
       "    var toinsert = output_area.element.find(\".\" + CLASS_NAME.split(' ')[0]);\n",
       "\n",
       "    if (output.metadata[EXEC_MIME_TYPE][\"id\"] !== undefined) {\n",
       "      toinsert[toinsert.length - 1].firstChild.textContent = output.data[JS_MIME_TYPE];\n",
       "      // store reference to embed id on output_area\n",
       "      output_area._bokeh_element_id = output.metadata[EXEC_MIME_TYPE][\"id\"];\n",
       "    }\n",
       "    if (output.metadata[EXEC_MIME_TYPE][\"server_id\"] !== undefined) {\n",
       "      var bk_div = document.createElement(\"div\");\n",
       "      bk_div.innerHTML = output.data[HTML_MIME_TYPE];\n",
       "      var script_attrs = bk_div.children[0].attributes;\n",
       "      for (var i = 0; i < script_attrs.length; i++) {\n",
       "        toinsert[toinsert.length - 1].firstChild.setAttribute(script_attrs[i].name, script_attrs[i].value);\n",
       "      }\n",
       "      // store reference to server id on output_area\n",
       "      output_area._bokeh_server_id = output.metadata[EXEC_MIME_TYPE][\"server_id\"];\n",
       "    }\n",
       "  }\n",
       "\n",
       "  function register_renderer(events, OutputArea) {\n",
       "\n",
       "    function append_mime(data, metadata, element) {\n",
       "      // create a DOM node to render to\n",
       "      var toinsert = this.create_output_subarea(\n",
       "        metadata,\n",
       "        CLASS_NAME,\n",
       "        EXEC_MIME_TYPE\n",
       "      );\n",
       "      this.keyboard_manager.register_events(toinsert);\n",
       "      // Render to node\n",
       "      var props = {data: data, metadata: metadata[EXEC_MIME_TYPE]};\n",
       "      render(props, toinsert[toinsert.length - 1]);\n",
       "      element.append(toinsert);\n",
       "      return toinsert\n",
       "    }\n",
       "\n",
       "    /* Handle when an output is cleared or removed */\n",
       "    events.on('clear_output.CodeCell', handleClearOutput);\n",
       "    events.on('delete.Cell', handleClearOutput);\n",
       "\n",
       "    /* Handle when a new output is added */\n",
       "    events.on('output_added.OutputArea', handleAddOutput);\n",
       "\n",
       "    /**\n",
       "     * Register the mime type and append_mime function with output_area\n",
       "     */\n",
       "    OutputArea.prototype.register_mime_type(EXEC_MIME_TYPE, append_mime, {\n",
       "      /* Is output safe? */\n",
       "      safe: true,\n",
       "      /* Index of renderer in `output_area.display_order` */\n",
       "      index: 0\n",
       "    });\n",
       "  }\n",
       "\n",
       "  // register the mime type if in Jupyter Notebook environment and previously unregistered\n",
       "  if (root.Jupyter !== undefined) {\n",
       "    var events = require('base/js/events');\n",
       "    var OutputArea = require('notebook/js/outputarea').OutputArea;\n",
       "\n",
       "    if (OutputArea.prototype.mime_types().indexOf(EXEC_MIME_TYPE) == -1) {\n",
       "      register_renderer(events, OutputArea);\n",
       "    }\n",
       "  }\n",
       "\n",
       "  \n",
       "  if (typeof (root._bokeh_timeout) === \"undefined\" || force === true) {\n",
       "    root._bokeh_timeout = Date.now() + 5000;\n",
       "    root._bokeh_failed_load = false;\n",
       "  }\n",
       "\n",
       "  var NB_LOAD_WARNING = {'data': {'text/html':\n",
       "     \"<div style='background-color: #fdd'>\\n\"+\n",
       "     \"<p>\\n\"+\n",
       "     \"BokehJS does not appear to have successfully loaded. If loading BokehJS from CDN, this \\n\"+\n",
       "     \"may be due to a slow or bad network connection. Possible fixes:\\n\"+\n",
       "     \"</p>\\n\"+\n",
       "     \"<ul>\\n\"+\n",
       "     \"<li>re-rerun `output_notebook()` to attempt to load from CDN again, or</li>\\n\"+\n",
       "     \"<li>use INLINE resources instead, as so:</li>\\n\"+\n",
       "     \"</ul>\\n\"+\n",
       "     \"<code>\\n\"+\n",
       "     \"from bokeh.resources import INLINE\\n\"+\n",
       "     \"output_notebook(resources=INLINE)\\n\"+\n",
       "     \"</code>\\n\"+\n",
       "     \"</div>\"}};\n",
       "\n",
       "  function display_loaded() {\n",
       "    var el = document.getElementById(\"1001\");\n",
       "    if (el != null) {\n",
       "      el.textContent = \"BokehJS is loading...\";\n",
       "    }\n",
       "    if (root.Bokeh !== undefined) {\n",
       "      if (el != null) {\n",
       "        el.textContent = \"BokehJS \" + root.Bokeh.version + \" successfully loaded.\";\n",
       "      }\n",
       "    } else if (Date.now() < root._bokeh_timeout) {\n",
       "      setTimeout(display_loaded, 100)\n",
       "    }\n",
       "  }\n",
       "\n",
       "\n",
       "  function run_callbacks() {\n",
       "    try {\n",
       "      root._bokeh_onload_callbacks.forEach(function(callback) {\n",
       "        if (callback != null)\n",
       "          callback();\n",
       "      });\n",
       "    } finally {\n",
       "      delete root._bokeh_onload_callbacks\n",
       "    }\n",
       "    console.debug(\"Bokeh: all callbacks have finished\");\n",
       "  }\n",
       "\n",
       "  function load_libs(css_urls, js_urls, callback) {\n",
       "    if (css_urls == null) css_urls = [];\n",
       "    if (js_urls == null) js_urls = [];\n",
       "\n",
       "    root._bokeh_onload_callbacks.push(callback);\n",
       "    if (root._bokeh_is_loading > 0) {\n",
       "      console.debug(\"Bokeh: BokehJS is being loaded, scheduling callback at\", now());\n",
       "      return null;\n",
       "    }\n",
       "    if (js_urls == null || js_urls.length === 0) {\n",
       "      run_callbacks();\n",
       "      return null;\n",
       "    }\n",
       "    console.debug(\"Bokeh: BokehJS not loaded, scheduling load and callback at\", now());\n",
       "    root._bokeh_is_loading = css_urls.length + js_urls.length;\n",
       "\n",
       "    function on_load() {\n",
       "      root._bokeh_is_loading--;\n",
       "      if (root._bokeh_is_loading === 0) {\n",
       "        console.debug(\"Bokeh: all BokehJS libraries/stylesheets loaded\");\n",
       "        run_callbacks()\n",
       "      }\n",
       "    }\n",
       "\n",
       "    function on_error() {\n",
       "      console.error(\"failed to load \" + url);\n",
       "    }\n",
       "\n",
       "    for (var i = 0; i < css_urls.length; i++) {\n",
       "      var url = css_urls[i];\n",
       "      const element = document.createElement(\"link\");\n",
       "      element.onload = on_load;\n",
       "      element.onerror = on_error;\n",
       "      element.rel = \"stylesheet\";\n",
       "      element.type = \"text/css\";\n",
       "      element.href = url;\n",
       "      console.debug(\"Bokeh: injecting link tag for BokehJS stylesheet: \", url);\n",
       "      document.body.appendChild(element);\n",
       "    }\n",
       "\n",
       "    for (var i = 0; i < js_urls.length; i++) {\n",
       "      var url = js_urls[i];\n",
       "      var element = document.createElement('script');\n",
       "      element.onload = on_load;\n",
       "      element.onerror = on_error;\n",
       "      element.async = false;\n",
       "      element.src = url;\n",
       "      console.debug(\"Bokeh: injecting script tag for BokehJS library: \", url);\n",
       "      document.head.appendChild(element);\n",
       "    }\n",
       "  };var element = document.getElementById(\"1001\");\n",
       "  if (element == null) {\n",
       "    console.error(\"Bokeh: ERROR: autoload.js configured with elementid '1001' but no matching script tag was found. \")\n",
       "    return false;\n",
       "  }\n",
       "\n",
       "  function inject_raw_css(css) {\n",
       "    const element = document.createElement(\"style\");\n",
       "    element.appendChild(document.createTextNode(css));\n",
       "    document.body.appendChild(element);\n",
       "  }\n",
       "\n",
       "  var js_urls = [\"https://cdn.pydata.org/bokeh/release/bokeh-1.2.0.min.js\", \"https://cdn.pydata.org/bokeh/release/bokeh-widgets-1.2.0.min.js\", \"https://cdn.pydata.org/bokeh/release/bokeh-tables-1.2.0.min.js\", \"https://cdn.pydata.org/bokeh/release/bokeh-gl-1.2.0.min.js\"];\n",
       "  var css_urls = [\"https://cdn.pydata.org/bokeh/release/bokeh-1.2.0.min.css\", \"https://cdn.pydata.org/bokeh/release/bokeh-widgets-1.2.0.min.css\", \"https://cdn.pydata.org/bokeh/release/bokeh-tables-1.2.0.min.css\"];\n",
       "\n",
       "  var inline_js = [\n",
       "    function(Bokeh) {\n",
       "      Bokeh.set_log_level(\"info\");\n",
       "    },\n",
       "    \n",
       "    function(Bokeh) {\n",
       "      \n",
       "    },\n",
       "    function(Bokeh) {} // ensure no trailing comma for IE\n",
       "  ];\n",
       "\n",
       "  function run_inline_js() {\n",
       "    \n",
       "    if ((root.Bokeh !== undefined) || (force === true)) {\n",
       "      for (var i = 0; i < inline_js.length; i++) {\n",
       "        inline_js[i].call(root, root.Bokeh);\n",
       "      }if (force === true) {\n",
       "        display_loaded();\n",
       "      }} else if (Date.now() < root._bokeh_timeout) {\n",
       "      setTimeout(run_inline_js, 100);\n",
       "    } else if (!root._bokeh_failed_load) {\n",
       "      console.log(\"Bokeh: BokehJS failed to load within specified timeout.\");\n",
       "      root._bokeh_failed_load = true;\n",
       "    } else if (force !== true) {\n",
       "      var cell = $(document.getElementById(\"1001\")).parents('.cell').data().cell;\n",
       "      cell.output_area.append_execute_result(NB_LOAD_WARNING)\n",
       "    }\n",
       "\n",
       "  }\n",
       "\n",
       "  if (root._bokeh_is_loading === 0) {\n",
       "    console.debug(\"Bokeh: BokehJS loaded, going straight to plotting\");\n",
       "    run_inline_js();\n",
       "  } else {\n",
       "    load_libs(css_urls, js_urls, function() {\n",
       "      console.debug(\"Bokeh: BokehJS plotting callback run at\", now());\n",
       "      run_inline_js();\n",
       "    });\n",
       "  }\n",
       "}(window));"
      ],
      "application/vnd.bokehjs_load.v0+json": "\n(function(root) {\n  function now() {\n    return new Date();\n  }\n\n  var force = true;\n\n  if (typeof root._bokeh_onload_callbacks === \"undefined\" || force === true) {\n    root._bokeh_onload_callbacks = [];\n    root._bokeh_is_loading = undefined;\n  }\n\n  \n\n  \n  if (typeof (root._bokeh_timeout) === \"undefined\" || force === true) {\n    root._bokeh_timeout = Date.now() + 5000;\n    root._bokeh_failed_load = false;\n  }\n\n  var NB_LOAD_WARNING = {'data': {'text/html':\n     \"<div style='background-color: #fdd'>\\n\"+\n     \"<p>\\n\"+\n     \"BokehJS does not appear to have successfully loaded. If loading BokehJS from CDN, this \\n\"+\n     \"may be due to a slow or bad network connection. Possible fixes:\\n\"+\n     \"</p>\\n\"+\n     \"<ul>\\n\"+\n     \"<li>re-rerun `output_notebook()` to attempt to load from CDN again, or</li>\\n\"+\n     \"<li>use INLINE resources instead, as so:</li>\\n\"+\n     \"</ul>\\n\"+\n     \"<code>\\n\"+\n     \"from bokeh.resources import INLINE\\n\"+\n     \"output_notebook(resources=INLINE)\\n\"+\n     \"</code>\\n\"+\n     \"</div>\"}};\n\n  function display_loaded() {\n    var el = document.getElementById(\"1001\");\n    if (el != null) {\n      el.textContent = \"BokehJS is loading...\";\n    }\n    if (root.Bokeh !== undefined) {\n      if (el != null) {\n        el.textContent = \"BokehJS \" + root.Bokeh.version + \" successfully loaded.\";\n      }\n    } else if (Date.now() < root._bokeh_timeout) {\n      setTimeout(display_loaded, 100)\n    }\n  }\n\n\n  function run_callbacks() {\n    try {\n      root._bokeh_onload_callbacks.forEach(function(callback) {\n        if (callback != null)\n          callback();\n      });\n    } finally {\n      delete root._bokeh_onload_callbacks\n    }\n    console.debug(\"Bokeh: all callbacks have finished\");\n  }\n\n  function load_libs(css_urls, js_urls, callback) {\n    if (css_urls == null) css_urls = [];\n    if (js_urls == null) js_urls = [];\n\n    root._bokeh_onload_callbacks.push(callback);\n    if (root._bokeh_is_loading > 0) {\n      console.debug(\"Bokeh: BokehJS is being loaded, scheduling callback at\", now());\n      return null;\n    }\n    if (js_urls == null || js_urls.length === 0) {\n      run_callbacks();\n      return null;\n    }\n    console.debug(\"Bokeh: BokehJS not loaded, scheduling load and callback at\", now());\n    root._bokeh_is_loading = css_urls.length + js_urls.length;\n\n    function on_load() {\n      root._bokeh_is_loading--;\n      if (root._bokeh_is_loading === 0) {\n        console.debug(\"Bokeh: all BokehJS libraries/stylesheets loaded\");\n        run_callbacks()\n      }\n    }\n\n    function on_error() {\n      console.error(\"failed to load \" + url);\n    }\n\n    for (var i = 0; i < css_urls.length; i++) {\n      var url = css_urls[i];\n      const element = document.createElement(\"link\");\n      element.onload = on_load;\n      element.onerror = on_error;\n      element.rel = \"stylesheet\";\n      element.type = \"text/css\";\n      element.href = url;\n      console.debug(\"Bokeh: injecting link tag for BokehJS stylesheet: \", url);\n      document.body.appendChild(element);\n    }\n\n    for (var i = 0; i < js_urls.length; i++) {\n      var url = js_urls[i];\n      var element = document.createElement('script');\n      element.onload = on_load;\n      element.onerror = on_error;\n      element.async = false;\n      element.src = url;\n      console.debug(\"Bokeh: injecting script tag for BokehJS library: \", url);\n      document.head.appendChild(element);\n    }\n  };var element = document.getElementById(\"1001\");\n  if (element == null) {\n    console.error(\"Bokeh: ERROR: autoload.js configured with elementid '1001' but no matching script tag was found. \")\n    return false;\n  }\n\n  function inject_raw_css(css) {\n    const element = document.createElement(\"style\");\n    element.appendChild(document.createTextNode(css));\n    document.body.appendChild(element);\n  }\n\n  var js_urls = [\"https://cdn.pydata.org/bokeh/release/bokeh-1.2.0.min.js\", \"https://cdn.pydata.org/bokeh/release/bokeh-widgets-1.2.0.min.js\", \"https://cdn.pydata.org/bokeh/release/bokeh-tables-1.2.0.min.js\", \"https://cdn.pydata.org/bokeh/release/bokeh-gl-1.2.0.min.js\"];\n  var css_urls = [\"https://cdn.pydata.org/bokeh/release/bokeh-1.2.0.min.css\", \"https://cdn.pydata.org/bokeh/release/bokeh-widgets-1.2.0.min.css\", \"https://cdn.pydata.org/bokeh/release/bokeh-tables-1.2.0.min.css\"];\n\n  var inline_js = [\n    function(Bokeh) {\n      Bokeh.set_log_level(\"info\");\n    },\n    \n    function(Bokeh) {\n      \n    },\n    function(Bokeh) {} // ensure no trailing comma for IE\n  ];\n\n  function run_inline_js() {\n    \n    if ((root.Bokeh !== undefined) || (force === true)) {\n      for (var i = 0; i < inline_js.length; i++) {\n        inline_js[i].call(root, root.Bokeh);\n      }if (force === true) {\n        display_loaded();\n      }} else if (Date.now() < root._bokeh_timeout) {\n      setTimeout(run_inline_js, 100);\n    } else if (!root._bokeh_failed_load) {\n      console.log(\"Bokeh: BokehJS failed to load within specified timeout.\");\n      root._bokeh_failed_load = true;\n    } else if (force !== true) {\n      var cell = $(document.getElementById(\"1001\")).parents('.cell').data().cell;\n      cell.output_area.append_execute_result(NB_LOAD_WARNING)\n    }\n\n  }\n\n  if (root._bokeh_is_loading === 0) {\n    console.debug(\"Bokeh: BokehJS loaded, going straight to plotting\");\n    run_inline_js();\n  } else {\n    load_libs(css_urls, js_urls, function() {\n      console.debug(\"Bokeh: BokehJS plotting callback run at\", now());\n      run_inline_js();\n    });\n  }\n}(window));"
     },
     "metadata": {},
     "output_type": "display_data"
    }
   ],
   "source": [
    "from bokeh.io import output_notebook\n",
    "\n",
    "output_notebook()"
   ]
  },
  {
   "cell_type": "markdown",
   "metadata": {},
   "source": [
    "Now working with the grammar:"
   ]
  },
  {
   "cell_type": "code",
   "execution_count": 3,
   "metadata": {
    "scrolled": false
   },
   "outputs": [
    {
     "data": {
      "text/plain": [
       "bokeh.plotting.figure.Figure"
      ]
     },
     "execution_count": 3,
     "metadata": {},
     "output_type": "execute_result"
    }
   ],
   "source": [
    "from bokeh.plotting import figure\n",
    "from bokeh.io import show\n",
    "\n",
    "p = figure(plot_height = 200)\n",
    "type(p)"
   ]
  },
  {
   "cell_type": "code",
   "execution_count": 4,
   "metadata": {
    "scrolled": true
   },
   "outputs": [
    {
     "name": "stderr",
     "output_type": "stream",
     "text": [
      "WARNING:bokeh.core.validation.check:W-1000 (MISSING_RENDERERS): Plot has no renderers: Figure(id='1002', ...)\n"
     ]
    },
    {
     "data": {
      "text/html": [
       "\n",
       "\n",
       "\n",
       "\n",
       "\n",
       "\n",
       "  <div class=\"bk-root\" id=\"74c4327b-d83a-4365-b7ae-d397afb67a79\" data-root-id=\"1002\"></div>\n"
      ]
     },
     "metadata": {},
     "output_type": "display_data"
    },
    {
     "data": {
      "application/javascript": [
       "(function(root) {\n",
       "  function embed_document(root) {\n",
       "    \n",
       "  var docs_json = {\"8541b88c-e418-45a9-b6f3-b15bf536a2cf\":{\"roots\":{\"references\":[{\"attributes\":{\"below\":[{\"id\":\"1011\",\"type\":\"LinearAxis\"}],\"center\":[{\"id\":\"1015\",\"type\":\"Grid\"},{\"id\":\"1020\",\"type\":\"Grid\"}],\"left\":[{\"id\":\"1016\",\"type\":\"LinearAxis\"}],\"plot_height\":200,\"title\":{\"id\":\"1034\",\"type\":\"Title\"},\"toolbar\":{\"id\":\"1027\",\"type\":\"Toolbar\"},\"x_range\":{\"id\":\"1003\",\"type\":\"DataRange1d\"},\"x_scale\":{\"id\":\"1007\",\"type\":\"LinearScale\"},\"y_range\":{\"id\":\"1005\",\"type\":\"DataRange1d\"},\"y_scale\":{\"id\":\"1009\",\"type\":\"LinearScale\"}},\"id\":\"1002\",\"subtype\":\"Figure\",\"type\":\"Plot\"},{\"attributes\":{\"bottom_units\":\"screen\",\"fill_alpha\":{\"value\":0.5},\"fill_color\":{\"value\":\"lightgrey\"},\"left_units\":\"screen\",\"level\":\"overlay\",\"line_alpha\":{\"value\":1.0},\"line_color\":{\"value\":\"black\"},\"line_dash\":[4,4],\"line_width\":{\"value\":2},\"render_mode\":\"css\",\"right_units\":\"screen\",\"top_units\":\"screen\"},\"id\":\"1040\",\"type\":\"BoxAnnotation\"},{\"attributes\":{},\"id\":\"1009\",\"type\":\"LinearScale\"},{\"attributes\":{\"text\":\"\"},\"id\":\"1034\",\"type\":\"Title\"},{\"attributes\":{\"formatter\":{\"id\":\"1037\",\"type\":\"BasicTickFormatter\"},\"ticker\":{\"id\":\"1012\",\"type\":\"BasicTicker\"}},\"id\":\"1011\",\"type\":\"LinearAxis\"},{\"attributes\":{},\"id\":\"1012\",\"type\":\"BasicTicker\"},{\"attributes\":{\"ticker\":{\"id\":\"1012\",\"type\":\"BasicTicker\"}},\"id\":\"1015\",\"type\":\"Grid\"},{\"attributes\":{\"formatter\":{\"id\":\"1039\",\"type\":\"BasicTickFormatter\"},\"ticker\":{\"id\":\"1017\",\"type\":\"BasicTicker\"}},\"id\":\"1016\",\"type\":\"LinearAxis\"},{\"attributes\":{},\"id\":\"1017\",\"type\":\"BasicTicker\"},{\"attributes\":{\"callback\":null},\"id\":\"1005\",\"type\":\"DataRange1d\"},{\"attributes\":{\"callback\":null},\"id\":\"1003\",\"type\":\"DataRange1d\"},{\"attributes\":{\"dimension\":1,\"ticker\":{\"id\":\"1017\",\"type\":\"BasicTicker\"}},\"id\":\"1020\",\"type\":\"Grid\"},{\"attributes\":{},\"id\":\"1007\",\"type\":\"LinearScale\"},{\"attributes\":{},\"id\":\"1037\",\"type\":\"BasicTickFormatter\"},{\"attributes\":{},\"id\":\"1021\",\"type\":\"PanTool\"},{\"attributes\":{},\"id\":\"1022\",\"type\":\"WheelZoomTool\"},{\"attributes\":{\"overlay\":{\"id\":\"1040\",\"type\":\"BoxAnnotation\"}},\"id\":\"1023\",\"type\":\"BoxZoomTool\"},{\"attributes\":{},\"id\":\"1024\",\"type\":\"SaveTool\"},{\"attributes\":{},\"id\":\"1025\",\"type\":\"ResetTool\"},{\"attributes\":{},\"id\":\"1026\",\"type\":\"HelpTool\"},{\"attributes\":{\"active_drag\":\"auto\",\"active_inspect\":\"auto\",\"active_multi\":null,\"active_scroll\":\"auto\",\"active_tap\":\"auto\",\"tools\":[{\"id\":\"1021\",\"type\":\"PanTool\"},{\"id\":\"1022\",\"type\":\"WheelZoomTool\"},{\"id\":\"1023\",\"type\":\"BoxZoomTool\"},{\"id\":\"1024\",\"type\":\"SaveTool\"},{\"id\":\"1025\",\"type\":\"ResetTool\"},{\"id\":\"1026\",\"type\":\"HelpTool\"}]},\"id\":\"1027\",\"type\":\"Toolbar\"},{\"attributes\":{},\"id\":\"1039\",\"type\":\"BasicTickFormatter\"}],\"root_ids\":[\"1002\"]},\"title\":\"Bokeh Application\",\"version\":\"1.2.0\"}};\n",
       "  var render_items = [{\"docid\":\"8541b88c-e418-45a9-b6f3-b15bf536a2cf\",\"roots\":{\"1002\":\"74c4327b-d83a-4365-b7ae-d397afb67a79\"}}];\n",
       "  root.Bokeh.embed.embed_items_notebook(docs_json, render_items);\n",
       "\n",
       "  }\n",
       "  if (root.Bokeh !== undefined) {\n",
       "    embed_document(root);\n",
       "  } else {\n",
       "    var attempts = 0;\n",
       "    var timer = setInterval(function(root) {\n",
       "      if (root.Bokeh !== undefined) {\n",
       "        embed_document(root);\n",
       "        clearInterval(timer);\n",
       "      }\n",
       "      attempts++;\n",
       "      if (attempts > 100) {\n",
       "        console.log(\"Bokeh: ERROR: Unable to run BokehJS code because BokehJS library is missing\");\n",
       "        clearInterval(timer);\n",
       "      }\n",
       "    }, 10, root)\n",
       "  }\n",
       "})(window);"
      ],
      "application/vnd.bokehjs_exec.v0+json": ""
     },
     "metadata": {
      "application/vnd.bokehjs_exec.v0+json": {
       "id": "1002"
      }
     },
     "output_type": "display_data"
    }
   ],
   "source": [
    "show(p)"
   ]
  },
  {
   "cell_type": "markdown",
   "metadata": {},
   "source": [
    "Now we can use figure methods to add graphic layers on top of the plot:"
   ]
  },
  {
   "cell_type": "code",
   "execution_count": 5,
   "metadata": {},
   "outputs": [
    {
     "data": {
      "text/html": [
       "\n",
       "\n",
       "\n",
       "\n",
       "\n",
       "\n",
       "  <div class=\"bk-root\" id=\"15c0eb8a-5483-4f00-acff-54d9c22a591b\" data-root-id=\"1002\"></div>\n"
      ]
     },
     "metadata": {},
     "output_type": "display_data"
    },
    {
     "data": {
      "application/javascript": [
       "(function(root) {\n",
       "  function embed_document(root) {\n",
       "    \n",
       "  var docs_json = {\"59431e1a-4d64-4d70-9514-b56e017c2a12\":{\"roots\":{\"references\":[{\"attributes\":{\"below\":[{\"id\":\"1011\",\"type\":\"LinearAxis\"}],\"center\":[{\"id\":\"1015\",\"type\":\"Grid\"},{\"id\":\"1020\",\"type\":\"Grid\"}],\"left\":[{\"id\":\"1016\",\"type\":\"LinearAxis\"}],\"plot_height\":200,\"renderers\":[{\"id\":\"1086\",\"type\":\"GlyphRenderer\"}],\"title\":{\"id\":\"1034\",\"type\":\"Title\"},\"toolbar\":{\"id\":\"1027\",\"type\":\"Toolbar\"},\"x_range\":{\"id\":\"1003\",\"type\":\"DataRange1d\"},\"x_scale\":{\"id\":\"1007\",\"type\":\"LinearScale\"},\"y_range\":{\"id\":\"1005\",\"type\":\"DataRange1d\"},\"y_scale\":{\"id\":\"1009\",\"type\":\"LinearScale\"}},\"id\":\"1002\",\"subtype\":\"Figure\",\"type\":\"Plot\"},{\"attributes\":{\"bottom_units\":\"screen\",\"fill_alpha\":{\"value\":0.5},\"fill_color\":{\"value\":\"lightgrey\"},\"left_units\":\"screen\",\"level\":\"overlay\",\"line_alpha\":{\"value\":1.0},\"line_color\":{\"value\":\"black\"},\"line_dash\":[4,4],\"line_width\":{\"value\":2},\"render_mode\":\"css\",\"right_units\":\"screen\",\"top_units\":\"screen\"},\"id\":\"1040\",\"type\":\"BoxAnnotation\"},{\"attributes\":{},\"id\":\"1009\",\"type\":\"LinearScale\"},{\"attributes\":{\"text\":\"\"},\"id\":\"1034\",\"type\":\"Title\"},{\"attributes\":{\"formatter\":{\"id\":\"1037\",\"type\":\"BasicTickFormatter\"},\"ticker\":{\"id\":\"1012\",\"type\":\"BasicTicker\"}},\"id\":\"1011\",\"type\":\"LinearAxis\"},{\"attributes\":{},\"id\":\"1095\",\"type\":\"UnionRenderers\"},{\"attributes\":{},\"id\":\"1012\",\"type\":\"BasicTicker\"},{\"attributes\":{},\"id\":\"1094\",\"type\":\"Selection\"},{\"attributes\":{\"ticker\":{\"id\":\"1012\",\"type\":\"BasicTicker\"}},\"id\":\"1015\",\"type\":\"Grid\"},{\"attributes\":{\"fill_alpha\":{\"value\":0.1},\"fill_color\":{\"value\":\"#1f77b4\"},\"line_alpha\":{\"value\":0.1},\"line_color\":{\"value\":\"#1f77b4\"},\"x\":{\"field\":\"x\"},\"y\":{\"field\":\"y\"}},\"id\":\"1085\",\"type\":\"Circle\"},{\"attributes\":{\"formatter\":{\"id\":\"1039\",\"type\":\"BasicTickFormatter\"},\"ticker\":{\"id\":\"1017\",\"type\":\"BasicTicker\"}},\"id\":\"1016\",\"type\":\"LinearAxis\"},{\"attributes\":{},\"id\":\"1017\",\"type\":\"BasicTicker\"},{\"attributes\":{\"callback\":null},\"id\":\"1005\",\"type\":\"DataRange1d\"},{\"attributes\":{\"callback\":null},\"id\":\"1003\",\"type\":\"DataRange1d\"},{\"attributes\":{\"dimension\":1,\"ticker\":{\"id\":\"1017\",\"type\":\"BasicTicker\"}},\"id\":\"1020\",\"type\":\"Grid\"},{\"attributes\":{\"fill_color\":{\"value\":\"#1f77b4\"},\"line_color\":{\"value\":\"#1f77b4\"},\"x\":{\"field\":\"x\"},\"y\":{\"field\":\"y\"}},\"id\":\"1084\",\"type\":\"Circle\"},{\"attributes\":{},\"id\":\"1007\",\"type\":\"LinearScale\"},{\"attributes\":{},\"id\":\"1037\",\"type\":\"BasicTickFormatter\"},{\"attributes\":{\"callback\":null,\"data\":{\"x\":{\"__ndarray__\":\"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\",\"dtype\":\"float64\",\"shape\":[392]},\"y\":[130,165,150,150,140,198,220,215,225,190,170,160,150,225,95,95,97,85,88,46,87,90,95,113,90,215,200,210,193,88,90,95,100,105,100,88,100,165,175,153,150,180,170,175,110,72,100,88,86,90,70,76,65,69,60,70,95,80,54,90,86,165,175,150,153,150,208,155,160,190,97,150,130,140,150,112,76,87,69,86,92,97,80,88,175,150,145,137,150,198,150,158,150,215,225,175,105,100,100,88,95,46,150,167,170,180,100,88,72,94,90,85,107,90,145,230,49,75,91,112,150,110,122,180,95,100,100,67,80,65,75,100,110,105,140,150,150,140,150,83,67,78,52,61,75,75,75,97,93,67,95,105,72,72,170,145,150,148,110,105,110,95,110,110,129,75,83,100,78,96,71,97,97,70,90,95,88,98,115,53,86,81,92,79,83,140,150,120,152,100,105,81,90,52,60,70,53,100,78,110,95,71,70,75,72,102,150,88,108,120,180,145,130,150,68,80,58,96,70,145,110,145,130,110,105,100,98,180,170,190,149,78,88,75,89,63,83,67,78,97,110,110,48,66,52,70,60,110,140,139,105,95,85,88,100,90,105,85,110,120,145,165,139,140,68,95,97,75,95,105,85,97,103,125,115,133,71,68,115,85,88,90,110,130,129,138,135,155,142,125,150,71,65,80,80,77,125,71,90,70,70,65,69,90,115,115,90,76,60,70,65,90,88,90,90,78,90,75,92,75,65,105,65,48,48,67,67,67,67,62,132,100,88,72,84,84,92,110,84,58,64,60,67,65,62,68,63,65,65,74,75,75,100,74,80,76,116,120,110,105,88,85,88,88,88,85,84,90,92,74,68,68,63,70,88,75,70,67,67,67,110,85,92,112,96,84,90,86,52,84,79,82]},\"selected\":{\"id\":\"1094\",\"type\":\"Selection\"},\"selection_policy\":{\"id\":\"1095\",\"type\":\"UnionRenderers\"}},\"id\":\"1083\",\"type\":\"ColumnDataSource\"},{\"attributes\":{},\"id\":\"1021\",\"type\":\"PanTool\"},{\"attributes\":{\"data_source\":{\"id\":\"1083\",\"type\":\"ColumnDataSource\"},\"glyph\":{\"id\":\"1084\",\"type\":\"Circle\"},\"hover_glyph\":null,\"muted_glyph\":null,\"nonselection_glyph\":{\"id\":\"1085\",\"type\":\"Circle\"},\"selection_glyph\":null,\"view\":{\"id\":\"1087\",\"type\":\"CDSView\"}},\"id\":\"1086\",\"type\":\"GlyphRenderer\"},{\"attributes\":{},\"id\":\"1022\",\"type\":\"WheelZoomTool\"},{\"attributes\":{\"source\":{\"id\":\"1083\",\"type\":\"ColumnDataSource\"}},\"id\":\"1087\",\"type\":\"CDSView\"},{\"attributes\":{\"overlay\":{\"id\":\"1040\",\"type\":\"BoxAnnotation\"}},\"id\":\"1023\",\"type\":\"BoxZoomTool\"},{\"attributes\":{},\"id\":\"1024\",\"type\":\"SaveTool\"},{\"attributes\":{},\"id\":\"1025\",\"type\":\"ResetTool\"},{\"attributes\":{},\"id\":\"1026\",\"type\":\"HelpTool\"},{\"attributes\":{\"active_drag\":\"auto\",\"active_inspect\":\"auto\",\"active_multi\":null,\"active_scroll\":\"auto\",\"active_tap\":\"auto\",\"tools\":[{\"id\":\"1021\",\"type\":\"PanTool\"},{\"id\":\"1022\",\"type\":\"WheelZoomTool\"},{\"id\":\"1023\",\"type\":\"BoxZoomTool\"},{\"id\":\"1024\",\"type\":\"SaveTool\"},{\"id\":\"1025\",\"type\":\"ResetTool\"},{\"id\":\"1026\",\"type\":\"HelpTool\"}]},\"id\":\"1027\",\"type\":\"Toolbar\"},{\"attributes\":{},\"id\":\"1039\",\"type\":\"BasicTickFormatter\"}],\"root_ids\":[\"1002\"]},\"title\":\"Bokeh Application\",\"version\":\"1.2.0\"}};\n",
       "  var render_items = [{\"docid\":\"59431e1a-4d64-4d70-9514-b56e017c2a12\",\"roots\":{\"1002\":\"15c0eb8a-5483-4f00-acff-54d9c22a591b\"}}];\n",
       "  root.Bokeh.embed.embed_items_notebook(docs_json, render_items);\n",
       "\n",
       "  }\n",
       "  if (root.Bokeh !== undefined) {\n",
       "    embed_document(root);\n",
       "  } else {\n",
       "    var attempts = 0;\n",
       "    var timer = setInterval(function(root) {\n",
       "      if (root.Bokeh !== undefined) {\n",
       "        embed_document(root);\n",
       "        clearInterval(timer);\n",
       "      }\n",
       "      attempts++;\n",
       "      if (attempts > 100) {\n",
       "        console.log(\"Bokeh: ERROR: Unable to run BokehJS code because BokehJS library is missing\");\n",
       "        clearInterval(timer);\n",
       "      }\n",
       "    }, 10, root)\n",
       "  }\n",
       "})(window);"
      ],
      "application/vnd.bokehjs_exec.v0+json": ""
     },
     "metadata": {
      "application/vnd.bokehjs_exec.v0+json": {
       "id": "1002"
      }
     },
     "output_type": "display_data"
    }
   ],
   "source": [
    "p.circle(x = autompg['mpg'], y= autompg['hp'])\n",
    "show(p)"
   ]
  },
  {
   "cell_type": "markdown",
   "metadata": {},
   "source": [
    "Notice how we created a scatter plot to visualize the relationship between Miles per Gallon, and Horsepower passed in as the parameters of `circle` function. We can also add several annotations of the plot from the `figure` function:"
   ]
  },
  {
   "cell_type": "code",
   "execution_count": 6,
   "metadata": {
    "scrolled": false
   },
   "outputs": [
    {
     "data": {
      "text/html": [
       "\n",
       "\n",
       "\n",
       "\n",
       "\n",
       "\n",
       "  <div class=\"bk-root\" id=\"4869f449-a550-4eff-b218-a878ed03f781\" data-root-id=\"1151\"></div>\n"
      ]
     },
     "metadata": {},
     "output_type": "display_data"
    },
    {
     "data": {
      "application/javascript": [
       "(function(root) {\n",
       "  function embed_document(root) {\n",
       "    \n",
       "  var docs_json = {\"33d511f9-16bf-4f9f-bbfa-b47b234d9d57\":{\"roots\":{\"references\":[{\"attributes\":{\"below\":[{\"id\":\"1162\",\"type\":\"LinearAxis\"}],\"center\":[{\"id\":\"1166\",\"type\":\"Grid\"},{\"id\":\"1171\",\"type\":\"Grid\"}],\"left\":[{\"id\":\"1167\",\"type\":\"LinearAxis\"}],\"plot_height\":200,\"renderers\":[{\"id\":\"1188\",\"type\":\"GlyphRenderer\"}],\"title\":{\"id\":\"1152\",\"type\":\"Title\"},\"toolbar\":{\"id\":\"1178\",\"type\":\"Toolbar\"},\"x_range\":{\"id\":\"1154\",\"type\":\"DataRange1d\"},\"x_scale\":{\"id\":\"1158\",\"type\":\"LinearScale\"},\"y_range\":{\"id\":\"1156\",\"type\":\"DataRange1d\"},\"y_scale\":{\"id\":\"1160\",\"type\":\"LinearScale\"}},\"id\":\"1151\",\"subtype\":\"Figure\",\"type\":\"Plot\"},{\"attributes\":{},\"id\":\"1158\",\"type\":\"LinearScale\"},{\"attributes\":{},\"id\":\"1173\",\"type\":\"WheelZoomTool\"},{\"attributes\":{\"fill_alpha\":{\"value\":0.1},\"fill_color\":{\"value\":\"#1f77b4\"},\"line_alpha\":{\"value\":0.1},\"line_color\":{\"value\":\"#1f77b4\"},\"x\":{\"field\":\"x\"},\"y\":{\"field\":\"y\"}},\"id\":\"1187\",\"type\":\"Circle\"},{\"attributes\":{\"data_source\":{\"id\":\"1185\",\"type\":\"ColumnDataSource\"},\"glyph\":{\"id\":\"1186\",\"type\":\"Circle\"},\"hover_glyph\":null,\"muted_glyph\":null,\"nonselection_glyph\":{\"id\":\"1187\",\"type\":\"Circle\"},\"selection_glyph\":null,\"view\":{\"id\":\"1189\",\"type\":\"CDSView\"}},\"id\":\"1188\",\"type\":\"GlyphRenderer\"},{\"attributes\":{\"active_drag\":\"auto\",\"active_inspect\":\"auto\",\"active_multi\":null,\"active_scroll\":\"auto\",\"active_tap\":\"auto\",\"tools\":[{\"id\":\"1172\",\"type\":\"PanTool\"},{\"id\":\"1173\",\"type\":\"WheelZoomTool\"},{\"id\":\"1174\",\"type\":\"BoxZoomTool\"},{\"id\":\"1175\",\"type\":\"SaveTool\"},{\"id\":\"1176\",\"type\":\"ResetTool\"},{\"id\":\"1177\",\"type\":\"HelpTool\"}]},\"id\":\"1178\",\"type\":\"Toolbar\"},{\"attributes\":{},\"id\":\"1160\",\"type\":\"LinearScale\"},{\"attributes\":{\"overlay\":{\"id\":\"1206\",\"type\":\"BoxAnnotation\"}},\"id\":\"1174\",\"type\":\"BoxZoomTool\"},{\"attributes\":{\"callback\":null,\"data\":{\"x\":{\"__ndarray__\":\"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\",\"dtype\":\"float64\",\"shape\":[392]},\"y\":[130,165,150,150,140,198,220,215,225,190,170,160,150,225,95,95,97,85,88,46,87,90,95,113,90,215,200,210,193,88,90,95,100,105,100,88,100,165,175,153,150,180,170,175,110,72,100,88,86,90,70,76,65,69,60,70,95,80,54,90,86,165,175,150,153,150,208,155,160,190,97,150,130,140,150,112,76,87,69,86,92,97,80,88,175,150,145,137,150,198,150,158,150,215,225,175,105,100,100,88,95,46,150,167,170,180,100,88,72,94,90,85,107,90,145,230,49,75,91,112,150,110,122,180,95,100,100,67,80,65,75,100,110,105,140,150,150,140,150,83,67,78,52,61,75,75,75,97,93,67,95,105,72,72,170,145,150,148,110,105,110,95,110,110,129,75,83,100,78,96,71,97,97,70,90,95,88,98,115,53,86,81,92,79,83,140,150,120,152,100,105,81,90,52,60,70,53,100,78,110,95,71,70,75,72,102,150,88,108,120,180,145,130,150,68,80,58,96,70,145,110,145,130,110,105,100,98,180,170,190,149,78,88,75,89,63,83,67,78,97,110,110,48,66,52,70,60,110,140,139,105,95,85,88,100,90,105,85,110,120,145,165,139,140,68,95,97,75,95,105,85,97,103,125,115,133,71,68,115,85,88,90,110,130,129,138,135,155,142,125,150,71,65,80,80,77,125,71,90,70,70,65,69,90,115,115,90,76,60,70,65,90,88,90,90,78,90,75,92,75,65,105,65,48,48,67,67,67,67,62,132,100,88,72,84,84,92,110,84,58,64,60,67,65,62,68,63,65,65,74,75,75,100,74,80,76,116,120,110,105,88,85,88,88,88,85,84,90,92,74,68,68,63,70,88,75,70,67,67,67,110,85,92,112,96,84,90,86,52,84,79,82]},\"selected\":{\"id\":\"1204\",\"type\":\"Selection\"},\"selection_policy\":{\"id\":\"1205\",\"type\":\"UnionRenderers\"}},\"id\":\"1185\",\"type\":\"ColumnDataSource\"},{\"attributes\":{},\"id\":\"1205\",\"type\":\"UnionRenderers\"},{\"attributes\":{\"fill_color\":{\"value\":\"#1f77b4\"},\"line_color\":{\"value\":\"#1f77b4\"},\"x\":{\"field\":\"x\"},\"y\":{\"field\":\"y\"}},\"id\":\"1186\",\"type\":\"Circle\"},{\"attributes\":{\"bottom_units\":\"screen\",\"fill_alpha\":{\"value\":0.5},\"fill_color\":{\"value\":\"lightgrey\"},\"left_units\":\"screen\",\"level\":\"overlay\",\"line_alpha\":{\"value\":1.0},\"line_color\":{\"value\":\"black\"},\"line_dash\":[4,4],\"line_width\":{\"value\":2},\"render_mode\":\"css\",\"right_units\":\"screen\",\"top_units\":\"screen\"},\"id\":\"1206\",\"type\":\"BoxAnnotation\"},{\"attributes\":{\"callback\":null},\"id\":\"1156\",\"type\":\"DataRange1d\"},{\"attributes\":{},\"id\":\"1175\",\"type\":\"SaveTool\"},{\"attributes\":{},\"id\":\"1176\",\"type\":\"ResetTool\"},{\"attributes\":{},\"id\":\"1204\",\"type\":\"Selection\"},{\"attributes\":{},\"id\":\"1177\",\"type\":\"HelpTool\"},{\"attributes\":{\"source\":{\"id\":\"1185\",\"type\":\"ColumnDataSource\"}},\"id\":\"1189\",\"type\":\"CDSView\"},{\"attributes\":{\"dimension\":1,\"ticker\":{\"id\":\"1168\",\"type\":\"BasicTicker\"}},\"id\":\"1171\",\"type\":\"Grid\"},{\"attributes\":{},\"id\":\"1172\",\"type\":\"PanTool\"},{\"attributes\":{},\"id\":\"1203\",\"type\":\"BasicTickFormatter\"},{\"attributes\":{\"axis_label\":\"Horsepower\",\"formatter\":{\"id\":\"1203\",\"type\":\"BasicTickFormatter\"},\"ticker\":{\"id\":\"1168\",\"type\":\"BasicTicker\"}},\"id\":\"1167\",\"type\":\"LinearAxis\"},{\"attributes\":{},\"id\":\"1168\",\"type\":\"BasicTicker\"},{\"attributes\":{\"axis_label\":\"Miles per Gallon\",\"formatter\":{\"id\":\"1201\",\"type\":\"BasicTickFormatter\"},\"ticker\":{\"id\":\"1163\",\"type\":\"BasicTicker\"}},\"id\":\"1162\",\"type\":\"LinearAxis\"},{\"attributes\":{},\"id\":\"1201\",\"type\":\"BasicTickFormatter\"},{\"attributes\":{\"ticker\":{\"id\":\"1163\",\"type\":\"BasicTicker\"}},\"id\":\"1166\",\"type\":\"Grid\"},{\"attributes\":{\"callback\":null},\"id\":\"1154\",\"type\":\"DataRange1d\"},{\"attributes\":{},\"id\":\"1163\",\"type\":\"BasicTicker\"},{\"attributes\":{\"text\":\"Vehicle Testing\"},\"id\":\"1152\",\"type\":\"Title\"}],\"root_ids\":[\"1151\"]},\"title\":\"Bokeh Application\",\"version\":\"1.2.0\"}};\n",
       "  var render_items = [{\"docid\":\"33d511f9-16bf-4f9f-bbfa-b47b234d9d57\",\"roots\":{\"1151\":\"4869f449-a550-4eff-b218-a878ed03f781\"}}];\n",
       "  root.Bokeh.embed.embed_items_notebook(docs_json, render_items);\n",
       "\n",
       "  }\n",
       "  if (root.Bokeh !== undefined) {\n",
       "    embed_document(root);\n",
       "  } else {\n",
       "    var attempts = 0;\n",
       "    var timer = setInterval(function(root) {\n",
       "      if (root.Bokeh !== undefined) {\n",
       "        embed_document(root);\n",
       "        clearInterval(timer);\n",
       "      }\n",
       "      attempts++;\n",
       "      if (attempts > 100) {\n",
       "        console.log(\"Bokeh: ERROR: Unable to run BokehJS code because BokehJS library is missing\");\n",
       "        clearInterval(timer);\n",
       "      }\n",
       "    }, 10, root)\n",
       "  }\n",
       "})(window);"
      ],
      "application/vnd.bokehjs_exec.v0+json": ""
     },
     "metadata": {
      "application/vnd.bokehjs_exec.v0+json": {
       "id": "1151"
      }
     },
     "output_type": "display_data"
    }
   ],
   "source": [
    "p = figure(title = \"Vehicle Testing\",\n",
    "           x_axis_label = \"Miles per Gallon\",\n",
    "           y_axis_label = \"Horsepower\",\n",
    "           plot_height=200)\n",
    "p.circle(x = autompg['mpg'], y= autompg['hp'])\n",
    "show(p)"
   ]
  },
  {
   "cell_type": "markdown",
   "metadata": {},
   "source": [
    "**Dive Deeper:**\n",
    "\n",
    "Notice how the widget provides feature buttons on the right side? Let's take our time to explore each of the buttons and utilize Bokeh's main strength: interactivity."
   ]
  },
  {
   "cell_type": "markdown",
   "metadata": {},
   "source": [
    "## Plotting Essential\n",
    "\n",
    "Plots help us visually inspect our dataset in a more entirety perspectives. There are numerous types of plots we'll be looking on, let's first read our dataset using pandas:"
   ]
  },
  {
   "cell_type": "code",
   "execution_count": 120,
   "metadata": {},
   "outputs": [
    {
     "name": "stdout",
     "output_type": "stream",
     "text": [
      "(240007, 8)\n"
     ]
    }
   ],
   "source": [
    "import pandas as pd\n",
    "\n",
    "retail = pd.read_csv(\"online_retail.csv\")\n",
    "\n",
    "print(retail.shape)"
   ]
  },
  {
   "cell_type": "markdown",
   "metadata": {},
   "source": [
    "The data contain 8 columns and up to hundred thousands of rows. Let's inspect what are the columns we are deaing with:"
   ]
  },
  {
   "cell_type": "code",
   "execution_count": 14,
   "metadata": {},
   "outputs": [
    {
     "name": "stdout",
     "output_type": "stream",
     "text": [
      "InvoiceNo       object\n",
      "StockCode       object\n",
      "Description     object\n",
      "Quantity         int64\n",
      "InvoiceDate     object\n",
      "UnitPrice      float64\n",
      "CustomerID     float64\n",
      "Country         object\n",
      "dtype: object\n"
     ]
    }
   ],
   "source": [
    "print(retail.dtypes)"
   ]
  },
  {
   "cell_type": "markdown",
   "metadata": {},
   "source": [
    "This dataset consist of transaction data of an online retail shops provided from UCI Machine Learning [repository](https://archive.ics.uci.edu/ml/datasets/online+retail). Before proceeding into plotting the data we'll need to understand thoroughly each variable. The following is the data glossary provided for this dataset:\n",
    "\n",
    "- InvoiceNo: Invoice number. Nominal, a 6-digit integral number uniquely assigned to each transaction. If this code starts with letter 'c', it indicates a cancellation. \n",
    "- StockCode: Product (item) code. Nominal, a 5-digit integral number uniquely assigned to each distinct product. \n",
    "- Description: Product (item) name. Nominal. \n",
    "- Quantity: The quantities of each product (item) per transaction. Numeric.\t\n",
    "- InvoiceDate: Invice Date and time. Numeric, the day and time when each transaction was generated. \n",
    "- UnitPrice: Unit price. Numeric, Product price per unit in sterling. \n",
    "- CustomerID: Customer number. Nominal, a 5-digit integral number uniquely assigned to each customer. \n",
    "- Country: Country name. Nominal, the name of the country where each customer resides.\n",
    "\n",
    "\n",
    "\n",
    "Let's implement things we have learned in previous course:"
   ]
  },
  {
   "cell_type": "code",
   "execution_count": 121,
   "metadata": {},
   "outputs": [
    {
     "data": {
      "text/plain": [
       "count                  240007\n",
       "unique                  11240\n",
       "top       2010-12-06 16:57:00\n",
       "freq                      675\n",
       "first     2010-12-01 08:26:00\n",
       "last      2011-06-26 10:59:00\n",
       "Name: InvoiceDate, dtype: object"
      ]
     },
     "execution_count": 121,
     "metadata": {},
     "output_type": "execute_result"
    }
   ],
   "source": [
    "retail['InvoiceDate'] = pd.to_datetime(retail['InvoiceDate'])\n",
    "retail['InvoiceDate'].describe()"
   ]
  },
  {
   "cell_type": "markdown",
   "metadata": {},
   "source": [
    "By converting our data into datetime type, we now understand how the invoice were created between December of 2010 to mid year of 2011. To make a richer visualization, let's extract the month of our invoice date into a new column:"
   ]
  },
  {
   "cell_type": "code",
   "execution_count": 122,
   "metadata": {},
   "outputs": [
    {
     "data": {
      "text/plain": [
       "12    42481\n",
       "5     37030\n",
       "3     36748\n",
       "1     35147\n",
       "6     30978\n",
       "4     29916\n",
       "2     27707\n",
       "Name: TransMonth, dtype: int64"
      ]
     },
     "execution_count": 122,
     "metadata": {},
     "output_type": "execute_result"
    }
   ],
   "source": [
    "retail['TransMonth'] = retail['InvoiceDate'].dt.month\n",
    "retail['TransMonth'].value_counts()"
   ]
  },
  {
   "cell_type": "markdown",
   "metadata": {},
   "source": [
    "One more date feature extraction:"
   ]
  },
  {
   "cell_type": "code",
   "execution_count": 123,
   "metadata": {},
   "outputs": [
    {
     "data": {
      "text/plain": [
       "2010-12    42481\n",
       "2011-05    37030\n",
       "2011-03    36748\n",
       "2011-01    35147\n",
       "2011-06    30978\n",
       "2011-04    29916\n",
       "2011-02    27707\n",
       "Freq: M, Name: MonthlyDate, dtype: int64"
      ]
     },
     "execution_count": 123,
     "metadata": {},
     "output_type": "execute_result"
    }
   ],
   "source": [
    "retail['MonthlyDate'] = retail['InvoiceDate'].dt.to_period('M')\n",
    "retail['MonthlyDate'].value_counts()"
   ]
  },
  {
   "cell_type": "markdown",
   "metadata": {},
   "source": [
    "**Dive Deeper:**\n",
    "\n",
    "Before proceeding into data visualization let's do one more knowledge check. Can you answer the following questions by inspecting our data:\n",
    "\n",
    "1. Can you confirm wether or not each row indicates unique invoice number?\n",
    "2. Can someone order multiple items with 1 invoice?"
   ]
  },
  {
   "cell_type": "markdown",
   "metadata": {},
   "source": [
    "### Data Distribution using Scatter Plot\n",
    "\n",
    "One important note that you should always consider, not all data can be processed as is. Let's highlight one of the columns description: `InvoiceNo`.\n",
    "\n",
    "It is said that the `InvoiceNo` is uniquely assigned for each transaction, but if the code starts with the letter 'c', it indicates cancellation. Now before going further into visualization techniques we must fully understand the behaviour of our data and the purpose of our plot."
   ]
  },
  {
   "cell_type": "markdown",
   "metadata": {},
   "source": [
    "Say, for example I wanted to known my customer's purchasing behaviour. So this is what I would like to know: what is the correlation between total invoice and numer of item bought? How does one affect the other and how is the common behaviour seen in our existing customers?\n",
    "\n",
    "This hypothesis then leads me to create a plot that can illustrate how does the data distribution of amount paid over quantity bought is, to do that we will use *scatter plot*. Scatter plot might be one of the most used types of plot in understanding the correlation between numeric data."
   ]
  },
  {
   "cell_type": "markdown",
   "metadata": {},
   "source": [
    "Now going back to our `InvoiceNo` column that holds a cancelled transaction. To create a proper analysis, I'm going to remove all cancellation invoice from my data:"
   ]
  },
  {
   "cell_type": "code",
   "execution_count": 124,
   "metadata": {},
   "outputs": [
    {
     "data": {
      "text/plain": [
       "(235657, 10)"
      ]
     },
     "execution_count": 124,
     "metadata": {},
     "output_type": "execute_result"
    }
   ],
   "source": [
    "retail_clean = retail[retail.InvoiceNo.str.contains(\"^[^C].*\")]\n",
    "retail_clean.shape"
   ]
  },
  {
   "cell_type": "code",
   "execution_count": 35,
   "metadata": {},
   "outputs": [
    {
     "name": "stderr",
     "output_type": "stream",
     "text": [
      "C:\\Users\\tiara\\Anaconda3\\envs\\tokopedia\\lib\\site-packages\\pandas\\core\\generic.py:5096: SettingWithCopyWarning: \n",
      "A value is trying to be set on a copy of a slice from a DataFrame.\n",
      "Try using .loc[row_indexer,col_indexer] = value instead\n",
      "\n",
      "See the caveats in the documentation: http://pandas.pydata.org/pandas-docs/stable/indexing.html#indexing-view-versus-copy\n",
      "  self[name] = value\n"
     ]
    }
   ],
   "source": [
    "retail_clean.Revenue = retail_clean.UnitPrice * retail_clean.Quantity"
   ]
  },
  {
   "cell_type": "code",
   "execution_count": 130,
   "metadata": {},
   "outputs": [
    {
     "data": {
      "text/plain": [
       "InvoiceNo              object\n",
       "StockCode              object\n",
       "Description            object\n",
       "Quantity                int64\n",
       "InvoiceDate    datetime64[ns]\n",
       "UnitPrice             float64\n",
       "CustomerID            float64\n",
       "Country                object\n",
       "TransMonth              int64\n",
       "MonthlyDate         period[M]\n",
       "dtype: object"
      ]
     },
     "execution_count": 130,
     "metadata": {},
     "output_type": "execute_result"
    }
   ],
   "source": [
    "retail_clean.dtypes"
   ]
  },
  {
   "cell_type": "code",
   "execution_count": 37,
   "metadata": {},
   "outputs": [
    {
     "data": {
      "text/html": [
       "<div>\n",
       "<style scoped>\n",
       "    .dataframe tbody tr th:only-of-type {\n",
       "        vertical-align: middle;\n",
       "    }\n",
       "\n",
       "    .dataframe tbody tr th {\n",
       "        vertical-align: top;\n",
       "    }\n",
       "\n",
       "    .dataframe thead th {\n",
       "        text-align: right;\n",
       "    }\n",
       "</style>\n",
       "<table border=\"1\" class=\"dataframe\">\n",
       "  <thead>\n",
       "    <tr style=\"text-align: right;\">\n",
       "      <th></th>\n",
       "      <th>StockCode</th>\n",
       "      <th>Revenue</th>\n",
       "    </tr>\n",
       "    <tr>\n",
       "      <th>InvoiceNo</th>\n",
       "      <th></th>\n",
       "      <th></th>\n",
       "    </tr>\n",
       "  </thead>\n",
       "  <tbody>\n",
       "    <tr>\n",
       "      <th>536365</th>\n",
       "      <td>7</td>\n",
       "      <td>139.12</td>\n",
       "    </tr>\n",
       "    <tr>\n",
       "      <th>536366</th>\n",
       "      <td>2</td>\n",
       "      <td>22.20</td>\n",
       "    </tr>\n",
       "    <tr>\n",
       "      <th>536367</th>\n",
       "      <td>12</td>\n",
       "      <td>278.73</td>\n",
       "    </tr>\n",
       "    <tr>\n",
       "      <th>536368</th>\n",
       "      <td>4</td>\n",
       "      <td>70.05</td>\n",
       "    </tr>\n",
       "    <tr>\n",
       "      <th>536369</th>\n",
       "      <td>1</td>\n",
       "      <td>17.85</td>\n",
       "    </tr>\n",
       "  </tbody>\n",
       "</table>\n",
       "</div>"
      ],
      "text/plain": [
       "           StockCode  Revenue\n",
       "InvoiceNo                    \n",
       "536365             7   139.12\n",
       "536366             2    22.20\n",
       "536367            12   278.73\n",
       "536368             4    70.05\n",
       "536369             1    17.85"
      ]
     },
     "execution_count": 37,
     "metadata": {},
     "output_type": "execute_result"
    }
   ],
   "source": [
    "invoice_grouped = retail_clean.groupby('InvoiceNo').agg({\n",
    "    'StockCode': lambda x: x.unique().size,\n",
    "    'Revenue': 'sum'\n",
    "})\n",
    "\n",
    "invoice_grouped.head()"
   ]
  },
  {
   "cell_type": "code",
   "execution_count": 38,
   "metadata": {},
   "outputs": [
    {
     "data": {
      "text/html": [
       "\n",
       "\n",
       "\n",
       "\n",
       "\n",
       "\n",
       "  <div class=\"bk-root\" id=\"791bcd6a-8767-464c-9029-fa244e7931bd\" data-root-id=\"1290\"></div>\n"
      ]
     },
     "metadata": {},
     "output_type": "display_data"
    },
    {
     "data": {
      "application/javascript": [
       "(function(root) {\n",
       "  function embed_document(root) {\n",
       "    \n",
       "  var docs_json = {\"02e0149d-4f02-4cc9-b1dd-e7f55e2a8cbb\":{\"roots\":{\"references\":[{\"attributes\":{\"below\":[{\"id\":\"1301\",\"type\":\"LinearAxis\"}],\"center\":[{\"id\":\"1305\",\"type\":\"Grid\"},{\"id\":\"1310\",\"type\":\"Grid\"}],\"left\":[{\"id\":\"1306\",\"type\":\"LinearAxis\"}],\"renderers\":[{\"id\":\"1326\",\"type\":\"GlyphRenderer\"}],\"title\":{\"id\":\"1291\",\"type\":\"Title\"},\"toolbar\":{\"id\":\"1316\",\"type\":\"Toolbar\"},\"x_range\":{\"id\":\"1293\",\"type\":\"DataRange1d\"},\"x_scale\":{\"id\":\"1297\",\"type\":\"LinearScale\"},\"y_range\":{\"id\":\"1295\",\"type\":\"DataRange1d\"},\"y_scale\":{\"id\":\"1299\",\"type\":\"LinearScale\"}},\"id\":\"1290\",\"subtype\":\"Figure\",\"type\":\"Plot\"},{\"attributes\":{},\"id\":\"1315\",\"type\":\"ResetTool\"},{\"attributes\":{\"active_drag\":\"auto\",\"active_inspect\":\"auto\",\"active_multi\":null,\"active_scroll\":\"auto\",\"active_tap\":\"auto\",\"tools\":[{\"id\":\"1311\",\"type\":\"HoverTool\"},{\"id\":\"1312\",\"type\":\"WheelZoomTool\"},{\"id\":\"1313\",\"type\":\"PanTool\"},{\"id\":\"1314\",\"type\":\"SaveTool\"},{\"id\":\"1315\",\"type\":\"ResetTool\"}]},\"id\":\"1316\",\"type\":\"Toolbar\"},{\"attributes\":{\"callback\":null},\"id\":\"1295\",\"type\":\"DataRange1d\"},{\"attributes\":{},\"id\":\"1313\",\"type\":\"PanTool\"},{\"attributes\":{\"callback\":null,\"data\":{\"InvoiceNo\":[\"536365\",\"536366\",\"536367\",\"536368\",\"536369\",\"536370\",\"536371\",\"536372\",\"536373\",\"536374\",\"536375\",\"536376\",\"536377\",\"536378\",\"536380\",\"536381\",\"536382\",\"536384\",\"536385\",\"536386\",\"536387\",\"536388\",\"536389\",\"536390\",\"536392\",\"536393\",\"536394\",\"536395\",\"536396\",\"536397\",\"536398\",\"536399\",\"536400\",\"536401\",\"536402\",\"536403\",\"536404\",\"536405\",\"536406\",\"536407\",\"536408\",\"536409\",\"536412\",\"536414\",\"536415\",\"536416\",\"536420\",\"536423\",\"536425\",\"536437\",\"536446\",\"536460\",\"536463\",\"536464\",\"536466\",\"536477\",\"536488\",\"536500\",\"536502\",\"536508\",\"536514\",\"536520\",\"536521\",\"536522\",\"536523\",\"536524\",\"536525\",\"536526\",\"536527\",\"536528\",\"536529\",\"536530\",\"536531\",\"536532\",\"536533\",\"536534\",\"536535\",\"536536\",\"536537\",\"536538\",\"536539\",\"536540\",\"536541\",\"536542\",\"536544\",\"536545\",\"536546\",\"536547\",\"536549\",\"536550\",\"536551\",\"536552\",\"536553\",\"536554\",\"536555\",\"536556\",\"536557\",\"536558\",\"536559\",\"536560\",\"536561\",\"536562\",\"536563\",\"536564\",\"536565\",\"536566\",\"536567\",\"536568\",\"536569\",\"536570\",\"536571\",\"536572\",\"536573\",\"536574\",\"536575\",\"536576\",\"536577\",\"536578\",\"536579\",\"536580\",\"536581\",\"536582\",\"536583\",\"536584\",\"536585\",\"536586\",\"536587\",\"536588\",\"536589\",\"536590\",\"536591\",\"536592\",\"536593\",\"536594\",\"536595\",\"536596\",\"536597\",\"536598\",\"536599\",\"536600\",\"536601\",\"536602\",\"536603\",\"536604\",\"536605\",\"536607\",\"536608\",\"536609\",\"536610\",\"536611\",\"536612\",\"536613\",\"536614\",\"536615\",\"536616\",\"536617\",\"536618\",\"536619\",\"536620\",\"536621\",\"536623\",\"536624\",\"536626\",\"536627\",\"536628\",\"536629\",\"536630\",\"536631\",\"536632\",\"536633\",\"536634\",\"536635\",\"536636\",\"536637\",\"536638\",\"536639\",\"536640\",\"536641\",\"536643\",\"536663\",\"536667\",\"536670\",\"536671\",\"536672\",\"536673\",\"536674\",\"536676\",\"536681\",\"536685\",\"536688\",\"536690\",\"536693\",\"536698\",\"536707\",\"536732\",\"536733\",\"536735\",\"536736\",\"536738\",\"536739\",\"536740\",\"536741\",\"536742\",\"536743\",\"536744\",\"536745\",\"536746\",\"536747\",\"536748\",\"536749\",\"536750\",\"536751\",\"536752\",\"536753\",\"536754\",\"536755\",\"536756\",\"536759\",\"536761\",\"536762\",\"536763\",\"536764\",\"536765\",\"536769\",\"536771\",\"536777\",\"536778\",\"536779\",\"536780\",\"536781\",\"536782\",\"536783\",\"536784\",\"536785\",\"536786\",\"536787\",\"536788\",\"536789\",\"536790\",\"536791\",\"536792\",\"536793\",\"536794\",\"536795\",\"536796\",\"536797\",\"536798\",\"536799\",\"536800\",\"536801\",\"536802\",\"536803\",\"536804\",\"536805\",\"536806\",\"536808\",\"536809\",\"536810\",\"536811\",\"536813\",\"536819\",\"536821\",\"536823\",\"536824\",\"536830\",\"536831\",\"536832\",\"536833\",\"536834\",\"536835\",\"536836\",\"536837\",\"536838\",\"536839\",\"536840\",\"536841\",\"536842\",\"536843\",\"536844\",\"536845\",\"536846\",\"536847\",\"536848\",\"536849\",\"536851\",\"536852\",\"536856\",\"536857\",\"536858\",\"536859\",\"536860\",\"536861\",\"536862\",\"536863\",\"536864\",\"536865\",\"536866\",\"536874\",\"536876\",\"536883\",\"536884\",\"536885\",\"536890\",\"536920\",\"536938\",\"536941\",\"536942\",\"536943\",\"536944\",\"536945\",\"536946\",\"536947\",\"536954\",\"536956\",\"536957\",\"536960\",\"536967\",\"536968\",\"536969\",\"536970\",\"536971\",\"536972\",\"536973\",\"536974\",\"536975\",\"536976\",\"536977\",\"536980\",\"536981\",\"536982\",\"536983\",\"536984\",\"536985\",\"536986\",\"536987\",\"536988\",\"536989\",\"536990\",\"536991\",\"536992\",\"536993\",\"536994\",\"536995\",\"536996\",\"536997\",\"536998\",\"536999\",\"537000\",\"537001\",\"537002\",\"537003\",\"537004\",\"537005\",\"537006\",\"537007\",\"537008\",\"537009\",\"537010\",\"537011\",\"537012\",\"537013\",\"537014\",\"537015\",\"537016\",\"537017\",\"537018\",\"537019\",\"537020\",\"537021\",\"537022\",\"537023\",\"537025\",\"537026\",\"537027\",\"537028\",\"537029\",\"537030\",\"537031\",\"537032\",\"537034\",\"537035\",\"537036\",\"537037\",\"537038\",\"537040\",\"537041\",\"537042\",\"537044\",\"537045\",\"537046\",\"537047\",\"537048\",\"537049\",\"537050\",\"537051\",\"537052\",\"537053\",\"537054\",\"537055\",\"537057\",\"537058\",\"537059\",\"537065\",\"537067\",\"537077\",\"537081\",\"537086\",\"537090\",\"537111\",\"537117\",\"537126\",\"537127\",\"537128\",\"537129\",\"537130\",\"537131\",\"537133\",\"537134\",\"537135\",\"537136\",\"537137\",\"537138\",\"537139\",\"537140\",\"537141\",\"537142\",\"537144\",\"537153\",\"537154\",\"537155\",\"537156\",\"537158\",\"537159\",\"537160\",\"537163\",\"537176\",\"537179\",\"537192\",\"537193\",\"537194\",\"537195\",\"537196\",\"537197\",\"537198\",\"537199\",\"537200\",\"537201\",\"537202\",\"537204\",\"537205\",\"537206\",\"537207\",\"537208\",\"537209\",\"537210\",\"537211\",\"537212\",\"537213\",\"537214\",\"537215\",\"537216\",\"537217\",\"537218\",\"537219\",\"537220\",\"537221\",\"537222\",\"537223\",\"537224\",\"537225\",\"537226\",\"537227\",\"537228\",\"537229\",\"537230\",\"537231\",\"537233\",\"537235\",\"537236\",\"537237\",\"537238\",\"537239\",\"537240\",\"537241\",\"537242\",\"537243\",\"537244\",\"537245\",\"537246\",\"537247\",\"537248\",\"537249\",\"537250\",\"537252\",\"537253\",\"537254\",\"537255\",\"537256\",\"537257\",\"537258\",\"537262\",\"537265\",\"537298\",\"537301\",\"537312\",\"537313\",\"537332\",\"537334\",\"537335\",\"537346\",\"537350\",\"537351\",\"537354\",\"537359\",\"537360\",\"537361\",\"537362\",\"537363\",\"537364\",\"537365\",\"537366\",\"537367\",\"537368\",\"537369\",\"537370\",\"537371\",\"537372\",\"537374\",\"537375\",\"537376\",\"537377\",\"537378\",\"537380\",\"537381\",\"537382\",\"537384\",\"537385\",\"537386\",\"537387\",\"537388\",\"537389\",\"537390\",\"537391\",\"537392\",\"537393\",\"537394\",\"537395\",\"537396\",\"537397\",\"537399\",\"537400\",\"537401\",\"537403\",\"537404\",\"537405\",\"537407\",\"537409\",\"537410\",\"537411\",\"537412\",\"537415\",\"537418\",\"537419\",\"537420\",\"537421\",\"537422\",\"537423\",\"537424\",\"537425\",\"537426\",\"537427\",\"537428\",\"537429\",\"537430\",\"537432\",\"537433\",\"537434\",\"537435\",\"537436\",\"537437\",\"537438\",\"537439\",\"537440\",\"537441\",\"537442\",\"537446\",\"537447\",\"537448\",\"537449\",\"537450\",\"537451\",\"537452\",\"537453\",\"537454\",\"537455\",\"537456\",\"537457\",\"537458\",\"537459\",\"537460\",\"537461\",\"537462\",\"537463\",\"537464\",\"537465\",\"537466\",\"537467\",\"537468\",\"537469\",\"537470\",\"537471\",\"537472\",\"537476\",\"537484\",\"537489\",\"537509\",\"537523\",\"537534\",\"537538\",\"537567\",\"537592\",\"537593\",\"537594\",\"537595\",\"537598\",\"537599\",\"537601\",\"537603\",\"537604\",\"537605\",\"537606\",\"537607\",\"537608\",\"537609\",\"537612\",\"537614\",\"537615\",\"537616\",\"537617\",\"537618\",\"537619\",\"537620\",\"537621\",\"537622\",\"537623\",\"537624\",\"537625\",\"537626\",\"537627\",\"537628\",\"537629\",\"537631\",\"537632\",\"537633\",\"537634\",\"537635\",\"537636\",\"537637\",\"537638\",\"537639\",\"537640\",\"537641\",\"537642\",\"537643\",\"537645\",\"537646\",\"537648\",\"537649\",\"537650\",\"537653\",\"537654\",\"537655\",\"537657\",\"537658\",\"537659\",\"537664\",\"537665\",\"537666\",\"537667\",\"537668\",\"537669\",\"537670\",\"537671\",\"537672\",\"537673\",\"537674\",\"537675\",\"537676\",\"537678\",\"537679\",\"537680\",\"537681\",\"537682\",\"537683\",\"537685\",\"537686\",\"537687\",\"537688\",\"537689\",\"537690\",\"537691\",\"537692\",\"537693\",\"537694\",\"537698\",\"537700\",\"537707\",\"537738\",\"537743\",\"537751\",\"537754\",\"537755\",\"537757\",\"537758\",\"537759\",\"537760\",\"537761\",\"537762\",\"537764\",\"537765\",\"537766\",\"537767\",\"537768\",\"537769\",\"537770\",\"537771\",\"537772\",\"537773\",\"537774\",\"537775\",\"537780\",\"537781\",\"537789\",\"537791\",\"537792\",\"537793\",\"537794\",\"537795\",\"537796\",\"537799\",\"537800\",\"537801\",\"537802\",\"537803\",\"537804\",\"537806\",\"537808\",\"537809\",\"537810\",\"537811\",\"537813\",\"537815\",\"537816\",\"537817\",\"537818\",\"537819\",\"537822\",\"537823\",\"537825\",\"537826\",\"537827\",\"537828\",\"537829\",\"537830\",\"537831\",\"537833\",\"537836\",\"537837\",\"537839\",\"537840\",\"537841\",\"537842\",\"537843\",\"537844\",\"537845\",\"537846\",\"537847\",\"537848\",\"537849\",\"537850\",\"537851\",\"537852\",\"537854\",\"537855\",\"537858\",\"537859\",\"537861\",\"537862\",\"537863\",\"537864\",\"537865\",\"537866\",\"537867\",\"537868\",\"537870\",\"537871\",\"537872\",\"537873\",\"537874\",\"537875\",\"537876\",\"537877\",\"537878\",\"537879\",\"537880\",\"537881\",\"537882\",\"537883\",\"537884\",\"537885\",\"537886\",\"537887\",\"537888\",\"537889\",\"537890\",\"537891\",\"537892\",\"537894\",\"537895\",\"537896\",\"537897\",\"537898\",\"537899\",\"537900\",\"537901\",\"537915\",\"537955\",\"537963\",\"537967\",\"537981\",\"537995\",\"537999\",\"538000\",\"538001\",\"538002\",\"538003\",\"538004\",\"538005\",\"538006\",\"538007\",\"538008\",\"538009\",\"538010\",\"538011\",\"538012\",\"538013\",\"538014\",\"538015\",\"538032\",\"538035\",\"538036\",\"538037\",\"538038\",\"538039\",\"538040\",\"538041\",\"538042\",\"538043\",\"538044\",\"538045\",\"538046\",\"538047\",\"538048\",\"538049\",\"538050\",\"538051\",\"538053\",\"538054\",\"538055\",\"538056\",\"538057\",\"538058\",\"538060\",\"538061\",\"538063\",\"538064\",\"538065\",\"538067\",\"538068\",\"538069\",\"538070\",\"538071\",\"538072\",\"538073\",\"538074\",\"538076\",\"538077\",\"538078\",\"538079\",\"538080\",\"538086\",\"538087\",\"538090\",\"538092\",\"538093\",\"538094\",\"538095\",\"538096\",\"538097\",\"538101\",\"538104\",\"538106\",\"538107\",\"538108\",\"538113\",\"538116\",\"538117\",\"538120\",\"538125\",\"538126\",\"538127\",\"538128\",\"538129\",\"538130\",\"538131\",\"538132\",\"538133\",\"538134\",\"538135\",\"538136\",\"538137\",\"538138\",\"538139\",\"538140\",\"538141\",\"538142\",\"538143\",\"538144\",\"538145\",\"538146\",\"538147\",\"538148\",\"538149\",\"538151\",\"538153\",\"538154\",\"538155\",\"538156\",\"538157\",\"538158\",\"538159\",\"538160\",\"538161\",\"538162\",\"538163\",\"538165\",\"538166\",\"538167\",\"538168\",\"538169\",\"538170\",\"538171\",\"538172\",\"538173\",\"538174\",\"538175\",\"538176\",\"538177\",\"538178\",\"538179\",\"538180\",\"538181\",\"538182\",\"538183\",\"538184\",\"538185\",\"538186\",\"538187\",\"538188\",\"538190\",\"538191\",\"538192\",\"538193\",\"538194\",\"538195\",\"538196\",\"538197\",\"538198\",\"538199\",\"538200\",\"538201\",\"538202\",\"538203\",\"538204\",\"538205\",\"538206\",\"538207\",\"538208\",\"538209\",\"538210\",\"538211\",\"538216\",\"538240\",\"538241\",\"538247\",\"538248\",\"538249\",\"538250\",\"538252\",\"538255\",\"538260\",\"538263\",\"538268\",\"538279\",\"538280\",\"538283\",\"538288\",\"538296\",\"538306\",\"538307\",\"538308\",\"538309\",\"538310\",\"538311\",\"538312\",\"538313\",\"538327\",\"538342\",\"538343\",\"538345\",\"538346\",\"538347\",\"538348\",\"538349\",\"538351\",\"538352\",\"538353\",\"538354\",\"538355\",\"538356\",\"538358\",\"538359\",\"538360\",\"538361\",\"538363\",\"538364\",\"538365\",\"538366\",\"538367\",\"538368\",\"538369\",\"538370\",\"538371\",\"538374\",\"538378\",\"538379\",\"538382\",\"538397\",\"538403\",\"538409\",\"538417\",\"538418\",\"538419\",\"538420\",\"538421\",\"538437\",\"538449\",\"538453\",\"538470\",\"538473\",\"538488\",\"538497\",\"538499\",\"538501\",\"538503\",\"538504\",\"538507\",\"538508\",\"538509\",\"538510\",\"538511\",\"538512\",\"538513\",\"538514\",\"538515\",\"538516\",\"538517\",\"538518\",\"538519\",\"538520\",\"538521\",\"538522\",\"538523\",\"538524\",\"538525\",\"538526\",\"538527\",\"538528\",\"538529\",\"538532\",\"538533\",\"538534\",\"538535\",\"538537\",\"538541\",\"538557\",\"538558\",\"538565\",\"538566\",\"538567\",\"538576\",\"538591\",\"538592\",\"538593\",\"538594\",\"538596\",\"538597\",\"538625\",\"538626\",\"538627\",\"538629\",\"538630\",\"538631\",\"538633\",\"538634\",\"538635\",\"538636\",\"538637\",\"538638\",\"538639\",\"538640\",\"538641\",\"538644\",\"538645\",\"538646\",\"538648\",\"538649\",\"538651\",\"538652\",\"538653\",\"538654\",\"538655\",\"538656\",\"538657\",\"538658\",\"538659\",\"538660\",\"538661\",\"538662\",\"538663\",\"538664\",\"538665\",\"538666\",\"538667\",\"538668\",\"538669\",\"538671\",\"538678\",\"538679\",\"538683\",\"538685\",\"538687\",\"538688\",\"538689\",\"538697\",\"538706\",\"538707\",\"538708\",\"538709\",\"538710\",\"538714\",\"538715\",\"538716\",\"538719\",\"538721\",\"538722\",\"538724\",\"538744\",\"538753\",\"538778\",\"538783\",\"538785\",\"538795\",\"538796\",\"538797\",\"538799\",\"538800\",\"538801\",\"538807\",\"538808\",\"538809\",\"538810\",\"538811\",\"538812\",\"538814\",\"538815\",\"538816\",\"538817\",\"538826\",\"538827\",\"538828\",\"538829\",\"538830\",\"538831\",\"538832\",\"538836\",\"538837\",\"538839\",\"538841\",\"538843\",\"538844\",\"538845\",\"538846\",\"538848\",\"538849\",\"538850\",\"538851\",\"538852\",\"538853\",\"538854\",\"538855\",\"538856\",\"538857\",\"538858\",\"538859\",\"538860\",\"538861\",\"538862\",\"538863\",\"538864\",\"538865\",\"538866\",\"538867\",\"538868\",\"538869\",\"538870\",\"538871\",\"538872\",\"538873\",\"538875\",\"538877\",\"538878\",\"538879\",\"538880\",\"538881\",\"538883\",\"538884\",\"538885\",\"538886\",\"538888\",\"538890\",\"538892\",\"538894\",\"538895\",\"538896\",\"538899\",\"538900\",\"538901\",\"538902\",\"538903\",\"538905\",\"538906\",\"538907\",\"538908\",\"538909\",\"538910\",\"538917\",\"538935\",\"538942\",\"538943\",\"538944\",\"538945\",\"538951\",\"538967\",\"538968\",\"538991\",\"538992\",\"538993\",\"538994\",\"538995\",\"538996\",\"538998\",\"538999\",\"539000\",\"539001\",\"539002\",\"539004\",\"539005\",\"539006\",\"539007\",\"539008\",\"539009\",\"539010\",\"539011\",\"539012\",\"539013\",\"539014\",\"539015\",\"539016\",\"539017\",\"539018\",\"539019\",\"539030\",\"539032\",\"539033\",\"539034\",\"539036\",\"539038\",\"539039\",\"539040\",\"539041\",\"539042\",\"539043\",\"539044\",\"539045\",\"539046\",\"539047\",\"539048\",\"539049\",\"539050\",\"539051\",\"539052\",\"539053\",\"539056\",\"539064\",\"539070\",\"539074\",\"539075\",\"539076\",\"539077\",\"539078\",\"539079\",\"539080\",\"539081\",\"539082\",\"539083\",\"539084\",\"539085\",\"539086\",\"539087\",\"539088\",\"539089\",\"539091\",\"539092\",\"539093\",\"539094\",\"539095\",\"539096\",\"539098\",\"539099\",\"539101\",\"539102\",\"539103\",\"539105\",\"539106\",\"539107\",\"539108\",\"539109\",\"539111\",\"539112\",\"539113\",\"539118\",\"539142\",\"539143\",\"539144\",\"539160\",\"539181\",\"539185\",\"539196\",\"539201\",\"539211\",\"539212\",\"539213\",\"539214\",\"539215\",\"539216\",\"539217\",\"539218\",\"539219\",\"539220\",\"539222\",\"539223\",\"539225\",\"539226\",\"539240\",\"539242\",\"539243\",\"539245\",\"539246\",\"539247\",\"539248\",\"539249\",\"539250\",\"539252\",\"539254\",\"539255\",\"539256\",\"539257\",\"539259\",\"539261\",\"539262\",\"539263\",\"539264\",\"539265\",\"539266\",\"539267\",\"539268\",\"539269\",\"539272\",\"539275\",\"539280\",\"539281\",\"539282\",\"539283\",\"539285\",\"539286\",\"539288\",\"539290\",\"539292\",\"539293\",\"539294\",\"539295\",\"539296\",\"539297\",\"539298\",\"539299\",\"539300\",\"539303\",\"539304\",\"539305\",\"539306\",\"539307\",\"539308\",\"539309\",\"539310\",\"539311\",\"539312\",\"539313\",\"539314\",\"539315\",\"539316\",\"539317\",\"539318\",\"539319\",\"539320\",\"539321\",\"539322\",\"539323\",\"539324\",\"539325\",\"539326\",\"539327\",\"539328\",\"539330\",\"539331\",\"539332\",\"539333\",\"539334\",\"539335\",\"539336\",\"539337\",\"539338\",\"539351\",\"539353\",\"539374\",\"539379\",\"539391\",\"539395\",\"539398\",\"539400\",\"539401\",\"539403\",\"539404\",\"539405\",\"539406\",\"539407\",\"539408\",\"539410\",\"539411\",\"539412\",\"539413\",\"539414\",\"539415\",\"539416\",\"539417\",\"539418\",\"539419\",\"539420\",\"539421\",\"539422\",\"539423\",\"539434\",\"539435\",\"539436\",\"539437\",\"539439\",\"539440\",\"539441\",\"539442\",\"539443\",\"539444\",\"539445\",\"539446\",\"539447\",\"539449\",\"539450\",\"539451\",\"539452\",\"539453\",\"539454\",\"539455\",\"539456\",\"539457\",\"539458\",\"539459\",\"539460\",\"539461\",\"539462\",\"539463\",\"539464\",\"539465\",\"539466\",\"539468\",\"539469\",\"539470\",\"539471\",\"539472\",\"539473\",\"539474\",\"539475\",\"539477\",\"539478\",\"539479\",\"539480\",\"539481\",\"539482\",\"539483\",\"539484\",\"539485\",\"539487\",\"539488\",\"539489\",\"539490\",\"539491\",\"539492\",\"539493\",\"539494\",\"539495\",\"539496\",\"539497\",\"539498\",\"539500\",\"539501\",\"539502\",\"539551\",\"539561\",\"539564\",\"539567\",\"539570\",\"539571\",\"539572\",\"539578\",\"539579\",\"539580\",\"539581\",\"539582\",\"539583\",\"539584\",\"539585\",\"539586\",\"539587\",\"539588\",\"539590\",\"539591\",\"539592\",\"539593\",\"539594\",\"539595\",\"539597\",\"539604\",\"539607\",\"539609\",\"539610\",\"539611\",\"539628\",\"539629\",\"539630\",\"539631\",\"539633\",\"539634\",\"539635\",\"539636\",\"539637\",\"539638\",\"539639\",\"539641\",\"539642\",\"539643\",\"539645\",\"539646\",\"539647\",\"539648\",\"539649\",\"539650\",\"539651\",\"539653\",\"539654\",\"539656\",\"539658\",\"539659\",\"539660\",\"539662\",\"539663\",\"539664\",\"539665\",\"539666\",\"539675\",\"539676\",\"539688\",\"539708\",\"539713\",\"539714\",\"539715\",\"539716\",\"539717\",\"539718\",\"539720\",\"539721\",\"539722\",\"539723\",\"539724\",\"539725\",\"539727\",\"539728\",\"539729\",\"539730\",\"539731\",\"539732\",\"539733\",\"539734\",\"539735\",\"539736\",\"539737\",\"539738\",\"539739\",\"539740\",\"539741\",\"539742\",\"539743\",\"539744\",\"539745\",\"539746\",\"539747\",\"539748\",\"539749\",\"539750\",\"539751\",\"539752\",\"539753\",\"539754\",\"539755\",\"539758\",\"539759\",\"539760\",\"539761\",\"539762\",\"539764\",\"539766\",\"539825\",\"539826\",\"539828\",\"539829\",\"539831\",\"539835\",\"539836\",\"539837\",\"539839\",\"539840\",\"539856\",\"539858\",\"539859\",\"539864\",\"539865\",\"539867\",\"539920\",\"539921\",\"539933\",\"539946\",\"539951\",\"539952\",\"539953\",\"539954\",\"539955\",\"539957\",\"539958\",\"539978\",\"539979\",\"539980\",\"539981\",\"539982\",\"539984\",\"539985\",\"539986\",\"539987\",\"539988\",\"539989\",\"539990\",\"539991\",\"539992\",\"539993\",\"539994\",\"539995\",\"539996\",\"539997\",\"539998\",\"539999\",\"540000\",\"540001\",\"540002\",\"540003\",\"540004\",\"540005\",\"540008\",\"540009\",\"540010\",\"540011\",\"540012\",\"540013\",\"540014\",\"540015\",\"540016\",\"540017\",\"540018\",\"540019\",\"540020\",\"540021\",\"540022\",\"540023\",\"540024\",\"540025\",\"540026\",\"540027\",\"540028\",\"540029\",\"540031\",\"540032\",\"540033\",\"540040\",\"540043\",\"540059\",\"540060\",\"540073\",\"540093\",\"540094\",\"540095\",\"540096\",\"540098\",\"540099\",\"540100\",\"540113\",\"540114\",\"540115\",\"540116\",\"540119\",\"540120\",\"540121\",\"540122\",\"540126\",\"540130\",\"540146\",\"540148\",\"540149\",\"540150\",\"540153\",\"540154\",\"540157\",\"540159\",\"540160\",\"540161\",\"540162\",\"540163\",\"540166\",\"540167\",\"540168\",\"540169\",\"540170\",\"540172\",\"540173\",\"540174\",\"540175\",\"540176\",\"540178\",\"540179\",\"540180\",\"540181\",\"540182\",\"540183\",\"540184\",\"540185\",\"540186\",\"540187\",\"540188\",\"540227\",\"540238\",\"540239\",\"540240\",\"540241\",\"540242\",\"540245\",\"540247\",\"540248\",\"540249\",\"540251\",\"540252\",\"540253\",\"540255\",\"540256\",\"540257\",\"540258\",\"540259\",\"540260\",\"540261\",\"540262\",\"540263\",\"540264\",\"540265\",\"540267\",\"540268\",\"540269\",\"540272\",\"540273\",\"540274\",\"540275\",\"540276\",\"540277\",\"540278\",\"540279\",\"540280\",\"540288\",\"540316\",\"540345\",\"540348\",\"540349\",\"540350\",\"540351\",\"540352\",\"540353\",\"540354\",\"540355\",\"540356\",\"540357\",\"540358\",\"540359\",\"540361\",\"540362\",\"540363\",\"540364\",\"540365\",\"540369\",\"540370\",\"540371\",\"540372\",\"540373\",\"540374\",\"540375\",\"540383\",\"540387\",\"540395\",\"540396\",\"540397\",\"540399\",\"540401\",\"540402\",\"540404\",\"540405\",\"540406\",\"540407\",\"540408\",\"540409\",\"540410\",\"540411\",\"540412\",\"540413\",\"540414\",\"540415\",\"540416\",\"540418\",\"540420\",\"540452\",\"540453\",\"540454\",\"540455\",\"540456\",\"540457\",\"540458\",\"540459\",\"540460\",\"540461\",\"540462\",\"540463\",\"540464\",\"540465\",\"540466\",\"540467\",\"540468\",\"540469\",\"540471\",\"540472\",\"540473\",\"540474\",\"540475\",\"540476\",\"540477\",\"540478\",\"540479\",\"540480\",\"540481\",\"540482\",\"540489\",\"540493\",\"540495\",\"540496\",\"540497\",\"540498\",\"540499\",\"540500\",\"540501\",\"540502\",\"540504\",\"540505\",\"540506\",\"540507\",\"540508\",\"540509\",\"540510\",\"540511\",\"540512\",\"540513\",\"540514\",\"540515\",\"540516\",\"540517\",\"540518\",\"540519\",\"540520\",\"540521\",\"540522\",\"540523\",\"540524\",\"540525\",\"540526\",\"540528\",\"540529\",\"540530\",\"540531\",\"540532\",\"540533\",\"540534\",\"540536\",\"540537\",\"540538\",\"540539\",\"540540\",\"540541\",\"540542\",\"540543\",\"540544\",\"540545\",\"540546\",\"540547\",\"540548\",\"540549\",\"540550\",\"540551\",\"540552\",\"540553\",\"540554\",\"540556\",\"540557\",\"540558\",\"540560\",\"540561\",\"540562\",\"540563\",\"540564\",\"540565\",\"540566\",\"540567\",\"540568\",\"540595\",\"540604\",\"540630\",\"540635\",\"540636\",\"540637\",\"540638\",\"540639\",\"540640\",\"540641\",\"540642\",\"540644\",\"540645\",\"540646\",\"540647\",\"540648\",\"540649\",\"540650\",\"540651\",\"540653\",\"540662\",\"540664\",\"540671\",\"540672\",\"540673\",\"540674\",\"540675\",\"540676\",\"540677\",\"540678\",\"540679\",\"540680\",\"540681\",\"540682\",\"540683\",\"540684\",\"540685\",\"540687\",\"540688\",\"540689\",\"540690\",\"540691\",\"540692\",\"540693\",\"540694\",\"540695\",\"540696\",\"540697\",\"540698\",\"540699\",\"540700\",\"540701\",\"540702\",\"540703\",\"540704\",\"540732\",\"540750\",\"540753\",\"540768\",\"540769\",\"540770\",\"540777\",\"540778\",\"540779\",\"540782\",\"540785\",\"540789\",\"540794\",\"540795\",\"540797\",\"540798\",\"540799\",\"540800\",\"540801\",\"540802\",\"540803\",\"540809\",\"540813\",\"540815\",\"540816\",\"540817\",\"540818\",\"540819\",\"540821\",\"540822\",\"540823\",\"540824\",\"540825\",\"540826\",\"540827\",\"540828\",\"540829\",\"540832\",\"540833\",\"540834\",\"540835\",\"540836\",\"540838\",\"540839\",\"540840\",\"540842\",\"540844\",\"540848\",\"540849\",\"540851\",\"540855\",\"540856\",\"540857\",\"540858\",\"540859\",\"540862\",\"540866\",\"540900\",\"540906\",\"540907\",\"540908\",\"540915\",\"540939\",\"540940\",\"540943\",\"540945\",\"540946\",\"540947\",\"540951\",\"540953\",\"540954\",\"540955\",\"540957\",\"540968\",\"540970\",\"540971\",\"540972\",\"540973\",\"540974\",\"540975\",\"540976\",\"540977\",\"540978\",\"540979\",\"540980\",\"540981\",\"540982\",\"540983\",\"540984\",\"540985\",\"540986\",\"540987\",\"540990\",\"540991\",\"540992\",\"540993\",\"540994\",\"540995\",\"540996\",\"540997\",\"540998\",\"540999\",\"541000\",\"541001\",\"541002\",\"541003\",\"541004\",\"541005\",\"541006\",\"541008\",\"541010\",\"541011\",\"541012\",\"541013\",\"541014\",\"541015\",\"541018\",\"541021\",\"541038\",\"541043\",\"541086\",\"541087\",\"541088\",\"541091\",\"541093\",\"541094\",\"541103\",\"541104\",\"541105\",\"541106\",\"541107\",\"541108\",\"541109\",\"541110\",\"541111\",\"541112\",\"541113\",\"541114\",\"541115\",\"541118\",\"541119\",\"541120\",\"541121\",\"541122\",\"541123\",\"541124\",\"541125\",\"541126\",\"541127\",\"541128\",\"541129\",\"541130\",\"541131\",\"541132\",\"541133\",\"541134\",\"541135\",\"541136\",\"541137\",\"541138\",\"541139\",\"541149\",\"541172\",\"541181\",\"541202\",\"541203\",\"541204\",\"541205\",\"541206\",\"541207\",\"541208\",\"541213\",\"541214\",\"541215\",\"541216\",\"541217\",\"541218\",\"541219\",\"541220\",\"541221\",\"541223\",\"541224\",\"541225\",\"541226\",\"541227\",\"541228\",\"541236\",\"541238\",\"541239\",\"541240\",\"541241\",\"541242\",\"541243\",\"541244\",\"541246\",\"541247\",\"541248\",\"541249\",\"541250\",\"541251\",\"541252\",\"541253\",\"541255\",\"541256\",\"541258\",\"541259\",\"541260\",\"541262\",\"541263\",\"541264\",\"541265\",\"541266\",\"541267\",\"541268\",\"541269\",\"541270\",\"541271\",\"541272\",\"541273\",\"541274\",\"541275\",\"541276\",\"541277\",\"541278\",\"541279\",\"541280\",\"541281\",\"541282\",\"541283\",\"541285\",\"541286\",\"541287\",\"541288\",\"541289\",\"541290\",\"541291\",\"541292\",\"541293\",\"541294\",\"541302\",\"541316\",\"541357\",\"541362\",\"541370\",\"541371\",\"541391\",\"541400\",\"541405\",\"541406\",\"541407\",\"541408\",\"541409\",\"541410\",\"541411\",\"541412\",\"541413\",\"541414\",\"541417\",\"541420\",\"541421\",\"541422\",\"541423\",\"541424\",\"541425\",\"541426\",\"541427\",\"541428\",\"541429\",\"541430\",\"541431\",\"541432\",\"541434\",\"541435\",\"541436\",\"541439\",\"541473\",\"541474\",\"541479\",\"541480\",\"541481\",\"541482\",\"541483\",\"541484\",\"541485\",\"541486\",\"541487\",\"541488\",\"541489\",\"541490\",\"541491\",\"541493\",\"541494\",\"541495\",\"541496\",\"541497\",\"541500\",\"541504\",\"541505\",\"541506\",\"541507\",\"541508\",\"541509\",\"541510\",\"541511\",\"541513\",\"541516\",\"541517\",\"541518\",\"541519\",\"541520\",\"541521\",\"541522\",\"541523\",\"541524\",\"541525\",\"541530\",\"541552\",\"541564\",\"541565\",\"541566\",\"541567\",\"541568\",\"541569\",\"541570\",\"541571\",\"541574\",\"541575\",\"541576\",\"541584\",\"541585\",\"541587\",\"541588\",\"541590\",\"541591\",\"541592\",\"541593\",\"541594\",\"541595\",\"541596\",\"541597\",\"541600\",\"541601\",\"541602\",\"541604\",\"541605\",\"541606\",\"541607\",\"541608\",\"541609\",\"541610\",\"541611\",\"541615\",\"541631\",\"541648\",\"541649\",\"541652\",\"541655\",\"541657\",\"541658\",\"541659\",\"541660\",\"541664\",\"541669\",\"541670\",\"541671\",\"541672\",\"541673\",\"541675\",\"541676\",\"541677\",\"541678\",\"541679\",\"541680\",\"541681\",\"541682\",\"541683\",\"541684\",\"541685\",\"541686\",\"541687\",\"541690\",\"541692\",\"541695\",\"541696\",\"541697\",\"541698\",\"541699\",\"541700\",\"541702\",\"541703\",\"541706\",\"541708\",\"541709\",\"541711\",\"541712\",\"541732\",\"541756\",\"541782\",\"541783\",\"541784\",\"541785\",\"541788\",\"541789\",\"541791\",\"541792\",\"541793\",\"541794\",\"541795\",\"541796\",\"541797\",\"541798\",\"541799\",\"541800\",\"541801\",\"541802\",\"541808\",\"541809\",\"541810\",\"541811\",\"541812\",\"541813\",\"541814\",\"541815\",\"541816\",\"541827\",\"541830\",\"541832\",\"541835\",\"541836\",\"541837\",\"541838\",\"541839\",\"541840\",\"541841\",\"541842\",\"541843\",\"541844\",\"541845\",\"541846\",\"541847\",\"541848\",\"541849\",\"541850\",\"541851\",\"541853\",\"541854\",\"541855\",\"541856\",\"541857\",\"541858\",\"541859\",\"541860\",\"541862\",\"541864\",\"541865\",\"541866\",\"541867\",\"541869\",\"541870\",\"541871\",\"541872\",\"541873\",\"541874\",\"541875\",\"541876\",\"541877\",\"541878\",\"541879\",\"541880\",\"541881\",\"541882\",\"541883\",\"541884\",\"541886\",\"541903\",\"541916\",\"541919\",\"541932\",\"541946\",\"541947\",\"541948\",\"541949\",\"541950\",\"541960\",\"541962\",\"541963\",\"541965\",\"541966\",\"541967\",\"541968\",\"541969\",\"541970\",\"541971\",\"541972\",\"541973\",\"541974\",\"541975\",\"541976\",\"541977\",\"541978\",\"541979\",\"541980\",\"541981\",\"541982\",\"541983\",\"541984\",\"541985\",\"541986\",\"541987\",\"541988\",\"541989\",\"541990\",\"541991\",\"541992\",\"541993\",\"541995\",\"541996\",\"541997\",\"541998\",\"541999\",\"542000\",\"542001\",\"542002\",\"542003\",\"542004\",\"542005\",\"542006\",\"542025\",\"542026\",\"542057\",\"542058\",\"542059\",\"542065\",\"542079\",\"542080\",\"542081\",\"542083\",\"542084\",\"542085\",\"542087\",\"542090\",\"542093\",\"542096\",\"542098\",\"542099\",\"542100\",\"542102\",\"542103\",\"542105\",\"542106\",\"542107\",\"542108\",\"542109\",\"542110\",\"542111\",\"542112\",\"542113\",\"542114\",\"542115\",\"542121\",\"542122\",\"542123\",\"542124\",\"542125\",\"542126\",\"542127\",\"542128\",\"542129\",\"542130\",\"542131\",\"542132\",\"542133\",\"542134\",\"542135\",\"542136\",\"542137\",\"542141\",\"542142\",\"542143\",\"542145\",\"542146\",\"542147\",\"542148\",\"542149\",\"542151\",\"542152\",\"542153\",\"542154\",\"542155\",\"542156\",\"542174\",\"542192\",\"542207\",\"542208\",\"542212\",\"542213\",\"542214\",\"542215\",\"542216\",\"542217\",\"542219\",\"542220\",\"542221\",\"542222\",\"542223\",\"542224\",\"542225\",\"542226\",\"542227\",\"542228\",\"542229\",\"542230\",\"542231\",\"542233\",\"542234\",\"542235\",\"542236\",\"542237\",\"542238\",\"542239\",\"542240\",\"542241\",\"542242\",\"542243\",\"542246\",\"542247\",\"542252\",\"542253\",\"542254\",\"542255\",\"542258\",\"542265\",\"542266\",\"542267\",\"542268\",\"542269\",\"542272\",\"542274\",\"542275\",\"542276\",\"542277\",\"542278\",\"542284\",\"542303\",\"542320\",\"542344\",\"542345\",\"542347\",\"542349\",\"542350\",\"542351\",\"542353\",\"542354\",\"542355\",\"542360\",\"542361\",\"542362\",\"542363\",\"542364\",\"542365\",\"542367\",\"542368\",\"542369\",\"542370\",\"542371\",\"542372\",\"542373\",\"542374\",\"542375\",\"542377\",\"542378\",\"542379\",\"542380\",\"542381\",\"542382\",\"542384\",\"542386\",\"542387\",\"542388\",\"542389\",\"542390\",\"542391\",\"542392\",\"542393\",\"542394\",\"542396\",\"542397\",\"542398\",\"542399\",\"542401\",\"542405\",\"542406\",\"542407\",\"542408\",\"542409\",\"542411\",\"542412\",\"542414\",\"542415\",\"542417\",\"542418\",\"542419\",\"542420\",\"542422\",\"542423\",\"542425\",\"542428\",\"542429\",\"542430\",\"542431\",\"542432\",\"542433\",\"542434\",\"542470\",\"542503\",\"542504\",\"542505\",\"542506\",\"542507\",\"542508\",\"542509\",\"542510\",\"542511\",\"542512\",\"542513\",\"542514\",\"542515\",\"542516\",\"542517\",\"542518\",\"542519\",\"542520\",\"542521\",\"542526\",\"542527\",\"542528\",\"542529\",\"542530\",\"542531\",\"542532\",\"542533\",\"542534\",\"542535\",\"542536\",\"542538\",\"542541\",\"542542\",\"542543\",\"542544\",\"542545\",\"542546\",\"542547\",\"542548\",\"542549\",\"542550\",\"542551\",\"542552\",\"542553\",\"542554\",\"542555\",\"542556\",\"542557\",\"542558\",\"542559\",\"542560\",\"542561\",\"542562\",\"542563\",\"542564\",\"542565\",\"542566\",\"542567\",\"542568\",\"542569\",\"542570\",\"542571\",\"542572\",\"542573\",\"542574\",\"542575\",\"542576\",\"542577\",\"542578\",\"542579\",\"542580\",\"542581\",\"542582\",\"542583\",\"542584\",\"542585\",\"542586\",\"542587\",\"542590\",\"542591\",\"542594\",\"542595\",\"542596\",\"542597\",\"542598\",\"542599\",\"542600\",\"542601\",\"542602\",\"542603\",\"542605\",\"542606\",\"542607\",\"542608\",\"542609\",\"542610\",\"542611\",\"542612\",\"542613\",\"542614\",\"542615\",\"542616\",\"542617\",\"542618\",\"542619\",\"542620\",\"542621\",\"542622\",\"542623\",\"542624\",\"542625\",\"542626\",\"542627\",\"542628\",\"542629\",\"542630\",\"542631\",\"542632\",\"542633\",\"542634\",\"542636\",\"542641\",\"542646\",\"542647\",\"542648\",\"542649\",\"542659\",\"542662\",\"542664\",\"542667\",\"542673\",\"542678\",\"542690\",\"542691\",\"542692\",\"542694\",\"542707\",\"542708\",\"542709\",\"542710\",\"542711\",\"542712\",\"542713\",\"542715\",\"542716\",\"542717\",\"542718\",\"542719\",\"542720\",\"542722\",\"542723\",\"542724\",\"542725\",\"542727\",\"542728\",\"542729\",\"542731\",\"542733\",\"542735\",\"542736\",\"542737\",\"542739\",\"542741\",\"542743\",\"542745\",\"542746\",\"542759\",\"542776\",\"542777\",\"542778\",\"542779\",\"542780\",\"542782\",\"542783\",\"542784\",\"542785\",\"542786\",\"542788\",\"542789\",\"542790\",\"542791\",\"542794\",\"542795\",\"542796\",\"542797\",\"542800\",\"542806\",\"542812\",\"542835\",\"542836\",\"542849\",\"542858\",\"542859\",\"542861\",\"542862\",\"542863\",\"542864\",\"542865\",\"542867\",\"542868\",\"542869\",\"542870\",\"542871\",\"542872\",\"542879\",\"542880\",\"542881\",\"542882\",\"542883\",\"542884\",\"542885\",\"542886\",\"542887\",\"542888\",\"542889\",\"542890\",\"542891\",\"542892\",\"542893\",\"542894\",\"542895\",\"542896\",\"542897\",\"542898\",\"542899\",\"542900\",\"542901\",\"542902\",\"542903\",\"542904\",\"542905\",\"542906\",\"542907\",\"542908\",\"542909\",\"542911\",\"542914\",\"542915\",\"542919\",\"542920\",\"542921\",\"542922\",\"542923\",\"542925\",\"542926\",\"542927\",\"542928\",\"542929\",\"542930\",\"542931\",\"542932\",\"542933\",\"542934\",\"542936\",\"542944\",\"542965\",\"542989\",\"542990\",\"542992\",\"542993\",\"542994\",\"542995\",\"542996\",\"542997\",\"542998\",\"542999\",\"543000\",\"543001\",\"543002\",\"543003\",\"543005\",\"543006\",\"543007\",\"543008\",\"543009\",\"543010\",\"543011\",\"543012\",\"543013\",\"543014\",\"543015\",\"543016\",\"543017\",\"543018\",\"543019\",\"543020\",\"543021\",\"543022\",\"543023\",\"543024\",\"543025\",\"543027\",\"543028\",\"543029\",\"543030\",\"543031\",\"543032\",\"543033\",\"543034\",\"543035\",\"543036\",\"543037\",\"543038\",\"543040\",\"543041\",\"543043\",\"543044\",\"543045\",\"543046\",\"543047\",\"543048\",\"543049\",\"543051\",\"543053\",\"543054\",\"543055\",\"543056\",\"543057\",\"543094\",\"543095\",\"543096\",\"543097\",\"543098\",\"543099\",\"543106\",\"543107\",\"543108\",\"543111\",\"543113\",\"543114\",\"543115\",\"543116\",\"543117\",\"543118\",\"543120\",\"543121\",\"543122\",\"543123\",\"543124\",\"543125\",\"543126\",\"543127\",\"543128\",\"543129\",\"543130\",\"543131\",\"543132\",\"543133\",\"543134\",\"543161\",\"543162\",\"543163\",\"543164\",\"543165\",\"543166\",\"543167\",\"543168\",\"543169\",\"543170\",\"543171\",\"543172\",\"543173\",\"543174\",\"543176\",\"543177\",\"543178\",\"543179\",\"543180\",\"543181\",\"543182\",\"543183\",\"543184\",\"543186\",\"543187\",\"543188\",\"543189\",\"543190\",\"543191\",\"543192\",\"543193\",\"543194\",\"543196\",\"543197\",\"543198\",\"543199\",\"543200\",\"543201\",\"543202\",\"543214\",\"543232\",\"543235\",\"543237\",\"543238\",\"543240\",\"543242\",\"543243\",\"543245\",\"543246\",\"543247\",\"543248\",\"543249\",\"543250\",\"543251\",\"543252\",\"543253\",\"543254\",\"543255\",\"543256\",\"543257\",\"543258\",\"543259\",\"543260\",\"543261\",\"543262\",\"543263\",\"543264\",\"543265\",\"543266\",\"543267\",\"543268\",\"543269\",\"543270\",\"543271\",\"543272\",\"543273\",\"543274\",\"543275\",\"543276\",\"543277\",\"543278\",\"543279\",\"543280\",\"543281\",\"543282\",\"543283\",\"543284\",\"543285\",\"543286\",\"543287\",\"543288\",\"543291\",\"543292\",\"543293\",\"543294\",\"543300\",\"543306\",\"543308\",\"543309\",\"543310\",\"543325\",\"543332\",\"543342\",\"543345\",\"543348\",\"543349\",\"543350\",\"543351\",\"543352\",\"543354\",\"543355\",\"543357\",\"543358\",\"543359\",\"543367\",\"543369\",\"543370\",\"543371\",\"543372\",\"543373\",\"543374\",\"543376\",\"543377\",\"543378\",\"543379\",\"543380\",\"543382\",\"543383\",\"543385\",\"543386\",\"543387\",\"543389\",\"543390\",\"543391\",\"543392\",\"543393\",\"543394\",\"543395\",\"543396\",\"543397\",\"543398\",\"543399\",\"543400\",\"543411\",\"543413\",\"543428\",\"543446\",\"543447\",\"543448\",\"543449\",\"543450\",\"543451\",\"543452\",\"543453\",\"543454\",\"543455\",\"543456\",\"543457\",\"543458\",\"543459\",\"543460\",\"543461\",\"543462\",\"543463\",\"543464\",\"543466\",\"543467\",\"543468\",\"543470\",\"543471\",\"543472\",\"543473\",\"543474\",\"543476\",\"543477\",\"543478\",\"543479\",\"543480\",\"543481\",\"543482\",\"543483\",\"543484\",\"543485\",\"543486\",\"543487\",\"543492\",\"543507\",\"543518\",\"543519\",\"543520\",\"543521\",\"543523\",\"543527\",\"543529\",\"543530\",\"543532\",\"543533\",\"543534\",\"543535\",\"543536\",\"543537\",\"543538\",\"543539\",\"543540\",\"543541\",\"543542\",\"543543\",\"543544\",\"543545\",\"543546\",\"543547\",\"543548\",\"543549\",\"543550\",\"543552\",\"543553\",\"543554\",\"543555\",\"543565\",\"543586\",\"543587\",\"543588\",\"543589\",\"543590\",\"543591\",\"543592\",\"543593\",\"543594\",\"543595\",\"543596\",\"543597\",\"543598\",\"543599\",\"543600\",\"543601\",\"543602\",\"543604\",\"543610\",\"543612\",\"543618\",\"543619\",\"543622\",\"543623\",\"543625\",\"543626\",\"543629\",\"543630\",\"543631\",\"543639\",\"543641\",\"543642\",\"543645\",\"543646\",\"543647\",\"543648\",\"543649\",\"543650\",\"543651\",\"543652\",\"543653\",\"543654\",\"543655\",\"543656\",\"543657\",\"543658\",\"543660\",\"543664\",\"543668\",\"543669\",\"543670\",\"543672\",\"543673\",\"543674\",\"543675\",\"543688\",\"543691\",\"543693\",\"543713\",\"543730\",\"543731\",\"543732\",\"543733\",\"543734\",\"543735\",\"543736\",\"543737\",\"543738\",\"543739\",\"543740\",\"543746\",\"543747\",\"543748\",\"543751\",\"543753\",\"543754\",\"543759\",\"543762\",\"543770\",\"543774\",\"543777\",\"543781\",\"543782\",\"543783\",\"543788\",\"543796\",\"543797\",\"543798\",\"543799\",\"543800\",\"543801\",\"543802\",\"543803\",\"543804\",\"543805\",\"543806\",\"543807\",\"543808\",\"543809\",\"543810\",\"543812\",\"543813\",\"543814\",\"543815\",\"543816\",\"543820\",\"543821\",\"543822\",\"543823\",\"543824\",\"543825\",\"543826\",\"543827\",\"543828\",\"543829\",\"543831\",\"543832\",\"543833\",\"543836\",\"543839\",\"543842\",\"543852\",\"543899\",\"543900\",\"543901\",\"543907\",\"543908\",\"543909\",\"543910\",\"543911\",\"543912\",\"543913\",\"543914\",\"543915\",\"543916\",\"543919\",\"543920\",\"543921\",\"543922\",\"543923\",\"543924\",\"543934\",\"543935\",\"543973\",\"543975\",\"543976\",\"543977\",\"543978\",\"543979\",\"543981\",\"543982\",\"543983\",\"543984\",\"543985\",\"543986\",\"543987\",\"543988\",\"543989\",\"543990\",\"543991\",\"543993\",\"543994\",\"543995\",\"543996\",\"543997\",\"543998\",\"544035\",\"544036\",\"544037\",\"544039\",\"544040\",\"544041\",\"544042\",\"544043\",\"544044\",\"544045\",\"544046\",\"544051\",\"544055\",\"544056\",\"544058\",\"544059\",\"544060\",\"544061\",\"544062\",\"544063\",\"544064\",\"544065\",\"544066\",\"544067\",\"544068\",\"544069\",\"544070\",\"544071\",\"544072\",\"544073\",\"544074\",\"544075\",\"544076\",\"544077\",\"544078\",\"544079\",\"544081\",\"544082\",\"544083\",\"544084\",\"544085\",\"544086\",\"544087\",\"544088\",\"544089\",\"544090\",\"544091\",\"544092\",\"544093\",\"544094\",\"544095\",\"544096\",\"544097\",\"544098\",\"544100\",\"544101\",\"544102\",\"544103\",\"544104\",\"544105\",\"544106\",\"544107\",\"544108\",\"544109\",\"544110\",\"544111\",\"544112\",\"544115\",\"544125\",\"544129\",\"544143\",\"544147\",\"544150\",\"544151\",\"544152\",\"544153\",\"544154\",\"544155\",\"544156\",\"544157\",\"544158\",\"544159\",\"544160\",\"544161\",\"544162\",\"544163\",\"544164\",\"544165\",\"544166\",\"544167\",\"544168\",\"544169\",\"544170\",\"544176\",\"544177\",\"544178\",\"544179\",\"544180\",\"544181\",\"544182\",\"544183\",\"544185\",\"544186\",\"544187\",\"544189\",\"544190\",\"544191\",\"544192\",\"544193\",\"544194\",\"544195\",\"544196\",\"544197\",\"544198\",\"544199\",\"544200\",\"544201\",\"544202\",\"544203\",\"544204\",\"544205\",\"544206\",\"544207\",\"544208\",\"544209\",\"544210\",\"544211\",\"544214\",\"544271\",\"544277\",\"544278\",\"544280\",\"544281\",\"544282\",\"544283\",\"544286\",\"544292\",\"544293\",\"544294\",\"544295\",\"544296\",\"544297\",\"544298\",\"544299\",\"544301\",\"544302\",\"544303\",\"544304\",\"544305\",\"544306\",\"544307\",\"544308\",\"544309\",\"544311\",\"544312\",\"544313\",\"544314\",\"544315\",\"544316\",\"544317\",\"544319\",\"544320\",\"544321\",\"544322\",\"544323\",\"544324\",\"544325\",\"544326\",\"544328\",\"544329\",\"544330\",\"544331\",\"544332\",\"544333\",\"544334\",\"544335\",\"544336\",\"544337\",\"544338\",\"544339\",\"544340\",\"544341\",\"544342\",\"544343\",\"544344\",\"544345\",\"544346\",\"544347\",\"544348\",\"544349\",\"544350\",\"544351\",\"544352\",\"544353\",\"544354\",\"544355\",\"544356\",\"544368\",\"544390\",\"544391\",\"544392\",\"544393\",\"544394\",\"544395\",\"544396\",\"544398\",\"544399\",\"544400\",\"544404\",\"544405\",\"544406\",\"544407\",\"544408\",\"544409\",\"544410\",\"544411\",\"544412\",\"544418\",\"544421\",\"544423\",\"544426\",\"544430\",\"544431\",\"544434\",\"544438\",\"544439\",\"544440\",\"544441\",\"544443\",\"544444\",\"544445\",\"544446\",\"544447\",\"544448\",\"544449\",\"544450\",\"544452\",\"544453\",\"544454\",\"544455\",\"544456\",\"544457\",\"544459\",\"544460\",\"544461\",\"544462\",\"544463\",\"544464\",\"544465\",\"544466\",\"544467\",\"544468\",\"544469\",\"544470\",\"544471\",\"544472\",\"544473\",\"544474\",\"544475\",\"544476\",\"544477\",\"544478\",\"544479\",\"544480\",\"544481\",\"544482\",\"544483\",\"544484\",\"544485\",\"544495\",\"544554\",\"544556\",\"544565\",\"544568\",\"544569\",\"544571\",\"544572\",\"544573\",\"544574\",\"544578\",\"544579\",\"544582\",\"544585\",\"544586\",\"544591\",\"544592\",\"544595\",\"544596\",\"544597\",\"544598\",\"544599\",\"544600\",\"544601\",\"544602\",\"544603\",\"544604\",\"544605\",\"544606\",\"544607\",\"544610\",\"544611\",\"544612\",\"544633\",\"544634\",\"544636\",\"544637\",\"544638\",\"544642\",\"544643\",\"544644\",\"544645\",\"544646\",\"544647\",\"544648\",\"544649\",\"544650\",\"544651\",\"544652\",\"544654\",\"544656\",\"544657\",\"544658\",\"544659\",\"544660\",\"544661\",\"544662\",\"544663\",\"544664\",\"544666\",\"544667\",\"544668\",\"544670\",\"544672\",\"544673\",\"544675\",\"544676\",\"544677\",\"544678\",\"544680\",\"544681\",\"544684\",\"544685\",\"544686\",\"544687\",\"544688\",\"544689\",\"544690\",\"544691\",\"544692\",\"544693\",\"544694\",\"544695\",\"544697\",\"544698\",\"544699\",\"544700\",\"544701\",\"544702\",\"544703\",\"544717\",\"544724\",\"544749\",\"544754\",\"544766\",\"544767\",\"544768\",\"544769\",\"544770\",\"544771\",\"544772\",\"544773\",\"544774\",\"544776\",\"544777\",\"544778\",\"544779\",\"544788\",\"544789\",\"544790\",\"544791\",\"544792\",\"544793\",\"544794\",\"544795\",\"544796\",\"544797\",\"544798\",\"544799\",\"544800\",\"544801\",\"544802\",\"544803\",\"544804\",\"544805\",\"544806\",\"544807\",\"544808\",\"544809\",\"544810\",\"544811\",\"544812\",\"544813\",\"544815\",\"544816\",\"544817\",\"544818\",\"544819\",\"544820\",\"544821\",\"544822\",\"544823\",\"544824\",\"544825\",\"544826\",\"544832\",\"544833\",\"544834\",\"544835\",\"544836\",\"544837\",\"544838\",\"544839\",\"544846\",\"544847\",\"544885\",\"544886\",\"544887\",\"544888\",\"544892\",\"544893\",\"544894\",\"544895\",\"544896\",\"544898\",\"544899\",\"544900\",\"544903\",\"544904\",\"544905\",\"544906\",\"544907\",\"544908\",\"544909\",\"544910\",\"544911\",\"544912\",\"544913\",\"544914\",\"544915\",\"544916\",\"544917\",\"544918\",\"544919\",\"544920\",\"544921\",\"544922\",\"544923\",\"544924\",\"544925\",\"544926\",\"544927\",\"544928\",\"544929\",\"544930\",\"544931\",\"544932\",\"544933\",\"544934\",\"544935\",\"544936\",\"544937\",\"544938\",\"544939\",\"544940\",\"544941\",\"544942\",\"544943\",\"544944\",\"544945\",\"544968\",\"544969\",\"544970\",\"544996\",\"544998\",\"544999\",\"545000\",\"545001\",\"545002\",\"545004\",\"545011\",\"545012\",\"545013\",\"545014\",\"545015\",\"545016\",\"545017\",\"545018\",\"545019\",\"545020\",\"545021\",\"545022\",\"545023\",\"545024\",\"545025\",\"545026\",\"545027\",\"545028\",\"545029\",\"545030\",\"545031\",\"545032\",\"545034\",\"545035\",\"545036\",\"545037\",\"545038\",\"545039\",\"545041\",\"545042\",\"545043\",\"545044\",\"545045\",\"545046\",\"545047\",\"545048\",\"545049\",\"545050\",\"545051\",\"545052\",\"545053\",\"545054\",\"545055\",\"545056\",\"545057\",\"545058\",\"545059\",\"545060\",\"545061\",\"545062\",\"545063\",\"545064\",\"545065\",\"545066\",\"545067\",\"545069\",\"545070\",\"545071\",\"545072\",\"545073\",\"545074\",\"545075\",\"545076\",\"545077\",\"545078\",\"545079\",\"545080\",\"545081\",\"545082\",\"545083\",\"545084\",\"545085\",\"545086\",\"545087\",\"545103\",\"545105\",\"545127\",\"545135\",\"545140\",\"545148\",\"545149\",\"545150\",\"545151\",\"545152\",\"545153\",\"545154\",\"545155\",\"545156\",\"545157\",\"545158\",\"545159\",\"545160\",\"545161\",\"545162\",\"545163\",\"545164\",\"545165\",\"545166\",\"545170\",\"545176\",\"545180\",\"545181\",\"545182\",\"545183\",\"545184\",\"545185\",\"545186\",\"545187\",\"545188\",\"545190\",\"545191\",\"545213\",\"545214\",\"545215\",\"545216\",\"545217\",\"545218\",\"545219\",\"545220\",\"545221\",\"545222\",\"545223\",\"545224\",\"545225\",\"545226\",\"545227\",\"545228\",\"545229\",\"545230\",\"545231\",\"545232\",\"545233\",\"545234\",\"545235\",\"545236\",\"545237\",\"545238\",\"545276\",\"545279\",\"545287\",\"545288\",\"545289\",\"545290\",\"545294\",\"545295\",\"545299\",\"545300\",\"545301\",\"545302\",\"545303\",\"545304\",\"545305\",\"545306\",\"545308\",\"545309\",\"545310\",\"545311\",\"545312\",\"545313\",\"545314\",\"545315\",\"545316\",\"545317\",\"545318\",\"545319\",\"545320\",\"545321\",\"545322\",\"545323\",\"545324\",\"545325\",\"545326\",\"545327\",\"545328\",\"545331\",\"545332\",\"545333\",\"545334\",\"545336\",\"545337\",\"545338\",\"545339\",\"545340\",\"545341\",\"545342\",\"545343\",\"545344\",\"545345\",\"545346\",\"545347\",\"545348\",\"545349\",\"545377\",\"545398\",\"545399\",\"545400\",\"545401\",\"545402\",\"545408\",\"545410\",\"545411\",\"545412\",\"545413\",\"545414\",\"545415\",\"545416\",\"545417\",\"545418\",\"545419\",\"545423\",\"545424\",\"545425\",\"545426\",\"545427\",\"545428\",\"545429\",\"545430\",\"545431\",\"545433\",\"545435\",\"545441\",\"545445\",\"545447\",\"545448\",\"545459\",\"545460\",\"545461\",\"545462\",\"545463\",\"545464\",\"545465\",\"545466\",\"545467\",\"545468\",\"545469\",\"545470\",\"545471\",\"545474\",\"545475\",\"545477\",\"545503\",\"545505\",\"545512\",\"545514\",\"545515\",\"545517\",\"545518\",\"545519\",\"545521\",\"545522\",\"545523\",\"545524\",\"545526\",\"545530\",\"545533\",\"545534\",\"545535\",\"545536\",\"545543\",\"545544\",\"545545\",\"545546\",\"545547\",\"545548\",\"545549\",\"545550\",\"545551\",\"545552\",\"545553\",\"545554\",\"545555\",\"545557\",\"545558\",\"545559\",\"545560\",\"545561\",\"545562\",\"545563\",\"545564\",\"545565\",\"545566\",\"545567\",\"545568\",\"545570\",\"545571\",\"545573\",\"545574\",\"545575\",\"545576\",\"545577\",\"545578\",\"545579\",\"545580\",\"545581\",\"545582\",\"545583\",\"545584\",\"545585\",\"545586\",\"545587\",\"545588\",\"545589\",\"545590\",\"545591\",\"545592\",\"545593\",\"545595\",\"545596\",\"545597\",\"545598\",\"545599\",\"545600\",\"545601\",\"545602\",\"545603\",\"545630\",\"545634\",\"545635\",\"545636\",\"545637\",\"545638\",\"545644\",\"545645\",\"545646\",\"545647\",\"545648\",\"545649\",\"545651\",\"545652\",\"545653\",\"545654\",\"545655\",\"545656\",\"545657\",\"545658\",\"545659\",\"545660\",\"545661\",\"545662\",\"545663\",\"545664\",\"545665\",\"545666\",\"545667\",\"545668\",\"545669\",\"545670\",\"545675\",\"545676\",\"545680\",\"545681\",\"545682\",\"545683\",\"545684\",\"545685\",\"545686\",\"545687\",\"545688\",\"545690\",\"545691\",\"545692\",\"545693\",\"545694\",\"545695\",\"545696\",\"545697\",\"545698\",\"545699\",\"545700\",\"545701\",\"545702\",\"545703\",\"545704\",\"545705\",\"545706\",\"545707\",\"545708\",\"545709\",\"545710\",\"545711\",\"545712\",\"545713\",\"545714\",\"545715\",\"545716\",\"545717\",\"545718\",\"545719\",\"545721\",\"545722\",\"545725\",\"545738\",\"545748\",\"545752\",\"545759\",\"545764\",\"545790\",\"545797\",\"545812\",\"545815\",\"545819\",\"545820\",\"545821\",\"545822\",\"545826\",\"545827\",\"545830\",\"545832\",\"545835\",\"545838\",\"545842\",\"545845\",\"545851\",\"545853\",\"545854\",\"545855\",\"545856\",\"545857\",\"545858\",\"545859\",\"545865\",\"545868\",\"545869\",\"545870\",\"545871\",\"545872\",\"545873\",\"545874\",\"545875\",\"545883\",\"545888\",\"545889\",\"545890\",\"545894\",\"545895\",\"545896\",\"545897\",\"545898\",\"545899\",\"545900\",\"545901\",\"545902\",\"545904\",\"545905\",\"545906\",\"545907\",\"545908\",\"545909\",\"545910\",\"545911\",\"545912\",\"545913\",\"545914\",\"545915\",\"545916\",\"545918\",\"545928\",\"545933\",\"545937\",\"545945\",\"545978\",\"545979\",\"545980\",\"545987\",\"545988\",\"545989\",\"545990\",\"545991\",\"545992\",\"545993\",\"545994\",\"545995\",\"545996\",\"545998\",\"545999\",\"546000\",\"546001\",\"546002\",\"546003\",\"546004\",\"546005\",\"546006\",\"546007\",\"546008\",\"546009\",\"546010\",\"546011\",\"546013\",\"546014\",\"546015\",\"546016\",\"546017\",\"546018\",\"546019\",\"546020\",\"546021\",\"546023\",\"546024\",\"546025\",\"546026\",\"546027\",\"546028\",\"546029\",\"546030\",\"546031\",\"546032\",\"546033\",\"546034\",\"546035\",\"546036\",\"546037\",\"546038\",\"546062\",\"546067\",\"546079\",\"546082\",\"546083\",\"546084\",\"546085\",\"546087\",\"546088\",\"546089\",\"546090\",\"546091\",\"546092\",\"546096\",\"546100\",\"546101\",\"546102\",\"546103\",\"546104\",\"546105\",\"546107\",\"546108\",\"546109\",\"546110\",\"546111\",\"546112\",\"546113\",\"546114\",\"546115\",\"546116\",\"546117\",\"546118\",\"546119\",\"546120\",\"546121\",\"546122\",\"546123\",\"546124\",\"546126\",\"546127\",\"546129\",\"546130\",\"546132\",\"546133\",\"546134\",\"546135\",\"546136\",\"546137\",\"546138\",\"546139\",\"546140\",\"546141\",\"546142\",\"546145\",\"546146\",\"546147\",\"546148\",\"546149\",\"546150\",\"546151\",\"546152\",\"546153\",\"546154\",\"546155\",\"546156\",\"546157\",\"546158\",\"546159\",\"546160\",\"546161\",\"546163\",\"546164\",\"546165\",\"546166\",\"546169\",\"546171\",\"546172\",\"546182\",\"546189\",\"546190\",\"546212\",\"546213\",\"546215\",\"546216\",\"546218\",\"546220\",\"546223\",\"546230\",\"546235\",\"546236\",\"546237\",\"546239\",\"546240\",\"546242\",\"546243\",\"546244\",\"546245\",\"546246\",\"546247\",\"546248\",\"546249\",\"546250\",\"546251\",\"546252\",\"546253\",\"546254\",\"546255\",\"546261\",\"546263\",\"546275\",\"546279\",\"546293\",\"546301\",\"546303\",\"546304\",\"546305\",\"546306\",\"546307\",\"546308\",\"546309\",\"546310\",\"546311\",\"546312\",\"546314\",\"546315\",\"546316\",\"546317\",\"546318\",\"546319\",\"546321\",\"546322\",\"546324\",\"546326\",\"546328\",\"546329\",\"546330\",\"546331\",\"546364\",\"546365\",\"546366\",\"546367\",\"546368\",\"546369\",\"546372\",\"546373\",\"546374\",\"546375\",\"546376\",\"546377\",\"546378\",\"546379\",\"546380\",\"546381\",\"546382\",\"546383\",\"546384\",\"546385\",\"546386\",\"546387\",\"546388\",\"546389\",\"546390\",\"546391\",\"546392\",\"546393\",\"546394\",\"546396\",\"546397\",\"546398\",\"546399\",\"546401\",\"546402\",\"546403\",\"546404\",\"546405\",\"546406\",\"546407\",\"546408\",\"546409\",\"546411\",\"546412\",\"546413\",\"546414\",\"546415\",\"546417\",\"546418\",\"546419\",\"546420\",\"546421\",\"546422\",\"546423\",\"546424\",\"546425\",\"546426\",\"546427\",\"546428\",\"546429\",\"546430\",\"546431\",\"546432\",\"546433\",\"546434\",\"546435\",\"546436\",\"546437\",\"546438\",\"546440\",\"546441\",\"546442\",\"546443\",\"546444\",\"546462\",\"546464\",\"546465\",\"546466\",\"546479\",\"546480\",\"546486\",\"546498\",\"546502\",\"546508\",\"546509\",\"546510\",\"546520\",\"546521\",\"546522\",\"546523\",\"546524\",\"546525\",\"546526\",\"546527\",\"546528\",\"546530\",\"546531\",\"546532\",\"546533\",\"546534\",\"546537\",\"546538\",\"546539\",\"546540\",\"546541\",\"546542\",\"546543\",\"546544\",\"546545\",\"546549\",\"546550\",\"546551\",\"546552\",\"546553\",\"546554\",\"546555\",\"546556\",\"546558\",\"546560\",\"546561\",\"546562\",\"546563\",\"546569\",\"546580\",\"546622\",\"546624\",\"546625\",\"546631\",\"546632\",\"546633\",\"546634\",\"546635\",\"546636\",\"546637\",\"546638\",\"546639\",\"546640\",\"546642\",\"546643\",\"546644\",\"546646\",\"546648\",\"546649\",\"546650\",\"546651\",\"546652\",\"546653\",\"546654\",\"546655\",\"546656\",\"546657\",\"546658\",\"546659\",\"546660\",\"546661\",\"546662\",\"546663\",\"546665\",\"546666\",\"546667\",\"546668\",\"546669\",\"546670\",\"546672\",\"546673\",\"546677\",\"546678\",\"546679\",\"546681\",\"546682\",\"546683\",\"546684\",\"546685\",\"546686\",\"546687\",\"546688\",\"546689\",\"546690\",\"546691\",\"546724\",\"546728\",\"546729\",\"546731\",\"546732\",\"546733\",\"546734\",\"546736\",\"546737\",\"546738\",\"546739\",\"546741\",\"546742\",\"546748\",\"546749\",\"546750\",\"546751\",\"546752\",\"546753\",\"546754\",\"546755\",\"546756\",\"546757\",\"546759\",\"546760\",\"546761\",\"546762\",\"546763\",\"546764\",\"546765\",\"546766\",\"546767\",\"546768\",\"546769\",\"546770\",\"546771\",\"546772\",\"546774\",\"546775\",\"546776\",\"546778\",\"546779\",\"546780\",\"546781\",\"546782\",\"546784\",\"546785\",\"546786\",\"546787\",\"546788\",\"546789\",\"546790\",\"546791\",\"546827\",\"546828\",\"546829\",\"546830\",\"546831\",\"546832\",\"546837\",\"546843\",\"546846\",\"546847\",\"546848\",\"546849\",\"546850\",\"546851\",\"546852\",\"546853\",\"546855\",\"546856\",\"546857\",\"546860\",\"546861\",\"546862\",\"546863\",\"546866\",\"546869\",\"546871\",\"546872\",\"546873\",\"546874\",\"546875\",\"546876\",\"546877\",\"546878\",\"546882\",\"546883\",\"546884\",\"546888\",\"546890\",\"546891\",\"546892\",\"546896\",\"546898\",\"546899\",\"546900\",\"546902\",\"546908\",\"546909\",\"546910\",\"546911\",\"546912\",\"546913\",\"546914\",\"546915\",\"546916\",\"546917\",\"546918\",\"546919\",\"546920\",\"546921\",\"546922\",\"546923\",\"546924\",\"546925\",\"546926\",\"546927\",\"546928\",\"546929\",\"546933\",\"546944\",\"546949\",\"546950\",\"546951\",\"546957\",\"546963\",\"546972\",\"546973\",\"546974\",\"546976\",\"546977\",\"546979\",\"546980\",\"546981\",\"546982\",\"546983\",\"546984\",\"546985\",\"546986\",\"546988\",\"546990\",\"546991\",\"546992\",\"546993\",\"546994\",\"546995\",\"546996\",\"546998\",\"546999\",\"547000\",\"547001\",\"547002\",\"547003\",\"547004\",\"547005\",\"547006\",\"547007\",\"547009\",\"547017\",\"547018\",\"547019\",\"547020\",\"547021\",\"547022\",\"547023\",\"547025\",\"547026\",\"547028\",\"547029\",\"547030\",\"547032\",\"547033\",\"547034\",\"547035\",\"547036\",\"547037\",\"547038\",\"547039\",\"547040\",\"547041\",\"547042\",\"547044\",\"547045\",\"547046\",\"547047\",\"547048\",\"547049\",\"547050\",\"547051\",\"547052\",\"547053\",\"547055\",\"547056\",\"547057\",\"547058\",\"547059\",\"547060\",\"547061\",\"547062\",\"547063\",\"547064\",\"547065\",\"547066\",\"547067\",\"547068\",\"547069\",\"547070\",\"547071\",\"547072\",\"547073\",\"547074\",\"547075\",\"547076\",\"547077\",\"547078\",\"547079\",\"547080\",\"547081\",\"547082\",\"547083\",\"547084\",\"547085\",\"547086\",\"547087\",\"547088\",\"547089\",\"547090\",\"547092\",\"547093\",\"547094\",\"547095\",\"547096\",\"547097\",\"547098\",\"547099\",\"547100\",\"547101\",\"547102\",\"547103\",\"547105\",\"547106\",\"547107\",\"547108\",\"547109\",\"547114\",\"547122\",\"547134\",\"547154\",\"547165\",\"547171\",\"547192\",\"547194\",\"547195\",\"547196\",\"547197\",\"547199\",\"547200\",\"547201\",\"547202\",\"547203\",\"547204\",\"547205\",\"547206\",\"547207\",\"547209\",\"547219\",\"547220\",\"547221\",\"547222\",\"547223\",\"547224\",\"547225\",\"547226\",\"547227\",\"547233\",\"547238\",\"547239\",\"547240\",\"547243\",\"547244\",\"547245\",\"547246\",\"547247\",\"547248\",\"547249\",\"547250\",\"547251\",\"547252\",\"547253\",\"547273\",\"547324\",\"547327\",\"547328\",\"547329\",\"547330\",\"547331\",\"547332\",\"547333\",\"547334\",\"547335\",\"547336\",\"547337\",\"547338\",\"547339\",\"547340\",\"547341\",\"547343\",\"547344\",\"547345\",\"547346\",\"547347\",\"547348\",\"547349\",\"547350\",\"547357\",\"547358\",\"547359\",\"547360\",\"547361\",\"547362\",\"547363\",\"547364\",\"547365\",\"547366\",\"547367\",\"547369\",\"547370\",\"547371\",\"547372\",\"547373\",\"547374\",\"547375\",\"547377\",\"547378\",\"547379\",\"547380\",\"547381\",\"547382\",\"547383\",\"547384\",\"547385\",\"547386\",\"547387\",\"547389\",\"547390\",\"547391\",\"547393\",\"547394\",\"547395\",\"547396\",\"547397\",\"547398\",\"547399\",\"547400\",\"547401\",\"547402\",\"547403\",\"547404\",\"547405\",\"547406\",\"547407\",\"547411\",\"547412\",\"547413\",\"547414\",\"547415\",\"547416\",\"547417\",\"547418\",\"547419\",\"547420\",\"547428\",\"547444\",\"547485\",\"547486\",\"547487\",\"547488\",\"547489\",\"547490\",\"547491\",\"547492\",\"547493\",\"547494\",\"547496\",\"547497\",\"547498\",\"547500\",\"547501\",\"547503\",\"547504\",\"547505\",\"547506\",\"547507\",\"547508\",\"547509\",\"547510\",\"547511\",\"547512\",\"547513\",\"547514\",\"547515\",\"547516\",\"547517\",\"547518\",\"547519\",\"547520\",\"547521\",\"547522\",\"547523\",\"547524\",\"547525\",\"547526\",\"547527\",\"547528\",\"547529\",\"547530\",\"547531\",\"547532\",\"547533\",\"547534\",\"547535\",\"547536\",\"547537\",\"547538\",\"547539\",\"547541\",\"547546\",\"547547\",\"547548\",\"547549\",\"547550\",\"547551\",\"547552\",\"547553\",\"547554\",\"547555\",\"547556\",\"547557\",\"547558\",\"547559\",\"547560\",\"547561\",\"547562\",\"547563\",\"547564\",\"547565\",\"547566\",\"547567\",\"547568\",\"547569\",\"547570\",\"547571\",\"547572\",\"547573\",\"547575\",\"547576\",\"547577\",\"547578\",\"547579\",\"547580\",\"547583\",\"547593\",\"547595\",\"547596\",\"547597\",\"547598\",\"547599\",\"547606\",\"547611\",\"547618\",\"547623\",\"547626\",\"547639\",\"547644\",\"547645\",\"547646\",\"547647\",\"547648\",\"547649\",\"547650\",\"547651\",\"547652\",\"547653\",\"547654\",\"547655\",\"547656\",\"547657\",\"547658\",\"547659\",\"547662\",\"547663\",\"547664\",\"547665\",\"547666\",\"547667\",\"547668\",\"547669\",\"547670\",\"547671\",\"547672\",\"547673\",\"547674\",\"547684\",\"547685\",\"547686\",\"547687\",\"547688\",\"547689\",\"547690\",\"547691\",\"547694\",\"547695\",\"547696\",\"547697\",\"547698\",\"547699\",\"547700\",\"547701\",\"547702\",\"547703\",\"547704\",\"547705\",\"547706\",\"547707\",\"547708\",\"547709\",\"547712\",\"547713\",\"547714\",\"547715\",\"547716\",\"547717\",\"547718\",\"547719\",\"547720\",\"547721\",\"547722\",\"547723\",\"547724\",\"547726\",\"547727\",\"547728\",\"547729\",\"547730\",\"547762\",\"547772\",\"547785\",\"547786\",\"547787\",\"547788\",\"547789\",\"547790\",\"547792\",\"547793\",\"547794\",\"547795\",\"547796\",\"547799\",\"547800\",\"547801\",\"547803\",\"547804\",\"547805\",\"547809\",\"547810\",\"547811\",\"547812\",\"547813\",\"547814\",\"547815\",\"547816\",\"547817\",\"547818\",\"547819\",\"547820\",\"547821\",\"547822\",\"547825\",\"547826\",\"547827\",\"547828\",\"547829\",\"547830\",\"547832\",\"547833\",\"547834\",\"547835\",\"547837\",\"547839\",\"547840\",\"547841\",\"547842\",\"547843\",\"547844\",\"547845\",\"547846\",\"547850\",\"547860\",\"547861\",\"547862\",\"547863\",\"547864\",\"547865\",\"547866\",\"547867\",\"547870\",\"547871\",\"547872\",\"547873\",\"547874\",\"547875\",\"547876\",\"547877\",\"547878\",\"547879\",\"547880\",\"547881\",\"547882\",\"547883\",\"547884\",\"547885\",\"547886\",\"547887\",\"547888\",\"547890\",\"547891\",\"547892\",\"547893\",\"547894\",\"547895\",\"547896\",\"547897\",\"547898\",\"547900\",\"547901\",\"547902\",\"547903\",\"547906\",\"547907\",\"547909\",\"547910\",\"547911\",\"547912\",\"547914\",\"547916\",\"547917\",\"547918\",\"547919\",\"547920\",\"547921\",\"547922\",\"547923\",\"547924\",\"547925\",\"547926\",\"547927\",\"547928\",\"547929\",\"547931\",\"547932\",\"547933\",\"547934\",\"547935\",\"547936\",\"547937\",\"547938\",\"547939\",\"547940\",\"547941\",\"547942\",\"547943\",\"547944\",\"547945\",\"547946\",\"547947\",\"547948\",\"547949\",\"547950\",\"547957\",\"547959\",\"547960\",\"547962\",\"547963\",\"547964\",\"547965\",\"547966\",\"547967\",\"547969\",\"547970\",\"547971\",\"547972\",\"547985\",\"547986\",\"547987\",\"547989\",\"547990\",\"547991\",\"547993\",\"547994\",\"547995\",\"547996\",\"547997\",\"547998\",\"547999\",\"548000\",\"548001\",\"548002\",\"548003\",\"548005\",\"548006\",\"548007\",\"548008\",\"548010\",\"548011\",\"548012\",\"548013\",\"548014\",\"548016\",\"548017\",\"548033\",\"548038\",\"548069\",\"548095\",\"548098\",\"548104\",\"548110\",\"548144\",\"548148\",\"548149\",\"548150\",\"548151\",\"548152\",\"548153\",\"548154\",\"548156\",\"548157\",\"548158\",\"548159\",\"548160\",\"548161\",\"548162\",\"548163\",\"548164\",\"548165\",\"548166\",\"548167\",\"548168\",\"548169\",\"548170\",\"548171\",\"548172\",\"548173\",\"548175\",\"548176\",\"548177\",\"548178\",\"548185\",\"548186\",\"548188\",\"548189\",\"548190\",\"548191\",\"548192\",\"548194\",\"548195\",\"548196\",\"548197\",\"548198\",\"548199\",\"548202\",\"548203\",\"548204\",\"548205\",\"548206\",\"548207\",\"548208\",\"548209\",\"548210\",\"548211\",\"548212\",\"548213\",\"548214\",\"548215\",\"548216\",\"548217\",\"548218\",\"548219\",\"548220\",\"548221\",\"548222\",\"548223\",\"548224\",\"548227\",\"548234\",\"548242\",\"548245\",\"548255\",\"548256\",\"548257\",\"548258\",\"548259\",\"548260\",\"548261\",\"548267\",\"548269\",\"548276\",\"548286\",\"548289\",\"548293\",\"548308\",\"548309\",\"548310\",\"548311\",\"548312\",\"548313\",\"548314\",\"548315\",\"548316\",\"548317\",\"548318\",\"548319\",\"548320\",\"548321\",\"548322\",\"548323\",\"548324\",\"548325\",\"548326\",\"548327\",\"548328\",\"548329\",\"548330\",\"548331\",\"548332\",\"548333\",\"548334\",\"548335\",\"548336\",\"548337\",\"548338\",\"548339\",\"548340\",\"548349\",\"548351\",\"548353\",\"548354\",\"548358\",\"548359\",\"548361\",\"548363\",\"548364\",\"548365\",\"548366\",\"548367\",\"548368\",\"548369\",\"548370\",\"548371\",\"548372\",\"548373\",\"548376\",\"548377\",\"548378\",\"548379\",\"548380\",\"548381\",\"548382\",\"548383\",\"548384\",\"548385\",\"548386\",\"548388\",\"548390\",\"548393\",\"548394\",\"548395\",\"548396\",\"548397\",\"548398\",\"548399\",\"548400\",\"548401\",\"548402\",\"548403\",\"548404\",\"548405\",\"548406\",\"548407\",\"548408\",\"548409\",\"548410\",\"548412\",\"548447\",\"548448\",\"548449\",\"548450\",\"548451\",\"548452\",\"548455\",\"548457\",\"548458\",\"548459\",\"548461\",\"548466\",\"548468\",\"548470\",\"548484\",\"548486\",\"548489\",\"548490\",\"548491\",\"548492\",\"548493\",\"548494\",\"548496\",\"548497\",\"548498\",\"548499\",\"548500\",\"548501\",\"548502\",\"548504\",\"548505\",\"548506\",\"548507\",\"548509\",\"548510\",\"548511\",\"548512\",\"548514\",\"548515\",\"548516\",\"548520\",\"548521\",\"548522\",\"548529\",\"548530\",\"548531\",\"548533\",\"548534\",\"548535\",\"548536\",\"548537\",\"548538\",\"548539\",\"548540\",\"548541\",\"548542\",\"548544\",\"548545\",\"548546\",\"548547\",\"548548\",\"548549\",\"548550\",\"548551\",\"548552\",\"548553\",\"548554\",\"548555\",\"548556\",\"548557\",\"548558\",\"548559\",\"548560\",\"548561\",\"548562\",\"548563\",\"548565\",\"548566\",\"548567\",\"548568\",\"548604\",\"548606\",\"548608\",\"548610\",\"548611\",\"548612\",\"548613\",\"548614\",\"548615\",\"548616\",\"548617\",\"548618\",\"548619\",\"548620\",\"548621\",\"548622\",\"548623\",\"548624\",\"548627\",\"548629\",\"548630\",\"548631\",\"548632\",\"548633\",\"548634\",\"548635\",\"548636\",\"548637\",\"548638\",\"548639\",\"548640\",\"548641\",\"548642\",\"548643\",\"548644\",\"548645\",\"548646\",\"548648\",\"548649\",\"548650\",\"548651\",\"548652\",\"548653\",\"548654\",\"548655\",\"548656\",\"548657\",\"548658\",\"548659\",\"548660\",\"548661\",\"548662\",\"548663\",\"548664\",\"548665\",\"548666\",\"548668\",\"548669\",\"548670\",\"548673\",\"548674\",\"548675\",\"548676\",\"548677\",\"548678\",\"548679\",\"548680\",\"548681\",\"548682\",\"548683\",\"548684\",\"548685\",\"548686\",\"548687\",\"548692\",\"548693\",\"548694\",\"548696\",\"548697\",\"548698\",\"548699\",\"548700\",\"548701\",\"548702\",\"548703\",\"548704\",\"548705\",\"548706\",\"548707\",\"548708\",\"548709\",\"548710\",\"548711\",\"548712\",\"548714\",\"548715\",\"548716\",\"548718\",\"548720\",\"548725\",\"548726\",\"548728\",\"548730\",\"548732\",\"548733\",\"548734\",\"548735\",\"548736\",\"548737\",\"548739\",\"548740\",\"548741\",\"548742\",\"548743\",\"548744\",\"548745\",\"548746\",\"548747\",\"548749\",\"548757\",\"548768\",\"548780\",\"548792\",\"548796\",\"548801\",\"548806\",\"548807\",\"548808\",\"548813\",\"548820\",\"548856\",\"548858\",\"548859\",\"548860\",\"548861\",\"548862\",\"548863\",\"548864\",\"548865\",\"548867\",\"548868\",\"548869\",\"548870\",\"548871\",\"548872\",\"548873\",\"548874\",\"548886\",\"548887\",\"548888\",\"548889\",\"548890\",\"548892\",\"548893\",\"548894\",\"548895\",\"548896\",\"548897\",\"548898\",\"548899\",\"548900\",\"548901\",\"548907\",\"548909\",\"548910\",\"548911\",\"548912\",\"548913\",\"548916\",\"548917\",\"548918\",\"548919\",\"548920\",\"548940\",\"548942\",\"548945\",\"548952\",\"548955\",\"548968\",\"548969\",\"548970\",\"548971\",\"548973\",\"548974\",\"548975\",\"548977\",\"548978\",\"548979\",\"548980\",\"548981\",\"548983\",\"548984\",\"548985\",\"548986\",\"548987\",\"548988\",\"548989\",\"548990\",\"548991\",\"548992\",\"548993\",\"548994\",\"548996\",\"548997\",\"548998\",\"548999\",\"549000\",\"549001\",\"549002\",\"549003\",\"549004\",\"549005\",\"549006\",\"549007\",\"549008\",\"549009\",\"549010\",\"549011\",\"549012\",\"549014\",\"549015\",\"549016\",\"549017\",\"549018\",\"549020\",\"549021\",\"549022\",\"549023\",\"549026\",\"549027\",\"549028\",\"549029\",\"549030\",\"549031\",\"549032\",\"549033\",\"549034\",\"549035\",\"549036\",\"549037\",\"549038\",\"549040\",\"549042\",\"549043\",\"549044\",\"549046\",\"549047\",\"549048\",\"549052\",\"549053\",\"549054\",\"549055\",\"549056\",\"549059\",\"549099\",\"549100\",\"549101\",\"549102\",\"549103\",\"549104\",\"549105\",\"549106\",\"549107\",\"549115\",\"549116\",\"549117\",\"549118\",\"549119\",\"549120\",\"549121\",\"549122\",\"549123\",\"549124\",\"549125\",\"549126\",\"549127\",\"549128\",\"549129\",\"549130\",\"549131\",\"549132\",\"549133\",\"549134\",\"549135\",\"549136\",\"549137\",\"549138\",\"549139\",\"549140\",\"549141\",\"549142\",\"549143\",\"549144\",\"549145\",\"549146\",\"549147\",\"549148\",\"549149\",\"549150\",\"549151\",\"549153\",\"549154\",\"549155\",\"549156\",\"549157\",\"549158\",\"549159\",\"549160\",\"549161\",\"549163\",\"549164\",\"549165\",\"549166\",\"549167\",\"549168\",\"549169\",\"549170\",\"549171\",\"549172\",\"549173\",\"549174\",\"549175\",\"549176\",\"549177\",\"549178\",\"549179\",\"549180\",\"549181\",\"549182\",\"549183\",\"549185\",\"549186\",\"549187\",\"549188\",\"549189\",\"549190\",\"549192\",\"549193\",\"549196\",\"549206\",\"549222\",\"549225\",\"549233\",\"549234\",\"549235\",\"549236\",\"549237\",\"549238\",\"549239\",\"549240\",\"549241\",\"549242\",\"549243\",\"549244\",\"549245\",\"549246\",\"549247\",\"549248\",\"549249\",\"549250\",\"549251\",\"549255\",\"549256\",\"549257\",\"549258\",\"549259\",\"549260\",\"549261\",\"549262\",\"549263\",\"549264\",\"549266\",\"549267\",\"549268\",\"549270\",\"549271\",\"549272\",\"549273\",\"549274\",\"549275\",\"549276\",\"549277\",\"549278\",\"549279\",\"549280\",\"549281\",\"549282\",\"549283\",\"549284\",\"549285\",\"549286\",\"549287\",\"549289\",\"549291\",\"549292\",\"549293\",\"549294\",\"549295\",\"549296\",\"549297\",\"549298\",\"549299\",\"549300\",\"549301\",\"549302\",\"549303\",\"549304\",\"549305\",\"549306\",\"549307\",\"549308\",\"549309\",\"549310\",\"549311\",\"549312\",\"549313\",\"549314\",\"549316\",\"549317\",\"549318\",\"549319\",\"549320\",\"549321\",\"549322\",\"549323\",\"549324\",\"549325\",\"549326\",\"549327\",\"549328\",\"549329\",\"549330\",\"549331\",\"549332\",\"549340\",\"549342\",\"549343\",\"549344\",\"549345\",\"549346\",\"549347\",\"549348\",\"549349\",\"549350\",\"549351\",\"549353\",\"549355\",\"549360\",\"549368\",\"549371\",\"549372\",\"549373\",\"549374\",\"549375\",\"549376\",\"549387\",\"549412\",\"549417\",\"549424\",\"549425\",\"549426\",\"549427\",\"549428\",\"549429\",\"549431\",\"549432\",\"549433\",\"549434\",\"549435\",\"549436\",\"549439\",\"549440\",\"549441\",\"549442\",\"549443\",\"549444\",\"549445\",\"549446\",\"549447\",\"549448\",\"549449\",\"549451\",\"549453\",\"549454\",\"549455\",\"549456\",\"549457\",\"549458\",\"549459\",\"549460\",\"549461\",\"549462\",\"549463\",\"549464\",\"549465\",\"549466\",\"549467\",\"549468\",\"549470\",\"549471\",\"549489\",\"549492\",\"549494\",\"549497\",\"549498\",\"549500\",\"549502\",\"549506\",\"549510\",\"549514\",\"549520\",\"549522\",\"549523\",\"549524\",\"549525\",\"549526\",\"549527\",\"549528\",\"549529\",\"549531\",\"549534\",\"549536\",\"549537\",\"549538\",\"549539\",\"549541\",\"549542\",\"549543\",\"549546\",\"549547\",\"549548\",\"549550\",\"549551\",\"549552\",\"549553\",\"549554\",\"549555\",\"549556\",\"549557\",\"549558\",\"549559\",\"549560\",\"549561\",\"549562\",\"549563\",\"549564\",\"549566\",\"549567\",\"549568\",\"549569\",\"549570\",\"549571\",\"549572\",\"549573\",\"549574\",\"549575\",\"549576\",\"549577\",\"549578\",\"549579\",\"549581\",\"549583\",\"549584\",\"549585\",\"549586\",\"549587\",\"549588\",\"549589\",\"549590\",\"549591\",\"549592\",\"549593\",\"549594\",\"549595\",\"549596\",\"549597\",\"549614\",\"549619\",\"549628\",\"549633\",\"549646\",\"549664\",\"549665\",\"549667\",\"549668\",\"549669\",\"549670\",\"549678\",\"549679\",\"549680\",\"549681\",\"549682\",\"549683\",\"549684\",\"549687\",\"549689\",\"549690\",\"549691\",\"549693\",\"549694\",\"549695\",\"549696\",\"549705\",\"549711\",\"549712\",\"549713\",\"549714\",\"549715\",\"549716\",\"549717\",\"549718\",\"549719\",\"549720\",\"549721\",\"549722\",\"549728\",\"549729\",\"549730\",\"549732\",\"549733\",\"549734\",\"549735\",\"549736\",\"549737\",\"549738\",\"549739\",\"549740\",\"549741\",\"549742\",\"549743\",\"549744\",\"549745\",\"549746\",\"549747\",\"549748\",\"549749\",\"549750\",\"549751\",\"549752\",\"549754\",\"549755\",\"549756\",\"549771\",\"549787\",\"549789\",\"549790\",\"549813\",\"549825\",\"549826\",\"549828\",\"549829\",\"549830\",\"549831\",\"549832\",\"549833\",\"549834\",\"549835\",\"549836\",\"549837\",\"549838\",\"549839\",\"549841\",\"549842\",\"549843\",\"549844\",\"549845\",\"549846\",\"549847\",\"549848\",\"549849\",\"549850\",\"549851\",\"549852\",\"549874\",\"549880\",\"549881\",\"549885\",\"549896\",\"549901\",\"549902\",\"549903\",\"549904\",\"549906\",\"549907\",\"549909\",\"549910\",\"549911\",\"549914\",\"549915\",\"549916\",\"549917\",\"549918\",\"549920\",\"549923\",\"549924\",\"549925\",\"549926\",\"549927\",\"549928\",\"549929\",\"549932\",\"549933\",\"549934\",\"549935\",\"549936\",\"549937\",\"549938\",\"549939\",\"549940\",\"549941\",\"549942\",\"549943\",\"549944\",\"549946\",\"549947\",\"549948\",\"549949\",\"549950\",\"549951\",\"549952\",\"549953\",\"549954\",\"549956\",\"549957\",\"549958\",\"549959\",\"549961\",\"549964\",\"549965\",\"549966\",\"549967\",\"549969\",\"549970\",\"549971\",\"549972\",\"549974\",\"549975\",\"549976\",\"549977\",\"549978\",\"549979\",\"549980\",\"549981\",\"549982\",\"549983\",\"549984\",\"549985\",\"549988\",\"549989\",\"549990\",\"549991\",\"549992\",\"549993\",\"549994\",\"549995\",\"549996\",\"549997\",\"549998\",\"549999\",\"550000\",\"550001\",\"550002\",\"550003\",\"550004\",\"550005\",\"550006\",\"550007\",\"550008\",\"550011\",\"550012\",\"550015\",\"550016\",\"550017\",\"550025\",\"550030\",\"550031\",\"550032\",\"550033\",\"550034\",\"550035\",\"550052\",\"550054\",\"550057\",\"550071\",\"550106\",\"550120\",\"550121\",\"550122\",\"550123\",\"550124\",\"550125\",\"550126\",\"550128\",\"550129\",\"550130\",\"550131\",\"550132\",\"550133\",\"550134\",\"550135\",\"550136\",\"550137\",\"550138\",\"550144\",\"550145\",\"550148\",\"550149\",\"550150\",\"550151\",\"550152\",\"550153\",\"550154\",\"550155\",\"550156\",\"550157\",\"550158\",\"550159\",\"550160\",\"550161\",\"550162\",\"550163\",\"550164\",\"550167\",\"550169\",\"550173\",\"550178\",\"550179\",\"550180\",\"550182\",\"550183\",\"550184\",\"550185\",\"550186\",\"550187\",\"550188\",\"550189\",\"550190\",\"550191\",\"550192\",\"550193\",\"550194\",\"550196\",\"550197\",\"550198\",\"550199\",\"550200\",\"550201\",\"550202\",\"550203\",\"550204\",\"550205\",\"550206\",\"550207\",\"550208\",\"550209\",\"550210\",\"550211\",\"550212\",\"550213\",\"550214\",\"550215\",\"550216\",\"550218\",\"550242\",\"550249\",\"550250\",\"550251\",\"550255\",\"550264\",\"550265\",\"550272\",\"550274\",\"550275\",\"550276\",\"550277\",\"550278\",\"550279\",\"550280\",\"550281\",\"550282\",\"550283\",\"550284\",\"550285\",\"550286\",\"550287\",\"550288\",\"550289\",\"550290\",\"550291\",\"550292\",\"550296\",\"550297\",\"550298\",\"550299\",\"550301\",\"550302\",\"550303\",\"550304\",\"550305\",\"550307\",\"550308\",\"550309\",\"550310\",\"550311\",\"550312\",\"550313\",\"550314\",\"550315\",\"550316\",\"550317\",\"550318\",\"550319\",\"550320\",\"550321\",\"550322\",\"550323\",\"550324\",\"550325\",\"550326\",\"550327\",\"550328\",\"550329\",\"550330\",\"550331\",\"550332\",\"550333\",\"550334\",\"550335\",\"550336\",\"550337\",\"550338\",\"550339\",\"550340\",\"550341\",\"550342\",\"550343\",\"550344\",\"550345\",\"550346\",\"550347\",\"550348\",\"550350\",\"550351\",\"550352\",\"550354\",\"550357\",\"550359\",\"550360\",\"550361\",\"550362\",\"550364\",\"550377\",\"550389\",\"550408\",\"550437\",\"550438\",\"550439\",\"550440\",\"550446\",\"550447\",\"550448\",\"550449\",\"550450\",\"550452\",\"550453\",\"550457\",\"550458\",\"550459\",\"550460\",\"550461\",\"550462\",\"550464\",\"550465\",\"550467\",\"550468\",\"550469\",\"550470\",\"550471\",\"550473\",\"550474\",\"550476\",\"550477\",\"550478\",\"550479\",\"550480\",\"550481\",\"550483\",\"550487\",\"550488\",\"550490\",\"550491\",\"550492\",\"550493\",\"550495\",\"550496\",\"550497\",\"550498\",\"550499\",\"550500\",\"550501\",\"550502\",\"550503\",\"550504\",\"550512\",\"550513\",\"550514\",\"550515\",\"550516\",\"550517\",\"550518\",\"550519\",\"550520\",\"550521\",\"550522\",\"550523\",\"550524\",\"550525\",\"550526\",\"550527\",\"550528\",\"550531\",\"550532\",\"550535\",\"550539\",\"550541\",\"550542\",\"550560\",\"550579\",\"550606\",\"550607\",\"550608\",\"550610\",\"550612\",\"550613\",\"550615\",\"550616\",\"550617\",\"550618\",\"550619\",\"550620\",\"550621\",\"550622\",\"550623\",\"550624\",\"550625\",\"550626\",\"550627\",\"550628\",\"550629\",\"550630\",\"550631\",\"550632\",\"550633\",\"550634\",\"550635\",\"550636\",\"550637\",\"550638\",\"550639\",\"550640\",\"550641\",\"550643\",\"550644\",\"550645\",\"550649\",\"550651\",\"550655\",\"550656\",\"550657\",\"550658\",\"550659\",\"550660\",\"550661\",\"550662\",\"550663\",\"550665\",\"550666\",\"550667\",\"550669\",\"550670\",\"550671\",\"550673\",\"550674\",\"550675\",\"550701\",\"550710\",\"550711\",\"550712\",\"550713\",\"550714\",\"550723\",\"550740\",\"550750\",\"550753\",\"550754\",\"550755\",\"550756\",\"550757\",\"550758\",\"550759\",\"550760\",\"550761\",\"550762\",\"550763\",\"550764\",\"550765\",\"550766\",\"550767\",\"550768\",\"550769\",\"550772\",\"550773\",\"550774\",\"550775\",\"550776\",\"550777\",\"550778\",\"550779\",\"550781\",\"550782\",\"550783\",\"550784\",\"550785\",\"550786\",\"550796\",\"550797\",\"550798\",\"550799\",\"550800\",\"550801\",\"550802\",\"550803\",\"550804\",\"550805\",\"550806\",\"550811\",\"550815\",\"550817\",\"550818\",\"550819\",\"550820\",\"550821\",\"550822\",\"550823\",\"550824\",\"550826\",\"550827\",\"550828\",\"550829\",\"550830\",\"550831\",\"550832\",\"550833\",\"550834\",\"550835\",\"550836\",\"550837\",\"550838\",\"550885\",\"550890\",\"550898\",\"550899\",\"550900\",\"550901\",\"550906\",\"550907\",\"550908\",\"550911\",\"550912\",\"550913\",\"550914\",\"550915\",\"550916\",\"550917\",\"550918\",\"550919\",\"550920\",\"550921\",\"550922\",\"550923\",\"550924\",\"550925\",\"550926\",\"550927\",\"550928\",\"550929\",\"550930\",\"550931\",\"550934\",\"550936\",\"550937\",\"550938\",\"550939\",\"550940\",\"550941\",\"550942\",\"550943\",\"550944\",\"550945\",\"550946\",\"550947\",\"550948\",\"550949\",\"550950\",\"550951\",\"550952\",\"550953\",\"550954\",\"550955\",\"550956\",\"550957\",\"550958\",\"550960\",\"550963\",\"550964\",\"550965\",\"550967\",\"550968\",\"550970\",\"550971\",\"550972\",\"550973\",\"550974\",\"550975\",\"550976\",\"550977\",\"550978\",\"550979\",\"550980\",\"550981\",\"550982\",\"550983\",\"550984\",\"550985\",\"550986\",\"550987\",\"550988\",\"550989\",\"550990\",\"550991\",\"550992\",\"550993\",\"550994\",\"550995\",\"550996\",\"550997\",\"550998\",\"550999\",\"551000\",\"551001\",\"551002\",\"551003\",\"551004\",\"551005\",\"551006\",\"551007\",\"551008\",\"551009\",\"551010\",\"551011\",\"551012\",\"551013\",\"551014\",\"551016\",\"551019\",\"551020\",\"551021\",\"551028\",\"551033\",\"551035\",\"551054\",\"551055\",\"551056\",\"551057\",\"551058\",\"551059\",\"551060\",\"551062\",\"551085\",\"551088\",\"551124\",\"551125\",\"551126\",\"551133\",\"551134\",\"551135\",\"551136\",\"551137\",\"551138\",\"551141\",\"551142\",\"551143\",\"551144\",\"551145\",\"551146\",\"551147\",\"551148\",\"551149\",\"551150\",\"551151\",\"551152\",\"551158\",\"551159\",\"551160\",\"551161\",\"551162\",\"551163\",\"551164\",\"551165\",\"551166\",\"551168\",\"551170\",\"551171\",\"551172\",\"551173\",\"551174\",\"551176\",\"551177\",\"551181\",\"551182\",\"551183\",\"551184\",\"551185\",\"551186\",\"551187\",\"551188\",\"551189\",\"551191\",\"551192\",\"551193\",\"551194\",\"551197\",\"551198\",\"551199\",\"551200\",\"551201\",\"551202\",\"551211\",\"551218\",\"551234\",\"551240\",\"551243\",\"551247\",\"551250\",\"551258\",\"551259\",\"551262\",\"551268\",\"551269\",\"551270\",\"551271\",\"551272\",\"551273\",\"551274\",\"551275\",\"551276\",\"551277\",\"551278\",\"551279\",\"551280\",\"551281\",\"551282\",\"551283\",\"551284\",\"551286\",\"551287\",\"551288\",\"551289\",\"551290\",\"551291\",\"551292\",\"551293\",\"551294\",\"551299\",\"551301\",\"551302\",\"551304\",\"551305\",\"551314\",\"551315\",\"551317\",\"551318\",\"551319\",\"551320\",\"551321\",\"551322\",\"551323\",\"551324\",\"551325\",\"551326\",\"551327\",\"551328\",\"551332\",\"551334\",\"551337\",\"551338\",\"551339\",\"551340\",\"551341\",\"551342\",\"551343\",\"551344\",\"551345\",\"551346\",\"551347\",\"551349\",\"551350\",\"551351\",\"551352\",\"551383\",\"551384\",\"551385\",\"551387\",\"551389\",\"551390\",\"551391\",\"551392\",\"551393\",\"551394\",\"551395\",\"551396\",\"551397\",\"551398\",\"551399\",\"551400\",\"551401\",\"551412\",\"551413\",\"551414\",\"551415\",\"551416\",\"551417\",\"551418\",\"551419\",\"551420\",\"551421\",\"551422\",\"551423\",\"551424\",\"551425\",\"551426\",\"551427\",\"551428\",\"551429\",\"551430\",\"551431\",\"551432\",\"551433\",\"551434\",\"551435\",\"551436\",\"551437\",\"551438\",\"551439\",\"551440\",\"551441\",\"551442\",\"551443\",\"551444\",\"551445\",\"551446\",\"551447\",\"551448\",\"551449\",\"551450\",\"551451\",\"551452\",\"551453\",\"551454\",\"551455\",\"551456\",\"551457\",\"551458\",\"551459\",\"551460\",\"551461\",\"551462\",\"551467\",\"551468\",\"551469\",\"551470\",\"551471\",\"551501\",\"551506\",\"551507\",\"551514\",\"551515\",\"551516\",\"551517\",\"551518\",\"551519\",\"551520\",\"551523\",\"551524\",\"551525\",\"551527\",\"551528\",\"551529\",\"551530\",\"551531\",\"551532\",\"551533\",\"551534\",\"551535\",\"551536\",\"551537\",\"551538\",\"551539\",\"551542\",\"551543\",\"551544\",\"551545\",\"551546\",\"551547\",\"551548\",\"551549\",\"551550\",\"551552\",\"551553\",\"551554\",\"551555\",\"551556\",\"551558\",\"551559\",\"551560\",\"551561\",\"551562\",\"551563\",\"551564\",\"551565\",\"551566\",\"551567\",\"551568\",\"551569\",\"551570\",\"551571\",\"551572\",\"551573\",\"551574\",\"551575\",\"551576\",\"551577\",\"551578\",\"551579\",\"551580\",\"551581\",\"551582\",\"551583\",\"551584\",\"551586\",\"551589\",\"551595\",\"551599\",\"551603\",\"551616\",\"551617\",\"551618\",\"551623\",\"551647\",\"551649\",\"551650\",\"551651\",\"551652\",\"551653\",\"551654\",\"551655\",\"551656\",\"551657\",\"551658\",\"551660\",\"551661\",\"551662\",\"551663\",\"551664\",\"551665\",\"551666\",\"551667\",\"551668\",\"551669\",\"551671\",\"551672\",\"551673\",\"551686\",\"551687\",\"551688\",\"551689\",\"551690\",\"551691\",\"551692\",\"551693\",\"551694\",\"551695\",\"551696\",\"551697\",\"551698\",\"551700\",\"551701\",\"551702\",\"551704\",\"551705\",\"551713\",\"551714\",\"551715\",\"551716\",\"551717\",\"551718\",\"551719\",\"551720\",\"551721\",\"551722\",\"551723\",\"551724\",\"551725\",\"551726\",\"551727\",\"551728\",\"551729\",\"551730\",\"551731\",\"551733\",\"551734\",\"551735\",\"551736\",\"551739\",\"551747\",\"551774\",\"551775\",\"551776\",\"551791\",\"551809\",\"551810\",\"551811\",\"551812\",\"551813\",\"551814\",\"551815\",\"551816\",\"551817\",\"551818\",\"551819\",\"551820\",\"551821\",\"551822\",\"551823\",\"551824\",\"551825\",\"551826\",\"551832\",\"551833\",\"551834\",\"551835\",\"551836\",\"551837\",\"551838\",\"551839\",\"551840\",\"551842\",\"551843\",\"551844\",\"551845\",\"551846\",\"551847\",\"551848\",\"551849\",\"551850\",\"551851\",\"551852\",\"551853\",\"551854\",\"551855\",\"551856\",\"551857\",\"551858\",\"551859\",\"551860\",\"551862\",\"551868\",\"551869\",\"551870\",\"551872\",\"551874\",\"551875\",\"551876\",\"551877\",\"551878\",\"551879\",\"551880\",\"551881\",\"551882\",\"551883\",\"551884\",\"551885\",\"551886\",\"551887\",\"551888\",\"551889\",\"551890\",\"551891\",\"551893\",\"551894\",\"551895\",\"551896\",\"551897\",\"551900\",\"551902\",\"551907\",\"551944\",\"551945\",\"551946\",\"551950\",\"551951\",\"551952\",\"551953\",\"551954\",\"551955\",\"551956\",\"551957\",\"551958\",\"551959\",\"551960\",\"551961\",\"551962\",\"551963\",\"551964\",\"551965\",\"551966\",\"551967\",\"551976\",\"551977\",\"551978\",\"551979\",\"551980\",\"551981\",\"551982\",\"551983\",\"551984\",\"551985\",\"551986\",\"551987\",\"551988\",\"551989\",\"551990\",\"551991\",\"551992\",\"551993\",\"551994\",\"551995\",\"551996\",\"551997\",\"551998\",\"552000\",\"552004\",\"552005\",\"552006\",\"552007\",\"552008\",\"552009\",\"552010\",\"552011\",\"552013\",\"552017\",\"552018\",\"552023\",\"552025\",\"552026\",\"552028\",\"552032\",\"552033\",\"552034\",\"552035\",\"552036\",\"552037\",\"552038\",\"552039\",\"552040\",\"552041\",\"552042\",\"552044\",\"552045\",\"552046\",\"552048\",\"552050\",\"552051\",\"552052\",\"552053\",\"552054\",\"552055\",\"552056\",\"552057\",\"552058\",\"552059\",\"552060\",\"552061\",\"552062\",\"552063\",\"552064\",\"552065\",\"552078\",\"552080\",\"552108\",\"552121\",\"552127\",\"552134\",\"552135\",\"552139\",\"552149\",\"552166\",\"552167\",\"552168\",\"552169\",\"552170\",\"552171\",\"552172\",\"552174\",\"552175\",\"552176\",\"552177\",\"552178\",\"552179\",\"552180\",\"552181\",\"552182\",\"552183\",\"552184\",\"552185\",\"552186\",\"552187\",\"552188\",\"552189\",\"552191\",\"552192\",\"552193\",\"552194\",\"552195\",\"552196\",\"552197\",\"552198\",\"552202\",\"552211\",\"552214\",\"552215\",\"552216\",\"552217\",\"552218\",\"552219\",\"552220\",\"552221\",\"552222\",\"552223\",\"552224\",\"552225\",\"552226\",\"552227\",\"552228\",\"552229\",\"552230\",\"552231\",\"552232\",\"552233\",\"552234\",\"552235\",\"552236\",\"552238\",\"552239\",\"552240\",\"552242\",\"552243\",\"552244\",\"552245\",\"552246\",\"552247\",\"552248\",\"552249\",\"552250\",\"552251\",\"552252\",\"552253\",\"552254\",\"552255\",\"552256\",\"552257\",\"552259\",\"552260\",\"552261\",\"552262\",\"552263\",\"552264\",\"552265\",\"552266\",\"552267\",\"552268\",\"552269\",\"552270\",\"552271\",\"552272\",\"552273\",\"552274\",\"552275\",\"552276\",\"552277\",\"552278\",\"552279\",\"552280\",\"552281\",\"552282\",\"552283\",\"552284\",\"552285\",\"552286\",\"552287\",\"552288\",\"552289\",\"552290\",\"552291\",\"552292\",\"552293\",\"552294\",\"552295\",\"552296\",\"552297\",\"552298\",\"552299\",\"552302\",\"552303\",\"552304\",\"552305\",\"552306\",\"552307\",\"552308\",\"552309\",\"552310\",\"552311\",\"552312\",\"552313\",\"552314\",\"552315\",\"552316\",\"552318\",\"552319\",\"552320\",\"552321\",\"552322\",\"552323\",\"552324\",\"552325\",\"552326\",\"552327\",\"552328\",\"552329\",\"552330\",\"552331\",\"552332\",\"552333\",\"552336\",\"552337\",\"552338\",\"552340\",\"552341\",\"552342\",\"552353\",\"552357\",\"552358\",\"552364\",\"552365\",\"552371\",\"552372\",\"552376\",\"552404\",\"552410\",\"552418\",\"552441\",\"552442\",\"552443\",\"552444\",\"552445\",\"552446\",\"552447\",\"552448\",\"552449\",\"552450\",\"552451\",\"552452\",\"552453\",\"552454\",\"552456\",\"552457\",\"552460\",\"552461\",\"552463\",\"552464\",\"552465\",\"552466\",\"552467\",\"552468\",\"552469\",\"552472\",\"552479\",\"552491\",\"552492\",\"552493\",\"552508\",\"552514\",\"552520\",\"552521\",\"552522\",\"552523\",\"552524\",\"552525\",\"552526\",\"552527\",\"552528\",\"552529\",\"552530\",\"552531\",\"552532\",\"552533\",\"552534\",\"552536\",\"552537\",\"552538\",\"552539\",\"552540\",\"552541\",\"552542\",\"552543\",\"552544\",\"552545\",\"552547\",\"552548\",\"552549\",\"552550\",\"552551\",\"552554\",\"552555\",\"552557\",\"552558\",\"552559\",\"552560\",\"552561\",\"552562\",\"552563\",\"552565\",\"552566\",\"552567\",\"552571\",\"552572\",\"552573\",\"552574\",\"552575\",\"552576\",\"552577\",\"552614\",\"552624\",\"552631\",\"552638\",\"552639\",\"552640\",\"552641\",\"552642\",\"552643\",\"552644\",\"552645\",\"552646\",\"552647\",\"552648\",\"552649\",\"552651\",\"552652\",\"552653\",\"552654\",\"552655\",\"552656\",\"552657\",\"552658\",\"552659\",\"552660\",\"552661\",\"552662\",\"552663\",\"552664\",\"552665\",\"552666\",\"552667\",\"552668\",\"552669\",\"552670\",\"552671\",\"552672\",\"552673\",\"552674\",\"552675\",\"552676\",\"552677\",\"552678\",\"552681\",\"552683\",\"552684\",\"552687\",\"552690\",\"552692\",\"552693\",\"552694\",\"552695\",\"552696\",\"552697\",\"552699\",\"552702\",\"552703\",\"552708\",\"552710\",\"552711\",\"552712\",\"552713\",\"552714\",\"552715\",\"552716\",\"552717\",\"552721\",\"552723\",\"552724\",\"552725\",\"552726\",\"552727\",\"552728\",\"552729\",\"552730\",\"552731\",\"552732\",\"552733\",\"552734\",\"552735\",\"552763\",\"552764\",\"552766\",\"552767\",\"552768\",\"552769\",\"552770\",\"552779\",\"552786\",\"552789\",\"552802\",\"552803\",\"552804\",\"552806\",\"552811\",\"552813\",\"552814\",\"552815\",\"552816\",\"552817\",\"552818\",\"552819\",\"552820\",\"552821\",\"552822\",\"552823\",\"552824\",\"552825\",\"552826\",\"552827\",\"552828\",\"552829\",\"552830\",\"552831\",\"552832\",\"552833\",\"552834\",\"552835\",\"552837\",\"552838\",\"552839\",\"552840\",\"552842\",\"552843\",\"552844\",\"552845\",\"552846\",\"552847\",\"552848\",\"552850\",\"552851\",\"552852\",\"552853\",\"552854\",\"552855\",\"552857\",\"552859\",\"552860\",\"552861\",\"552862\",\"552864\",\"552865\",\"552866\",\"552867\",\"552868\",\"552869\",\"552870\",\"552871\",\"552872\",\"552873\",\"552874\",\"552875\",\"552877\",\"552878\",\"552879\",\"552880\",\"552881\",\"552882\",\"552883\",\"552884\",\"552885\",\"552886\",\"552887\",\"552888\",\"552890\",\"552891\",\"552892\",\"552893\",\"552894\",\"552904\",\"552905\",\"552945\",\"552946\",\"552947\",\"552948\",\"552949\",\"552950\",\"552951\",\"552952\",\"552953\",\"552954\",\"552955\",\"552956\",\"552957\",\"552958\",\"552959\",\"552960\",\"552961\",\"552962\",\"552963\",\"552964\",\"552965\",\"552966\",\"552967\",\"552968\",\"552969\",\"552970\",\"552971\",\"552972\",\"552973\",\"552974\",\"552975\",\"552977\",\"552978\",\"552979\",\"552980\",\"552988\",\"552990\",\"553000\",\"553001\",\"553002\",\"553003\",\"553004\",\"553005\",\"553006\",\"553007\",\"553008\",\"553009\",\"553011\",\"553012\",\"553013\",\"553014\",\"553015\",\"553016\",\"553017\",\"553018\",\"553021\",\"553022\",\"553034\",\"553035\",\"553036\",\"553037\",\"553038\",\"553039\",\"553040\",\"553041\",\"553042\",\"553043\",\"553044\",\"553045\",\"553046\",\"553047\",\"553048\",\"553049\",\"553050\",\"553051\",\"553052\",\"553053\",\"553054\",\"553055\",\"553056\",\"553057\",\"553058\",\"553059\",\"553060\",\"553061\",\"553062\",\"553063\",\"553064\",\"553067\",\"553074\",\"553088\",\"553093\",\"553095\",\"553099\",\"553100\",\"553102\",\"553120\",\"553125\",\"553129\",\"553130\",\"553131\",\"553134\",\"553140\",\"553141\",\"553142\",\"553143\",\"553144\",\"553145\",\"553146\",\"553147\",\"553148\",\"553149\",\"553151\",\"553152\",\"553153\",\"553154\",\"553155\",\"553156\",\"553157\",\"553158\",\"553159\",\"553160\",\"553161\",\"553162\",\"553163\",\"553164\",\"553165\",\"553166\",\"553167\",\"553168\",\"553169\",\"553170\",\"553171\",\"553172\",\"553173\",\"553174\",\"553175\",\"553176\",\"553177\",\"553178\",\"553179\",\"553180\",\"553181\",\"553182\",\"553183\",\"553184\",\"553185\",\"553186\",\"553187\",\"553188\",\"553189\",\"553190\",\"553191\",\"553192\",\"553193\",\"553194\",\"553195\",\"553196\",\"553197\",\"553198\",\"553199\",\"553200\",\"553201\",\"553202\",\"553203\",\"553204\",\"553205\",\"553206\",\"553207\",\"553208\",\"553209\",\"553210\",\"553211\",\"553212\",\"553213\",\"553214\",\"553215\",\"553216\",\"553217\",\"553218\",\"553219\",\"553220\",\"553221\",\"553223\",\"553224\",\"553225\",\"553226\",\"553227\",\"553228\",\"553229\",\"553235\",\"553239\",\"553315\",\"553316\",\"553317\",\"553319\",\"553339\",\"553340\",\"553341\",\"553342\",\"553343\",\"553344\",\"553345\",\"553346\",\"553347\",\"553348\",\"553349\",\"553350\",\"553351\",\"553352\",\"553353\",\"553356\",\"553357\",\"553363\",\"553368\",\"553369\",\"553371\",\"553374\",\"553375\",\"553377\",\"553379\",\"553380\",\"553381\",\"553382\",\"553383\",\"553384\",\"553385\",\"553386\",\"553387\",\"553388\",\"553389\",\"553390\",\"553391\",\"553392\",\"553393\",\"553394\",\"553395\",\"553396\",\"553398\",\"553399\",\"553400\",\"553401\",\"553402\",\"553403\",\"553404\",\"553405\",\"553406\",\"553408\",\"553410\",\"553411\",\"553412\",\"553413\",\"553415\",\"553416\",\"553417\",\"553418\",\"553419\",\"553420\",\"553421\",\"553422\",\"553423\",\"553427\",\"553461\",\"553462\",\"553463\",\"553464\",\"553465\",\"553466\",\"553467\",\"553468\",\"553469\",\"553470\",\"553471\",\"553472\",\"553473\",\"553474\",\"553475\",\"553476\",\"553477\",\"553480\",\"553481\",\"553484\",\"553485\",\"553487\",\"553488\",\"553489\",\"553490\",\"553491\",\"553496\",\"553497\",\"553498\",\"553499\",\"553500\",\"553501\",\"553503\",\"553504\",\"553505\",\"553506\",\"553507\",\"553509\",\"553515\",\"553520\",\"553521\",\"553522\",\"553523\",\"553524\",\"553525\",\"553526\",\"553527\",\"553535\",\"553537\",\"553538\",\"553539\",\"553540\",\"553541\",\"553542\",\"553543\",\"553544\",\"553545\",\"553546\",\"553547\",\"553548\",\"553549\",\"553550\",\"553551\",\"553552\",\"553553\",\"553556\",\"553559\",\"553565\",\"553566\",\"553567\",\"553570\",\"553571\",\"553572\",\"553573\",\"553574\",\"553575\",\"553576\",\"553577\",\"553578\",\"553579\",\"553585\",\"553607\",\"553612\",\"553614\",\"553625\",\"553638\",\"553650\",\"553651\",\"553652\",\"553653\",\"553654\",\"553655\",\"553657\",\"553658\",\"553659\",\"553660\",\"553661\",\"553662\",\"553663\",\"553664\",\"553666\",\"553668\",\"553670\",\"553671\",\"553672\",\"553673\",\"553674\",\"553675\",\"553676\",\"553677\",\"553678\",\"553679\",\"553680\",\"553681\",\"553682\",\"553683\",\"553684\",\"553685\",\"553686\",\"553688\",\"553689\",\"553690\",\"553691\",\"553701\",\"553702\",\"553703\",\"553706\",\"553707\",\"553708\",\"553709\",\"553710\",\"553711\",\"553712\",\"553713\",\"553714\",\"553715\",\"553716\",\"553717\",\"553718\",\"553719\",\"553720\",\"553721\",\"553722\",\"553724\",\"553725\",\"553726\",\"553727\",\"553728\",\"553729\",\"553730\",\"553731\",\"553732\",\"553733\",\"553734\",\"553735\",\"553736\",\"553737\",\"553738\",\"553739\",\"553740\",\"553741\",\"553742\",\"553743\",\"553744\",\"553745\",\"553746\",\"553747\",\"553749\",\"553750\",\"553751\",\"553752\",\"553753\",\"553754\",\"553755\",\"553762\",\"553765\",\"553766\",\"553767\",\"553768\",\"553769\",\"553781\",\"553828\",\"553829\",\"553830\",\"553831\",\"553832\",\"553833\",\"553834\",\"553835\",\"553836\",\"553837\",\"553838\",\"553839\",\"553842\",\"553843\",\"553844\",\"553845\",\"553846\",\"553847\",\"553848\",\"553849\",\"553850\",\"553852\",\"553853\",\"553855\",\"553856\",\"553857\",\"553858\",\"553859\",\"553860\",\"553861\",\"553863\",\"553864\",\"553867\",\"553868\",\"553869\",\"553870\",\"553871\",\"553872\",\"553873\",\"553874\",\"553876\",\"553878\",\"553879\",\"553881\",\"553882\",\"553883\",\"553884\",\"553885\",\"553886\",\"553887\",\"553888\",\"553889\",\"553890\",\"553891\",\"553892\",\"553893\",\"553894\",\"553895\",\"553896\",\"553897\",\"553898\",\"553899\",\"553900\",\"553901\",\"553902\",\"553907\",\"553908\",\"553909\",\"553911\",\"553912\",\"553913\",\"553915\",\"553916\",\"553917\",\"553918\",\"553919\",\"553920\",\"553921\",\"553922\",\"553923\",\"553925\",\"553926\",\"553927\",\"553928\",\"553929\",\"553930\",\"553931\",\"553932\",\"553933\",\"553934\",\"553935\",\"553936\",\"553937\",\"553938\",\"553940\",\"553941\",\"553942\",\"553946\",\"553952\",\"553978\",\"553979\",\"553996\",\"553997\",\"554000\",\"554003\",\"554007\",\"554008\",\"554009\",\"554013\",\"554014\",\"554015\",\"554016\",\"554017\",\"554018\",\"554019\",\"554020\",\"554021\",\"554022\",\"554023\",\"554024\",\"554026\",\"554027\",\"554028\",\"554030\",\"554031\",\"554032\",\"554033\",\"554034\",\"554035\",\"554036\",\"554037\",\"554038\",\"554039\",\"554040\",\"554041\",\"554042\",\"554043\",\"554050\",\"554051\",\"554052\",\"554053\",\"554054\",\"554055\",\"554056\",\"554057\",\"554058\",\"554059\",\"554060\",\"554061\",\"554062\",\"554063\",\"554064\",\"554065\",\"554066\",\"554067\",\"554068\",\"554069\",\"554070\",\"554071\",\"554072\",\"554073\",\"554074\",\"554075\",\"554076\",\"554077\",\"554078\",\"554079\",\"554080\",\"554081\",\"554082\",\"554083\",\"554084\",\"554085\",\"554086\",\"554087\",\"554088\",\"554089\",\"554090\",\"554091\",\"554092\",\"554093\",\"554094\",\"554095\",\"554096\",\"554097\",\"554098\",\"554099\",\"554101\",\"554102\",\"554103\",\"554104\",\"554105\",\"554106\",\"554107\",\"554108\",\"554109\",\"554110\",\"554111\",\"554112\",\"554113\",\"554114\",\"554115\",\"554116\",\"554117\",\"554118\",\"554119\",\"554120\",\"554121\",\"554122\",\"554123\",\"554124\",\"554125\",\"554126\",\"554128\",\"554129\",\"554130\",\"554131\",\"554132\",\"554133\",\"554134\",\"554135\",\"554137\",\"554138\",\"554139\",\"554141\",\"554142\",\"554143\",\"554144\",\"554145\",\"554146\",\"554147\",\"554148\",\"554149\",\"554151\",\"554155\",\"554156\",\"554157\",\"554158\",\"554159\",\"554160\",\"554161\",\"554162\",\"554163\",\"554164\",\"554181\",\"554202\",\"554207\",\"554261\",\"554262\",\"554263\",\"554264\",\"554265\",\"554267\",\"554268\",\"554269\",\"554270\",\"554271\",\"554272\",\"554274\",\"554275\",\"554276\",\"554277\",\"554278\",\"554279\",\"554280\",\"554281\",\"554282\",\"554283\",\"554284\",\"554285\",\"554286\",\"554287\",\"554289\",\"554293\",\"554299\",\"554301\",\"554305\",\"554306\",\"554307\",\"554309\",\"554310\",\"554311\",\"554312\",\"554313\",\"554314\",\"554315\",\"554316\",\"554317\",\"554318\",\"554319\",\"554320\",\"554321\",\"554322\",\"554323\",\"554324\",\"554325\",\"554326\",\"554328\",\"554329\",\"554337\",\"554347\",\"554348\",\"554349\",\"554350\",\"554351\",\"554352\",\"554353\",\"554354\",\"554355\",\"554356\",\"554357\",\"554358\",\"554359\",\"554360\",\"554362\",\"554363\",\"554364\",\"554365\",\"554366\",\"554367\",\"554368\",\"554369\",\"554370\",\"554371\",\"554372\",\"554375\",\"554376\",\"554377\",\"554378\",\"554379\",\"554380\",\"554381\",\"554382\",\"554392\",\"554415\",\"554421\",\"554424\",\"554432\",\"554436\",\"554441\",\"554465\",\"554483\",\"554484\",\"554485\",\"554487\",\"554488\",\"554489\",\"554490\",\"554491\",\"554492\",\"554494\",\"554495\",\"554496\",\"554497\",\"554498\",\"554502\",\"554503\",\"554504\",\"554505\",\"554506\",\"554507\",\"554508\",\"554509\",\"554510\",\"554511\",\"554512\",\"554513\",\"554514\",\"554515\",\"554520\",\"554524\",\"554526\",\"554534\",\"554538\",\"554542\",\"554543\",\"554545\",\"554546\",\"554547\",\"554549\",\"554550\",\"554551\",\"554552\",\"554553\",\"554554\",\"554555\",\"554556\",\"554557\",\"554559\",\"554560\",\"554561\",\"554570\",\"554579\",\"554597\",\"554598\",\"554603\",\"554617\",\"554627\",\"554628\",\"554629\",\"554630\",\"554631\",\"554632\",\"554633\",\"554634\",\"554635\",\"554636\",\"554637\",\"554638\",\"554639\",\"554640\",\"554641\",\"554642\",\"554643\",\"554644\",\"554645\",\"554646\",\"554647\",\"554648\",\"554649\",\"554650\",\"554651\",\"554652\",\"554653\",\"554654\",\"554655\",\"554656\",\"554658\",\"554663\",\"554664\",\"554665\",\"554666\",\"554667\",\"554668\",\"554669\",\"554670\",\"554671\",\"554672\",\"554673\",\"554674\",\"554675\",\"554676\",\"554677\",\"554678\",\"554679\",\"554680\",\"554681\",\"554682\",\"554683\",\"554684\",\"554694\",\"554695\",\"554696\",\"554697\",\"554698\",\"554699\",\"554700\",\"554701\",\"554702\",\"554703\",\"554704\",\"554705\",\"554706\",\"554707\",\"554708\",\"554709\",\"554710\",\"554711\",\"554712\",\"554713\",\"554714\",\"554718\",\"554756\",\"554762\",\"554765\",\"554770\",\"554776\",\"554787\",\"554788\",\"554789\",\"554791\",\"554792\",\"554794\",\"554795\",\"554798\",\"554808\",\"554809\",\"554810\",\"554811\",\"554812\",\"554813\",\"554814\",\"554815\",\"554816\",\"554817\",\"554818\",\"554819\",\"554820\",\"554821\",\"554822\",\"554823\",\"554824\",\"554825\",\"554826\",\"554827\",\"554828\",\"554829\",\"554830\",\"554831\",\"554832\",\"554834\",\"554835\",\"554836\",\"554837\",\"554838\",\"554839\",\"554840\",\"554841\",\"554842\",\"554843\",\"554844\",\"554845\",\"554850\",\"554852\",\"554853\",\"554854\",\"554855\",\"554857\",\"554858\",\"554859\",\"554860\",\"554861\",\"554865\",\"554866\",\"554868\",\"554869\",\"554906\",\"554907\",\"554915\",\"554916\",\"554917\",\"554918\",\"554919\",\"554920\",\"554921\",\"554922\",\"554923\",\"554924\",\"554927\",\"554928\",\"554929\",\"554930\",\"554932\",\"554933\",\"554934\",\"554935\",\"554936\",\"554937\",\"554938\",\"554939\",\"554940\",\"554941\",\"554942\",\"554943\",\"554944\",\"554945\",\"554946\",\"554947\",\"554948\",\"554949\",\"554950\",\"554951\",\"554952\",\"554953\",\"554954\",\"554955\",\"554956\",\"554957\",\"554958\",\"554959\",\"554960\",\"554961\",\"554962\",\"554963\",\"554964\",\"554965\",\"554966\",\"554967\",\"554968\",\"554969\",\"554974\",\"554975\",\"554976\",\"554977\",\"554978\",\"554979\",\"554980\",\"554981\",\"554982\",\"554984\",\"554985\",\"554986\",\"554987\",\"554988\",\"554989\",\"554990\",\"554991\",\"554992\",\"554993\",\"554994\",\"554995\",\"554996\",\"554997\",\"554998\",\"554999\",\"555000\",\"555001\",\"555002\",\"555003\",\"555004\",\"555005\",\"555007\",\"555008\",\"555009\",\"555010\",\"555011\",\"555012\",\"555015\",\"555016\",\"555017\",\"555025\",\"555028\",\"555070\",\"555073\",\"555075\",\"555076\",\"555077\",\"555091\",\"555092\",\"555093\",\"555094\",\"555095\",\"555096\",\"555097\",\"555098\",\"555099\",\"555101\",\"555102\",\"555103\",\"555104\",\"555106\",\"555107\",\"555108\",\"555109\",\"555110\",\"555111\",\"555112\",\"555113\",\"555114\",\"555115\",\"555116\",\"555119\",\"555124\",\"555125\",\"555127\",\"555133\",\"555147\",\"555149\",\"555150\",\"555156\",\"555157\",\"555158\",\"555159\",\"555160\",\"555161\",\"555162\",\"555164\",\"555194\",\"555195\",\"555198\",\"555199\",\"555200\",\"555201\",\"555202\",\"555203\",\"555207\",\"555213\",\"555232\",\"555233\",\"555234\",\"555240\",\"555241\",\"555242\",\"555243\",\"555245\",\"555247\",\"555249\",\"555250\",\"555251\",\"555257\",\"555259\",\"555260\",\"555263\",\"555264\",\"555266\",\"555270\",\"555275\",\"555276\",\"555277\",\"555278\",\"555279\",\"555280\",\"555281\",\"555282\",\"555283\",\"555284\",\"555285\",\"555286\",\"555287\",\"555289\",\"555312\",\"555320\",\"555321\",\"555322\",\"555323\",\"555324\",\"555325\",\"555326\",\"555327\",\"555330\",\"555331\",\"555332\",\"555333\",\"555334\",\"555335\",\"555336\",\"555340\",\"555343\",\"555344\",\"555347\",\"555348\",\"555349\",\"555350\",\"555351\",\"555352\",\"555353\",\"555356\",\"555359\",\"555363\",\"555367\",\"555368\",\"555381\",\"555382\",\"555383\",\"555385\",\"555387\",\"555388\",\"555389\",\"555390\",\"555391\",\"555392\",\"555393\",\"555394\",\"555395\",\"555396\",\"555397\",\"555399\",\"555400\",\"555401\",\"555402\",\"555403\",\"555405\",\"555406\",\"555407\",\"555408\",\"555410\",\"555412\",\"555413\",\"555414\",\"555415\",\"555416\",\"555417\",\"555418\",\"555419\",\"555420\",\"555422\",\"555469\",\"555470\",\"555471\",\"555472\",\"555473\",\"555474\",\"555476\",\"555477\",\"555478\",\"555479\",\"555485\",\"555486\",\"555488\",\"555489\",\"555490\",\"555491\",\"555492\",\"555493\",\"555494\",\"555495\",\"555496\",\"555497\",\"555498\",\"555499\",\"555500\",\"555501\",\"555502\",\"555503\",\"555504\",\"555505\",\"555506\",\"555507\",\"555508\",\"555509\",\"555510\",\"555511\",\"555512\",\"555513\",\"555514\",\"555515\",\"555516\",\"555517\",\"555518\",\"555519\",\"555520\",\"555521\",\"555522\",\"555523\",\"555524\",\"555525\",\"555526\",\"555527\",\"555528\",\"555530\",\"555531\",\"555533\",\"555534\",\"555535\",\"555536\",\"555537\",\"555538\",\"555539\",\"555540\",\"555541\",\"555542\",\"555543\",\"555544\",\"555545\",\"555546\",\"555547\",\"555548\",\"555549\",\"555550\",\"555551\",\"555552\",\"555553\",\"555554\",\"555555\",\"555556\",\"555557\",\"555558\",\"555559\",\"555560\",\"555561\",\"555562\",\"555564\",\"555565\",\"555566\",\"555567\",\"555568\",\"555569\",\"555570\",\"555571\",\"555572\",\"555573\",\"555574\",\"555575\",\"555576\",\"555577\",\"555578\",\"555579\",\"555580\",\"555581\",\"555582\",\"555583\",\"555584\",\"555585\",\"555586\",\"555587\",\"555588\",\"555589\",\"555590\",\"555591\",\"555592\",\"555593\",\"555594\",\"555601\",\"555602\",\"555603\",\"555604\",\"555620\",\"555626\",\"555627\",\"555628\",\"555630\",\"555631\",\"555632\",\"555633\",\"555634\",\"555635\",\"555637\",\"555638\",\"555640\",\"555642\",\"555644\",\"555645\",\"555646\",\"555647\",\"555648\",\"555649\",\"555650\",\"555651\",\"555653\",\"555654\",\"555691\",\"555695\",\"555701\",\"555702\",\"555703\",\"555704\",\"555705\",\"555719\",\"555720\",\"555721\",\"555722\",\"555724\",\"555725\",\"555726\",\"555728\",\"555731\",\"555732\",\"555733\",\"555734\",\"555735\",\"555736\",\"555737\",\"555738\",\"555739\",\"555740\",\"555741\",\"555742\",\"555743\",\"555744\",\"555745\",\"555746\",\"555751\",\"555759\",\"555798\",\"555808\",\"555810\",\"555813\",\"555815\",\"555816\",\"555817\",\"555818\",\"555819\",\"555820\",\"555821\",\"555822\",\"555823\",\"555824\",\"555829\",\"555832\",\"555834\",\"555835\",\"555836\",\"555838\",\"555839\",\"555840\",\"555841\",\"555842\",\"555843\",\"555844\",\"555845\",\"555846\",\"555847\",\"555848\",\"555849\",\"555850\",\"555851\",\"555852\",\"555853\",\"555854\",\"555855\",\"555856\",\"555857\",\"555858\",\"555859\",\"555861\",\"555862\",\"555863\",\"555865\",\"555866\",\"555869\",\"555870\",\"555871\",\"555872\",\"555875\",\"555876\",\"555878\",\"555884\",\"555896\",\"555916\",\"555917\",\"555918\",\"555920\",\"555921\",\"555923\",\"555924\",\"555925\",\"555926\",\"555927\",\"555928\",\"555929\",\"555930\",\"555931\",\"555932\",\"555933\",\"555934\",\"555936\",\"555937\",\"555938\",\"555939\",\"555940\",\"555941\",\"555942\",\"555943\",\"555944\",\"555945\",\"555946\",\"555947\",\"555948\",\"555949\",\"555950\",\"555979\",\"556009\",\"556010\",\"556012\",\"556013\",\"556014\",\"556015\",\"556016\",\"556017\",\"556018\",\"556019\",\"556020\",\"556021\",\"556022\",\"556023\",\"556024\",\"556032\",\"556033\",\"556034\",\"556035\",\"556036\",\"556038\",\"556039\",\"556040\",\"556041\",\"556042\",\"556043\",\"556044\",\"556045\",\"556046\",\"556047\",\"556048\",\"556049\",\"556050\",\"556051\",\"556052\",\"556053\",\"556054\",\"556055\",\"556056\",\"556058\",\"556059\",\"556060\",\"556061\",\"556062\",\"556063\",\"556064\",\"556065\",\"556066\",\"556067\",\"556068\",\"556069\",\"556070\",\"556071\",\"556072\",\"556073\",\"556074\",\"556079\",\"556080\",\"556081\",\"556082\",\"556083\",\"556084\",\"556085\",\"556086\",\"556087\",\"556088\",\"556089\",\"556090\",\"556091\",\"556092\",\"556093\",\"556094\",\"556095\",\"556097\",\"556098\",\"556099\",\"556100\",\"556102\",\"556103\",\"556104\",\"556105\",\"556106\",\"556107\",\"556108\",\"556109\",\"556110\",\"556111\",\"556112\",\"556113\",\"556114\",\"556115\",\"556116\",\"556118\",\"556119\",\"556120\",\"556121\",\"556122\",\"556123\",\"556124\",\"556125\",\"556126\",\"556127\",\"556128\",\"556129\",\"556130\",\"556139\",\"556179\",\"556180\",\"556181\",\"556182\",\"556183\",\"556184\",\"556185\",\"556186\",\"556187\",\"556188\",\"556189\",\"556190\",\"556191\",\"556192\",\"556193\",\"556194\",\"556195\",\"556196\",\"556197\",\"556198\",\"556199\",\"556200\",\"556201\",\"556202\",\"556203\",\"556204\",\"556205\",\"556206\",\"556207\",\"556208\",\"556214\",\"556216\",\"556218\",\"556219\",\"556222\",\"556228\",\"556229\",\"556230\",\"556231\",\"556232\",\"556233\",\"556234\",\"556235\",\"556236\",\"556237\",\"556238\",\"556239\",\"556240\",\"556241\",\"556242\",\"556243\",\"556244\",\"556245\",\"556246\",\"556247\",\"556248\",\"556249\",\"556252\",\"556253\",\"556254\",\"556255\",\"556256\",\"556257\",\"556258\",\"556259\",\"556260\",\"556261\",\"556262\",\"556263\",\"556264\",\"556266\",\"556267\",\"556271\",\"556279\",\"556280\",\"556282\",\"556283\",\"556284\",\"556285\",\"556286\",\"556287\",\"556288\",\"556289\",\"556290\",\"556291\",\"556292\",\"556296\",\"556298\",\"556299\",\"556300\",\"556301\",\"556302\",\"556303\",\"556304\",\"556305\",\"556306\",\"556307\",\"556308\",\"556309\",\"556310\",\"556311\",\"556312\",\"556313\",\"556314\",\"556315\",\"556316\",\"556317\",\"556318\",\"556319\",\"556320\",\"556321\",\"556322\",\"556323\",\"556325\",\"556326\",\"556328\",\"556329\",\"556330\",\"556341\",\"556365\",\"556386\",\"556397\",\"556408\",\"556413\",\"556415\",\"556416\",\"556417\",\"556418\",\"556419\",\"556425\",\"556426\",\"556427\",\"556428\",\"556429\",\"556430\",\"556431\",\"556432\",\"556433\",\"556434\",\"556435\",\"556437\",\"556438\",\"556439\",\"556440\",\"556441\",\"556442\",\"556443\",\"556444\",\"556446\",\"556447\",\"556454\",\"556455\",\"556456\",\"556459\",\"556460\",\"556461\",\"556462\",\"556463\",\"556464\",\"556465\",\"556466\",\"556467\",\"556468\",\"556469\",\"556470\",\"556471\",\"556472\",\"556473\",\"556474\",\"556475\",\"556476\",\"556477\",\"556478\",\"556479\",\"556480\",\"556481\",\"556482\",\"556483\",\"556484\",\"556485\",\"556486\",\"556487\",\"556488\",\"556489\",\"556490\",\"556491\",\"556492\",\"556494\",\"556495\",\"556496\",\"556497\",\"556498\",\"556499\",\"556500\",\"556501\",\"556502\",\"556503\",\"556504\",\"556505\",\"556506\",\"556507\",\"556508\",\"556509\",\"556510\",\"556512\",\"556513\",\"556514\",\"556515\",\"556516\",\"556517\",\"556519\",\"556520\",\"556521\",\"556523\",\"556526\",\"556527\",\"556528\",\"556529\",\"556531\",\"556533\",\"556534\",\"556536\",\"556537\",\"556538\",\"556539\",\"556540\",\"556541\",\"556542\",\"556571\",\"556572\",\"556573\",\"556574\",\"556575\",\"556576\",\"556577\",\"556578\",\"556579\",\"556580\",\"556596\",\"556625\",\"556629\",\"556630\",\"556631\",\"556632\",\"556636\",\"556641\",\"556642\",\"556667\",\"556670\",\"556671\",\"556672\",\"556679\",\"556680\",\"556681\",\"556682\",\"556683\",\"556684\",\"556685\",\"556687\",\"556690\",\"556691\",\"556714\",\"556718\",\"556719\",\"556720\",\"556721\",\"556722\",\"556723\",\"556724\",\"556725\",\"556726\",\"556727\",\"556728\",\"556730\",\"556731\",\"556732\",\"556733\",\"556734\",\"556740\",\"556746\",\"556751\",\"556767\",\"556768\",\"556776\",\"556777\",\"556778\",\"556779\",\"556780\",\"556781\",\"556782\",\"556783\",\"556784\",\"556785\",\"556786\",\"556788\",\"556789\",\"556790\",\"556791\",\"556792\",\"556794\",\"556795\",\"556797\",\"556803\",\"556804\",\"556805\",\"556806\",\"556808\",\"556809\",\"556810\",\"556811\",\"556812\",\"556813\",\"556814\",\"556815\",\"556816\",\"556817\",\"556819\",\"556820\",\"556821\",\"556822\",\"556823\",\"556824\",\"556825\",\"556826\",\"556827\",\"556828\",\"556829\",\"556830\",\"556831\",\"556842\",\"556845\",\"556876\",\"556878\",\"556879\",\"556881\",\"556882\",\"556883\",\"556884\",\"556885\",\"556886\",\"556887\",\"556889\",\"556890\",\"556891\",\"556892\",\"556903\",\"556905\",\"556906\",\"556907\",\"556908\",\"556909\",\"556910\",\"556912\",\"556913\",\"556914\",\"556915\",\"556916\",\"556917\",\"556918\",\"556921\",\"556922\",\"556924\",\"556926\",\"556927\",\"556928\",\"556929\",\"556931\",\"556932\",\"556933\",\"556934\",\"556935\",\"556936\",\"556937\",\"556939\",\"556942\",\"556943\",\"556944\",\"556945\",\"556946\",\"556947\",\"556948\",\"556949\",\"556950\",\"556951\",\"556952\",\"556953\",\"556954\",\"556955\",\"556956\",\"556958\",\"556959\",\"556960\",\"556961\",\"556962\",\"556963\",\"556964\",\"556965\",\"556967\",\"556968\",\"556969\",\"556970\",\"556971\",\"556972\",\"556977\",\"556998\",\"557002\",\"557005\",\"557006\",\"557007\",\"557008\",\"557009\",\"557010\",\"557011\",\"557012\",\"557013\",\"557014\",\"557015\",\"557016\",\"557017\",\"557018\",\"557019\",\"557020\",\"557021\",\"557023\",\"557024\",\"557025\",\"557026\",\"557027\",\"557028\",\"557029\",\"557030\",\"557031\",\"557032\",\"557033\",\"557034\",\"557035\",\"557036\",\"557038\",\"557039\",\"557040\",\"557041\",\"557042\",\"557055\",\"557056\",\"557057\",\"557058\",\"557063\",\"557064\",\"557065\",\"557066\",\"557067\",\"557068\",\"557069\",\"557070\",\"557089\",\"557092\",\"557100\",\"557103\",\"557108\",\"557109\",\"557110\",\"557112\",\"557113\",\"557114\",\"557115\",\"557116\",\"557117\",\"557118\",\"557119\",\"557120\",\"557121\",\"557122\",\"557123\",\"557124\",\"557125\",\"557126\",\"557127\",\"557128\",\"557129\",\"557130\",\"557131\",\"557132\",\"557133\",\"557134\",\"557135\",\"557136\",\"557137\",\"557138\",\"557139\",\"557140\",\"557141\",\"557143\",\"557144\",\"557145\",\"557146\",\"557147\",\"557149\",\"557150\",\"557151\",\"557152\",\"557153\",\"557208\",\"557210\",\"557211\",\"557212\",\"557213\",\"557214\",\"557215\",\"557216\",\"557217\",\"557218\",\"557219\",\"557220\",\"557221\",\"557222\",\"557223\",\"557225\",\"557226\",\"557227\",\"557228\",\"557229\",\"557230\",\"557231\",\"557232\",\"557233\",\"557235\",\"557237\",\"557247\",\"557248\",\"557250\",\"557251\",\"557252\",\"557253\",\"557254\",\"557255\",\"557256\",\"557257\",\"557258\",\"557259\",\"557260\",\"557261\",\"557262\",\"557263\",\"557264\",\"557265\",\"557266\",\"557267\",\"557268\",\"557270\",\"557271\",\"557272\",\"557273\",\"557274\",\"557275\",\"557276\",\"557277\",\"557278\",\"557279\",\"557280\",\"557281\",\"557283\",\"557284\",\"557285\",\"557286\",\"557287\",\"557289\",\"557290\",\"557291\",\"557292\",\"557293\",\"557294\",\"557295\",\"557296\",\"557297\",\"557298\",\"557299\",\"557301\",\"557302\",\"557303\",\"557304\",\"557305\",\"557306\",\"557307\",\"557308\",\"557309\",\"557310\",\"557311\",\"557312\",\"557313\",\"557314\",\"557315\",\"557316\",\"557317\",\"557318\",\"557319\",\"557320\",\"557321\",\"557322\",\"557323\",\"557324\",\"557325\",\"557326\",\"557327\",\"557328\",\"557329\",\"557330\",\"557331\",\"557332\",\"557333\",\"557349\",\"557350\",\"557351\",\"557377\",\"557389\",\"557390\",\"557397\",\"557406\",\"557407\",\"557409\",\"557410\",\"557412\",\"557414\",\"557415\",\"557416\",\"557417\",\"557426\",\"557427\",\"557428\",\"557429\",\"557430\",\"557431\",\"557442\",\"557464\",\"557466\",\"557468\",\"557469\",\"557470\",\"557471\",\"557472\",\"557473\",\"557474\",\"557476\",\"557477\",\"557480\",\"557481\",\"557482\",\"557483\",\"557484\",\"557485\",\"557486\",\"557488\",\"557489\",\"557490\",\"557491\",\"557492\",\"557493\",\"557494\",\"557495\",\"557496\",\"557497\",\"557498\",\"557499\",\"557500\",\"557501\",\"557502\",\"557503\",\"557504\",\"557509\",\"557510\",\"557511\",\"557513\",\"557514\",\"557517\",\"557518\",\"557523\",\"557524\",\"557525\",\"557526\",\"557527\",\"557528\",\"557529\",\"557560\",\"557568\",\"557569\",\"557570\",\"557571\",\"557572\",\"557573\",\"557577\",\"557583\",\"557595\",\"557596\",\"557597\",\"557598\",\"557599\",\"557600\",\"557601\",\"557602\",\"557603\",\"557604\",\"557605\",\"557610\",\"557611\",\"557612\",\"557613\",\"557614\",\"557615\",\"557616\",\"557617\",\"557618\",\"557619\",\"557620\",\"557621\",\"557622\",\"557623\",\"557625\",\"557626\",\"557627\",\"557628\",\"557630\",\"557631\",\"557632\",\"557633\",\"557634\",\"557635\",\"557636\",\"557639\",\"557640\",\"557641\",\"557642\",\"557643\",\"557644\",\"557645\",\"557662\",\"557667\",\"557668\",\"557669\",\"557670\",\"557671\",\"557672\",\"557673\",\"557674\",\"557675\",\"557676\",\"557681\",\"557734\",\"557735\",\"557736\",\"557739\",\"557742\",\"557743\",\"557744\",\"557745\",\"557746\",\"557747\",\"557748\",\"557749\",\"557750\",\"557751\",\"557752\",\"557753\",\"557754\",\"557755\",\"557756\",\"557757\",\"557758\",\"557759\",\"557760\",\"557761\",\"557762\",\"557763\",\"557764\",\"557765\",\"557766\",\"557767\",\"557768\",\"557769\",\"557770\",\"557771\",\"557772\",\"557774\",\"557775\",\"557776\",\"557777\",\"557778\",\"557780\",\"557781\",\"557782\",\"557783\",\"557784\",\"557785\",\"557786\",\"557787\",\"557788\",\"557789\",\"557790\",\"557792\",\"557793\",\"557794\",\"557795\",\"557796\",\"557797\",\"557798\",\"557799\",\"557800\",\"557801\",\"557802\",\"557803\",\"557804\",\"557805\",\"557806\",\"557846\",\"557847\",\"557848\",\"557849\",\"557850\",\"557851\",\"557852\",\"557853\",\"557854\",\"557855\",\"557856\",\"557857\",\"557858\",\"557859\",\"557860\",\"557861\",\"557864\",\"557869\",\"557870\",\"557871\",\"557872\",\"557873\",\"557875\",\"557877\",\"557878\",\"557880\",\"557881\",\"557884\",\"557885\",\"557886\",\"557887\",\"557888\",\"557889\",\"557891\",\"557892\",\"557893\",\"557894\",\"557896\",\"557897\",\"557898\",\"557900\",\"557933\",\"557935\",\"557936\",\"557937\",\"557938\",\"557939\",\"557940\",\"557942\",\"557948\",\"557949\",\"557950\",\"557951\",\"557952\",\"557953\",\"557954\",\"557955\",\"557956\",\"557957\",\"557958\",\"557959\",\"557960\",\"557961\",\"557962\",\"557963\",\"557964\",\"557966\",\"557967\",\"557968\",\"557969\",\"557970\",\"557972\",\"557973\",\"557974\",\"557975\",\"557976\",\"557995\",\"558006\",\"558027\",\"558028\",\"558030\",\"558031\",\"558032\",\"558033\",\"558034\",\"558035\",\"558038\",\"558039\",\"558040\",\"558041\",\"558042\",\"558043\",\"558044\",\"558045\",\"558046\",\"558047\",\"558049\",\"558053\",\"558054\",\"558055\",\"558056\",\"558057\",\"558058\",\"558062\",\"558063\",\"558064\",\"558065\",\"558066\",\"558067\",\"558068\",\"558069\",\"558070\",\"558073\",\"558074\",\"558075\",\"558076\",\"558077\"],\"Revenue\":{\"__ndarray__\":\"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\",\"dtype\":\"float64\",\"shape\":[10522]},\"StockCode\":[7,2,12,4,1,20,1,2,16,1,16,2,2,19,1,34,12,13,7,3,5,14,14,24,10,1,11,14,18,2,17,2,1,64,3,2,28,1,17,2,48,51,54,1,59,6,14,9,17,6,28,14,1,74,2,14,31,15,5,2,5,69,1,46,12,4,13,9,15,44,9,22,22,73,6,5,12,3,11,31,27,20,1,16,523,1,1,1,1,1,29,1,1,1,2,8,62,1,7,13,15,18,9,2,2,6,7,1,64,5,18,21,4,1,8,16,4,8,2,6,1,17,1,1,1,7,22,11,1,14,40,590,5,5,11,6,28,4,6,12,2,12,2,9,15,18,3,16,2,14,15,17,2,12,1,11,21,2,23,10,48,22,1,14,16,2,16,2,21,18,14,20,1,55,63,16,11,1,26,6,16,1,5,4,8,21,9,13,17,2,17,2,16,13,26,14,1,5,7,12,7,15,48,35,10,10,13,12,5,56,19,2,19,2,50,15,19,17,7,20,12,1,1,31,7,5,14,1,4,1,27,38,25,6,2,13,1,2,17,2,1,11,4,7,96,6,29,18,19,14,8,1,25,20,5,12,1,1,1,17,17,23,3,1,2,4,8,29,1,1,26,27,3,16,11,22,11,2,3,28,68,9,3,3,15,7,39,17,6,24,10,10,81,41,47,140,1,63,586,1,3,11,3,10,14,1,1,28,5,62,29,38,1,15,13,14,2,2,1,1,8,14,30,16,71,19,14,12,22,145,9,29,11,7,52,38,22,7,8,1,34,3,1,1,1,1,1,1,1,1,1,1,1,1,1,1,1,1,1,1,1,1,1,1,1,1,1,1,1,24,25,15,12,1,1,1,13,6,1,73,1,31,11,7,2,26,48,19,30,14,41,2,14,51,31,5,3,40,15,49,12,20,63,6,26,25,8,1,22,1,116,2,23,17,19,35,50,9,115,34,66,33,3,33,37,15,95,41,54,30,17,10,28,26,21,19,13,53,32,1,32,74,17,2,32,28,70,43,32,11,4,23,57,41,15,16,30,6,13,7,18,4,16,67,1,7,25,9,122,60,9,20,1,1,1,18,9,5,9,595,15,13,568,15,29,2,11,3,7,3,4,1,14,1,23,55,20,11,9,10,54,38,9,14,9,5,12,44,23,34,12,29,38,10,1,1,56,1,1,21,12,1,15,49,51,14,22,74,48,16,14,20,2,24,53,5,13,1,14,18,19,8,48,24,34,5,49,29,10,50,49,1,11,11,45,6,16,1,3,1,9,33,14,18,48,27,6,3,1,1,1,22,20,1,1,4,674,14,1,1,1,1,16,40,2,28,7,1,1,1,1,1,1,1,1,2,19,13,11,1,1,12,41,28,22,1,18,20,1,5,1,6,3,28,21,2,9,56,12,29,5,13,17,23,14,1,9,15,45,12,30,16,46,12,10,30,5,1,8,16,7,6,4,23,44,53,6,31,12,16,18,1,1,5,18,2,3,4,601,1,148,79,122,123,107,67,22,7,13,34,21,8,5,3,9,1,6,536,1,2,9,10,15,18,7,19,1,8,9,5,13,7,4,20,19,3,1,19,17,15,20,49,11,14,4,3,14,17,9,2,21,9,8,10,12,4,1,27,44,38,4,1,2,45,15,9,59,59,4,45,6,127,14,2,19,27,60,15,6,11,10,5,30,2,11,10,17,7,1,2,7,15,3,7,53,17,30,589,28,21,1,30,19,15,11,1,1,14,9,15,1,15,9,37,4,5,6,1,1,25,7,86,5,31,11,26,6,7,1,14,22,9,15,74,1,24,1,1,1,1,1,1,1,8,16,12,4,5,6,16,10,10,35,27,6,5,10,14,5,14,13,20,1,24,3,13,46,14,3,4,11,1,2,1,17,20,1,3,2,11,41,32,5,32,29,12,13,21,10,71,1,5,1,1,60,1,1,1,3,1,1,1,2,5,1,26,30,1,1,24,11,1,1,1,1,24,23,26,12,64,5,648,1,10,1,14,46,26,17,9,38,4,1,1,33,11,40,3,15,1,26,13,9,17,16,18,3,2,2,11,2,1,1,1,1,1,1,1,1,1,1,1,1,1,1,1,1,1,23,21,1,111,113,5,121,21,33,37,12,1,1,1,1,1,45,3,16,25,29,13,25,65,11,1,46,1,4,531,6,1,10,7,9,32,26,6,11,10,1,10,16,1,1,1,2,16,20,87,28,14,37,18,8,4,60,15,54,26,41,32,8,5,7,1,1,36,1,33,8,51,16,14,7,7,11,4,1,18,1,38,16,3,2,14,41,23,22,1,16,7,36,31,1,607,140,3,37,68,1,21,6,1,1,26,19,18,18,7,42,66,37,47,34,50,34,50,37,48,22,9,10,44,33,1,28,24,53,26,2,14,28,44,2,1,6,16,54,118,22,32,16,9,23,47,13,1,41,126,6,3,17,6,24,488,20,4,7,6,23,13,36,1,7,8,15,2,34,1,471,17,13,10,15,11,2,7,26,53,55,7,30,54,9,20,38,53,41,44,50,20,6,37,2,16,14,5,2,23,61,18,5,21,7,16,7,34,41,11,46,2,33,10,6,1,2,1,5,16,11,19,1,5,7,16,3,13,42,18,44,12,26,18,1,1,1,20,1,54,6,9,30,8,10,17,1,59,10,17,26,43,11,21,32,6,25,11,15,4,82,89,4,1,5,4,25,21,1,42,16,17,17,6,2,1,80,9,16,29,55,12,30,5,10,11,6,12,1,17,43,5,5,66,1,27,3,5,6,11,1,9,148,8,19,57,48,78,41,1,28,14,53,1,25,15,17,5,19,11,12,26,15,1,5,12,5,9,73,12,12,4,10,22,42,8,20,45,28,6,9,30,5,15,20,7,1,29,9,1,4,17,8,35,45,4,8,1,25,16,15,1,16,39,18,5,1,21,17,20,61,14,25,11,17,65,3,15,8,1,23,67,1,1,44,1,6,3,10,36,5,3,9,10,7,1,12,2,11,3,12,12,24,12,5,5,2,7,15,1,19,29,11,4,18,8,12,3,1,2,8,19,1,22,8,3,3,11,30,39,35,13,30,16,14,13,37,2,24,1,4,22,16,2,61,6,44,9,28,29,19,16,7,15,54,19,7,20,28,6,19,31,25,21,12,1,7,9,2,3,4,6,4,30,6,13,8,5,1,16,9,21,48,10,5,10,9,11,16,8,1,20,5,40,13,19,1,15,3,11,18,11,5,41,13,4,18,40,19,3,45,23,14,5,8,8,1,1,20,10,4,4,29,25,10,22,22,12,11,27,1,3,7,11,27,18,1,6,15,1,11,4,1,40,9,3,4,8,9,4,39,11,7,460,5,434,516,21,1,1,15,6,35,6,30,19,3,27,439,9,455,9,27,27,8,22,14,1,13,15,17,31,12,24,26,34,29,40,14,18,7,79,27,17,6,4,2,11,9,55,1,10,43,2,15,16,279,10,1,1,16,14,19,1,30,40,15,8,6,1,14,1,2,6,43,16,11,1,1,1,1,27,20,19,17,1,1,32,4,267,2,1,47,17,26,1,7,6,12,244,3,2,12,12,19,1,10,8,43,1,1,1,53,4,7,21,2,38,50,1,16,38,4,4,42,1,1,4,2,16,1,119,1,1,1,5,3,137,3,1,29,8,1,20,4,54,1,11,54,1,11,1,48,78,110,93,74,66,40,36,28,44,32,20,12,7,1,153,1,16,10,16,6,1,1,37,26,1,10,28,3,31,1,4,16,19,21,14,2,37,64,3,5,1,3,7,32,5,34,9,7,4,4,3,53,65,509,13,2,1,21,20,15,14,2,1,88,1,11,13,3,17,1,1,1,1,1,1,1,9,4,22,1,14,1,1,1,1,1,34,57,28,11,13,1,29,3,70,10,45,1,11,410,22,13,1,30,8,49,13,15,4,10,22,14,18,23,16,56,41,1,18,9,8,2,1,22,17,23,8,2,24,22,24,1,7,287,51,2,3,16,6,54,3,9,51,24,5,17,1,1,1,34,34,54,11,2,6,21,6,29,2,41,34,1,91,40,28,1,29,7,155,43,15,1,1,8,235,1,13,3,21,41,13,1,5,1,16,46,53,8,1,17,5,21,21,31,104,1,2,74,29,9,28,42,57,22,335,69,16,113,52,42,9,25,6,31,3,45,24,1,1,15,171,32,13,1,6,13,20,10,37,1,2,26,16,5,3,11,1,17,13,11,18,20,24,47,8,352,6,1,23,8,22,11,4,149,10,13,8,16,15,52,3,1,19,334,98,39,18,130,3,9,1,17,8,10,42,8,34,39,15,1,20,2,10,22,5,37,20,23,16,33,6,16,50,3,29,28,9,41,28,28,14,7,17,48,9,16,34,33,18,38,11,15,27,33,20,25,2,25,13,30,26,22,22,5,35,5,43,35,13,9,1,93,502,22,5,15,14,1,1,1,23,16,1,1,1,44,19,42,29,29,8,20,1,1,1,21,21,15,50,35,13,350,86,15,8,1,1,1,10,14,7,50,1,1,1,1,1,1,1,33,289,8,1,1,4,27,4,4,12,44,23,1,1,1,1,21,23,1,19,9,10,15,13,9,8,4,10,9,7,3,1,17,8,4,2,9,13,1,73,2,6,31,5,53,16,54,3,42,16,2,1,406,2,7,13,3,31,29,20,4,127,1,36,11,1,27,48,7,1,4,460,29,7,7,39,7,4,52,9,11,11,9,71,2,16,2,12,34,1,16,11,11,79,26,13,34,66,3,31,7,2,2,24,48,418,1,30,26,22,1,5,16,3,22,1,15,6,44,13,47,346,6,8,9,18,1,1,14,15,9,29,18,5,11,9,41,10,27,14,37,19,41,1,21,9,19,15,7,35,37,360,2,2,15,1,2,33,22,20,12,1,70,1,6,43,10,19,35,1,2,20,17,20,23,46,44,38,36,25,7,7,4,38,22,3,8,3,22,3,16,33,79,16,11,61,30,76,27,3,9,384,41,85,65,11,19,5,6,2,1,34,14,24,36,2,1,33,1,1,6,17,6,9,8,35,1,39,34,16,28,72,19,21,89,34,25,28,53,16,19,5,11,31,4,1,23,5,32,61,13,49,11,31,27,3,7,39,5,24,21,35,6,19,6,8,17,17,32,1,2,21,60,1,12,4,51,1,1,27,30,42,1,455,378,402,355,1,1,6,8,19,36,1,4,10,12,5,5,8,4,7,10,16,1,7,12,97,16,1,13,63,4,29,74,7,38,36,340,14,26,1,39,26,54,39,24,18,1,282,3,101,1,13,7,18,25,37,1,35,38,45,19,30,31,10,25,33,22,16,33,23,40,14,14,31,27,17,415,46,15,19,101,6,1,1,28,50,4,4,1,2,5,3,2,19,72,30,12,2,31,4,58,10,42,11,19,21,15,5,3,11,33,5,22,3,16,14,17,31,106,1,13,1,3,9,402,371,1,35,16,11,1,12,5,1,27,106,29,4,5,1,35,52,4,15,93,5,14,19,26,26,19,6,16,2,10,9,1,1,88,48,58,3,21,6,2,73,429,215,11,9,4,10,31,32,1,11,28,55,48,39,17,51,101,44,39,17,8,44,89,44,12,14,28,6,22,19,1,26,5,96,84,109,49,8,10,19,6,20,47,32,13,4,1,20,6,26,1,8,22,32,18,15,17,18,19,4,9,11,53,8,1,15,155,44,127,27,14,25,47,5,18,4,15,11,9,3,1,8,27,20,66,5,23,11,16,3,58,19,17,27,6,175,39,25,18,25,4,11,28,6,9,32,23,7,11,3,53,2,9,21,26,23,21,16,24,8,1,40,56,52,34,10,120,6,88,16,16,71,7,21,70,31,24,9,8,12,5,1,16,7,10,11,1,7,3,6,1,3,2,4,6,1,6,30,11,10,12,11,8,1,1,1,17,108,3,10,2,8,10,42,52,18,35,3,36,1,6,13,1,18,21,19,22,7,75,12,1,4,37,29,26,24,11,48,8,17,16,15,64,1,10,198,20,23,31,1,36,30,41,21,34,45,18,21,24,93,5,181,39,24,11,5,4,38,21,5,55,1,1,1,1,1,1,1,16,26,12,9,50,16,6,9,1,1,1,18,11,12,8,4,9,12,17,1,1,75,1,1,17,68,57,37,2,18,19,41,15,6,17,1,1,1,1,21,53,18,22,11,21,13,8,20,3,19,16,16,35,1,1,26,1,1,1,1,9,1,1,1,1,1,8,1,21,32,16,49,20,15,1,12,1,1,2,32,21,71,23,178,20,16,1,1,1,1,1,1,1,1,1,1,1,1,1,1,1,1,1,1,1,1,1,1,1,1,8,1,1,1,1,1,1,1,1,1,30,1,1,1,1,8,20,16,34,5,10,1,1,38,9,12,19,18,30,30,25,14,24,5,53,51,8,32,46,25,41,7,1,15,87,39,48,19,31,148,15,71,65,19,40,3,46,1,11,5,53,28,2,5,37,28,21,17,10,42,135,32,14,16,1,10,15,1,5,11,19,22,23,5,50,10,20,41,7,71,9,3,9,13,2,27,7,16,19,26,18,1,34,3,22,2,23,1,1,14,45,14,18,22,11,1,1,13,21,15,58,18,39,88,14,19,28,2,39,21,12,44,5,18,3,1,47,18,20,8,27,17,18,20,2,5,1,1,30,1,1,1,1,29,14,23,2,78,43,1,23,12,56,4,5,111,13,8,6,10,1,19,12,179,4,20,1,12,29,1,4,5,2,19,26,4,1,8,27,33,9,12,46,14,27,18,4,1,8,9,1,18,16,9,9,36,61,40,76,20,8,8,10,29,10,11,10,21,9,2,169,1,12,1,1,1,2,34,16,70,9,12,5,7,19,4,10,6,3,29,1,1,18,17,5,230,3,3,17,10,7,4,8,1,1,12,16,31,16,2,28,11,54,129,10,34,10,33,26,70,26,40,19,41,6,17,20,19,11,19,29,13,10,4,3,11,4,11,14,4,1,29,44,1,26,21,32,4,5,3,10,61,42,23,14,1,7,13,37,22,4,144,3,7,2,18,63,11,21,39,7,41,1,34,14,3,9,55,59,1,9,14,44,106,1,2,23,3,22,16,4,4,9,25,30,12,2,1,13,11,1,1,1,1,1,1,3,24,1,1,1,1,1,1,1,16,44,13,24,12,55,11,38,9,28,19,5,8,25,18,6,11,7,26,41,7,124,98,1,53,1,7,11,29,130,1,26,11,11,4,39,38,6,143,10,22,29,80,83,2,10,17,2,15,2,4,7,39,1,1,1,14,19,1,16,9,10,5,1,3,23,10,144,15,19,3,40,8,48,104,7,39,49,9,1,15,2,1,9,32,14,1,45,13,33,10,20,199,28,70,1,1,1,51,17,1,7,1,3,19,8,5,27,8,27,11,13,24,48,20,1,1,3,11,9,138,69,66,13,60,11,5,25,11,8,40,14,36,13,1,141,17,20,5,6,1,14,12,68,17,13,16,5,2,19,5,14,7,19,3,9,34,18,1,25,4,14,18,21,2,8,30,1,2,13,19,60,9,78,17,14,19,18,11,17,17,2,2,19,34,63,1,1,1,10,12,166,10,16,1,2,1,2,3,1,2,1,2,104,4,14,59,14,23,10,30,52,1,12,23,11,3,7,2,1,23,12,3,24,20,42,1,1,1,2,1,9,14,5,78,9,64,57,25,18,31,12,29,18,23,59,7,24,36,21,38,53,13,4,12,7,182,1,76,15,10,24,8,15,3,1,9,36,30,6,18,3,156,23,30,5,17,9,21,7,11,1,15,1,8,21,8,7,42,42,4,25,60,39,26,12,11,29,122,1,9,1,69,24,3,18,4,12,26,36,4,21,2,51,3,49,17,15,1,14,8,1,27,11,19,16,18,15,2,27,1,19,17,5,20,20,11,28,30,1,10,109,23,2,30,1,1,13,2,10,5,1,1,69,2,144,11,10,6,7,26,13,7,41,32,19,10,14,11,1,24,43,12,16,10,29,22,28,48,3,6,2,3,7,13,1,40,1,1,15,20,6,22,47,22,22,2,6,16,4,27,2,13,1,6,86,6,17,8,27,15,3,1,182,15,8,15,30,1,37,12,6,5,3,3,6,16,69,49,27,41,65,53,49,36,12,14,18,111,14,7,65,15,5,19,16,73,27,60,36,58,2,2,21,25,24,11,41,42,13,13,16,4,29,49,2,17,14,14,43,8,17,1,1,5,169,4,1,3,4,3,22,1,14,1,1,13,25,27,17,32,5,19,1,1,1,1,1,1,1,14,2,4,15,5,6,53,17,57,10,19,22,32,16,7,1,24,13,12,5,11,49,1,8,35,1,16,17,3,12,1,1,1,2,206,1,3,4,2,1,23,54,1,14,17,24,96,13,18,20,46,11,12,33,67,44,62,75,31,23,24,70,43,4,33,16,14,6,15,1,68,5,1,76,43,8,7,12,38,20,43,1,12,17,48,67,63,29,22,21,1,1,8,8,110,33,10,3,12,58,141,230,2,32,11,4,2,1,1,15,15,3,1,5,43,1,19,12,13,15,17,28,28,16,10,1,9,23,5,8,28,118,11,28,36,31,21,16,43,29,34,16,27,44,64,11,40,78,44,4,208,208,52,4,20,17,2,15,41,40,6,24,19,8,1,1,17,19,12,1,31,7,16,26,53,35,39,5,47,49,47,1,13,117,24,66,7,36,20,82,19,28,1,4,58,40,1,11,9,17,18,18,31,9,1,16,1,23,1,18,14,216,11,16,6,17,4,11,1,2,10,29,131,9,7,1,32,1,11,15,36,9,32,19,5,20,12,67,19,9,34,36,14,1,8,14,18,23,19,9,15,23,19,38,23,14,9,26,15,5,19,9,49,10,24,11,9,1,17,4,6,1,159,3,50,52,11,34,20,34,1,20,5,6,29,11,24,27,16,48,21,18,52,13,35,1,12,22,5,35,7,1,17,27,10,5,10,12,29,4,19,30,41,33,48,4,73,11,2,5,23,7,4,18,28,21,29,19,16,8,20,14,55,10,2,24,6,22,5,16,60,61,1,22,13,12,36,60,1,64,36,11,10,38,28,7,8,31,15,38,12,20,9,1,126,29,24,40,26,5,19,64,13,8,1,26,1,1,3,15,13,46,3,14,20,27,11,12,12,5,4,5,9,22,13,11,17,38,7,48,12,7,14,18,14,1,47,4,115,15,14,11,10,223,177,166,14,1,15,30,9,1,11,3,95,98,1,3,5,12,61,10,12,17,1,6,28,7,7,1,33,30,17,33,14,1,19,42,38,16,30,7,2,29,7,5,9,28,10,26,24,17,49,11,4,6,12,15,5,27,4,2,39,6,1,1,158,44,1,30,50,19,69,1,10,10,18,16,18,1,4,34,37,46,39,23,1,1,35,40,20,7,3,1,31,21,29,1,28,23,1,10,6,1,22,24,8,4,1,11,14,41,66,1,15,71,22,29,3,192,4,1,4,29,18,9,15,31,82,16,29,5,5,19,28,2,15,14,2,17,39,12,14,98,23,13,2,19,29,20,48,1,1,1,1,7,1,1,1,1,20,5,11,51,1,1,1,1,1,1,1,1,225,4,36,8,18,11,3,14,8,22,20,14,23,16,1,17,11,58,15,15,23,22,18,3,20,15,9,1,1,1,9,13,2,8,19,16,23,20,9,5,3,6,6,6,37,1,3,35,17,43,6,56,75,3,36,52,11,13,18,13,1,187,10,8,5,1,6,5,55,39,56,7,41,8,71,60,107,25,15,12,1,85,19,32,15,25,15,63,19,1,6,14,9,4,8,18,7,8,10,119,44,50,55,46,20,68,41,1,5,2,14,3,23,15,1,57,37,11,15,2,27,1,16,9,50,2,22,36,30,12,20,17,34,11,4,1,1,16,8,25,13,1,10,89,6,8,1,9,5,1,5,23,223,5,250,8,11,1,149,2,7,14,59,16,20,41,19,2,6,14,51,16,13,9,19,28,56,24,111,25,49,3,19,3,1,29,3,6,18,67,82,50,58,4,4,1,50,1,53,7,189,204,11,1,2,32,1,29,1,28,1,11,1,1,1,1,1,1,27,40,1,8,9,6,1,20,5,9,9,12,20,4,27,2,3,40,1,5,7,29,7,81,24,55,21,5,1,5,11,42,45,59,2,7,23,1,22,1,21,36,71,26,19,6,25,15,7,1,1,10,1,1,3,52,4,10,219,1,1,1,1,1,1,1,1,1,1,1,1,1,1,5,1,26,11,5,15,13,32,1,12,7,19,3,2,5,30,25,16,9,27,3,29,14,14,28,21,22,20,48,23,12,1,27,19,1,1,30,7,13,24,18,17,62,5,10,16,46,3,16,1,9,5,1,20,34,165,1,1,1,5,2,1,19,22,7,25,1,1,20,4,13,5,1,1,9,4,28,60,19,30,16,1,7,20,1,1,19,3,38,1,4,9,9,24,22,22,10,17,90,45,1,7,42,1,39,16,6,13,9,3,5,17,1,3,158,1,1,1,5,5,2,23,18,42,16,21,21,37,33,63,21,18,49,29,18,89,21,17,11,8,15,21,5,22,38,32,7,5,7,2,1,4,32,72,21,1,28,78,55,4,31,9,41,3,19,3,11,16,5,2,38,27,12,2,10,33,33,34,1,8,30,81,50,16,19,43,1,1,17,9,15,22,11,1,1,34,19,22,45,24,25,23,24,2,1,2,12,41,22,3,26,19,13,9,30,15,21,78,46,41,37,53,49,34,36,54,1,33,9,27,1,6,3,14,1,14,9,23,107,1,1,3,29,50,20,22,18,29,21,16,22,7,13,3,3,4,1,12,26,19,3,3,1,29,11,42,1,33,16,3,1,26,5,48,3,31,1,7,11,30,7,9,16,17,8,3,5,6,44,8,26,3,92,1,8,45,2,19,23,12,40,5,12,12,4,9,14,42,1,1,4,14,8,5,19,26,39,2,3,23,95,35,2,1,30,30,16,6,25,37,5,30,7,22,2,11,2,51,2,5,1,21,16,180,168,21,177,153,298,4,21,1,1,11,21,28,18,64,49,7,19,3,44,4,3,18,2,32,1,8,5,2,21,14,6,30,22,13,54,49,9,16,79,36,35,45,65,13,23,7,48,47,64,5,46,18,27,22,16,43,1,21,5,24,6,21,3,19,6,17,48,3,1,1,7,12,22,16,14,5,8,1,20,22,7,25,3,7,8,18,11,4,5,2,2,5,224,20,2,10,6,11,19,15,10,21,11,24,3,6,47,8,21,15,65,271,12,11,30,10,20,57,46,11,6,30,11,31,17,4,9,34,5,14,5,36,4,3,10,15,18,8,12,14,21,31,24,11,16,24,10,26,4,67,16,5,40,8,21,20,21,16,14,1,1,7,6,38,32,4,7,35,11,6,29,17,6,16,31,1,82,24,5,11,10,75,22,1,9,4,8,15,2,42,54,5,8,10,24,204,174,153,20,16,67,28,8,31,1,1,1,1,1,1,12,1,1,1,1,1,5,1,1,1,1,1,1,1,19,41,33,151,68,21,18,39,1,3,12,9,44,1,29,4,26,4,77,34,22,10,29,46,24,56,45,1,138,185,44,37,8,1,1,1,1,77,51,45,48,36,27,1,1,1,8,5,2,2,20,32,12,1,10,22,29,15,23,13,16,67,7,1,42,5,43,9,10,14,7,15,64,74,18,1,3,35,1,1,18,8,8,49,16,2,16,24,14,2,10,6,1,21,11,1,1,1,1,1,1,1,1,1,1,1,1,1,10,1,16,16,7,3,2,149,55,16,6,42,57,12,1,18,23,1,6,1,1,16,9,16,11,12,1,26,42,20,8,19,15,8,1,5,9,29,2,31,12,1,1,1,1,1,1,1,1,1,31,1,8,15,7,1,14,2,56,65,80,30,20,21,15,73,17,73,16,19,68,45,21,30,30,9,27,33,3,26,1,11,32,4,18,19,2,24,23,12,3,10,1,18,1,1,1,1,16,34,1,25,3,1,13,25,27,11,10,17,13,1,1,8,19,19,23,2,7,3,4,2,62,51,5,52,74,46,5,177,43,34,1,28,27,18,13,21,22,28,17,1,21,31,14,17,4,1,1,13,9,3,11,13,6,5,49,9,21,1,9,20,162,22,15,7,5,14,20,7,38,12,1,4,4,11,61,89,10,21,8,16,1,14,85,20,49,35,23,17,13,11,20,3,5,34,31,39,17,43,7,20,30,28,6,19,69,5,9,24,58,25,14,8,1,19,36,64,5,34,116,9,14,13,1,1,60,28,24,39,10,4,22,28,10,1,1,1,1,1,1,17,8,12,39,23,1,22,2,3,1,3,14,3,22,1,3,1,1,1,45,24,15,172,4,1,151,37,1,32,5,19,10,29,1,16,1,27,1,1,1,1,1,1,1,1,1,18,22,22,17,1,15,89,13,4,39,2,21,13,18,1,1,1,1,1,2,49,1,19,17,19,13,21,20,14,28,4,53,1,90,69,52,44,51,48,35,29,9,14,13,1,1,54,4,27,22,8,52,11,3,168,23,165,1,8,8,50,20,9,139,1,1,1,1,18,1,40,16,41,33,17,19,1,1,16,2,1,1,3,1,1,1,14,8,1,17,3,28,30,28,21,1,3,1,18,1,43,10,60,65,24,12,47,48,9,7,1,18,6,15,7,2,5,9,11,15,8,61,1,14,22,20,3,4,17,8,4,16,12,1,22,3,24,20,13,54,3,20,10,1,1,1,23,4,1,26,9,3,216,1,1,1,1,1,1,1,1,8,1,5,52,2,1,1,1,1,1,1,1,54,8,1,1,63,55,11,17,17,33,4,3,4,12,9,26,63,15,10,5,9,7,23,4,13,16,27,16,5,27,8,36,10,4,35,57,12,16,22,3,58,69,74,2,3,5,34,27,14,73,1,193,19,41,147,24,2,5,46,15,1,1,1,1,1,1,12,8,13,19,9,4,2,3,12,18,10,9,19,15,2,12,19,5,8,35,6,17,13,6,26,10,15,3,9,35,16,114,1,36,1,15,18,12,1,1,45,16,1,2,5,1,1,13,24,1,5,2,21,1,1,1,1,1,15,1,2,2,1,75,1,24,7,5,3,10,20,6,2,1,29,6,1,1,68,67,7,79,2,2,54,11,3,1,1,1,1,1,1,1,1,1,1,1,24,5,1,1,1,7,6,29,6,10,35,27,36,7,3,4,17,93,12,17,88,66,150,65,16,14,1,1,12,67,7,37,36,8,33,1,27,52,27,14,26,18,15,27,1,12,31,18,15,32,37,53,19,8,18,40,1,1,3,15,24,65,17,1,45,39,18,40,32,16,42,6,7,3,37,1,1,1,1,1,7,196,254,2,14,1,21,6,13,3,3,25,2,9,8,1,26,12,13,31,31,1,3,3,50,5,52,9,6,25,19,16,16,5,46,3,1,2,21,96,1,1,92,13,1,16,23,32,32,9,10,1,1,1,1,1,1,1,1,1,1,20,1,1,1,1,24,66,15,2,26,12,2,12,1,170,5,4,1,1,1,1,1,1,1,1,1,1,1,1,1,1,21,5,30,6,19,20,12,13,12,17,60,84,20,11,1,12,2,1,1,35,34,11,65,10,34,16,4,19,8,13,39,14,46,42,35,3,1,1,1,1,1,1,1,1,1,1,1,1,1,1,1,1,23,1,1,1,49,19,183,1,1,1,1,1,1,1,1,1,1,1,1,12,1,1,1,1,1,1,1,1,1,1,1,7,11,6,33,1,1,20,13,8,13,24,22,5,24,3,14,21,49,4,7,31,11,31,61,11,4,1,34,10,16,3,18,83,55,10,6,56,18,10,11,57,57,14,1,1,1,1,1,1,3,3,24,14,17,22,21,40,3,27,5,18,2,8,17,6,22,50,10,19,50,191,20,6,19,17,41,27,24,12,14,8,8,14,7,16,5,10,5,17,1,63,28,14,5,14,23,14,23,11,31,1,1,1,1,1,1,1,1,1,1,1,1,1,1,1,1,1,1,7,1,10,38,1,17,1,1,1,1,27,5,1,29,44,1,1,5,13,43,5,4,6,21,5,24,10,1,6,7,1,1,23,1,21,13,18,1,1,1,1,1,1,1,1,1,1,1,1,1,1,9,1,1,3,1,1,1,1,1,1,1,1,1,1,28,32,3,173,135,32,1,1,1,1,1,3,28,8,2,1,24,57,57,14,59,26,19,12,26,15,34,47,12,37,26,22,27,14,21,13,18,40,76,43,28,34,18,42,16,31,25,141,32,13,9,35,8,1,66,29,21,12,7,1,20,1,4,8,14,6,21,6,9,12,28,3,5,49,1,1,7,6,3,21,17,15,6,1,16,2,83,10,17,5,1,1,9,24,1,37,14,10,12,1,15,8,33,12,15,15,35,33,32,43,70,14,8,7,32,1,12,21,23,28,8,20,30,4,5,21,12,18,4,22,9,2,54,24,48,16,30,20,24,2,20,9,40,15,37,4,20,16,20,4,5,1,7,14,41,31,1,29,1,1,1,19,9,37,7,17,11,2,34,13,25,7,42,8,14,20,22,9,28,15,12,13,8,12,3,1,2,21,2,23,8,22,6,1,3,7,1,21,18,1,2,42,16,3,19,1,35,1,24,1,56,19,6,10,70,10,1,54,8,30,9,4,6,1,8,6,15,8,20,11,1,12,46,27,28,28,46,25,31,10,8,7,11,2,24,2,3,11,29,35,16,2,4,9,2,53,4,16,3,9,50,38,22,3,2,4,5,35,38,52,25,5,23,21,36,10,8,4,49,16,23,6,9,18,54,11,19,1,22,2,12,57,26,54,31,14,21,1,1,23,1,3,12,4,18,23,14,5,19,9,33,8,20,15,9,24,13,17,6,74,9,15,8,6,22,23,9,17,10,93,8,62,4,1,18,2,32,19,32,26,52,46,50,68,58,60,43,34,40,57,55,7,7,8,3,12,19,9,11,4,28,23,15,3,22,75,40,36,2,9,19,11,18,8,9,33,18,21,9,7,17,41,34,23,15,25,15,17,25,4,1,1,27,28,16,27,18,17,19,25,28,14,79,34,30,31,18,18,20,28,28,20,3,82,59,22,26,12,9,1,4,19,5,19,25,5,14,1,14,17,21,46,14,26,1,5,54,36,20,12,8,1,41,33,22,42,26,12,24,50,4,3,1,7,3,14,332,46,1,5,17,63,4,31,27,31,301,243,32,249,2,85,18,36,27,9,4,11,29,16,1,11,38,14,184,2,15,163,233,1,1,18,14,104,37,13,54,1,27,21,30,22,23,34,15,4,27,20,51,10,1,35,9,8,163,172,8,19,8,23,1,1,21,21,23,13,21,21,7,22,44,59,6,7,7,32,26,8,9,65,23,27,45,2,6,173,55,151,29,2,9,5,22,7,1,124,9,23,4,3,19,1,18,27,2,14,23,6,1,9,1,9,2,12,9,9,3,40,1,19,18,79,19,1,2,5,3,1,1,1,1,1,1,1,12,10,14,17,25,8,2,20,29,53,9,24,24,16,19,2,23,21,27,1,19,4,6,18,1,3,18,20,19,22,17,5,1,15,13,69,18,23,15,26,1,14,22,12,50,10,10,10,3,25,80,35,16,24,19,30,3,54,18,18,59,2,1,58,14,21,28,30,6,4,19,1,3,35,1,4,4,13,1,1,1,1,1,2,1,6,1,13,19,1,46,13,1,6,1,12,1,1,4,1,1,1,187,1,20,39,55,15,11,4,16,10,3,40,1,11,22,16,11,1,1,1,18,1,1,1,1,1,1,1,153,160,19,27,4,3,14,32,35,17,8,32,5,11,7,6,24,23,57,55,42,36,39,67,47,4,72,11,127,28,1,1,1,19,20,24,21,10,55,35,31,23,1,6,23,23,10,17,1,5,44,1,32,43,1,1,55,6,1,2,1,16,12,8,7,4,78,34,9,65,18,6,26,5,1,1,1,15,60,12,94,137,4,5,5,8,7,2,6,1,5,3,4,1,30,37,18,10,8,24,4,1,4,6,20,3,1,1,10,60,34,1,10,26,50,60,10,1,11,17,30,32,60,12,1,7,16,31,66,44,8,3,1,20,1,47,9,28,8,1,31,1,1,23,5,15,1,1,1,1,1,1,1,1,2,1,1,1,13,2,18,2,88,132,6,19,7,12,9,29,10,25,8,128,16,6,8,25,10,8,14,14,10,5,1,10,16,14,23,30,32,2,20,6,85,3,1,29,15,1,17,6,1,32,1,1,28,6,12,1,1,1,1,1,1,1,34,11,11,16,59,1,1,1,1,3,1,1,1,1,1,1,1,1,1,1,1,1,1,1,1,1,20,8,98,6,7,61,5,1,22,3,7,65,48,30,17,21,1,24,21,32,8,33,1,57,20,38,14,5,2,7,1,20,17,8,21,1,15,86,28,15,3,1,1,1,3,10,71,6,10,17,1,5,33,1,4,1,1,1,1,1,1,1,1,1,1,1,1,1,1,1,1,1,29,1,1,1,17,24,36,1,3,11,4,4,54,1,5,14,2,20,37,31,29,6,4,8,1,1,22,1,1,1,1,1,1,1,20,13,13,1,1,1,1,22,1,1,29,1,8,1,1,15,1,1,19,15,19,1,56,162,124,4,32,1,1,50,4,5,41,8,1,8,28,15,33,1,1,42,58,29,47,37,15,28,43,33,20,13,6,4,32,18,8,6,20,27,9,11,33,2,2,1,20,6,24,4,1,1,5,16,13,16,11,8,19,1,1,35,18,2,13,1,4,62,6,18,16,14,16,3,41,29,14,10,4,2,16,1,2,3,16,6,7,7,15,25,7,11,1,11,6,17,16,3,2,9,4,1,2,3,16,1,3,22,3,2,37,16,2,44,8,22,7,26,19,5,16,1,1,60,9,5,3,7,2,4,3,102,34,17,11,19,43,11,3,1,10,9,12,29,202,17,224,23,142,10,30,1,16,3,6,43,8,94,8,10,25,31,1,4,5,8,5,2,21,8,20,176,15,6,44,11,24,24,2,1,60,1,12,21,15,1,13,17,11,1,47,10,3,14,20,15,3,50,16,4,16,1,19,39,24,5,11,7,13,4,1,1,1,25,1,1,10,29,9,9,36,8,25,21,1,21,1,6,16,16,1,3,8,7,17,6,9,1,1,1,11,1,1,1,1,1,1,1,1,1,1,1,250,6,44,283,3,161,13,8,3,44,6,9,17,13,13,8,11,3,11,2,7,13,6,6,14,12,27,22,13,15,49,7,22,50,11,18,17,60,13,16,7,16,9,1,9,57,41,8,14,45,35,5,5,120,22,7,14,2,77,23,2,11,8,39,41,7,16,8,25,15,28,7,18,15,15,21,36,13,9,29,6,62,21,58,4,13,18,15,13,14,17,16,6,11,15,20,1,24,34,17,33,23,1,1,2,29,13,46,30,35,13,19,12,13,18,18,6,25,1,25,17,37,1,17,13,8,6,15,24,2,24,25,35,4,8,10,20,21,19,28,71,16,6,6,1,137,183,194,148,5,3,1,1,1,17,1,19,2,22,10,24,13,3,18,11,1,26,10,2,18,22,24,12,33,7,1,17,11,30,9,6,22,16,30,1,15,55,1,2,3,20,21,3,44,11,2,3,31,65,30,28,8,56,11,16,28,5,1,9,1,1,9,25,33,1,47,43,16,7,23,86,51,5,55,44,7,42,34,44,50,35,53,43,48,36,47,52,59,58,45,42,47,48,65,16,16,2,43,47,6,2,8,140,42,13,42,20,13,2,18,17,1,1,17,12,31,4,24,33,3,2,30,19,9,1,26,8,1,16,1,1,1,51,9,9,7,1,25,43,20,5,23,19,1,1,49,30,3,23,54,47,38,23,61,35,71,3,17,33,9,18,2,1,2,23,5,9,50,2,6,34,17,7,2,14,3,3,23,58,14,19,4,174,10,9,4,2,53,10,7,25,1,27,7,12,15,3,42,6,19,33,22,29,8,15,92,13,1,28,2,13,5,5,2,15,35,1,35,4,12,5,14,49,34,40,10,22,8,6,23,16,15,12,5,23,8,27,16,15,4,8,9,15,1,6,10,12,4,42,15,67,1,1,3,21,4,9,54,6,17,59,40,15,23,41,21,11,173,92,16,1,74,1,9,1,27,122,11,13,5,7,5,1,11,1,24,12,16,1,36,1,19,1,15,12,30,9,1,20,16,1,28,38,4,22,4,51,80,39,5,5,1,4,3,29,26,21,12,4,34,18,46,14,6,6,7,28,1,93,17,31,19,1,4,1,60,1,35,23,5,23,148,1,8,15,13,63,8,3,3,2,4,13,16,44,13,3,24,20,19,2,103,16,58,21,8,19,10,78,38,15,16,9,36,10,6,23,25,58,9,4,52,18,25,11,32,18,17,6,32,27,6,6,10,4,1,1,2,11,31,14,4,34,11,6,5,30,37,22,4,18,7,5,1,15,18,18,8,15,4,34,15,27,35,1,4,55,11,1,45,1,17,17,26,5,30,39,20,3,1,13,8,13,25,70,27,157,26,133,92,1,11,111,1,1,1,1,1,1,1,20,6,16,25,1,10,8,45,4,1,18,3,32,17,6,12,6,1,29,3,46,28,44,17,1,1,1,4,5,11,9,16,3,1,5,23,17,1,1,4,30,34,29,29,13,8,6,3,6,5,1,1,23,25,38,2,29,27,19,16,40,49,60,31,8,15,53,46,17,25,32,47,66,58,55,37,40,73,38,1,138,1,1,30,17,51,1,26,16,1,21,9,29,2,15,20,14,10,10,1,25,25,6,4,4,11,6,1,1,11,3,12,39,35,1,11,32,13,17,14,2,16,16,42,25,23,2,14,9,2,24,24,12,7,5,7,10,40,60,1,7,1,34,2,40,33,5,30,3,15,35,14,11,2,22,2,1,1,181,1,10,23,4,24,19,5,7,1,1,7,36,7,5,4,2,1,15,14,46,9,25,6,1,1,1,1,21,5,21,21,11,5,13,1,25,9,64,54,68,1,6,30,10,10,33,27,42,16,7,19,1,33,2,20,19,13,21,9,1,11,1,7,29,8,6,87,11,13,53,52,15,46,23,4,1,30,11,1,20,11,1,19,8,54,6,3,1,5,6,13,9,19,19,155,12,6,13,32,7,19,16,1,23,4,30,9,7,11,9,25,22,27,26,10,6,9,27,13,18,11,12,15,1,4,2,1,11,23,8,24,2,50,4,21,6,25,21,39,42,1,6,4,20,14,14,5,1,8,26,26,7,27,56,1,5,22,1,1,1,1,1,6,9,23,45,8,1,20,3,4,11,4,13,29,17,1,11,5,6,1,1,5,141,5,7,4,35,26,1,1,20,1,2,27,20,14,5,30,30,7,25,8,13,19,26,9,1,46,48,9,20,46,21,11,9,5,17,40,13,9,15,30,35,1,53,35,249,29,11,24,76,53,35,44,5,22,10,5,6,74,24,24,3,12,46,14,2,3,9,6,10,54,23,17,1,16,1,31,45,1,20,5,19,1,52,4,12,1,1,1,7,22,1,1,141,1,3,32,40,4,79,2,12,23,5,20,26,1,40,1,1,5,14,1,27,4,26,14,6,6,91,1,1,51,1,29,19,6,54,1,53,18,1,12,50,1,1,1,11,5,2,162,1,1,1,1,10,1,1,1,1,1,1,4,23,4,21,29,1,11,12,24,66,17,6,6,1,15,2,15,13,1,2,18,1,15,15,2,28,4,10,13,1,3,28,19,17,77,1,1,5,12,3,60,19,36,9,14,1,5,21,18,21,4,2,29,1,38,14,28,11,75,1,5,36,24,6,8,17,8,2,13,2,26,5,169,158,12,257,5,48,1,37,1,2,19,10,13,37,4,14,1,1,8,1,3,11,27,34,1,21,10,10,7,9,51,23,38,1,52,6,39,1,3,1,1,7,23,12,28,1,8,2,1,11,28,5,8,1,21,1,30,27,8,5,31,6,9,23,37,3,16,14,14,13,36,5,18,20,1,7,1,1,1,1,1,1,1,46,13,19,219,24,1,29,11,22,6,8,25,2,21,5,2,6,17,3,1,8,22,3,58,8,3,17,22,26,1,15,14,6,1,2,15,17,9,57,11,4,2,39,21,42,4,9,16,6,5,5,3,12,21,16,16,12,50,1,1,1,1,17,2,14,30,23,8,49,13,1,34,16,3,8,6,1,7,15,13,1,13,9,28,38,8,24,1,5,39,1,5,11,39,10,3,33,2,8,2,2,10,1,27,1,1,39,3,30,3,28,34,18,21,16,40,4,2,1,17,3,24,15,46,1,2,1,9,6,101,21,49,18,45,53,1,19,38,2,4,1,14,10,26,10,22,19,30,36,6,49,4,2,30,52,14,6,15,9,32,67,40,44,16,16,18,12,55,16,4,17,8,7,8,2,2,22,1,4,25,41,9,9,26,3,2,20,1,26,9,28,19,4,26,47,18,1,1,3,9,3,5,1,21,23,41,41,64,11,16,6,15,64,29,10,84,17,21,15,42,117,176,2,8,76,9,13,5,34,13,7,20,9,29,13,27,33,36,24,2,3,5,14,31,7,5,7,30,10,60,4,11,43,2,36,25,17,3,1,212,176,161,158,27,11,3,42,4,105,1,2,5,14,18,35,21,34,19,43,23,32,56,1,1,1,1,1,1,33,84,18,30,19,20,31,49,7,11,12,4,9,22,4,80,2,5,125,1,1,17,3,1,1,1,39,4,4,30,211,23,68,21,1,5,14,50,15,22,15,2,27,16,4,23,4,32,1,25,1,1,13,30,8,35,6,19,47,1,4,19,21,51,1,1,4,21,10,12,15,8,2,5,27,23,14,8,1,1,1,1,16,27,21,183,9,2,3,21,46,25,14,27,11,29,5,14,26,39,12,9,4,3,1,18,20,1,10,11,39,9,25,29,20,19,13,17,50,13,32,9,27,16,16,28,31,13,7,27,3,100,20,40,1,73,47,33,25,42,55,19,43,5,48,58,23,10,2,29,4,5,1,10,16,17,6,4,14,14,8,25,3,22,11,7,17,1,17,17,24,1,13,10,16,23,40,4,17,9,15,18,61,12,28,42,18,6,28,40,31,45,15,44,10,23,5,14,3,19,22,23,27,9,1,135,1,1,23,85,19,5,5,13,18,30,16,11,36,21,13,10,14,18,10,25,1,1,11,5,33,6,49,1,1,2,22,11,1,1,1,1,14,10,1,93,20,1,2,1,48,6,9,34,116,8,17,21,9,47,104,11,57,26,46,31,23,13,13,4,14,1,36,16,1,2,3,21,3,15,1,4,54,16,3,8,12,17,149,144,137,3,2,5,8,24,44,10,17,7,17,30,17,3,9,17,18,16,10,8,24,57,7,26,6,33,15,5,1,1,1,1,5,29,2,7,20,22,4,25,9,15,1,2,4,3,22,12,21,56,65,13,9,24,1,4,16,2,16,16,1,2,16,2,92,29,9,8,1,4,41,6,8,3,26,1,1,8,29,20,22,1,13,93,43,71,26,5,42,21,40,13,32,23,30,33,58,30,56,1,1,1,14,55,26,22,17,49,53,220,12,3,22,20,38,6,7,11,6,1,19,19,1,1,1,15,22,48,7,10,11,12,15,1,13,20,21,14,2,10,15,20,21,4,6,4,24,11,25,3,13,37,21,1,18,20,5,18,13,26,19,12,20,14,17,15,43,2,20,6,1,1,1,10,5,3,243,12,9,7,48,1,153,28,63,30,15,14,1,17,9,10,12,15,30,20,36,1,1,1,55,10,1,31,7,18,32,13,17,14,8,1,1,18,1,22,1,1,22,9,1,1,1,5,20,16,3,1,1,1,1,1,1,1,1,1,1,1,1,16,1,1,1,1,6,14,1,1,12,44,26,46,3,2,31,26,64,24,1,1,10,28,21,32,39,26,1,3,10,53,26,8,8,1,4,15,35,1,9,1,1,9,1,18,1,173,24,8,17,14,7,16,6,17,9,13,18,12,15,72,81,22,13,15,19,20,13,26,29,24,195,17,32,30,15,25,16,53,8,63,56,1,11,2,2,6,20,32,76,26,2,1,61,7,16,42,14,29,2,22,31,29,2,19,13,1,12,27,19,24,39,10,3,29,20,21,9,4,10,37,12,4,25,3,39,31,11,68,70,16,8,3,25,15,6,10,189,13,20,4,7,80,23,3,14,7,16,12,1,40,1,1,1,6,1,9,4,23,10,7,14,1,9,24,75,1,24,52,50,29,34,3,13,13,20,52,44,37,13,26,54,17,9,102,1,3,11,1,16,16,15,4,6,17,71,10,2,1,13,21,1,9,295,184,9,25,13,1,12,17,22,9,8,25,38,65,10,32,25,3,1,1,55,78,9,31,7,33,19,1,1,19,16,8,29,9,7,15,92,18,2,10,3,88,49,12,25,47,70,138,1,4,5,17,47,27,4,2,1,196,1,1,24,9,48,2,41,1,1,1,1,1,1,1,1,1,1,33,31,1,6,18,13,26,6,1,1,18,6,4,3,2,11,2,4,4,6,1,12,12,61,14,29,4,16,3,26,4,8,24,3,1,56,15,26,9,5,1,30,15,1,1,1,1,10,10,23,1,1,2,12,15,5,1,11,1,68,2,20,69,8,18,34,3,28,20,4,1,3,7,1,2,1,237,4,7,18,9,30,24,21,14,5,19,37,8,11,10,2,7,76,8,7,15,1,4,4,33,1,1,1,1,12,19,12,28,7,29,7,13,16,2,43,22,33,21,1,48,21,5,3,98,5,17,3,36,81,10,10,16,1,1,3,8,58,23,63,11,3,22,13,17,15,1,2,2,1,5,9,7,7,22,8,23,52,13,13,7,43,58,12,45,1,10,28,29,35,7,51,18,15,25,39,12,8,6,14,24,2,10,21,25,4,7,29,14,8,32,17,11,6,8,41,7,8,29,20,7,84,20,3,11,25,18,12,14,49,4,1,57,2,191,7,20,4,59,5,28,2,1,2,18,34,1,1,24,1,38,19,11,16,15,1,17,1,1,1,20,29,1,1,1,23,83,1,83,95,32,5,20,62,28,13,16,1,27,52,20,2,82,6,1,9,20,2,1,20,45,50,10,34,17,2,9,151,1,203,15,2,1,2,5,1,17,1,16,4,5,39,3,9,30,5,16,8,24,69,13,8,1,29,1,41,1,1,23,1,1,3,9,15,44,3,1,18,9,1,10,24,14,8,2,30,11,90,26,5,27,43,12,29,31,10,14,10,10,22,73,41,62,26,32,43,183,122,3,6,1,20,6,38,8,13,14,16,28,2,14,9,4,9,19,11,25,66,41,17,14,14,18,12,1,12,1,10,1,13,59,28,7,17,29,21,38,16,3,1,1,9,16,25,11,5,2,40,1,1,5,1,20,3,1,11,17,66,4,20,21,10,30,8,10,2,10,47,44,1,29,22,13,11,22,1,43,1,5,15,16,1,21,21,43,20,5,8,81,7,7,13,12,3,21,13,19,1,20,8,103,1,12,16,26,75,2,47,28,40,63,11,12,20,19,24,22,16,7,1,178,192,19,1,7,9,24,16,10,14,6,67,14,68,49,20,16,35,10,34,19,10,3,15,13,4,3,9,15,7,15,18,35,1,13,27,8,9,1,1,1,18,11,4,9,18,16,27,5,31,30,1,41,16,3,2,10,39,26,6,48,6,2,133,37,122,4,1,27,7,24,21,15]},\"selected\":{\"id\":\"1350\",\"type\":\"Selection\"},\"selection_policy\":{\"id\":\"1351\",\"type\":\"UnionRenderers\"}},\"id\":\"1322\",\"type\":\"ColumnDataSource\"},{\"attributes\":{},\"id\":\"1302\",\"type\":\"BasicTicker\"},{\"attributes\":{\"callback\":null,\"tooltips\":\"Invoice: @InvoiceNo\"},\"id\":\"1311\",\"type\":\"HoverTool\"},{\"attributes\":{\"text\":\"Price x Quantity\"},\"id\":\"1291\",\"type\":\"Title\"},{\"attributes\":{\"dimension\":1,\"ticker\":{\"id\":\"1307\",\"type\":\"BasicTicker\"}},\"id\":\"1310\",\"type\":\"Grid\"},{\"attributes\":{\"callback\":null},\"id\":\"1293\",\"type\":\"DataRange1d\"},{\"attributes\":{\"source\":{\"id\":\"1322\",\"type\":\"ColumnDataSource\"}},\"id\":\"1327\",\"type\":\"CDSView\"},{\"attributes\":{},\"id\":\"1347\",\"type\":\"BasicTickFormatter\"},{\"attributes\":{},\"id\":\"1312\",\"type\":\"WheelZoomTool\"},{\"attributes\":{\"data_source\":{\"id\":\"1322\",\"type\":\"ColumnDataSource\"},\"glyph\":{\"id\":\"1324\",\"type\":\"Circle\"},\"hover_glyph\":null,\"muted_glyph\":null,\"nonselection_glyph\":{\"id\":\"1325\",\"type\":\"Circle\"},\"selection_glyph\":null,\"view\":{\"id\":\"1327\",\"type\":\"CDSView\"}},\"id\":\"1326\",\"type\":\"GlyphRenderer\"},{\"attributes\":{},\"id\":\"1349\",\"type\":\"BasicTickFormatter\"},{\"attributes\":{\"ticker\":{\"id\":\"1302\",\"type\":\"BasicTicker\"}},\"id\":\"1305\",\"type\":\"Grid\"},{\"attributes\":{},\"id\":\"1351\",\"type\":\"UnionRenderers\"},{\"attributes\":{},\"id\":\"1314\",\"type\":\"SaveTool\"},{\"attributes\":{},\"id\":\"1307\",\"type\":\"BasicTicker\"},{\"attributes\":{},\"id\":\"1299\",\"type\":\"LinearScale\"},{\"attributes\":{\"fill_alpha\":{\"value\":0.1},\"fill_color\":{\"value\":\"#1f77b4\"},\"line_alpha\":{\"value\":0.1},\"line_color\":{\"value\":\"#1f77b4\"},\"x\":{\"field\":\"StockCode\"},\"y\":{\"field\":\"Revenue\"}},\"id\":\"1325\",\"type\":\"Circle\"},{\"attributes\":{\"axis_label\":\"Total Invoice\",\"formatter\":{\"id\":\"1349\",\"type\":\"BasicTickFormatter\"},\"ticker\":{\"id\":\"1307\",\"type\":\"BasicTicker\"}},\"id\":\"1306\",\"type\":\"LinearAxis\"},{\"attributes\":{\"axis_label\":\"Number of Item\",\"formatter\":{\"id\":\"1347\",\"type\":\"BasicTickFormatter\"},\"ticker\":{\"id\":\"1302\",\"type\":\"BasicTicker\"}},\"id\":\"1301\",\"type\":\"LinearAxis\"},{\"attributes\":{},\"id\":\"1297\",\"type\":\"LinearScale\"},{\"attributes\":{\"fill_color\":{\"value\":\"#1f77b4\"},\"line_color\":{\"value\":\"#1f77b4\"},\"x\":{\"field\":\"StockCode\"},\"y\":{\"field\":\"Revenue\"}},\"id\":\"1324\",\"type\":\"Circle\"},{\"attributes\":{},\"id\":\"1350\",\"type\":\"Selection\"}],\"root_ids\":[\"1290\"]},\"title\":\"Bokeh Application\",\"version\":\"1.2.0\"}};\n",
       "  var render_items = [{\"docid\":\"02e0149d-4f02-4cc9-b1dd-e7f55e2a8cbb\",\"roots\":{\"1290\":\"791bcd6a-8767-464c-9029-fa244e7931bd\"}}];\n",
       "  root.Bokeh.embed.embed_items_notebook(docs_json, render_items);\n",
       "\n",
       "  }\n",
       "  if (root.Bokeh !== undefined) {\n",
       "    embed_document(root);\n",
       "  } else {\n",
       "    var attempts = 0;\n",
       "    var timer = setInterval(function(root) {\n",
       "      if (root.Bokeh !== undefined) {\n",
       "        embed_document(root);\n",
       "        clearInterval(timer);\n",
       "      }\n",
       "      attempts++;\n",
       "      if (attempts > 100) {\n",
       "        console.log(\"Bokeh: ERROR: Unable to run BokehJS code because BokehJS library is missing\");\n",
       "        clearInterval(timer);\n",
       "      }\n",
       "    }, 10, root)\n",
       "  }\n",
       "})(window);"
      ],
      "application/vnd.bokehjs_exec.v0+json": ""
     },
     "metadata": {
      "application/vnd.bokehjs_exec.v0+json": {
       "id": "1290"
      }
     },
     "output_type": "display_data"
    }
   ],
   "source": [
    "p = figure(title = 'Price x Quantity',\n",
    "          x_axis_label = \"Number of Item\",\n",
    "          y_axis_label = \"Total Invoice\",\n",
    "          tools = [\"hover\", \"wheel_zoom\", \"pan\", \"save\", \"reset\"],\n",
    "          tooltips = 'Invoice: @InvoiceNo')\n",
    "p.circle('StockCode', 'Revenue', source = invoice_grouped)\n",
    "show(p)"
   ]
  },
  {
   "cell_type": "markdown",
   "metadata": {},
   "source": [
    "The key, as it is with data visualization in general, is to have our plot be effective. A plot that is effective complements how human visual perception works. The plot above is ineffective because it could be communicating more with less \"visual clutter\" at the bottom left.\n",
    "\n",
    "To deal with that, we need to create a smaller sample or funelled our analysis to a certain set, this time we'll try to focus on a certain Country transaction:"
   ]
  },
  {
   "cell_type": "code",
   "execution_count": 43,
   "metadata": {},
   "outputs": [
    {
     "data": {
      "text/plain": [
       "United Kingdom          216510\n",
       "Germany                   3958\n",
       "France                    3579\n",
       "EIRE                      2920\n",
       "Netherlands               1139\n",
       "Spain                     1131\n",
       "Belgium                    914\n",
       "Switzerland                697\n",
       "Australia                  630\n",
       "Portugal                   610\n",
       "Norway                     368\n",
       "Channel Islands            363\n",
       "Cyprus                     350\n",
       "Finland                    307\n",
       "Italy                      299\n",
       "Japan                      230\n",
       "Hong Kong                  199\n",
       "Sweden                     195\n",
       "Denmark                    184\n",
       "Poland                     180\n",
       "Austria                    124\n",
       "Singapore                  113\n",
       "Iceland                    102\n",
       "Greece                      85\n",
       "Unspecified                 83\n",
       "Canada                      68\n",
       "Malta                       45\n",
       "Lebanon                     45\n",
       "Israel                      36\n",
       "Lithuania                   35\n",
       "Brazil                      32\n",
       "European Community          31\n",
       "United Arab Emirates        30\n",
       "USA                         22\n",
       "Bahrain                     18\n",
       "Czech Republic              15\n",
       "Saudi Arabia                 9\n",
       "Unit                         1\n",
       "Name: Country, dtype: int64"
      ]
     },
     "execution_count": 43,
     "metadata": {},
     "output_type": "execute_result"
    }
   ],
   "source": [
    "retail_clean.Country.value_counts()"
   ]
  },
  {
   "cell_type": "markdown",
   "metadata": {},
   "source": [
    "See how most of our transaction came from United Kingdom, we can safely assumed that our main market is in United Kingdom, since it's where the retailer are based off. So we can do it with 2 approach:  \n",
    "1. We can do a random sampling of the main market (United Kingdom)\n",
    "2. We define the secondary market and plot accordingly"
   ]
  },
  {
   "cell_type": "code",
   "execution_count": 64,
   "metadata": {},
   "outputs": [
    {
     "data": {
      "text/plain": [
       "(12727, 9)"
      ]
     },
     "execution_count": 64,
     "metadata": {},
     "output_type": "execute_result"
    }
   ],
   "source": [
    "second_market = ['Germany', 'France', 'EIRE', 'Netherlands', 'Spain']\n",
    "retail_second = retail_clean[retail_clean.Country.isin(second_market)]\n",
    "retail_second.shape"
   ]
  },
  {
   "cell_type": "code",
   "execution_count": 145,
   "metadata": {},
   "outputs": [
    {
     "data": {
      "text/plain": [
       "['#1b9e77', '#d95f02', '#7570b3', '#e7298a', '#66a61e']"
      ]
     },
     "execution_count": 145,
     "metadata": {},
     "output_type": "execute_result"
    }
   ],
   "source": [
    "from bokeh.palettes import Greens5\n",
    "\n",
    "r = retail_second.groupby('InvoiceNo').agg({\n",
    "    'StockCode': lambda x: x.unique().size,\n",
    "    'Revenue': 'sum',\n",
    "    'Country': 'first',\n",
    "    'CustomerID': 'first'\n",
    "})\n",
    "\n",
    "r.head()\n",
    "Greens5\n",
    "Dark2[5]"
   ]
  },
  {
   "cell_type": "code",
   "execution_count": 146,
   "metadata": {
    "scrolled": true
   },
   "outputs": [
    {
     "data": {
      "text/html": [
       "\n",
       "\n",
       "\n",
       "\n",
       "\n",
       "\n",
       "  <div class=\"bk-root\" id=\"b9613af8-71cc-435b-a348-4c017485da76\" data-root-id=\"6799\"></div>\n"
      ]
     },
     "metadata": {},
     "output_type": "display_data"
    },
    {
     "data": {
      "application/javascript": [
       "(function(root) {\n",
       "  function embed_document(root) {\n",
       "    \n",
       "  var docs_json = {\"20a3c4ee-eb04-4c01-9f76-5d01b783d701\":{\"roots\":{\"references\":[{\"attributes\":{\"below\":[{\"id\":\"6810\",\"type\":\"LinearAxis\"}],\"center\":[{\"id\":\"6814\",\"type\":\"Grid\"},{\"id\":\"6819\",\"type\":\"Grid\"},{\"id\":\"6846\",\"type\":\"Legend\"}],\"left\":[{\"id\":\"6815\",\"type\":\"LinearAxis\"}],\"renderers\":[{\"id\":\"6838\",\"type\":\"GlyphRenderer\"}],\"title\":{\"id\":\"6800\",\"type\":\"Title\"},\"toolbar\":{\"id\":\"6826\",\"type\":\"Toolbar\"},\"x_range\":{\"id\":\"6802\",\"type\":\"DataRange1d\"},\"x_scale\":{\"id\":\"6806\",\"type\":\"LinearScale\"},\"y_range\":{\"id\":\"6804\",\"type\":\"DataRange1d\"},\"y_scale\":{\"id\":\"6808\",\"type\":\"LinearScale\"}},\"id\":\"6799\",\"subtype\":\"Figure\",\"type\":\"Plot\"},{\"attributes\":{\"callback\":null,\"data\":{\"Country\":[\"France\",\"Netherlands\",\"Germany\",\"EIRE\",\"EIRE\",\"EIRE\",\"Germany\",\"France\",\"Germany\",\"EIRE\",\"EIRE\",\"Spain\",\"Germany\",\"France\",\"EIRE\",\"Germany\",\"France\",\"Germany\",\"Germany\",\"Germany\",\"Germany\",\"Germany\",\"EIRE\",\"EIRE\",\"EIRE\",\"France\",\"France\",\"Germany\",\"Germany\",\"France\",\"Germany\",\"Germany\",\"France\",\"France\",\"Germany\",\"France\",\"EIRE\",\"France\",\"Spain\",\"Germany\",\"Germany\",\"France\",\"EIRE\",\"Spain\",\"Germany\",\"France\",\"France\",\"EIRE\",\"Germany\",\"EIRE\",\"Spain\",\"Germany\",\"Germany\",\"Germany\",\"Germany\",\"Germany\",\"France\",\"Germany\",\"EIRE\",\"France\",\"Germany\",\"Germany\",\"EIRE\",\"Netherlands\",\"France\",\"France\",\"Germany\",\"France\",\"EIRE\",\"France\",\"Netherlands\",\"France\",\"Germany\",\"Germany\",\"EIRE\",\"France\",\"France\",\"France\",\"France\",\"Germany\",\"Germany\",\"France\",\"Germany\",\"France\",\"Spain\",\"Germany\",\"France\",\"EIRE\",\"Spain\",\"Germany\",\"Germany\",\"France\",\"France\",\"Germany\",\"Spain\",\"France\",\"Spain\",\"France\",\"France\",\"France\",\"Germany\",\"France\",\"France\",\"Germany\",\"France\",\"France\",\"Germany\",\"Germany\",\"France\",\"Netherlands\",\"EIRE\",\"Germany\",\"Germany\",\"Germany\",\"France\",\"EIRE\",\"Germany\",\"Spain\",\"Germany\",\"France\",\"Netherlands\",\"Spain\",\"Netherlands\",\"France\",\"EIRE\",\"Netherlands\",\"France\",\"Germany\",\"Germany\",\"Germany\",\"EIRE\",\"Spain\",\"France\",\"Germany\",\"Germany\",\"Germany\",\"France\",\"Germany\",\"EIRE\",\"Germany\",\"EIRE\",\"Spain\",\"Germany\",\"Germany\",\"Germany\",\"France\",\"France\",\"France\",\"Germany\",\"Germany\",\"France\",\"Germany\",\"Germany\",\"Netherlands\",\"France\",\"EIRE\",\"Germany\",\"Netherlands\",\"France\",\"Spain\",\"France\",\"Germany\",\"EIRE\",\"France\",\"Germany\",\"Spain\",\"Germany\",\"EIRE\",\"Germany\",\"EIRE\",\"France\",\"Netherlands\",\"France\",\"France\",\"Germany\",\"Spain\",\"Germany\",\"Germany\",\"France\",\"Germany\",\"Spain\",\"EIRE\",\"Germany\",\"EIRE\",\"Germany\",\"France\",\"EIRE\",\"EIRE\",\"France\",\"France\",\"EIRE\",\"Germany\",\"Germany\",\"Germany\",\"France\",\"EIRE\",\"France\",\"EIRE\",\"EIRE\",\"France\",\"Netherlands\",\"Netherlands\",\"Germany\",\"Germany\",\"France\",\"Netherlands\",\"EIRE\",\"Germany\",\"France\",\"France\",\"Germany\",\"Germany\",\"France\",\"France\",\"France\",\"France\",\"France\",\"France\",\"Germany\",\"France\",\"EIRE\",\"France\",\"France\",\"Germany\",\"Germany\",\"France\",\"Spain\",\"EIRE\",\"Spain\",\"EIRE\",\"Germany\",\"Germany\",\"Germany\",\"Germany\",\"Germany\",\"Germany\",\"Netherlands\",\"EIRE\",\"EIRE\",\"EIRE\",\"EIRE\",\"EIRE\",\"EIRE\",\"Germany\",\"France\",\"France\",\"Netherlands\",\"France\",\"EIRE\",\"EIRE\",\"EIRE\",\"EIRE\",\"EIRE\",\"EIRE\",\"France\",\"Spain\",\"Germany\",\"Spain\",\"France\",\"France\",\"Germany\",\"Germany\",\"EIRE\",\"EIRE\",\"Germany\",\"Germany\",\"Germany\",\"Germany\",\"Germany\",\"EIRE\",\"Germany\",\"Germany\",\"France\",\"France\",\"France\",\"France\",\"Netherlands\",\"Germany\",\"Germany\",\"Germany\",\"Spain\",\"France\",\"France\",\"France\",\"France\",\"EIRE\",\"Spain\",\"Germany\",\"France\",\"EIRE\",\"Spain\",\"Netherlands\",\"Germany\",\"Germany\",\"Netherlands\",\"France\",\"EIRE\",\"France\",\"Germany\",\"Germany\",\"Germany\",\"Spain\",\"EIRE\",\"Netherlands\",\"Netherlands\",\"Netherlands\",\"Germany\",\"France\",\"France\",\"Germany\",\"EIRE\",\"Germany\",\"France\",\"France\",\"France\",\"Germany\",\"EIRE\",\"EIRE\",\"France\",\"France\",\"Germany\",\"Germany\",\"EIRE\",\"France\",\"Netherlands\",\"Netherlands\",\"EIRE\",\"Germany\",\"EIRE\",\"EIRE\",\"France\",\"Germany\",\"Germany\",\"Germany\",\"EIRE\",\"Germany\",\"Spain\",\"EIRE\",\"Germany\",\"Germany\",\"Germany\",\"France\",\"Germany\",\"Germany\",\"Germany\",\"EIRE\",\"France\",\"France\",\"Germany\",\"Germany\",\"EIRE\",\"Germany\",\"Germany\",\"France\",\"Germany\",\"France\",\"France\",\"Spain\",\"Germany\",\"Germany\",\"France\",\"EIRE\",\"Germany\",\"Netherlands\",\"France\",\"Spain\",\"Germany\",\"Germany\",\"France\",\"France\",\"France\",\"France\",\"France\",\"France\",\"EIRE\",\"EIRE\",\"Germany\",\"Germany\",\"Germany\",\"Germany\",\"Spain\",\"Germany\",\"France\",\"EIRE\",\"Germany\",\"EIRE\",\"Spain\",\"Germany\",\"EIRE\",\"France\",\"France\",\"Germany\",\"France\",\"EIRE\",\"EIRE\",\"EIRE\",\"France\",\"Germany\",\"Germany\",\"France\",\"Germany\",\"Netherlands\",\"Netherlands\",\"France\",\"Germany\",\"Germany\",\"Germany\",\"Germany\",\"Netherlands\",\"Netherlands\",\"Netherlands\",\"France\",\"Germany\",\"Germany\",\"Germany\",\"Germany\",\"France\",\"France\",\"France\",\"France\",\"EIRE\",\"EIRE\",\"France\",\"EIRE\",\"France\",\"EIRE\",\"France\",\"EIRE\",\"France\",\"EIRE\",\"Germany\",\"France\",\"France\",\"France\",\"Netherlands\",\"EIRE\",\"Germany\",\"Germany\",\"Germany\",\"France\",\"Germany\",\"France\",\"Germany\",\"Germany\",\"EIRE\",\"EIRE\",\"EIRE\",\"France\",\"Netherlands\",\"France\",\"Germany\",\"Germany\",\"France\",\"France\",\"Germany\",\"EIRE\",\"Germany\",\"Germany\",\"Germany\",\"France\",\"Germany\",\"France\",\"Netherlands\",\"France\",\"France\",\"Germany\",\"Germany\",\"Germany\",\"Germany\",\"EIRE\",\"EIRE\",\"EIRE\",\"Spain\",\"Germany\",\"France\",\"Netherlands\",\"France\",\"Germany\",\"France\",\"Germany\",\"Netherlands\",\"Germany\",\"Spain\",\"France\",\"Netherlands\",\"Netherlands\",\"Germany\",\"Netherlands\",\"Germany\",\"Germany\",\"Netherlands\",\"Germany\",\"Spain\",\"Germany\",\"France\",\"France\",\"Germany\",\"France\",\"Netherlands\",\"France\",\"EIRE\",\"Germany\",\"Spain\",\"EIRE\",\"France\",\"France\",\"France\",\"France\",\"EIRE\",\"EIRE\",\"Germany\",\"Germany\",\"EIRE\",\"EIRE\",\"Netherlands\",\"Spain\",\"France\",\"France\",\"France\",\"Germany\",\"France\",\"Germany\",\"France\",\"Germany\",\"EIRE\",\"Germany\",\"France\",\"France\",\"Germany\",\"France\",\"France\",\"France\",\"France\",\"France\",\"EIRE\",\"EIRE\",\"EIRE\",\"Spain\",\"Germany\",\"Germany\",\"France\",\"EIRE\",\"France\",\"Netherlands\",\"France\",\"Spain\",\"Spain\",\"Spain\",\"EIRE\",\"Netherlands\",\"EIRE\",\"Germany\",\"France\",\"France\",\"Netherlands\",\"Germany\",\"EIRE\",\"France\",\"France\",\"France\",\"EIRE\",\"EIRE\",\"Germany\",\"EIRE\",\"EIRE\",\"Germany\",\"France\",\"EIRE\",\"EIRE\",\"EIRE\",\"EIRE\"],\"CustomerID\":{\"__ndarray__\":\"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\",\"dtype\":\"float64\",\"shape\":[571]},\"InvoiceNo\":[\"536370\",\"536403\",\"536527\",\"536540\",\"536541\",\"536803\",\"536840\",\"536852\",\"536861\",\"536885\",\"536890\",\"536944\",\"536967\",\"536974\",\"536975\",\"536983\",\"537065\",\"537197\",\"537198\",\"537201\",\"537212\",\"537250\",\"537368\",\"537378\",\"537386\",\"537463\",\"537468\",\"537594\",\"537673\",\"537693\",\"537892\",\"537894\",\"537897\",\"537967\",\"537995\",\"538008\",\"538009\",\"538093\",\"538095\",\"538174\",\"538175\",\"538196\",\"538255\",\"538525\",\"538644\",\"539050\",\"539113\",\"539320\",\"539327\",\"539337\",\"539351\",\"539395\",\"539398\",\"539401\",\"539403\",\"539405\",\"539407\",\"539408\",\"539421\",\"539435\",\"539446\",\"539466\",\"539473\",\"539491\",\"539551\",\"539607\",\"539636\",\"539688\",\"539722\",\"539727\",\"539731\",\"539829\",\"539946\",\"539957\",\"539984\",\"540178\",\"540239\",\"540351\",\"540365\",\"540410\",\"540414\",\"540455\",\"540458\",\"540463\",\"540469\",\"540480\",\"540521\",\"540547\",\"540550\",\"540553\",\"540562\",\"540642\",\"540688\",\"540769\",\"540785\",\"540789\",\"540801\",\"540824\",\"540835\",\"540851\",\"540900\",\"540972\",\"540976\",\"541093\",\"541120\",\"541121\",\"541122\",\"541125\",\"541138\",\"541206\",\"541220\",\"541224\",\"541269\",\"541277\",\"541405\",\"541434\",\"541480\",\"541491\",\"541517\",\"541567\",\"541570\",\"541576\",\"541608\",\"541631\",\"541670\",\"541711\",\"541857\",\"541877\",\"541962\",\"541965\",\"541979\",\"541980\",\"541981\",\"542080\",\"542106\",\"542128\",\"542132\",\"542215\",\"542216\",\"542229\",\"542278\",\"542303\",\"542369\",\"542371\",\"542375\",\"542425\",\"542433\",\"542535\",\"542621\",\"542626\",\"542629\",\"542648\",\"542713\",\"542720\",\"542735\",\"542777\",\"542782\",\"542894\",\"542904\",\"542905\",\"542922\",\"542926\",\"543018\",\"543030\",\"543048\",\"543055\",\"543056\",\"543114\",\"543121\",\"543178\",\"543188\",\"543387\",\"543459\",\"543484\",\"543492\",\"543541\",\"543550\",\"543587\",\"543625\",\"543737\",\"543822\",\"543828\",\"543833\",\"543899\",\"543900\",\"544069\",\"544074\",\"544075\",\"544115\",\"544200\",\"544210\",\"544281\",\"544302\",\"544340\",\"544355\",\"544390\",\"544423\",\"544468\",\"544469\",\"544470\",\"544479\",\"544480\",\"544483\",\"544573\",\"544585\",\"544672\",\"544690\",\"544811\",\"544817\",\"544818\",\"544933\",\"544996\",\"545051\",\"545086\",\"545105\",\"545180\",\"545181\",\"545235\",\"545295\",\"545301\",\"545320\",\"545515\",\"545517\",\"545533\",\"545557\",\"545583\",\"545585\",\"545634\",\"545647\",\"545657\",\"545706\",\"545709\",\"545718\",\"545916\",\"545988\",\"545994\",\"546027\",\"546172\",\"546212\",\"546213\",\"546263\",\"546328\",\"546329\",\"546365\",\"546373\",\"546428\",\"546433\",\"546479\",\"546509\",\"546520\",\"546541\",\"546569\",\"546580\",\"546660\",\"546678\",\"546755\",\"546759\",\"546760\",\"546765\",\"546770\",\"546843\",\"546851\",\"546861\",\"546917\",\"546919\",\"546920\",\"546921\",\"546925\",\"547005\",\"547048\",\"547071\",\"547085\",\"547087\",\"547194\",\"547196\",\"547327\",\"547365\",\"547379\",\"547383\",\"547384\",\"547387\",\"547492\",\"547504\",\"547508\",\"547520\",\"547702\",\"547703\",\"547715\",\"547722\",\"547789\",\"547790\",\"547796\",\"547821\",\"547822\",\"547825\",\"547863\",\"547882\",\"547892\",\"547925\",\"547926\",\"547934\",\"547972\",\"547993\",\"548010\",\"548011\",\"548211\",\"548320\",\"548409\",\"548410\",\"548412\",\"548449\",\"548489\",\"548496\",\"548553\",\"548606\",\"548654\",\"548664\",\"548718\",\"548725\",\"548737\",\"548745\",\"548746\",\"548858\",\"548913\",\"548969\",\"548970\",\"549118\",\"549193\",\"549196\",\"549242\",\"549274\",\"549316\",\"549434\",\"549614\",\"549667\",\"549680\",\"549682\",\"549721\",\"550002\",\"550004\",\"550137\",\"550145\",\"550162\",\"550178\",\"550187\",\"550302\",\"550313\",\"550338\",\"550354\",\"550527\",\"550618\",\"550620\",\"550625\",\"550661\",\"550665\",\"550821\",\"550827\",\"550911\",\"550946\",\"550960\",\"551163\",\"551187\",\"551258\",\"551345\",\"551389\",\"551398\",\"551467\",\"551529\",\"551539\",\"551544\",\"551545\",\"551552\",\"551649\",\"551652\",\"551656\",\"551657\",\"551728\",\"551729\",\"551818\",\"551820\",\"551868\",\"551886\",\"551887\",\"551950\",\"552008\",\"552038\",\"552040\",\"552211\",\"552262\",\"552315\",\"552325\",\"552337\",\"552464\",\"552539\",\"552540\",\"552541\",\"552631\",\"552649\",\"552656\",\"552826\",\"552844\",\"552845\",\"552846\",\"552851\",\"552871\",\"552874\",\"552875\",\"552878\",\"552882\",\"552883\",\"552885\",\"552946\",\"552978\",\"552980\",\"553037\",\"553038\",\"553044\",\"553143\",\"553161\",\"553195\",\"553203\",\"553206\",\"553208\",\"553210\",\"553316\",\"553348\",\"553357\",\"553375\",\"553411\",\"553535\",\"553547\",\"553566\",\"553577\",\"553666\",\"553682\",\"553686\",\"553731\",\"553732\",\"553741\",\"553838\",\"553842\",\"553843\",\"553884\",\"553885\",\"553897\",\"553901\",\"553931\",\"553997\",\"554038\",\"554097\",\"554104\",\"554106\",\"554109\",\"554134\",\"554137\",\"554139\",\"554263\",\"554324\",\"554325\",\"554356\",\"554363\",\"554555\",\"554642\",\"554648\",\"554650\",\"554699\",\"554700\",\"554711\",\"554713\",\"554770\",\"554776\",\"554791\",\"554792\",\"554794\",\"554826\",\"554827\",\"554840\",\"554861\",\"554940\",\"554985\",\"555003\",\"555093\",\"555095\",\"555096\",\"555106\",\"555160\",\"555162\",\"555164\",\"555282\",\"555383\",\"555407\",\"555417\",\"555470\",\"555523\",\"555531\",\"555547\",\"555553\",\"555569\",\"555589\",\"555637\",\"555650\",\"555719\",\"555726\",\"555858\",\"555933\",\"555936\",\"555937\",\"555941\",\"555947\",\"556060\",\"556114\",\"556118\",\"556126\",\"556206\",\"556235\",\"556241\",\"556258\",\"556259\",\"556305\",\"556443\",\"556463\",\"556469\",\"556507\",\"556509\",\"556510\",\"556517\",\"556526\",\"556529\",\"556578\",\"556816\",\"556819\",\"556820\",\"556886\",\"556924\",\"556927\",\"556928\",\"556953\",\"557007\",\"557055\",\"557056\",\"557069\",\"557136\",\"557247\",\"557263\",\"557295\",\"557297\",\"557303\",\"557314\",\"557318\",\"557328\",\"557377\",\"557466\",\"557483\",\"557489\",\"557525\",\"557569\",\"557605\",\"557627\",\"557669\",\"557734\",\"557742\",\"557759\",\"557850\",\"557872\",\"557880\",\"557972\",\"558045\",\"558046\",\"558047\",\"558067\",\"558069\"],\"Revenue\":{\"__ndarray__\":\"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\",\"dtype\":\"float64\",\"shape\":[571]},\"StockCode\":[20,2,15,20,1,1,11,7,10,11,3,5,2,16,71,9,63,17,2,70,30,14,15,20,1,41,20,17,7,11,10,14,13,3,11,41,32,33,40,46,1,16,51,20,2,67,1,18,5,29,10,27,1,7,11,18,6,15,39,5,30,24,18,16,15,47,12,1,29,4,54,4,9,65,15,34,40,22,24,13,24,22,149,15,98,42,9,13,93,5,16,50,4,9,4,2,31,13,11,7,11,7,48,7,43,10,19,2,38,79,41,11,53,23,21,10,10,29,3,31,33,23,2,72,21,106,12,20,9,53,15,11,9,53,10,16,1,42,52,22,21,93,16,12,6,11,19,21,31,19,46,21,50,9,18,45,11,12,19,12,19,1,1,10,8,31,16,40,19,13,63,14,14,27,13,40,6,16,13,52,13,76,8,36,30,11,109,23,48,16,14,5,11,5,53,10,1,43,4,33,76,43,12,22,8,44,15,14,17,4,34,13,5,13,26,12,7,17,14,42,6,28,2,23,5,16,17,19,6,56,9,18,20,13,19,18,27,30,27,3,3,1,1,60,20,18,8,21,31,41,30,45,24,27,29,31,11,30,8,8,26,35,25,44,3,18,2,5,48,11,11,3,15,38,4,31,12,29,45,1,44,10,35,8,21,16,34,17,23,43,34,13,5,49,9,8,39,69,28,10,17,5,27,15,89,16,7,33,4,3,9,5,35,9,3,10,67,14,1,27,27,1,15,1,9,6,65,24,22,11,24,63,6,21,49,21,15,12,2,9,57,31,9,24,6,25,27,4,1,51,21,22,7,18,14,23,22,58,12,11,26,5,34,9,8,23,8,33,20,21,1,1,4,5,37,31,8,1,8,20,41,7,11,22,3,20,15,9,49,62,17,33,10,26,10,2,30,9,16,71,17,7,2,23,12,42,6,33,15,92,1,12,67,1,13,5,24,6,23,10,18,32,17,32,7,35,1,39,45,46,38,16,10,2,5,60,36,7,25,33,20,19,5,6,16,30,23,14,13,35,53,44,10,20,19,52,1,4,21,13,15,11,1,21,30,22,6,8,3,26,1,1,2,15,12,50,13,38,21,30,8,4,47,18,21,13,34,13,42,125,15,4,13,26,18,32,31,19,25,18,45,27,23,13,17,17,30,17,57,8,6,6,22,26,5,48,20,36,3,9,14,13,61,16,42,29,12,24,68,13,12,17,19,17,27,4,33,61,11,1,28,33,22,52,7,14,6,11,14,59,1,83,2,20,39,24,3,12,20,14,19,28,16,19,1,9,31,30,1,37,4]},\"selected\":{\"id\":\"7059\",\"type\":\"Selection\"},\"selection_policy\":{\"id\":\"7060\",\"type\":\"UnionRenderers\"}},\"id\":\"6834\",\"type\":\"ColumnDataSource\"},{\"attributes\":{\"overlay\":{\"id\":\"6845\",\"type\":\"BoxAnnotation\"}},\"id\":\"6821\",\"type\":\"BoxZoomTool\"},{\"attributes\":{},\"id\":\"6822\",\"type\":\"WheelZoomTool\"},{\"attributes\":{},\"id\":\"6806\",\"type\":\"LinearScale\"},{\"attributes\":{},\"id\":\"6823\",\"type\":\"PanTool\"},{\"attributes\":{\"ticker\":{\"id\":\"6811\",\"type\":\"BasicTicker\"}},\"id\":\"6814\",\"type\":\"Grid\"},{\"attributes\":{},\"id\":\"6824\",\"type\":\"SaveTool\"},{\"attributes\":{},\"id\":\"6825\",\"type\":\"ResetTool\"},{\"attributes\":{\"callback\":null},\"id\":\"6802\",\"type\":\"DataRange1d\"},{\"attributes\":{\"active_drag\":\"auto\",\"active_inspect\":\"auto\",\"active_multi\":null,\"active_scroll\":\"auto\",\"active_tap\":\"auto\",\"tools\":[{\"id\":\"6820\",\"type\":\"HoverTool\"},{\"id\":\"6821\",\"type\":\"BoxZoomTool\"},{\"id\":\"6822\",\"type\":\"WheelZoomTool\"},{\"id\":\"6823\",\"type\":\"PanTool\"},{\"id\":\"6824\",\"type\":\"SaveTool\"},{\"id\":\"6825\",\"type\":\"ResetTool\"}]},\"id\":\"6826\",\"type\":\"Toolbar\"},{\"attributes\":{\"callback\":null,\"tooltips\":[[\"Invoice\",\"@InvoiceNo\"],[\"Country:\",\"@Country\"],[\"Customer\",\"@CustomerID\"]]},\"id\":\"6820\",\"type\":\"HoverTool\"},{\"attributes\":{\"data_source\":{\"id\":\"6834\",\"type\":\"ColumnDataSource\"},\"glyph\":{\"id\":\"6836\",\"type\":\"Circle\"},\"hover_glyph\":null,\"muted_glyph\":null,\"nonselection_glyph\":{\"id\":\"6837\",\"type\":\"Circle\"},\"selection_glyph\":null,\"view\":{\"id\":\"6839\",\"type\":\"CDSView\"}},\"id\":\"6838\",\"type\":\"GlyphRenderer\"},{\"attributes\":{},\"id\":\"6816\",\"type\":\"BasicTicker\"},{\"attributes\":{\"axis_label\":\"Total Invoice\",\"formatter\":{\"id\":\"6844\",\"type\":\"BasicTickFormatter\"},\"ticker\":{\"id\":\"6816\",\"type\":\"BasicTicker\"}},\"id\":\"6815\",\"type\":\"LinearAxis\"},{\"attributes\":{},\"id\":\"7060\",\"type\":\"UnionRenderers\"},{\"attributes\":{\"callback\":null},\"id\":\"6804\",\"type\":\"DataRange1d\"},{\"attributes\":{\"fill_alpha\":{\"value\":0.4},\"fill_color\":{\"field\":\"Country\",\"transform\":{\"id\":\"6833\",\"type\":\"CategoricalColorMapper\"}},\"line_color\":{\"field\":\"Country\",\"transform\":{\"id\":\"6833\",\"type\":\"CategoricalColorMapper\"}},\"size\":{\"units\":\"screen\",\"value\":6},\"x\":{\"field\":\"StockCode\"},\"y\":{\"field\":\"Revenue\"}},\"id\":\"6836\",\"type\":\"Circle\"},{\"attributes\":{\"fill_alpha\":{\"value\":0.1},\"fill_color\":{\"value\":\"#1f77b4\"},\"line_alpha\":{\"value\":0.1},\"line_color\":{\"value\":\"#1f77b4\"},\"size\":{\"units\":\"screen\",\"value\":6},\"x\":{\"field\":\"StockCode\"},\"y\":{\"field\":\"Revenue\"}},\"id\":\"6837\",\"type\":\"Circle\"},{\"attributes\":{\"source\":{\"id\":\"6834\",\"type\":\"ColumnDataSource\"}},\"id\":\"6839\",\"type\":\"CDSView\"},{\"attributes\":{\"text\":\"Price x Quantity\"},\"id\":\"6800\",\"type\":\"Title\"},{\"attributes\":{},\"id\":\"6842\",\"type\":\"BasicTickFormatter\"},{\"attributes\":{},\"id\":\"6808\",\"type\":\"LinearScale\"},{\"attributes\":{},\"id\":\"6844\",\"type\":\"BasicTickFormatter\"},{\"attributes\":{\"axis_label\":\"Number of Item\",\"formatter\":{\"id\":\"6842\",\"type\":\"BasicTickFormatter\"},\"ticker\":{\"id\":\"6811\",\"type\":\"BasicTicker\"}},\"id\":\"6810\",\"type\":\"LinearAxis\"},{\"attributes\":{\"bottom_units\":\"screen\",\"fill_alpha\":{\"value\":0.5},\"fill_color\":{\"value\":\"lightgrey\"},\"left_units\":\"screen\",\"level\":\"overlay\",\"line_alpha\":{\"value\":1.0},\"line_color\":{\"value\":\"black\"},\"line_dash\":[4,4],\"line_width\":{\"value\":2},\"render_mode\":\"css\",\"right_units\":\"screen\",\"top_units\":\"screen\"},\"id\":\"6845\",\"type\":\"BoxAnnotation\"},{\"attributes\":{\"dimension\":1,\"ticker\":{\"id\":\"6816\",\"type\":\"BasicTicker\"}},\"id\":\"6819\",\"type\":\"Grid\"},{\"attributes\":{\"items\":[{\"id\":\"6847\",\"type\":\"LegendItem\"}]},\"id\":\"6846\",\"type\":\"Legend\"},{\"attributes\":{\"factors\":[\"Germany\",\"France\",\"EIRE\",\"Netherlands\",\"Spain\"],\"palette\":[\"#1b9e77\",\"#d95f02\",\"#7570b3\",\"#e7298a\",\"#66a61e\"]},\"id\":\"6833\",\"type\":\"CategoricalColorMapper\"},{\"attributes\":{},\"id\":\"7059\",\"type\":\"Selection\"},{\"attributes\":{\"label\":{\"field\":\"Country\"},\"renderers\":[{\"id\":\"6838\",\"type\":\"GlyphRenderer\"}]},\"id\":\"6847\",\"type\":\"LegendItem\"},{\"attributes\":{},\"id\":\"6811\",\"type\":\"BasicTicker\"}],\"root_ids\":[\"6799\"]},\"title\":\"Bokeh Application\",\"version\":\"1.2.0\"}};\n",
       "  var render_items = [{\"docid\":\"20a3c4ee-eb04-4c01-9f76-5d01b783d701\",\"roots\":{\"6799\":\"b9613af8-71cc-435b-a348-4c017485da76\"}}];\n",
       "  root.Bokeh.embed.embed_items_notebook(docs_json, render_items);\n",
       "\n",
       "  }\n",
       "  if (root.Bokeh !== undefined) {\n",
       "    embed_document(root);\n",
       "  } else {\n",
       "    var attempts = 0;\n",
       "    var timer = setInterval(function(root) {\n",
       "      if (root.Bokeh !== undefined) {\n",
       "        embed_document(root);\n",
       "        clearInterval(timer);\n",
       "      }\n",
       "      attempts++;\n",
       "      if (attempts > 100) {\n",
       "        console.log(\"Bokeh: ERROR: Unable to run BokehJS code because BokehJS library is missing\");\n",
       "        clearInterval(timer);\n",
       "      }\n",
       "    }, 10, root)\n",
       "  }\n",
       "})(window);"
      ],
      "application/vnd.bokehjs_exec.v0+json": ""
     },
     "metadata": {
      "application/vnd.bokehjs_exec.v0+json": {
       "id": "6799"
      }
     },
     "output_type": "display_data"
    }
   ],
   "source": [
    "from bokeh.transform import factor_cmap\n",
    "from bokeh.palettes import Dark2\n",
    "\n",
    "p = figure(title = 'Price x Quantity',\n",
    "          x_axis_label = \"Number of Item\",\n",
    "          y_axis_label = \"Total Invoice\",\n",
    "          tools = [\"hover\", \"box_zoom\", \"wheel_zoom\", \"pan\", \"save\", \"reset\"],\n",
    "          tooltips = [('Invoice', '@InvoiceNo'), ('Country:', '@Country'), ('Customer', '@CustomerID')])\n",
    "p.circle('StockCode', 'Revenue', source = r,\n",
    "         size = 6, fill_alpha=0.4,\n",
    "         legend = 'Country',\n",
    "        color = factor_cmap('Country', Dark2[5], second_market))\n",
    "show(p)"
   ]
  },
  {
   "cell_type": "markdown",
   "metadata": {},
   "source": [
    "Notice how we could have a more insightful plot by limiting the sample space of our data. Majority of our customers, can be seen in the bottom left and produced a similar shape as our entire transactions, but we can easily identify that there are several countries such as Netherland that tends to do a transaction with relatively large total invoice. Since I also created a hover tools for the customer ID, you would know that the relatively high invoices was generated from the same customer, and we can identify this customer as our valueable customers since there are multiple repurchase happening."
   ]
  },
  {
   "cell_type": "markdown",
   "metadata": {},
   "source": [
    "## TODO: Might move\n",
    "\n",
    "In bokeh, you can map a color palette into designated colors by the following functions:\n",
    "- linear_cmap()\n",
    "- log_cmap()\n",
    "- factor_cmap()"
   ]
  },
  {
   "cell_type": "markdown",
   "metadata": {},
   "source": [
    "**Dive Deeper:**\n",
    "\n",
    "Can you create a visualization from a sample of our customers originated form United Kingdom? Take the last 3 months of transaction and identify this:\n",
    "\n",
    "- Does it follow a same pattern as the plots from our secondary market?\n",
    "- Is there any apparent valuable customers in the sample data?"
   ]
  },
  {
   "cell_type": "markdown",
   "metadata": {},
   "source": [
    "### Trend Analysis using Line Plot"
   ]
  },
  {
   "cell_type": "markdown",
   "metadata": {},
   "source": [
    "The second type of plots we'll talk about is line plot. This plot is heavily used for analyzing trend or data movement. The movement is commonly tied to a time line. Since we have identify customer `14646` from Netherland that seems to have a repeated repurchase, let's see how does his behaviour movement looks like:"
   ]
  },
  {
   "cell_type": "code",
   "execution_count": 157,
   "metadata": {},
   "outputs": [
    {
     "data": {
      "text/html": [
       "<div>\n",
       "<style scoped>\n",
       "    .dataframe tbody tr th:only-of-type {\n",
       "        vertical-align: middle;\n",
       "    }\n",
       "\n",
       "    .dataframe tbody tr th {\n",
       "        vertical-align: top;\n",
       "    }\n",
       "\n",
       "    .dataframe thead th {\n",
       "        text-align: right;\n",
       "    }\n",
       "</style>\n",
       "<table border=\"1\" class=\"dataframe\">\n",
       "  <thead>\n",
       "    <tr style=\"text-align: right;\">\n",
       "      <th></th>\n",
       "      <th>InvoiceNo</th>\n",
       "    </tr>\n",
       "    <tr>\n",
       "      <th>MonthlyDate</th>\n",
       "      <th></th>\n",
       "    </tr>\n",
       "  </thead>\n",
       "  <tbody>\n",
       "    <tr>\n",
       "      <th>2010-12</th>\n",
       "      <td>70</td>\n",
       "    </tr>\n",
       "    <tr>\n",
       "      <th>2011-01</th>\n",
       "      <td>220</td>\n",
       "    </tr>\n",
       "    <tr>\n",
       "      <th>2011-02</th>\n",
       "      <td>177</td>\n",
       "    </tr>\n",
       "    <tr>\n",
       "      <th>2011-03</th>\n",
       "      <td>133</td>\n",
       "    </tr>\n",
       "    <tr>\n",
       "      <th>2011-04</th>\n",
       "      <td>24</td>\n",
       "    </tr>\n",
       "    <tr>\n",
       "      <th>2011-05</th>\n",
       "      <td>173</td>\n",
       "    </tr>\n",
       "    <tr>\n",
       "      <th>2011-06</th>\n",
       "      <td>137</td>\n",
       "    </tr>\n",
       "  </tbody>\n",
       "</table>\n",
       "</div>"
      ],
      "text/plain": [
       "             InvoiceNo\n",
       "MonthlyDate           \n",
       "2010-12             70\n",
       "2011-01            220\n",
       "2011-02            177\n",
       "2011-03            133\n",
       "2011-04             24\n",
       "2011-05            173\n",
       "2011-06            137"
      ]
     },
     "execution_count": 157,
     "metadata": {},
     "output_type": "execute_result"
    }
   ],
   "source": [
    "retail_14646 = retail_clean[retail_clean.CustomerID == 14646]\n",
    "retail_14646 = retail_14646[['InvoiceNo', 'MonthlyDate']].groupby('MonthlyDate').count()\n",
    "retail_14646"
   ]
  },
  {
   "cell_type": "markdown",
   "metadata": {},
   "source": [
    "To plot this we will add a `line` glyph to our plot:"
   ]
  },
  {
   "cell_type": "code",
   "execution_count": 181,
   "metadata": {
    "scrolled": true
   },
   "outputs": [
    {
     "data": {
      "text/html": [
       "\n",
       "\n",
       "\n",
       "\n",
       "\n",
       "\n",
       "  <div class=\"bk-root\" id=\"d1763fc9-ea50-49b5-af16-d43f17e97e17\" data-root-id=\"13344\"></div>\n"
      ]
     },
     "metadata": {},
     "output_type": "display_data"
    },
    {
     "data": {
      "application/javascript": [
       "(function(root) {\n",
       "  function embed_document(root) {\n",
       "    \n",
       "  var docs_json = {\"8c9731ef-624d-4033-b922-584c9dbc4e80\":{\"roots\":{\"references\":[{\"attributes\":{\"below\":[{\"id\":\"13355\",\"type\":\"DatetimeAxis\"}],\"center\":[{\"id\":\"13359\",\"type\":\"Grid\"},{\"id\":\"13364\",\"type\":\"Grid\"}],\"left\":[{\"id\":\"13360\",\"type\":\"LinearAxis\"}],\"plot_height\":200,\"renderers\":[{\"id\":\"13382\",\"type\":\"GlyphRenderer\"}],\"title\":{\"id\":\"13345\",\"type\":\"Title\"},\"toolbar\":{\"id\":\"13371\",\"type\":\"Toolbar\"},\"x_range\":{\"id\":\"13347\",\"type\":\"DataRange1d\"},\"x_scale\":{\"id\":\"13351\",\"type\":\"LinearScale\"},\"y_range\":{\"id\":\"13349\",\"type\":\"DataRange1d\"},\"y_scale\":{\"id\":\"13353\",\"type\":\"LinearScale\"}},\"id\":\"13344\",\"subtype\":\"Figure\",\"type\":\"Plot\"},{\"attributes\":{},\"id\":\"13856\",\"type\":\"UnionRenderers\"},{\"attributes\":{},\"id\":\"13353\",\"type\":\"LinearScale\"},{\"attributes\":{\"axis_label\":\"Month\",\"formatter\":{\"id\":\"13840\",\"type\":\"DatetimeTickFormatter\"},\"ticker\":{\"id\":\"13356\",\"type\":\"DatetimeTicker\"}},\"id\":\"13355\",\"type\":\"DatetimeAxis\"},{\"attributes\":{\"dimension\":1,\"ticker\":{\"id\":\"13361\",\"type\":\"BasicTicker\"}},\"id\":\"13364\",\"type\":\"Grid\"},{\"attributes\":{},\"id\":\"13842\",\"type\":\"BasicTickFormatter\"},{\"attributes\":{},\"id\":\"13351\",\"type\":\"LinearScale\"},{\"attributes\":{\"data_source\":{\"id\":\"13378\",\"type\":\"ColumnDataSource\"},\"glyph\":{\"id\":\"13380\",\"type\":\"Line\"},\"hover_glyph\":null,\"muted_glyph\":null,\"nonselection_glyph\":{\"id\":\"13381\",\"type\":\"Line\"},\"selection_glyph\":null,\"view\":{\"id\":\"13383\",\"type\":\"CDSView\"}},\"id\":\"13382\",\"type\":\"GlyphRenderer\"},{\"attributes\":{\"num_minor_ticks\":5,\"tickers\":[{\"id\":\"13843\",\"type\":\"AdaptiveTicker\"},{\"id\":\"13844\",\"type\":\"AdaptiveTicker\"},{\"id\":\"13845\",\"type\":\"AdaptiveTicker\"},{\"id\":\"13846\",\"type\":\"DaysTicker\"},{\"id\":\"13847\",\"type\":\"DaysTicker\"},{\"id\":\"13848\",\"type\":\"DaysTicker\"},{\"id\":\"13849\",\"type\":\"DaysTicker\"},{\"id\":\"13850\",\"type\":\"MonthsTicker\"},{\"id\":\"13851\",\"type\":\"MonthsTicker\"},{\"id\":\"13852\",\"type\":\"MonthsTicker\"},{\"id\":\"13853\",\"type\":\"MonthsTicker\"},{\"id\":\"13854\",\"type\":\"YearsTicker\"}]},\"id\":\"13356\",\"type\":\"DatetimeTicker\"},{\"attributes\":{\"source\":{\"id\":\"13378\",\"type\":\"ColumnDataSource\"}},\"id\":\"13383\",\"type\":\"CDSView\"},{\"attributes\":{\"axis_label\":\"Number of Transaction\",\"formatter\":{\"id\":\"13842\",\"type\":\"BasicTickFormatter\"},\"ticker\":{\"id\":\"13361\",\"type\":\"BasicTicker\"}},\"id\":\"13360\",\"type\":\"LinearAxis\"},{\"attributes\":{\"grid_line_alpha\":0.5,\"grid_line_color\":null,\"ticker\":{\"id\":\"13356\",\"type\":\"DatetimeTicker\"}},\"id\":\"13359\",\"type\":\"Grid\"},{\"attributes\":{\"text\":\"Customer 14646 Monthly Number of Transaction\"},\"id\":\"13345\",\"type\":\"Title\"},{\"attributes\":{\"mantissas\":[1,2,5],\"max_interval\":500.0,\"num_minor_ticks\":0},\"id\":\"13843\",\"type\":\"AdaptiveTicker\"},{\"attributes\":{\"line_alpha\":0.1,\"line_color\":\"#1f77b4\",\"x\":{\"field\":\"MonthlyDate\"},\"y\":{\"field\":\"InvoiceNo\"}},\"id\":\"13381\",\"type\":\"Line\"},{\"attributes\":{},\"id\":\"13840\",\"type\":\"DatetimeTickFormatter\"},{\"attributes\":{\"callback\":null,\"tooltips\":[[\"Value\",\"@InvoiceNo\"]]},\"id\":\"13365\",\"type\":\"HoverTool\"},{\"attributes\":{\"months\":[0,1,2,3,4,5,6,7,8,9,10,11]},\"id\":\"13850\",\"type\":\"MonthsTicker\"},{\"attributes\":{\"days\":[1,8,15,22]},\"id\":\"13848\",\"type\":\"DaysTicker\"},{\"attributes\":{\"days\":[1,4,7,10,13,16,19,22,25,28]},\"id\":\"13847\",\"type\":\"DaysTicker\"},{\"attributes\":{},\"id\":\"13369\",\"type\":\"SaveTool\"},{\"attributes\":{\"days\":[1,2,3,4,5,6,7,8,9,10,11,12,13,14,15,16,17,18,19,20,21,22,23,24,25,26,27,28,29,30,31]},\"id\":\"13846\",\"type\":\"DaysTicker\"},{\"attributes\":{},\"id\":\"13361\",\"type\":\"BasicTicker\"},{\"attributes\":{\"base\":24,\"mantissas\":[1,2,4,6,8,12],\"max_interval\":43200000.0,\"min_interval\":3600000.0,\"num_minor_ticks\":0},\"id\":\"13845\",\"type\":\"AdaptiveTicker\"},{\"attributes\":{\"base\":60,\"mantissas\":[1,2,5,10,15,20,30],\"max_interval\":1800000.0,\"min_interval\":1000.0,\"num_minor_ticks\":0},\"id\":\"13844\",\"type\":\"AdaptiveTicker\"},{\"attributes\":{\"overlay\":{\"id\":\"13857\",\"type\":\"BoxAnnotation\"}},\"id\":\"13366\",\"type\":\"BoxZoomTool\"},{\"attributes\":{},\"id\":\"13368\",\"type\":\"PanTool\"},{\"attributes\":{\"days\":[1,15]},\"id\":\"13849\",\"type\":\"DaysTicker\"},{\"attributes\":{},\"id\":\"13367\",\"type\":\"WheelZoomTool\"},{\"attributes\":{},\"id\":\"13855\",\"type\":\"Selection\"},{\"attributes\":{\"callback\":null,\"data\":{\"InvoiceNo\":[70,220,177,133,24,173,137],\"MonthlyDate\":[1291161600000.0,1293840000000.0,1296518400000.0,1298937600000.0,1301616000000.0,1304208000000.0,1306886400000.0]},\"selected\":{\"id\":\"13855\",\"type\":\"Selection\"},\"selection_policy\":{\"id\":\"13856\",\"type\":\"UnionRenderers\"}},\"id\":\"13378\",\"type\":\"ColumnDataSource\"},{\"attributes\":{\"months\":[0,2,4,6,8,10]},\"id\":\"13851\",\"type\":\"MonthsTicker\"},{\"attributes\":{\"active_drag\":\"auto\",\"active_inspect\":\"auto\",\"active_multi\":null,\"active_scroll\":\"auto\",\"active_tap\":\"auto\",\"tools\":[{\"id\":\"13365\",\"type\":\"HoverTool\"},{\"id\":\"13366\",\"type\":\"BoxZoomTool\"},{\"id\":\"13367\",\"type\":\"WheelZoomTool\"},{\"id\":\"13368\",\"type\":\"PanTool\"},{\"id\":\"13369\",\"type\":\"SaveTool\"},{\"id\":\"13370\",\"type\":\"ResetTool\"}]},\"id\":\"13371\",\"type\":\"Toolbar\"},{\"attributes\":{\"callback\":null},\"id\":\"13347\",\"type\":\"DataRange1d\"},{\"attributes\":{\"months\":[0,6]},\"id\":\"13853\",\"type\":\"MonthsTicker\"},{\"attributes\":{},\"id\":\"13370\",\"type\":\"ResetTool\"},{\"attributes\":{\"callback\":null},\"id\":\"13349\",\"type\":\"DataRange1d\"},{\"attributes\":{\"months\":[0,4,8]},\"id\":\"13852\",\"type\":\"MonthsTicker\"},{\"attributes\":{\"line_color\":\"#42b549\",\"x\":{\"field\":\"MonthlyDate\"},\"y\":{\"field\":\"InvoiceNo\"}},\"id\":\"13380\",\"type\":\"Line\"},{\"attributes\":{},\"id\":\"13854\",\"type\":\"YearsTicker\"},{\"attributes\":{\"bottom_units\":\"screen\",\"fill_alpha\":{\"value\":0.5},\"fill_color\":{\"value\":\"lightgrey\"},\"left_units\":\"screen\",\"level\":\"overlay\",\"line_alpha\":{\"value\":1.0},\"line_color\":{\"value\":\"black\"},\"line_dash\":[4,4],\"line_width\":{\"value\":2},\"render_mode\":\"css\",\"right_units\":\"screen\",\"top_units\":\"screen\"},\"id\":\"13857\",\"type\":\"BoxAnnotation\"}],\"root_ids\":[\"13344\"]},\"title\":\"Bokeh Application\",\"version\":\"1.2.0\"}};\n",
       "  var render_items = [{\"docid\":\"8c9731ef-624d-4033-b922-584c9dbc4e80\",\"roots\":{\"13344\":\"d1763fc9-ea50-49b5-af16-d43f17e97e17\"}}];\n",
       "  root.Bokeh.embed.embed_items_notebook(docs_json, render_items);\n",
       "\n",
       "  }\n",
       "  if (root.Bokeh !== undefined) {\n",
       "    embed_document(root);\n",
       "  } else {\n",
       "    var attempts = 0;\n",
       "    var timer = setInterval(function(root) {\n",
       "      if (root.Bokeh !== undefined) {\n",
       "        embed_document(root);\n",
       "        clearInterval(timer);\n",
       "      }\n",
       "      attempts++;\n",
       "      if (attempts > 100) {\n",
       "        console.log(\"Bokeh: ERROR: Unable to run BokehJS code because BokehJS library is missing\");\n",
       "        clearInterval(timer);\n",
       "      }\n",
       "    }, 10, root)\n",
       "  }\n",
       "})(window);"
      ],
      "application/vnd.bokehjs_exec.v0+json": ""
     },
     "metadata": {
      "application/vnd.bokehjs_exec.v0+json": {
       "id": "13344"
      }
     },
     "output_type": "display_data"
    }
   ],
   "source": [
    "p = figure(x_axis_type = \"datetime\",\n",
    "           x_axis_label = \"Month\",\n",
    "           y_axis_label = \"Number of Transaction\",\n",
    "           title = \"Customer 14646 Monthly Number of Transaction\",\n",
    "           tools = [\"hover\", \"box_zoom\", \"wheel_zoom\", \"pan\", \"save\", \"reset\"],\n",
    "           tooltips = [('Value', '@InvoiceNo')],\n",
    "           plot_height = 200)\n",
    "\n",
    "p.xgrid.grid_line_color = None\n",
    "p.xgrid.grid_line_alpha = 0.5\n",
    "p.line(x = 'MonthlyDate', y = 'InvoiceNo',\n",
    "       source = retail_14646,\n",
    "       color = \"#42b549\")\n",
    "\n",
    "show(p)"
   ]
  },
  {
   "cell_type": "markdown",
   "metadata": {},
   "source": [
    "A very simple line plot that gives us better insight on customer 14646's monthly transaction dynamic. By looking at this plot, we can see that there are a plump of transaction in April 2011. By identifying this behaviour it is easy to guide our next analysis into the commodities that is commonly bought by the customer. We can also try to understand wether or not the lack of transactions is a seasonality behaviour or other cases.\n",
    "\n",
    "Since we tried to visualize monthly transactions of a specific customers, let's try to create a multiple plot from our top valueable customers and put it in a nice layout:"
   ]
  },
  {
   "cell_type": "code",
   "execution_count": 206,
   "metadata": {},
   "outputs": [
    {
     "data": {
      "text/html": [
       "<div>\n",
       "<style scoped>\n",
       "    .dataframe tbody tr th:only-of-type {\n",
       "        vertical-align: middle;\n",
       "    }\n",
       "\n",
       "    .dataframe tbody tr th {\n",
       "        vertical-align: top;\n",
       "    }\n",
       "\n",
       "    .dataframe thead th {\n",
       "        text-align: right;\n",
       "    }\n",
       "</style>\n",
       "<table border=\"1\" class=\"dataframe\">\n",
       "  <thead>\n",
       "    <tr style=\"text-align: right;\">\n",
       "      <th></th>\n",
       "      <th></th>\n",
       "      <th>InvoiceNo</th>\n",
       "    </tr>\n",
       "    <tr>\n",
       "      <th>CustomerID</th>\n",
       "      <th>MonthlyDate</th>\n",
       "      <th></th>\n",
       "    </tr>\n",
       "  </thead>\n",
       "  <tbody>\n",
       "    <tr>\n",
       "      <th rowspan=\"7\" valign=\"top\">12748.0</th>\n",
       "      <th>2010-12</th>\n",
       "      <td>668</td>\n",
       "    </tr>\n",
       "    <tr>\n",
       "      <th>2011-01</th>\n",
       "      <td>25</td>\n",
       "    </tr>\n",
       "    <tr>\n",
       "      <th>2011-02</th>\n",
       "      <td>101</td>\n",
       "    </tr>\n",
       "    <tr>\n",
       "      <th>2011-03</th>\n",
       "      <td>189</td>\n",
       "    </tr>\n",
       "    <tr>\n",
       "      <th>2011-04</th>\n",
       "      <td>102</td>\n",
       "    </tr>\n",
       "    <tr>\n",
       "      <th>2011-05</th>\n",
       "      <td>268</td>\n",
       "    </tr>\n",
       "    <tr>\n",
       "      <th>2011-06</th>\n",
       "      <td>226</td>\n",
       "    </tr>\n",
       "    <tr>\n",
       "      <th rowspan=\"7\" valign=\"top\">14606.0</th>\n",
       "      <th>2010-12</th>\n",
       "      <td>228</td>\n",
       "    </tr>\n",
       "    <tr>\n",
       "      <th>2011-01</th>\n",
       "      <td>228</td>\n",
       "    </tr>\n",
       "    <tr>\n",
       "      <th>2011-02</th>\n",
       "      <td>274</td>\n",
       "    </tr>\n",
       "    <tr>\n",
       "      <th>2011-03</th>\n",
       "      <td>254</td>\n",
       "    </tr>\n",
       "    <tr>\n",
       "      <th>2011-04</th>\n",
       "      <td>203</td>\n",
       "    </tr>\n",
       "    <tr>\n",
       "      <th>2011-05</th>\n",
       "      <td>186</td>\n",
       "    </tr>\n",
       "    <tr>\n",
       "      <th>2011-06</th>\n",
       "      <td>165</td>\n",
       "    </tr>\n",
       "    <tr>\n",
       "      <th rowspan=\"7\" valign=\"top\">14911.0</th>\n",
       "      <th>2010-12</th>\n",
       "      <td>292</td>\n",
       "    </tr>\n",
       "    <tr>\n",
       "      <th>2011-01</th>\n",
       "      <td>132</td>\n",
       "    </tr>\n",
       "    <tr>\n",
       "      <th>2011-02</th>\n",
       "      <td>82</td>\n",
       "    </tr>\n",
       "    <tr>\n",
       "      <th>2011-03</th>\n",
       "      <td>390</td>\n",
       "    </tr>\n",
       "    <tr>\n",
       "      <th>2011-04</th>\n",
       "      <td>246</td>\n",
       "    </tr>\n",
       "    <tr>\n",
       "      <th>2011-05</th>\n",
       "      <td>441</td>\n",
       "    </tr>\n",
       "    <tr>\n",
       "      <th>2011-06</th>\n",
       "      <td>290</td>\n",
       "    </tr>\n",
       "    <tr>\n",
       "      <th rowspan=\"7\" valign=\"top\">15311.0</th>\n",
       "      <th>2010-12</th>\n",
       "      <td>177</td>\n",
       "    </tr>\n",
       "    <tr>\n",
       "      <th>2011-01</th>\n",
       "      <td>280</td>\n",
       "    </tr>\n",
       "    <tr>\n",
       "      <th>2011-02</th>\n",
       "      <td>239</td>\n",
       "    </tr>\n",
       "    <tr>\n",
       "      <th>2011-03</th>\n",
       "      <td>159</td>\n",
       "    </tr>\n",
       "    <tr>\n",
       "      <th>2011-04</th>\n",
       "      <td>183</td>\n",
       "    </tr>\n",
       "    <tr>\n",
       "      <th>2011-05</th>\n",
       "      <td>157</td>\n",
       "    </tr>\n",
       "    <tr>\n",
       "      <th>2011-06</th>\n",
       "      <td>120</td>\n",
       "    </tr>\n",
       "    <tr>\n",
       "      <th rowspan=\"7\" valign=\"top\">17841.0</th>\n",
       "      <th>2010-12</th>\n",
       "      <td>287</td>\n",
       "    </tr>\n",
       "    <tr>\n",
       "      <th>2011-01</th>\n",
       "      <td>246</td>\n",
       "    </tr>\n",
       "    <tr>\n",
       "      <th>2011-02</th>\n",
       "      <td>211</td>\n",
       "    </tr>\n",
       "    <tr>\n",
       "      <th>2011-03</th>\n",
       "      <td>321</td>\n",
       "    </tr>\n",
       "    <tr>\n",
       "      <th>2011-04</th>\n",
       "      <td>375</td>\n",
       "    </tr>\n",
       "    <tr>\n",
       "      <th>2011-05</th>\n",
       "      <td>635</td>\n",
       "    </tr>\n",
       "    <tr>\n",
       "      <th>2011-06</th>\n",
       "      <td>474</td>\n",
       "    </tr>\n",
       "  </tbody>\n",
       "</table>\n",
       "</div>"
      ],
      "text/plain": [
       "                        InvoiceNo\n",
       "CustomerID MonthlyDate           \n",
       "12748.0    2010-12            668\n",
       "           2011-01             25\n",
       "           2011-02            101\n",
       "           2011-03            189\n",
       "           2011-04            102\n",
       "           2011-05            268\n",
       "           2011-06            226\n",
       "14606.0    2010-12            228\n",
       "           2011-01            228\n",
       "           2011-02            274\n",
       "           2011-03            254\n",
       "           2011-04            203\n",
       "           2011-05            186\n",
       "           2011-06            165\n",
       "14911.0    2010-12            292\n",
       "           2011-01            132\n",
       "           2011-02             82\n",
       "           2011-03            390\n",
       "           2011-04            246\n",
       "           2011-05            441\n",
       "           2011-06            290\n",
       "15311.0    2010-12            177\n",
       "           2011-01            280\n",
       "           2011-02            239\n",
       "           2011-03            159\n",
       "           2011-04            183\n",
       "           2011-05            157\n",
       "           2011-06            120\n",
       "17841.0    2010-12            287\n",
       "           2011-01            246\n",
       "           2011-02            211\n",
       "           2011-03            321\n",
       "           2011-04            375\n",
       "           2011-05            635\n",
       "           2011-06            474"
      ]
     },
     "execution_count": 206,
     "metadata": {},
     "output_type": "execute_result"
    }
   ],
   "source": [
    "retail_5"
   ]
  },
  {
   "cell_type": "code",
   "execution_count": 205,
   "metadata": {},
   "outputs": [
    {
     "data": {
      "text/html": [
       "<div>\n",
       "<style scoped>\n",
       "    .dataframe tbody tr th:only-of-type {\n",
       "        vertical-align: middle;\n",
       "    }\n",
       "\n",
       "    .dataframe tbody tr th {\n",
       "        vertical-align: top;\n",
       "    }\n",
       "\n",
       "    .dataframe thead tr th {\n",
       "        text-align: left;\n",
       "    }\n",
       "</style>\n",
       "<table border=\"1\" class=\"dataframe\">\n",
       "  <thead>\n",
       "    <tr>\n",
       "      <th></th>\n",
       "      <th></th>\n",
       "      <th>a</th>\n",
       "      <th colspan=\"2\" halign=\"left\">b</th>\n",
       "    </tr>\n",
       "    <tr>\n",
       "      <th></th>\n",
       "      <th></th>\n",
       "      <th>b</th>\n",
       "      <th>a</th>\n",
       "      <th>b</th>\n",
       "    </tr>\n",
       "  </thead>\n",
       "  <tbody>\n",
       "    <tr>\n",
       "      <th rowspan=\"3\" valign=\"top\">A</th>\n",
       "      <th>B</th>\n",
       "      <td>1.0</td>\n",
       "      <td>8.0</td>\n",
       "      <td>10.0</td>\n",
       "    </tr>\n",
       "    <tr>\n",
       "      <th>C</th>\n",
       "      <td>2.0</td>\n",
       "      <td>7.0</td>\n",
       "      <td>NaN</td>\n",
       "    </tr>\n",
       "    <tr>\n",
       "      <th>D</th>\n",
       "      <td>NaN</td>\n",
       "      <td>NaN</td>\n",
       "      <td>9.0</td>\n",
       "    </tr>\n",
       "  </tbody>\n",
       "</table>\n",
       "</div>"
      ],
      "text/plain": [
       "       a    b      \n",
       "       b    a     b\n",
       "A B  1.0  8.0  10.0\n",
       "  C  2.0  7.0   NaN\n",
       "  D  NaN  NaN   9.0"
      ]
     },
     "execution_count": 205,
     "metadata": {},
     "output_type": "execute_result"
    }
   ],
   "source": [
    "df"
   ]
  },
  {
   "cell_type": "code",
   "execution_count": 204,
   "metadata": {},
   "outputs": [],
   "source": [
    "valuable_5 = retail_clean[['CustomerID', 'InvoiceNo']].groupby('CustomerID').count().sort_values(['InvoiceNo'], ascending = False).head(5).index\n",
    "\n",
    "retail_5 = retail_clean[retail_clean.CustomerID.isin(valuable_5)][['CustomerID', 'InvoiceNo', 'MonthlyDate']].groupby(['CustomerID', 'MonthlyDate']).count()\n",
    "\n",
    "source = ColumnDataSource(retail_5)"
   ]
  },
  {
   "cell_type": "code",
   "execution_count": 207,
   "metadata": {},
   "outputs": [
    {
     "name": "stderr",
     "output_type": "stream",
     "text": [
      "ERROR:bokeh.core.validation.check:E-1001 (BAD_COLUMN_NAME): Glyph refers to nonexistent column name. This could either be due to a misspelling or typo, or due to an expected column being missing. : key \"x\" value \"MonthlyDate\" (closest match: \"CustomerID_MonthlyDate\") [renderer: GlyphRenderer(id='14016', ...)]\n"
     ]
    },
    {
     "data": {
      "text/html": [
       "\n",
       "\n",
       "\n",
       "\n",
       "\n",
       "\n",
       "  <div class=\"bk-root\" id=\"d783191a-6ff3-471a-b680-6d79246cb683\" data-root-id=\"13979\"></div>\n"
      ]
     },
     "metadata": {},
     "output_type": "display_data"
    },
    {
     "data": {
      "application/javascript": [
       "(function(root) {\n",
       "  function embed_document(root) {\n",
       "    \n",
       "  var docs_json = {\"4832a53a-7a88-4a06-bde0-4ef1e43920be\":{\"roots\":{\"references\":[{\"attributes\":{\"below\":[{\"id\":\"13990\",\"type\":\"DatetimeAxis\"}],\"center\":[{\"id\":\"13994\",\"type\":\"Grid\"},{\"id\":\"13999\",\"type\":\"Grid\"}],\"left\":[{\"id\":\"13995\",\"type\":\"LinearAxis\"}],\"plot_height\":200,\"renderers\":[{\"id\":\"14016\",\"type\":\"GlyphRenderer\"}],\"title\":{\"id\":\"13980\",\"type\":\"Title\"},\"toolbar\":{\"id\":\"14006\",\"type\":\"Toolbar\"},\"x_range\":{\"id\":\"13982\",\"type\":\"DataRange1d\"},\"x_scale\":{\"id\":\"13986\",\"type\":\"LinearScale\"},\"y_range\":{\"id\":\"13984\",\"type\":\"DataRange1d\"},\"y_scale\":{\"id\":\"13988\",\"type\":\"LinearScale\"}},\"id\":\"13979\",\"subtype\":\"Figure\",\"type\":\"Plot\"},{\"attributes\":{},\"id\":\"14510\",\"type\":\"UnionRenderers\"},{\"attributes\":{},\"id\":\"14004\",\"type\":\"SaveTool\"},{\"attributes\":{},\"id\":\"14496\",\"type\":\"BasicTickFormatter\"},{\"attributes\":{\"callback\":null},\"id\":\"13984\",\"type\":\"DataRange1d\"},{\"attributes\":{},\"id\":\"14005\",\"type\":\"ResetTool\"},{\"attributes\":{\"base\":60,\"mantissas\":[1,2,5,10,15,20,30],\"max_interval\":1800000.0,\"min_interval\":1000.0,\"num_minor_ticks\":0},\"id\":\"14498\",\"type\":\"AdaptiveTicker\"},{\"attributes\":{\"days\":[1,8,15,22]},\"id\":\"14502\",\"type\":\"DaysTicker\"},{\"attributes\":{},\"id\":\"14509\",\"type\":\"Selection\"},{\"attributes\":{\"active_drag\":\"auto\",\"active_inspect\":\"auto\",\"active_multi\":null,\"active_scroll\":\"auto\",\"active_tap\":\"auto\",\"tools\":[{\"id\":\"14000\",\"type\":\"HoverTool\"},{\"id\":\"14001\",\"type\":\"BoxZoomTool\"},{\"id\":\"14002\",\"type\":\"WheelZoomTool\"},{\"id\":\"14003\",\"type\":\"PanTool\"},{\"id\":\"14004\",\"type\":\"SaveTool\"},{\"id\":\"14005\",\"type\":\"ResetTool\"}]},\"id\":\"14006\",\"type\":\"Toolbar\"},{\"attributes\":{\"callback\":null},\"id\":\"13982\",\"type\":\"DataRange1d\"},{\"attributes\":{\"days\":[1,2,3,4,5,6,7,8,9,10,11,12,13,14,15,16,17,18,19,20,21,22,23,24,25,26,27,28,29,30,31]},\"id\":\"14500\",\"type\":\"DaysTicker\"},{\"attributes\":{\"base\":24,\"mantissas\":[1,2,4,6,8,12],\"max_interval\":43200000.0,\"min_interval\":3600000.0,\"num_minor_ticks\":0},\"id\":\"14499\",\"type\":\"AdaptiveTicker\"},{\"attributes\":{\"days\":[1,4,7,10,13,16,19,22,25,28]},\"id\":\"14501\",\"type\":\"DaysTicker\"},{\"attributes\":{\"days\":[1,15]},\"id\":\"14503\",\"type\":\"DaysTicker\"},{\"attributes\":{\"grid_line_alpha\":0.5,\"grid_line_color\":null,\"ticker\":{\"id\":\"13991\",\"type\":\"DatetimeTicker\"}},\"id\":\"13994\",\"type\":\"Grid\"},{\"attributes\":{\"bottom_units\":\"screen\",\"fill_alpha\":{\"value\":0.5},\"fill_color\":{\"value\":\"lightgrey\"},\"left_units\":\"screen\",\"level\":\"overlay\",\"line_alpha\":{\"value\":1.0},\"line_color\":{\"value\":\"black\"},\"line_dash\":[4,4],\"line_width\":{\"value\":2},\"render_mode\":\"css\",\"right_units\":\"screen\",\"top_units\":\"screen\"},\"id\":\"14511\",\"type\":\"BoxAnnotation\"},{\"attributes\":{\"text\":\"Customer 14646 Monthly Number of Transaction\"},\"id\":\"13980\",\"type\":\"Title\"},{\"attributes\":{\"mantissas\":[1,2,5],\"max_interval\":500.0,\"num_minor_ticks\":0},\"id\":\"14497\",\"type\":\"AdaptiveTicker\"},{\"attributes\":{\"months\":[0,1,2,3,4,5,6,7,8,9,10,11]},\"id\":\"14504\",\"type\":\"MonthsTicker\"},{\"attributes\":{},\"id\":\"13988\",\"type\":\"LinearScale\"},{\"attributes\":{},\"id\":\"14002\",\"type\":\"WheelZoomTool\"},{\"attributes\":{},\"id\":\"14494\",\"type\":\"DatetimeTickFormatter\"},{\"attributes\":{\"months\":[0,2,4,6,8,10]},\"id\":\"14505\",\"type\":\"MonthsTicker\"},{\"attributes\":{\"line_alpha\":0.1,\"line_color\":\"#1f77b4\",\"x\":{\"field\":\"MonthlyDate\"},\"y\":{\"field\":\"InvoiceNo\"}},\"id\":\"14015\",\"type\":\"Line\"},{\"attributes\":{\"line_color\":\"#42b549\",\"x\":{\"field\":\"MonthlyDate\"},\"y\":{\"field\":\"InvoiceNo\"}},\"id\":\"14014\",\"type\":\"Line\"},{\"attributes\":{},\"id\":\"14003\",\"type\":\"PanTool\"},{\"attributes\":{\"dimension\":1,\"ticker\":{\"id\":\"13996\",\"type\":\"BasicTicker\"}},\"id\":\"13999\",\"type\":\"Grid\"},{\"attributes\":{\"overlay\":{\"id\":\"14511\",\"type\":\"BoxAnnotation\"}},\"id\":\"14001\",\"type\":\"BoxZoomTool\"},{\"attributes\":{\"months\":[0,4,8]},\"id\":\"14506\",\"type\":\"MonthsTicker\"},{\"attributes\":{},\"id\":\"13996\",\"type\":\"BasicTicker\"},{\"attributes\":{\"axis_label\":\"Month\",\"formatter\":{\"id\":\"14494\",\"type\":\"DatetimeTickFormatter\"},\"ticker\":{\"id\":\"13991\",\"type\":\"DatetimeTicker\"}},\"id\":\"13990\",\"type\":\"DatetimeAxis\"},{\"attributes\":{\"num_minor_ticks\":5,\"tickers\":[{\"id\":\"14497\",\"type\":\"AdaptiveTicker\"},{\"id\":\"14498\",\"type\":\"AdaptiveTicker\"},{\"id\":\"14499\",\"type\":\"AdaptiveTicker\"},{\"id\":\"14500\",\"type\":\"DaysTicker\"},{\"id\":\"14501\",\"type\":\"DaysTicker\"},{\"id\":\"14502\",\"type\":\"DaysTicker\"},{\"id\":\"14503\",\"type\":\"DaysTicker\"},{\"id\":\"14504\",\"type\":\"MonthsTicker\"},{\"id\":\"14505\",\"type\":\"MonthsTicker\"},{\"id\":\"14506\",\"type\":\"MonthsTicker\"},{\"id\":\"14507\",\"type\":\"MonthsTicker\"},{\"id\":\"14508\",\"type\":\"YearsTicker\"}]},\"id\":\"13991\",\"type\":\"DatetimeTicker\"},{\"attributes\":{\"months\":[0,6]},\"id\":\"14507\",\"type\":\"MonthsTicker\"},{\"attributes\":{\"data_source\":{\"id\":\"13978\",\"type\":\"ColumnDataSource\"},\"glyph\":{\"id\":\"14014\",\"type\":\"Line\"},\"hover_glyph\":null,\"muted_glyph\":null,\"nonselection_glyph\":{\"id\":\"14015\",\"type\":\"Line\"},\"selection_glyph\":null,\"view\":{\"id\":\"14017\",\"type\":\"CDSView\"}},\"id\":\"14016\",\"type\":\"GlyphRenderer\"},{\"attributes\":{},\"id\":\"13986\",\"type\":\"LinearScale\"},{\"attributes\":{\"callback\":null,\"tooltips\":[[\"Value\",\"@InvoiceNo\"]]},\"id\":\"14000\",\"type\":\"HoverTool\"},{\"attributes\":{\"axis_label\":\"Number of Transaction\",\"formatter\":{\"id\":\"14496\",\"type\":\"BasicTickFormatter\"},\"ticker\":{\"id\":\"13996\",\"type\":\"BasicTicker\"}},\"id\":\"13995\",\"type\":\"LinearAxis\"},{\"attributes\":{\"callback\":null,\"data\":{\"CustomerID_MonthlyDate\":[[12748.0,1291161600000.0],[12748.0,1293840000000.0],[12748.0,1296518400000.0],[12748.0,1298937600000.0],[12748.0,1301616000000.0],[12748.0,1304208000000.0],[12748.0,1306886400000.0],[14606.0,1291161600000.0],[14606.0,1293840000000.0],[14606.0,1296518400000.0],[14606.0,1298937600000.0],[14606.0,1301616000000.0],[14606.0,1304208000000.0],[14606.0,1306886400000.0],[14911.0,1291161600000.0],[14911.0,1293840000000.0],[14911.0,1296518400000.0],[14911.0,1298937600000.0],[14911.0,1301616000000.0],[14911.0,1304208000000.0],[14911.0,1306886400000.0],[15311.0,1291161600000.0],[15311.0,1293840000000.0],[15311.0,1296518400000.0],[15311.0,1298937600000.0],[15311.0,1301616000000.0],[15311.0,1304208000000.0],[15311.0,1306886400000.0],[17841.0,1291161600000.0],[17841.0,1293840000000.0],[17841.0,1296518400000.0],[17841.0,1298937600000.0],[17841.0,1301616000000.0],[17841.0,1304208000000.0],[17841.0,1306886400000.0]],\"InvoiceNo\":[668,25,101,189,102,268,226,228,228,274,254,203,186,165,292,132,82,390,246,441,290,177,280,239,159,183,157,120,287,246,211,321,375,635,474]},\"selected\":{\"id\":\"14509\",\"type\":\"Selection\"},\"selection_policy\":{\"id\":\"14510\",\"type\":\"UnionRenderers\"}},\"id\":\"13978\",\"type\":\"ColumnDataSource\"},{\"attributes\":{\"source\":{\"id\":\"13978\",\"type\":\"ColumnDataSource\"}},\"id\":\"14017\",\"type\":\"CDSView\"},{\"attributes\":{},\"id\":\"14508\",\"type\":\"YearsTicker\"}],\"root_ids\":[\"13979\"]},\"title\":\"Bokeh Application\",\"version\":\"1.2.0\"}};\n",
       "  var render_items = [{\"docid\":\"4832a53a-7a88-4a06-bde0-4ef1e43920be\",\"roots\":{\"13979\":\"d783191a-6ff3-471a-b680-6d79246cb683\"}}];\n",
       "  root.Bokeh.embed.embed_items_notebook(docs_json, render_items);\n",
       "\n",
       "  }\n",
       "  if (root.Bokeh !== undefined) {\n",
       "    embed_document(root);\n",
       "  } else {\n",
       "    var attempts = 0;\n",
       "    var timer = setInterval(function(root) {\n",
       "      if (root.Bokeh !== undefined) {\n",
       "        embed_document(root);\n",
       "        clearInterval(timer);\n",
       "      }\n",
       "      attempts++;\n",
       "      if (attempts > 100) {\n",
       "        console.log(\"Bokeh: ERROR: Unable to run BokehJS code because BokehJS library is missing\");\n",
       "        clearInterval(timer);\n",
       "      }\n",
       "    }, 10, root)\n",
       "  }\n",
       "})(window);"
      ],
      "application/vnd.bokehjs_exec.v0+json": ""
     },
     "metadata": {
      "application/vnd.bokehjs_exec.v0+json": {
       "id": "13979"
      }
     },
     "output_type": "display_data"
    }
   ],
   "source": [
    "p1 = figure(x_axis_type = \"datetime\",\n",
    "           x_axis_label = \"Month\",\n",
    "           y_axis_label = \"Number of Transaction\",\n",
    "           title = \"Customer 14646 Monthly Number of Transaction\",\n",
    "           tools = [\"hover\", \"box_zoom\", \"wheel_zoom\", \"pan\", \"save\", \"reset\"],\n",
    "           tooltips = [('Value', '@InvoiceNo')],\n",
    "           plot_height = 200)\n",
    "p1.xgrid.grid_line_color = None\n",
    "p1.xgrid.grid_line_alpha = 0.5\n",
    "p1.line(x = 'MonthlyDate', y = 'InvoiceNo',\n",
    "       source = source,\n",
    "       color = \"#42b549\")\n",
    "show(p1)"
   ]
  },
  {
   "cell_type": "code",
   "execution_count": null,
   "metadata": {},
   "outputs": [],
   "source": [
    "p1 = figure(x_axis_type = \"datetime\",\n",
    "           x_axis_label = \"Month\",\n",
    "           y_axis_label = \"Number of Transaction\",\n",
    "           title = \"Customer 14646 Monthly Number of Transaction\",\n",
    "           tools = [\"hover\", \"box_zoom\", \"wheel_zoom\", \"pan\", \"save\", \"reset\"],\n",
    "           tooltips = [('Value', '@InvoiceNo')],\n",
    "           plot_height = 200)\n",
    "p1.xgrid.grid_line_color = None\n",
    "p1.xgrid.grid_line_alpha = 0.5\n",
    "p1.line(x = 'MonthlyDate', y = 'InvoiceNo',\n",
    "       source = retail5,\n",
    "       color = \"#42b549\")"
   ]
  },
  {
   "cell_type": "markdown",
   "metadata": {},
   "source": [
    "### Category Comparison using Bar Plot"
   ]
  },
  {
   "cell_type": "markdown",
   "metadata": {},
   "source": [
    "In our next module, we'll introduce other visualization tools that is heavily used by statistician: boxplot and histogram. Both are very useful in understanding data distribution. In this module, however, we'll focus more on plotting building blocks and will dealt in that area in a later session."
   ]
  },
  {
   "cell_type": "markdown",
   "metadata": {},
   "source": [
    "## Enhancing Bokeh Plot\n",
    "\n",
    "### Using Widgets\n",
    "\n",
    "### Data Streaming"
   ]
  }
 ],
 "metadata": {
  "kernelspec": {
   "display_name": "Python [conda env:tokopedia]",
   "language": "python",
   "name": "conda-env-tokopedia-py"
  },
  "language_info": {
   "codemirror_mode": {
    "name": "ipython",
    "version": 3
   },
   "file_extension": ".py",
   "mimetype": "text/x-python",
   "name": "python",
   "nbconvert_exporter": "python",
   "pygments_lexer": "ipython3",
   "version": "3.7.3"
  }
 },
 "nbformat": 4,
 "nbformat_minor": 2
}
