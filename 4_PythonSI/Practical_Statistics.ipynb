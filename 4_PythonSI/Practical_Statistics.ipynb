{
 "cells": [
  {
   "cell_type": "markdown",
   "metadata": {},
   "source": [
    "**Coursebook: Inferential Statistics**\n",
    "- Part 1 of _Python Fundamental Course_\n",
    "- Course Length: 9 Hours\n",
    "- Last Updated: July 2019\n",
    "\n",
    "___\n",
    "\n",
    "- Developed by [Algoritma](https://algorit.ma)'s product division and instructors team"
   ]
  },
  {
   "cell_type": "markdown",
   "metadata": {},
   "source": [
    "\n",
    "\n",
    "# Background"
   ]
  },
  {
   "cell_type": "markdown",
   "metadata": {},
   "source": [
    "The coursebook is part of the **Python Fundamental Course** prepared by [Algoritma](https://algorit.ma). The coursebook is intended for a restricted audience only, i.e. the individuals and organizations having received this coursebook directly from the training organization. It may not be reproduced, distributed, translated or adapted in any form outside these individuals and organizations without permission.\n",
    "\n",
    "Algoritma is a data science education center based in Jakarta. We organize workshops and training programs to help working professionals and students gain mastery in various data science sub-fields: data visualization, machine learning, data modeling, statistical inference etc."
   ]
  },
  {
   "cell_type": "markdown",
   "metadata": {},
   "source": [
    "## Training Objectives\n",
    "\n",
    "On the first section of this course is to pave the statistical foundation for more advance implementation and machine learning implementation. There will be 2 main objectives:\n",
    "\n",
    "- **Descriptive Statistics**\n",
    "- Understanding 5 number summary\n",
    "- Central tendency measure\n",
    "- Variability measure\n",
    "- Z Score and Central limit theorem\n",
    "- **Inferential Statistics**\n",
    "- Probability density function\n",
    "- Confidence intervals\n",
    "- Hypothesis test\n",
    "- Power analysis\n",
    "- Designing A/B test\n",
    "\n",
    "At the end of this course, we’ll be working with Learn by Building module as your graded assignment. You’ll be working in groups and design an A/B testing of your choice!"
   ]
  },
  {
   "cell_type": "markdown",
   "metadata": {},
   "source": [
    "# Descriptive Statistics\n",
    "\n",
    "Statisticians and data scientists use descriptive statistics to summarize and describe a large number of measurements. Many times, this task is accompanied with graphs and plots that help describe the numerical summary of data. When data science is applied in the business context, an example of descriptive statistic is the average number of transactions per month. Another example is the percentage of e-commerce transactions with a voucher code applied. The simple rule is that descriptive statistics do not involve generalizing beyond the data we have obtained, and are merely descriptive of what we have at hand. The branch of statistics that deal with drawing inferences about the larger population is called inferential statistics.\n",
    "\n",
    "In describing data, we are typically concerned with the task of quantifying and comparing central tendency, variability, and the shape of our data. In this coursebook, we'll be working on with Tokopedia listing item in handphones section:"
   ]
  },
  {
   "cell_type": "code",
   "execution_count": 8,
   "metadata": {},
   "outputs": [
    {
     "data": {
      "text/plain": [
       "product_title      object\n",
       "location           object\n",
       "account_seller     object\n",
       "price             float64\n",
       "review              int64\n",
       "installment       float64\n",
       "rating            float64\n",
       "brand_hp           object\n",
       "dtype: object"
      ]
     },
     "execution_count": 8,
     "metadata": {},
     "output_type": "execute_result"
    }
   ],
   "source": [
    "import pandas as pd\n",
    "\n",
    "hp = pd.read_csv('tokped_hp.csv', encoding='latin8')\n",
    "hp.dtypes"
   ]
  },
  {
   "cell_type": "markdown",
   "metadata": {},
   "source": [
    "The dataset consist of several listing information such as product name, price, review, rating, and brand. Let's explore some of them first to get a good sense from our data:"
   ]
  },
  {
   "cell_type": "code",
   "execution_count": 7,
   "metadata": {},
   "outputs": [
    {
     "data": {
      "text/plain": [
       "xiaomi       1404\n",
       "samsung      1095\n",
       "apple         559\n",
       "oppo          441\n",
       "lain-lain     306\n",
       "vivo          243\n",
       "nokia         209\n",
       "asus          178\n",
       "realme        115\n",
       "sony          107\n",
       "Name: brand_hp, dtype: int64"
      ]
     },
     "execution_count": 7,
     "metadata": {},
     "output_type": "execute_result"
    }
   ],
   "source": [
    "hp.brand_hp.value_counts().head(10)"
   ]
  },
  {
   "cell_type": "markdown",
   "metadata": {},
   "source": [
    "The dataset consist of some well known handphone brand, as we can see most of the data is dominated by Xiaomi and Samsung brand. It is also corresponds to Indonesian market interest. In the next sections, as we go through this module, we are going to explore this specific dataset and see how an Indonesian mobile sales landscape can be extracted using this dataset."
   ]
  },
  {
   "cell_type": "markdown",
   "metadata": {},
   "source": [
    "## Measures of Central Tendency\n",
    "\n",
    "Often times in the exploratory data analysis phase, we want to get a sense of what the **most representative score** of a particular measurement is. We often simplify this idea by referring to it as the “average”, but there are in fact, three measures of central tendency that you need to have in your statistical toolset.\n",
    "\n",
    "The most popular measure of central tendency is the **mean**, which is sometimes represented as $\\bar{x}$ when computed on a **sample** and represented as $\\mu$ when computed on a population. Mean is really the sum of all your measurements, divided by the number of measurements, and works best on data that has an even distribution or a normal distribution (don’t worry if the idea of a normal distribution isn’t clear - we’ll get to that in a while!).\n",
    "\n",
    "Say for example, we are want to see the mean price of Apple phones. Luckily, pandas data frame came with a function that works well with a Series object:"
   ]
  },
  {
   "cell_type": "code",
   "execution_count": 14,
   "metadata": {},
   "outputs": [
    {
     "data": {
      "text/plain": [
       "'5,677,991.95'"
      ]
     },
     "execution_count": 14,
     "metadata": {},
     "output_type": "execute_result"
    }
   ],
   "source": [
    "'{:,.2f}'.format(hp[hp.brand_hp == 'apple'].price.mean())"
   ]
  },
  {
   "cell_type": "markdown",
   "metadata": {},
   "source": [
    "The **median** is the point of value that cuts the distribution into two equal halves such that 50% of the observations are below it. To find this value, we would order the observations and find the middle value that separates the distribution into two equal halves."
   ]
  },
  {
   "cell_type": "code",
   "execution_count": 15,
   "metadata": {},
   "outputs": [
    {
     "data": {
      "text/plain": [
       "'3,999,000.00'"
      ]
     },
     "execution_count": 15,
     "metadata": {},
     "output_type": "execute_result"
    }
   ],
   "source": [
    "'{:,.2f}'.format(hp[hp.brand_hp == 'apple'].price.median())"
   ]
  },
  {
   "cell_type": "markdown",
   "metadata": {},
   "source": [
    "For data with odd number of observations, the median is the middle value but for data with an even number of observations we would instead use the average of the two middle scores:"
   ]
  },
  {
   "cell_type": "code",
   "execution_count": 16,
   "metadata": {},
   "outputs": [
    {
     "data": {
      "text/plain": [
       "3300000.0"
      ]
     },
     "execution_count": 16,
     "metadata": {},
     "output_type": "execute_result"
    }
   ],
   "source": [
    "odds_price = hp[hp.brand_hp == 'apple'].iloc[0:9,:]\n",
    "odds_price.price.median()"
   ]
  },
  {
   "cell_type": "code",
   "execution_count": 17,
   "metadata": {},
   "outputs": [
    {
     "data": {
      "text/plain": [
       "3300000.0"
      ]
     },
     "execution_count": 17,
     "metadata": {},
     "output_type": "execute_result"
    }
   ],
   "source": [
    "odds_price.sort_values('price').price.tolist()[4]"
   ]
  },
  {
   "cell_type": "code",
   "execution_count": 18,
   "metadata": {},
   "outputs": [
    {
     "data": {
      "text/plain": [
       "2925000.0"
      ]
     },
     "execution_count": 18,
     "metadata": {},
     "output_type": "execute_result"
    }
   ],
   "source": [
    "odds_price = hp[hp.brand_hp == 'apple'].iloc[0:10,:]\n",
    "odds_price.price.median()"
   ]
  },
  {
   "cell_type": "code",
   "execution_count": 19,
   "metadata": {},
   "outputs": [
    {
     "data": {
      "text/plain": [
       "2925000.0"
      ]
     },
     "execution_count": 19,
     "metadata": {},
     "output_type": "execute_result"
    }
   ],
   "source": [
    "fourth = odds_price.sort_values('price').price.tolist()[4]\n",
    "fifth = odds_price.sort_values('price').price.tolist()[5]\n",
    "\n",
    "(fourth + fifth)/2"
   ]
  },
  {
   "cell_type": "markdown",
   "metadata": {},
   "source": [
    "We need to be cautious when applying the mean on data with a skewed distribution because the mean may not be the best candidate for a most representative score compared to other measures of central tendency. Let's take the first 99 rows of our apple phones:"
   ]
  },
  {
   "cell_type": "code",
   "execution_count": 39,
   "metadata": {},
   "outputs": [
    {
     "data": {
      "text/html": [
       "<div>\n",
       "<style scoped>\n",
       "    .dataframe tbody tr th:only-of-type {\n",
       "        vertical-align: middle;\n",
       "    }\n",
       "\n",
       "    .dataframe tbody tr th {\n",
       "        vertical-align: top;\n",
       "    }\n",
       "\n",
       "    .dataframe thead th {\n",
       "        text-align: right;\n",
       "    }\n",
       "</style>\n",
       "<table border=\"1\" class=\"dataframe\">\n",
       "  <thead>\n",
       "    <tr style=\"text-align: right;\">\n",
       "      <th></th>\n",
       "      <th>price</th>\n",
       "      <th>review</th>\n",
       "      <th>installment</th>\n",
       "      <th>rating</th>\n",
       "    </tr>\n",
       "  </thead>\n",
       "  <tbody>\n",
       "    <tr>\n",
       "      <th>count</th>\n",
       "      <td>9.900000e+01</td>\n",
       "      <td>99.000000</td>\n",
       "      <td>99.000000</td>\n",
       "      <td>99.000000</td>\n",
       "    </tr>\n",
       "    <tr>\n",
       "      <th>mean</th>\n",
       "      <td>4.753343e+06</td>\n",
       "      <td>94.494949</td>\n",
       "      <td>198056.323232</td>\n",
       "      <td>4.818182</td>\n",
       "    </tr>\n",
       "    <tr>\n",
       "      <th>std</th>\n",
       "      <td>3.653102e+06</td>\n",
       "      <td>87.872864</td>\n",
       "      <td>152212.612375</td>\n",
       "      <td>0.153439</td>\n",
       "    </tr>\n",
       "    <tr>\n",
       "      <th>min</th>\n",
       "      <td>3.950000e+05</td>\n",
       "      <td>6.000000</td>\n",
       "      <td>16459.000000</td>\n",
       "      <td>4.300000</td>\n",
       "    </tr>\n",
       "    <tr>\n",
       "      <th>25%</th>\n",
       "      <td>2.449500e+06</td>\n",
       "      <td>36.500000</td>\n",
       "      <td>102062.500000</td>\n",
       "      <td>4.700000</td>\n",
       "    </tr>\n",
       "    <tr>\n",
       "      <th>50%</th>\n",
       "      <td>3.500000e+06</td>\n",
       "      <td>68.000000</td>\n",
       "      <td>145834.000000</td>\n",
       "      <td>4.800000</td>\n",
       "    </tr>\n",
       "    <tr>\n",
       "      <th>75%</th>\n",
       "      <td>5.350000e+06</td>\n",
       "      <td>127.500000</td>\n",
       "      <td>222917.000000</td>\n",
       "      <td>4.950000</td>\n",
       "    </tr>\n",
       "    <tr>\n",
       "      <th>max</th>\n",
       "      <td>1.720000e+07</td>\n",
       "      <td>665.000000</td>\n",
       "      <td>716667.000000</td>\n",
       "      <td>5.000000</td>\n",
       "    </tr>\n",
       "  </tbody>\n",
       "</table>\n",
       "</div>"
      ],
      "text/plain": [
       "              price      review    installment     rating\n",
       "count  9.900000e+01   99.000000      99.000000  99.000000\n",
       "mean   4.753343e+06   94.494949  198056.323232   4.818182\n",
       "std    3.653102e+06   87.872864  152212.612375   0.153439\n",
       "min    3.950000e+05    6.000000   16459.000000   4.300000\n",
       "25%    2.449500e+06   36.500000  102062.500000   4.700000\n",
       "50%    3.500000e+06   68.000000  145834.000000   4.800000\n",
       "75%    5.350000e+06  127.500000  222917.000000   4.950000\n",
       "max    1.720000e+07  665.000000  716667.000000   5.000000"
      ]
     },
     "execution_count": 39,
     "metadata": {},
     "output_type": "execute_result"
    }
   ],
   "source": [
    "apple_sample = hp[hp.brand_hp == 'apple'].iloc[0:99,:]\n",
    "apple_sample.describe()"
   ]
  },
  {
   "cell_type": "markdown",
   "metadata": {},
   "source": [
    "And then imagine if there's a new product listing selling an Apple iPhone XS Max 512GB priced at IDR 27 Mil. Let's simulate that and calculate the sample's mean:"
   ]
  },
  {
   "cell_type": "code",
   "execution_count": 41,
   "metadata": {
    "scrolled": true
   },
   "outputs": [],
   "source": [
    "new_product = {\n",
    "    'product_title': ['Apple iPhone XS Max 512 GB'],\n",
    "    'price': [27000000],\n",
    "    'brand_hp': ['apple']\n",
    "}\n",
    "\n",
    "new_row = pd.DataFrame(data=new_product)\n",
    "apple_sample = apple_sample.append(new_row, sort=False)"
   ]
  },
  {
   "cell_type": "markdown",
   "metadata": {},
   "source": [
    "Now calculating the central tendency:"
   ]
  },
  {
   "cell_type": "code",
   "execution_count": 45,
   "metadata": {},
   "outputs": [
    {
     "data": {
      "text/plain": [
       "'5,193,871.29'"
      ]
     },
     "execution_count": 45,
     "metadata": {},
     "output_type": "execute_result"
    }
   ],
   "source": [
    "'{:,.2f}'.format(apple_sample.price.mean())"
   ]
  },
  {
   "cell_type": "code",
   "execution_count": 44,
   "metadata": {},
   "outputs": [
    {
     "data": {
      "text/plain": [
       "'3,500,000.00'"
      ]
     },
     "execution_count": 44,
     "metadata": {},
     "output_type": "execute_result"
    }
   ],
   "source": [
    "'{:,.2f}'.format(apple_sample.price.median())"
   ]
  },
  {
   "cell_type": "code",
   "execution_count": 46,
   "metadata": {},
   "outputs": [
    {
     "data": {
      "text/plain": [
       "1.483963142857143"
      ]
     },
     "execution_count": 46,
     "metadata": {},
     "output_type": "execute_result"
    }
   ],
   "source": [
    "5193871/3500000"
   ]
  },
  {
   "cell_type": "markdown",
   "metadata": {},
   "source": [
    "The mean puts that figure at about almost 1.5 times higher and is not truly representative of the actual household income. While as we can see in the initial `describe()` that only 25% of our data has price more than 5.3 Mil, the mean value of price would have believe that the average price of our Apple phones was in fact is around 5.2 Mil.\n",
    "\n",
    "The median in this case is a better measure of centrality because it is not sensitive to the outlier data.\n",
    "\n",
    "If we are in fact, *required* to compute the mean on data with skewed distribution, another technique to reduce the influence of outlier data is to use a slight variation of the mean, called the Trimmed Mean. The trimmed mean removes a small designated percentage of the largest and smallest values before computing the mean. While pandas data frame does not support trimmed mean, we can use `scipy` package for `trim_mean()`:"
   ]
  },
  {
   "cell_type": "code",
   "execution_count": 55,
   "metadata": {},
   "outputs": [
    {
     "data": {
      "text/plain": [
       "'4,248,617.28'"
      ]
     },
     "execution_count": 55,
     "metadata": {},
     "output_type": "execute_result"
    }
   ],
   "source": [
    "from scipy.stats import trim_mean\n",
    "\n",
    "'{:,.2f}'.format(trim_mean(apple_sample.price, .1))"
   ]
  },
  {
   "cell_type": "markdown",
   "metadata": {},
   "source": [
    "The second parameters would trimmed 10% of the leftmost and rightmost values after sorting, and this figure is slightly beliavable than the previous one."
   ]
  },
  {
   "cell_type": "markdown",
   "metadata": {},
   "source": [
    "When there are discreet values for a variable, the **mode** refers to the value that occurs most frequently. This statistic is rarely used in practice, but pandas data frame also come in with the function:"
   ]
  },
  {
   "cell_type": "code",
   "execution_count": 59,
   "metadata": {},
   "outputs": [
    {
     "data": {
      "text/plain": [
       "0    Jakarta\n",
       "dtype: object"
      ]
     },
     "execution_count": 59,
     "metadata": {},
     "output_type": "execute_result"
    }
   ],
   "source": [
    "hp[hp.brand_hp == 'apple'].location.mode()"
   ]
  },
  {
   "cell_type": "markdown",
   "metadata": {},
   "source": [
    "## Measures of Spread"
   ]
  },
  {
   "cell_type": "markdown",
   "metadata": {},
   "source": [
    "Measures of spread measures the extent to which **value in a distribution differ from each other.** In practice, it is far easier to compute the distance between the values to their mean and when we square each one of these distances and add them all up the average1 of that result is known as **variance**. Taking the square root of the variance will result in the **standard deviation**. Just like the mean, standard deviation is the “expected value” of how far the scores deviate from the mean.\n",
    "\n",
    "To change the scenery a bit, let's take a look at Xiaomi brand from our dataset:"
   ]
  },
  {
   "cell_type": "code",
   "execution_count": 63,
   "metadata": {},
   "outputs": [
    {
     "data": {
      "text/plain": [
       "'1,269,429,778,891.90'"
      ]
     },
     "execution_count": 63,
     "metadata": {},
     "output_type": "execute_result"
    }
   ],
   "source": [
    "'{:,.2f}'.format(hp[hp.brand_hp == 'xiaomi'].price.var())"
   ]
  },
  {
   "cell_type": "markdown",
   "metadata": {},
   "source": [
    "And taking the square root of variance yields the standard deviation:"
   ]
  },
  {
   "cell_type": "code",
   "execution_count": 64,
   "metadata": {},
   "outputs": [
    {
     "data": {
      "text/plain": [
       "'1,126,689.74'"
      ]
     },
     "execution_count": 64,
     "metadata": {},
     "output_type": "execute_result"
    }
   ],
   "source": [
    "'{:,.2f}'.format(hp[hp.brand_hp == 'xiaomi'].price.std())"
   ]
  },
  {
   "cell_type": "markdown",
   "metadata": {},
   "source": [
    "Variance and standard deviation are always positive when the values are not identical. When there’s no variability, the variance is 0. Because variance and standard deviation are sensitive to every value, they may not be the most “representative” measurement for skewed data.\n",
    "\n",
    "Other measurements of the spread are the **range** and the **interquartile range**. The range is the distance from our smallest measurement to the largest one:"
   ]
  },
  {
   "cell_type": "code",
   "execution_count": 66,
   "metadata": {},
   "outputs": [
    {
     "data": {
      "text/plain": [
       "'9,570,000.00'"
      ]
     },
     "execution_count": 66,
     "metadata": {},
     "output_type": "execute_result"
    }
   ],
   "source": [
    "top = hp[hp.brand_hp == 'xiaomi'].price.max()\n",
    "bottom = hp[hp.brand_hp == 'xiaomi'].price.min()\n",
    "\n",
    "'{:,.2f}'.format(top-bottom)"
   ]
  },
  {
   "cell_type": "markdown",
   "metadata": {},
   "source": [
    "The interquartile range is the range computed for the middle 50% of the distribution:"
   ]
  },
  {
   "cell_type": "code",
   "execution_count": 68,
   "metadata": {},
   "outputs": [
    {
     "data": {
      "text/plain": [
       "'1,126,000.00'"
      ]
     },
     "execution_count": 68,
     "metadata": {},
     "output_type": "execute_result"
    }
   ],
   "source": [
    "third_quantile = hp[hp.brand_hp == 'xiaomi'].price.quantile(0.75)\n",
    "first_quantile = hp[hp.brand_hp == 'xiaomi'].price.quantile(0.25)\n",
    "\n",
    "'{:,.2f}'.format(third_quantile-first_quantile)"
   ]
  },
  {
   "cell_type": "markdown",
   "metadata": {},
   "source": [
    "Recall how we can call `describe()` to create a summarized numerical information for each column? It gives us a quick access to what we have learned in this section:"
   ]
  },
  {
   "cell_type": "code",
   "execution_count": 69,
   "metadata": {},
   "outputs": [
    {
     "data": {
      "text/plain": [
       "count    1.404000e+03\n",
       "mean     1.951973e+06\n",
       "std      1.126690e+06\n",
       "min      5.000000e+03\n",
       "25%      1.199000e+06\n",
       "50%      1.636000e+06\n",
       "75%      2.325000e+06\n",
       "max      9.575000e+06\n",
       "Name: price, dtype: float64"
      ]
     },
     "execution_count": 69,
     "metadata": {},
     "output_type": "execute_result"
    }
   ],
   "source": [
    "hp[hp.brand_hp == 'xiaomi'].price.describe()"
   ]
  },
  {
   "cell_type": "markdown",
   "metadata": {},
   "source": [
    "**Discussion:**\n",
    "\n",
    "Which financial assets has more votality in their annual price?"
   ]
  },
  {
   "cell_type": "code",
   "execution_count": 70,
   "metadata": {},
   "outputs": [],
   "source": [
    "price_coins = [1.4, 0.4, 0.8, 1.1, 1.8, 2.2, 2.3, 1.2]\n",
    "price_oil = [1.6, 1.2, 1.9, 0.8, 0.6, 1.5, 2.1, 1.5]"
   ]
  },
  {
   "cell_type": "markdown",
   "metadata": {},
   "source": [
    "The primary measure of votality used by stock traders and financial analysts is standard deviation, and recall that this metric reflects the average amount of an item’s price over a period of time. While the price for our fictional “oil” asset and “coins” asset averaged out to be USD 1.4 over time, which of these two present a higher votality than the other?"
   ]
  },
  {
   "cell_type": "markdown",
   "metadata": {},
   "source": [
    "A common way to quickly inspect a data is by using visualization techniques. Let's recall back to last week course using Bokeh. The following codes is used to create a *box plot*. This plot provides you a five number summary and is really useful for you to understand the distribution. It contains a several components:  \n",
    "- First quantile  \n",
    "- Median  \n",
    "- Third quantile  \n",
    "- Inner and outer fence  \n",
    "- Outliers  \n",
    "\n",
    "I've prepared the function you can use to generate a boxplot. Run the code below and let's take a look at each of the components:"
   ]
  },
  {
   "cell_type": "code",
   "execution_count": 134,
   "metadata": {},
   "outputs": [],
   "source": [
    "# Take our data point of interest\n",
    "brands = ['apple','xiaomi']\n",
    "xiaomi_apple = hp[hp.brand_hp.isin(brands)]\n",
    "\n",
    "# Define its quartiles and IQR\n",
    "groups = xiaomi_apple.groupby('brand_hp')\n",
    "q1 = groups.quantile(q=0.25)\n",
    "q2 = groups.quantile(q=0.5)\n",
    "q3 = groups.quantile(q=0.75)\n",
    "iqr = q3 - q1\n",
    "# Define upper and lower fence\n",
    "upper_fence = q3 + 1.5*iqr\n",
    "lower_fence = q1 - 1.5*iqr\n",
    "\n",
    "# Extract outliers for each group\n",
    "outx = []\n",
    "outy = []\n",
    "name = []\n",
    "upper = upper_fence.loc[brand].price\n",
    "lower = lower_fence.loc[brand].price\n",
    "for brand in brands:\n",
    "    upper = upper_fence.loc[brand].price\n",
    "    lower = lower_fence.loc[brand].price\n",
    "    for index, row in xiaomi_apple[xiaomi_apple.brand_hp == brand].iterrows():    \n",
    "        if row.price > upper or row.price < lower:\n",
    "            outx.append(brand)\n",
    "            outy.append(row.price)\n",
    "            name.append(row.product_title)\n",
    "            \n",
    "out = dict(x=outx, y=outy, name=name)"
   ]
  },
  {
   "cell_type": "markdown",
   "metadata": {},
   "source": [
    "Now preparing our bokeh plot:"
   ]
  },
  {
   "cell_type": "code",
   "execution_count": 104,
   "metadata": {},
   "outputs": [
    {
     "data": {
      "text/html": [
       "\n",
       "    <div class=\"bk-root\">\n",
       "        <a href=\"https://bokeh.pydata.org\" target=\"_blank\" class=\"bk-logo bk-logo-small bk-logo-notebook\"></a>\n",
       "        <span id=\"1168\">Loading BokehJS ...</span>\n",
       "    </div>"
      ]
     },
     "metadata": {},
     "output_type": "display_data"
    },
    {
     "data": {
      "application/javascript": [
       "\n",
       "(function(root) {\n",
       "  function now() {\n",
       "    return new Date();\n",
       "  }\n",
       "\n",
       "  var force = true;\n",
       "\n",
       "  if (typeof root._bokeh_onload_callbacks === \"undefined\" || force === true) {\n",
       "    root._bokeh_onload_callbacks = [];\n",
       "    root._bokeh_is_loading = undefined;\n",
       "  }\n",
       "\n",
       "  var JS_MIME_TYPE = 'application/javascript';\n",
       "  var HTML_MIME_TYPE = 'text/html';\n",
       "  var EXEC_MIME_TYPE = 'application/vnd.bokehjs_exec.v0+json';\n",
       "  var CLASS_NAME = 'output_bokeh rendered_html';\n",
       "\n",
       "  /**\n",
       "   * Render data to the DOM node\n",
       "   */\n",
       "  function render(props, node) {\n",
       "    var script = document.createElement(\"script\");\n",
       "    node.appendChild(script);\n",
       "  }\n",
       "\n",
       "  /**\n",
       "   * Handle when an output is cleared or removed\n",
       "   */\n",
       "  function handleClearOutput(event, handle) {\n",
       "    var cell = handle.cell;\n",
       "\n",
       "    var id = cell.output_area._bokeh_element_id;\n",
       "    var server_id = cell.output_area._bokeh_server_id;\n",
       "    // Clean up Bokeh references\n",
       "    if (id != null && id in Bokeh.index) {\n",
       "      Bokeh.index[id].model.document.clear();\n",
       "      delete Bokeh.index[id];\n",
       "    }\n",
       "\n",
       "    if (server_id !== undefined) {\n",
       "      // Clean up Bokeh references\n",
       "      var cmd = \"from bokeh.io.state import curstate; print(curstate().uuid_to_server['\" + server_id + \"'].get_sessions()[0].document.roots[0]._id)\";\n",
       "      cell.notebook.kernel.execute(cmd, {\n",
       "        iopub: {\n",
       "          output: function(msg) {\n",
       "            var id = msg.content.text.trim();\n",
       "            if (id in Bokeh.index) {\n",
       "              Bokeh.index[id].model.document.clear();\n",
       "              delete Bokeh.index[id];\n",
       "            }\n",
       "          }\n",
       "        }\n",
       "      });\n",
       "      // Destroy server and session\n",
       "      var cmd = \"import bokeh.io.notebook as ion; ion.destroy_server('\" + server_id + \"')\";\n",
       "      cell.notebook.kernel.execute(cmd);\n",
       "    }\n",
       "  }\n",
       "\n",
       "  /**\n",
       "   * Handle when a new output is added\n",
       "   */\n",
       "  function handleAddOutput(event, handle) {\n",
       "    var output_area = handle.output_area;\n",
       "    var output = handle.output;\n",
       "\n",
       "    // limit handleAddOutput to display_data with EXEC_MIME_TYPE content only\n",
       "    if ((output.output_type != \"display_data\") || (!output.data.hasOwnProperty(EXEC_MIME_TYPE))) {\n",
       "      return\n",
       "    }\n",
       "\n",
       "    var toinsert = output_area.element.find(\".\" + CLASS_NAME.split(' ')[0]);\n",
       "\n",
       "    if (output.metadata[EXEC_MIME_TYPE][\"id\"] !== undefined) {\n",
       "      toinsert[toinsert.length - 1].firstChild.textContent = output.data[JS_MIME_TYPE];\n",
       "      // store reference to embed id on output_area\n",
       "      output_area._bokeh_element_id = output.metadata[EXEC_MIME_TYPE][\"id\"];\n",
       "    }\n",
       "    if (output.metadata[EXEC_MIME_TYPE][\"server_id\"] !== undefined) {\n",
       "      var bk_div = document.createElement(\"div\");\n",
       "      bk_div.innerHTML = output.data[HTML_MIME_TYPE];\n",
       "      var script_attrs = bk_div.children[0].attributes;\n",
       "      for (var i = 0; i < script_attrs.length; i++) {\n",
       "        toinsert[toinsert.length - 1].firstChild.setAttribute(script_attrs[i].name, script_attrs[i].value);\n",
       "      }\n",
       "      // store reference to server id on output_area\n",
       "      output_area._bokeh_server_id = output.metadata[EXEC_MIME_TYPE][\"server_id\"];\n",
       "    }\n",
       "  }\n",
       "\n",
       "  function register_renderer(events, OutputArea) {\n",
       "\n",
       "    function append_mime(data, metadata, element) {\n",
       "      // create a DOM node to render to\n",
       "      var toinsert = this.create_output_subarea(\n",
       "        metadata,\n",
       "        CLASS_NAME,\n",
       "        EXEC_MIME_TYPE\n",
       "      );\n",
       "      this.keyboard_manager.register_events(toinsert);\n",
       "      // Render to node\n",
       "      var props = {data: data, metadata: metadata[EXEC_MIME_TYPE]};\n",
       "      render(props, toinsert[toinsert.length - 1]);\n",
       "      element.append(toinsert);\n",
       "      return toinsert\n",
       "    }\n",
       "\n",
       "    /* Handle when an output is cleared or removed */\n",
       "    events.on('clear_output.CodeCell', handleClearOutput);\n",
       "    events.on('delete.Cell', handleClearOutput);\n",
       "\n",
       "    /* Handle when a new output is added */\n",
       "    events.on('output_added.OutputArea', handleAddOutput);\n",
       "\n",
       "    /**\n",
       "     * Register the mime type and append_mime function with output_area\n",
       "     */\n",
       "    OutputArea.prototype.register_mime_type(EXEC_MIME_TYPE, append_mime, {\n",
       "      /* Is output safe? */\n",
       "      safe: true,\n",
       "      /* Index of renderer in `output_area.display_order` */\n",
       "      index: 0\n",
       "    });\n",
       "  }\n",
       "\n",
       "  // register the mime type if in Jupyter Notebook environment and previously unregistered\n",
       "  if (root.Jupyter !== undefined) {\n",
       "    var events = require('base/js/events');\n",
       "    var OutputArea = require('notebook/js/outputarea').OutputArea;\n",
       "\n",
       "    if (OutputArea.prototype.mime_types().indexOf(EXEC_MIME_TYPE) == -1) {\n",
       "      register_renderer(events, OutputArea);\n",
       "    }\n",
       "  }\n",
       "\n",
       "  \n",
       "  if (typeof (root._bokeh_timeout) === \"undefined\" || force === true) {\n",
       "    root._bokeh_timeout = Date.now() + 5000;\n",
       "    root._bokeh_failed_load = false;\n",
       "  }\n",
       "\n",
       "  var NB_LOAD_WARNING = {'data': {'text/html':\n",
       "     \"<div style='background-color: #fdd'>\\n\"+\n",
       "     \"<p>\\n\"+\n",
       "     \"BokehJS does not appear to have successfully loaded. If loading BokehJS from CDN, this \\n\"+\n",
       "     \"may be due to a slow or bad network connection. Possible fixes:\\n\"+\n",
       "     \"</p>\\n\"+\n",
       "     \"<ul>\\n\"+\n",
       "     \"<li>re-rerun `output_notebook()` to attempt to load from CDN again, or</li>\\n\"+\n",
       "     \"<li>use INLINE resources instead, as so:</li>\\n\"+\n",
       "     \"</ul>\\n\"+\n",
       "     \"<code>\\n\"+\n",
       "     \"from bokeh.resources import INLINE\\n\"+\n",
       "     \"output_notebook(resources=INLINE)\\n\"+\n",
       "     \"</code>\\n\"+\n",
       "     \"</div>\"}};\n",
       "\n",
       "  function display_loaded() {\n",
       "    var el = document.getElementById(\"1168\");\n",
       "    if (el != null) {\n",
       "      el.textContent = \"BokehJS is loading...\";\n",
       "    }\n",
       "    if (root.Bokeh !== undefined) {\n",
       "      if (el != null) {\n",
       "        el.textContent = \"BokehJS \" + root.Bokeh.version + \" successfully loaded.\";\n",
       "      }\n",
       "    } else if (Date.now() < root._bokeh_timeout) {\n",
       "      setTimeout(display_loaded, 100)\n",
       "    }\n",
       "  }\n",
       "\n",
       "\n",
       "  function run_callbacks() {\n",
       "    try {\n",
       "      root._bokeh_onload_callbacks.forEach(function(callback) {\n",
       "        if (callback != null)\n",
       "          callback();\n",
       "      });\n",
       "    } finally {\n",
       "      delete root._bokeh_onload_callbacks\n",
       "    }\n",
       "    console.debug(\"Bokeh: all callbacks have finished\");\n",
       "  }\n",
       "\n",
       "  function load_libs(css_urls, js_urls, callback) {\n",
       "    if (css_urls == null) css_urls = [];\n",
       "    if (js_urls == null) js_urls = [];\n",
       "\n",
       "    root._bokeh_onload_callbacks.push(callback);\n",
       "    if (root._bokeh_is_loading > 0) {\n",
       "      console.debug(\"Bokeh: BokehJS is being loaded, scheduling callback at\", now());\n",
       "      return null;\n",
       "    }\n",
       "    if (js_urls == null || js_urls.length === 0) {\n",
       "      run_callbacks();\n",
       "      return null;\n",
       "    }\n",
       "    console.debug(\"Bokeh: BokehJS not loaded, scheduling load and callback at\", now());\n",
       "    root._bokeh_is_loading = css_urls.length + js_urls.length;\n",
       "\n",
       "    function on_load() {\n",
       "      root._bokeh_is_loading--;\n",
       "      if (root._bokeh_is_loading === 0) {\n",
       "        console.debug(\"Bokeh: all BokehJS libraries/stylesheets loaded\");\n",
       "        run_callbacks()\n",
       "      }\n",
       "    }\n",
       "\n",
       "    function on_error() {\n",
       "      console.error(\"failed to load \" + url);\n",
       "    }\n",
       "\n",
       "    for (var i = 0; i < css_urls.length; i++) {\n",
       "      var url = css_urls[i];\n",
       "      const element = document.createElement(\"link\");\n",
       "      element.onload = on_load;\n",
       "      element.onerror = on_error;\n",
       "      element.rel = \"stylesheet\";\n",
       "      element.type = \"text/css\";\n",
       "      element.href = url;\n",
       "      console.debug(\"Bokeh: injecting link tag for BokehJS stylesheet: \", url);\n",
       "      document.body.appendChild(element);\n",
       "    }\n",
       "\n",
       "    for (var i = 0; i < js_urls.length; i++) {\n",
       "      var url = js_urls[i];\n",
       "      var element = document.createElement('script');\n",
       "      element.onload = on_load;\n",
       "      element.onerror = on_error;\n",
       "      element.async = false;\n",
       "      element.src = url;\n",
       "      console.debug(\"Bokeh: injecting script tag for BokehJS library: \", url);\n",
       "      document.head.appendChild(element);\n",
       "    }\n",
       "  };var element = document.getElementById(\"1168\");\n",
       "  if (element == null) {\n",
       "    console.error(\"Bokeh: ERROR: autoload.js configured with elementid '1168' but no matching script tag was found. \")\n",
       "    return false;\n",
       "  }\n",
       "\n",
       "  function inject_raw_css(css) {\n",
       "    const element = document.createElement(\"style\");\n",
       "    element.appendChild(document.createTextNode(css));\n",
       "    document.body.appendChild(element);\n",
       "  }\n",
       "\n",
       "  var js_urls = [\"https://cdn.pydata.org/bokeh/release/bokeh-1.2.0.min.js\", \"https://cdn.pydata.org/bokeh/release/bokeh-widgets-1.2.0.min.js\", \"https://cdn.pydata.org/bokeh/release/bokeh-tables-1.2.0.min.js\", \"https://cdn.pydata.org/bokeh/release/bokeh-gl-1.2.0.min.js\"];\n",
       "  var css_urls = [\"https://cdn.pydata.org/bokeh/release/bokeh-1.2.0.min.css\", \"https://cdn.pydata.org/bokeh/release/bokeh-widgets-1.2.0.min.css\", \"https://cdn.pydata.org/bokeh/release/bokeh-tables-1.2.0.min.css\"];\n",
       "\n",
       "  var inline_js = [\n",
       "    function(Bokeh) {\n",
       "      Bokeh.set_log_level(\"info\");\n",
       "    },\n",
       "    \n",
       "    function(Bokeh) {\n",
       "      \n",
       "    },\n",
       "    function(Bokeh) {} // ensure no trailing comma for IE\n",
       "  ];\n",
       "\n",
       "  function run_inline_js() {\n",
       "    \n",
       "    if ((root.Bokeh !== undefined) || (force === true)) {\n",
       "      for (var i = 0; i < inline_js.length; i++) {\n",
       "        inline_js[i].call(root, root.Bokeh);\n",
       "      }if (force === true) {\n",
       "        display_loaded();\n",
       "      }} else if (Date.now() < root._bokeh_timeout) {\n",
       "      setTimeout(run_inline_js, 100);\n",
       "    } else if (!root._bokeh_failed_load) {\n",
       "      console.log(\"Bokeh: BokehJS failed to load within specified timeout.\");\n",
       "      root._bokeh_failed_load = true;\n",
       "    } else if (force !== true) {\n",
       "      var cell = $(document.getElementById(\"1168\")).parents('.cell').data().cell;\n",
       "      cell.output_area.append_execute_result(NB_LOAD_WARNING)\n",
       "    }\n",
       "\n",
       "  }\n",
       "\n",
       "  if (root._bokeh_is_loading === 0) {\n",
       "    console.debug(\"Bokeh: BokehJS loaded, going straight to plotting\");\n",
       "    run_inline_js();\n",
       "  } else {\n",
       "    load_libs(css_urls, js_urls, function() {\n",
       "      console.debug(\"Bokeh: BokehJS plotting callback run at\", now());\n",
       "      run_inline_js();\n",
       "    });\n",
       "  }\n",
       "}(window));"
      ],
      "application/vnd.bokehjs_load.v0+json": "\n(function(root) {\n  function now() {\n    return new Date();\n  }\n\n  var force = true;\n\n  if (typeof root._bokeh_onload_callbacks === \"undefined\" || force === true) {\n    root._bokeh_onload_callbacks = [];\n    root._bokeh_is_loading = undefined;\n  }\n\n  \n\n  \n  if (typeof (root._bokeh_timeout) === \"undefined\" || force === true) {\n    root._bokeh_timeout = Date.now() + 5000;\n    root._bokeh_failed_load = false;\n  }\n\n  var NB_LOAD_WARNING = {'data': {'text/html':\n     \"<div style='background-color: #fdd'>\\n\"+\n     \"<p>\\n\"+\n     \"BokehJS does not appear to have successfully loaded. If loading BokehJS from CDN, this \\n\"+\n     \"may be due to a slow or bad network connection. Possible fixes:\\n\"+\n     \"</p>\\n\"+\n     \"<ul>\\n\"+\n     \"<li>re-rerun `output_notebook()` to attempt to load from CDN again, or</li>\\n\"+\n     \"<li>use INLINE resources instead, as so:</li>\\n\"+\n     \"</ul>\\n\"+\n     \"<code>\\n\"+\n     \"from bokeh.resources import INLINE\\n\"+\n     \"output_notebook(resources=INLINE)\\n\"+\n     \"</code>\\n\"+\n     \"</div>\"}};\n\n  function display_loaded() {\n    var el = document.getElementById(\"1168\");\n    if (el != null) {\n      el.textContent = \"BokehJS is loading...\";\n    }\n    if (root.Bokeh !== undefined) {\n      if (el != null) {\n        el.textContent = \"BokehJS \" + root.Bokeh.version + \" successfully loaded.\";\n      }\n    } else if (Date.now() < root._bokeh_timeout) {\n      setTimeout(display_loaded, 100)\n    }\n  }\n\n\n  function run_callbacks() {\n    try {\n      root._bokeh_onload_callbacks.forEach(function(callback) {\n        if (callback != null)\n          callback();\n      });\n    } finally {\n      delete root._bokeh_onload_callbacks\n    }\n    console.debug(\"Bokeh: all callbacks have finished\");\n  }\n\n  function load_libs(css_urls, js_urls, callback) {\n    if (css_urls == null) css_urls = [];\n    if (js_urls == null) js_urls = [];\n\n    root._bokeh_onload_callbacks.push(callback);\n    if (root._bokeh_is_loading > 0) {\n      console.debug(\"Bokeh: BokehJS is being loaded, scheduling callback at\", now());\n      return null;\n    }\n    if (js_urls == null || js_urls.length === 0) {\n      run_callbacks();\n      return null;\n    }\n    console.debug(\"Bokeh: BokehJS not loaded, scheduling load and callback at\", now());\n    root._bokeh_is_loading = css_urls.length + js_urls.length;\n\n    function on_load() {\n      root._bokeh_is_loading--;\n      if (root._bokeh_is_loading === 0) {\n        console.debug(\"Bokeh: all BokehJS libraries/stylesheets loaded\");\n        run_callbacks()\n      }\n    }\n\n    function on_error() {\n      console.error(\"failed to load \" + url);\n    }\n\n    for (var i = 0; i < css_urls.length; i++) {\n      var url = css_urls[i];\n      const element = document.createElement(\"link\");\n      element.onload = on_load;\n      element.onerror = on_error;\n      element.rel = \"stylesheet\";\n      element.type = \"text/css\";\n      element.href = url;\n      console.debug(\"Bokeh: injecting link tag for BokehJS stylesheet: \", url);\n      document.body.appendChild(element);\n    }\n\n    for (var i = 0; i < js_urls.length; i++) {\n      var url = js_urls[i];\n      var element = document.createElement('script');\n      element.onload = on_load;\n      element.onerror = on_error;\n      element.async = false;\n      element.src = url;\n      console.debug(\"Bokeh: injecting script tag for BokehJS library: \", url);\n      document.head.appendChild(element);\n    }\n  };var element = document.getElementById(\"1168\");\n  if (element == null) {\n    console.error(\"Bokeh: ERROR: autoload.js configured with elementid '1168' but no matching script tag was found. \")\n    return false;\n  }\n\n  function inject_raw_css(css) {\n    const element = document.createElement(\"style\");\n    element.appendChild(document.createTextNode(css));\n    document.body.appendChild(element);\n  }\n\n  var js_urls = [\"https://cdn.pydata.org/bokeh/release/bokeh-1.2.0.min.js\", \"https://cdn.pydata.org/bokeh/release/bokeh-widgets-1.2.0.min.js\", \"https://cdn.pydata.org/bokeh/release/bokeh-tables-1.2.0.min.js\", \"https://cdn.pydata.org/bokeh/release/bokeh-gl-1.2.0.min.js\"];\n  var css_urls = [\"https://cdn.pydata.org/bokeh/release/bokeh-1.2.0.min.css\", \"https://cdn.pydata.org/bokeh/release/bokeh-widgets-1.2.0.min.css\", \"https://cdn.pydata.org/bokeh/release/bokeh-tables-1.2.0.min.css\"];\n\n  var inline_js = [\n    function(Bokeh) {\n      Bokeh.set_log_level(\"info\");\n    },\n    \n    function(Bokeh) {\n      \n    },\n    function(Bokeh) {} // ensure no trailing comma for IE\n  ];\n\n  function run_inline_js() {\n    \n    if ((root.Bokeh !== undefined) || (force === true)) {\n      for (var i = 0; i < inline_js.length; i++) {\n        inline_js[i].call(root, root.Bokeh);\n      }if (force === true) {\n        display_loaded();\n      }} else if (Date.now() < root._bokeh_timeout) {\n      setTimeout(run_inline_js, 100);\n    } else if (!root._bokeh_failed_load) {\n      console.log(\"Bokeh: BokehJS failed to load within specified timeout.\");\n      root._bokeh_failed_load = true;\n    } else if (force !== true) {\n      var cell = $(document.getElementById(\"1168\")).parents('.cell').data().cell;\n      cell.output_area.append_execute_result(NB_LOAD_WARNING)\n    }\n\n  }\n\n  if (root._bokeh_is_loading === 0) {\n    console.debug(\"Bokeh: BokehJS loaded, going straight to plotting\");\n    run_inline_js();\n  } else {\n    load_libs(css_urls, js_urls, function() {\n      console.debug(\"Bokeh: BokehJS plotting callback run at\", now());\n      run_inline_js();\n    });\n  }\n}(window));"
     },
     "metadata": {},
     "output_type": "display_data"
    }
   ],
   "source": [
    "from bokeh.io import output_notebook, show\n",
    "\n",
    "output_notebook()"
   ]
  },
  {
   "cell_type": "code",
   "execution_count": 135,
   "metadata": {},
   "outputs": [
    {
     "data": {
      "text/html": [
       "\n",
       "\n",
       "\n",
       "\n",
       "\n",
       "\n",
       "  <div class=\"bk-root\" id=\"02551d42-b40c-43a9-b73b-35bf873a7d6d\" data-root-id=\"6523\"></div>\n"
      ]
     },
     "metadata": {},
     "output_type": "display_data"
    },
    {
     "data": {
      "application/javascript": [
       "(function(root) {\n",
       "  function embed_document(root) {\n",
       "    \n",
       "  var docs_json = {\"46e9cb7f-9001-4322-a85c-e52bc2e355b7\":{\"roots\":{\"references\":[{\"attributes\":{\"below\":[{\"id\":\"6534\",\"type\":\"CategoricalAxis\"}],\"center\":[{\"id\":\"6537\",\"type\":\"Grid\"},{\"id\":\"6542\",\"type\":\"Grid\"}],\"left\":[{\"id\":\"6538\",\"type\":\"LinearAxis\"}],\"plot_height\":300,\"plot_width\":700,\"renderers\":[{\"id\":\"6557\",\"type\":\"GlyphRenderer\"},{\"id\":\"6562\",\"type\":\"GlyphRenderer\"},{\"id\":\"6567\",\"type\":\"GlyphRenderer\"},{\"id\":\"6572\",\"type\":\"GlyphRenderer\"},{\"id\":\"6577\",\"type\":\"GlyphRenderer\"},{\"id\":\"6582\",\"type\":\"GlyphRenderer\"},{\"id\":\"6588\",\"type\":\"GlyphRenderer\"}],\"title\":{\"id\":\"6524\",\"type\":\"Title\"},\"toolbar\":{\"id\":\"6548\",\"type\":\"Toolbar\"},\"x_range\":{\"id\":\"6526\",\"type\":\"FactorRange\"},\"x_scale\":{\"id\":\"6530\",\"type\":\"CategoricalScale\"},\"y_range\":{\"id\":\"6528\",\"type\":\"DataRange1d\"},\"y_scale\":{\"id\":\"6532\",\"type\":\"LinearScale\"}},\"id\":\"6523\",\"subtype\":\"Figure\",\"type\":\"Plot\"},{\"attributes\":{\"data_source\":{\"id\":\"6569\",\"type\":\"ColumnDataSource\"},\"glyph\":{\"id\":\"6570\",\"type\":\"Rect\"},\"hover_glyph\":null,\"muted_glyph\":null,\"nonselection_glyph\":{\"id\":\"6571\",\"type\":\"Rect\"},\"selection_glyph\":null,\"view\":{\"id\":\"6573\",\"type\":\"CDSView\"}},\"id\":\"6572\",\"type\":\"GlyphRenderer\"},{\"attributes\":{\"source\":{\"id\":\"6569\",\"type\":\"ColumnDataSource\"}},\"id\":\"6573\",\"type\":\"CDSView\"},{\"attributes\":{\"ticker\":{\"id\":\"6535\",\"type\":\"CategoricalTicker\"}},\"id\":\"6537\",\"type\":\"Grid\"},{\"attributes\":{\"callback\":null,\"data\":{\"x0\":[\"apple\",\"xiaomi\"],\"x1\":[\"apple\",\"xiaomi\"],\"y0\":{\"__ndarray__\":\"AAAAwPekcUEAAAAA2J9OQQ==\",\"dtype\":\"float64\",\"shape\":[2]},\"y1\":{\"__ndarray__\":\"AAAAALT5YEEAAAAABL1BQQ==\",\"dtype\":\"float64\",\"shape\":[2]}},\"selected\":{\"id\":\"6879\",\"type\":\"Selection\"},\"selection_policy\":{\"id\":\"6878\",\"type\":\"UnionRenderers\"}},\"id\":\"6554\",\"type\":\"ColumnDataSource\"},{\"attributes\":{\"callback\":null,\"data\":{\"x\":[\"apple\",\"xiaomi\"],\"y\":{\"__ndarray__\":\"AAAAwPekcUEAAAAA2J9OQQ==\",\"dtype\":\"float64\",\"shape\":[2]}},\"selected\":{\"id\":\"6889\",\"type\":\"Selection\"},\"selection_policy\":{\"id\":\"6888\",\"type\":\"UnionRenderers\"}},\"id\":\"6579\",\"type\":\"ColumnDataSource\"},{\"attributes\":{\"line_color\":{\"value\":\"grey\"},\"line_width\":{\"value\":2},\"x0\":{\"field\":\"x0\"},\"x1\":{\"field\":\"x1\"},\"y0\":{\"field\":\"y0\"},\"y1\":{\"field\":\"y1\"}},\"id\":\"6560\",\"type\":\"Segment\"},{\"attributes\":{},\"id\":\"6878\",\"type\":\"UnionRenderers\"},{\"attributes\":{},\"id\":\"6535\",\"type\":\"CategoricalTicker\"},{\"attributes\":{\"fill_color\":{\"value\":\"#1f77b4\"},\"height\":{\"units\":\"data\",\"value\":0.01},\"line_color\":{\"value\":\"grey\"},\"width\":{\"units\":\"data\",\"value\":0.1},\"x\":{\"field\":\"x\"},\"y\":{\"field\":\"y\"}},\"id\":\"6575\",\"type\":\"Rect\"},{\"attributes\":{\"dimension\":1,\"ticker\":{\"id\":\"6539\",\"type\":\"BasicTicker\"}},\"id\":\"6542\",\"type\":\"Grid\"},{\"attributes\":{},\"id\":\"6879\",\"type\":\"Selection\"},{\"attributes\":{\"data_source\":{\"id\":\"6554\",\"type\":\"ColumnDataSource\"},\"glyph\":{\"id\":\"6555\",\"type\":\"Segment\"},\"hover_glyph\":null,\"muted_glyph\":null,\"nonselection_glyph\":{\"id\":\"6556\",\"type\":\"Segment\"},\"selection_glyph\":null,\"view\":{\"id\":\"6558\",\"type\":\"CDSView\"}},\"id\":\"6557\",\"type\":\"GlyphRenderer\"},{\"attributes\":{\"fill_alpha\":{\"value\":0.1},\"fill_color\":{\"value\":\"#1f77b4\"},\"height\":{\"units\":\"data\",\"value\":0.01},\"line_alpha\":{\"value\":0.1},\"line_color\":{\"value\":\"#1f77b4\"},\"width\":{\"units\":\"data\",\"value\":0.1},\"x\":{\"field\":\"x\"},\"y\":{\"field\":\"y\"}},\"id\":\"6576\",\"type\":\"Rect\"},{\"attributes\":{\"callback\":null,\"data\":{\"x0\":[\"apple\",\"xiaomi\"],\"x1\":[\"apple\",\"xiaomi\"],\"y0\":{\"__ndarray__\":\"AAAAAACI00AAAAAAAIizQA==\",\"dtype\":\"float64\",\"shape\":[2]},\"y1\":{\"__ndarray__\":\"AAAAANwQQ0EAAAAAmEsyQQ==\",\"dtype\":\"float64\",\"shape\":[2]}},\"selected\":{\"id\":\"6881\",\"type\":\"Selection\"},\"selection_policy\":{\"id\":\"6880\",\"type\":\"UnionRenderers\"}},\"id\":\"6559\",\"type\":\"ColumnDataSource\"},{\"attributes\":{},\"id\":\"6880\",\"type\":\"UnionRenderers\"},{\"attributes\":{\"line_color\":{\"value\":\"grey\"},\"line_width\":{\"value\":2},\"x0\":{\"field\":\"x0\"},\"x1\":{\"field\":\"x1\"},\"y0\":{\"field\":\"y0\"},\"y1\":{\"field\":\"y1\"}},\"id\":\"6555\",\"type\":\"Segment\"},{\"attributes\":{\"data_source\":{\"id\":\"6574\",\"type\":\"ColumnDataSource\"},\"glyph\":{\"id\":\"6575\",\"type\":\"Rect\"},\"hover_glyph\":null,\"muted_glyph\":null,\"nonselection_glyph\":{\"id\":\"6576\",\"type\":\"Rect\"},\"selection_glyph\":null,\"view\":{\"id\":\"6578\",\"type\":\"CDSView\"}},\"id\":\"6577\",\"type\":\"GlyphRenderer\"},{\"attributes\":{\"line_alpha\":{\"value\":0.1},\"line_color\":{\"value\":\"#1f77b4\"},\"line_width\":{\"value\":2},\"x0\":{\"field\":\"x0\"},\"x1\":{\"field\":\"x1\"},\"y0\":{\"field\":\"y0\"},\"y1\":{\"field\":\"y1\"}},\"id\":\"6561\",\"type\":\"Segment\"},{\"attributes\":{},\"id\":\"6881\",\"type\":\"Selection\"},{\"attributes\":{\"callback\":null},\"id\":\"6528\",\"type\":\"DataRange1d\"},{\"attributes\":{},\"id\":\"6889\",\"type\":\"Selection\"},{\"attributes\":{\"data_source\":{\"id\":\"6559\",\"type\":\"ColumnDataSource\"},\"glyph\":{\"id\":\"6560\",\"type\":\"Segment\"},\"hover_glyph\":null,\"muted_glyph\":null,\"nonselection_glyph\":{\"id\":\"6561\",\"type\":\"Segment\"},\"selection_glyph\":null,\"view\":{\"id\":\"6563\",\"type\":\"CDSView\"}},\"id\":\"6562\",\"type\":\"GlyphRenderer\"},{\"attributes\":{},\"id\":\"6530\",\"type\":\"CategoricalScale\"},{\"attributes\":{\"source\":{\"id\":\"6574\",\"type\":\"ColumnDataSource\"}},\"id\":\"6578\",\"type\":\"CDSView\"},{\"attributes\":{\"source\":{\"id\":\"6554\",\"type\":\"ColumnDataSource\"}},\"id\":\"6558\",\"type\":\"CDSView\"},{\"attributes\":{},\"id\":\"6882\",\"type\":\"UnionRenderers\"},{\"attributes\":{\"source\":{\"id\":\"6559\",\"type\":\"ColumnDataSource\"}},\"id\":\"6563\",\"type\":\"CDSView\"},{\"attributes\":{},\"id\":\"6544\",\"type\":\"WheelZoomTool\"},{\"attributes\":{},\"id\":\"6883\",\"type\":\"Selection\"},{\"attributes\":{\"text\":\"Xiaomi and Apple Price\"},\"id\":\"6524\",\"type\":\"Title\"},{\"attributes\":{\"callback\":null,\"data\":{\"name\":[\"( DUAL SIM ) iPhone XS MAX 256GB 256 Gold Grey Silver Garansi 1 Tahun\",\"APPLE IPHONE XSMAX 256GB DUAL SIM NANO+NANO GARANSI RESMI APPLE 1 THN\",\"(DUAL SIM) iPhone XS MAX 2018 256GB 256 Gold Grey Silver Garansi 1 Thn\",\"Xiaomi POCOPHONE F1 Ram 6GB/64GB Resmi TAM\",\"HP Oppo F9 4/64 F9 RAM 4GB ROM 64GB, resmi Alter Vivo V11 Pocophone F1\",\"XIAOMI MI 8 (6/128)\",\"POCOPHONE F1 6/128 GARANSI TAM - BLUE\",\"Xiaomi Redmi Note 7 Pro - New Original BNIB - Ram 6GB/128GB\",\"Xiaomi Pocophone F1 Ram 6GB/128GB Resmi TAM\",\"Pocophone f1 6/128 resmi tam black\",\"Pocophone f1 6/64 resmi tam\",\"XIAOMI MI 8 PRO RAM 8GB INTERNAL 128GB GLOBAL VERSION\",\"Xiaomi MiMax2 4gb\",\"Xiaomi Mi Mix 2 - 6GB/64GB\",\"Xiaomi Pocophone F1 - ram 6 memory 128 - Poco phone f1\",\"Xiaomi pocophone F1 Ram 6/128GB\",\"Xiaomi MI8 Global Black ram 6 internal 128 New Garansi\",\"xiaomi Pocophone F1\",\"Xiaomi Mi 5s Plus 4/64GB Gold\",\"xiaomi redmi Mi8 SE 6/64 - Garansi Distributor 1tahun\",\"POCOPHONE RAM 6 ROM 64 TAM\",\"XIAOMI MI 8 PRO (8/128GB)\",\"Xiaomi Mi Mix 3 Ram 6GB Rom 128GB Original New\",\"Xiaomi POCOPHONE F1 TAM 6/64\",\"Xiaomi Pocophone F1 Ram 6GB 128GB Global Snapdragon 845 Original\",\"XIAOMI MI 9 SE (6/64GB)\",\"POCOPHONE F1 6/128 GARANSI TAM - BLACK\",\"Xiaomi Mi 6x ram 6gb Memory 128gb\",\"Xiaomi Pocophone F1 Steel Blue 6/128GB 2nd Resmi TAM\",\"Xiaomi Mi Note 3 6/128 GB\",\"Xiaomi POCOPHONE F1 6/64 garansi distributor\",\"Xiaomi Pocophone F1\",\"XIAOMI MI 8 PRO - MI8 PRO 128GB RAM 8GB - NEW - BNIB - ORI\",\"Xiaomi Pocophone F1 6/128gb\",\"Xiaomi Mi Pad 4 - Black 64 GB Tidak Garansi\",\"Hp Xiomi pocophone f1\",\"Xiaomi mi8 se 6GB/64GB\",\"Xiaomi Mi 8 SE\",\"HP XIAOMI MI MAX 2 RAM 4/64 GARANSI DISTRIBUTOR\",\"Hp xiaomi 8\",\"XIAOMI MI 8 - XIAOMI MI8 64GB RAM 6GB - NEW - BNIB - 100% ORI\",\"Xiaomi Pocophone 6/64 Distri - Black\",\"XIAOMI MI9 / MI 9 RAM 6GB INTERNAL 64GB GARANSI DISTRIBUTOR 1 TAHUN\",\"HP XIAOMI MI MAX 3 (XIOMI MI MEX RAM 4/64 GB 64GB) GOLD- EMAS\",\"[NEW] XiaoMi Mi 8 6/128 GB - RAM 6GB - INTERNAL 128GB - MI8 - WHITE\",\"XIAOMI MI9 / MI 9 RAM 8GB INTERNAL 128GB GARANSI DISTRIBUTOR 1 TAHUN\",\"XIAOMI MI MIX 2 64GB RAM 6GB - NEW - BNIB - ORI\",\"Xiaomi Redmi Note 7 4/64 Garansi Resmi TAM\",\"Xiaomi Pocophone F1 ram 6 Internal 128 Gb - Garansi Distri\",\"Xiaomi Mi 8SE Ram 6 Garansi Distributor\",\"Xiaomi Mi 8 6GB / 128GB GARANSI DISTRIBUTOR 1 TAHUN\",\"XIAOMI MI 9 (6/128GB)\",\"XIAOMI REDMI NOTE 7 RAM 3 INTERNAL 32 GARANSI TAM RESMI\",\"Pocophone F1 Poco Phone F1 128 / 6 GB Garansi Resmi TAM\",\"Xiaomi Mi8 Black 64 GB\",\"XIAOMI POCOPHONE F1 64GB RAM 6GB Garansi Resmi Tam - Hitam\",\"Xiaomi mi 8 pro\",\"Xiaomi Pocophone F1 6/128 RAM 6GB ROM 128GB GARANSI RESMI TAM\",\"xiaomi Pocophone F1 128GB garansi TAM\",\"Pocophone F1 6GB RAM 128GB ROM\",\"Xiaomi Redmi 6 Pro\",\"Xiaomi Mi 8 SE 6 / 64 garansi Distributor\",\"Xiaomi Redmi Note 7 4/64 GB garansi resmi TAM - Black\",\"Pocophone F1 Ram 6GB\",\"Xiaomi Mi Note 3 Black - 128 GB \",\"Xiaomi Mi8\",\"XIAOMI MI NOTE PRO 4/64GB GOLD\",\"Xiaomi Mi Note 3 Black - 64 GB\",\"XIAOMI MI 6 64GB RAM 6GB - NEW - 100% ORI - BNIB\",\"XIAOMI MI9 / MI 9 RAM 6GB INTERNAL 128GB GARANSI DISTRIBUTOR 1 TAHUN\",\"XIAOMI MI 9 GLOBAL VERSION 6/128 GB GARANSI DISTRI 1 TAHUN\",\"XIAOMI MI MIX 256GB RAM 6\",\"Xiaomi pocophone F1 6/64\",\"New Handphone Xiaomi Redmi Note 7 4/64 Resmi TAM\",\"ORIGINAL XIAOMI POCOPHONE F1 RAM 6GB/64GB GARANSI 1THN RESMI TAM WARNA\",\"Xiaomi Mi Mix 3 Ram 6 / 128 GB\",\"xiaomi pocophone F1 ram 6 64 gb black garansi resmi tam\",\"Xiaomi Pocophone F1 RAM 6GB Internal 64GB Grs Dist 1 Thn - Hitam\",\"XIAOMI MI 8 6/128 GARANSI DISTRI 1 TAHUN\",\"redmi note 6 pro\",\"XIAOMI REDMI NOTE 7 4/64 GARANSI RESMI DISTRIBUTOR 1 TAHUN\",\"Xiaomi Mi 8 SE Smartphone 4GB 64GB\",\"Xiaomi Pocophone F1 128GB BNIB TAM\",\"BLACK SHARK 2 / BLACKSHARK 2 XIAOMI 8/128 - RAM 8GB - INTERNAL 128GB\",\"Xiaomi Mi 8 Ram 6GB Internal 128GB Garansi Distributor\",\"Xiaomi Pocophone f1 4/64 GB\",\"Redmi Note 7 4/64gb\",\"Xiaomi Mi8 Lite 4/64 Black\",\"Xiaomi Pocophone F1 - 6GB 128GB (6/128) - Blue - Baru NEW - Resmi TAM\",\"Xiaomi Mi Mix 2 Black - 256 GB\",\"Custom order: bundling xiaomi mi 6 pro black dan mi 2 4G black\",\"POCOPHONE F1 6/64 GB - Hitam\",\"Xiaomi POCOPHONE F1 Ram 6GB/64GB Resmi TAM\",\"Xiaomi Mi 8 Pro RAM 6GB INTERNAL 128GB Garansi Distri\",\"Xiaomi Mi 6x Ram 4/64 - Garansi Distributor 1 Tahun\",\"XIAOMI MI 9 SE RAM (6/128 GB) GARANSI DISTRIBUTOR\",\"XIAOMI MI 8 RAM 6GB INTERNAL 128GB BNIB\",\"XIAOMI MI 9 RAM 6GB INTERNAL 128GB GLOBAL VERSION BNIB\",\"XIAOMI MI 8 6/128 GB - RAM 6GB - INTERNAL 128GB - MI8\",\"Xiaomi Pocophone F1 6/128 GB - Garansi Resmi TAM\",\"XIAOMI MI MIX 2S 128GB RAM 6GB - NEW - BNIB - 100% ORI\",\"Xiaomi Pocophone F1 RAM 6GB Internal 128GB Garansi Distributor 1 Tahun\",\"Xiaomi pocophone F1 TAM\",\"XIAOMI Mi 8 Lite [4/64GB] - Aurora Blue\",\"XIAOMI MI 8 RAM 6/128 GB GARANSI DISTRIBUTOR\"],\"x\":[\"apple\",\"apple\",\"apple\",\"xiaomi\",\"xiaomi\",\"xiaomi\",\"xiaomi\",\"xiaomi\",\"xiaomi\",\"xiaomi\",\"xiaomi\",\"xiaomi\",\"xiaomi\",\"xiaomi\",\"xiaomi\",\"xiaomi\",\"xiaomi\",\"xiaomi\",\"xiaomi\",\"xiaomi\",\"xiaomi\",\"xiaomi\",\"xiaomi\",\"xiaomi\",\"xiaomi\",\"xiaomi\",\"xiaomi\",\"xiaomi\",\"xiaomi\",\"xiaomi\",\"xiaomi\",\"xiaomi\",\"xiaomi\",\"xiaomi\",\"xiaomi\",\"xiaomi\",\"xiaomi\",\"xiaomi\",\"xiaomi\",\"xiaomi\",\"xiaomi\",\"xiaomi\",\"xiaomi\",\"xiaomi\",\"xiaomi\",\"xiaomi\",\"xiaomi\",\"xiaomi\",\"xiaomi\",\"xiaomi\",\"xiaomi\",\"xiaomi\",\"xiaomi\",\"xiaomi\",\"xiaomi\",\"xiaomi\",\"xiaomi\",\"xiaomi\",\"xiaomi\",\"xiaomi\",\"xiaomi\",\"xiaomi\",\"xiaomi\",\"xiaomi\",\"xiaomi\",\"xiaomi\",\"xiaomi\",\"xiaomi\",\"xiaomi\",\"xiaomi\",\"xiaomi\",\"xiaomi\",\"xiaomi\",\"xiaomi\",\"xiaomi\",\"xiaomi\",\"xiaomi\",\"xiaomi\",\"xiaomi\",\"xiaomi\",\"xiaomi\",\"xiaomi\",\"xiaomi\",\"xiaomi\",\"xiaomi\",\"xiaomi\",\"xiaomi\",\"xiaomi\",\"xiaomi\",\"xiaomi\",\"xiaomi\",\"xiaomi\",\"xiaomi\",\"xiaomi\",\"xiaomi\",\"xiaomi\",\"xiaomi\",\"xiaomi\",\"xiaomi\",\"xiaomi\",\"xiaomi\",\"xiaomi\",\"xiaomi\",\"xiaomi\",\"xiaomi\"],\"y\":[18850000.0,18599000.0,18850000.0,4699000.0,5000000.0,5150000.0,5000000.0,4950000.0,5099000.0,4799000.0,4399000.0,5945000.0,4250000.0,6500000.0,4450000.0,4900000.0,4758000.0,5050000.0,4100000.0,4250000.0,4650000.0,6950000.0,6280000.0,4450000.0,4280000.0,4750000.0,5000000.0,4150000.0,4500000.0,5000000.0,4300000.0,4600000.0,6250000.0,4999000.0,4200000.0,4950000.0,4050000.0,4200000.0,4100000.0,4050000.0,4790000.0,4100000.0,5799000.0,4023300.0,5099000.0,7199000.0,4300000.0,4075000.0,4450000.0,4350000.0,4675000.0,7500000.0,4025000.0,4899000.0,5375000.0,4850000.0,6700000.0,4575000.0,4970000.0,4985000.0,4025000.0,4050000.0,4099999.0,4200000.0,4875000.0,5900000.0,4236000.0,4475000.0,4699000.0,6699000.0,6225000.0,8500000.0,4599000.0,4700000.0,4750000.0,6875000.0,4650000.0,4200000.0,4585000.0,4200000.0,4100000.0,4399000.0,5100000.0,7700000.0,5150000.0,5000000.0,4050000.0,4250000.0,4919000.0,9575000.0,4045000.0,4800000.0,4699000.0,6500000.0,4310000.0,4560000.0,4595000.0,6560000.0,4610000.0,4570000.0,6430000.0,4500000.0,4599000.0,4025000.0,4595000.0]},\"selected\":{\"id\":\"6891\",\"type\":\"Selection\"},\"selection_policy\":{\"id\":\"6890\",\"type\":\"UnionRenderers\"}},\"id\":\"6584\",\"type\":\"ColumnDataSource\"},{\"attributes\":{\"fill_color\":{\"value\":\"#1f77b4\"},\"height\":{\"units\":\"data\",\"value\":0.01},\"line_color\":{\"value\":\"grey\"},\"width\":{\"units\":\"data\",\"value\":0.1},\"x\":{\"field\":\"x\"},\"y\":{\"field\":\"y\"}},\"id\":\"6580\",\"type\":\"Rect\"},{\"attributes\":{},\"id\":\"6884\",\"type\":\"UnionRenderers\"},{\"attributes\":{\"fill_alpha\":{\"value\":0.1},\"fill_color\":{\"value\":\"#1f77b4\"},\"height\":{\"units\":\"data\",\"value\":0.01},\"line_alpha\":{\"value\":0.1},\"line_color\":{\"value\":\"#1f77b4\"},\"width\":{\"units\":\"data\",\"value\":0.1},\"x\":{\"field\":\"x\"},\"y\":{\"field\":\"y\"}},\"id\":\"6581\",\"type\":\"Rect\"},{\"attributes\":{\"callback\":null,\"data\":{\"height\":{\"__ndarray__\":\"AAAAACKyUkEAAAAA0AYlQQ==\",\"dtype\":\"float64\",\"shape\":[2]},\"x\":[\"apple\",\"xiaomi\"],\"y\":{\"__ndarray__\":\"AAAAAFeaWEEAAAAAVDg+QQ==\",\"dtype\":\"float64\",\"shape\":[2]}},\"selected\":{\"id\":\"6883\",\"type\":\"Selection\"},\"selection_policy\":{\"id\":\"6882\",\"type\":\"UnionRenderers\"}},\"id\":\"6564\",\"type\":\"ColumnDataSource\"},{\"attributes\":{},\"id\":\"6885\",\"type\":\"Selection\"},{\"attributes\":{\"formatter\":{\"id\":\"6876\",\"type\":\"CategoricalTickFormatter\"},\"ticker\":{\"id\":\"6535\",\"type\":\"CategoricalTicker\"}},\"id\":\"6534\",\"type\":\"CategoricalAxis\"},{\"attributes\":{\"data_source\":{\"id\":\"6579\",\"type\":\"ColumnDataSource\"},\"glyph\":{\"id\":\"6580\",\"type\":\"Rect\"},\"hover_glyph\":null,\"muted_glyph\":null,\"nonselection_glyph\":{\"id\":\"6581\",\"type\":\"Rect\"},\"selection_glyph\":null,\"view\":{\"id\":\"6583\",\"type\":\"CDSView\"}},\"id\":\"6582\",\"type\":\"GlyphRenderer\"},{\"attributes\":{\"fill_color\":{\"value\":\"#42b549\"},\"height\":{\"field\":\"height\",\"units\":\"data\"},\"line_color\":{\"value\":\"grey\"},\"width\":{\"units\":\"data\",\"value\":0.7},\"x\":{\"field\":\"x\"},\"y\":{\"field\":\"y\"}},\"id\":\"6565\",\"type\":\"Rect\"},{\"attributes\":{},\"id\":\"6886\",\"type\":\"UnionRenderers\"},{\"attributes\":{},\"id\":\"6543\",\"type\":\"PanTool\"},{\"attributes\":{},\"id\":\"6876\",\"type\":\"CategoricalTickFormatter\"},{\"attributes\":{},\"id\":\"6888\",\"type\":\"UnionRenderers\"},{\"attributes\":{\"source\":{\"id\":\"6579\",\"type\":\"ColumnDataSource\"}},\"id\":\"6583\",\"type\":\"CDSView\"},{\"attributes\":{},\"id\":\"6890\",\"type\":\"UnionRenderers\"},{\"attributes\":{\"fill_alpha\":{\"value\":0.1},\"fill_color\":{\"value\":\"#1f77b4\"},\"height\":{\"field\":\"height\",\"units\":\"data\"},\"line_alpha\":{\"value\":0.1},\"line_color\":{\"value\":\"#1f77b4\"},\"width\":{\"units\":\"data\",\"value\":0.7},\"x\":{\"field\":\"x\"},\"y\":{\"field\":\"y\"}},\"id\":\"6566\",\"type\":\"Rect\"},{\"attributes\":{\"active_drag\":\"auto\",\"active_inspect\":\"auto\",\"active_multi\":null,\"active_scroll\":\"auto\",\"active_tap\":\"auto\",\"tools\":[{\"id\":\"6543\",\"type\":\"PanTool\"},{\"id\":\"6544\",\"type\":\"WheelZoomTool\"},{\"id\":\"6545\",\"type\":\"ResetTool\"},{\"id\":\"6546\",\"type\":\"HoverTool\"},{\"id\":\"6547\",\"type\":\"SaveTool\"}]},\"id\":\"6548\",\"type\":\"Toolbar\"},{\"attributes\":{},\"id\":\"6547\",\"type\":\"SaveTool\"},{\"attributes\":{},\"id\":\"6891\",\"type\":\"Selection\"},{\"attributes\":{},\"id\":\"6590\",\"type\":\"NumeralTickFormatter\"},{\"attributes\":{\"data_source\":{\"id\":\"6564\",\"type\":\"ColumnDataSource\"},\"glyph\":{\"id\":\"6565\",\"type\":\"Rect\"},\"hover_glyph\":null,\"muted_glyph\":null,\"nonselection_glyph\":{\"id\":\"6566\",\"type\":\"Rect\"},\"selection_glyph\":null,\"view\":{\"id\":\"6568\",\"type\":\"CDSView\"}},\"id\":\"6567\",\"type\":\"GlyphRenderer\"},{\"attributes\":{\"callback\":null,\"tooltips\":[[\"Product\",\"@name\"]]},\"id\":\"6546\",\"type\":\"HoverTool\"},{\"attributes\":{\"source\":{\"id\":\"6564\",\"type\":\"ColumnDataSource\"}},\"id\":\"6568\",\"type\":\"CDSView\"},{\"attributes\":{},\"id\":\"6539\",\"type\":\"BasicTicker\"},{\"attributes\":{},\"id\":\"6887\",\"type\":\"Selection\"},{\"attributes\":{\"fill_alpha\":{\"value\":0.6},\"fill_color\":{\"value\":\"#fa591d\"},\"line_color\":{\"value\":\"#fa591d\"},\"size\":{\"units\":\"screen\",\"value\":6},\"x\":{\"field\":\"x\"},\"y\":{\"field\":\"y\"}},\"id\":\"6586\",\"type\":\"Circle\"},{\"attributes\":{\"callback\":null,\"data\":{\"x\":[\"apple\",\"xiaomi\"],\"y\":{\"__ndarray__\":\"AAAAAACI00AAAAAAAIizQA==\",\"dtype\":\"float64\",\"shape\":[2]}},\"selected\":{\"id\":\"6887\",\"type\":\"Selection\"},\"selection_policy\":{\"id\":\"6886\",\"type\":\"UnionRenderers\"}},\"id\":\"6574\",\"type\":\"ColumnDataSource\"},{\"attributes\":{},\"id\":\"6532\",\"type\":\"LinearScale\"},{\"attributes\":{\"callback\":null,\"factors\":[\"apple\",\"xiaomi\"]},\"id\":\"6526\",\"type\":\"FactorRange\"},{\"attributes\":{\"fill_alpha\":{\"value\":0.1},\"fill_color\":{\"value\":\"#1f77b4\"},\"line_alpha\":{\"value\":0.1},\"line_color\":{\"value\":\"#1f77b4\"},\"size\":{\"units\":\"screen\",\"value\":6},\"x\":{\"field\":\"x\"},\"y\":{\"field\":\"y\"}},\"id\":\"6587\",\"type\":\"Circle\"},{\"attributes\":{\"callback\":null,\"data\":{\"height\":{\"__ndarray__\":\"AAAAAGDjNkEAAAAAIKwaQQ==\",\"dtype\":\"float64\",\"shape\":[2]},\"x\":[\"apple\",\"xiaomi\"],\"y\":{\"__ndarray__\":\"AAAAALTJSEEAAAAAHKE1QQ==\",\"dtype\":\"float64\",\"shape\":[2]}},\"selected\":{\"id\":\"6885\",\"type\":\"Selection\"},\"selection_policy\":{\"id\":\"6884\",\"type\":\"UnionRenderers\"}},\"id\":\"6569\",\"type\":\"ColumnDataSource\"},{\"attributes\":{},\"id\":\"6545\",\"type\":\"ResetTool\"},{\"attributes\":{\"data_source\":{\"id\":\"6584\",\"type\":\"ColumnDataSource\"},\"glyph\":{\"id\":\"6586\",\"type\":\"Circle\"},\"hover_glyph\":null,\"muted_glyph\":null,\"nonselection_glyph\":{\"id\":\"6587\",\"type\":\"Circle\"},\"selection_glyph\":null,\"view\":{\"id\":\"6589\",\"type\":\"CDSView\"}},\"id\":\"6588\",\"type\":\"GlyphRenderer\"},{\"attributes\":{\"fill_color\":{\"value\":\"white\"},\"height\":{\"field\":\"height\",\"units\":\"data\"},\"line_color\":{\"value\":\"grey\"},\"width\":{\"units\":\"data\",\"value\":0.7},\"x\":{\"field\":\"x\"},\"y\":{\"field\":\"y\"}},\"id\":\"6570\",\"type\":\"Rect\"},{\"attributes\":{\"line_alpha\":{\"value\":0.1},\"line_color\":{\"value\":\"#1f77b4\"},\"line_width\":{\"value\":2},\"x0\":{\"field\":\"x0\"},\"x1\":{\"field\":\"x1\"},\"y0\":{\"field\":\"y0\"},\"y1\":{\"field\":\"y1\"}},\"id\":\"6556\",\"type\":\"Segment\"},{\"attributes\":{\"source\":{\"id\":\"6584\",\"type\":\"ColumnDataSource\"}},\"id\":\"6589\",\"type\":\"CDSView\"},{\"attributes\":{\"fill_alpha\":{\"value\":0.1},\"fill_color\":{\"value\":\"#1f77b4\"},\"height\":{\"field\":\"height\",\"units\":\"data\"},\"line_alpha\":{\"value\":0.1},\"line_color\":{\"value\":\"#1f77b4\"},\"width\":{\"units\":\"data\",\"value\":0.7},\"x\":{\"field\":\"x\"},\"y\":{\"field\":\"y\"}},\"id\":\"6571\",\"type\":\"Rect\"},{\"attributes\":{\"formatter\":{\"id\":\"6590\",\"type\":\"NumeralTickFormatter\"},\"ticker\":{\"id\":\"6539\",\"type\":\"BasicTicker\"}},\"id\":\"6538\",\"type\":\"LinearAxis\"}],\"root_ids\":[\"6523\"]},\"title\":\"Bokeh Application\",\"version\":\"1.2.0\"}};\n",
       "  var render_items = [{\"docid\":\"46e9cb7f-9001-4322-a85c-e52bc2e355b7\",\"roots\":{\"6523\":\"02551d42-b40c-43a9-b73b-35bf873a7d6d\"}}];\n",
       "  root.Bokeh.embed.embed_items_notebook(docs_json, render_items);\n",
       "\n",
       "  }\n",
       "  if (root.Bokeh !== undefined) {\n",
       "    embed_document(root);\n",
       "  } else {\n",
       "    var attempts = 0;\n",
       "    var timer = setInterval(function(root) {\n",
       "      if (root.Bokeh !== undefined) {\n",
       "        embed_document(root);\n",
       "        clearInterval(timer);\n",
       "      }\n",
       "      attempts++;\n",
       "      if (attempts > 100) {\n",
       "        console.log(\"Bokeh: ERROR: Unable to run BokehJS code because BokehJS library is missing\");\n",
       "        clearInterval(timer);\n",
       "      }\n",
       "    }, 10, root)\n",
       "  }\n",
       "})(window);"
      ],
      "application/vnd.bokehjs_exec.v0+json": ""
     },
     "metadata": {
      "application/vnd.bokehjs_exec.v0+json": {
       "id": "6523"
      }
     },
     "output_type": "display_data"
    }
   ],
   "source": [
    "from bokeh.plotting import figure\n",
    "from bokeh.models import ColumnDataSource\n",
    "from bokeh.models.formatters import NumeralTickFormatter\n",
    "\n",
    "# Create figure\n",
    "p = figure(title='Xiaomi and Apple Price',\n",
    "           plot_width = 700,\n",
    "           plot_height = 300,\n",
    "           tools = ['pan', 'wheel_zoom', 'reset', 'hover', 'save'],\n",
    "           tooltips = [('Product','@name')],\n",
    "           x_range=brands)\n",
    "\n",
    "## No outliers would shrink the fence to minimum and maximum\n",
    "qmin = groups.quantile(q=0.00)\n",
    "qmax = groups.quantile(q=1.00)\n",
    "upper_fence.price = [min([x,y]) for (x,y) in zip(list(qmax.iloc[:,0]),upper_fence.price) ]\n",
    "lower_fence.price = [max([x,y]) for (x,y) in zip(list(qmin.iloc[:,0]),lower_fence.price) ]\n",
    "\n",
    "## Create whisker\n",
    "p.segment(brands, upper_fence.price, brands, q3.price, line_width=2, line_color=\"grey\")\n",
    "p.segment(brands, lower_fence.price, brands, q1.price, line_width=2, line_color=\"grey\")\n",
    "\n",
    "\n",
    "## Create box\n",
    "p.rect(brands, (q3.price+q2.price)/2, 0.7, q3.price-q2.price,\n",
    "    fill_color=\"#42b549\", line_width=1, line_color=\"grey\")\n",
    "p.rect(brands, (q2.price+q1.price)/2, 0.7, q2.price-q1.price,\n",
    "    fill_color=\"white\", line_width=1, line_color=\"grey\")\n",
    "\n",
    "## Create fence\n",
    "p.rect(brands, lower_fence.price, 0.1, 0.01, line_color=\"grey\")\n",
    "p.rect(brands, upper_fence.price, 0.1, 0.01, line_color=\"grey\")\n",
    "\n",
    "## Plot outliers\n",
    "p.circle('x', 'y', \n",
    "         size=6, \n",
    "         color=\"#fa591d\", \n",
    "         fill_alpha=0.6, \n",
    "         source=ColumnDataSource(out))\n",
    "\n",
    "p.yaxis.formatter = NumeralTickFormatter(format=\"0,0\")\n",
    "\n",
    "show(p)"
   ]
  },
  {
   "cell_type": "markdown",
   "metadata": {},
   "source": [
    "## Covariance and Correlation\n",
    "\n",
    "When we have two samples, X and Y, of the same size, then the **covariance** is an estimate of how **variation in X is related to the variation in Y**. Covariance measures how two variables *covary* and is represented as:\n",
    "\n",
    "$Cov(X,Y) = \\frac{1}{n-1} \\sum_{i=1}^{n}(X_i - \\mu_X)(Y_i - \\mu_Y)$"
   ]
  },
  {
   "cell_type": "code",
   "execution_count": 86,
   "metadata": {},
   "outputs": [
    {
     "data": {
      "text/html": [
       "<div>\n",
       "<style scoped>\n",
       "    .dataframe tbody tr th:only-of-type {\n",
       "        vertical-align: middle;\n",
       "    }\n",
       "\n",
       "    .dataframe tbody tr th {\n",
       "        vertical-align: top;\n",
       "    }\n",
       "\n",
       "    .dataframe thead th {\n",
       "        text-align: right;\n",
       "    }\n",
       "</style>\n",
       "<table border=\"1\" class=\"dataframe\">\n",
       "  <thead>\n",
       "    <tr style=\"text-align: right;\">\n",
       "      <th></th>\n",
       "      <th>price</th>\n",
       "      <th>review</th>\n",
       "      <th>installment</th>\n",
       "      <th>rating</th>\n",
       "    </tr>\n",
       "  </thead>\n",
       "  <tbody>\n",
       "    <tr>\n",
       "      <th>price</th>\n",
       "      <td>5.851683e+12</td>\n",
       "      <td>-3.626288e+07</td>\n",
       "      <td>2.438004e+11</td>\n",
       "      <td>66207.455167</td>\n",
       "    </tr>\n",
       "    <tr>\n",
       "      <th>review</th>\n",
       "      <td>-3.626288e+07</td>\n",
       "      <td>3.081258e+04</td>\n",
       "      <td>-1.511326e+06</td>\n",
       "      <td>-1.744481</td>\n",
       "    </tr>\n",
       "    <tr>\n",
       "      <th>installment</th>\n",
       "      <td>2.438004e+11</td>\n",
       "      <td>-1.511326e+06</td>\n",
       "      <td>1.015783e+10</td>\n",
       "      <td>2759.214768</td>\n",
       "    </tr>\n",
       "    <tr>\n",
       "      <th>rating</th>\n",
       "      <td>6.620746e+04</td>\n",
       "      <td>-1.744481e+00</td>\n",
       "      <td>2.759215e+03</td>\n",
       "      <td>0.035065</td>\n",
       "    </tr>\n",
       "  </tbody>\n",
       "</table>\n",
       "</div>"
      ],
      "text/plain": [
       "                    price        review   installment        rating\n",
       "price        5.851683e+12 -3.626288e+07  2.438004e+11  66207.455167\n",
       "review      -3.626288e+07  3.081258e+04 -1.511326e+06     -1.744481\n",
       "installment  2.438004e+11 -1.511326e+06  1.015783e+10   2759.214768\n",
       "rating       6.620746e+04 -1.744481e+00  2.759215e+03      0.035065"
      ]
     },
     "execution_count": 86,
     "metadata": {},
     "output_type": "execute_result"
    }
   ],
   "source": [
    "hp.cov()"
   ]
  },
  {
   "cell_type": "markdown",
   "metadata": {},
   "source": [
    "Getting a negative covariance means that smaller X tends to be associated with larger Y (and vice versa). The covariance of any variable with itself is its variance2. Notice also that $Cov(X,Y) = Cov(Y,X)$."
   ]
  },
  {
   "cell_type": "markdown",
   "metadata": {},
   "source": [
    "**Correlation**, unlike covariance, is not sensitive to the units in which our variables X and Y are measured and hence more useful for determining how strong the relationship is between variables:"
   ]
  },
  {
   "cell_type": "code",
   "execution_count": 87,
   "metadata": {},
   "outputs": [
    {
     "data": {
      "text/html": [
       "<div>\n",
       "<style scoped>\n",
       "    .dataframe tbody tr th:only-of-type {\n",
       "        vertical-align: middle;\n",
       "    }\n",
       "\n",
       "    .dataframe tbody tr th {\n",
       "        vertical-align: top;\n",
       "    }\n",
       "\n",
       "    .dataframe thead th {\n",
       "        text-align: right;\n",
       "    }\n",
       "</style>\n",
       "<table border=\"1\" class=\"dataframe\">\n",
       "  <thead>\n",
       "    <tr style=\"text-align: right;\">\n",
       "      <th></th>\n",
       "      <th>price</th>\n",
       "      <th>review</th>\n",
       "      <th>installment</th>\n",
       "      <th>rating</th>\n",
       "    </tr>\n",
       "  </thead>\n",
       "  <tbody>\n",
       "    <tr>\n",
       "      <th>price</th>\n",
       "      <td>1.000000</td>\n",
       "      <td>-0.085400</td>\n",
       "      <td>0.999985</td>\n",
       "      <td>0.146161</td>\n",
       "    </tr>\n",
       "    <tr>\n",
       "      <th>review</th>\n",
       "      <td>-0.085400</td>\n",
       "      <td>1.000000</td>\n",
       "      <td>-0.085427</td>\n",
       "      <td>-0.053072</td>\n",
       "    </tr>\n",
       "    <tr>\n",
       "      <th>installment</th>\n",
       "      <td>0.999985</td>\n",
       "      <td>-0.085427</td>\n",
       "      <td>1.000000</td>\n",
       "      <td>0.146201</td>\n",
       "    </tr>\n",
       "    <tr>\n",
       "      <th>rating</th>\n",
       "      <td>0.146161</td>\n",
       "      <td>-0.053072</td>\n",
       "      <td>0.146201</td>\n",
       "      <td>1.000000</td>\n",
       "    </tr>\n",
       "  </tbody>\n",
       "</table>\n",
       "</div>"
      ],
      "text/plain": [
       "                price    review  installment    rating\n",
       "price        1.000000 -0.085400     0.999985  0.146161\n",
       "review      -0.085400  1.000000    -0.085427 -0.053072\n",
       "installment  0.999985 -0.085427     1.000000  0.146201\n",
       "rating       0.146161 -0.053072     0.146201  1.000000"
      ]
     },
     "execution_count": 87,
     "metadata": {},
     "output_type": "execute_result"
    }
   ],
   "source": [
    "hp.corr()"
   ]
  },
  {
   "cell_type": "markdown",
   "metadata": {},
   "source": [
    "Some facts about correlation:  \n",
    "- $Cor(X,Y) == Cor(Y,X) $ \n",
    "- $-1 <= Cor(X,Y) <= 1 $ \n",
    "- $Cor(X,Y)$ is 1 or -1 only when the X and Y observations fall perfectly on a positive or negatively sloped line  \n",
    "- $Cor(X,Y) = 0$ implies no linear relationship  "
   ]
  },
  {
   "cell_type": "markdown",
   "metadata": {},
   "source": [
    "Say you had a rather large amount of variables in your hand. While python can handle large numbers well, a visualization technique called correlation plot can save you some time in inspecting your data. First let's create the dictionary for each correlation value per pairs:"
   ]
  },
  {
   "cell_type": "code",
   "execution_count": 211,
   "metadata": {},
   "outputs": [],
   "source": [
    "corr_table = hp.corr()\n",
    "\n",
    "val = []\n",
    "x = []\n",
    "y = []\n",
    "\n",
    "for index,row in corr_table.iterrows():\n",
    "    i = row.index.tolist()\n",
    "    for e in range(0,len(row)):\n",
    "        val.append(row[e])\n",
    "        y.append(index)\n",
    "        x.append(row.index.tolist()[e])\n",
    "        \n",
    "rect_dict = dict(x=x, y=y, corr=val)"
   ]
  },
  {
   "cell_type": "markdown",
   "metadata": {},
   "source": [
    "Next, use a `rect()` glyph to create each box. The plot will provide you with quick inspection in determining a higher correlated variables (yellow), and a lower one (purple):"
   ]
  },
  {
   "cell_type": "code",
   "execution_count": 256,
   "metadata": {},
   "outputs": [
    {
     "data": {
      "text/html": [
       "\n",
       "\n",
       "\n",
       "\n",
       "\n",
       "\n",
       "  <div class=\"bk-root\" id=\"e04459dc-a283-4e70-a8e2-387f4b861235\" data-root-id=\"23646\"></div>\n"
      ]
     },
     "metadata": {},
     "output_type": "display_data"
    },
    {
     "data": {
      "application/javascript": [
       "(function(root) {\n",
       "  function embed_document(root) {\n",
       "    \n",
       "  var docs_json = {\"673fe037-cafb-418e-b2d2-a236e11d4c60\":{\"roots\":{\"references\":[{\"attributes\":{\"below\":[{\"id\":\"23657\",\"type\":\"CategoricalAxis\"}],\"center\":[{\"id\":\"23660\",\"type\":\"Grid\"},{\"id\":\"23664\",\"type\":\"Grid\"}],\"left\":[{\"id\":\"23661\",\"type\":\"CategoricalAxis\"}],\"plot_height\":500,\"plot_width\":500,\"renderers\":[{\"id\":\"23673\",\"type\":\"GlyphRenderer\"}],\"title\":{\"id\":\"23647\",\"type\":\"Title\"},\"toolbar\":{\"id\":\"23666\",\"type\":\"Toolbar\"},\"toolbar_location\":null,\"x_range\":{\"id\":\"23649\",\"type\":\"FactorRange\"},\"x_scale\":{\"id\":\"23653\",\"type\":\"CategoricalScale\"},\"y_range\":{\"id\":\"23651\",\"type\":\"FactorRange\"},\"y_scale\":{\"id\":\"23655\",\"type\":\"CategoricalScale\"}},\"id\":\"23646\",\"subtype\":\"Figure\",\"type\":\"Plot\"},{\"attributes\":{\"ticker\":{\"id\":\"23658\",\"type\":\"CategoricalTicker\"}},\"id\":\"23660\",\"type\":\"Grid\"},{\"attributes\":{\"dimension\":1,\"ticker\":{\"id\":\"23662\",\"type\":\"CategoricalTicker\"}},\"id\":\"23664\",\"type\":\"Grid\"},{\"attributes\":{},\"id\":\"24233\",\"type\":\"Selection\"},{\"attributes\":{\"formatter\":{\"id\":\"24228\",\"type\":\"CategoricalTickFormatter\"},\"ticker\":{\"id\":\"23662\",\"type\":\"CategoricalTicker\"}},\"id\":\"23661\",\"type\":\"CategoricalAxis\"},{\"attributes\":{\"fill_color\":{\"field\":\"corr\",\"transform\":{\"id\":\"23669\",\"type\":\"LinearColorMapper\"}},\"height\":{\"units\":\"data\",\"value\":1},\"line_color\":{\"field\":\"corr\",\"transform\":{\"id\":\"23669\",\"type\":\"LinearColorMapper\"}},\"width\":{\"units\":\"data\",\"value\":1},\"x\":{\"field\":\"x\"},\"y\":{\"field\":\"y\"}},\"id\":\"23671\",\"type\":\"Rect\"},{\"attributes\":{\"callback\":null,\"factors\":[\"price\",\"review\",\"installment\",\"rating\"]},\"id\":\"23651\",\"type\":\"FactorRange\"},{\"attributes\":{\"data_source\":{\"id\":\"23668\",\"type\":\"ColumnDataSource\"},\"glyph\":{\"id\":\"23671\",\"type\":\"Rect\"},\"hover_glyph\":null,\"muted_glyph\":null,\"nonselection_glyph\":{\"id\":\"23672\",\"type\":\"Rect\"},\"selection_glyph\":null,\"view\":{\"id\":\"23674\",\"type\":\"CDSView\"}},\"id\":\"23673\",\"type\":\"GlyphRenderer\"},{\"attributes\":{\"callback\":null,\"tooltips\":[[\"Correlation\",\"@corr{0.0000}\"]]},\"id\":\"23665\",\"type\":\"HoverTool\"},{\"attributes\":{\"callback\":null,\"factors\":[\"price\",\"review\",\"installment\",\"rating\"]},\"id\":\"23649\",\"type\":\"FactorRange\"},{\"attributes\":{},\"id\":\"23662\",\"type\":\"CategoricalTicker\"},{\"attributes\":{\"fill_alpha\":{\"value\":0.1},\"fill_color\":{\"value\":\"#1f77b4\"},\"height\":{\"units\":\"data\",\"value\":1},\"line_alpha\":{\"value\":0.1},\"line_color\":{\"value\":\"#1f77b4\"},\"width\":{\"units\":\"data\",\"value\":1},\"x\":{\"field\":\"x\"},\"y\":{\"field\":\"y\"}},\"id\":\"23672\",\"type\":\"Rect\"},{\"attributes\":{},\"id\":\"23653\",\"type\":\"CategoricalScale\"},{\"attributes\":{},\"id\":\"24230\",\"type\":\"CategoricalTickFormatter\"},{\"attributes\":{\"formatter\":{\"id\":\"24230\",\"type\":\"CategoricalTickFormatter\"},\"ticker\":{\"id\":\"23658\",\"type\":\"CategoricalTicker\"}},\"id\":\"23657\",\"type\":\"CategoricalAxis\"},{\"attributes\":{\"high\":1,\"low\":-1,\"palette\":[\"#0C0786\",\"#100787\",\"#130689\",\"#15068A\",\"#18068B\",\"#1B068C\",\"#1D068D\",\"#1F058E\",\"#21058F\",\"#230590\",\"#250591\",\"#270592\",\"#290593\",\"#2B0594\",\"#2D0494\",\"#2F0495\",\"#310496\",\"#330497\",\"#340498\",\"#360498\",\"#380499\",\"#3A049A\",\"#3B039A\",\"#3D039B\",\"#3F039C\",\"#40039C\",\"#42039D\",\"#44039E\",\"#45039E\",\"#47029F\",\"#49029F\",\"#4A02A0\",\"#4C02A1\",\"#4E02A1\",\"#4F02A2\",\"#5101A2\",\"#5201A3\",\"#5401A3\",\"#5601A3\",\"#5701A4\",\"#5901A4\",\"#5A00A5\",\"#5C00A5\",\"#5E00A5\",\"#5F00A6\",\"#6100A6\",\"#6200A6\",\"#6400A7\",\"#6500A7\",\"#6700A7\",\"#6800A7\",\"#6A00A7\",\"#6C00A8\",\"#6D00A8\",\"#6F00A8\",\"#7000A8\",\"#7200A8\",\"#7300A8\",\"#7500A8\",\"#7601A8\",\"#7801A8\",\"#7901A8\",\"#7B02A8\",\"#7C02A7\",\"#7E03A7\",\"#7F03A7\",\"#8104A7\",\"#8204A7\",\"#8405A6\",\"#8506A6\",\"#8607A6\",\"#8807A5\",\"#8908A5\",\"#8B09A4\",\"#8C0AA4\",\"#8E0CA4\",\"#8F0DA3\",\"#900EA3\",\"#920FA2\",\"#9310A1\",\"#9511A1\",\"#9612A0\",\"#9713A0\",\"#99149F\",\"#9A159E\",\"#9B179E\",\"#9D189D\",\"#9E199C\",\"#9F1A9B\",\"#A01B9B\",\"#A21C9A\",\"#A31D99\",\"#A41E98\",\"#A51F97\",\"#A72197\",\"#A82296\",\"#A92395\",\"#AA2494\",\"#AC2593\",\"#AD2692\",\"#AE2791\",\"#AF2890\",\"#B02A8F\",\"#B12B8F\",\"#B22C8E\",\"#B42D8D\",\"#B52E8C\",\"#B62F8B\",\"#B7308A\",\"#B83289\",\"#B93388\",\"#BA3487\",\"#BB3586\",\"#BC3685\",\"#BD3784\",\"#BE3883\",\"#BF3982\",\"#C03B81\",\"#C13C80\",\"#C23D80\",\"#C33E7F\",\"#C43F7E\",\"#C5407D\",\"#C6417C\",\"#C7427B\",\"#C8447A\",\"#C94579\",\"#CA4678\",\"#CB4777\",\"#CC4876\",\"#CD4975\",\"#CE4A75\",\"#CF4B74\",\"#D04D73\",\"#D14E72\",\"#D14F71\",\"#D25070\",\"#D3516F\",\"#D4526E\",\"#D5536D\",\"#D6556D\",\"#D7566C\",\"#D7576B\",\"#D8586A\",\"#D95969\",\"#DA5A68\",\"#DB5B67\",\"#DC5D66\",\"#DC5E66\",\"#DD5F65\",\"#DE6064\",\"#DF6163\",\"#DF6262\",\"#E06461\",\"#E16560\",\"#E26660\",\"#E3675F\",\"#E3685E\",\"#E46A5D\",\"#E56B5C\",\"#E56C5B\",\"#E66D5A\",\"#E76E5A\",\"#E87059\",\"#E87158\",\"#E97257\",\"#EA7356\",\"#EA7455\",\"#EB7654\",\"#EC7754\",\"#EC7853\",\"#ED7952\",\"#ED7B51\",\"#EE7C50\",\"#EF7D4F\",\"#EF7E4E\",\"#F0804D\",\"#F0814D\",\"#F1824C\",\"#F2844B\",\"#F2854A\",\"#F38649\",\"#F38748\",\"#F48947\",\"#F48A47\",\"#F58B46\",\"#F58D45\",\"#F68E44\",\"#F68F43\",\"#F69142\",\"#F79241\",\"#F79341\",\"#F89540\",\"#F8963F\",\"#F8983E\",\"#F9993D\",\"#F99A3C\",\"#FA9C3B\",\"#FA9D3A\",\"#FA9F3A\",\"#FAA039\",\"#FBA238\",\"#FBA337\",\"#FBA436\",\"#FCA635\",\"#FCA735\",\"#FCA934\",\"#FCAA33\",\"#FCAC32\",\"#FCAD31\",\"#FDAF31\",\"#FDB030\",\"#FDB22F\",\"#FDB32E\",\"#FDB52D\",\"#FDB62D\",\"#FDB82C\",\"#FDB92B\",\"#FDBB2B\",\"#FDBC2A\",\"#FDBE29\",\"#FDC029\",\"#FDC128\",\"#FDC328\",\"#FDC427\",\"#FDC626\",\"#FCC726\",\"#FCC926\",\"#FCCB25\",\"#FCCC25\",\"#FCCE25\",\"#FBD024\",\"#FBD124\",\"#FBD324\",\"#FAD524\",\"#FAD624\",\"#FAD824\",\"#F9D924\",\"#F9DB24\",\"#F8DD24\",\"#F8DF24\",\"#F7E024\",\"#F7E225\",\"#F6E425\",\"#F6E525\",\"#F5E726\",\"#F5E926\",\"#F4EA26\",\"#F3EC26\",\"#F3EE26\",\"#F2F026\",\"#F2F126\",\"#F1F326\",\"#F0F525\",\"#F0F623\",\"#EFF821\"]},\"id\":\"23669\",\"type\":\"LinearColorMapper\"},{\"attributes\":{\"callback\":null,\"data\":{\"corr\":[1.0,-0.08540000631625969,0.9999852690071831,0.146161262981343,-0.08540000631625969,1.0,-0.08542672928219056,-0.05307230002417964,0.9999852690071831,-0.08542672928219056,1.0,0.14620115843522424,0.146161262981343,-0.05307230002417964,0.14620115843522424,1.0],\"x\":[\"price\",\"review\",\"installment\",\"rating\",\"price\",\"review\",\"installment\",\"rating\",\"price\",\"review\",\"installment\",\"rating\",\"price\",\"review\",\"installment\",\"rating\"],\"y\":[\"price\",\"price\",\"price\",\"price\",\"review\",\"review\",\"review\",\"review\",\"installment\",\"installment\",\"installment\",\"installment\",\"rating\",\"rating\",\"rating\",\"rating\"]},\"selected\":{\"id\":\"24233\",\"type\":\"Selection\"},\"selection_policy\":{\"id\":\"24232\",\"type\":\"UnionRenderers\"}},\"id\":\"23668\",\"type\":\"ColumnDataSource\"},{\"attributes\":{},\"id\":\"23655\",\"type\":\"CategoricalScale\"},{\"attributes\":{},\"id\":\"23658\",\"type\":\"CategoricalTicker\"},{\"attributes\":{\"source\":{\"id\":\"23668\",\"type\":\"ColumnDataSource\"}},\"id\":\"23674\",\"type\":\"CDSView\"},{\"attributes\":{\"text\":\"Correlation Heatmap\"},\"id\":\"23647\",\"type\":\"Title\"},{\"attributes\":{},\"id\":\"24228\",\"type\":\"CategoricalTickFormatter\"},{\"attributes\":{\"active_drag\":\"auto\",\"active_inspect\":\"auto\",\"active_multi\":null,\"active_scroll\":\"auto\",\"active_tap\":\"auto\",\"tools\":[{\"id\":\"23665\",\"type\":\"HoverTool\"}]},\"id\":\"23666\",\"type\":\"Toolbar\"},{\"attributes\":{},\"id\":\"24232\",\"type\":\"UnionRenderers\"}],\"root_ids\":[\"23646\"]},\"title\":\"Bokeh Application\",\"version\":\"1.2.0\"}};\n",
       "  var render_items = [{\"docid\":\"673fe037-cafb-418e-b2d2-a236e11d4c60\",\"roots\":{\"23646\":\"e04459dc-a283-4e70-a8e2-387f4b861235\"}}];\n",
       "  root.Bokeh.embed.embed_items_notebook(docs_json, render_items);\n",
       "\n",
       "  }\n",
       "  if (root.Bokeh !== undefined) {\n",
       "    embed_document(root);\n",
       "  } else {\n",
       "    var attempts = 0;\n",
       "    var timer = setInterval(function(root) {\n",
       "      if (root.Bokeh !== undefined) {\n",
       "        embed_document(root);\n",
       "        clearInterval(timer);\n",
       "      }\n",
       "      attempts++;\n",
       "      if (attempts > 100) {\n",
       "        console.log(\"Bokeh: ERROR: Unable to run BokehJS code because BokehJS library is missing\");\n",
       "        clearInterval(timer);\n",
       "      }\n",
       "    }, 10, root)\n",
       "  }\n",
       "})(window);"
      ],
      "application/vnd.bokehjs_exec.v0+json": ""
     },
     "metadata": {
      "application/vnd.bokehjs_exec.v0+json": {
       "id": "23646"
      }
     },
     "output_type": "display_data"
    }
   ],
   "source": [
    "from bokeh.transform import linear_cmap\n",
    "from bokeh.palettes import all_palettes\n",
    "\n",
    "p = figure(title=\"Correlation Heatmap\", \n",
    "           x_range=corr_table.columns.tolist(), \n",
    "           y_range=corr_table.columns.tolist(),\n",
    "           toolbar_location=None,\n",
    "           tools='hover',\n",
    "           tooltips=[('Correlation','@corr{0.0000}')],\n",
    "           plot_width=500,\n",
    "           plot_height=500)\n",
    "\n",
    "p.rect('x', 'y',\n",
    "       source=ColumnDataSource(rect_dict),\n",
    "       color=linear_cmap('corr', all_palettes['Plasma'][256], -1, 1),\n",
    "       width=1, \n",
    "       height=1)\n",
    "\n",
    "show(p)"
   ]
  },
  {
   "cell_type": "markdown",
   "metadata": {},
   "source": [
    "## The Normal Distribution\n",
    "\n",
    "Another way of studying the central tendency and spread of data is through a curve: a curve is often used to represent a distribution and the most famous of all distributions is the normal curve.\n",
    "\n",
    "A normal distribution with a mean of 0 and standard deviation of 1 is called a **standard normal curve** and can be plotted with while specifying the limits for our x-axis:"
   ]
  },
  {
   "cell_type": "code",
   "execution_count": 336,
   "metadata": {},
   "outputs": [
    {
     "data": {
      "text/html": [
       "\n",
       "\n",
       "\n",
       "\n",
       "\n",
       "\n",
       "  <div class=\"bk-root\" id=\"d2b5c13f-6c76-4c2c-9b00-aa7c40b032a0\" data-root-id=\"67439\"></div>\n"
      ]
     },
     "metadata": {},
     "output_type": "display_data"
    },
    {
     "data": {
      "application/javascript": [
       "(function(root) {\n",
       "  function embed_document(root) {\n",
       "    \n",
       "  var docs_json = {\"e5bee8fb-157e-453d-918d-2cef77008441\":{\"roots\":{\"references\":[{\"attributes\":{\"below\":[{\"id\":\"67450\",\"type\":\"LinearAxis\"}],\"center\":[{\"id\":\"67454\",\"type\":\"Grid\"},{\"id\":\"67459\",\"type\":\"Grid\"},{\"id\":\"67474\",\"type\":\"Legend\"}],\"left\":[{\"id\":\"67455\",\"type\":\"LinearAxis\"}],\"plot_height\":500,\"plot_width\":800,\"renderers\":[{\"id\":\"67467\",\"type\":\"GlyphRenderer\"}],\"title\":{\"id\":\"67440\",\"type\":\"Title\"},\"toolbar\":{\"id\":\"67461\",\"type\":\"Toolbar\"},\"toolbar_location\":null,\"x_range\":{\"id\":\"67442\",\"type\":\"DataRange1d\"},\"x_scale\":{\"id\":\"67446\",\"type\":\"LinearScale\"},\"y_range\":{\"id\":\"67444\",\"type\":\"DataRange1d\"},\"y_scale\":{\"id\":\"67448\",\"type\":\"LinearScale\"}},\"id\":\"67439\",\"subtype\":\"Figure\",\"type\":\"Plot\"},{\"attributes\":{\"source\":{\"id\":\"67463\",\"type\":\"ColumnDataSource\"}},\"id\":\"67468\",\"type\":\"CDSView\"},{\"attributes\":{\"callback\":null,\"data\":{\"pdf\":{\"__ndarray__\":\"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\",\"dtype\":\"float64\",\"shape\":[1000]},\"x\":{\"__ndarray__\":\"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\",\"dtype\":\"float64\",\"shape\":[1000]}},\"selected\":{\"id\":\"68411\",\"type\":\"Selection\"},\"selection_policy\":{\"id\":\"68410\",\"type\":\"UnionRenderers\"}},\"id\":\"67463\",\"type\":\"ColumnDataSource\"},{\"attributes\":{\"text\":\"Normal Distribution (\\u03bc=0, \\u03c3=1)\"},\"id\":\"67440\",\"type\":\"Title\"},{\"attributes\":{},\"id\":\"67470\",\"type\":\"BasicTickFormatter\"},{\"attributes\":{\"callback\":null},\"id\":\"67442\",\"type\":\"DataRange1d\"},{\"attributes\":{},\"id\":\"67472\",\"type\":\"BasicTickFormatter\"},{\"attributes\":{\"callback\":null,\"start\":0},\"id\":\"67444\",\"type\":\"DataRange1d\"},{\"attributes\":{\"items\":[{\"id\":\"67475\",\"type\":\"LegendItem\"}],\"location\":\"center_right\"},\"id\":\"67474\",\"type\":\"Legend\"},{\"attributes\":{},\"id\":\"67446\",\"type\":\"LinearScale\"},{\"attributes\":{\"label\":{\"value\":\"PDF\"},\"renderers\":[{\"id\":\"67467\",\"type\":\"GlyphRenderer\"}]},\"id\":\"67475\",\"type\":\"LegendItem\"},{\"attributes\":{},\"id\":\"67448\",\"type\":\"LinearScale\"},{\"attributes\":{\"axis_label\":\"x\",\"formatter\":{\"id\":\"67472\",\"type\":\"BasicTickFormatter\"},\"ticker\":{\"id\":\"67451\",\"type\":\"BasicTicker\"}},\"id\":\"67450\",\"type\":\"LinearAxis\"},{\"attributes\":{},\"id\":\"67451\",\"type\":\"BasicTicker\"},{\"attributes\":{\"grid_line_color\":\"white\",\"ticker\":{\"id\":\"67451\",\"type\":\"BasicTicker\"}},\"id\":\"67454\",\"type\":\"Grid\"},{\"attributes\":{\"axis_label\":\"Pr(x)\",\"formatter\":{\"id\":\"67470\",\"type\":\"BasicTickFormatter\"},\"ticker\":{\"id\":\"67456\",\"type\":\"BasicTicker\"}},\"id\":\"67455\",\"type\":\"LinearAxis\"},{\"attributes\":{},\"id\":\"67456\",\"type\":\"BasicTicker\"},{\"attributes\":{},\"id\":\"68411\",\"type\":\"Selection\"},{\"attributes\":{\"dimension\":1,\"grid_line_color\":\"white\",\"ticker\":{\"id\":\"67456\",\"type\":\"BasicTicker\"}},\"id\":\"67459\",\"type\":\"Grid\"},{\"attributes\":{\"active_drag\":\"auto\",\"active_inspect\":\"auto\",\"active_multi\":null,\"active_scroll\":\"auto\",\"active_tap\":\"auto\",\"tools\":[{\"id\":\"67460\",\"type\":\"HoverTool\"}]},\"id\":\"67461\",\"type\":\"Toolbar\"},{\"attributes\":{\"callback\":null,\"tooltips\":[[\"Probability\",\"@pdf{0.00000}\"],[\"Sigma\",\"@x{0.00000}\"]]},\"id\":\"67460\",\"type\":\"HoverTool\"},{\"attributes\":{},\"id\":\"68410\",\"type\":\"UnionRenderers\"},{\"attributes\":{\"line_alpha\":0.7,\"line_color\":\"#ff8888\",\"line_width\":4,\"x\":{\"field\":\"x\"},\"y\":{\"field\":\"pdf\"}},\"id\":\"67465\",\"type\":\"Line\"},{\"attributes\":{\"line_alpha\":0.1,\"line_color\":\"#1f77b4\",\"line_width\":4,\"x\":{\"field\":\"x\"},\"y\":{\"field\":\"pdf\"}},\"id\":\"67466\",\"type\":\"Line\"},{\"attributes\":{\"data_source\":{\"id\":\"67463\",\"type\":\"ColumnDataSource\"},\"glyph\":{\"id\":\"67465\",\"type\":\"Line\"},\"hover_glyph\":null,\"muted_glyph\":null,\"nonselection_glyph\":{\"id\":\"67466\",\"type\":\"Line\"},\"selection_glyph\":null,\"view\":{\"id\":\"67468\",\"type\":\"CDSView\"}},\"id\":\"67467\",\"type\":\"GlyphRenderer\"}],\"root_ids\":[\"67439\"]},\"title\":\"Bokeh Application\",\"version\":\"1.2.0\"}};\n",
       "  var render_items = [{\"docid\":\"e5bee8fb-157e-453d-918d-2cef77008441\",\"roots\":{\"67439\":\"d2b5c13f-6c76-4c2c-9b00-aa7c40b032a0\"}}];\n",
       "  root.Bokeh.embed.embed_items_notebook(docs_json, render_items);\n",
       "\n",
       "  }\n",
       "  if (root.Bokeh !== undefined) {\n",
       "    embed_document(root);\n",
       "  } else {\n",
       "    var attempts = 0;\n",
       "    var timer = setInterval(function(root) {\n",
       "      if (root.Bokeh !== undefined) {\n",
       "        embed_document(root);\n",
       "        clearInterval(timer);\n",
       "      }\n",
       "      attempts++;\n",
       "      if (attempts > 100) {\n",
       "        console.log(\"Bokeh: ERROR: Unable to run BokehJS code because BokehJS library is missing\");\n",
       "        clearInterval(timer);\n",
       "      }\n",
       "    }, 10, root)\n",
       "  }\n",
       "})(window);"
      ],
      "application/vnd.bokehjs_exec.v0+json": ""
     },
     "metadata": {
      "application/vnd.bokehjs_exec.v0+json": {
       "id": "67439"
      }
     },
     "output_type": "display_data"
    }
   ],
   "source": [
    "import numpy as np\n",
    "import scipy\n",
    "\n",
    "def density_plot(title, x, pdf):\n",
    "    p = figure(title=title, \n",
    "               tools='hover',\n",
    "               toolbar_location=None,\n",
    "               tooltips=[('Probability','@pdf{0.00000}'),('Sigma','@x{0.00000}')],\n",
    "               plot_width=800, \n",
    "               plot_height=500)\n",
    "    \n",
    "    di = dict(x=x, pdf=pdf)\n",
    "    \n",
    "    p.line('x', 'pdf', line_color=\"#ff8888\", line_width=4, alpha=0.7, legend=\"PDF\", source=ColumnDataSource(di))\n",
    "\n",
    "    p.y_range.start = 0\n",
    "    p.legend.location = \"center_right\"\n",
    "    p.xaxis.axis_label = 'x'\n",
    "    p.yaxis.axis_label = 'Pr(x)'\n",
    "    p.grid.grid_line_color=\"white\"\n",
    "    return p\n",
    "\n",
    "\n",
    "mu, sigma = 0, 1\n",
    "\n",
    "x = np.linspace(-4, 4, 1000)\n",
    "pdf = norm.pdf(x)\n",
    "\n",
    "p = density_plot(\"Normal Distribution (μ=0, σ=1)\", x, pdf)\n",
    "\n",
    "show(p)"
   ]
  },
  {
   "cell_type": "code",
   "execution_count": 325,
   "metadata": {},
   "outputs": [
    {
     "data": {
      "text/plain": [
       "1000"
      ]
     },
     "execution_count": 325,
     "metadata": {},
     "output_type": "execute_result"
    }
   ],
   "source": [
    "len(pdf)"
   ]
  },
  {
   "cell_type": "markdown",
   "metadata": {},
   "source": [
    "When a measurement follows a standard normal distribution, then the assumptions of a normal distribution can be applied to the data and these assumptions can be completely specified by two parameters, which are the mean and standard deviation. The empirical rule of a standard normal gives us the following:\n",
    "\n",
    "- 68% of data will fall within 1 standard deviation of the mean  \n",
    "- 95% of data will fall within 2 standard deviations of the mean  \n",
    "- 99.7% of data will fall within 3 standard deviations of the mean  \n",
    "\n",
    "Scroll back to the normal curve we plotted above, observe:  \n",
    "- It is perfectly symmetrical   \n",
    "- It is unimodal (has only a single mode)  \n",
    "- Area under curve is 1  \n",
    "\n",
    "One relating idea that gives the normal distribution such significance is known as the **Central limit theorem**: it says that when we have many independent variables generated by all kinds of distributions, the aggregate of those variables will tend toward a normal distribution assuming of course the lack of any extraordinary intervention. This universality is observed across different domains making the normal distribution a core centerpiece in applied statistics and mathematics."
   ]
  },
  {
   "cell_type": "markdown",
   "metadata": {},
   "source": [
    "As an exercise, I’d like you to generate 50 random numbers using `numpy` indicating mean of 0 and standard deviation of 1. Now use the `density()` function I created and create a plot based on the generated 50 random numbers:"
   ]
  },
  {
   "cell_type": "code",
   "execution_count": 362,
   "metadata": {},
   "outputs": [
    {
     "data": {
      "text/html": [
       "\n",
       "\n",
       "\n",
       "\n",
       "\n",
       "\n",
       "  <div class=\"bk-root\" id=\"c6466d81-2581-4ef8-9600-5f651a75d579\" data-root-id=\"87983\"></div>\n"
      ]
     },
     "metadata": {},
     "output_type": "display_data"
    },
    {
     "data": {
      "application/javascript": [
       "(function(root) {\n",
       "  function embed_document(root) {\n",
       "    \n",
       "  var docs_json = {\"81ac4dac-80ae-4ca1-b208-dc55b349ab79\":{\"roots\":{\"references\":[{\"attributes\":{\"below\":[{\"id\":\"87994\",\"type\":\"LinearAxis\"}],\"center\":[{\"id\":\"87998\",\"type\":\"Grid\"},{\"id\":\"88003\",\"type\":\"Grid\"},{\"id\":\"88018\",\"type\":\"Legend\"}],\"left\":[{\"id\":\"87999\",\"type\":\"LinearAxis\"}],\"plot_height\":500,\"plot_width\":800,\"renderers\":[{\"id\":\"88011\",\"type\":\"GlyphRenderer\"}],\"title\":{\"id\":\"87984\",\"type\":\"Title\"},\"toolbar\":{\"id\":\"88005\",\"type\":\"Toolbar\"},\"toolbar_location\":null,\"x_range\":{\"id\":\"87986\",\"type\":\"DataRange1d\"},\"x_scale\":{\"id\":\"87990\",\"type\":\"LinearScale\"},\"y_range\":{\"id\":\"87988\",\"type\":\"DataRange1d\"},\"y_scale\":{\"id\":\"87992\",\"type\":\"LinearScale\"}},\"id\":\"87983\",\"subtype\":\"Figure\",\"type\":\"Plot\"},{\"attributes\":{\"grid_line_color\":\"white\",\"ticker\":{\"id\":\"87995\",\"type\":\"BasicTicker\"}},\"id\":\"87998\",\"type\":\"Grid\"},{\"attributes\":{},\"id\":\"89088\",\"type\":\"Selection\"},{\"attributes\":{\"line_alpha\":0.1,\"line_color\":\"#1f77b4\",\"line_width\":4,\"x\":{\"field\":\"x\"},\"y\":{\"field\":\"pdf\"}},\"id\":\"88010\",\"type\":\"Line\"},{\"attributes\":{},\"id\":\"88016\",\"type\":\"BasicTickFormatter\"},{\"attributes\":{\"data_source\":{\"id\":\"88007\",\"type\":\"ColumnDataSource\"},\"glyph\":{\"id\":\"88009\",\"type\":\"Line\"},\"hover_glyph\":null,\"muted_glyph\":null,\"nonselection_glyph\":{\"id\":\"88010\",\"type\":\"Line\"},\"selection_glyph\":null,\"view\":{\"id\":\"88012\",\"type\":\"CDSView\"}},\"id\":\"88011\",\"type\":\"GlyphRenderer\"},{\"attributes\":{\"axis_label\":\"Pr(x)\",\"formatter\":{\"id\":\"88014\",\"type\":\"BasicTickFormatter\"},\"ticker\":{\"id\":\"88000\",\"type\":\"BasicTicker\"}},\"id\":\"87999\",\"type\":\"LinearAxis\"},{\"attributes\":{\"dimension\":1,\"grid_line_color\":\"white\",\"ticker\":{\"id\":\"88000\",\"type\":\"BasicTicker\"}},\"id\":\"88003\",\"type\":\"Grid\"},{\"attributes\":{},\"id\":\"89087\",\"type\":\"UnionRenderers\"},{\"attributes\":{\"line_alpha\":0.7,\"line_color\":\"#ff8888\",\"line_width\":4,\"x\":{\"field\":\"x\"},\"y\":{\"field\":\"pdf\"}},\"id\":\"88009\",\"type\":\"Line\"},{\"attributes\":{\"callback\":null,\"tooltips\":[[\"Probability\",\"@pdf{0.00000}\"],[\"Sigma\",\"@x{0.00000}\"]]},\"id\":\"88004\",\"type\":\"HoverTool\"},{\"attributes\":{},\"id\":\"88000\",\"type\":\"BasicTicker\"},{\"attributes\":{\"callback\":null},\"id\":\"87986\",\"type\":\"DataRange1d\"},{\"attributes\":{\"active_drag\":\"auto\",\"active_inspect\":\"auto\",\"active_multi\":null,\"active_scroll\":\"auto\",\"active_tap\":\"auto\",\"tools\":[{\"id\":\"88004\",\"type\":\"HoverTool\"}]},\"id\":\"88005\",\"type\":\"Toolbar\"},{\"attributes\":{\"items\":[{\"id\":\"88019\",\"type\":\"LegendItem\"}],\"location\":\"center_right\"},\"id\":\"88018\",\"type\":\"Legend\"},{\"attributes\":{},\"id\":\"87995\",\"type\":\"BasicTicker\"},{\"attributes\":{\"text\":\"Probability Density Distribution\"},\"id\":\"87984\",\"type\":\"Title\"},{\"attributes\":{},\"id\":\"88014\",\"type\":\"BasicTickFormatter\"},{\"attributes\":{\"callback\":null,\"data\":{\"pdf\":{\"__ndarray__\":\"kQ9xxoK7sT/qnku/7TnBPyyRE3xBH8I/Vc+4uKu8wj90DJ5FRnnGP4OsTfLe0MY/N256BvXJxz9obbjdEfnHP1P9/LxJ+cg/4/pAh8ZlyT89M7XmhYnJP7CWqbSvyck/oMzhQ03Ayj+OEmVvfczMP8FjE4juz8w/6bLo+phe1D/+af/nYNzVPzdqh0YlJdY/nIIM6IlL1j9Bip5ze3HWPw+2puGHqdY/MXnx3mIs1z9f1rabRTvYP2+cj5GWTNg/oLjB5klT2D/WGAbjN83YP/6ZGqScUdk/Nc0vEJFU2T9OTnFHLnnZP5TR2xAAfNk/8qLisMh72T/QVJ8JiULZP6voZ9MRN9k/Kn939oDn2D/eJq3TX9nYP5ybqChOmNc/ju01NgZ21z9AS+GYAdzWP4DzO+OKk9Y/5ieEeXnJ1D9qi7hgsb/SP6VEstbzVtI/S992z/Xc0D8B0LAY08DQP+2wSmzAKdA/elADXDXTzj9hwYehqnPNP90l51ombco/qFohpfoBvz8AuOk+IdGVPw==\",\"dtype\":\"float64\",\"shape\":[50]},\"x\":{\"__ndarray__\":\"pEG0ea19AMB9Nmo8Sn/6v5WblU8ox/m/w/FL02xE+b/8X0sHSIf1v9v6RpWGE/W/3jAOouiJ878xNM6RBC/zvzNYC+iLa/C/CgSgQ0sU7b8YmQrKNtfrv3vdAQ8f7+m/ZFA47Zpv5b9ic9wqGJPgv604EWbrjOC/hfrCVJ8Nub+FtU5Vkm5+v/vMntWW+IU/oQiSQFv8lD9cxZXFOQSfP0H2Pcl7Eac/j2vms5/LtD8a+NvqYZnFP7IhSAH4b8Y/i2olV4LExj+3WsUTlI3NP+3MHFVAaNQ/a9Btr+CZ1D8608eyv3jYP/EQk19cHNo/s86klIVb2j9C9lFgl0HgP5nNuQQClOA/Rhnz+VhX4j+0jJjBa5riP/HAGvc3Fuc/fANMZYh65z+4oRccTiLpP+X3NHqV3ek/osVoA5IL7j+a4rhvjh3xP8ZOD2bNgvE/F02I4x7j8j+TfIPfo/zyPy3HSChEhPM/9vUaHMct9D9TGs7Nesb0P8B5WdHCEfY/v27CHbXn+j+nea6OG90EQA==\",\"dtype\":\"float64\",\"shape\":[50]}},\"selected\":{\"id\":\"89088\",\"type\":\"Selection\"},\"selection_policy\":{\"id\":\"89087\",\"type\":\"UnionRenderers\"}},\"id\":\"88007\",\"type\":\"ColumnDataSource\"},{\"attributes\":{\"source\":{\"id\":\"88007\",\"type\":\"ColumnDataSource\"}},\"id\":\"88012\",\"type\":\"CDSView\"},{\"attributes\":{},\"id\":\"87992\",\"type\":\"LinearScale\"},{\"attributes\":{},\"id\":\"87990\",\"type\":\"LinearScale\"},{\"attributes\":{\"axis_label\":\"x\",\"formatter\":{\"id\":\"88016\",\"type\":\"BasicTickFormatter\"},\"ticker\":{\"id\":\"87995\",\"type\":\"BasicTicker\"}},\"id\":\"87994\",\"type\":\"LinearAxis\"},{\"attributes\":{\"callback\":null,\"start\":0},\"id\":\"87988\",\"type\":\"DataRange1d\"},{\"attributes\":{\"label\":{\"value\":\"PDF\"},\"renderers\":[{\"id\":\"88011\",\"type\":\"GlyphRenderer\"}]},\"id\":\"88019\",\"type\":\"LegendItem\"}],\"root_ids\":[\"87983\"]},\"title\":\"Bokeh Application\",\"version\":\"1.2.0\"}};\n",
       "  var render_items = [{\"docid\":\"81ac4dac-80ae-4ca1-b208-dc55b349ab79\",\"roots\":{\"87983\":\"c6466d81-2581-4ef8-9600-5f651a75d579\"}}];\n",
       "  root.Bokeh.embed.embed_items_notebook(docs_json, render_items);\n",
       "\n",
       "  }\n",
       "  if (root.Bokeh !== undefined) {\n",
       "    embed_document(root);\n",
       "  } else {\n",
       "    var attempts = 0;\n",
       "    var timer = setInterval(function(root) {\n",
       "      if (root.Bokeh !== undefined) {\n",
       "        embed_document(root);\n",
       "        clearInterval(timer);\n",
       "      }\n",
       "      attempts++;\n",
       "      if (attempts > 100) {\n",
       "        console.log(\"Bokeh: ERROR: Unable to run BokehJS code because BokehJS library is missing\");\n",
       "        clearInterval(timer);\n",
       "      }\n",
       "    }, 10, root)\n",
       "  }\n",
       "})(window);"
      ],
      "application/vnd.bokehjs_exec.v0+json": ""
     },
     "metadata": {
      "application/vnd.bokehjs_exec.v0+json": {
       "id": "87983"
      }
     },
     "output_type": "display_data"
    }
   ],
   "source": [
    "from scipy import stats\n",
    "\n",
    "# Careful on more than 50,000 samples will exhaust your machine\n",
    "n = 50\n",
    "x = np.random.randn(n)\n",
    "x.sort()\n",
    "\n",
    "# Generate pdf estimation using gaussian kernel\n",
    "pdf = stats.gaussian_kde(x)\n",
    "pd = np.reshape(pdf(x).T, len(x))\n",
    "\n",
    "p = density_plot(\"Probability Density Distribution\", x, pd)\n",
    "\n",
    "show(p)"
   ]
  },
  {
   "cell_type": "markdown",
   "metadata": {},
   "source": [
    "Supposed you were to change 10 to 100, and then to 1000 and even 10,000, what did you observe? The key takeaway here is that as the number of sample approach infinity this plot will eventually converge in distribution to the standard normal."
   ]
  },
  {
   "cell_type": "markdown",
   "metadata": {},
   "source": [
    "# Inferential Statistics"
   ]
  },
  {
   "cell_type": "markdown",
   "metadata": {},
   "source": [
    "## Probability Density Function and Probability Mass Function\n",
    "\n",
    "When we’re thinking about continuous random variables (blood sugar level, height, rainfall amount), it is important to realize that this variable has an uncountable number of possible values, even between two real intervals. The resulting probability distribution of the variable can be described by a probability density, where the probability is found by taking the area under the curve."
   ]
  },
  {
   "cell_type": "markdown",
   "metadata": {},
   "source": [
    "*Add normal distribution pdf here*"
   ]
  },
  {
   "cell_type": "markdown",
   "metadata": {},
   "source": [
    "Discrete random variables (number of player injury, amount of defaulted loans, travel bookings per customer), on the other hand, can be described using a probability mass function, which maps each value of the random variable to a probability:  \n",
    "- p(0 bookings) = 0.28  \n",
    "- p(1 booking) = 0.09  \n",
    "- …  \n",
    "- p(6 bookings) = 0.004  \n",
    "\n",
    "Because they are probabilities, these individual probabilities have to sum up to 1."
   ]
  },
  {
   "cell_type": "markdown",
   "metadata": {},
   "source": [
    "Before going into probability density function and mass function, it is important to understand that the function is estimated by binning the distribution values. Let's take a look at the following histogram function:"
   ]
  },
  {
   "cell_type": "code",
   "execution_count": 388,
   "metadata": {},
   "outputs": [],
   "source": [
    "def histogram_plot(title, hist, edges):\n",
    "    p = figure(title=title, \n",
    "               tools='',\n",
    "               toolbar_location=None,\n",
    "               plot_width=800, \n",
    "               plot_height=500)\n",
    "    \n",
    "    p.quad(top=hist, bottom=0, left=edges[:-1], right=edges[1:],\n",
    "           fill_color=\"navy\", line_color=\"white\", alpha=0.5)\n",
    "\n",
    "    p.y_range.start = 0\n",
    "    p.xaxis.axis_label = 'x'\n",
    "    p.yaxis.axis_label = 'count'\n",
    "    p.grid.grid_line_color=\"white\"\n",
    "    return p"
   ]
  },
  {
   "cell_type": "markdown",
   "metadata": {},
   "source": [
    "Then generate a random numbers and use `np.histogram()` to generate the counts and binning ranges:"
   ]
  },
  {
   "cell_type": "code",
   "execution_count": 390,
   "metadata": {},
   "outputs": [
    {
     "data": {
      "text/html": [
       "\n",
       "\n",
       "\n",
       "\n",
       "\n",
       "\n",
       "  <div class=\"bk-root\" id=\"fa092bd8-38b3-4a2a-a2b2-54150316aeb5\" data-root-id=\"99770\"></div>\n"
      ]
     },
     "metadata": {},
     "output_type": "display_data"
    },
    {
     "data": {
      "application/javascript": [
       "(function(root) {\n",
       "  function embed_document(root) {\n",
       "    \n",
       "  var docs_json = {\"53ec82ab-9a54-4dce-9c67-923ae3772485\":{\"roots\":{\"references\":[{\"attributes\":{\"below\":[{\"id\":\"99781\",\"type\":\"LinearAxis\"}],\"center\":[{\"id\":\"99785\",\"type\":\"Grid\"},{\"id\":\"99790\",\"type\":\"Grid\"}],\"left\":[{\"id\":\"99786\",\"type\":\"LinearAxis\"}],\"plot_height\":500,\"plot_width\":800,\"renderers\":[{\"id\":\"99795\",\"type\":\"GlyphRenderer\"}],\"title\":{\"id\":\"99771\",\"type\":\"Title\"},\"toolbar\":{\"id\":\"99791\",\"type\":\"Toolbar\"},\"toolbar_location\":null,\"x_range\":{\"id\":\"99773\",\"type\":\"DataRange1d\"},\"x_scale\":{\"id\":\"99777\",\"type\":\"LinearScale\"},\"y_range\":{\"id\":\"99775\",\"type\":\"DataRange1d\"},\"y_scale\":{\"id\":\"99779\",\"type\":\"LinearScale\"}},\"id\":\"99770\",\"subtype\":\"Figure\",\"type\":\"Plot\"},{\"attributes\":{\"source\":{\"id\":\"99792\",\"type\":\"ColumnDataSource\"}},\"id\":\"99796\",\"type\":\"CDSView\"},{\"attributes\":{},\"id\":\"100932\",\"type\":\"BasicTickFormatter\"},{\"attributes\":{\"axis_label\":\"count\",\"formatter\":{\"id\":\"100930\",\"type\":\"BasicTickFormatter\"},\"ticker\":{\"id\":\"99787\",\"type\":\"BasicTicker\"}},\"id\":\"99786\",\"type\":\"LinearAxis\"},{\"attributes\":{},\"id\":\"100934\",\"type\":\"UnionRenderers\"},{\"attributes\":{},\"id\":\"100935\",\"type\":\"Selection\"},{\"attributes\":{\"callback\":null,\"data\":{\"left\":{\"__ndarray__\":\"GTVzlRz0AMADpZy+LrP6v9TfUlIkfvO/TDUSzDOS6L/cVf3mPVDUv8B9U5TXB8E/zGmovQqs4j8W+h3LD4vwP0S/ZzcawPc/coSxoyT1/j8=\",\"dtype\":\"float64\",\"shape\":[10]},\"right\":{\"__ndarray__\":\"A6Wcvi6z+r/U31JSJH7zv0w1Eswzkui/3FX95j1Q1L/AfVOU1wfBP8xpqL0KrOI/Fvodyw+L8D9Ev2c3GsD3P3KEsaMk9f4/0aT9hxcVA0A=\",\"dtype\":\"float64\",\"shape\":[10]},\"top\":[1,0,6,6,11,11,6,4,3,2]},\"selected\":{\"id\":\"100935\",\"type\":\"Selection\"},\"selection_policy\":{\"id\":\"100934\",\"type\":\"UnionRenderers\"}},\"id\":\"99792\",\"type\":\"ColumnDataSource\"},{\"attributes\":{\"callback\":null},\"id\":\"99773\",\"type\":\"DataRange1d\"},{\"attributes\":{\"text\":\"Histogram Plot\"},\"id\":\"99771\",\"type\":\"Title\"},{\"attributes\":{\"data_source\":{\"id\":\"99792\",\"type\":\"ColumnDataSource\"},\"glyph\":{\"id\":\"99793\",\"type\":\"Quad\"},\"hover_glyph\":null,\"muted_glyph\":null,\"nonselection_glyph\":{\"id\":\"99794\",\"type\":\"Quad\"},\"selection_glyph\":null,\"view\":{\"id\":\"99796\",\"type\":\"CDSView\"}},\"id\":\"99795\",\"type\":\"GlyphRenderer\"},{\"attributes\":{\"callback\":null,\"start\":0},\"id\":\"99775\",\"type\":\"DataRange1d\"},{\"attributes\":{\"active_drag\":\"auto\",\"active_inspect\":\"auto\",\"active_multi\":null,\"active_scroll\":\"auto\",\"active_tap\":\"auto\"},\"id\":\"99791\",\"type\":\"Toolbar\"},{\"attributes\":{},\"id\":\"99777\",\"type\":\"LinearScale\"},{\"attributes\":{},\"id\":\"99779\",\"type\":\"LinearScale\"},{\"attributes\":{},\"id\":\"100930\",\"type\":\"BasicTickFormatter\"},{\"attributes\":{\"axis_label\":\"x\",\"formatter\":{\"id\":\"100932\",\"type\":\"BasicTickFormatter\"},\"ticker\":{\"id\":\"99782\",\"type\":\"BasicTicker\"}},\"id\":\"99781\",\"type\":\"LinearAxis\"},{\"attributes\":{\"bottom\":{\"value\":0},\"fill_alpha\":{\"value\":0.5},\"fill_color\":{\"value\":\"navy\"},\"left\":{\"field\":\"left\"},\"line_alpha\":{\"value\":0.5},\"line_color\":{\"value\":\"white\"},\"right\":{\"field\":\"right\"},\"top\":{\"field\":\"top\"}},\"id\":\"99793\",\"type\":\"Quad\"},{\"attributes\":{\"dimension\":1,\"grid_line_color\":\"white\",\"ticker\":{\"id\":\"99787\",\"type\":\"BasicTicker\"}},\"id\":\"99790\",\"type\":\"Grid\"},{\"attributes\":{\"grid_line_color\":\"white\",\"ticker\":{\"id\":\"99782\",\"type\":\"BasicTicker\"}},\"id\":\"99785\",\"type\":\"Grid\"},{\"attributes\":{},\"id\":\"99782\",\"type\":\"BasicTicker\"},{\"attributes\":{},\"id\":\"99787\",\"type\":\"BasicTicker\"},{\"attributes\":{\"bottom\":{\"value\":0},\"fill_alpha\":{\"value\":0.1},\"fill_color\":{\"value\":\"#1f77b4\"},\"left\":{\"field\":\"left\"},\"line_alpha\":{\"value\":0.1},\"line_color\":{\"value\":\"#1f77b4\"},\"right\":{\"field\":\"right\"},\"top\":{\"field\":\"top\"}},\"id\":\"99794\",\"type\":\"Quad\"}],\"root_ids\":[\"99770\"]},\"title\":\"Bokeh Application\",\"version\":\"1.2.0\"}};\n",
       "  var render_items = [{\"docid\":\"53ec82ab-9a54-4dce-9c67-923ae3772485\",\"roots\":{\"99770\":\"fa092bd8-38b3-4a2a-a2b2-54150316aeb5\"}}];\n",
       "  root.Bokeh.embed.embed_items_notebook(docs_json, render_items);\n",
       "\n",
       "  }\n",
       "  if (root.Bokeh !== undefined) {\n",
       "    embed_document(root);\n",
       "  } else {\n",
       "    var attempts = 0;\n",
       "    var timer = setInterval(function(root) {\n",
       "      if (root.Bokeh !== undefined) {\n",
       "        embed_document(root);\n",
       "        clearInterval(timer);\n",
       "      }\n",
       "      attempts++;\n",
       "      if (attempts > 100) {\n",
       "        console.log(\"Bokeh: ERROR: Unable to run BokehJS code because BokehJS library is missing\");\n",
       "        clearInterval(timer);\n",
       "      }\n",
       "    }, 10, root)\n",
       "  }\n",
       "})(window);"
      ],
      "application/vnd.bokehjs_exec.v0+json": ""
     },
     "metadata": {
      "application/vnd.bokehjs_exec.v0+json": {
       "id": "99770"
      }
     },
     "output_type": "display_data"
    }
   ],
   "source": [
    "n = 50\n",
    "x = np.random.randn(n)\n",
    "hist, edges = np.histogram(x, bins=10)\n",
    "\n",
    "p = histogram_plot(\"Histogram Plot\", hist, edges)\n",
    "\n",
    "show(p)"
   ]
  },
  {
   "cell_type": "markdown",
   "metadata": {},
   "source": [
    "## Fundamentals of Hypothesis Testing\n",
    "\n",
    "Going back to the standard normal distribution - you may be asking by now how any of what you’re learning in the past few chapters are useful. To answer the question, I feel it is only appropriate we solidify these intuition with a few concrete examples. Consider the following scenario:\n",
    "\n",
    "The height of men in Indonesia is normally distributed with a mean of 160cm and a standard deviation of 7cm. What is the probability of a randomly selected man being taller than 175cm?\n",
    "\n",
    "The solution: 175cm is 15cm above the mean, and dividing that by the standard deviation of 7cm, we get 2.143. We refer to this as the **z-score**. The probability of an Indonesian men being taller than 175cm is P(Z > 2.143)"
   ]
  },
  {
   "cell_type": "code",
   "execution_count": null,
   "metadata": {},
   "outputs": [],
   "source": []
  },
  {
   "cell_type": "markdown",
   "metadata": {},
   "source": [
    "**Discussion:**\n",
    "\n",
    "Supposed we have a population mean of 180cm and standard deviation of 8cm, what is the probability that a randomly picked person being shorter than 174cm?"
   ]
  },
  {
   "cell_type": "code",
   "execution_count": 3,
   "metadata": {},
   "outputs": [],
   "source": [
    "# Your answer here"
   ]
  },
  {
   "cell_type": "markdown",
   "metadata": {},
   "source": [
    "The Z-scores we used above is useful when relating different measurement distributions to each acting as a common denominator. Essentially, a z-score gives us a “standardized” unit that measure how many standard deviations is a particular statistic away from the mean. This property, as we’ll see, is paramount to many statistical hypothesis tests, performance evaluation (more of that when we get to the Machine Learning courses), and in the construction of confidence or prediction intervals."
   ]
  },
  {
   "cell_type": "markdown",
   "metadata": {},
   "source": [
    "### Standard Error and Confidence Intervals\n",
    "\n",
    "Standard error can be thought as a related concept to standard deviation. It is a measure that estimates how close a calculated mean (sample) is likely to be to the true mean of that population; It is calculated by dividing the standard deviation of the sample data by the square root of the number of observations:"
   ]
  },
  {
   "cell_type": "code",
   "execution_count": null,
   "metadata": {},
   "outputs": [],
   "source": []
  },
  {
   "cell_type": "markdown",
   "metadata": {},
   "source": [
    "On a normal distribution (we’ll get to this in a moment), 67% of the time the true population mean will lie within the range of +- 1 SE. In other words, if we can establish a normal distribution, we can theorize about the true value of the population mean with a range. Because of the formula:\n",
    "\n",
    "$SE = \\frac{\\sigma}{\\sqrt{}n}$\n",
    "\n",
    "The larger our sample size n gets, the smaller SE will be: and hence we are less uncertain about our estimation of the true population mean."
   ]
  },
  {
   "cell_type": "markdown",
   "metadata": {},
   "source": [
    "We often begin our estimation with a point estimate, using for example the sample mean $\\bar{x}$ as a point estimate of the population mean $\\mu$. We can then construct confidence intervals around our point estimates so we have an interval that may contain the true value of the parameter. When statisticians say a “95% confidence interval”, what they mean is that if we create 100 confidence intervals of the same size from a given population, we expect to find the true parameter (let’s say the population’s net savings per household) in 95 of them.\n",
    "\n",
    "We construct a confidence interval by taking the point estimate +/- margin of error, where margin of error is computed as:  \n",
    "\n",
    "$E=Z_{a/2} \\times SE$\n",
    "\n",
    "Because confidence intervals are two-sided the level of significance we chose (alpha) has to be divided into halves. When we compute by finding the z-score associated with a value of 2.5% (0.025) on each end, we end up looking at the middle 95% of the area under the curve. We can use `ppf()` from `scipy` package to help us find the z-score associated with a 95% confidence interval:"
   ]
  },
  {
   "cell_type": "code",
   "execution_count": 6,
   "metadata": {},
   "outputs": [
    {
     "data": {
      "text/plain": [
       "1.6448536269514722"
      ]
     },
     "execution_count": 6,
     "metadata": {},
     "output_type": "execute_result"
    }
   ],
   "source": [
    "from scipy.stats import norm\n",
    "\n",
    "norm.ppf(.95)"
   ]
  },
  {
   "cell_type": "markdown",
   "metadata": {},
   "source": [
    "Again, let’s put together a scenario to make all of this more concrete. Say we want to know the average annual dividend payout in a particular industry, and had known through an earlier study that this figure resembles a normal distribution with a population standard deviation of 2.4%. We looked at the public books of these 81 companies in said industry and attain a sample mean of 11.8% (that is, the average company from this group of 81 companies pay 11.8% of profit to their shareholders annually). We want to construct a 95% confidence interval for the μ, the mean dividend payout.\n",
    "\n",
    "Solution: \n",
    "- Z-score associated with a 95% confidence interval is 1.96  \n",
    "- The standard error of the mean (SE) is $\\frac{2.4}{\\sqrt{81}} = 0.267$   \n",
    "- The margin of error (E) is $1.96 \\times SE = 0.524$  \n",
    "- The confidence interval is 11.8% +- 0.524%  \n",
    "\n",
    "And so we can say that the 95% confidence interval for the mean dividend payout in this industry is (11.28%, 12.32%). We can be 95% confident that this interval will contain the mean dividend payout for this particular industry."
   ]
  },
  {
   "cell_type": "markdown",
   "metadata": {},
   "source": [
    "### p-value\n",
    "\n",
    "In your day to day data science work, you will often be required to explain the model’s reliability and uncertainty, and the formal process of such is specified as something called the **test of significance**. Statistical significance often reference the **p-value**, a measure of the probability of obtaining a result equal to or more extreme than what was actually observed, assuming the null hypothesis is true.\n",
    "\n",
    "Imagine a scenario where you’re assigned to consult on Quicker, a startup that simplify and automate government grants application for newly incorporated startups. Through public announcements and official records, you find that the average duration for a newly incorporated startup to get its first government grant or financial funding is 215 days (with a population standard variance of 24 days, again through official records). Of the 35 entrepreneurs using Quicker platform, the average time is 178 days.\n",
    "\n",
    "**Discussion:**\n",
    "Does this observation (178 days) deviate away from the population enough for it to be statistically significant? Use a 95% confidence interval\n",
    "\n",
    "$H_0: \\mu = \\mu_0$  \n",
    "$H_A: \\mu < \\mu_0$\n",
    "\n",
    "The null hypothesis is that our new mean equals to the original mean, whereas the alternative hypothesis states that the mean of Quicker customers **is lower** than the original mean."
   ]
  },
  {
   "cell_type": "markdown",
   "metadata": {},
   "source": [
    "Solution:\n",
    "\n",
    "Recall what we’ve learned about the z-score, we can compute the p-value as follow:"
   ]
  },
  {
   "cell_type": "code",
   "execution_count": null,
   "metadata": {},
   "outputs": [],
   "source": []
  },
  {
   "cell_type": "markdown",
   "metadata": {},
   "source": [
    "While we can reject the null hypothesis at the 95% confidence level if our p-value is <= alpha (0.05), this is not the case here as our p-value is actually 0.0616. In this scenario, we fail to reject the null hypothesis that the Quicker platform did in fact led to a statistically significant reduction in government funding time."
   ]
  },
  {
   "cell_type": "markdown",
   "metadata": {},
   "source": [
    "### T-Test\n",
    "\n",
    "Generally, z-tests are used when we have a large enough sample size (rule of thumb is n >= 30) and when the population standard deviation is known. If the above conditions aren’t met, we can instead use a statistical measurement known as the Student’s t-test. Say grant automation platform has 10 users so far and that the population standard deviation (sigma) is not known.\n",
    "\n",
    "To perform a t-test we can use **PYTHON FUNCTION HERE** and pass in an optional alternative hypothesis. Here we’re interested in finding out whether we can reject the null hypothesis (that says there is no difference in government funding time for Quicker startups and other startups) in favor of the alternative hypothesis (that Quicker startup spend less time on average to acquire their first grant):"
   ]
  },
  {
   "cell_type": "code",
   "execution_count": null,
   "metadata": {},
   "outputs": [],
   "source": []
  },
  {
   "cell_type": "markdown",
   "metadata": {},
   "source": [
    "### Power Analysis\n",
    "\n",
    "In designing a hypothesis testing, or popularly known as A/B testing, one of its critical part is: determining the size of your sample. While significance test is widely used in the industry, namely a few:  \n",
    "- Testing new features that creates more engagement  \n",
    "- Selecting effective marketing strategy to generate more conversion  \n",
    "- Finding promotion best practice to increase revenue  \n",
    "\n",
    "The cost of evaluating these experiments is expensive for both time and resource. The role of data scientist, is to make sure the proposed design of an A/B testing has considered this resource constraint and also generate a conclusive result.\n",
    "\n",
    "In some cases, drawing conclusion can lead to a fatal error due to wrong choice of sampling decision. Now let me introduce you to **2 types of error**:  \n",
    "- Type 1 error: false positive  \n",
    "- Type 2 error: false negative  \n",
    "\n",
    "In hypothesis test context, type 1 error occur when we reject a true null hypothesis while type 2 error occur when we fail to reject a false null hypothesis (a similar concept later on machine learning course!). Now what do we do with this information? Well a **higher statistical power** will result in a lower probability of failing to reject a false null hypothesis. In practice, a lower power will lead to wrong conclusion as stated in the following formula:  \n",
    "\n",
    "$Power = P(reject H_0 | H_A True)$  \n",
    "$Power = 1 - P(Error_2)$"
   ]
  },
  {
   "cell_type": "markdown",
   "metadata": {},
   "source": [
    "> **EFFECT SIZE**"
   ]
  },
  {
   "cell_type": "markdown",
   "metadata": {},
   "source": [
    "Consider this:\n",
    "\n",
    "You are designing an experiment for Tokopedia new homepage, you'd like to see if a certain promotional banner is placed in the second slot would lead to an ineffective campaign. In this case, say we accept the probability of type 2 error to be 15% and a significance level of 5%. The expected effect size is set to be 10%. Try the below code and see what is the required sample size:"
   ]
  },
  {
   "cell_type": "code",
   "execution_count": 16,
   "metadata": {},
   "outputs": [
    {
     "data": {
      "text/plain": [
       "1796"
      ]
     },
     "execution_count": 16,
     "metadata": {},
     "output_type": "execute_result"
    }
   ],
   "source": [
    "from statsmodels.stats.power import TTestIndPower\n",
    "\n",
    "effect_size = 0.1\n",
    "alpha = 0.05\n",
    "power = 1-0.15\n",
    "\n",
    "power_analysis = TTestIndPower()\n",
    "sample_size = power_analysis.solve_power(effect_size = effect_size, \n",
    "                                         power = power, \n",
    "                                         alpha = alpha)\n",
    "\n",
    "int(sample_size)"
   ]
  },
  {
   "cell_type": "markdown",
   "metadata": {},
   "source": [
    "Most times, you would generate a visualization to analyze the trade-off in selecting the parameters. Let's take a look at the following plot: "
   ]
  },
  {
   "cell_type": "code",
   "execution_count": null,
   "metadata": {},
   "outputs": [],
   "source": []
  },
  {
   "cell_type": "markdown",
   "metadata": {},
   "source": [
    "Looking at the above plot will give you an idea of how would the Power and sample size varies given different set of parameters. The information you gain in this analysis needs to correspond with the cost constraints of your experiment and the risk that came with it."
   ]
  }
 ],
 "metadata": {
  "kernelspec": {
   "display_name": "tokopedia",
   "language": "python",
   "name": "tokopedia"
  },
  "language_info": {
   "codemirror_mode": {
    "name": "ipython",
    "version": 3
   },
   "file_extension": ".py",
   "mimetype": "text/x-python",
   "name": "python",
   "nbconvert_exporter": "python",
   "pygments_lexer": "ipython3",
   "version": "3.7.3"
  }
 },
 "nbformat": 4,
 "nbformat_minor": 2
}
