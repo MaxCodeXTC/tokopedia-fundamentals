{
 "cells": [
  {
   "cell_type": "markdown",
   "metadata": {},
   "source": [
    "**Coursebook: Inferential Statistics**\n",
    "- Part 1 of _Python Fundamental Course_\n",
    "- Course Length: 9 Hours\n",
    "- Last Updated: July 2019\n",
    "\n",
    "___\n",
    "\n",
    "- Developed by [Algoritma](https://algorit.ma)'s product division and instructors team"
   ]
  },
  {
   "cell_type": "markdown",
   "metadata": {},
   "source": [
    "\n",
    "\n",
    "# Background"
   ]
  },
  {
   "cell_type": "markdown",
   "metadata": {},
   "source": [
    "The coursebook is part of the **Python Fundamental Course** prepared by [Algoritma](https://algorit.ma). The coursebook is intended for a restricted audience only, i.e. the individuals and organizations having received this coursebook directly from the training organization. It may not be reproduced, distributed, translated or adapted in any form outside these individuals and organizations without permission.\n",
    "\n",
    "Algoritma is a data science education center based in Jakarta. We organize workshops and training programs to help working professionals and students gain mastery in various data science sub-fields: data visualization, machine learning, data modeling, statistical inference etc."
   ]
  },
  {
   "cell_type": "markdown",
   "metadata": {},
   "source": [
    "## Training Objectives\n",
    "\n",
    "On the first section of this course is to pave the statistical foundation for more advance implementation and machine learning implementation. There will be 2 main objectives:\n",
    "\n",
    "- **Descriptive Statistics**\n",
    "- Understanding 5 number summary\n",
    "- Central tendency measure\n",
    "- Variability measure\n",
    "- Z Score and Central limit theorem\n",
    "- **Inferential Statistics**\n",
    "- Probability density function\n",
    "- Confidence intervals\n",
    "- Hypothesis test\n",
    "- Power analysis\n",
    "\n",
    "At the end of this course, we’ll be working with Learn by Building module as your graded assignment. You’ll be working in groups and design an A/B testing of your choice!"
   ]
  },
  {
   "cell_type": "markdown",
   "metadata": {},
   "source": [
    "# Descriptive Statistics\n",
    "\n",
    "Statisticians and data scientists use descriptive statistics to summarize and describe a large number of measurements. Many times, this task is accompanied with graphs and plots that help describe the numerical summary of data. When data science is applied in the business context, an example of descriptive statistic is the average number of transactions per month. Another example is the percentage of e-commerce transactions with a voucher code applied. The simple rule is that descriptive statistics do not involve generalizing beyond the data we have obtained, and are merely descriptive of what we have at hand. The branch of statistics that deal with drawing inferences about the larger population is called inferential statistics.\n",
    "\n",
    "In describing data, we are typically concerned with the task of quantifying and comparing central tendency, variability, and the shape of our data. In this coursebook, we'll be working on with Tokopedia listing item in handphones section:"
   ]
  },
  {
   "cell_type": "code",
   "execution_count": 45,
   "metadata": {},
   "outputs": [
    {
     "data": {
      "text/plain": [
       "product_title      object\n",
       "location           object\n",
       "account_seller     object\n",
       "price             float64\n",
       "review              int64\n",
       "installment       float64\n",
       "rating            float64\n",
       "brand_hp           object\n",
       "dtype: object"
      ]
     },
     "execution_count": 45,
     "metadata": {},
     "output_type": "execute_result"
    }
   ],
   "source": [
    "import pandas as pd\n",
    "\n",
    "hp = pd.read_csv('tokped_hp.csv', encoding='latin8')\n",
    "hp.dtypes"
   ]
  },
  {
   "cell_type": "markdown",
   "metadata": {},
   "source": [
    "The dataset consist of several listing information such as product name, price, review, rating, and brand. Let's explore some of them first to get a good sense from our data:"
   ]
  },
  {
   "cell_type": "code",
   "execution_count": 46,
   "metadata": {},
   "outputs": [
    {
     "data": {
      "text/plain": [
       "xiaomi       1404\n",
       "samsung      1095\n",
       "apple         559\n",
       "oppo          441\n",
       "lain-lain     306\n",
       "vivo          243\n",
       "nokia         209\n",
       "asus          178\n",
       "realme        115\n",
       "sony          107\n",
       "Name: brand_hp, dtype: int64"
      ]
     },
     "execution_count": 46,
     "metadata": {},
     "output_type": "execute_result"
    }
   ],
   "source": [
    "hp.brand_hp.value_counts().head(10)"
   ]
  },
  {
   "cell_type": "markdown",
   "metadata": {},
   "source": [
    "The dataset consist of some well known handphone brand, as we can see most of the data is dominated by Xiaomi and Samsung brand. It is also corresponds to Indonesian market interest. In the next sections, as we go through this module, we are going to explore this specific dataset and see how an Indonesian mobile sales landscape can be extracted using this dataset."
   ]
  },
  {
   "cell_type": "markdown",
   "metadata": {},
   "source": [
    "## Measures of Central Tendency\n",
    "\n",
    "Often times in the exploratory data analysis phase, we want to get a sense of what the **most representative score** of a particular measurement is. We often simplify this idea by referring to it as the “average”, but there are in fact, three measures of central tendency that you need to have in your statistical toolset.\n",
    "\n",
    "The most popular measure of central tendency is the **mean**, which is sometimes represented as $\\bar{x}$ when computed on a **sample** and represented as $\\mu$ when computed on a population. Mean is really the sum of all your measurements, divided by the number of measurements, and works best on data that has an even distribution or a normal distribution (don’t worry if the idea of a normal distribution isn’t clear - we’ll get to that in a while!).\n",
    "\n",
    "Say for example, we are want to see the mean price of Apple phones. Luckily, pandas data frame came with a function that works well with a Series object:"
   ]
  },
  {
   "cell_type": "code",
   "execution_count": 47,
   "metadata": {},
   "outputs": [
    {
     "data": {
      "text/plain": [
       "'IDR 5,677,991.95'"
      ]
     },
     "execution_count": 47,
     "metadata": {},
     "output_type": "execute_result"
    }
   ],
   "source": [
    "'IDR {:,.2f}'.format(hp[hp.brand_hp == 'apple'].price.mean())"
   ]
  },
  {
   "cell_type": "markdown",
   "metadata": {},
   "source": [
    "The **median** is the point of value that cuts the distribution into two equal halves such that 50% of the observations are below it. To find this value, we would order the observations and find the middle value that separates the distribution into two equal halves."
   ]
  },
  {
   "cell_type": "code",
   "execution_count": 48,
   "metadata": {},
   "outputs": [
    {
     "data": {
      "text/plain": [
       "'IDR 3,999,000.00'"
      ]
     },
     "execution_count": 48,
     "metadata": {},
     "output_type": "execute_result"
    }
   ],
   "source": [
    "'IDR {:,.2f}'.format(hp[hp.brand_hp == 'apple'].price.median())"
   ]
  },
  {
   "cell_type": "markdown",
   "metadata": {},
   "source": [
    "For data with odd number of observations, the median is the middle value but for data with an even number of observations we would instead use the average of the two middle scores:"
   ]
  },
  {
   "cell_type": "code",
   "execution_count": 49,
   "metadata": {},
   "outputs": [
    {
     "data": {
      "text/plain": [
       "3300000.0"
      ]
     },
     "execution_count": 49,
     "metadata": {},
     "output_type": "execute_result"
    }
   ],
   "source": [
    "odds_price = hp[hp.brand_hp == 'apple'].iloc[0:9,:]\n",
    "odds_price.price.median()"
   ]
  },
  {
   "cell_type": "code",
   "execution_count": 50,
   "metadata": {},
   "outputs": [
    {
     "data": {
      "text/plain": [
       "3300000.0"
      ]
     },
     "execution_count": 50,
     "metadata": {},
     "output_type": "execute_result"
    }
   ],
   "source": [
    "odds_price.sort_values('price').price.tolist()[4]"
   ]
  },
  {
   "cell_type": "code",
   "execution_count": 51,
   "metadata": {},
   "outputs": [
    {
     "data": {
      "text/plain": [
       "2925000.0"
      ]
     },
     "execution_count": 51,
     "metadata": {},
     "output_type": "execute_result"
    }
   ],
   "source": [
    "odds_price = hp[hp.brand_hp == 'apple'].iloc[0:10,:]\n",
    "odds_price.price.median()"
   ]
  },
  {
   "cell_type": "code",
   "execution_count": 52,
   "metadata": {},
   "outputs": [
    {
     "data": {
      "text/plain": [
       "2925000.0"
      ]
     },
     "execution_count": 52,
     "metadata": {},
     "output_type": "execute_result"
    }
   ],
   "source": [
    "fourth = odds_price.sort_values('price').price.tolist()[4]\n",
    "fifth = odds_price.sort_values('price').price.tolist()[5]\n",
    "\n",
    "(fourth + fifth)/2"
   ]
  },
  {
   "cell_type": "markdown",
   "metadata": {},
   "source": [
    "We need to be cautious when applying the mean on data with a skewed distribution because the mean may not be the best candidate for a most representative score compared to other measures of central tendency. Let's take the first 99 rows of our apple phones:"
   ]
  },
  {
   "cell_type": "code",
   "execution_count": 53,
   "metadata": {},
   "outputs": [
    {
     "data": {
      "text/html": [
       "<div>\n",
       "<style scoped>\n",
       "    .dataframe tbody tr th:only-of-type {\n",
       "        vertical-align: middle;\n",
       "    }\n",
       "\n",
       "    .dataframe tbody tr th {\n",
       "        vertical-align: top;\n",
       "    }\n",
       "\n",
       "    .dataframe thead th {\n",
       "        text-align: right;\n",
       "    }\n",
       "</style>\n",
       "<table border=\"1\" class=\"dataframe\">\n",
       "  <thead>\n",
       "    <tr style=\"text-align: right;\">\n",
       "      <th></th>\n",
       "      <th>price</th>\n",
       "      <th>review</th>\n",
       "      <th>installment</th>\n",
       "      <th>rating</th>\n",
       "    </tr>\n",
       "  </thead>\n",
       "  <tbody>\n",
       "    <tr>\n",
       "      <th>count</th>\n",
       "      <td>9.900000e+01</td>\n",
       "      <td>99.000000</td>\n",
       "      <td>99.000000</td>\n",
       "      <td>99.000000</td>\n",
       "    </tr>\n",
       "    <tr>\n",
       "      <th>mean</th>\n",
       "      <td>4.753343e+06</td>\n",
       "      <td>94.494949</td>\n",
       "      <td>198056.323232</td>\n",
       "      <td>4.818182</td>\n",
       "    </tr>\n",
       "    <tr>\n",
       "      <th>std</th>\n",
       "      <td>3.653102e+06</td>\n",
       "      <td>87.872864</td>\n",
       "      <td>152212.612375</td>\n",
       "      <td>0.153439</td>\n",
       "    </tr>\n",
       "    <tr>\n",
       "      <th>min</th>\n",
       "      <td>3.950000e+05</td>\n",
       "      <td>6.000000</td>\n",
       "      <td>16459.000000</td>\n",
       "      <td>4.300000</td>\n",
       "    </tr>\n",
       "    <tr>\n",
       "      <th>25%</th>\n",
       "      <td>2.449500e+06</td>\n",
       "      <td>36.500000</td>\n",
       "      <td>102062.500000</td>\n",
       "      <td>4.700000</td>\n",
       "    </tr>\n",
       "    <tr>\n",
       "      <th>50%</th>\n",
       "      <td>3.500000e+06</td>\n",
       "      <td>68.000000</td>\n",
       "      <td>145834.000000</td>\n",
       "      <td>4.800000</td>\n",
       "    </tr>\n",
       "    <tr>\n",
       "      <th>75%</th>\n",
       "      <td>5.350000e+06</td>\n",
       "      <td>127.500000</td>\n",
       "      <td>222917.000000</td>\n",
       "      <td>4.950000</td>\n",
       "    </tr>\n",
       "    <tr>\n",
       "      <th>max</th>\n",
       "      <td>1.720000e+07</td>\n",
       "      <td>665.000000</td>\n",
       "      <td>716667.000000</td>\n",
       "      <td>5.000000</td>\n",
       "    </tr>\n",
       "  </tbody>\n",
       "</table>\n",
       "</div>"
      ],
      "text/plain": [
       "              price      review    installment     rating\n",
       "count  9.900000e+01   99.000000      99.000000  99.000000\n",
       "mean   4.753343e+06   94.494949  198056.323232   4.818182\n",
       "std    3.653102e+06   87.872864  152212.612375   0.153439\n",
       "min    3.950000e+05    6.000000   16459.000000   4.300000\n",
       "25%    2.449500e+06   36.500000  102062.500000   4.700000\n",
       "50%    3.500000e+06   68.000000  145834.000000   4.800000\n",
       "75%    5.350000e+06  127.500000  222917.000000   4.950000\n",
       "max    1.720000e+07  665.000000  716667.000000   5.000000"
      ]
     },
     "execution_count": 53,
     "metadata": {},
     "output_type": "execute_result"
    }
   ],
   "source": [
    "apple_sample = hp[hp.brand_hp == 'apple'].iloc[0:99,:]\n",
    "apple_sample.describe()"
   ]
  },
  {
   "cell_type": "markdown",
   "metadata": {},
   "source": [
    "And then imagine if there's a new product listing selling an Apple iPhone XS Max 512GB priced at IDR 27 Mil. Let's simulate that and calculate the sample's mean:"
   ]
  },
  {
   "cell_type": "code",
   "execution_count": 54,
   "metadata": {
    "scrolled": true
   },
   "outputs": [],
   "source": [
    "new_product = {\n",
    "    'product_title': ['Apple iPhone XS Max 512 GB'],\n",
    "    'price': [27000000],\n",
    "    'brand_hp': ['apple']\n",
    "}\n",
    "\n",
    "new_row = pd.DataFrame(data=new_product)\n",
    "apple_sample = apple_sample.append(new_row, sort=False)"
   ]
  },
  {
   "cell_type": "markdown",
   "metadata": {},
   "source": [
    "Now calculating the central tendency:"
   ]
  },
  {
   "cell_type": "code",
   "execution_count": 55,
   "metadata": {},
   "outputs": [
    {
     "data": {
      "text/plain": [
       "'4,975,810.00'"
      ]
     },
     "execution_count": 55,
     "metadata": {},
     "output_type": "execute_result"
    }
   ],
   "source": [
    "'{:,.2f}'.format(apple_sample.price.mean())"
   ]
  },
  {
   "cell_type": "code",
   "execution_count": 56,
   "metadata": {},
   "outputs": [
    {
     "data": {
      "text/plain": [
       "'3,500,000.00'"
      ]
     },
     "execution_count": 56,
     "metadata": {},
     "output_type": "execute_result"
    }
   ],
   "source": [
    "'{:,.2f}'.format(apple_sample.price.median())"
   ]
  },
  {
   "cell_type": "markdown",
   "metadata": {},
   "source": [
    "The mean puts that figure at about almost 1.5 times higher and is not truly representative of the actual price. While as we can see in the initial `describe()` that only 25% of our data has price more than 5.3 Mil, the mean value of price would have believe that the average price of our Apple phones was in fact is around 4.9 Mil.\n",
    "\n",
    "The median in this case is a better measure of centrality because it is not sensitive to the outlier data.\n",
    "\n",
    "If we are in fact, *required* to compute the mean on data with skewed distribution, another technique to reduce the influence of outlier data is to use a slight variation of the mean, called the Trimmed Mean. The trimmed mean removes a small designated percentage of the largest and smallest values before computing the mean. While pandas data frame does not support trimmed mean, we can use `scipy` package for `trim_mean()`:"
   ]
  },
  {
   "cell_type": "code",
   "execution_count": 57,
   "metadata": {},
   "outputs": [
    {
     "data": {
      "text/plain": [
       "'4,165,725.00'"
      ]
     },
     "execution_count": 57,
     "metadata": {},
     "output_type": "execute_result"
    }
   ],
   "source": [
    "from scipy.stats import trim_mean\n",
    "\n",
    "'{:,.2f}'.format(trim_mean(apple_sample.price, .1))"
   ]
  },
  {
   "cell_type": "markdown",
   "metadata": {},
   "source": [
    "The second parameters would trimmed 10% of the leftmost and rightmost values after sorting, and this figure is slightly beliavable than the previous one."
   ]
  },
  {
   "cell_type": "markdown",
   "metadata": {},
   "source": [
    "When there are discreet values for a variable, the **mode** refers to the value that occurs most frequently. This statistic is rarely used in practice, but pandas data frame also come in with the function:"
   ]
  },
  {
   "cell_type": "code",
   "execution_count": 58,
   "metadata": {},
   "outputs": [
    {
     "data": {
      "text/plain": [
       "0    Jakarta\n",
       "dtype: object"
      ]
     },
     "execution_count": 58,
     "metadata": {},
     "output_type": "execute_result"
    }
   ],
   "source": [
    "hp[hp.brand_hp == 'apple'].location.mode()"
   ]
  },
  {
   "cell_type": "markdown",
   "metadata": {},
   "source": [
    "## Measures of Spread"
   ]
  },
  {
   "cell_type": "markdown",
   "metadata": {},
   "source": [
    "Measures of spread measures the extent to which **value in a distribution differ from each other.** In practice, it is far easier to compute the distance between the values to their mean and when we square each one of these distances and add them all up the average1 of that result is known as **variance**. Taking the square root of the variance will result in the **standard deviation**. Just like the mean, standard deviation is the “expected value” of how far the scores deviate from the mean.\n",
    "\n",
    "To change the scenery a bit, let's take a look at Xiaomi brand from our dataset:"
   ]
  },
  {
   "cell_type": "code",
   "execution_count": 59,
   "metadata": {},
   "outputs": [
    {
     "data": {
      "text/plain": [
       "1269429778891.8962"
      ]
     },
     "execution_count": 59,
     "metadata": {},
     "output_type": "execute_result"
    }
   ],
   "source": [
    "hp[hp.brand_hp == 'xiaomi'].price.var()"
   ]
  },
  {
   "cell_type": "markdown",
   "metadata": {},
   "source": [
    "And taking the square root of variance yields the standard deviation:"
   ]
  },
  {
   "cell_type": "code",
   "execution_count": 60,
   "metadata": {},
   "outputs": [
    {
     "data": {
      "text/plain": [
       "'1,126,689.74'"
      ]
     },
     "execution_count": 60,
     "metadata": {},
     "output_type": "execute_result"
    }
   ],
   "source": [
    "'{:,.2f}'.format(hp[hp.brand_hp == 'xiaomi'].price.std())"
   ]
  },
  {
   "cell_type": "markdown",
   "metadata": {},
   "source": [
    "As stated before, think of standard deviation as the \"expected standard deviation from the mean\", means that if we were to calculate its mean, we expect positive and negative deviation around 1.1 Mil from the mean to be \"normal\"."
   ]
  },
  {
   "cell_type": "code",
   "execution_count": 61,
   "metadata": {},
   "outputs": [
    {
     "data": {
      "text/plain": [
       "'1,951,973.21'"
      ]
     },
     "execution_count": 61,
     "metadata": {},
     "output_type": "execute_result"
    }
   ],
   "source": [
    "'{:,.2f}'.format(hp[hp.brand_hp == 'xiaomi'].price.mean())"
   ]
  },
  {
   "cell_type": "markdown",
   "metadata": {},
   "source": [
    "Variance and standard deviation are always positive when the values are not identical. When there’s no variability, the variance is 0. Because variance and standard deviation are sensitive to every value, they may not be the most “representative” measurement for skewed data.\n",
    "\n",
    "Other measurements of the spread are the **range** and the **interquartile range**. The range is the distance from our smallest measurement to the largest one:"
   ]
  },
  {
   "cell_type": "code",
   "execution_count": 62,
   "metadata": {},
   "outputs": [
    {
     "data": {
      "text/plain": [
       "'9,570,000.00'"
      ]
     },
     "execution_count": 62,
     "metadata": {},
     "output_type": "execute_result"
    }
   ],
   "source": [
    "top = hp[hp.brand_hp == 'xiaomi'].price.max()\n",
    "bottom = hp[hp.brand_hp == 'xiaomi'].price.min()\n",
    "\n",
    "'{:,.2f}'.format(top-bottom)"
   ]
  },
  {
   "cell_type": "markdown",
   "metadata": {},
   "source": [
    "The interquartile range is the range computed for the middle 50% of the distribution:"
   ]
  },
  {
   "cell_type": "code",
   "execution_count": 63,
   "metadata": {},
   "outputs": [
    {
     "data": {
      "text/plain": [
       "'1,126,000.00'"
      ]
     },
     "execution_count": 63,
     "metadata": {},
     "output_type": "execute_result"
    }
   ],
   "source": [
    "third_quantile = hp[hp.brand_hp == 'xiaomi'].price.quantile(0.75)\n",
    "first_quantile = hp[hp.brand_hp == 'xiaomi'].price.quantile(0.25)\n",
    "\n",
    "'{:,.2f}'.format(third_quantile-first_quantile)"
   ]
  },
  {
   "cell_type": "markdown",
   "metadata": {},
   "source": [
    "Recall how we can call `describe()` to create a summarized numerical information for each column? It gives us a quick access to what we have learned in this section:"
   ]
  },
  {
   "cell_type": "code",
   "execution_count": 64,
   "metadata": {},
   "outputs": [
    {
     "data": {
      "text/plain": [
       "count    1.404000e+03\n",
       "mean     1.951973e+06\n",
       "std      1.126690e+06\n",
       "min      5.000000e+03\n",
       "25%      1.199000e+06\n",
       "50%      1.636000e+06\n",
       "75%      2.325000e+06\n",
       "max      9.575000e+06\n",
       "Name: price, dtype: float64"
      ]
     },
     "execution_count": 64,
     "metadata": {},
     "output_type": "execute_result"
    }
   ],
   "source": [
    "hp[hp.brand_hp == 'xiaomi'].price.describe()"
   ]
  },
  {
   "cell_type": "markdown",
   "metadata": {},
   "source": [
    "**Discussion:**\n",
    "\n",
    "Which financial assets has more votality in their annual price?"
   ]
  },
  {
   "cell_type": "code",
   "execution_count": 65,
   "metadata": {},
   "outputs": [],
   "source": [
    "price_coins = [1.4, 0.4, 0.8, 1.1, 1.8, 2.2, 2.3, 1.2]\n",
    "price_oil = [1.6, 1.2, 1.9, 0.8, 0.6, 1.5, 2.1, 1.5]"
   ]
  },
  {
   "cell_type": "markdown",
   "metadata": {},
   "source": [
    "The primary measure of votality used by stock traders and financial analysts is standard deviation, and recall that this metric reflects the average amount of an item’s price over a period of time. While the price for our fictional “oil” asset and “coins” asset averaged out to be USD 1.4 over time, which of these two present a higher votality than the other?"
   ]
  },
  {
   "cell_type": "markdown",
   "metadata": {},
   "source": [
    "A common way to quickly inspect a data is by using visualization techniques. Let's recall back to last week course using Bokeh. The following codes is used to create a *box plot*. This plot provides you a five number summary and is really useful for you to understand the distribution. It contains a several components:  \n",
    "- First quantile  \n",
    "- Median  \n",
    "- Third quantile  \n",
    "- Inner and outer fence  \n",
    "- Outliers  \n",
    "\n",
    "Let's try to use `pandas` built-in `boxplot()` function:"
   ]
  },
  {
   "cell_type": "code",
   "execution_count": 66,
   "metadata": {},
   "outputs": [
    {
     "data": {
      "text/plain": [
       "<matplotlib.axes._subplots.AxesSubplot at 0x2764e52d6d8>"
      ]
     },
     "execution_count": 66,
     "metadata": {},
     "output_type": "execute_result"
    },
    {
     "data": {
      "image/png": "[encoded data removed]",
      "text/plain": [
       "<Figure size 432x288 with 1 Axes>"
      ]
     },
     "metadata": {
      "needs_background": "light"
     },
     "output_type": "display_data"
    }
   ],
   "source": [
    "brands = ['apple', 'xiaomi']\n",
    "xiaomi_apple = hp[hp.brand_hp.isin(brands)]\n",
    "\n",
    "xiaomi_apple.boxplot(column='price', by='brand_hp')"
   ]
  },
  {
   "cell_type": "markdown",
   "metadata": {},
   "source": [
    "**Discussion:**\n",
    "\n",
    "How do you interpret the above boxplot? Can you say whether or not the two brands has different pricing standard?"
   ]
  },
  {
   "cell_type": "markdown",
   "metadata": {},
   "source": [
    "## Covariance and Correlation\n",
    "\n",
    "When we have two samples, X and Y, of the same size, then the **covariance** is an estimate of how **variation in X is related to the variation in Y**. Covariance measures how two variables *covary* and is represented as:\n",
    "\n",
    "$Cov(X,Y) = \\frac{1}{n-1} \\sum_{i=1}^{n}(X_i - \\mu_X)(Y_i - \\mu_Y)$"
   ]
  },
  {
   "cell_type": "code",
   "execution_count": 67,
   "metadata": {},
   "outputs": [
    {
     "data": {
      "text/html": [
       "<div>\n",
       "<style scoped>\n",
       "    .dataframe tbody tr th:only-of-type {\n",
       "        vertical-align: middle;\n",
       "    }\n",
       "\n",
       "    .dataframe tbody tr th {\n",
       "        vertical-align: top;\n",
       "    }\n",
       "\n",
       "    .dataframe thead th {\n",
       "        text-align: right;\n",
       "    }\n",
       "</style>\n",
       "<table border=\"1\" class=\"dataframe\">\n",
       "  <thead>\n",
       "    <tr style=\"text-align: right;\">\n",
       "      <th></th>\n",
       "      <th>price</th>\n",
       "      <th>review</th>\n",
       "      <th>installment</th>\n",
       "      <th>rating</th>\n",
       "    </tr>\n",
       "  </thead>\n",
       "  <tbody>\n",
       "    <tr>\n",
       "      <th>price</th>\n",
       "      <td>5.851683e+12</td>\n",
       "      <td>-3.626288e+07</td>\n",
       "      <td>2.438004e+11</td>\n",
       "      <td>66207.455167</td>\n",
       "    </tr>\n",
       "    <tr>\n",
       "      <th>review</th>\n",
       "      <td>-3.626288e+07</td>\n",
       "      <td>3.081258e+04</td>\n",
       "      <td>-1.511326e+06</td>\n",
       "      <td>-1.744481</td>\n",
       "    </tr>\n",
       "    <tr>\n",
       "      <th>installment</th>\n",
       "      <td>2.438004e+11</td>\n",
       "      <td>-1.511326e+06</td>\n",
       "      <td>1.015783e+10</td>\n",
       "      <td>2759.214768</td>\n",
       "    </tr>\n",
       "    <tr>\n",
       "      <th>rating</th>\n",
       "      <td>6.620746e+04</td>\n",
       "      <td>-1.744481e+00</td>\n",
       "      <td>2.759215e+03</td>\n",
       "      <td>0.035065</td>\n",
       "    </tr>\n",
       "  </tbody>\n",
       "</table>\n",
       "</div>"
      ],
      "text/plain": [
       "                    price        review   installment        rating\n",
       "price        5.851683e+12 -3.626288e+07  2.438004e+11  66207.455167\n",
       "review      -3.626288e+07  3.081258e+04 -1.511326e+06     -1.744481\n",
       "installment  2.438004e+11 -1.511326e+06  1.015783e+10   2759.214768\n",
       "rating       6.620746e+04 -1.744481e+00  2.759215e+03      0.035065"
      ]
     },
     "execution_count": 67,
     "metadata": {},
     "output_type": "execute_result"
    }
   ],
   "source": [
    "hp.cov()"
   ]
  },
  {
   "cell_type": "markdown",
   "metadata": {},
   "source": [
    "Getting a negative covariance means that smaller X tends to be associated with larger Y (and vice versa). The covariance of any variable with itself is its variance2. Notice also that $Cov(X,Y) = Cov(Y,X)$."
   ]
  },
  {
   "cell_type": "markdown",
   "metadata": {},
   "source": [
    "**Correlation**, unlike covariance, is not sensitive to the units in which our variables X and Y are measured and hence more useful for determining how strong the relationship is between variables:"
   ]
  },
  {
   "cell_type": "code",
   "execution_count": 68,
   "metadata": {},
   "outputs": [
    {
     "data": {
      "text/html": [
       "<div>\n",
       "<style scoped>\n",
       "    .dataframe tbody tr th:only-of-type {\n",
       "        vertical-align: middle;\n",
       "    }\n",
       "\n",
       "    .dataframe tbody tr th {\n",
       "        vertical-align: top;\n",
       "    }\n",
       "\n",
       "    .dataframe thead th {\n",
       "        text-align: right;\n",
       "    }\n",
       "</style>\n",
       "<table border=\"1\" class=\"dataframe\">\n",
       "  <thead>\n",
       "    <tr style=\"text-align: right;\">\n",
       "      <th></th>\n",
       "      <th>price</th>\n",
       "      <th>review</th>\n",
       "      <th>installment</th>\n",
       "      <th>rating</th>\n",
       "    </tr>\n",
       "  </thead>\n",
       "  <tbody>\n",
       "    <tr>\n",
       "      <th>price</th>\n",
       "      <td>1.000000</td>\n",
       "      <td>-0.085400</td>\n",
       "      <td>0.999985</td>\n",
       "      <td>0.146161</td>\n",
       "    </tr>\n",
       "    <tr>\n",
       "      <th>review</th>\n",
       "      <td>-0.085400</td>\n",
       "      <td>1.000000</td>\n",
       "      <td>-0.085427</td>\n",
       "      <td>-0.053072</td>\n",
       "    </tr>\n",
       "    <tr>\n",
       "      <th>installment</th>\n",
       "      <td>0.999985</td>\n",
       "      <td>-0.085427</td>\n",
       "      <td>1.000000</td>\n",
       "      <td>0.146201</td>\n",
       "    </tr>\n",
       "    <tr>\n",
       "      <th>rating</th>\n",
       "      <td>0.146161</td>\n",
       "      <td>-0.053072</td>\n",
       "      <td>0.146201</td>\n",
       "      <td>1.000000</td>\n",
       "    </tr>\n",
       "  </tbody>\n",
       "</table>\n",
       "</div>"
      ],
      "text/plain": [
       "                price    review  installment    rating\n",
       "price        1.000000 -0.085400     0.999985  0.146161\n",
       "review      -0.085400  1.000000    -0.085427 -0.053072\n",
       "installment  0.999985 -0.085427     1.000000  0.146201\n",
       "rating       0.146161 -0.053072     0.146201  1.000000"
      ]
     },
     "execution_count": 68,
     "metadata": {},
     "output_type": "execute_result"
    }
   ],
   "source": [
    "hp.corr()"
   ]
  },
  {
   "cell_type": "markdown",
   "metadata": {},
   "source": [
    "Some facts about correlation:  \n",
    "- $Cor(X,Y) == Cor(Y,X) $ \n",
    "- $-1 <= Cor(X,Y) <= 1 $ \n",
    "- $Cor(X,Y)$ is 1 or -1 only when the X and Y observations fall perfectly on a positive or negatively sloped line  \n",
    "- $Cor(X,Y) = 0$ implies no linear relationship  "
   ]
  },
  {
   "cell_type": "markdown",
   "metadata": {},
   "source": [
    "Say you had a rather large amount of variables in your hand. While python can handle large numbers well, a visualization technique called correlation plot can save you some time in inspecting your data. First let's create the dictionary for each correlation value per pairs:"
   ]
  },
  {
   "cell_type": "code",
   "execution_count": 69,
   "metadata": {},
   "outputs": [],
   "source": [
    "corr_table = hp.corr()\n",
    "\n",
    "val = []\n",
    "x = []\n",
    "y = []\n",
    "\n",
    "for index,row in corr_table.iterrows():\n",
    "    i = row.index.tolist()\n",
    "    for e in range(0,len(row)):\n",
    "        val.append(row[e])\n",
    "        y.append(index)\n",
    "        x.append(row.index.tolist()[e])\n",
    "        \n",
    "rect_dict = dict(x=x, y=y, corr=val)"
   ]
  },
  {
   "cell_type": "markdown",
   "metadata": {},
   "source": [
    "Since we'll be using `bokeh` let's import the package and prepare our Notebook:"
   ]
  },
  {
   "cell_type": "code",
   "execution_count": 70,
   "metadata": {},
   "outputs": [
    {
     "data": {
      "text/html": [
       "\n",
       "    <div class=\"bk-root\">\n",
       "        <a href=\"https://bokeh.pydata.org\" target=\"_blank\" class=\"bk-logo bk-logo-small bk-logo-notebook\"></a>\n",
       "        <span id=\"2864\">Loading BokehJS ...</span>\n",
       "    </div>"
      ]
     },
     "metadata": {},
     "output_type": "display_data"
    },
    {
     "data": {
      "application/javascript": [
       "\n",
       "(function(root) {\n",
       "  function now() {\n",
       "    return new Date();\n",
       "  }\n",
       "\n",
       "  var force = true;\n",
       "\n",
       "  if (typeof root._bokeh_onload_callbacks === \"undefined\" || force === true) {\n",
       "    root._bokeh_onload_callbacks = [];\n",
       "    root._bokeh_is_loading = undefined;\n",
       "  }\n",
       "\n",
       "  var JS_MIME_TYPE = 'application/javascript';\n",
       "  var HTML_MIME_TYPE = 'text/html';\n",
       "  var EXEC_MIME_TYPE = 'application/vnd.bokehjs_exec.v0+json';\n",
       "  var CLASS_NAME = 'output_bokeh rendered_html';\n",
       "\n",
       "  /**\n",
       "   * Render data to the DOM node\n",
       "   */\n",
       "  function render(props, node) {\n",
       "    var script = document.createElement(\"script\");\n",
       "    node.appendChild(script);\n",
       "  }\n",
       "\n",
       "  /**\n",
       "   * Handle when an output is cleared or removed\n",
       "   */\n",
       "  function handleClearOutput(event, handle) {\n",
       "    var cell = handle.cell;\n",
       "\n",
       "    var id = cell.output_area._bokeh_element_id;\n",
       "    var server_id = cell.output_area._bokeh_server_id;\n",
       "    // Clean up Bokeh references\n",
       "    if (id != null && id in Bokeh.index) {\n",
       "      Bokeh.index[id].model.document.clear();\n",
       "      delete Bokeh.index[id];\n",
       "    }\n",
       "\n",
       "    if (server_id !== undefined) {\n",
       "      // Clean up Bokeh references\n",
       "      var cmd = \"from bokeh.io.state import curstate; print(curstate().uuid_to_server['\" + server_id + \"'].get_sessions()[0].document.roots[0]._id)\";\n",
       "      cell.notebook.kernel.execute(cmd, {\n",
       "        iopub: {\n",
       "          output: function(msg) {\n",
       "            var id = msg.content.text.trim();\n",
       "            if (id in Bokeh.index) {\n",
       "              Bokeh.index[id].model.document.clear();\n",
       "              delete Bokeh.index[id];\n",
       "            }\n",
       "          }\n",
       "        }\n",
       "      });\n",
       "      // Destroy server and session\n",
       "      var cmd = \"import bokeh.io.notebook as ion; ion.destroy_server('\" + server_id + \"')\";\n",
       "      cell.notebook.kernel.execute(cmd);\n",
       "    }\n",
       "  }\n",
       "\n",
       "  /**\n",
       "   * Handle when a new output is added\n",
       "   */\n",
       "  function handleAddOutput(event, handle) {\n",
       "    var output_area = handle.output_area;\n",
       "    var output = handle.output;\n",
       "\n",
       "    // limit handleAddOutput to display_data with EXEC_MIME_TYPE content only\n",
       "    if ((output.output_type != \"display_data\") || (!output.data.hasOwnProperty(EXEC_MIME_TYPE))) {\n",
       "      return\n",
       "    }\n",
       "\n",
       "    var toinsert = output_area.element.find(\".\" + CLASS_NAME.split(' ')[0]);\n",
       "\n",
       "    if (output.metadata[EXEC_MIME_TYPE][\"id\"] !== undefined) {\n",
       "      toinsert[toinsert.length - 1].firstChild.textContent = output.data[JS_MIME_TYPE];\n",
       "      // store reference to embed id on output_area\n",
       "      output_area._bokeh_element_id = output.metadata[EXEC_MIME_TYPE][\"id\"];\n",
       "    }\n",
       "    if (output.metadata[EXEC_MIME_TYPE][\"server_id\"] !== undefined) {\n",
       "      var bk_div = document.createElement(\"div\");\n",
       "      bk_div.innerHTML = output.data[HTML_MIME_TYPE];\n",
       "      var script_attrs = bk_div.children[0].attributes;\n",
       "      for (var i = 0; i < script_attrs.length; i++) {\n",
       "        toinsert[toinsert.length - 1].firstChild.setAttribute(script_attrs[i].name, script_attrs[i].value);\n",
       "      }\n",
       "      // store reference to server id on output_area\n",
       "      output_area._bokeh_server_id = output.metadata[EXEC_MIME_TYPE][\"server_id\"];\n",
       "    }\n",
       "  }\n",
       "\n",
       "  function register_renderer(events, OutputArea) {\n",
       "\n",
       "    function append_mime(data, metadata, element) {\n",
       "      // create a DOM node to render to\n",
       "      var toinsert = this.create_output_subarea(\n",
       "        metadata,\n",
       "        CLASS_NAME,\n",
       "        EXEC_MIME_TYPE\n",
       "      );\n",
       "      this.keyboard_manager.register_events(toinsert);\n",
       "      // Render to node\n",
       "      var props = {data: data, metadata: metadata[EXEC_MIME_TYPE]};\n",
       "      render(props, toinsert[toinsert.length - 1]);\n",
       "      element.append(toinsert);\n",
       "      return toinsert\n",
       "    }\n",
       "\n",
       "    /* Handle when an output is cleared or removed */\n",
       "    events.on('clear_output.CodeCell', handleClearOutput);\n",
       "    events.on('delete.Cell', handleClearOutput);\n",
       "\n",
       "    /* Handle when a new output is added */\n",
       "    events.on('output_added.OutputArea', handleAddOutput);\n",
       "\n",
       "    /**\n",
       "     * Register the mime type and append_mime function with output_area\n",
       "     */\n",
       "    OutputArea.prototype.register_mime_type(EXEC_MIME_TYPE, append_mime, {\n",
       "      /* Is output safe? */\n",
       "      safe: true,\n",
       "      /* Index of renderer in `output_area.display_order` */\n",
       "      index: 0\n",
       "    });\n",
       "  }\n",
       "\n",
       "  // register the mime type if in Jupyter Notebook environment and previously unregistered\n",
       "  if (root.Jupyter !== undefined) {\n",
       "    var events = require('base/js/events');\n",
       "    var OutputArea = require('notebook/js/outputarea').OutputArea;\n",
       "\n",
       "    if (OutputArea.prototype.mime_types().indexOf(EXEC_MIME_TYPE) == -1) {\n",
       "      register_renderer(events, OutputArea);\n",
       "    }\n",
       "  }\n",
       "\n",
       "  \n",
       "  if (typeof (root._bokeh_timeout) === \"undefined\" || force === true) {\n",
       "    root._bokeh_timeout = Date.now() + 5000;\n",
       "    root._bokeh_failed_load = false;\n",
       "  }\n",
       "\n",
       "  var NB_LOAD_WARNING = {'data': {'text/html':\n",
       "     \"<div style='background-color: #fdd'>\\n\"+\n",
       "     \"<p>\\n\"+\n",
       "     \"BokehJS does not appear to have successfully loaded. If loading BokehJS from CDN, this \\n\"+\n",
       "     \"may be due to a slow or bad network connection. Possible fixes:\\n\"+\n",
       "     \"</p>\\n\"+\n",
       "     \"<ul>\\n\"+\n",
       "     \"<li>re-rerun `output_notebook()` to attempt to load from CDN again, or</li>\\n\"+\n",
       "     \"<li>use INLINE resources instead, as so:</li>\\n\"+\n",
       "     \"</ul>\\n\"+\n",
       "     \"<code>\\n\"+\n",
       "     \"from bokeh.resources import INLINE\\n\"+\n",
       "     \"output_notebook(resources=INLINE)\\n\"+\n",
       "     \"</code>\\n\"+\n",
       "     \"</div>\"}};\n",
       "\n",
       "  function display_loaded() {\n",
       "    var el = document.getElementById(\"2864\");\n",
       "    if (el != null) {\n",
       "      el.textContent = \"BokehJS is loading...\";\n",
       "    }\n",
       "    if (root.Bokeh !== undefined) {\n",
       "      if (el != null) {\n",
       "        el.textContent = \"BokehJS \" + root.Bokeh.version + \" successfully loaded.\";\n",
       "      }\n",
       "    } else if (Date.now() < root._bokeh_timeout) {\n",
       "      setTimeout(display_loaded, 100)\n",
       "    }\n",
       "  }\n",
       "\n",
       "\n",
       "  function run_callbacks() {\n",
       "    try {\n",
       "      root._bokeh_onload_callbacks.forEach(function(callback) {\n",
       "        if (callback != null)\n",
       "          callback();\n",
       "      });\n",
       "    } finally {\n",
       "      delete root._bokeh_onload_callbacks\n",
       "    }\n",
       "    console.debug(\"Bokeh: all callbacks have finished\");\n",
       "  }\n",
       "\n",
       "  function load_libs(css_urls, js_urls, callback) {\n",
       "    if (css_urls == null) css_urls = [];\n",
       "    if (js_urls == null) js_urls = [];\n",
       "\n",
       "    root._bokeh_onload_callbacks.push(callback);\n",
       "    if (root._bokeh_is_loading > 0) {\n",
       "      console.debug(\"Bokeh: BokehJS is being loaded, scheduling callback at\", now());\n",
       "      return null;\n",
       "    }\n",
       "    if (js_urls == null || js_urls.length === 0) {\n",
       "      run_callbacks();\n",
       "      return null;\n",
       "    }\n",
       "    console.debug(\"Bokeh: BokehJS not loaded, scheduling load and callback at\", now());\n",
       "    root._bokeh_is_loading = css_urls.length + js_urls.length;\n",
       "\n",
       "    function on_load() {\n",
       "      root._bokeh_is_loading--;\n",
       "      if (root._bokeh_is_loading === 0) {\n",
       "        console.debug(\"Bokeh: all BokehJS libraries/stylesheets loaded\");\n",
       "        run_callbacks()\n",
       "      }\n",
       "    }\n",
       "\n",
       "    function on_error() {\n",
       "      console.error(\"failed to load \" + url);\n",
       "    }\n",
       "\n",
       "    for (var i = 0; i < css_urls.length; i++) {\n",
       "      var url = css_urls[i];\n",
       "      const element = document.createElement(\"link\");\n",
       "      element.onload = on_load;\n",
       "      element.onerror = on_error;\n",
       "      element.rel = \"stylesheet\";\n",
       "      element.type = \"text/css\";\n",
       "      element.href = url;\n",
       "      console.debug(\"Bokeh: injecting link tag for BokehJS stylesheet: \", url);\n",
       "      document.body.appendChild(element);\n",
       "    }\n",
       "\n",
       "    for (var i = 0; i < js_urls.length; i++) {\n",
       "      var url = js_urls[i];\n",
       "      var element = document.createElement('script');\n",
       "      element.onload = on_load;\n",
       "      element.onerror = on_error;\n",
       "      element.async = false;\n",
       "      element.src = url;\n",
       "      console.debug(\"Bokeh: injecting script tag for BokehJS library: \", url);\n",
       "      document.head.appendChild(element);\n",
       "    }\n",
       "  };var element = document.getElementById(\"2864\");\n",
       "  if (element == null) {\n",
       "    console.error(\"Bokeh: ERROR: autoload.js configured with elementid '2864' but no matching script tag was found. \")\n",
       "    return false;\n",
       "  }\n",
       "\n",
       "  function inject_raw_css(css) {\n",
       "    const element = document.createElement(\"style\");\n",
       "    element.appendChild(document.createTextNode(css));\n",
       "    document.body.appendChild(element);\n",
       "  }\n",
       "\n",
       "  var js_urls = [\"https://cdn.pydata.org/bokeh/release/bokeh-1.3.4.min.js\", \"https://cdn.pydata.org/bokeh/release/bokeh-widgets-1.3.4.min.js\", \"https://cdn.pydata.org/bokeh/release/bokeh-tables-1.3.4.min.js\", \"https://cdn.pydata.org/bokeh/release/bokeh-gl-1.3.4.min.js\"];\n",
       "  var css_urls = [];\n",
       "\n",
       "  var inline_js = [\n",
       "    function(Bokeh) {\n",
       "      Bokeh.set_log_level(\"info\");\n",
       "    },\n",
       "    \n",
       "    function(Bokeh) {\n",
       "      \n",
       "    },\n",
       "    function(Bokeh) {} // ensure no trailing comma for IE\n",
       "  ];\n",
       "\n",
       "  function run_inline_js() {\n",
       "    \n",
       "    if ((root.Bokeh !== undefined) || (force === true)) {\n",
       "      for (var i = 0; i < inline_js.length; i++) {\n",
       "        inline_js[i].call(root, root.Bokeh);\n",
       "      }if (force === true) {\n",
       "        display_loaded();\n",
       "      }} else if (Date.now() < root._bokeh_timeout) {\n",
       "      setTimeout(run_inline_js, 100);\n",
       "    } else if (!root._bokeh_failed_load) {\n",
       "      console.log(\"Bokeh: BokehJS failed to load within specified timeout.\");\n",
       "      root._bokeh_failed_load = true;\n",
       "    } else if (force !== true) {\n",
       "      var cell = $(document.getElementById(\"2864\")).parents('.cell').data().cell;\n",
       "      cell.output_area.append_execute_result(NB_LOAD_WARNING)\n",
       "    }\n",
       "\n",
       "  }\n",
       "\n",
       "  if (root._bokeh_is_loading === 0) {\n",
       "    console.debug(\"Bokeh: BokehJS loaded, going straight to plotting\");\n",
       "    run_inline_js();\n",
       "  } else {\n",
       "    load_libs(css_urls, js_urls, function() {\n",
       "      console.debug(\"Bokeh: BokehJS plotting callback run at\", now());\n",
       "      run_inline_js();\n",
       "    });\n",
       "  }\n",
       "}(window));"
      ],
      "application/vnd.bokehjs_load.v0+json": "\n(function(root) {\n  function now() {\n    return new Date();\n  }\n\n  var force = true;\n\n  if (typeof root._bokeh_onload_callbacks === \"undefined\" || force === true) {\n    root._bokeh_onload_callbacks = [];\n    root._bokeh_is_loading = undefined;\n  }\n\n  \n\n  \n  if (typeof (root._bokeh_timeout) === \"undefined\" || force === true) {\n    root._bokeh_timeout = Date.now() + 5000;\n    root._bokeh_failed_load = false;\n  }\n\n  var NB_LOAD_WARNING = {'data': {'text/html':\n     \"<div style='background-color: #fdd'>\\n\"+\n     \"<p>\\n\"+\n     \"BokehJS does not appear to have successfully loaded. If loading BokehJS from CDN, this \\n\"+\n     \"may be due to a slow or bad network connection. Possible fixes:\\n\"+\n     \"</p>\\n\"+\n     \"<ul>\\n\"+\n     \"<li>re-rerun `output_notebook()` to attempt to load from CDN again, or</li>\\n\"+\n     \"<li>use INLINE resources instead, as so:</li>\\n\"+\n     \"</ul>\\n\"+\n     \"<code>\\n\"+\n     \"from bokeh.resources import INLINE\\n\"+\n     \"output_notebook(resources=INLINE)\\n\"+\n     \"</code>\\n\"+\n     \"</div>\"}};\n\n  function display_loaded() {\n    var el = document.getElementById(\"2864\");\n    if (el != null) {\n      el.textContent = \"BokehJS is loading...\";\n    }\n    if (root.Bokeh !== undefined) {\n      if (el != null) {\n        el.textContent = \"BokehJS \" + root.Bokeh.version + \" successfully loaded.\";\n      }\n    } else if (Date.now() < root._bokeh_timeout) {\n      setTimeout(display_loaded, 100)\n    }\n  }\n\n\n  function run_callbacks() {\n    try {\n      root._bokeh_onload_callbacks.forEach(function(callback) {\n        if (callback != null)\n          callback();\n      });\n    } finally {\n      delete root._bokeh_onload_callbacks\n    }\n    console.debug(\"Bokeh: all callbacks have finished\");\n  }\n\n  function load_libs(css_urls, js_urls, callback) {\n    if (css_urls == null) css_urls = [];\n    if (js_urls == null) js_urls = [];\n\n    root._bokeh_onload_callbacks.push(callback);\n    if (root._bokeh_is_loading > 0) {\n      console.debug(\"Bokeh: BokehJS is being loaded, scheduling callback at\", now());\n      return null;\n    }\n    if (js_urls == null || js_urls.length === 0) {\n      run_callbacks();\n      return null;\n    }\n    console.debug(\"Bokeh: BokehJS not loaded, scheduling load and callback at\", now());\n    root._bokeh_is_loading = css_urls.length + js_urls.length;\n\n    function on_load() {\n      root._bokeh_is_loading--;\n      if (root._bokeh_is_loading === 0) {\n        console.debug(\"Bokeh: all BokehJS libraries/stylesheets loaded\");\n        run_callbacks()\n      }\n    }\n\n    function on_error() {\n      console.error(\"failed to load \" + url);\n    }\n\n    for (var i = 0; i < css_urls.length; i++) {\n      var url = css_urls[i];\n      const element = document.createElement(\"link\");\n      element.onload = on_load;\n      element.onerror = on_error;\n      element.rel = \"stylesheet\";\n      element.type = \"text/css\";\n      element.href = url;\n      console.debug(\"Bokeh: injecting link tag for BokehJS stylesheet: \", url);\n      document.body.appendChild(element);\n    }\n\n    for (var i = 0; i < js_urls.length; i++) {\n      var url = js_urls[i];\n      var element = document.createElement('script');\n      element.onload = on_load;\n      element.onerror = on_error;\n      element.async = false;\n      element.src = url;\n      console.debug(\"Bokeh: injecting script tag for BokehJS library: \", url);\n      document.head.appendChild(element);\n    }\n  };var element = document.getElementById(\"2864\");\n  if (element == null) {\n    console.error(\"Bokeh: ERROR: autoload.js configured with elementid '2864' but no matching script tag was found. \")\n    return false;\n  }\n\n  function inject_raw_css(css) {\n    const element = document.createElement(\"style\");\n    element.appendChild(document.createTextNode(css));\n    document.body.appendChild(element);\n  }\n\n  var js_urls = [\"https://cdn.pydata.org/bokeh/release/bokeh-1.3.4.min.js\", \"https://cdn.pydata.org/bokeh/release/bokeh-widgets-1.3.4.min.js\", \"https://cdn.pydata.org/bokeh/release/bokeh-tables-1.3.4.min.js\", \"https://cdn.pydata.org/bokeh/release/bokeh-gl-1.3.4.min.js\"];\n  var css_urls = [];\n\n  var inline_js = [\n    function(Bokeh) {\n      Bokeh.set_log_level(\"info\");\n    },\n    \n    function(Bokeh) {\n      \n    },\n    function(Bokeh) {} // ensure no trailing comma for IE\n  ];\n\n  function run_inline_js() {\n    \n    if ((root.Bokeh !== undefined) || (force === true)) {\n      for (var i = 0; i < inline_js.length; i++) {\n        inline_js[i].call(root, root.Bokeh);\n      }if (force === true) {\n        display_loaded();\n      }} else if (Date.now() < root._bokeh_timeout) {\n      setTimeout(run_inline_js, 100);\n    } else if (!root._bokeh_failed_load) {\n      console.log(\"Bokeh: BokehJS failed to load within specified timeout.\");\n      root._bokeh_failed_load = true;\n    } else if (force !== true) {\n      var cell = $(document.getElementById(\"2864\")).parents('.cell').data().cell;\n      cell.output_area.append_execute_result(NB_LOAD_WARNING)\n    }\n\n  }\n\n  if (root._bokeh_is_loading === 0) {\n    console.debug(\"Bokeh: BokehJS loaded, going straight to plotting\");\n    run_inline_js();\n  } else {\n    load_libs(css_urls, js_urls, function() {\n      console.debug(\"Bokeh: BokehJS plotting callback run at\", now());\n      run_inline_js();\n    });\n  }\n}(window));"
     },
     "metadata": {},
     "output_type": "display_data"
    }
   ],
   "source": [
    "from bokeh.io import show, output_notebook\n",
    "\n",
    "output_notebook()"
   ]
  },
  {
   "cell_type": "markdown",
   "metadata": {},
   "source": [
    "Next, use a `rect()` glyph to create each box. The plot will provide you with quick inspection in determining a higher correlated variables (yellow), and a lower one (purple):"
   ]
  },
  {
   "cell_type": "code",
   "execution_count": 71,
   "metadata": {
    "scrolled": true
   },
   "outputs": [
    {
     "data": {
      "text/html": [
       "\n",
       "\n",
       "\n",
       "\n",
       "\n",
       "\n",
       "  <div class=\"bk-root\" id=\"a3b61a9d-b411-468c-90e6-ba9c2568f879\" data-root-id=\"2865\"></div>\n"
      ]
     },
     "metadata": {},
     "output_type": "display_data"
    },
    {
     "data": {
      "application/javascript": [
       "(function(root) {\n",
       "  function embed_document(root) {\n",
       "    \n",
       "  var docs_json = {\"10a1f562-7414-4655-ab0f-3d4d2e94a2f2\":{\"roots\":{\"references\":[{\"attributes\":{\"below\":[{\"id\":\"2876\",\"type\":\"CategoricalAxis\"}],\"center\":[{\"id\":\"2879\",\"type\":\"Grid\"},{\"id\":\"2883\",\"type\":\"Grid\"}],\"left\":[{\"id\":\"2880\",\"type\":\"CategoricalAxis\"}],\"plot_height\":500,\"plot_width\":500,\"renderers\":[{\"id\":\"2894\",\"type\":\"GlyphRenderer\"}],\"title\":{\"id\":\"2866\",\"type\":\"Title\"},\"toolbar\":{\"id\":\"2886\",\"type\":\"Toolbar\"},\"toolbar_location\":null,\"x_range\":{\"id\":\"2868\",\"type\":\"FactorRange\"},\"x_scale\":{\"id\":\"2872\",\"type\":\"CategoricalScale\"},\"y_range\":{\"id\":\"2870\",\"type\":\"FactorRange\"},\"y_scale\":{\"id\":\"2874\",\"type\":\"CategoricalScale\"}},\"id\":\"2865\",\"subtype\":\"Figure\",\"type\":\"Plot\"},{\"attributes\":{},\"id\":\"2977\",\"type\":\"UnionRenderers\"},{\"attributes\":{},\"id\":\"2877\",\"type\":\"CategoricalTicker\"},{\"attributes\":{},\"id\":\"2976\",\"type\":\"Selection\"},{\"attributes\":{},\"id\":\"2881\",\"type\":\"CategoricalTicker\"},{\"attributes\":{\"fill_color\":{\"field\":\"corr\",\"transform\":{\"id\":\"2890\",\"type\":\"LinearColorMapper\"}},\"height\":{\"units\":\"data\",\"value\":1},\"line_color\":{\"field\":\"corr\",\"transform\":{\"id\":\"2890\",\"type\":\"LinearColorMapper\"}},\"width\":{\"units\":\"data\",\"value\":1},\"x\":{\"field\":\"x\"},\"y\":{\"field\":\"y\"}},\"id\":\"2892\",\"type\":\"Rect\"},{\"attributes\":{},\"id\":\"2974\",\"type\":\"CategoricalTickFormatter\"},{\"attributes\":{},\"id\":\"2972\",\"type\":\"CategoricalTickFormatter\"},{\"attributes\":{\"high\":1,\"low\":-1,\"palette\":[\"#0C0786\",\"#100787\",\"#130689\",\"#15068A\",\"#18068B\",\"#1B068C\",\"#1D068D\",\"#1F058E\",\"#21058F\",\"#230590\",\"#250591\",\"#270592\",\"#290593\",\"#2B0594\",\"#2D0494\",\"#2F0495\",\"#310496\",\"#330497\",\"#340498\",\"#360498\",\"#380499\",\"#3A049A\",\"#3B039A\",\"#3D039B\",\"#3F039C\",\"#40039C\",\"#42039D\",\"#44039E\",\"#45039E\",\"#47029F\",\"#49029F\",\"#4A02A0\",\"#4C02A1\",\"#4E02A1\",\"#4F02A2\",\"#5101A2\",\"#5201A3\",\"#5401A3\",\"#5601A3\",\"#5701A4\",\"#5901A4\",\"#5A00A5\",\"#5C00A5\",\"#5E00A5\",\"#5F00A6\",\"#6100A6\",\"#6200A6\",\"#6400A7\",\"#6500A7\",\"#6700A7\",\"#6800A7\",\"#6A00A7\",\"#6C00A8\",\"#6D00A8\",\"#6F00A8\",\"#7000A8\",\"#7200A8\",\"#7300A8\",\"#7500A8\",\"#7601A8\",\"#7801A8\",\"#7901A8\",\"#7B02A8\",\"#7C02A7\",\"#7E03A7\",\"#7F03A7\",\"#8104A7\",\"#8204A7\",\"#8405A6\",\"#8506A6\",\"#8607A6\",\"#8807A5\",\"#8908A5\",\"#8B09A4\",\"#8C0AA4\",\"#8E0CA4\",\"#8F0DA3\",\"#900EA3\",\"#920FA2\",\"#9310A1\",\"#9511A1\",\"#9612A0\",\"#9713A0\",\"#99149F\",\"#9A159E\",\"#9B179E\",\"#9D189D\",\"#9E199C\",\"#9F1A9B\",\"#A01B9B\",\"#A21C9A\",\"#A31D99\",\"#A41E98\",\"#A51F97\",\"#A72197\",\"#A82296\",\"#A92395\",\"#AA2494\",\"#AC2593\",\"#AD2692\",\"#AE2791\",\"#AF2890\",\"#B02A8F\",\"#B12B8F\",\"#B22C8E\",\"#B42D8D\",\"#B52E8C\",\"#B62F8B\",\"#B7308A\",\"#B83289\",\"#B93388\",\"#BA3487\",\"#BB3586\",\"#BC3685\",\"#BD3784\",\"#BE3883\",\"#BF3982\",\"#C03B81\",\"#C13C80\",\"#C23D80\",\"#C33E7F\",\"#C43F7E\",\"#C5407D\",\"#C6417C\",\"#C7427B\",\"#C8447A\",\"#C94579\",\"#CA4678\",\"#CB4777\",\"#CC4876\",\"#CD4975\",\"#CE4A75\",\"#CF4B74\",\"#D04D73\",\"#D14E72\",\"#D14F71\",\"#D25070\",\"#D3516F\",\"#D4526E\",\"#D5536D\",\"#D6556D\",\"#D7566C\",\"#D7576B\",\"#D8586A\",\"#D95969\",\"#DA5A68\",\"#DB5B67\",\"#DC5D66\",\"#DC5E66\",\"#DD5F65\",\"#DE6064\",\"#DF6163\",\"#DF6262\",\"#E06461\",\"#E16560\",\"#E26660\",\"#E3675F\",\"#E3685E\",\"#E46A5D\",\"#E56B5C\",\"#E56C5B\",\"#E66D5A\",\"#E76E5A\",\"#E87059\",\"#E87158\",\"#E97257\",\"#EA7356\",\"#EA7455\",\"#EB7654\",\"#EC7754\",\"#EC7853\",\"#ED7952\",\"#ED7B51\",\"#EE7C50\",\"#EF7D4F\",\"#EF7E4E\",\"#F0804D\",\"#F0814D\",\"#F1824C\",\"#F2844B\",\"#F2854A\",\"#F38649\",\"#F38748\",\"#F48947\",\"#F48A47\",\"#F58B46\",\"#F58D45\",\"#F68E44\",\"#F68F43\",\"#F69142\",\"#F79241\",\"#F79341\",\"#F89540\",\"#F8963F\",\"#F8983E\",\"#F9993D\",\"#F99A3C\",\"#FA9C3B\",\"#FA9D3A\",\"#FA9F3A\",\"#FAA039\",\"#FBA238\",\"#FBA337\",\"#FBA436\",\"#FCA635\",\"#FCA735\",\"#FCA934\",\"#FCAA33\",\"#FCAC32\",\"#FCAD31\",\"#FDAF31\",\"#FDB030\",\"#FDB22F\",\"#FDB32E\",\"#FDB52D\",\"#FDB62D\",\"#FDB82C\",\"#FDB92B\",\"#FDBB2B\",\"#FDBC2A\",\"#FDBE29\",\"#FDC029\",\"#FDC128\",\"#FDC328\",\"#FDC427\",\"#FDC626\",\"#FCC726\",\"#FCC926\",\"#FCCB25\",\"#FCCC25\",\"#FCCE25\",\"#FBD024\",\"#FBD124\",\"#FBD324\",\"#FAD524\",\"#FAD624\",\"#FAD824\",\"#F9D924\",\"#F9DB24\",\"#F8DD24\",\"#F8DF24\",\"#F7E024\",\"#F7E225\",\"#F6E425\",\"#F6E525\",\"#F5E726\",\"#F5E926\",\"#F4EA26\",\"#F3EC26\",\"#F3EE26\",\"#F2F026\",\"#F2F126\",\"#F1F326\",\"#F0F525\",\"#F0F623\",\"#EFF821\"]},\"id\":\"2890\",\"type\":\"LinearColorMapper\"},{\"attributes\":{\"active_drag\":\"auto\",\"active_inspect\":\"auto\",\"active_multi\":null,\"active_scroll\":\"auto\",\"active_tap\":\"auto\",\"tools\":[{\"id\":\"2884\",\"type\":\"HoverTool\"},{\"id\":\"2885\",\"type\":\"SaveTool\"}]},\"id\":\"2886\",\"type\":\"Toolbar\"},{\"attributes\":{},\"id\":\"2874\",\"type\":\"CategoricalScale\"},{\"attributes\":{\"dimension\":1,\"ticker\":{\"id\":\"2881\",\"type\":\"CategoricalTicker\"}},\"id\":\"2883\",\"type\":\"Grid\"},{\"attributes\":{\"fill_alpha\":{\"value\":0.1},\"fill_color\":{\"value\":\"#1f77b4\"},\"height\":{\"units\":\"data\",\"value\":1},\"line_alpha\":{\"value\":0.1},\"line_color\":{\"value\":\"#1f77b4\"},\"width\":{\"units\":\"data\",\"value\":1},\"x\":{\"field\":\"x\"},\"y\":{\"field\":\"y\"}},\"id\":\"2893\",\"type\":\"Rect\"},{\"attributes\":{},\"id\":\"2872\",\"type\":\"CategoricalScale\"},{\"attributes\":{\"formatter\":{\"id\":\"2972\",\"type\":\"CategoricalTickFormatter\"},\"ticker\":{\"id\":\"2881\",\"type\":\"CategoricalTicker\"}},\"id\":\"2880\",\"type\":\"CategoricalAxis\"},{\"attributes\":{},\"id\":\"2885\",\"type\":\"SaveTool\"},{\"attributes\":{\"formatter\":{\"id\":\"2974\",\"type\":\"CategoricalTickFormatter\"},\"ticker\":{\"id\":\"2877\",\"type\":\"CategoricalTicker\"}},\"id\":\"2876\",\"type\":\"CategoricalAxis\"},{\"attributes\":{\"ticker\":{\"id\":\"2877\",\"type\":\"CategoricalTicker\"}},\"id\":\"2879\",\"type\":\"Grid\"},{\"attributes\":{\"source\":{\"id\":\"2889\",\"type\":\"ColumnDataSource\"}},\"id\":\"2895\",\"type\":\"CDSView\"},{\"attributes\":{\"callback\":null,\"factors\":[\"price\",\"review\",\"installment\",\"rating\"]},\"id\":\"2870\",\"type\":\"FactorRange\"},{\"attributes\":{\"data_source\":{\"id\":\"2889\",\"type\":\"ColumnDataSource\"},\"glyph\":{\"id\":\"2892\",\"type\":\"Rect\"},\"hover_glyph\":null,\"muted_glyph\":null,\"nonselection_glyph\":{\"id\":\"2893\",\"type\":\"Rect\"},\"selection_glyph\":null,\"view\":{\"id\":\"2895\",\"type\":\"CDSView\"}},\"id\":\"2894\",\"type\":\"GlyphRenderer\"},{\"attributes\":{\"callback\":null,\"tooltips\":[[\"Correlation\",\"@corr{0.0000}\"]]},\"id\":\"2884\",\"type\":\"HoverTool\"},{\"attributes\":{\"callback\":null,\"data\":{\"corr\":[1.0,-0.08540000631625969,0.9999852690071831,0.146161262981343,-0.08540000631625969,1.0,-0.08542672928219056,-0.05307230002417964,0.9999852690071831,-0.08542672928219056,1.0,0.14620115843522424,0.146161262981343,-0.05307230002417964,0.14620115843522424,1.0],\"x\":[\"price\",\"review\",\"installment\",\"rating\",\"price\",\"review\",\"installment\",\"rating\",\"price\",\"review\",\"installment\",\"rating\",\"price\",\"review\",\"installment\",\"rating\"],\"y\":[\"price\",\"price\",\"price\",\"price\",\"review\",\"review\",\"review\",\"review\",\"installment\",\"installment\",\"installment\",\"installment\",\"rating\",\"rating\",\"rating\",\"rating\"]},\"selected\":{\"id\":\"2976\",\"type\":\"Selection\"},\"selection_policy\":{\"id\":\"2977\",\"type\":\"UnionRenderers\"}},\"id\":\"2889\",\"type\":\"ColumnDataSource\"},{\"attributes\":{\"callback\":null,\"factors\":[\"price\",\"review\",\"installment\",\"rating\"]},\"id\":\"2868\",\"type\":\"FactorRange\"},{\"attributes\":{\"text\":\"Correlation Heatmap\"},\"id\":\"2866\",\"type\":\"Title\"}],\"root_ids\":[\"2865\"]},\"title\":\"Bokeh Application\",\"version\":\"1.3.4\"}};\n",
       "  var render_items = [{\"docid\":\"10a1f562-7414-4655-ab0f-3d4d2e94a2f2\",\"roots\":{\"2865\":\"a3b61a9d-b411-468c-90e6-ba9c2568f879\"}}];\n",
       "  root.Bokeh.embed.embed_items_notebook(docs_json, render_items);\n",
       "\n",
       "  }\n",
       "  if (root.Bokeh !== undefined) {\n",
       "    embed_document(root);\n",
       "  } else {\n",
       "    var attempts = 0;\n",
       "    var timer = setInterval(function(root) {\n",
       "      if (root.Bokeh !== undefined) {\n",
       "        embed_document(root);\n",
       "        clearInterval(timer);\n",
       "      }\n",
       "      attempts++;\n",
       "      if (attempts > 100) {\n",
       "        console.log(\"Bokeh: ERROR: Unable to run BokehJS code because BokehJS library is missing\");\n",
       "        clearInterval(timer);\n",
       "      }\n",
       "    }, 10, root)\n",
       "  }\n",
       "})(window);"
      ],
      "application/vnd.bokehjs_exec.v0+json": ""
     },
     "metadata": {
      "application/vnd.bokehjs_exec.v0+json": {
       "id": "2865"
      }
     },
     "output_type": "display_data"
    }
   ],
   "source": [
    "from bokeh.transform import linear_cmap\n",
    "from bokeh.palettes import all_palettes\n",
    "from bokeh.plotting import figure\n",
    "from bokeh.models import ColumnDataSource\n",
    "\n",
    "p = figure(title=\"Correlation Heatmap\", \n",
    "           x_range=corr_table.columns.tolist(), \n",
    "           y_range=corr_table.columns.tolist(),\n",
    "           toolbar_location=None,\n",
    "           tools='hover, save',\n",
    "           tooltips=[('Correlation','@corr{0.0000}')],\n",
    "           plot_width=500,\n",
    "           plot_height=500)\n",
    "\n",
    "p.rect('x', 'y',\n",
    "       source=ColumnDataSource(rect_dict),\n",
    "       color=linear_cmap('corr', all_palettes['Plasma'][256], -1, 1),\n",
    "       width=1, \n",
    "       height=1)\n",
    "\n",
    "show(p)\n"
   ]
  },
  {
   "cell_type": "markdown",
   "metadata": {},
   "source": [
    "![ ](assets/2.png)"
   ]
  },
  {
   "cell_type": "markdown",
   "metadata": {},
   "source": [
    "## The Normal Distribution\n",
    "\n",
    "Another way of studying the central tendency and spread of data is through a curve: a curve is often used to represent a distribution and the most famous of all distributions is the normal curve.\n",
    "\n",
    "A normal distribution with a mean of 0 and standard deviation of 1 is called a **standard normal curve** and can be plotted with while specifying the limits for our x-axis:"
   ]
  },
  {
   "cell_type": "code",
   "execution_count": 72,
   "metadata": {},
   "outputs": [
    {
     "data": {
      "text/html": [
       "\n",
       "\n",
       "\n",
       "\n",
       "\n",
       "\n",
       "  <div class=\"bk-root\" id=\"adb6bffc-65f9-4185-8d69-e7f7473fcea1\" data-root-id=\"3020\"></div>\n"
      ]
     },
     "metadata": {},
     "output_type": "display_data"
    },
    {
     "data": {
      "application/javascript": [
       "(function(root) {\n",
       "  function embed_document(root) {\n",
       "    \n",
       "  var docs_json = {\"4bce9e0f-b7d8-447a-9f41-8b6d30b1585e\":{\"roots\":{\"references\":[{\"attributes\":{\"below\":[{\"id\":\"3031\",\"type\":\"LinearAxis\"}],\"center\":[{\"id\":\"3035\",\"type\":\"Grid\"},{\"id\":\"3040\",\"type\":\"Grid\"},{\"id\":\"3055\",\"type\":\"Legend\"}],\"left\":[{\"id\":\"3036\",\"type\":\"LinearAxis\"}],\"plot_height\":500,\"plot_width\":800,\"renderers\":[{\"id\":\"3048\",\"type\":\"GlyphRenderer\"}],\"title\":{\"id\":\"3021\",\"type\":\"Title\"},\"toolbar\":{\"id\":\"3042\",\"type\":\"Toolbar\"},\"toolbar_location\":null,\"x_range\":{\"id\":\"3023\",\"type\":\"DataRange1d\"},\"x_scale\":{\"id\":\"3027\",\"type\":\"LinearScale\"},\"y_range\":{\"id\":\"3025\",\"type\":\"DataRange1d\"},\"y_scale\":{\"id\":\"3029\",\"type\":\"LinearScale\"}},\"id\":\"3020\",\"subtype\":\"Figure\",\"type\":\"Plot\"},{\"attributes\":{\"active_drag\":\"auto\",\"active_inspect\":\"auto\",\"active_multi\":null,\"active_scroll\":\"auto\",\"active_tap\":\"auto\",\"tools\":[{\"id\":\"3041\",\"type\":\"HoverTool\"}]},\"id\":\"3042\",\"type\":\"Toolbar\"},{\"attributes\":{\"callback\":null,\"tooltips\":[[\"Probability\",\"@pdf{0.00000}\"],[\"Sigma\",\"@x{0.00000}\"]]},\"id\":\"3041\",\"type\":\"HoverTool\"},{\"attributes\":{},\"id\":\"3053\",\"type\":\"BasicTickFormatter\"},{\"attributes\":{\"label\":{\"value\":\"PDF\"},\"renderers\":[{\"id\":\"3048\",\"type\":\"GlyphRenderer\"}]},\"id\":\"3056\",\"type\":\"LegendItem\"},{\"attributes\":{\"items\":[{\"id\":\"3056\",\"type\":\"LegendItem\"}],\"location\":\"center_right\"},\"id\":\"3055\",\"type\":\"Legend\"},{\"attributes\":{\"text\":\"Normal Distribution (\\u03bc=0, \\u03c3=1)\"},\"id\":\"3021\",\"type\":\"Title\"},{\"attributes\":{},\"id\":\"3144\",\"type\":\"Selection\"},{\"attributes\":{},\"id\":\"3145\",\"type\":\"UnionRenderers\"},{\"attributes\":{\"callback\":null,\"data\":{\"pdf\":{\"__ndarray__\":\"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\",\"dtype\":\"float64\",\"shape\":[1000]},\"x\":{\"__ndarray__\":\"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\",\"dtype\":\"float64\",\"shape\":[1000]}},\"selected\":{\"id\":\"3144\",\"type\":\"Selection\"},\"selection_policy\":{\"id\":\"3145\",\"type\":\"UnionRenderers\"}},\"id\":\"3044\",\"type\":\"ColumnDataSource\"},{\"attributes\":{\"data_source\":{\"id\":\"3044\",\"type\":\"ColumnDataSource\"},\"glyph\":{\"id\":\"3046\",\"type\":\"Line\"},\"hover_glyph\":null,\"muted_glyph\":null,\"nonselection_glyph\":{\"id\":\"3047\",\"type\":\"Line\"},\"selection_glyph\":null,\"view\":{\"id\":\"3049\",\"type\":\"CDSView\"}},\"id\":\"3048\",\"type\":\"GlyphRenderer\"},{\"attributes\":{\"source\":{\"id\":\"3044\",\"type\":\"ColumnDataSource\"}},\"id\":\"3049\",\"type\":\"CDSView\"},{\"attributes\":{\"callback\":null},\"id\":\"3023\",\"type\":\"DataRange1d\"},{\"attributes\":{\"line_alpha\":0.7,\"line_color\":\"#ff8888\",\"line_width\":4,\"x\":{\"field\":\"x\"},\"y\":{\"field\":\"pdf\"}},\"id\":\"3046\",\"type\":\"Line\"},{\"attributes\":{\"callback\":null,\"start\":0},\"id\":\"3025\",\"type\":\"DataRange1d\"},{\"attributes\":{},\"id\":\"3027\",\"type\":\"LinearScale\"},{\"attributes\":{},\"id\":\"3029\",\"type\":\"LinearScale\"},{\"attributes\":{\"line_alpha\":0.1,\"line_color\":\"#1f77b4\",\"line_width\":4,\"x\":{\"field\":\"x\"},\"y\":{\"field\":\"pdf\"}},\"id\":\"3047\",\"type\":\"Line\"},{\"attributes\":{\"axis_label\":\"x\",\"formatter\":{\"id\":\"3053\",\"type\":\"BasicTickFormatter\"},\"ticker\":{\"id\":\"3032\",\"type\":\"BasicTicker\"}},\"id\":\"3031\",\"type\":\"LinearAxis\"},{\"attributes\":{},\"id\":\"3032\",\"type\":\"BasicTicker\"},{\"attributes\":{\"grid_line_color\":\"white\",\"ticker\":{\"id\":\"3032\",\"type\":\"BasicTicker\"}},\"id\":\"3035\",\"type\":\"Grid\"},{\"attributes\":{\"axis_label\":\"Pr(x)\",\"formatter\":{\"id\":\"3051\",\"type\":\"BasicTickFormatter\"},\"ticker\":{\"id\":\"3037\",\"type\":\"BasicTicker\"}},\"id\":\"3036\",\"type\":\"LinearAxis\"},{\"attributes\":{},\"id\":\"3051\",\"type\":\"BasicTickFormatter\"},{\"attributes\":{},\"id\":\"3037\",\"type\":\"BasicTicker\"},{\"attributes\":{\"dimension\":1,\"grid_line_color\":\"white\",\"ticker\":{\"id\":\"3037\",\"type\":\"BasicTicker\"}},\"id\":\"3040\",\"type\":\"Grid\"}],\"root_ids\":[\"3020\"]},\"title\":\"Bokeh Application\",\"version\":\"1.3.4\"}};\n",
       "  var render_items = [{\"docid\":\"4bce9e0f-b7d8-447a-9f41-8b6d30b1585e\",\"roots\":{\"3020\":\"adb6bffc-65f9-4185-8d69-e7f7473fcea1\"}}];\n",
       "  root.Bokeh.embed.embed_items_notebook(docs_json, render_items);\n",
       "\n",
       "  }\n",
       "  if (root.Bokeh !== undefined) {\n",
       "    embed_document(root);\n",
       "  } else {\n",
       "    var attempts = 0;\n",
       "    var timer = setInterval(function(root) {\n",
       "      if (root.Bokeh !== undefined) {\n",
       "        embed_document(root);\n",
       "        clearInterval(timer);\n",
       "      }\n",
       "      attempts++;\n",
       "      if (attempts > 100) {\n",
       "        console.log(\"Bokeh: ERROR: Unable to run BokehJS code because BokehJS library is missing\");\n",
       "        clearInterval(timer);\n",
       "      }\n",
       "    }, 10, root)\n",
       "  }\n",
       "})(window);"
      ],
      "application/vnd.bokehjs_exec.v0+json": ""
     },
     "metadata": {
      "application/vnd.bokehjs_exec.v0+json": {
       "id": "3020"
      }
     },
     "output_type": "display_data"
    }
   ],
   "source": [
    "import numpy as np\n",
    "from scipy.stats import norm\n",
    "import scipy\n",
    "\n",
    "def density_plot(title, x, pdf):\n",
    "    p = figure(title=title, \n",
    "               tools='hover',\n",
    "               toolbar_location=None,\n",
    "               tooltips=[('Probability','@pdf{0.00000}'),('Sigma','@x{0.00000}')],\n",
    "               plot_width=800, \n",
    "               plot_height=500)\n",
    "    \n",
    "    di = dict(x=x, pdf=pdf)\n",
    "    \n",
    "    p.line('x', 'pdf', line_color=\"#ff8888\", line_width=4, alpha=0.7, legend=\"PDF\", source=ColumnDataSource(di))\n",
    "\n",
    "    p.y_range.start = 0\n",
    "    p.legend.location = \"center_right\"\n",
    "    p.xaxis.axis_label = 'x'\n",
    "    p.yaxis.axis_label = 'Pr(x)'\n",
    "    p.grid.grid_line_color=\"white\"\n",
    "    return p\n",
    "\n",
    "\n",
    "mu, sigma = 0, 1\n",
    "\n",
    "x = np.linspace(-4, 4, 1000)\n",
    "pdf = norm.pdf(x)\n",
    "\n",
    "p = density_plot(f\"Normal Distribution (μ={mu}, σ={sigma})\", x, pdf)\n",
    "\n",
    "show(p)"
   ]
  },
  {
   "cell_type": "markdown",
   "metadata": {},
   "source": [
    "![](assets/3.png)"
   ]
  },
  {
   "cell_type": "markdown",
   "metadata": {},
   "source": [
    "When a measurement follows a standard normal distribution, then the assumptions of a normal distribution can be applied to the data and these assumptions can be completely specified by two parameters, which are the mean and standard deviation. The empirical rule of a standard normal gives us the following:\n",
    "\n",
    "- 68% of data will fall within 1 standard deviation of the mean  \n",
    "- 95% of data will fall within 2 standard deviations of the mean  \n",
    "- 99.7% of data will fall within 3 standard deviations of the mean  \n",
    "\n",
    "Scroll back to the normal curve we plotted above, observe:  \n",
    "- It is perfectly symmetrical   \n",
    "- It is unimodal (has only a single mode)  \n",
    "- Area under curve is 1  \n",
    "\n",
    "One relating idea that gives the normal distribution such significance is known as the **Central limit theorem**: it says that when we have many independent variables generated by all kinds of distributions, the aggregate of those variables will tend toward a normal distribution assuming of course the lack of any extraordinary intervention. This universality is observed across different domains making the normal distribution a core centerpiece in applied statistics and mathematics."
   ]
  },
  {
   "cell_type": "markdown",
   "metadata": {},
   "source": [
    "As an exercise, I’d like you to generate 50 random numbers using `numpy` indicating mean of 0 and standard deviation of 1. Now use the `density()` function I created and create a plot based on the generated 50 random numbers:"
   ]
  },
  {
   "cell_type": "code",
   "execution_count": 73,
   "metadata": {},
   "outputs": [
    {
     "data": {
      "text/html": [
       "\n",
       "\n",
       "\n",
       "\n",
       "\n",
       "\n",
       "  <div class=\"bk-root\" id=\"e9d54800-1d6c-4824-93ff-00e17043ad59\" data-root-id=\"3188\"></div>\n"
      ]
     },
     "metadata": {},
     "output_type": "display_data"
    },
    {
     "data": {
      "application/javascript": [
       "(function(root) {\n",
       "  function embed_document(root) {\n",
       "    \n",
       "  var docs_json = {\"c234dda3-ec49-4b79-bc94-a92d286afff1\":{\"roots\":{\"references\":[{\"attributes\":{\"below\":[{\"id\":\"3199\",\"type\":\"LinearAxis\"}],\"center\":[{\"id\":\"3203\",\"type\":\"Grid\"},{\"id\":\"3208\",\"type\":\"Grid\"},{\"id\":\"3223\",\"type\":\"Legend\"}],\"left\":[{\"id\":\"3204\",\"type\":\"LinearAxis\"}],\"plot_height\":500,\"plot_width\":800,\"renderers\":[{\"id\":\"3216\",\"type\":\"GlyphRenderer\"}],\"title\":{\"id\":\"3189\",\"type\":\"Title\"},\"toolbar\":{\"id\":\"3210\",\"type\":\"Toolbar\"},\"toolbar_location\":null,\"x_range\":{\"id\":\"3191\",\"type\":\"DataRange1d\"},\"x_scale\":{\"id\":\"3195\",\"type\":\"LinearScale\"},\"y_range\":{\"id\":\"3193\",\"type\":\"DataRange1d\"},\"y_scale\":{\"id\":\"3197\",\"type\":\"LinearScale\"}},\"id\":\"3188\",\"subtype\":\"Figure\",\"type\":\"Plot\"},{\"attributes\":{},\"id\":\"3205\",\"type\":\"BasicTicker\"},{\"attributes\":{\"callback\":null,\"data\":{\"pdf\":{\"__ndarray__\":\"E7T5OZlQqz/fvjId3KS4PxrJbr29gro/MTgZcDbwuj/kZnABPWC7P7qbHqvj/b8/gDPskFzTxT+JXSH5DpLPP0JyVOH1UtA/m3qCXEBM0z85ktp9BZfTP4kPNHEj1NM/+uDM+ApY1j8K4nMZn6zWP5lCIv99t9c/+sssX5bR1z+Wy3fHsjjYP95n+2IThtg/n30C/Z2N2D8HKdzVx5nYP441zEU5ttg/I0nBYTg+2T8R6i5q10jZP2z/Cq2Sotk/cwYk6yw62T8S68MFuS/ZPyr8Z2Vt8Ng/rHoJ2rXs2D9wBDzvXw7YP4FJZ+p56Nc/6KL0CvOh1z+13S+r54HXP0MkXeirWNc/mFFX5rsp1z+84fnS0xzWPz0YeEsLb9U/1P+jcbE81T8IHRJ43gPQP+bUvOPcSs8/sjSQmqd0zD9uhgZuNW7MP4n1Zge9CMw/afzw0Lyzyz+gruZsjEvKP13nRV7Is8M/LxeaEMNxwz9OfZ08Pu68PzOGGHe4yLc/12soUnBGtz+69q+9YcKsPw==\",\"dtype\":\"float64\",\"shape\":[50]},\"x\":{\"__ndarray__\":\"uZ2l+tP/AsDqGmQw75L+v97saHKy1vy/daW7u0Zm/L/cbDTef+/7v38AIiaeZPe//9YrLrM48r+qWeoACEzrvy1zOayfbeq/J4P5rYys5b/rycBLEDLlv9EErSYDzeS/IWoE+ZhJ4L8RCtMcljrfvzQG3kqcf9q//+bgQST72b9sJ+Bt7MrXvzKrURN489W/aIGRzm7C1b8ZvLsD+3HVv+ZU8VmjrtS/YB6M74gq0L8T77pKM2vPv9769t21hMG/FkTjcZPflz9LxylhlQifP35zu1svULE/cIjw84jSsT+SNhdYfHnFP3/CFhVFS8c/826va0WIyj8jlzetP/PLP9qqAPGmu80/DzXw51u2zz9texf13SjVP8iwGXmWYNg/RXIPnpJK2T+3Vl25o+boP5WoRaqB2ek/4jCViHyr7T9omhYUf7TtPxWmcDMdQ+4/fhmDjbq77j/2Qw5tTWPwP0zetAJ3wvU/j2xQpgT/9T8NiM+Zizz7P3MhyCsYe/4/7VvQPQ/Q/j/33ngU41ICQA==\",\"dtype\":\"float64\",\"shape\":[50]}},\"selected\":{\"id\":\"3319\",\"type\":\"Selection\"},\"selection_policy\":{\"id\":\"3320\",\"type\":\"UnionRenderers\"}},\"id\":\"3212\",\"type\":\"ColumnDataSource\"},{\"attributes\":{\"dimension\":1,\"grid_line_color\":\"white\",\"ticker\":{\"id\":\"3205\",\"type\":\"BasicTicker\"}},\"id\":\"3208\",\"type\":\"Grid\"},{\"attributes\":{\"grid_line_color\":\"white\",\"ticker\":{\"id\":\"3200\",\"type\":\"BasicTicker\"}},\"id\":\"3203\",\"type\":\"Grid\"},{\"attributes\":{},\"id\":\"3197\",\"type\":\"LinearScale\"},{\"attributes\":{\"axis_label\":\"Pr(x)\",\"formatter\":{\"id\":\"3219\",\"type\":\"BasicTickFormatter\"},\"ticker\":{\"id\":\"3205\",\"type\":\"BasicTicker\"}},\"id\":\"3204\",\"type\":\"LinearAxis\"},{\"attributes\":{\"callback\":null},\"id\":\"3191\",\"type\":\"DataRange1d\"},{\"attributes\":{},\"id\":\"3319\",\"type\":\"Selection\"},{\"attributes\":{\"active_drag\":\"auto\",\"active_inspect\":\"auto\",\"active_multi\":null,\"active_scroll\":\"auto\",\"active_tap\":\"auto\",\"tools\":[{\"id\":\"3209\",\"type\":\"HoverTool\"}]},\"id\":\"3210\",\"type\":\"Toolbar\"},{\"attributes\":{\"label\":{\"value\":\"PDF\"},\"renderers\":[{\"id\":\"3216\",\"type\":\"GlyphRenderer\"}]},\"id\":\"3224\",\"type\":\"LegendItem\"},{\"attributes\":{\"callback\":null,\"tooltips\":[[\"Probability\",\"@pdf{0.00000}\"],[\"Sigma\",\"@x{0.00000}\"]]},\"id\":\"3209\",\"type\":\"HoverTool\"},{\"attributes\":{\"callback\":null,\"start\":0},\"id\":\"3193\",\"type\":\"DataRange1d\"},{\"attributes\":{\"axis_label\":\"x\",\"formatter\":{\"id\":\"3221\",\"type\":\"BasicTickFormatter\"},\"ticker\":{\"id\":\"3200\",\"type\":\"BasicTicker\"}},\"id\":\"3199\",\"type\":\"LinearAxis\"},{\"attributes\":{\"line_alpha\":0.7,\"line_color\":\"#ff8888\",\"line_width\":4,\"x\":{\"field\":\"x\"},\"y\":{\"field\":\"pdf\"}},\"id\":\"3214\",\"type\":\"Line\"},{\"attributes\":{\"source\":{\"id\":\"3212\",\"type\":\"ColumnDataSource\"}},\"id\":\"3217\",\"type\":\"CDSView\"},{\"attributes\":{\"line_alpha\":0.1,\"line_color\":\"#1f77b4\",\"line_width\":4,\"x\":{\"field\":\"x\"},\"y\":{\"field\":\"pdf\"}},\"id\":\"3215\",\"type\":\"Line\"},{\"attributes\":{\"data_source\":{\"id\":\"3212\",\"type\":\"ColumnDataSource\"},\"glyph\":{\"id\":\"3214\",\"type\":\"Line\"},\"hover_glyph\":null,\"muted_glyph\":null,\"nonselection_glyph\":{\"id\":\"3215\",\"type\":\"Line\"},\"selection_glyph\":null,\"view\":{\"id\":\"3217\",\"type\":\"CDSView\"}},\"id\":\"3216\",\"type\":\"GlyphRenderer\"},{\"attributes\":{},\"id\":\"3219\",\"type\":\"BasicTickFormatter\"},{\"attributes\":{\"items\":[{\"id\":\"3224\",\"type\":\"LegendItem\"}],\"location\":\"center_right\"},\"id\":\"3223\",\"type\":\"Legend\"},{\"attributes\":{},\"id\":\"3221\",\"type\":\"BasicTickFormatter\"},{\"attributes\":{},\"id\":\"3320\",\"type\":\"UnionRenderers\"},{\"attributes\":{},\"id\":\"3195\",\"type\":\"LinearScale\"},{\"attributes\":{},\"id\":\"3200\",\"type\":\"BasicTicker\"},{\"attributes\":{\"text\":\"Probability Density Distribution\"},\"id\":\"3189\",\"type\":\"Title\"}],\"root_ids\":[\"3188\"]},\"title\":\"Bokeh Application\",\"version\":\"1.3.4\"}};\n",
       "  var render_items = [{\"docid\":\"c234dda3-ec49-4b79-bc94-a92d286afff1\",\"roots\":{\"3188\":\"e9d54800-1d6c-4824-93ff-00e17043ad59\"}}];\n",
       "  root.Bokeh.embed.embed_items_notebook(docs_json, render_items);\n",
       "\n",
       "  }\n",
       "  if (root.Bokeh !== undefined) {\n",
       "    embed_document(root);\n",
       "  } else {\n",
       "    var attempts = 0;\n",
       "    var timer = setInterval(function(root) {\n",
       "      if (root.Bokeh !== undefined) {\n",
       "        embed_document(root);\n",
       "        clearInterval(timer);\n",
       "      }\n",
       "      attempts++;\n",
       "      if (attempts > 100) {\n",
       "        console.log(\"Bokeh: ERROR: Unable to run BokehJS code because BokehJS library is missing\");\n",
       "        clearInterval(timer);\n",
       "      }\n",
       "    }, 10, root)\n",
       "  }\n",
       "})(window);"
      ],
      "application/vnd.bokehjs_exec.v0+json": ""
     },
     "metadata": {
      "application/vnd.bokehjs_exec.v0+json": {
       "id": "3188"
      }
     },
     "output_type": "display_data"
    }
   ],
   "source": [
    "from scipy import stats\n",
    "\n",
    "# Careful on more than 50,000 samples will exhaust your machine\n",
    "n = 50\n",
    "x = np.random.randn(n)\n",
    "x.sort()\n",
    "\n",
    "# Generate pdf estimation using gaussian kernel\n",
    "pdf = stats.gaussian_kde(x)\n",
    "pd = np.reshape(pdf(x).T, len(x))\n",
    "\n",
    "p = density_plot(\"Probability Density Distribution\", x, pd)\n",
    "\n",
    "show(p)"
   ]
  },
  {
   "cell_type": "markdown",
   "metadata": {},
   "source": [
    "![](assets/4.png)"
   ]
  },
  {
   "cell_type": "markdown",
   "metadata": {},
   "source": [
    "Supposed you were to change 10 to 100, and then to 1000 and even 10,000, what did you observe? The key takeaway here is that as the number of sample approach infinity this plot will eventually converge in distribution to the standard normal."
   ]
  },
  {
   "cell_type": "markdown",
   "metadata": {},
   "source": [
    "# Inferential Statistics"
   ]
  },
  {
   "cell_type": "markdown",
   "metadata": {},
   "source": [
    "## Probability Density Function and Probability Mass Function\n",
    "\n",
    "When we’re thinking about continuous random variables (blood sugar level, height, rainfall amount), it is important to realize that this variable has an uncountable number of possible values, even between two real intervals. The resulting probability distribution of the variable can be described by a probability density, where the probability is found by taking the area under the curve."
   ]
  },
  {
   "cell_type": "markdown",
   "metadata": {},
   "source": [
    "*Add normal distribution pdf here*"
   ]
  },
  {
   "cell_type": "markdown",
   "metadata": {},
   "source": [
    "Discrete random variables (number of player injury, amount of defaulted loans, travel bookings per customer), on the other hand, can be described using a probability mass function, which maps each value of the random variable to a probability:  \n",
    "- p(0 bookings) = 0.28  \n",
    "- p(1 booking) = 0.09  \n",
    "- …  \n",
    "- p(6 bookings) = 0.004  \n",
    "\n",
    "Because they are probabilities, these individual probabilities have to sum up to 1."
   ]
  },
  {
   "cell_type": "markdown",
   "metadata": {},
   "source": [
    "Before going into probability density function and mass function, it is important to understand that the function is estimated by binning the distribution values. In `pandas` DataFrame, we also have `hist()` function to create a quick visual inspection using histogram:"
   ]
  },
  {
   "cell_type": "code",
   "execution_count": 74,
   "metadata": {},
   "outputs": [
    {
     "data": {
      "text/plain": [
       "array([[<matplotlib.axes._subplots.AxesSubplot object at 0x000002764E870898>]],\n",
       "      dtype=object)"
      ]
     },
     "execution_count": 74,
     "metadata": {},
     "output_type": "execute_result"
    },
    {
     "data": {
      "image/png": "[encoded data removed]",
      "text/plain": [
       "<Figure size 432x288 with 1 Axes>"
      ]
     },
     "metadata": {
      "needs_background": "light"
     },
     "output_type": "display_data"
    }
   ],
   "source": [
    "hp[hp.brand_hp == 'apple'].hist(column='price')"
   ]
  },
  {
   "cell_type": "markdown",
   "metadata": {},
   "source": [
    "Other approach to make a prettier histogram is to create one using bokeh:"
   ]
  },
  {
   "cell_type": "code",
   "execution_count": 75,
   "metadata": {},
   "outputs": [],
   "source": [
    "from bokeh.models.formatters import NumeralTickFormatter\n",
    "\n",
    "def histogram_plot(title, hist, edges):\n",
    "    p = figure(title=title, \n",
    "               tools='',\n",
    "               toolbar_location=None,\n",
    "               plot_width=800, \n",
    "               plot_height=500)\n",
    "    \n",
    "    p.quad(top=hist, bottom=0, left=edges[:-1], right=edges[1:],\n",
    "           fill_color=\"navy\", line_color=\"white\", alpha=0.5)\n",
    "\n",
    "    p.y_range.start = 0\n",
    "    p.xaxis.axis_label = 'x'\n",
    "    p.yaxis.axis_label = 'count'\n",
    "    p.grid.grid_line_color=\"white\"\n",
    "    p.xaxis.formatter = NumeralTickFormatter(format=\"0,0\")\n",
    "    \n",
    "    return p"
   ]
  },
  {
   "cell_type": "markdown",
   "metadata": {},
   "source": [
    "Then generate a random numbers and use `np.histogram()` to generate the counts and binning ranges:"
   ]
  },
  {
   "cell_type": "code",
   "execution_count": 76,
   "metadata": {},
   "outputs": [
    {
     "data": {
      "text/html": [
       "\n",
       "\n",
       "\n",
       "\n",
       "\n",
       "\n",
       "  <div class=\"bk-root\" id=\"854d212f-3043-4815-b23e-d5b0d91e709a\" data-root-id=\"3363\"></div>\n"
      ]
     },
     "metadata": {},
     "output_type": "display_data"
    },
    {
     "data": {
      "application/javascript": [
       "(function(root) {\n",
       "  function embed_document(root) {\n",
       "    \n",
       "  var docs_json = {\"08dabf36-e51b-4514-8d4d-206ea81ed5d7\":{\"roots\":{\"references\":[{\"attributes\":{\"below\":[{\"id\":\"3374\",\"type\":\"LinearAxis\"}],\"center\":[{\"id\":\"3378\",\"type\":\"Grid\"},{\"id\":\"3383\",\"type\":\"Grid\"}],\"left\":[{\"id\":\"3379\",\"type\":\"LinearAxis\"}],\"plot_height\":500,\"plot_width\":800,\"renderers\":[{\"id\":\"3388\",\"type\":\"GlyphRenderer\"}],\"title\":{\"id\":\"3364\",\"type\":\"Title\"},\"toolbar\":{\"id\":\"3384\",\"type\":\"Toolbar\"},\"toolbar_location\":null,\"x_range\":{\"id\":\"3366\",\"type\":\"DataRange1d\"},\"x_scale\":{\"id\":\"3370\",\"type\":\"LinearScale\"},\"y_range\":{\"id\":\"3368\",\"type\":\"DataRange1d\"},\"y_scale\":{\"id\":\"3372\",\"type\":\"LinearScale\"}},\"id\":\"3363\",\"subtype\":\"Figure\",\"type\":\"Plot\"},{\"attributes\":{},\"id\":\"3372\",\"type\":\"LinearScale\"},{\"attributes\":{},\"id\":\"3370\",\"type\":\"LinearScale\"},{\"attributes\":{},\"id\":\"3380\",\"type\":\"BasicTicker\"},{\"attributes\":{},\"id\":\"3492\",\"type\":\"Selection\"},{\"attributes\":{\"grid_line_color\":\"white\",\"ticker\":{\"id\":\"3375\",\"type\":\"BasicTicker\"}},\"id\":\"3378\",\"type\":\"Grid\"},{\"attributes\":{\"bottom\":{\"value\":0},\"fill_alpha\":{\"value\":0.1},\"fill_color\":{\"value\":\"#1f77b4\"},\"left\":{\"field\":\"left\"},\"line_alpha\":{\"value\":0.1},\"line_color\":{\"value\":\"#1f77b4\"},\"right\":{\"field\":\"right\"},\"top\":{\"field\":\"top\"}},\"id\":\"3387\",\"type\":\"Quad\"},{\"attributes\":{\"source\":{\"id\":\"3385\",\"type\":\"ColumnDataSource\"}},\"id\":\"3389\",\"type\":\"CDSView\"},{\"attributes\":{},\"id\":\"3489\",\"type\":\"BasicTickFormatter\"},{\"attributes\":{},\"id\":\"3375\",\"type\":\"BasicTicker\"},{\"attributes\":{\"data_source\":{\"id\":\"3385\",\"type\":\"ColumnDataSource\"},\"glyph\":{\"id\":\"3386\",\"type\":\"Quad\"},\"hover_glyph\":null,\"muted_glyph\":null,\"nonselection_glyph\":{\"id\":\"3387\",\"type\":\"Quad\"},\"selection_glyph\":null,\"view\":{\"id\":\"3389\",\"type\":\"CDSView\"}},\"id\":\"3388\",\"type\":\"GlyphRenderer\"},{\"attributes\":{\"callback\":null,\"data\":{\"left\":{\"__ndarray__\":\"AAAAAACI00AAAAAAmAk9QQAAAACI4kxBAAAAACKgVUEAAAAAAM9cQQAAAADv/mFBAAAAAF6WZUEAAAAAzS1pQQAAAAA8xWxBAAAAgFUucEE=\",\"dtype\":\"float64\",\"shape\":[10]},\"right\":{\"__ndarray__\":\"AAAAAJgJPUEAAAAAiOJMQQAAAAAioFVBAAAAAADPXEEAAAAA7/5hQQAAAABelmVBAAAAAM0taUEAAAAAPMVsQQAAAIBVLnBBAAAAAA36cUE=\",\"dtype\":\"float64\",\"shape\":[10]},\"top\":[52,211,105,33,35,40,37,30,8,8]},\"selected\":{\"id\":\"3492\",\"type\":\"Selection\"},\"selection_policy\":{\"id\":\"3493\",\"type\":\"UnionRenderers\"}},\"id\":\"3385\",\"type\":\"ColumnDataSource\"},{\"attributes\":{\"text\":\"Histogram Plot\"},\"id\":\"3364\",\"type\":\"Title\"},{\"attributes\":{\"dimension\":1,\"grid_line_color\":\"white\",\"ticker\":{\"id\":\"3380\",\"type\":\"BasicTicker\"}},\"id\":\"3383\",\"type\":\"Grid\"},{\"attributes\":{},\"id\":\"3390\",\"type\":\"NumeralTickFormatter\"},{\"attributes\":{\"bottom\":{\"value\":0},\"fill_alpha\":{\"value\":0.5},\"fill_color\":{\"value\":\"navy\"},\"left\":{\"field\":\"left\"},\"line_alpha\":{\"value\":0.5},\"line_color\":{\"value\":\"white\"},\"right\":{\"field\":\"right\"},\"top\":{\"field\":\"top\"}},\"id\":\"3386\",\"type\":\"Quad\"},{\"attributes\":{\"active_drag\":\"auto\",\"active_inspect\":\"auto\",\"active_multi\":null,\"active_scroll\":\"auto\",\"active_tap\":\"auto\"},\"id\":\"3384\",\"type\":\"Toolbar\"},{\"attributes\":{\"callback\":null,\"start\":0},\"id\":\"3368\",\"type\":\"DataRange1d\"},{\"attributes\":{},\"id\":\"3493\",\"type\":\"UnionRenderers\"},{\"attributes\":{\"callback\":null},\"id\":\"3366\",\"type\":\"DataRange1d\"},{\"attributes\":{\"axis_label\":\"x\",\"formatter\":{\"id\":\"3390\",\"type\":\"NumeralTickFormatter\"},\"ticker\":{\"id\":\"3375\",\"type\":\"BasicTicker\"}},\"id\":\"3374\",\"type\":\"LinearAxis\"},{\"attributes\":{\"axis_label\":\"count\",\"formatter\":{\"id\":\"3489\",\"type\":\"BasicTickFormatter\"},\"ticker\":{\"id\":\"3380\",\"type\":\"BasicTicker\"}},\"id\":\"3379\",\"type\":\"LinearAxis\"}],\"root_ids\":[\"3363\"]},\"title\":\"Bokeh Application\",\"version\":\"1.3.4\"}};\n",
       "  var render_items = [{\"docid\":\"08dabf36-e51b-4514-8d4d-206ea81ed5d7\",\"roots\":{\"3363\":\"854d212f-3043-4815-b23e-d5b0d91e709a\"}}];\n",
       "  root.Bokeh.embed.embed_items_notebook(docs_json, render_items);\n",
       "\n",
       "  }\n",
       "  if (root.Bokeh !== undefined) {\n",
       "    embed_document(root);\n",
       "  } else {\n",
       "    var attempts = 0;\n",
       "    var timer = setInterval(function(root) {\n",
       "      if (root.Bokeh !== undefined) {\n",
       "        embed_document(root);\n",
       "        clearInterval(timer);\n",
       "      }\n",
       "      attempts++;\n",
       "      if (attempts > 100) {\n",
       "        console.log(\"Bokeh: ERROR: Unable to run BokehJS code because BokehJS library is missing\");\n",
       "        clearInterval(timer);\n",
       "      }\n",
       "    }, 10, root)\n",
       "  }\n",
       "})(window);"
      ],
      "application/vnd.bokehjs_exec.v0+json": ""
     },
     "metadata": {
      "application/vnd.bokehjs_exec.v0+json": {
       "id": "3363"
      }
     },
     "output_type": "display_data"
    }
   ],
   "source": [
    "n = 50\n",
    "x = hp[hp.brand_hp == 'apple'].price\n",
    "hist, edges = np.histogram(x, bins=10)\n",
    "\n",
    "p = histogram_plot(\"Histogram Plot\", hist, edges)\n",
    "\n",
    "show(p)"
   ]
  },
  {
   "cell_type": "markdown",
   "metadata": {},
   "source": [
    "![](assets/6.png)"
   ]
  },
  {
   "cell_type": "markdown",
   "metadata": {},
   "source": [
    "**Dive Deeper:**\n",
    "\n",
    "Using our previous `hp` dataset, can you inspect visually, between the top 10 most listed brands, is it safe to assume that each brand has it own market segment? \n",
    "\n",
    "*Tips: A brand that has single market segment will show a unimodal shapes in our histogram*"
   ]
  },
  {
   "cell_type": "code",
   "execution_count": 77,
   "metadata": {},
   "outputs": [],
   "source": [
    "# Your code here\n"
   ]
  },
  {
   "cell_type": "markdown",
   "metadata": {},
   "source": [
    "## Fundamentals of Hypothesis Testing\n",
    "\n",
    "Going back to the standard normal distribution - you may be asking by now how any of what you’re learning in the past few chapters are useful. To answer the question, I feel it is only appropriate we solidify these intuition with a few concrete examples. Consider the following scenario:\n",
    "\n",
    "The height of men in Indonesia is normally distributed with a mean of 160cm and a standard deviation of 7cm. What is the probability of a randomly selected man being taller than 175cm?"
   ]
  },
  {
   "cell_type": "code",
   "execution_count": 78,
   "metadata": {},
   "outputs": [
    {
     "name": "stdout",
     "output_type": "stream",
     "text": [
      "0.016062285603828275\n"
     ]
    }
   ],
   "source": [
    "import scipy.stats as st\n",
    "\n",
    "Z = (175-160)/7\n",
    "p = st.norm.cdf(Z)\n",
    "print(1-p)"
   ]
  },
  {
   "cell_type": "markdown",
   "metadata": {},
   "source": [
    "The solution: 175cm is 15cm above the mean, and dividing that by the standard deviation of 7cm, we get 2.143. We refer to this as the **z-score**. The probability of an Indonesian men being taller than 175cm is P(Z > 2.143) = 0.161."
   ]
  },
  {
   "cell_type": "markdown",
   "metadata": {},
   "source": [
    "**Discussion:**\n",
    "\n",
    "Supposed we have a population mean of 180cm and standard deviation of 8cm, what is the probability that a randomly picked person being shorter than 174cm?"
   ]
  },
  {
   "cell_type": "code",
   "execution_count": 79,
   "metadata": {},
   "outputs": [],
   "source": [
    "# Your answer here\n"
   ]
  },
  {
   "cell_type": "markdown",
   "metadata": {},
   "source": [
    "The Z-scores we used above is useful when relating different measurement distributions to each acting as a common denominator. Essentially, a z-score gives us a “standardized” unit that measure how many standard deviations is a particular statistic away from the mean. This property, as we’ll see, is paramount to many statistical hypothesis tests, performance evaluation (more of that when we get to the Machine Learning courses), and in the construction of confidence or prediction intervals."
   ]
  },
  {
   "cell_type": "markdown",
   "metadata": {},
   "source": [
    "### Standard Error and Confidence Intervals\n",
    "\n",
    "Standard error can be thought as a related concept to standard deviation. It is a measure that estimates how close a calculated mean (sample) is likely to be to the true mean of that population; It is calculated by dividing the standard deviation of the sample data by the square root of the number of observations:"
   ]
  },
  {
   "cell_type": "code",
   "execution_count": 80,
   "metadata": {},
   "outputs": [
    {
     "data": {
      "text/plain": [
       "34487.19271046868"
      ]
     },
     "execution_count": 80,
     "metadata": {},
     "output_type": "execute_result"
    }
   ],
   "source": [
    "import math\n",
    "\n",
    "(hp.price.std())/ math.sqrt(hp.price.size)"
   ]
  },
  {
   "cell_type": "code",
   "execution_count": 81,
   "metadata": {},
   "outputs": [
    {
     "data": {
      "text/plain": [
       "34487.19271046868"
      ]
     },
     "execution_count": 81,
     "metadata": {},
     "output_type": "execute_result"
    }
   ],
   "source": [
    "from scipy import stats\n",
    "\n",
    "stats.sem(hp.price)"
   ]
  },
  {
   "cell_type": "markdown",
   "metadata": {},
   "source": [
    "On a normal distribution (we’ll get to this in a moment), 67% of the time the true population mean will lie within the range of +- 1 SE. In other words, if we can establish a normal distribution, we can theorize about the true value of the population mean with a range. Because of the formula:\n",
    "\n",
    "$SE = \\frac{\\sigma}{\\sqrt{}n}$\n",
    "\n",
    "The larger our sample size n gets, the smaller SE will be: and hence we are less uncertain about our estimation of the true population mean."
   ]
  },
  {
   "cell_type": "markdown",
   "metadata": {},
   "source": [
    "We often begin our estimation with a point estimate, using for example the sample mean $\\bar{x}$ as a point estimate of the population mean $\\mu$. We can then construct confidence intervals around our point estimates so we have an interval that may contain the true value of the parameter. When statisticians say a “95% confidence interval”, what they mean is that if we create 100 confidence intervals of the same size from a given population, we expect to find the true parameter (let’s say the population’s net savings per household) in 95 of them.\n",
    "\n",
    "We construct a confidence interval by taking the point estimate +/- margin of error, where margin of error is computed as:  \n",
    "\n",
    "$E=Z_{a/2} \\times SE$\n",
    "\n",
    "Because confidence intervals are two-sided the level of significance we chose (alpha) has to be divided into halves. When we compute by finding the z-score associated with a value of 2.5% (0.025) on each end, we end up looking at the middle 95% of the area under the curve. We can use `ppf()` from `scipy` package to help us find the z-score associated with a 95% confidence interval):"
   ]
  },
  {
   "cell_type": "code",
   "execution_count": 82,
   "metadata": {},
   "outputs": [
    {
     "data": {
      "text/plain": [
       "1.959963984540054"
      ]
     },
     "execution_count": 82,
     "metadata": {},
     "output_type": "execute_result"
    }
   ],
   "source": [
    "from scipy.stats import norm\n",
    "\n",
    "norm.ppf(.975)"
   ]
  },
  {
   "cell_type": "markdown",
   "metadata": {},
   "source": [
    "Again, let’s put together a scenario to make all of this more concrete. Say we want to know the average annual dividend payout in a particular industry, and had known through an earlier study that this figure resembles a normal distribution with a population standard deviation of 2.4%. We looked at the public books of these 81 companies in said industry and attain a sample mean of 11.8% (that is, the average company from this group of 81 companies pay 11.8% of profit to their shareholders annually). We want to construct a 95% confidence interval for the $\\mu$, the mean dividend payout."
   ]
  },
  {
   "cell_type": "code",
   "execution_count": 83,
   "metadata": {},
   "outputs": [],
   "source": [
    "# Your code here\n"
   ]
  },
  {
   "cell_type": "markdown",
   "metadata": {},
   "source": [
    "Solution: \n",
    "- Z-score associated with a 95% confidence interval is 1.96  \n",
    "- The standard error of the mean (SE) is $\\frac{2.4}{\\sqrt{81}} = 0.267$   \n",
    "- The margin of error (E) is $1.96 \\times SE = 0.524$  \n",
    "- The confidence interval is 11.8% +- 0.524%  \n",
    "\n",
    "And so we can say that the 95% confidence interval for the mean dividend payout in this industry is (11.28%, 12.32%). We can be 95% confident that this interval will contain the mean dividend payout for this particular industry."
   ]
  },
  {
   "cell_type": "markdown",
   "metadata": {},
   "source": [
    "### p-value\n",
    "\n",
    "In your day to day data science work, you will often be required to explain the model’s reliability and uncertainty, and the formal process of such is specified as something called the **test of significance**. Statistical significance often reference the **p-value**, a measure of the probability of obtaining a result equal to or more extreme than what was actually observed, assuming the null hypothesis is true.\n",
    "\n",
    "Imagine a scenario where you’re assigned to consult on Quicker, a startup that simplify and automate government grants application for newly incorporated startups. Through public announcements and official records, you find that the average duration for a newly incorporated startup to get its first government grant or financial funding is 215 days (with a population standard variance of 24 days, again through official records). Of the 35 entrepreneurs using Quicker platform, the average time is 178 days.\n",
    "\n",
    "**Discussion:**\n",
    "Does this observation (178 days) deviate away from the population enough for it to be statistically significant? Use a 95% confidence interval\n",
    "\n",
    "$H_0: \\mu = \\mu_0$  \n",
    "$H_A: \\mu < \\mu_0$\n",
    "\n",
    "The null hypothesis is that our new mean equals to the original mean, whereas the alternative hypothesis states that the mean of Quicker customers **is lower** than the original mean."
   ]
  },
  {
   "cell_type": "code",
   "execution_count": 84,
   "metadata": {},
   "outputs": [],
   "source": [
    "# Your code here\n"
   ]
  },
  {
   "cell_type": "markdown",
   "metadata": {},
   "source": [
    "Solution:\n",
    "\n",
    "Recall what we’ve learned about the z-score, we can compute the p-value as follow:"
   ]
  },
  {
   "cell_type": "code",
   "execution_count": 85,
   "metadata": {},
   "outputs": [
    {
     "data": {
      "text/plain": [
       "'0.0616'"
      ]
     },
     "execution_count": 85,
     "metadata": {},
     "output_type": "execute_result"
    }
   ],
   "source": [
    "Z = (178-215)/24\n",
    "p = st.norm.cdf(Z)\n",
    "\n",
    "'{:,.4f}'.format(p)"
   ]
  },
  {
   "cell_type": "markdown",
   "metadata": {},
   "source": [
    "While we can reject the null hypothesis at the 95% confidence level if our p-value is <= alpha (0.05), this is not the case here as our p-value is actually 0.0616. In this scenario, we fail to reject the null hypothesis and fail to proof that the Quicker platform did in fact led to a statistically significant reduction in government funding time."
   ]
  },
  {
   "cell_type": "markdown",
   "metadata": {},
   "source": [
    "### T-Test\n",
    "\n",
    "Generally, z-tests are used when we have a large enough sample size (rule of thumb is n >= 30) and when the population standard deviation is known. If the above conditions aren’t met, we can instead use a statistical measurement known as the Student’s t-test. Say grant automation platform has 10 users so far and that the population standard deviation (sigma) is not known."
   ]
  },
  {
   "cell_type": "code",
   "execution_count": 86,
   "metadata": {},
   "outputs": [],
   "source": [
    "times = [184, 181, 230, 169, 158, 204, 220, 197, 219, 223]"
   ]
  },
  {
   "cell_type": "markdown",
   "metadata": {},
   "source": [
    "\n",
    "To perform a t-test we can use groups of t-test functions from `scipy.stats`. Here we’re interested in finding out whether we can reject the null hypothesis (that says there is no difference in government funding time for Quicker startups and other startups) in favor of the alternative hypothesis (that Quicker startup spend less time on average to acquire their first grant):"
   ]
  },
  {
   "cell_type": "code",
   "execution_count": 87,
   "metadata": {},
   "outputs": [
    {
     "data": {
      "text/plain": [
       "Ttest_1sampResult(statistic=-2.104098191307367, pvalue=0.06468659586101468)"
      ]
     },
     "execution_count": 87,
     "metadata": {},
     "output_type": "execute_result"
    }
   ],
   "source": [
    "from scipy import stats\n",
    "\n",
    "stats.ttest_1samp(times, 215)"
   ]
  },
  {
   "cell_type": "markdown",
   "metadata": {},
   "source": [
    "Since we use `ttest_1samp()`, it calculates the p-value to proof that the expected value (mean) of a sample of independent observations a is equal to the given population mean. The p-value is not smaller than 0.05 means we fail to reject the null hypothesis that the 2 population is equal.\n",
    "\n",
    "There are multiple variation of the t-test function in scipy, namely a common one:  \n",
    "- `ttest_ind()`: Used two samples for the null hypothesis that 2 independent samples have identical average (expected) values  \n",
    "- `ttest_ind_from_stats()`: Used two samples mean, standard deviation, and number of observation for the null hypothesis that two independent samples have identical average (expected) values.  \n",
    "- `ttest_rel()`: Used 2 repeated samples that the samples have identical average (expected) values  \n"
   ]
  },
  {
   "cell_type": "markdown",
   "metadata": {},
   "source": [
    "**Dive Deeper:**\n",
    "\n",
    "Recall our `hp` dataset, can you proof that Samsung phones that are sold in Batam are indeed significantly cheaper than the one sold in other cities?"
   ]
  },
  {
   "cell_type": "code",
   "execution_count": 88,
   "metadata": {},
   "outputs": [],
   "source": [
    "# Your code here\n"
   ]
  },
  {
   "cell_type": "markdown",
   "metadata": {},
   "source": [
    "### Power Analysis\n",
    "\n",
    "In designing a hypothesis testing, or popularly known as A/B testing, one of its critical part is: determining the size of your sample. While significance test is widely used in the industry, namely a few:  \n",
    "- Testing new features that creates more engagement  \n",
    "- Selecting effective marketing strategy to generate more conversion  \n",
    "- Finding promotion best practice to increase revenue  \n",
    "\n",
    "The cost of evaluating these experiments is expensive for both time and resource. The role of data scientist, is to make sure the proposed design of an A/B testing has considered this resource constraint and also generate a conclusive result.\n",
    "\n",
    "In some cases, drawing conclusion can lead to a fatal error due to wrong choice of sampling decision. Now let me introduce you to **2 types of error**:  \n",
    "- Type 1 error  \n",
    "- Type 2 error  \n",
    "\n",
    "In hypothesis test context, type 1 error occur when we reject a true null hypothesis while type 2 error occur when we fail to reject a false null hypothesis (a similar concept later on machine learning course!). Now what do we do with this information? Well a **higher statistical power** will result in a lower probability of failing to reject a false null hypothesis. In practice, a lower power will lead to wrong conclusion as stated in the following formula:  \n",
    "\n",
    "$Power = P(reject H_0 | H_A True)$  \n",
    "$Power = 1 - P(Error_2)$"
   ]
  },
  {
   "cell_type": "markdown",
   "metadata": {},
   "source": [
    "Other related concept is **effect size**, that measure how strong a relationship between two variables. A somehow similar concept that we have learned is correlation. It is in fact not that much of a difference. In statistics analysis, the effect size is usually measured in three ways: (1) standardized mean difference, (2) odd ratio, (3) correlation coefficient.\n",
    "\n",
    "Since we have learned about correlation coefficient, we can try to understand the idea of how does an effect size should be estimated."
   ]
  },
  {
   "cell_type": "markdown",
   "metadata": {},
   "source": [
    "Consider this:\n",
    "\n",
    "You are designing an experiment for Tokopedia new homepage, you'd like to see if a certain promotional banner is placed in the second slot would lead to an ineffective campaign. In this case, say we accept the probability of type 2 error to be 15% and a significance level of 5%. The expected effect size is set to be 60%, means that you expect that the difference of redeemed promotion when put in the second slot would lead to 60% effect size. Try the below code and see what is the required sample size:"
   ]
  },
  {
   "cell_type": "code",
   "execution_count": 89,
   "metadata": {},
   "outputs": [
    {
     "data": {
      "text/plain": [
       "25"
      ]
     },
     "execution_count": 89,
     "metadata": {},
     "output_type": "execute_result"
    }
   ],
   "source": [
    "from statsmodels.stats.power import TTestIndPower\n",
    "\n",
    "effect_size = 0.8\n",
    "alpha = 0.05\n",
    "power = 0.8\n",
    "\n",
    "power_analysis = TTestIndPower()\n",
    "sample_size = power_analysis.solve_power(effect_size = effect_size, \n",
    "                                         power = power, \n",
    "                                         alpha = alpha)\n",
    "\n",
    "int(sample_size)"
   ]
  },
  {
   "cell_type": "markdown",
   "metadata": {},
   "source": [
    "Most times, you would generate a visualization to analyze the trade-off in selecting the parameters. Let's take a look at the following plot: "
   ]
  },
  {
   "cell_type": "code",
   "execution_count": 90,
   "metadata": {},
   "outputs": [],
   "source": [
    "nobs = [10, 25, 50, 100, 1000]\n",
    "alpha = 0.05\n",
    "effect_size = np.linspace(0.01, 1, 1000)"
   ]
  },
  {
   "cell_type": "code",
   "execution_count": 91,
   "metadata": {
    "scrolled": true
   },
   "outputs": [
    {
     "data": {
      "text/html": [
       "\n",
       "\n",
       "\n",
       "\n",
       "\n",
       "\n",
       "  <div class=\"bk-root\" id=\"f6210eb1-80be-4009-b40d-0fd6b9151e97\" data-root-id=\"3530\"></div>\n"
      ]
     },
     "metadata": {},
     "output_type": "display_data"
    },
    {
     "data": {
      "application/javascript": [
       "(function(root) {\n",
       "  function embed_document(root) {\n",
       "    \n",
       "  var docs_json = {\"c0f6905f-f3d4-4992-b93b-491ed72a27ad\":{\"roots\":{\"references\":[{\"attributes\":{\"below\":[{\"id\":\"3541\",\"type\":\"LinearAxis\"}],\"center\":[{\"id\":\"3545\",\"type\":\"Grid\"},{\"id\":\"3550\",\"type\":\"Grid\"},{\"id\":\"3575\",\"type\":\"Legend\"}],\"left\":[{\"id\":\"3546\",\"type\":\"LinearAxis\"}],\"plot_height\":400,\"plot_width\":700,\"renderers\":[{\"id\":\"3567\",\"type\":\"GlyphRenderer\"},{\"id\":\"3580\",\"type\":\"GlyphRenderer\"},{\"id\":\"3594\",\"type\":\"GlyphRenderer\"},{\"id\":\"3610\",\"type\":\"GlyphRenderer\"},{\"id\":\"3628\",\"type\":\"GlyphRenderer\"}],\"title\":{\"id\":\"3531\",\"type\":\"Title\"},\"toolbar\":{\"id\":\"3557\",\"type\":\"Toolbar\"},\"x_range\":{\"id\":\"3533\",\"type\":\"DataRange1d\"},\"x_scale\":{\"id\":\"3537\",\"type\":\"LinearScale\"},\"y_range\":{\"id\":\"3535\",\"type\":\"DataRange1d\"},\"y_scale\":{\"id\":\"3539\",\"type\":\"LinearScale\"}},\"id\":\"3530\",\"subtype\":\"Figure\",\"type\":\"Plot\"},{\"attributes\":{},\"id\":\"3621\",\"type\":\"Selection\"},{\"attributes\":{\"data_source\":{\"id\":\"3577\",\"type\":\"ColumnDataSource\"},\"glyph\":{\"id\":\"3578\",\"type\":\"Line\"},\"hover_glyph\":null,\"muted_glyph\":null,\"nonselection_glyph\":{\"id\":\"3579\",\"type\":\"Line\"},\"selection_glyph\":null,\"view\":{\"id\":\"3581\",\"type\":\"CDSView\"}},\"id\":\"3580\",\"type\":\"GlyphRenderer\"},{\"attributes\":{},\"id\":\"3622\",\"type\":\"UnionRenderers\"},{\"attributes\":{\"active_drag\":\"auto\",\"active_inspect\":\"auto\",\"active_multi\":null,\"active_scroll\":\"auto\",\"active_tap\":\"auto\",\"tools\":[{\"id\":\"3551\",\"type\":\"PanTool\"},{\"id\":\"3552\",\"type\":\"WheelZoomTool\"},{\"id\":\"3553\",\"type\":\"BoxZoomTool\"},{\"id\":\"3554\",\"type\":\"SaveTool\"},{\"id\":\"3555\",\"type\":\"ResetTool\"},{\"id\":\"3556\",\"type\":\"HelpTool\"}]},\"id\":\"3557\",\"type\":\"Toolbar\"},{\"attributes\":{\"line_alpha\":0.1,\"line_color\":\"#1f77b4\",\"x\":{\"field\":\"x\"},\"y\":{\"field\":\"y\"}},\"id\":\"3566\",\"type\":\"Line\"},{\"attributes\":{\"callback\":null},\"id\":\"3533\",\"type\":\"DataRange1d\"},{\"attributes\":{\"source\":{\"id\":\"3577\",\"type\":\"ColumnDataSource\"}},\"id\":\"3581\",\"type\":\"CDSView\"},{\"attributes\":{\"label\":{\"value\":\"100\"},\"renderers\":[{\"id\":\"3610\",\"type\":\"GlyphRenderer\"}]},\"id\":\"3624\",\"type\":\"LegendItem\"},{\"attributes\":{},\"id\":\"3556\",\"type\":\"HelpTool\"},{\"attributes\":{},\"id\":\"3588\",\"type\":\"UnionRenderers\"},{\"attributes\":{},\"id\":\"3570\",\"type\":\"BasicTickFormatter\"},{\"attributes\":{\"line_color\":\"#fb9a99\",\"x\":{\"field\":\"x\"},\"y\":{\"field\":\"y\"}},\"id\":\"3626\",\"type\":\"Line\"},{\"attributes\":{\"callback\":null,\"data\":{\"x\":{\"__ndarray__\":\"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\",\"dtype\":\"float64\",\"shape\":[1000]},\"y\":[0.05028086051077718,0.05033929688372887,0.050403255624385565,0.05047273801981185,0.05054774546671207,0.050628279471082074,0.05071434164783542,0.050805933720401146,0.05090305752029406,0.051005714986658936,0.05111390816578648,0.05122763921060235,0.05134691038012927,0.051471724038922397,0.051602082656477116,0.0517379888066101,0.05187944516681399,0.052026454517812584,0.05217901974240423,0.052337143824572156,0.05250082984979301,0.05267008100335029,0.052844900569777246,0.05302529193202764,0.053211258570619244,0.05340280406275201,0.05359993208140098,0.05380264639438228,0.05401095086339451,0.05422484944303517,0.05444434617978974,0.054669445210998105,0.05490015076379423,0.055136467154021415,0.055378398785122844,0.05562595014700758,0.05587912581489157,0.05613793044811498,0.05640236878893479,0.05667244566129357,0.056948165969564285,0.057229534697271434,0.05751655690578859,0.057809237733012046,0.0581075823920122,0.05841159616966127,0.05872128442523718,0.059036652589006984,0.05935770616078512,0.059684450712230636,0.060016891871149114,0.06035503534680676,0.060698886890645044,0.06104845233330266,0.06140373756047339,0.061764748516710696,0.06213149120381493,0.06250397167919984,0.06288219605423795,0.06326617049258686,0.06365590120849393,0.0640513944650821,0.0644526565726161,0.06485969388674873,0.06527251280674816,0.0656911197737069,0.06611552126873045,0.06654572381110951,0.06698173395647246,0.06742355829492033,0.06787120344914409,0.06832467607252436,0.06878398284721376,0.06924913048220231,0.06972012571136628,0.07019697529150004,0.07067968600033235,0.07116826463452577,0.07166271800766146,0.07216305294820763,0.07266927629747279,0.07318139490754513,0.07369941563921589,0.07422334535988939,0.07475319094147821,0.07528895927446763,0.07583065720353525,0.07637829161540352,0.07693186937874563,0.07749139735602435,0.07805688244322893,0.07862833140619488,0.07920575111217214,0.07978914837693757,0.08037852999903694,0.08097390275754666,0.08157527340982422,0.08218264868924766,0.08279603530294677,0.0834154399295238,0.08404086921676432,0.08467232977934078,0.08530982819650536,0.08595337100977678,0.08660296472061693,0.08725861578810108,0.08792033062658111,0.08858811560333998,0.08926197703624111,0.0899419211913714,0.09062795428067616,0.09132008245959164,0.09201831182466841,0.09272264841119308,0.093433098190803,0.09414966706909751,0.09487236088324508,0.09560118539958634,0.09633614631123402,0.09707724923567011,0.09782449971233975,0.09857790320024257,0.09933746507552335,0.10010319067103321,0.10087508511113961,0.10165315354637472,0.1024374009973888,0.10322783238991268,0.10402445255234205,0.1048272662133233,0.10563627799933996,0.10645149243229977,0.10727291408801876,0.10810054696888965,0.10893439541287214,0.10977446349967576,0.11062075519241746,0.11147327433522422,0.11233202465083869,0.1131970097382298,0.11406823307020722,0.11494569799104032,0.11582940771408248,0.11671936531940115,0.11761557375141209,0.1185180358165221,0.11942675418077595,0.12034173136751145,0.1212629697550213,0.12219047157422218,0.12312423890633217,0.12406427368055618,0.12501057767177995,0.12596315249827242,0.12692199961939848,0.12788712033334057,0.12885851577483018,0.12983618691288992,0.13082013454858643,0.13181035931279375,0.1328068616639682,0.13380964188593603,0.13481870017142766,0.13583403628583235,0.13685565005362849,0.1378835410383078,0.1389177086178577,0.13995815198262648,0.1410048701332018,0.14205786187830272,0.14311712583268893,0.1441826604150825,0.1452544638461061,0.14633253414623765,0.14741686913377997,0.14850746687244287,0.14960432391495998,0.15070743787070495,0.15181680572965234,0.15293242426973144,0.1540542900549005,0.15518239943324083,0.15631674853506922,0.1574573332710689,0.1586041493304411,0.15975719217907497,0.1609164570577381,0.16208193898028794,0.16325363273190244,0.16443153286733306,0.16561563370917798,0.16680592934617727,0.1680024136315299,0.16920508018123226,0.17041392237244016,0.17162893334185297,0.1728501059841196,0.17407743295026973,0.17531090664616772,0.1765505193550119,0.17779626275127675,0.17904812860978422,0.18030610834083366,0.1815701931021962,0.18284037379771542,0.18411664107593378,0.18539898532874463,0.1866873966900703,0.18798186503456654,0.1892823799763526,0.1905889308677686,0.19190150679815982,0.19322009659268782,0.19454468881116888,0.19587527174694055,0.19721183342575566,0.19855436160470374,0.19990284377116163,0.20125726816318962,0.20261761977097612,0.20398388620716884,0.20535605387090297,0.20673410888682014,0.2081180371041954,0.2095078240960927,0.21090345515855152,0.2123049153098031,0.2137121892895165,0.21512526155807699,0.2165441162958924,0.21796873740273295,0.21939910849710065,0.22083521291562982,0.22227703371251992,0.2237245536589988,0.22517775540024726,0.2266366208386965,0.2281011320387863,0.22957127063521307,0.23104701797750332,0.2325283551296705,0.23401526286990282,0.2355077216902848,0.2370057117965507,0.23850921310787168,0.2400182052566744,0.2415326675884944,0.24305257916186096,0.24457791874821638,0.24610866483186794,0.24764479560997296,0.24918628899255774,0.25073312260257036,0.25228527377596593,0.25384271956182647,0.2554054367225135,0.2569734017338559,0.25854659078536957,0.2601249797805131,0.26170854613422956,0.26329726172575363,0.2648911032684436,0.266490045525469,0.2680940629757677,0.2697031298145074,0.27131721995357927,0.2729363070221271,0.2745603643671103,0.27618936505390107,0.2778232818669147,0.2794620874941872,0.28110575380720537,0.2827542529218913,0.28440755650590505,0.28606563594962015,0.2877284623669601,0.28939600659626696,0.29106823920120406,0.2927451304716938,0.29442665042488736,0.29611276880616894,0.29780345509019324,0.29949867848195766,0.3011984079179055,0.30290261206706504,0.3046112593322196,0.306324317851114,0.30804175549768914,0.30976353988335414,0.311489638358289,0.31322001801278043,0.31495464567859044,0.31669348793035684,0.31843651108702636,0.32018368121332086,0.32193496412123335,0.32369032537155873,0.3254497302754542,0.3272131438960314,0.3289805339009207,0.3307518593689442,0.33252708728549774,0.33430618173899307,0.3360891067665824,0.337875825617178,0.3396663018407981,0.3414604985785016,0.3432583787391015,0.3450599050010679,0.34686503981446026,0.348673745402888,0.35048598376550355,0.3523017166790208,0.35412090569976484,0.35594351216574965,0.3577694971987828,0.35959882170660074,0.3614314463850302,0.36326733172017844,0.3651064379906492,0.36694872526978733,0.3687941534279492,0.370642682134802,0.3724942708616455,0.37434887888376345,0.37620646528279855,0.3780669889491547,0.37993040858442256,0.38179668270383205,0.3836657696387275,0.38553762753906884,0.38741221437595574,0.3892894879441757,0.3911694058647767,0.3930519255876607,0.39493700457969183,0.3968245995990673,0.39871466777080383,0.4006071658866838,0.4025020550766953,0.4043992831367617,0.4062988106002973,0.4082005936454196,0.4101045883035151,0.412010750462051,0.4139190358674051,0.41582940012771846,0.4177417987157635,0.4196561869718331,0.4215725201066464,0.4234907532042732,0.42541084122507533,0.42733273900866625,0.42925640127688497,0.4311817826367888,0.43310883758366175,0.4350375205040368,0.4369677856787356,0.4388995872859208,0.44083287940416516,0.44276761601553316,0.4447037510086757,0.44664123818194135,0.44858003124649615,0.4505200838294591,0.4524613494770481,0.4544037818346212,0.45634733395496946,0.4582919593256888,0.46023761120114104,0.46218424277069214,0.4641318071619192,0.4660802574438345,0.4680295466301121,0.4699796276823251,0.47193045351319185,0.47388198286315864,0.4758341571960891,0.4777869348091871,0.4797402684537455,0.4816941108486091,0.4836484146834663,0.4856031326221413,0.4875582173058914,0.48951362135671334,0.4914692973806475,0.49342519797108964,0.4953812757121049,0.49733748318174403,0.49929377295536165,0.5012500976089386,0.5032064097224013,0.5051626618829486,0.5071188066883725,0.5090747967503799,0.5110305846979311,0.5129861231805406,0.5149413648716141,0.5168962624717653,0.5188507687121351,0.5208048363577065,0.52275841821062,0.5247114671134825,0.526663935952676,0.5286157776616573,0.5305669452242598,0.532517391677985,0.53446707011729,0.5364159336968727,0.5383639417696531,0.540311035742566,0.5422571747376266,0.5442023121845257,0.5461464020900509,0.5480893970724083,0.5500312512704353,0.5519719184398615,0.5539113524259648,0.555849507166781,0.5577863366963005,0.5597217951476559,0.5616558367562959,0.5635884158631533,0.5655194869177963,0.5674490044815708,0.5693769232307281,0.5713031979595428,0.5732277835834155,0.5751506351419619,0.5770717078020886,0.578990956861055,0.5809083377495207,0.5828238060345757,0.5847373174227584,0.5866488277630565,0.5885582930498904,0.5904656694260828,0.5923709131858087,0.5942739807775319,0.5961748288069186,0.5980734140397395,0.5999696934047489,0.6018636239965464,0.603755163078421,0.6056442685856123,0.6075308971585315,0.6094150155049255,0.611296565206431,0.6131755123751925,0.6150518153470095,0.6169254326458058,0.6187963229863155,0.6206644452767466,0.6225297586214195,0.6243922223233879,0.6262517958870338,0.6281084390206412,0.6299621116389462,0.6318127738656651,0.6336603860359955,0.635504908699097,0.6373463026205467,0.639184528784768,0.6410195483974379,0.642851322887868,0.644679813911358,0.6465049833515298,0.6483267933226263,0.6501452061717954,0.6519601844813379,0.653771691070934,0.6555796889998456,0.6573841415690814,0.6591850127817573,0.6609822655413129,0.6627758643177749,0.6645657734004282,0.6663519573307611,0.6681343809044721,0.6699130091734472,0.6716878074477095,0.6734587518707085,0.67522578775558,0.6769888911790028,0.6787480285043294,0.6805031663624469,0.6822542716535748,0.684001311548982,0.6857442534927267,0.6874830652033393,0.6892177146754809,0.6909481701815714,0.6926744002733874,0.69439637378363,0.6961140598274602,0.697827427804007,0.6995364473978402,0.7012410885804167,0.7029413216114915,0.7046371170405031,0.70632844570792,0.7080152787465617,0.7096975875828887,0.7113753439382571,0.7130485198301406,0.7147170875733302,0.7163810197810904,0.7180402893662888,0.7196948695424971,0.7213447338250552,0.7229898560321029,0.7246302212511062,0.726265782619928,0.7278965252300077,0.7295224241222611,0.7311434546451857,0.7327595924557063,0.7343708135199882,0.7359770941142187,0.7375784108253555,0.739174740551845,0.7407660605043068,0.742352348206187,0.7439335814943798,0.7455097385198163,0.7470807977480209,0.7486467379596388,0.7502075382509266,0.7517631780342148,0.7533136370383398,0.7548588953090362,0.7563989332093106,0.7579337314197672,0.7594632709389204,0.7609875330834552,0.762506499488477,0.7640201521077123,0.7655284732136911,0.767031445397889,0.7685290515708438,0.7700212756851156,0.7715080998868363,0.7729895087264028,0.77446548639125,0.775936017387991,0.7774010993237312,0.7788606925071744,0.7803147944957559,0.7817633910737757,0.7832064683441533,0.7846440127281985,0.7860760109653766,0.7875024501130224,0.7889233175460392,0.79033860095656,0.7917482883535837,0.7931523680625842,0.7945508287250826,0.7959436592981978,0.7973308490541712,0.7987123875798505,0.8000882647761565,0.8014584708575283,0.8028229963513134,0.8041818320971591,0.8055349692463634,0.8068823992611973,0.8082241139142092,0.8095601052874868,0.8108903657719116,0.8122148880663697,0.8135336651769448,0.8148467015780407,0.816153970102692,0.8174554734736191,0.8187512067782748,0.8200411645476424,0.8213253416146064,0.8226037331129651,0.8238763344764253,0.8251431414375714,0.8264041500268071,0.8276593565712769,0.8289087576937617,0.8301523503115551,0.8313901316353104,0.8326220991678719,0.833848250703075,0.8350685843245311,0.8362830984043901,0.8374917916020743,0.8386946628629982,0.8398917114172619,0.841082936778329,0.8422683387416755,0.843447917383422,0.8446216730589535,0.8457896064015011,0.846951718320724,0.8481080100012552,0.8492584829012374,0.8504031387508387,0.8515419804849879,0.852675008558153,0.8538022263913356,0.854923650721116,0.8560392575158147,0.8571490633116512,0.8582530717019776,0.85935128653973,0.8604437119357895,0.8615303522573219,0.8626112121261078,0.8636862964168558,0.8647556102554895,0.865819159017441,0.8668769483259062,0.8679289840501029,0.8689752723035032,0.8700158194420634,0.8710506320624254,0.8720797170001219,0.8731030813277508,0.8741207323531526,0.8751326776175663,0.8761389248937707,0.8771394821842251,0.8781343577191848,0.8791235599548172,0.880107097571297,0.881084979470897,0.8820572280124832,0.8830238267902567,0.8839847979091966,0.8849401511425135,0.8858898964759031,0.8868340441055573,0.8877726044362061,0.8887055880791298,0.8896330058501618,0.8905548687676909,0.8914711880506595,0.8923819751165436,0.8932872415793266,0.8941869992474822,0.8950812601219281,0.8959700363939942,0.8968533404433667,0.8977311848360433,0.8986035823222663,0.8994705458344728,0.9003320884852092,0.9011882235650741,0.9020389645406319,0.902884325052338,0.9037243189124508,0.9045589601029427,0.9053882627734126,0.9062122412389881,0.9070309109858353,0.9078442846944597,0.9086523781187219,0.9094552206464962,0.9102527993021025,0.9110451430452349,0.9118322672929984,0.9126141876112938,0.9133909197127139,0.9141624794544423,0.9149288828361409,0.9156901459978543,0.916446285217893,0.9171973169107458,0.9179432576249634,0.9186841240410586,0.9194199329694167,0.9201507013481874,0.9208764462411893,0.9215971848358193,0.9223129344409577,0.9230237124848827,0.9237295365131799,0.9244304241866642,0.9251263932792926,0.9258174616760982,0.926503648319269,0.9271849694655157,0.9278614442194638,0.928533090889876,0.9291999278862607,0.9298619885732956,0.9305192626325474,0.931171782870317,0.9318195680805965,0.9324626371480205,0.9331010090458434,0.9337347028339305,0.9343637376567443,0.9349881327413458,0.9356079073953981,0.9362230810051868,0.9368336730336312,0.9374397030183129,0.9380411905695115,0.9386381553682507,0.9392306171643368,0.9398185957744309,0.9404021110800992,0.9409811830259003,0.9415558316174587,0.9421260769195601,0.9426919390542473,0.9432534381989343,0.9438105956004205,0.9443634295644651,0.9449119613870208,0.9454562114483779,0.94599620017489,0.9465319636866105,0.9470634920196009,0.9475908205959546,0.9481139700099397,0.9486329608929016,0.9491478139114736,0.9496585497658069,0.9501651891878143,0.9506677529394187,0.9511662618108266,0.9516607366187827,0.9521511982048755,0.9526376674338223,0.9531201651917833,0.9535987123846776,0.9540733299365165,0.9545440387877475,0.9550108598936073,0.9554738142224924,0.9559329227543323,0.9563882064789926,0.9568396873949074,0.957287384560242,0.9577313199343951,0.9581715145312331,0.9586079893667002,0.9590407654572836,0.9594698638184905,0.9598953223026007,0.9603171291141632,0.9607353212652,0.9611499197543718,0.9615609455720471,0.9619684196988437,0.9623723631042105,0.9627727967450219,0.9631697415641595,0.9635632184891446,0.9639532484307526,0.9643398522816503,0.9647230509150679,0.9651028651834453,0.9654793159171189,0.9658524239230285,0.9662222099834082,0.9665886948545184,0.9669518992653771,0.9673118449220744,0.9676685505377769,0.9680220377071047,0.9683723270378758,0.9687194391045458,0.9690633944470378,0.9694042135695792,0.9697419336551745,0.9700765425629071,0.9704080765799377,0.9707365560582418,0.9710620013085549,0.9713844325992762,0.9717038701554124,0.972020334157509,0.9723338447406347,0.9726444219933261,0.9729520859566062,0.9732568566229588,0.973558753935367,0.9738577977863254,0.9741540080168927,0.9744474044157477,0.9747380067182612,0.9750258346055797,0.9753109086828095,0.9755932466134933,0.9758728688407254,0.9761497948200097,0.9764240439482453,0.9766956355629229,0.9769645889412807,0.9772309232995184,0.9774946747242554,0.977755829307838,0.9780144221878837,0.9782704723305597,0.9785239986372324,0.97877501994376,0.979023555019775,0.9792696225679972,0.9795132412235368,0.9797544295532344,0.9799932060550038,0.9802295891571893,0.9804635972179264,0.9806952485525008,0.9809245614104298,0.9811515538760924,0.9813762440209389,0.9815986498432667,0.9818187897918652,0.9820366806203277,0.9822523406763831,0.982465787660205,0.982677039196163,0.9828861128323244,0.9830930260399848,0.9832977962131936,0.9835004581481964,0.9837009950090193,0.9838994405923616,0.9840958120216855,0.9842901262755757,0.9844824002627941,0.9846726508269192,0.9848608947310618,0.985047148657514,0.9852314292073993,0.9854137529003284,0.9855941361740964,0.9857725953843354,0.9859491468042528,0.9861238066243044,0.9862965909519285,0.9864675158667116,0.9866365971641389,0.9868038508037701,0.9869692925664962,0.9871329381196408,0.9872948030672337,0.9874549029286224,0.9876132689855021,0.9877698856939373,0.9879247834027959,0.9880779772925894,0.988229482458311,0.9883793139093222,0.9885274865692142,0.988674015275678,0.9888189147803796,0.9889621997488695,0.989103884760485,0.9892439843082432,0.9893825127987962,0.9895194845523103,0.98965491380247,0.9897888146963677,0.9899212012944982,0.9900520875707014,0.9901814874121485,0.9903094146193302,0.990435882906029,0.9905609058993249,0.9906844971396185,0.9908066700806197,0.990927438089391,0.991046814446369,0.9911648123454047,0.9912814448938111,0.9913967438057072,0.99151068556118,0.9916233008136612,0.9917346023269175,0.9918446027786083,0.9919533147603726,0.9920607507779291,0.9921669232511867,0.9922718445143497,0.9923755268160566,0.9924779823194858,0.9925792231025048,0.9926792611577999,0.9927781083930296,0.9928757766309835,0.9929722776097191,0.9930676229827512,0.993161824319203,0.9932548931040059,0.9933468407380597,0.993437678538428,0.9935274177385368,0.9936160862063962,0.9937036624057455,0.9937901732449073,0.9938756296265799,0.9939600423709433,0.9940434222158896,0.9941257798172551,0.9942071257490589,0.9942874705037419,0.9943668244924282,0.9944451980451502,0.9945226014111351,0.9945990447590449,0.9946745381772535,0.9947490916741021,0.9948227151781932,0.9948954185386534,0.9949672115254158,0.9950381038295084,0.9951081050633496,0.9951772247610369,0.9952454723786266,0.9953128572944643,0.9953793888094695,0.9954450761474513,0.9955099284554012,0.9955739548038369,0.9956371835490372,0.9956995858388258,0.9957611889696508,0.9958220017112567,0.9958820327585877,0.9959412907321201,0.9959997841782179,0.9960575215694615,0.9961145113049718,0.9961707617107907,0.9962262810401946,0.9962810774740695,0.9963351591212415,0.9963885340188439,0.9964412101326611,0.996493195357501,0.9965444975175384,0.9965951243666988,0.9966450835889874,0.9966943827988892,0.9967430295417151,0.9967910312939768,0.9968384133469725,0.9968851481532052,0.9969312600305446,0.996976756185841,0.9970216437590941,0.9970659298238013,0.9971096213873768,0.9971527253914915,0.9971952487124927,0.9972371981617612,0.9972785804861108,0.9973194023681589,0.9973596704267327,0.9973993912172355,0.9974385712320445,0.9974772169008898,0.9975153345912661,0.9975529306087855,0.9975900111975995,0.9976265825407669,0.9976626507606505,0.9976982219193127,0.9977333020189006,0.9977678970020393,0.9978020127522127,0.997835655094164,0.9978688297942934,0.9979015638455335,0.9979338213626947,0.9979656282388684,0.9979969900130261,0.9980279121678524,0.9980584001301026,0.998088459270992,0.9981180949066046,0.9981473122982809,0.9981761166530005,0.9982045131237691,0.9982325068100376,0.9982601027580519,0.9982873059612715,0.9983141213607359,0.9983405538454795,0.9983666082528915,0.9983922893691087,0.9984176019294216,0.9984425506186149,0.9984671400713996,0.9984913941746512,0.99851527979663,0.9985388198329443,0.9985620187236304,0.998584880860621,0.9986074105881142]},\"selected\":{\"id\":\"3621\",\"type\":\"Selection\"},\"selection_policy\":{\"id\":\"3622\",\"type\":\"UnionRenderers\"}},\"id\":\"3591\",\"type\":\"ColumnDataSource\"},{\"attributes\":{},\"id\":\"3761\",\"type\":\"UnionRenderers\"},{\"attributes\":{\"line_color\":\"#b2df8a\",\"x\":{\"field\":\"x\"},\"y\":{\"field\":\"y\"}},\"id\":\"3592\",\"type\":\"Line\"},{\"attributes\":{\"callback\":null},\"id\":\"3535\",\"type\":\"DataRange1d\"},{\"attributes\":{\"line_alpha\":0.1,\"line_color\":\"#1f77b4\",\"x\":{\"field\":\"x\"},\"y\":{\"field\":\"y\"}},\"id\":\"3579\",\"type\":\"Line\"},{\"attributes\":{\"line_alpha\":0.1,\"line_color\":\"#1f77b4\",\"x\":{\"field\":\"x\"},\"y\":{\"field\":\"y\"}},\"id\":\"3627\",\"type\":\"Line\"},{\"attributes\":{\"callback\":null,\"data\":{\"x\":{\"__ndarray__\":\"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\",\"dtype\":\"float64\",\"shape\":[1000]},\"y\":[0.05056741592660477,0.05068549842255987,0.05081474974996429,0.05095517513263005,0.051106780233519965,0.05126957115189314,0.05144355442022916,0.051628737000928834,0.05182512628279234,0.05203273007749793,0.052251556615299566,0.05248161454046696,0.052722912908090266,0.052975461178540156,0.053239269212879414,0.053514347267821144,0.053800705990474776,0.05409835641287927,0.054407309946327836,0.05472757837548315,0.05505917385228545,0.05540210888965538,0.05575639635499285,0.05612204946347311,0.056499081771142934,0.05688750716781708,0.05728733986977871,0.057698594412283255,0.05812128564187002,0.05855542870848196,0.05900103905739606,0.05945813242096566,0.059926724814284044,0.060406832517843394,0.06089847206624361,0.06140166025893333,0.0619164141336352,0.06244275096184354,0.0629806882393238,0.06353024367644626,0.06409143518835156,0.06466428088495475,0.06524879906078748,0.06584500818468357,0.06645292688930761,0.06707257396053301,0.06770396832666864,0.06834712904753992,0.06900207530342548,0.06966882638385277,0.07034740167625556,0.07103782065449682,0.07174010286725938,0.07245426792630721,0.073180335494622,0.07391832527441611,0.07466825699502654,0.07543015041640218,0.07620402525744263,0.07698990126798665,0.07778779816266365,0.07859773566565138,0.07941973332901249,0.08025381076077652,0.08109998745876416,0.08195828283422017,0.08282871619870648,0.08371130675091548,0.0846060735634042,0.08551303556925667,0.08643221154867486,0.08736362011550453,0.08830727970369737,0.08926320855371557,0.09023142469888054,0.09121194595167126,0.0922047898899752,0.09320997384329544,0.09422751487891898,0.09525742978804955,0.09629973507190773,0.09735444692780454,0.09842158123519125,0.09950115354168854,0.10059317909095461,0.10169767264865788,0.10281464871863487,0.10394412138140452,0.10508610431567177,0.1062406107843255,0.10740765362044585,0.10858724539042919,0.10977939770107438,0.11098412216437833,0.11220142975520478,0.11343133094899611,0.11467383570792726,0.11592895346709689,0.11719669312076174,0.11847706300861692,0.11977007090212635,0.12107572399090859,0.12239402886918091,0.12372499152226663,0.12506861731316946,0.1264249109692186,0.12779387656878965,0.129175517528105,0.13056983658811666,0.13197683580147776,0.13339651651960516,0.13482887937983756,0.13627392438341734,0.13773165053346928,0.13920205632813903,0.1406851394223248,0.14218089669423947,0.14368932423322994,0.14521041732771808,0.14674417045327154,0.14829057726080414,0.1498496310273061,0.1514213228597999,0.15300564427165314,0.15460258550096007,0.15621213590438218,0.1578342839462269,0.15946901718768647,0.1611163222762378,0.16277618493520757,0.16444858995350747,0.16613352117554206,0.16783096149129267,0.16954089282658108,0.17126329613351693,0.17299815138113137,0.17474543754620006,0.17650513260426082,0.17827721364867766,0.18006165638772184,0.18185843585419795,0.18366752593307914,0.18548889946621916,0.18732252824459789,0.1891683830007802,0.1910264334015945,0.1928966480410303,0.1947789944333601,0.19667343900648787,0.19857994709552507,0.2004984829365995,0.20242901065936036,0.2043714904113887,0.20632588398591198,0.2082921511674663,0.21027025061435478,0.2122601398539101,0.21426177527800327,0.21627511213880504,0.21830010454480017,0.22033670545705533,0.22238486668574514,0.22444453888693705,0.2265156717131755,0.22859821321556203,0.23069211070795123,0.2327973102032915,0.23491375654830954,0.23704139342188238,0.23918016333368014,0.24133000762308107,0.24349086645835663,0.24566267883613144,0.24784538258111655,0.2500389143461182,0.25224320961232294,0.2544582026898586,0.2566838267186337,0.2589200136694551,0.2611666943454234,0.2634237983836074,0.2656912562182358,0.2679689914584992,0.2702569320201645,0.2725550029007953,0.27486312794470014,0.2771812298463035,0.27950923015379886,0.28184704945773237,0.28419460667790847,0.28655182011419894,0.2889186067722327,0.29129488253389363,0.2936805621626549,0.29607555930918833,0.29847978651725465,0.3008931552298677,0.30331557579573554,0.3057469574759762,0.3081872084511062,0.3106362358283013,0.31309394564892923,0.31556024289635104,0.31803503150399165,0.32051821436367606,0.3230096933342307,0.3255093692503498,0.3280171419317206,0.33053291019241066,0.3330565748568107,0.335588027059102,0.3381271653778669,0.34067388490915596,0.34322807920870424,0.34578964145432434,0.34835846370879403,0.35093443711378247,0.3535174519014994,0.3561073974065851,0.3587041620782337,0.3613076334925502,0.3639176983651376,0.36653424256390993,0.36915715112212927,0.3717863082516667,0.37442159735647557,0.3770629010462854,0.37971010115050235,0.3823630787323209,0.38502171410303876,0.3876858868365736,0.3903554757841756,0.393030359089338,0.3957104142028936,0.39839551808519474,0.4010855464937838,0.40378037506304615,0.4064798832295698,0.4091839364636912,0.411892412578431,0.41460518461783585,0.41732212506079014,0.4200431058376766,0.4227679983471892,0.42549667347329345,0.42822900160233096,0.4309648526402632,0.4337040960300487,0.43644660076915304,0.43919223542718405,0.4419408681636467,0.4446923667458183,0.4474465985667337,0.45020343066327995,0.4529627297343931,0.45572436215935425,0.45848819419575504,0.46125409129807793,0.46402191916028446,0.46679154306796466,0.4695628280798587,0.4723356390466497,0.4751098406298139,0.47788530323816825,0.48066187993271015,0.4834394403315596,0.486217848533143,0.4889969685420745,0.49177666428832006,0.4945567996463942,0.4973372384545828,0.5001178445341875,0.502898481708791,0.5056790138235292,0.5084593047643755,0.5112392184774244,0.514018618988166,0.5167973704207908,0.5195753370174059,0.5223523831573111,0.5251283733762119,0.5279031723854163,0.5306766450909948,0.5334486566129086,0.5362190723040914,0.5389877577694875,0.5417545788850355,0.5445194083665046,0.5472821001848631,0.5500425276442523,0.5528005569504995,0.5555560560757578,0.558308892922242,0.5610589357945858,0.563806053418266,0.5665501149579332,0.5692909900356462,0.5720285487490043,0.5747626616891691,0.5774931999587841,0.5802200351897671,0.5829430395609947,0.5856620858158527,0.5883770472796656,0.5910877978769871,0.5937942121487603,0.5964961652693306,0.5991935330633177,0.6018861920223371,0.6045740193215664,0.6072568928361595,0.609934691657937,0.6126072941557561,0.6152745897383847,0.6179364422618789,0.6205927415079419,0.6232433698922887,0.6258882106411557,0.6285271478063401,0.6311600662800567,0.6337868518095974,0.6364073910118008,0.6390215713873189,0.6416292813346828,0.6442304101641638,0.6468248481114288,0.6494124863509776,0.6519932170093786,0.6545669331782743,0.6571335289271782,0.6596928993160442,0.6622449404076117,0.6647895497577763,0.6673266245576269,0.6698560643888505,0.6723777694445138,0.6748916409787709,0.6773975813178109,0.6798955051910901,0.682385295417933,0.6848668680429333,0.6873401297908788,0.6898049885100652,0.6922613531818468,0.694709133929874,0.6971482420290969,0.699578589914515,0.7020000911896702,0.704412660634885,0.706816214215243,0.7092106690883172,0.7115959436116279,0.7139719573498541,0.716338631081772,0.7186958868069393,0.7210436477521167,0.7233818383774209,0.7257103843822218,0.7280292226283445,0.7303382630879649,0.7326374428662302,0.7349266933988464,0.7372059466662676,0.7394751359183959,0.7417341956786474,0.743983061747749,0.746221671207278,0.7484499624229319,0.7506678750475382,0.7528753500237987,0.7550723295867773,0.7572587572661196,0.7594345778880117,0.7615997375768828,0.7637541837568445,0.7658978651528706,0.7680307317917227,0.770152735002612,0.7722638274176119,0.7743639637016977,0.7764530976951987,0.7785311866114822,0.7805982006632424,0.7826540752623087,0.7846987822929387,0.7867322835035472,0.7887545419400237,0.7907655219439216,0.7927651891503984,0.7947535104859266,0.7967304541657613,0.7986959896911702,0.8006500878464393,0.8025927206956356,0.8045238615791538,0.8064434851100023,0.8083515671699271,0.8102480849052469,0.8121330167225026,0.814006342283881,0.8158680425024188,0.817718099536999,0.8195565083824053,0.8213832323841456,0.823198266283916,0.8250015980689415,0.8267932160508609,0.8285731097531626,0.8303412699047785,0.8320976884334796,0.8338423584590897,0.8355752742865061,0.8372964313985445,0.8390058264485917,0.8407034572530951,0.8423893227838679,0.8440634231602235,0.8457257596409439,0.8473763346160841,0.8490151515986073,0.8506422152158688,0.852257531200935,0.8538611063837608,0.8554529496369956,0.8570330681254485,0.8586014868976508,0.8601581899912389,0.8617032026560643,0.8632365381161291,0.8647582106269095,0.8662682354654415,0.8677666289202807,0.8692534082813456,0.8707285918296441,0.8721921988268837,0.8736442495049785,0.8750847650554447,0.8765137676186897,0.8779312802732142,0.8793373270247037,0.8807319327950338,0.882115123411187,0.8834869255940762,0.8848473799565039,0.8861964899762527,0.8875342970523361,0.8888608313734536,0.8901761239655563,0.8914802066802502,0.8927731121831338,0.8940548739420784,0.8953255262154519,0.8965851040402978,0.897833643220451,0.8990711803146161,0.900297752624413,0.9015133981823568,0.9027181557398297,0.9039120647550071,0.9050951653807464,0.9062674984524666,0.9074291054759878,0.9085800286153641,0.9097203116861529,0.9108499962009726,0.9119691271571997,0.9130777646000071,0.9141759242395321,0.9152636662115513,0.9163410369521846,0.9174080834584244,0.9184648532759379,0.919511394486879,0.9205477556977044,0.9215739860270221,0.9225901350934324,0.9235962530034187,0.9245923903392459,0.9255785981468803,0.9265549279239493,0.9275214316077378,0.9284781615631916,0.9294251715622335,0.9303625128845423,0.9312902400259495,0.9322084218565391,0.9331170840079388,0.9340162950247011,0.9349061099395,0.9357865841187405,0.9366577732510252,0.9375197333356681,0.9383725206712645,0.9392161918443261,0.9400508037179881,0.940876413420772,0.9416930783354223,0.9425008560878095,0.943299804535913,0.9440899817588617,0.9448714460460738,0.9456442568864152,0.9464084710351284,0.9471641482761989,0.947911347633408,0.9486501442265598,0.9493805667007508,0.9501026893490365,0.9508165717675313,0.9515222736688405,0.9522198548720547,0.9529093752928265,0.9535908949335593,0.954264473873681,0.9549301722600171,0.9555880502972576,0.9562381682385337,0.956880586376088,0.9575153650320409,0.9581425645492684,0.9587622463129537,0.9593744686983408,0.9599792930142037,0.9605767795976425,0.9611670049550686,0.961749998186172,0.9623258346075954,0.9628945744184472,0.9634562777615776,0.9640110047155378,0.964558815286657,0.9650997694012199,0.9656339268977697,0.9661613475195087,0.9666820909068251,0.9671962165899176,0.9677037839815534,0.9682048523699232,0.9686994819185698,0.969187729708197,0.9696696555475185,0.9701453181576729,0.9706147761012671,0.9710781045739009,0.9715353294415249,0.9719865244017075,0.9724317473252405,0.9728710558935795,0.9733045075930247,0.973732159708942,0.9741540693201454,0.9745702932933733,0.9749808882778783,0.9753859107001386,0.9757854167586852,0.9761794624190209,0.9765681044124142,0.976951396291793,0.9773293942278409,0.9777021532059534,0.9780697279548728,0.9784321895014991,0.9787895601395965,0.9791419092356686,0.9794892904545872,0.979831757184037,0.9801693625306926,0.9805021593164794,0.9808302000749685,0.9811535370478499,0.9814722222683839,0.9817863073311748,0.9820958435529274,0.9824008819752964,0.9827014737553442,0.9829976684053464,0.9832895165215058,0.9835770678969495,0.9838603720059891,0.9841394780016347,0.984414452563191,0.9846853098388837,0.9849521146191419,0.985214914735933,0.9854737577081862,0.9857286907209808,0.9859797606237054,0.9862270139283618,0.9864704968079234,0.9867102550948058,0.9869463342793976,0.9871787795127506,0.9874076355850512,0.9876329469649384,0.9878547577578682,0.988073111725339,0.988288068167166,0.9884996395185717,0.9887078833109024,0.9889128419101498,0.9891145573306683,0.9893130712346583,0.9895084249316772,0.9897006593782913,0.9898898151777136,0.9900759325796002,0.9902590514798547,0.9904392114205365,0.9906164515898309,0.9907908108220761,0.9909623275978586,0.9911310400442048,0.9912969859347839,0.9914602026902063,0.9916207273783987,0.9917785967149915,0.9919338660649084,0.9920865347907304,0.9922366562949101,0.9923842658951629,0.9925293985602337,0.9926720889106353,0.9928123712195153,0.9929502794135092,0.993085847073675,0.993219107436471,0.9933500933947942,0.9934788374990418,0.9936053719582421,0.993729728641209,0.9938519390777776,0.9939720344600353,0.9940900631629586,0.9942060219124033,0.994319957254742,0.9944318990498615,0.9945418768271164,0.9946499197868239,0.9947560568018178,0.9948603164190135,0.9949627268610205,0.9950633160277961,0.9951621114983124,0.9952591405322783,0.9953544300718536,0.9954480067434225,0.9955398968594016,0.9956301264200382,0.9957187211152785,0.995805706326619,0.9958911071290105,0.9959749684455299,0.9960572758524259,0.9961380723498322,0.9962173818119029,0.9962952278163828,0.9963716336466837,0.9964466222939029,0.9965202164588964,0.9965924385544049,0.9966633107071095,0.9967328547597759,0.9968010922733946,0.996868044529301,0.9969337325313441,0.9969981770080677,0.9970614163376711,0.9971234361166387,0.9971842730100163,0.9972439466723096,0.9973024764939998,0.9973598816037971,0.9974161808708695,0.9974713929071045,0.9975255360693506,0.9975786284616991,0.9976306879377179,0.9976817321027301,0.9977317783160838,0.9977808436934211,0.9978289451089514,0.9978760991977101,0.9979223223578416,0.997967630752873,0.998012040313959,0.9980555879421158,0.9980982481798759,0.9981400561028139,0.9981810267414127,0.9982211749054386,0.998260515186246,0.9982990619590052,0.9983368293849991,0.9983738314138444,0.9984100817857414,0.9984455940337241,0.9984803814859048,0.9985144572676559,0.9985478343038672,0.9985805253211298,0.9986125622705303,0.9986439199922209,0.9986746287958147,0.9987047006422275,0.9987341473053011,0.9987629803740085,0.9987912112545544,0.9988188511725766,0.9988459111752289,0.9988724021333568,0.9988983347435634,0.9989237195303216,0.9989485668480755,0.9989728868832877,0.9989966896565156,0.9990199850244693,0.999042782682001,0.999065092164169,0.9990869448826943,0.999108307500416,0.9991292097078142,0.9991496604267327,0.999169668429414,0.9991892423404851,0.9992083906388709,0.9992271216597073,0.999245443596245,0.9992633645017633,0.9992808922913944,0.9992980347440331,0.9993147995041165,0.9993311940835069,0.9993472258632469,0.9993629228316694,0.9993782520600868,0.9993932399577526,0.9994078934059973,0.999422219164495,0.9994362238729587,0.9994499140528434,0.999463296109045,0.9994763763315838,0.9994891608972345,0.999501655871185,0.99951386720865,0.999525800756486,0.9995374622547685,0.9995488573383594,0.9995600113032651,0.9995708913988622,0.9995815214565891,0.9995919067113002,0.9996020523005332,0.9996119632660239,0.999621644555167,0.9996311010224243,0.9996403374308146,0.9996493584533022,0.9996581686741783,0.9996667725904681,0.999675174613293,0.9996833790691858,0.9996913902014771,0.999699212171548,0.9997068490601764,0.9997143266226948,0.9997216067482804,0.9997287136589788,0.9997356511315262,0.999742422868595,0.9997490325000198,0.9997554835839673,0.9997617796081213,0.9997679239908869,0.9997739200824757,0.9997797711660821,0.9997854804589741,0.9997910511136213,0.9997964862187422,0.9998017888004073,0.9998069830535081,0.999812030855373,0.9998169549389654,0.9998217580957216,0.9998264430598465,0.9998310125093189,0.9998354690668372,0.9998398153007874,0.9998440537262201,0.999848186805755,0.9998522169504913,0.999856146520949,0.9998599778279204,0.9998637131333645,0.9998673546512448,0.9998709045484258,0.9998743649454533,0.9998777617843746,0.9998810509601039,0.9998842568298564,0.9998873813432472,0.9998904264078683,0.9998933938901087,0.9998962856158795,0.9998991033713616,0.9999018489037452,0.9999045239219211,0.9999071300972164,0.9999096690640409,0.9999121424206254,0.9999145517296413,0.9999169208263453,0.9999192080826015,0.9999214358679908,0.9999236056152127,0.9999257187249193,0.9999277765663072,0.9999297804777119,0.9999317317671919,0.9999336317131388,0.9999354815648109,0.9999372825429013,0.9999390358400903,1.0,1.0,1.0,1.0,1.0,1.0,1.0,1.0,1.0,1.0,1.0,1.0,1.0,1.0,1.0,1.0,1.0,1.0,1.0,1.0,1.0,1.0,1.0,1.0,1.0,1.0,1.0,1.0,1.0,1.0,1.0,1.0,1.0,1.0,1.0,1.0,1.0,1.0,1.0,1.0,1.0,1.0,1.0,1.0,1.0,1.0,1.0,1.0,1.0,1.0,1.0,1.0,1.0,1.0,1.0,1.0,1.0,1.0,1.0,1.0,1.0,1.0,1.0,1.0,1.0,1.0,1.0,1.0,1.0,1.0,1.0,1.0,1.0,1.0,1.0,1.0,1.0,1.0,1.0,1.0,1.0,1.0,1.0,1.0,1.0,1.0,1.0,1.0,1.0,1.0,1.0,1.0,1.0,1.0,1.0,1.0,1.0,1.0,1.0,1.0,1.0,1.0,1.0,1.0,1.0,1.0,1.0,1.0,1.0,1.0,1.0,1.0,1.0,1.0,1.0,1.0,1.0,1.0,1.0,1.0,1.0,1.0,1.0,1.0,1.0,1.0,1.0,1.0,1.0,1.0,1.0,1.0,1.0,1.0,1.0,1.0,1.0,1.0,1.0,1.0,1.0,1.0,1.0,1.0,1.0,1.0,1.0,1.0,1.0,1.0,1.0,1.0,1.0,1.0,1.0,1.0,1.0,1.0,1.0,1.0,1.0,1.0,1.0,1.0,1.0,1.0,1.0,1.0,1.0,1.0,1.0,1.0,1.0,1.0,1.0,1.0,1.0]},\"selected\":{\"id\":\"3641\",\"type\":\"Selection\"},\"selection_policy\":{\"id\":\"3642\",\"type\":\"UnionRenderers\"}},\"id\":\"3607\",\"type\":\"ColumnDataSource\"},{\"attributes\":{\"dimension\":1,\"ticker\":{\"id\":\"3547\",\"type\":\"BasicTicker\"}},\"id\":\"3550\",\"type\":\"Grid\"},{\"attributes\":{\"data_source\":{\"id\":\"3625\",\"type\":\"ColumnDataSource\"},\"glyph\":{\"id\":\"3626\",\"type\":\"Line\"},\"hover_glyph\":null,\"muted_glyph\":null,\"nonselection_glyph\":{\"id\":\"3627\",\"type\":\"Line\"},\"selection_glyph\":null,\"view\":{\"id\":\"3629\",\"type\":\"CDSView\"}},\"id\":\"3628\",\"type\":\"GlyphRenderer\"},{\"attributes\":{},\"id\":\"3760\",\"type\":\"Selection\"},{\"attributes\":{\"line_alpha\":0.1,\"line_color\":\"#1f77b4\",\"x\":{\"field\":\"x\"},\"y\":{\"field\":\"y\"}},\"id\":\"3593\",\"type\":\"Line\"},{\"attributes\":{\"line_color\":\"#a6cee3\",\"x\":{\"field\":\"x\"},\"y\":{\"field\":\"y\"}},\"id\":\"3565\",\"type\":\"Line\"},{\"attributes\":{},\"id\":\"3542\",\"type\":\"BasicTicker\"},{\"attributes\":{\"source\":{\"id\":\"3625\",\"type\":\"ColumnDataSource\"}},\"id\":\"3629\",\"type\":\"CDSView\"},{\"attributes\":{\"data_source\":{\"id\":\"3591\",\"type\":\"ColumnDataSource\"},\"glyph\":{\"id\":\"3592\",\"type\":\"Line\"},\"hover_glyph\":null,\"muted_glyph\":null,\"nonselection_glyph\":{\"id\":\"3593\",\"type\":\"Line\"},\"selection_glyph\":null,\"view\":{\"id\":\"3595\",\"type\":\"CDSView\"}},\"id\":\"3594\",\"type\":\"GlyphRenderer\"},{\"attributes\":{\"data_source\":{\"id\":\"3564\",\"type\":\"ColumnDataSource\"},\"glyph\":{\"id\":\"3565\",\"type\":\"Line\"},\"hover_glyph\":null,\"muted_glyph\":null,\"nonselection_glyph\":{\"id\":\"3566\",\"type\":\"Line\"},\"selection_glyph\":null,\"view\":{\"id\":\"3568\",\"type\":\"CDSView\"}},\"id\":\"3567\",\"type\":\"GlyphRenderer\"},{\"attributes\":{\"label\":{\"value\":\"25\"},\"renderers\":[{\"id\":\"3580\",\"type\":\"GlyphRenderer\"}]},\"id\":\"3590\",\"type\":\"LegendItem\"},{\"attributes\":{\"source\":{\"id\":\"3591\",\"type\":\"ColumnDataSource\"}},\"id\":\"3595\",\"type\":\"CDSView\"},{\"attributes\":{},\"id\":\"3641\",\"type\":\"Selection\"},{\"attributes\":{},\"id\":\"3555\",\"type\":\"ResetTool\"},{\"attributes\":{},\"id\":\"3539\",\"type\":\"LinearScale\"},{\"attributes\":{\"source\":{\"id\":\"3564\",\"type\":\"ColumnDataSource\"}},\"id\":\"3568\",\"type\":\"CDSView\"},{\"attributes\":{},\"id\":\"3603\",\"type\":\"Selection\"},{\"attributes\":{},\"id\":\"3642\",\"type\":\"UnionRenderers\"},{\"attributes\":{\"items\":[{\"id\":\"3576\",\"type\":\"LegendItem\"},{\"id\":\"3590\",\"type\":\"LegendItem\"},{\"id\":\"3606\",\"type\":\"LegendItem\"},{\"id\":\"3624\",\"type\":\"LegendItem\"},{\"id\":\"3644\",\"type\":\"LegendItem\"}],\"location\":\"bottom_right\"},\"id\":\"3575\",\"type\":\"Legend\"},{\"attributes\":{\"label\":{\"value\":\"1000\"},\"renderers\":[{\"id\":\"3628\",\"type\":\"GlyphRenderer\"}]},\"id\":\"3644\",\"type\":\"LegendItem\"},{\"attributes\":{},\"id\":\"3572\",\"type\":\"BasicTickFormatter\"},{\"attributes\":{},\"id\":\"3547\",\"type\":\"BasicTicker\"},{\"attributes\":{},\"id\":\"3604\",\"type\":\"UnionRenderers\"},{\"attributes\":{\"bottom_units\":\"screen\",\"fill_alpha\":{\"value\":0.5},\"fill_color\":{\"value\":\"lightgrey\"},\"left_units\":\"screen\",\"level\":\"overlay\",\"line_alpha\":{\"value\":1.0},\"line_color\":{\"value\":\"black\"},\"line_dash\":[4,4],\"line_width\":{\"value\":2},\"render_mode\":\"css\",\"right_units\":\"screen\",\"top_units\":\"screen\"},\"id\":\"3574\",\"type\":\"BoxAnnotation\"},{\"attributes\":{\"text\":\"Power Analysis\"},\"id\":\"3531\",\"type\":\"Title\"},{\"attributes\":{\"label\":{\"value\":\"50\"},\"renderers\":[{\"id\":\"3594\",\"type\":\"GlyphRenderer\"}]},\"id\":\"3606\",\"type\":\"LegendItem\"},{\"attributes\":{\"axis_label\":\"Effect Size\",\"formatter\":{\"id\":\"3572\",\"type\":\"BasicTickFormatter\"},\"ticker\":{\"id\":\"3542\",\"type\":\"BasicTicker\"}},\"id\":\"3541\",\"type\":\"LinearAxis\"},{\"attributes\":{},\"id\":\"3552\",\"type\":\"WheelZoomTool\"},{\"attributes\":{\"label\":{\"value\":\"10\"},\"renderers\":[{\"id\":\"3567\",\"type\":\"GlyphRenderer\"}]},\"id\":\"3576\",\"type\":\"LegendItem\"},{\"attributes\":{\"line_color\":\"#33a02c\",\"x\":{\"field\":\"x\"},\"y\":{\"field\":\"y\"}},\"id\":\"3608\",\"type\":\"Line\"},{\"attributes\":{\"callback\":null,\"data\":{\"x\":{\"__ndarray__\":\"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\",\"dtype\":\"float64\",\"shape\":[1000]},\"y\":[0.05005145798247057,0.050062162611169456,0.05007387813495788,0.05008660459644962,0.05010034204192863,0.05011509052133966,0.050130850088294945,0.050147620800066725,0.0501654027175854,0.05018419590543715,0.050204000431860664,0.05022481636874421,0.05024664379162197,0.05026948277967125,0.050293333415707867,0.05031819578618327,0.050344069981179844,0.050370956094407254,0.05039885422319802,0.0504277644685025,0.05045768693488526,0.05048862173051927,0.05052056896718139,0.050553528760247365,0.050587501228685806,0.05062248649505363,0.050658484685489745,0.05069549592970933,0.050733520360998124,0.05077255811620607,0.050812609335740555,0.05085367416356103,0.05089575274717107,0.05093884523761251,0.05098295178945785,0.05102807256080375,0.0510742077132627,0.051121357411956586,0.05116952182550853,0.051218701126034785,0.051268895489137586,0.051320105093895896,0.05137233012285832,0.051425570762033385,0.051479827200881983,0.05153509963230783,0.05159138825264877,0.0516486932616676,0.051707014862542935,0.0517663532618592,0.05182670866980131,0.051888081299626514,0.05195047136777832,0.0520138790945903,0.05207830470353214,0.05214374842141967,0.05221021047840452,0.05227769110796268,0.05234619054688464,0.05241570903526315,0.05248624681648305,0.05255780413720901,0.05263038124737465,0.05270397840017035,0.05277859585203179,0.05285423386262733,0.05293089269484641,0.05300857261478711,0.05308727389174327,0.05316699679819225,0.05324774160978171,0.053329508605317044,0.053412298066748055,0.053496110279155566,0.05358094553073789,0.05366680411279785,0.05375368631972827,0.053841592448998145,0.05393052280113937,0.0540204776797313,0.05411145739138748,0.0542034622457404,0.05429649255542682,0.054390548636073656,0.05448563080628198,0.054581739387612786,0.05467887470457081,0.054777037084590016,0.05487622685801707,0.0549764443580964,0.05507768992095355,0.05517996388557994,0.05528326659381589,0.05538759839033444,0.05549295962262552,0.05559935064097846,0.05570677179846519,0.05581522345092422,0.05592470595694245,0.05603521967783859,0.056146764977645425,0.056259342223092534,0.05637295178358843,0.05648759403120285,0.056603269340648396,0.05671997808926324,0.056837720656991914,0.05695649742636741,0.05707630878249261,0.0571971551130216,0.05731903680814032,0.057441954260548544,0.05756590786543991,0.05769089802048273,0.05781692512580129,0.05794398958395533,0.058072091799921205,0.05820123218107132,0.05833141113715475,0.058462629080276704,0.05859488642795209,0.05872818359108262,0.05886252099152742,0.05899789905061502,0.05913431819192806,0.059271778846943284,0.05941028143288813,0.05954982638516267,0.05969041413615728,0.05983204512041043,0.059974719774587154,0.06011843853745701,0.060263201849872675,0.06040901015474774,0.06055586389703438,0.06070376352370158,0.06085270948371226,0.061002702228001214,0.06115374220945205,0.06130582988287507,0.061458965704983604,0.06161315013437129,0.061768383631489315,0.061924666658622694,0.06208199967986708,0.06224038316110497,0.0623998175699825,0.06256030337588538,0.0627218410499151,0.06288443106486484,0.06304807389519537,0.06321277001701091,0.06337851990803466,0.06354532404758417,0.06371318291654714,0.063882096997356,0.06405206677396379,0.06422309273181877,0.06439517535783923,0.06456831514038884,0.06474251256925057,0.06491776813560178,0.06509408233198888,0.06527145565230066,0.06544988859174365,0.06562938164681566,0.06580993531527965,0.06599155009613811,0.06617422648960625,0.06635796499708625,0.06654276612114025,0.06672863036546416,0.06691555823486096,0.06710355023521368,0.06729260687345895,0.06748272865755939,0.06767391609647735,0.06786616970014671,0.06805948997944655,0.06825387744617313,0.06844933261301243,0.06864585599351283,0.06884344810205718,0.06904210945383489,0.06924184056481424,0.06944264195171439,0.06964451413197674,0.06984745762373756,0.0700514729457989,0.07025656061760066,0.07046272115919189,0.07066995509120207,0.07087826293481296,0.07108764521172878,0.07129810244414857,0.0715096351547361,0.07172224386659154,0.07193592910322197,0.07215069138851231,0.07236653124669548,0.07258344920232367,0.0728014457947759,0.07302052152104682,0.07324067692009618,0.07346191251745887,0.07368422883884071,0.07390762641008776,0.0741321057571569,0.07435766740608526,0.07458431188296073,0.07481203971389071,0.07504085142497238,0.0752707475796521,0.07550172863153866,0.075733795141644,0.07596694763572613,0.07620118663938026,0.07643651267800769,0.0766729262767849,0.07691042796063276,0.0771490182541853,0.0773886976817587,0.07762946676732006,0.07787132603445619,0.078114276006342,0.07835831720570967,0.07860345015481635,0.07884967537541357,0.0790969933887146,0.07934540471536386,0.0795949098754043,0.07984550938824582,0.08009720377263388,0.08034999354661669,0.08060387922751408,0.08085886133188476,0.08111494037549466,0.08137211687328444,0.08163039133933746,0.08188976428684724,0.08215023622808545,0.08241180767436902,0.082674479136028,0.08293825112237305,0.08320312414166274,0.08346909870107075,0.08373617530665343,0.08400435446331694,0.08427363667478456,0.08454402244356374,0.08481551227091297,0.08508810665680952,0.0853618060999156,0.0856366110975459,0.08591252214563425,0.08618953973870074,0.086467664369818,0.0867468965305787,0.08702723671106166,0.08730868539979875,0.08759124308374178,0.08787491024822884,0.08815968737695076,0.08844557495191804,0.08873257345342705,0.08902068336002644,0.08930990514848372,0.08960023929375158,0.08989168626893435,0.09018424654525385,0.09047792059201669,0.09077270887657919,0.09106861186431442,0.0913656300185785,0.09166376380067641,0.09196301366982775,0.09226338008313391,0.09256486349554328,0.09286746435981728,0.09317118312649696,0.09347602024386867,0.09378197615792992,0.0940890513123555,0.09439724614846343,0.09470656110518072,0.09501699661900956,0.09532855316267674,0.09564123109242281,0.09595503087399669,0.09626995293386323,0.09658599769589206,0.09690316558132284,0.097221457008731,0.09754087239399391,0.09786141215025633,0.0981830766878962,0.09850586641449055,0.09882978173478096,0.09915482305063936,0.0994809907610342,0.09980828526199523,0.1001367069465802,0.10046625620483975,0.10079693342378362,0.10112873898734646,0.1014616732763525,0.10179573681645651,0.1021309296937126,0.10246725242023826,0.10280470536409145,0.10314328889005013,0.10348300335957669,0.10382384913078488,0.10416582655840478,0.10450893599374861,0.10485317778467701,0.10519855227556411,0.10554505980726384,0.10589270071707521,0.10624147533870865,0.1065913840022512,0.10694242703413297,0.1072946047570924,0.10764791749014234,0.1080023655485361,0.10835794924373286,0.10871466888336405,0.10907252477119898,0.10943151720711078,0.10979164648704252,0.11015291290297292,0.11051531674288262,0.11087885829072008,0.11124353782636745,0.11160935562560706,0.11197631196008714,0.1123444070972881,0.11271364130048858,0.11308401482873179,0.11345552793679153,0.1138281808751388,0.11420197388990745,0.11457690722286101,0.11495298111135892,0.11533019578832286,0.11570855148220291,0.11608804841694445,0.11646868681195438,0.11685046688206757,0.11723338883751372,0.11761745288388367,0.11800265922209606,0.11838900804836439,0.11877649955416296,0.11916513392619472,0.11955491134635703,0.11994583199170906,0.12033789603443901,0.12073110364183004,0.12112545497622842,0.12152095019500996,0.12191758945054706,0.12231537289017608,0.12271430065616462,0.12311437288567835,0.12351558971074907,0.123917951258241,0.1243214576498194,0.12472610900191726,0.1251319054257029,0.12553884702704773,0.12594693390649414,0.1263561662351106,0.12676654395436504,0.12717806722119607,0.12759073611451238,0.1280045507077325,0.12841951106875335,0.12883561725991793,0.12925286933798363,0.12967126735409046,0.13009081135372957,0.13051150137671116,0.13093333745713326,0.13135631962335026,0.13178044789794116,0.13220572229767852,0.13263214283349725,0.13305970951046336,0.1334884223277424,0.13391828127856917,0.1343492863502159,0.13478143752396246,0.1352147347750643,0.13564917807272278,0.13608476738005384,0.1365215026540577,0.13695938384558837,0.13739841089932323,0.1378385837537329,0.13827990234105028,0.13872236698672352,0.1391659768286459,0.13961073216314315,0.1400566328972248,0.14050367893151464,0.14095187016022032,0.14140120647110432,0.14185168774545406,0.14230331385805267,0.1427560846771497,0.14321000006443196,0.14366505987499442,0.1441212639573107,0.14457861215320525,0.14503710429782324,0.14549674021960265,0.14595751974024568,0.1464194426746898,0.1468825088310796,0.14734671801073826,0.14781207000814,0.14827856461088104,0.14874620159965227,0.14921498074821093,0.14968490182335334,0.15015596458488684,0.15062816878560226,0.15110151417124645,0.15157600048049527,0.15205162744492592,0.15252839478898989,0.1530063022299864,0.1534853494780349,0.15396553623604856,0.15444686219970755,0.15492932705743295,0.15541293049035923,0.15589767217230938,0.1563835517697676,0.1568705689418532,0.15735872334029585,0.15784801460940823,0.15833844238606146,0.15883000629965888,0.15932270597211073,0.15981654101780907,0.16031151104360217,0.16080761564876966,0.16130485442499773,0.16180322695635352,0.16230273281926175,0.16280337158247885,0.16330514280706912,0.16380804604638044,0.16431208095841202,0.1648172468608152,0.16532354339161814,0.1658309700730686,0.1663395264195779,0.16684921193769825,0.1673600261260987,0.16787196847554292,0.16838503846886452,0.1688992355809457,0.16941455927869337,0.1699310090210171,0.17044858425880624,0.17096728443490708,0.1714871089841019,0.1720080573330856,0.17253012890044384,0.17305332309663232,0.17357763932395348,0.17410307697653635,0.17462963544031448,0.17515731409300453,0.17568611230408582,0.17621602943477865,0.1767470648380241,0.1772792178584629,0.17781248783241538,0.1783468740878607,0.178882375944417,0.1794189927133209,0.17995672369740823,0.18049556819109355,0.18103552548035126,0.18157659484269606,0.1821187755471626,0.18266206685428837,0.18320646801609264,0.18375197827605924,0.1842985968691167,0.1848463230216209,0.185395155951336,0.18594509574917134,0.18649613988572428,0.18704828840224996,0.18760154048200667,0.18815589529957225,0.1887113520208281,0.18926790980294175,0.1898255677943494,0.19038432513473916,0.1909441809550351,0.1915051343773798,0.1920671845151188,0.19263033047278377,0.19319457134607704,0.19375990622185552,0.19432633417811507,0.194893854283975,0.19546246559966288,0.1960321671764992,0.19660295805688288,0.19717483727427534,0.19774780385318752,0.1983218568091637,0.19889699514876868,0.19947321786957264,0.20005052396013806,0.2006289124000053,0.20120838215967884,0.20178893220061525,0.20237056147520818,0.20295326892677665,0.2035370534895514,0.20412191408866281,0.20470784964012767,0.2052948590508376,0.20588294121854644,0.20647209503185865,0.20706231937021682,0.2076536131038909,0.20824597509396645,0.20883940433880738,0.20943389939366297,0.2100294592331537,0.21062608268152333,0.21122376855377722,0.2118225156556714,0.21242232278370338,0.2130231887251016,0.2136251122578159,0.21422809215050792,0.21483212716254138,0.21543721604397353,0.21604335753554565,0.21665055036867464,0.21725879326544406,0.21786808493859566,0.21847842409152135,0.21908980941825523,0.21970223960346566,0.22031571332244718,0.22093022924111355,0.22154578601599045,0.22216238229420815,0.22278001671349448,0.22339868790216844,0.2240183944791338,0.22463913505387204,0.22526090822643727,0.22588371258744944,0.22650754671808884,0.2271324091900912,0.22775829856574104,0.22838521339786771,0.22901315222983987,0.2296421135955609,0.23027209601946413,0.23090309801650877,0.2315351180921753,0.2321681547424625,0.23280220645388183,0.23343727170345605,0.2340733489587143,0.23471043667768937,0.23534853330891484,0.2359876372914222,0.23662774705473838,0.23726886101888292,0.23791097759436658,0.2385540951821885,0.239198212173835,0.2398433269512778,0.24048943788697252,0.2411365449325609,0.24178464331928567,0.24243373292633005,0.2430838120881315,0.24373487912960912,0.24438693236616335,0.24503997010367676,0.2456939906385135,0.2463489922575201,0.2470049732380263,0.24766193184784563,0.24831986634527686,0.2489787749791049,0.24963865598860252,0.2502995076035322,0.25096132804414745,0.25162411552119585,0.2522878682359201,0.25295258438006196,0.25361826213586386,0.2542848996760724,0.2549524951639411,0.2556210467532343,0.2562905525882302,0.25696101080372447,0.2576324195250351,0.2583047770383179,0.2589780811153447,0.25965233001751464,0.2603275218322815,0.26100365463764513,0.2616807265021544,0.26235873548491384,0.2630376796355889,0.26371755699441174,0.26439836559218727,0.2650801034502997,0.2657627685807183,0.2664463589860045,0.26713087265931895,0.2678163075844275,0.26850266173571047,0.2691899330781674,0.26987811956742735,0.27056721914975485,0.27125722976205924,0.27194814933190203,0.27263997577750626,0.27333270700776424,0.27402634092224765,0.2747208754112152,0.27541630835562325,0.27611263762713445,0.27680986108812805,0.2775079765917096,0.2782069819817211,0.2789068750927511,0.2796076537501462,0.2803093157700199,0.28101185895926567,0.2817152811155672,0.2824195800274095,0.28312475347409094,0.2838307992257345,0.28453771504330067,0.28524549867859844,0.2859541478742991,0.2866636603639476,0.28737403387197596,0.28808526611371593,0.2887973547954131,0.2895102976142389,0.29022409225830564,0.29093873640667905,0.2916542277293932,0.2923705638874645,0.2930877425329063,0.29380576130874286,0.2945246178490251,0.2952443097788447,0.29596483471435037,0.29668619026276233,0.2974083740223888,0.29813138358264085,0.29885521652404945,0.29957987041828105,0.30030534282815446,0.3010316313076575,0.3017587334019631,0.3024866466474473,0.30321537115877717,0.30394489936426017,0.3046752312799885,0.3054063644073967,0.30613829623921157,0.30687102425947127,0.30760454594354414,0.3083388587581458,0.30907396016136024,0.30980984760265684,0.3105465186991156,0.31128397053657364,0.3120222007092246,0.31276120663228346,0.31350098571245066,0.3142415353479312,0.31498285292845607,0.31572493583530176,0.31646778144131277,0.3172113871109209,0.31795575020016753,0.31870086805672454,0.3194467380199165,0.3201933574207422,0.32094072358189596,0.3216888338177914,0.3224376854345819,0.3231872757301852,0.3239376019943042,0.32468866150845177,0.3254404515459724,0.3261929693720664,0.32694621224381304,0.32770017741019447,0.32845486211211966,0.3292102635824484,0.3299663790460156,0.33072320571965524,0.33148074081222634,0.33223898152463666,0.3329979250498679,0.33375756857300104,0.3345179092712421,0.33527894431394695,0.336040670862648,0.33680308607107934,0.33756618708520286,0.3383299710432357,0.3390944350756748,0.3398595763053258,0.34062539184732815,0.34139187880918265,0.34215903429077915,0.3429268553844233,0.3436953391748645,0.34446448273932345,0.34523428314751997,0.34600473746170185,0.3467758427366719,0.3475475960198167,0.3483199943511366,0.3490930347632725,0.3498667142815367,0.3506410299239398,0.3514159787012227,0.3521915576168843,0.35296776366721083,0.35374459384130685,0.3545220451211253,0.35530011448149634,0.3560787988901591,0.35685809530779133,0.35763800068804014,0.35841851197755337,0.35919962611601003,0.35998134003615173,0.3607636506638138,0.36154655491795673,0.36233004971069854,0.36311413194734576,0.3638987985264255,0.3646840463397179,0.3654698724487837,0.36625627338474687,0.3670432461902814,0.36783078773050804,0.3686188948639651,0.36940756444263917,0.37019679724195403,0.3709865823606082,0.3717769204449092,0.37256780832106834,0.373359242808915,0.37415122072193296,0.3749437388672937,0.37573679404589,0.37653038305237224,0.37732450267518086,0.37811914969658295,0.37891432089270666,0.3797100130335759,0.3805062228831466,0.3813029471993408,0.38210018273408336,0.38289792623333696,0.3836961744371386,0.3844949240796349,0.3852941718891186,0.3860939145880649,0.3868941488931674,0.38769487151537557,0.38849607915993073,0.38929776852640274,0.39009993630872736,0.39090257919524396,0.3917056938687313,0.392509277006446,0.39331332528015994,0.3941178353561974,0.3949228038954741,0.3957282275535328,0.3965341029805836,0.39734042682154125,0.3981471957160638,0.3989544062985897,0.3997620551983783,0.4005701390395473,0.40137865444111187,0.4021875980170237,0.4029969663762099,0.40380675612261213,0.40461696385522633,0.40542758616814173,0.4062386196505805,0.4070500608869374,0.4078619064568197,0.4086741529350869,0.40948679689189127,0.41029983489271715,0.41111326349842153,0.4119270792652751,0.4127412787450019,0.41355585848482,0.4143708150274824,0.4151861449113184,0.4160018446702732,0.4168179108339502,0.41763433992765114,0.4184511284724189,0.41926827298507663,0.42008576997827124,0.4209036161274132,0.42172180760837835,0.42254034108333083,0.4233592130486297,0.42417841999666633,0.4249979584159059,0.4258178247909299,0.42663801560247744,0.42745852732748923,0.4282793564391489,0.4291004994069256,0.42992195269661715,0.43074371277039264,0.43156577608683483,0.4323881391009835,0.43321079826437814,0.4340337500251018,0.43485699082782264,0.43568051711383937,0.4365043253211231,0.4373284118843609,0.438152773235,0.4389774113116813,0.4398023116784187,0.4406274761122731,0.4414529010322798,0.4422785828544562,0.44310451799184564,0.4439307028545594,0.44475713384982374,0.4455838073820224,0.4464107198527419,0.4472378676608149,0.4480652472023661,0.44889285487085534,0.44972068705712354,0.4505487401494367,0.45137701053353074,0.4522054945926569,0.4530341887076255,0.4538630892568519,0.45469219261640176,0.4555214951600353,0.45635099325925266,0.45718068328333933,0.45801056159941217,0.4588406245724633,0.4596708685654058,0.460501289939121,0.46133188505250067,0.4621626502624964,0.46299358192416207,0.4638246763907013,0.4646559300135126,0.4654873391422352,0.4663189001247943,0.4671506093074489,0.4679824630348349,0.46881445765001345,0.46964658949451543,0.47047885490838837,0.47131125023024256,0.47214377179729644,0.47297641594542345,0.4738091790091984,0.474642057321942,0.4754750472157699,0.47630814502163743,0.4771413470693856,0.47797464968778886,0.47880804920460024,0.47964154194659797,0.480475124239633,0.48130879240867447,0.4821425427778566,0.4829763716705261,0.48381027540928623,0.4846442503160465,0.48547829271206777,0.4863123989180095,0.4871465652539749,0.48798078803955997,0.48881506359389837,0.4896493882357095,0.49048375828334456,0.4913181700548327,0.49215261986792985,0.49298710404016327,0.49382161888887993,0.4946561607312928,0.4954907258845267,0.4963253106656682,0.4971599113918088,0.4979945243800938,0.49882914594776917,0.49966377805284795,0.5004984058906808,0.50133303126496,0.5021676504939095,0.5030022598960905,0.5038368557904466,0.5046714344963558,0.5055059923336714,0.5063405260694336,0.5071750311442896,0.5080095043138158,0.5088439419002575,0.5096783402265755,0.5105126956164886,0.5113470043945246,0.5121812628860647,0.5130154674173895,0.5138496143157296,0.5146836999093087,0.5155177205273926,0.5163516725003351,0.5171855521596257,0.5180193558379357,0.5188530798691645,0.5196867205884882,0.5205202743324041,0.5213537374387793,0.5221871062468968,0.5230203770975005,0.523853546332846,0.524686610296742,0.5255195653346012,0.5263524077934839,0.527185134022148,0.5280177403710905,0.5288502231925994,0.5296825788407962,0.5305148036716837,0.5313468940431935,0.5321788463152299,0.5330106568497192,0.5338423220106523,0.534673838164135,0.5355052016784306,0.5363364089240089,0.5371674562735901,0.5379983401021928,0.5388290567871774,0.5396596027082962,0.5404899742477345,0.5413201677901603,0.5421501797227684,0.542980006435326,0.5438096443202198,0.5446390897724995,0.545468339189926,0.5462973889730153,0.5471262355250845,0.5479548752522968,0.5487833045637085,0.5496115198713117,0.5504395175900819,0.5512672941380224,0.5520948459362096,0.5529221694088375,0.5537492609832642,0.5545761170900552,0.5554027341630288,0.5562291086393023,0.5570552369593351,0.5578811155669741,0.5587067409094981,0.5595321094376631,0.5603572176057461,0.5611820618715894,0.5620066386966456]},\"selected\":{\"id\":\"3587\",\"type\":\"Selection\"},\"selection_policy\":{\"id\":\"3588\",\"type\":\"UnionRenderers\"}},\"id\":\"3564\",\"type\":\"ColumnDataSource\"},{\"attributes\":{\"callback\":null,\"data\":{\"x\":{\"__ndarray__\":\"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\",\"dtype\":\"float64\",\"shape\":[1000]},\"y\":[0.05574170869903279,0.05694093966553136,0.05825526799905806,0.05968517137195556,0.06123115723272182,0.06289376004019143,0.06467353835610652,0.06657107171824236,0.06858695736652193,0.07072180680595665,0.07297624221952426,0.07535089274056164,0.0778463906219183,0.08046336723585107,0.08320244889145383,0.08606425285393657,0.08904938293343782,0.0921584251770131,0.09539194346383804,0.09875047505109685,0.10223452613299973,0.10584456715962771,0.1095810287198841,0.11344429625210033,0.11743470641271077,0.12155254209768372,0.12579802812631583,0.13017132686732533,0.13467253393530043,0.13930167408294306,0.1440586966899522,0.1489434722715911,0.15395578887701775,0.15909534630154176,0.16436175532640226,0.16975453255194492,0.17527309752630738,0.18091676980327673,0.18668476555439223,0.1925761955630482,0.19859006234636886,0.20472525906495484,0.21098056376179783,0.21735464271998,0.22384604581933037,0.23045320618621798,0.23717443858386605,0.24400793954724384,0.2509517864213793,0.2580039373211083,0.26516223125262084,0.27242439097012566,0.2797880148285002,0.28725059014728055,0.29480948620373326,0.3024619586074204,0.31020515049267144,0.31803609480188383,0.3259517166962625,0.33394883624207744,0.3420241754340966,0.35017434662450864,0.3583958764708862,0.36668519698477214,0.37503865247672413,0.38345250376663076,0.3919229326174087,0.4004460463814537,0.40901788763604213,0.41763442172130794,0.4262915662558563,0.4349851814153085,0.4437110790109898,0.4524650281627741,0.46124276127117614,0.4700399792778213,0.478852358551499,0.4876755636902631,0.49650522700947775,0.5053369920656123,0.5141664965724686,0.5229893841134446,0.5318013103683912,0.5405979493257306,0.549375006269689,0.5581281993750895,0.566853298729892,0.5755461133509508,0.5842025004014826,0.5928183714043279,0.6013896978994107,0.6099125169632034,0.6183829458533002,0.6267971529203346,0.6351514106492574,0.6434420704482056,0.6516655743880077,0.6598184596412281,0.6678973631698042,0.6758990239970329,0.6838203007355192,0.6916581314551387,0.6994095964537483,0.707071884171009,0.7146423027168357,0.7221182823672693,0.7294973777934043,0.7367772826993071,0.7439557844233392,0.7510308315193198,0.7580004933635253,0.7648629708652324,0.7716165970807105,0.7782598383002395,0.7847913040749736,0.7912097036969312,0.7975139097587213,0.8037029163067411,0.8097758478106679,0.8157319580103806,0.8215706395097601,0.8272913823967584,0.8328938259083142,0.8383777259128085,0.8437429576972031,0.8489895144101098,0.8541175044831133,0.8591271498722001,0.8640187953838736,0.8687928514409907,0.8734498713615942,0.8779904960885871,0.8824154632824612,0.886725603801214,0.8909218538715387,0.8950051924636945,0.8989767206784179,0.902837605534518,0.9065890885388848,0.9102324817861385,0.9137691651616369,0.9172005956027331,0.9205282439339266,0.9237536792243852,0.9268785076771593,0.9299043825123652,0.9328330011995566,0.9356661143248881,0.938405464573119,0.9410528684518715,0.9436101572294116,0.946079186698086,0.9484618347610153,0.9507600105115361,0.9529755942098436,0.9551105187502816,0.9571667115194702,0.959146104598051,0.961050632938226,0.9628822441384299,0.9646428383085522,0.9663343513679247,0.9679586967261458,0.9695177763580342,0.9710134797146747,0.9724476945698243,0.973822245616764,0.9751389815365195,0.976399715345537,0.9776062377033128,0.9787603115048288,0.9798636943119498,0.9809180641857244,0.9819251176177306,0.9828865063698825,0.9838038508169149,0.9846787385486543,0.9855127454953675,0.9863073585503307,0.9870640814354321,0.9877843673068966,0.9884696341963701,0.9891212821264661,0.9897406272858217,0.9903289947781106,0.9908876597320886,0.9914178612734037,0.9919208025674112,0.9923976703615186,0.9928495621147404,0.9932775898125547,0.9936828146854965,0.9940662631660572,0.9944289449611546,0.9947717869991579,0.9950957281940207,0.995401660264396,0.9956904424981949,0.9959629023274842,0.9962198562380266,0.9964620340039542,0.9966901877549394,0.9969050239759915,0.9971072205612583,0.9972974465957224,0.9974762912721685,0.99764436651744,0.9978022431674397,0.9979504670878334,0.9980895599089611,0.9982200422748597,0.9983423497980128,0.9984569542064092,0.9985642877484529,0.9986647621170809,0.998758790935768,0.998846708462112,0.9989288867758259,0.9990056626181473,0.9990773556806756,0.9991442692667698,0.9992067172510684,0.9992649255265369,0.9993191736240615,0.9993697058811671,0.9994167745723932,0.9994605606071685,0.999501287606357,0.9995391504573006,0.9995743330159491,0.9996070299306111,0.9996373667910653,0.9996655148127167,0.9996916188568389,0.9997158151609152,0.9997382534540142,0.9997590155886539,0.9997782322124217,0.9997960093794099,0.9998124465211565,0.9998276591153366,0.9998416948306162,0.9998546535801935,0.9998666118478193,0.9998776411172701,0.9998878313696129,0.9998972037354361,0.9999058353841471,0.9999137806537521,0.9999210901679466,0.9999278354574915,0.9999340170444984,0.9999396957253657,0.9999449095285872,1.0,1.0,1.0,1.0,1.0,1.0,1.0,1.0,1.0,1.0,1.0,1.0,1.0,1.0,1.0,1.0,1.0,1.0,1.0,1.0,1.0,1.0,1.0,1.0,1.0,1.0,1.0,1.0,1.0,1.0,1.0,1.0,1.0,1.0,1.0,1.0,1.0,1.0,1.0,1.0,1.0,1.0,1.0,1.0,1.0,1.0,1.0,1.0,1.0,1.0,1.0,1.0,1.0,1.0,1.0,1.0,1.0,1.0,1.0,1.0,1.0,1.0,1.0,1.0,1.0,1.0,1.0,1.0,1.0,1.0,1.0,1.0,1.0,1.0,1.0,1.0,1.0,1.0,1.0,1.0,1.0,1.0,1.0,1.0,1.0,1.0,1.0,1.0,1.0,1.0,1.0,1.0,1.0,1.0,1.0,1.0,1.0,1.0,1.0,1.0,1.0,1.0,1.0,1.0,1.0,1.0,1.0,1.0,1.0,1.0,1.0,1.0,1.0,1.0,1.0,1.0,1.0,1.0,1.0,1.0,1.0,1.0,1.0,1.0,1.0,1.0,1.0,1.0,1.0,1.0,1.0,1.0,1.0,1.0,1.0,1.0,1.0,1.0,1.0,1.0,1.0,1.0,1.0,1.0,1.0,1.0,1.0,1.0,1.0,1.0,1.0,1.0,1.0,1.0,1.0,1.0,1.0,1.0,1.0,1.0,1.0,1.0,1.0,1.0,1.0,1.0,1.0,1.0,1.0,1.0,1.0,1.0,1.0,1.0,1.0,1.0,1.0,1.0,1.0,1.0,1.0,1.0,1.0,1.0,1.0,1.0,1.0,1.0,1.0,1.0,1.0,1.0,1.0,1.0,1.0,1.0,1.0,1.0,1.0,1.0,1.0,1.0,1.0,1.0,1.0,1.0,1.0,1.0,1.0,1.0,1.0,1.0,1.0,1.0,1.0,1.0,1.0,1.0,1.0,1.0,1.0,1.0,1.0,1.0,1.0,1.0,1.0,1.0,1.0,1.0,1.0,1.0,1.0,1.0,1.0,1.0,1.0,1.0,1.0,1.0,1.0,1.0,1.0,1.0,1.0,1.0,1.0,1.0,1.0,1.0,1.0,1.0,1.0,1.0,1.0,1.0,1.0,1.0,1.0,1.0,1.0,1.0,1.0,1.0,1.0,1.0,1.0,1.0,1.0,1.0,1.0,1.0,1.0,1.0,1.0,1.0,1.0,1.0,1.0,1.0,1.0,1.0,1.0,1.0,1.0,1.0,1.0,1.0,1.0,1.0,1.0,1.0,1.0,1.0,1.0,1.0,1.0,1.0,1.0,1.0,1.0,1.0,1.0,1.0,1.0,1.0,1.0,1.0,1.0,1.0,1.0,1.0,1.0,1.0,1.0,1.0,1.0,1.0,1.0,1.0,1.0,1.0,1.0,1.0,1.0,1.0,1.0,1.0,1.0,1.0,1.0,1.0,1.0,1.0,1.0,1.0,1.0,1.0,1.0,1.0,1.0,1.0,1.0,1.0,1.0,1.0,1.0,1.0,1.0,1.0,1.0,1.0,1.0,1.0,1.0,1.0,1.0,1.0,1.0,1.0,1.0,1.0,1.0,1.0,1.0,1.0,1.0,1.0,1.0,1.0,1.0,1.0,1.0,1.0,1.0,1.0,1.0,1.0,1.0,1.0,1.0,1.0,1.0,1.0,1.0,1.0,1.0,1.0,1.0,1.0,1.0,1.0,1.0,1.0,1.0,1.0,1.0,1.0,1.0,1.0,1.0,1.0,1.0,1.0,1.0,1.0,1.0,1.0,1.0,1.0,1.0,1.0,1.0,1.0,1.0,1.0,1.0,1.0,1.0,1.0,1.0,1.0,1.0,1.0,1.0,1.0,1.0,1.0,1.0,1.0,1.0,1.0,1.0,1.0,1.0,1.0,1.0,1.0,1.0,1.0,1.0,1.0,1.0,1.0,1.0,1.0,1.0,1.0,1.0,1.0,1.0,1.0,1.0,1.0,1.0,1.0,1.0,1.0,1.0,1.0,1.0,1.0,1.0,1.0,1.0,1.0,1.0,1.0,1.0,1.0,1.0,1.0,1.0,1.0,1.0,1.0,1.0,1.0,1.0,1.0,1.0,1.0,1.0,1.0,1.0,1.0,1.0,1.0,1.0,1.0,1.0,1.0,1.0,1.0,1.0,1.0,1.0,1.0,1.0,1.0,1.0,1.0,1.0,1.0,1.0,1.0,1.0,1.0,1.0,1.0,1.0,1.0,1.0,1.0,1.0,1.0,1.0,1.0,1.0,1.0,1.0,1.0,1.0,1.0,1.0,1.0,1.0,1.0,1.0,1.0,1.0,1.0,1.0,1.0,1.0,1.0,1.0,1.0,1.0,1.0,1.0,1.0,1.0,1.0,1.0,1.0,1.0,1.0,1.0,1.0,1.0,1.0,1.0,1.0,1.0,1.0,1.0,1.0,1.0,1.0,1.0,1.0,1.0,1.0,1.0,1.0,1.0,1.0,1.0,1.0,1.0,1.0,1.0,1.0,1.0,1.0,1.0,1.0,1.0,1.0,1.0,1.0,1.0,1.0,1.0,1.0,1.0,1.0,1.0,1.0,1.0,1.0,1.0,1.0,1.0,1.0,1.0,1.0,1.0,1.0,1.0,1.0,1.0,1.0,1.0,1.0,1.0,1.0,1.0,1.0,1.0,1.0,1.0,1.0,1.0,1.0,1.0,1.0,1.0,1.0,1.0,1.0,1.0,1.0,1.0,1.0,1.0,1.0,1.0,1.0,1.0,1.0,1.0,1.0,1.0,1.0,1.0,1.0,1.0,1.0,1.0,1.0,1.0,1.0,1.0,1.0,1.0,1.0,1.0,1.0,1.0,1.0,1.0,1.0,1.0,1.0,1.0,1.0,1.0,1.0,1.0,1.0,1.0,1.0,1.0,1.0,1.0,1.0,1.0,1.0,1.0,1.0,1.0,1.0,1.0,1.0,1.0,1.0,1.0,1.0,1.0,1.0,1.0,1.0,1.0,1.0,1.0,1.0,1.0,1.0,1.0,1.0,1.0,1.0,1.0,1.0,1.0,1.0,1.0,1.0,1.0,1.0,1.0,1.0,1.0,1.0,1.0,1.0,1.0,1.0,1.0,1.0,1.0,1.0,1.0,1.0,1.0,1.0,1.0,1.0,1.0,1.0,1.0,1.0,1.0,1.0,1.0,1.0,1.0,1.0,1.0,1.0,1.0,1.0,1.0,1.0,1.0,1.0,1.0,1.0,1.0,1.0,1.0,1.0,1.0,1.0]},\"selected\":{\"id\":\"3760\",\"type\":\"Selection\"},\"selection_policy\":{\"id\":\"3761\",\"type\":\"UnionRenderers\"}},\"id\":\"3625\",\"type\":\"ColumnDataSource\"},{\"attributes\":{\"ticker\":{\"id\":\"3542\",\"type\":\"BasicTicker\"}},\"id\":\"3545\",\"type\":\"Grid\"},{\"attributes\":{\"callback\":null,\"data\":{\"x\":{\"__ndarray__\":\"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\",\"dtype\":\"float64\",\"shape\":[1000]},\"y\":[0.05013757308211255,0.050166193707669365,0.05019751785414052,0.05023154583065462,0.0502682779728454,0.05030771464281106,0.05034985622906976,0.05039470314651258,0.050442255836352784,0.050492514766072194,0.050545480429364256,0.05060115334607364,0.050659534062132555,0.05072062314949473,0.05078442120606504,0.050850928855626906,0.05092014674776536,0.0509920755577883,0.051066715986643293,0.05114406876083197,0.05122413463232143,0.05130691437845078,0.051392408801837486,0.0514806187302773,0.05157154501664349,0.05166518853878168,0.05176155019940165,0.05186063092596657,0.051962431670791995,0.052066953410436906,0.052174197145578506,0.05228416390175711,0.052396854728433695,0.05251227069909054,0.052630412911099614,0.052751282485585985,0.05287488056728917,0.05300120832442131,0.05313026694852145,0.053262057654308255,0.05339658167952818,0.05353384028480197,0.05367383475346712,0.05381656639141767,0.05396203652694148,0.05411024651055339,0.05426119771482701,0.05441489153422184,0.054571329384908704,0.05473051270459187,0.05489244295232775,0.05505712160834152,0.055224550173840106,0.055394730170823,0.05556766314188909,0.05574335065004204,0.05592179427849167,0.056102995630452776,0.056286956328941755,0.05647367801656913,0.0566631623553309,0.0568554110263953,0.0570504257298885,0.05724820818467616,0.05744876012814288,0.05765208331596923,0.057858179521905,0.05806705053754076,0.0582786981720763,0.0584931242520863,0.058710330621283384,0.05893031914027867,0.05915309168633959,0.05937865015664766,0.0596069964545721,0.05983813250891297,0.06007206026738329,0.06030878167517671,0.060548298709754596,0.06079061335800394,0.06103572762143923,0.06128364351593786,0.061534363071472364,0.06178788833184053,0.06204422135439252,0.06230336420975627,0.06256531898156033,0.06283008776615363,0.06309767267232397,0.06336807582101311,0.0636412993450304,0.06391734538876345,0.06419621610788678,0.06447791366906835,0.06476244024967327,0.0650497980374659,0.06533998923030958,0.06563301603586365,0.065928880671279,0.06622758536289082,0.06652913234590987,0.06683352386411097,0.06714076216952003,0.0674508495220978,0.06776378818942382,0.06807958044637542,0.06839822857480703,0.06871973486322643,0.06904410160646912,0.06937133110537129,0.06970142566643941,0.07003438760151984,0.07037021922746506,0.07070892286579875,0.07105050084237864,0.07139495548705786,0.07174228913334414,0.07209250411805712,0.07244560278098519,0.07280158746453809,0.07316046051340037,0.07352222427418151,0.07388688109506501,0.0742544333254555,0.07462488333116249,0.07499823343355061,0.0753744859975983,0.07575364337405019,0.07613570791308595,0.07652068196395785,0.07690856787462762,0.07729936803142902,0.0776930847027071,0.07808972026665394,0.07848927706243652,0.07889175742609422,0.07929716369016672,0.07970549818332102,0.08011676322997718,0.08053096114993237,0.08094809425798416,0.08136816486355186,0.08179117527029794,0.08221712777574688,0.08264602467090387,0.08307786823987184,0.08351266075946803,0.08395040449883857,0.08439110171907288,0.08483475467281683,0.0852813656038843,0.08573093674686907,0.0861834703267546,0.08663896855852289,0.08709743364676419,0.08755886778528318,0.08802327315670647,0.08849065193208858,0.08896100627051678,0.089434338318716,0.08991065021065198,0.09038994406713502,0.09087222199542173,0.09135748608881711,0.09184573842627552,0.0923369810720018,0.09283121607505043,0.09332844546892564,0.09382867127118018,0.09433189548301385,0.09483812008887177,0.09534734705604163,0.09585957833425146,0.09637481585526637,0.0968930615324849,0.0974143172605358,0.09793858491487345,0.09846586635137408,0.09899616344744998,0.09952947793909686,0.10006581165929736,0.10060516638158833,0.10114754385790582,0.10169294581817981,0.10224137396992906,0.1027928299978566,0.10334731556344383,0.103904832304546,0.10446538183498703,0.10502896574415463,0.10559558559659521,0.10616524309425579,0.10673793943862102,0.10731367626778988,0.10789245504296806,0.10847427719850351,0.10905914414148297,0.10964705725132923,0.11023801787939869,0.11083202734857901,0.11142908695288771,0.11202919795707074,0.1126323615962015,0.11323857907528101,0.11384785156883814,0.1144601802205299,0.11507556614274357,0.11569401041619838,0.11631551408954831,0.11694007817898563,0.11756770366784466,0.11819839150620694,0.11883214261050673,0.1194689578631377,0.12010883811205941,0.12075178417040652,0.12139779681609693,0.12204687679144188,0.1226990248027572,0.12335424151997434,0.1240125275762542,0.12467388356760009,0.12533831005247315,0.12600580755140844,0.12667637654663122,0.1273500174816766,0.1280267307610075,0.12870651674963657,0.12938937577274695,0.13007530811531642,0.13076431402174102,0.1314563936954612,0.13215154737693416,0.13284977503558135,0.13355107682277464,0.1342554527744408,0.13496290288370114,0.1356734271005064,0.13638702533127256,0.13710369743851802,0.13782344324050275,0.13854626251086832,0.13927215497828088,0.14000112032607412,0.14073315819189497,0.14146826816735114,0.1422064497976599,0.1429477025812984,0.14369202596965672,0.14443941936669163,0.1451898821285832,0.14594341399348315,0.1467000133902732,0.14745967993227121,0.1482224127812603,0.14898821104956234,0.1497570737997058,0.15052900004409564,0.15130398874468606,0.15208203881265414,0.15286314910807683,0.15364731843960894,0.15443454556416453,0.15522482918659955,0.1560181679593964,0.15681456048235276,0.15761400530226988,0.15841650091264542,0.15922204575336735,0.16003063821041108,0.1608422766155383,0.16165695924599804,0.16247468432423157,0.16329545001757786,0.16411925443798275,0.1649460956417103,0.16577597162905708,0.16660888034406782,0.16744481967425479,0.16828378745031972,0.16912578144587767,0.16997079937718398,0.1708188389028637,0.17166989762364418,0.17252397308208997,0.17338106288168778,0.17424116421696562,0.17510427456648864,0.1759703912376013,0.17683951147820318,0.17771163247650043,0.17858675136076096,0.17946486519907134,0.18034597099909797,0.1812300657078504,0.18211714621144764,0.18300720933488732,0.1839002518418192,0.18479627043431882,0.18569526175266787,0.18659722237513449,0.1875021488177585,0.1884100375341389,0.18932088491522506,0.19023468728911028,0.1911514409208296,0.1920711420121599,0.1929937867014232,0.193919371063294,0.19484789110860917,0.19577934278418074,0.19671372290895844,0.19765102548522775,0.19859124714945112,0.19953438359071335,0.2004804304331991,0.2014293832360269,0.202381237493086,0.20333598863287689,0.20429363201835526,0.20525416294677887,0.20621757664955928,0.20718386829211483,0.20815303297372958,0.2091250657274135,0.21009996151976848,0.21107771525085567,0.21205832175406764,0.21304177579600378,0.21402807207635016,0.21501720522776072,0.21600916981574453,0.21700396033855565,0.21800157122708633,0.21900199684476435,0.220005231487454,0.22101126953608577,0.22202010485482382,0.22303173168036358,0.22404614403742412,0.22506333588272182,0.22608330110489355,0.22710603352442377,0.22813152689357485,0.22915977489632244,0.23019077114829228,0.23122450919670384,0.2322609825203148,0.2333001845293714,0.23434210856556215,0.23538674790197467,0.236434095743057,0.23748414522458278,0.2385368894136201,0.23959232130850402,0.24065043383881352,0.24171121986535188,0.24277467218013088,0.24384078350635977,0.24490954649843635,0.24598095374194434,0.2470549977536527,0.24813167098151953,0.24921096580470062,0.25029287453356014,0.2513773894096878,0.2524645026059176,0.2535542062263514,0.2546464923063876,0.2557413528127513,0.2568387813967799,0.25793876647818853,0.2590413014794559,0.2601463780932548,0.2612539879438146,0.2623641225869746,0.26347677351024656,0.2645919321328767,0.26570958980591464,0.26682973781228403,0.2679523673668599,0.26907746961654644,0.27020503564036275,0.2713350564495297,0.2724675229875617,0.27360242630429077,0.27473975687006147,0.2758795055905014,0.2770216631393238,0.2781662201230551,0.2793131670811528,0.2804624944861221,0.281614192743643,0.2827682521926961,0.283924663105695,0.28508341568862183,0.2862445000811676,0.28740790635687496,0.288573624523287,0.28974164452209816,0.29091195622931004,0.2920845494553914,0.29325941394544064,0.29443653937935466,0.2956159153719991,0.2967975314733848,0.2979813771688459,0.29916744187922406,0.3003557149610552,0.3015461857067601,0.3027388433448406,0.3039336770400763,0.3051306758937301,0.30632982894375205,0.3075311251649913,0.3087345534694106,0.30994010270630323,0.311147761662516,0.31235751906267506,0.3135693635694147,0.3147832837836122,0.31599926824462327,0.3172173054305245,0.31843738375835773,0.3196594915843788,0.3208836172043086,0.3221097488535911,0.32333787755435694,0.3245679858748397,0.3258000645790073,0.327034101664146,0.32827008506861366,0.3295080026721176,0.33074784248741146,0.33198959190518806,0.33323323881258576,0.3344787708575977,0.33572617563101576,0.3369754406667321,0.3382265534420431,0.3394795013779555,0.3407342718395004,0.34199085213604535,0.3432492295216138,0.3445093911952058,0.34577132430112517,0.34703501592930575,0.3483004531156451,0.3495676228423395,0.35083651203822214,0.35210710757910696,0.35337939628813186,0.35465336493611105,0.35592900024188406,0.35720628887267275,0.3584852174444413,0.3597657725222561,0.3610479406206528,0.36233170820400507,0.36361706168689467,0.36490398743448865,0.36619247176291647,0.3674825009396511,0.36877406118389416,0.37006713866696256,0.37136171951268077,0.3726577897977725,0.37395533555225874,0.37525434275985725,0.37655479735838504,0.3778566852401641,0.3791599922524296,0.3804647041977427,0.38177080683440345,0.38307828587686876,0.384387126996173,0.38569731582034955,0.387008837934858,0.38832167906904985,0.38963582436205724,0.39095125945109566,0.3922679697556603,0.39358594482418297,0.39490516185878755,0.39622561013595753,0.3975472749166286,0.39887014142313154,0.40019419483964513,0.401519420312651,0.40284580295139155,0.4041733278283305,0.40550197997961607,0.4068317444055448,0.40816260607103017,0.40949454990607154,0.4108275608062271,0.41216162363308817,0.4134967232147554,0.41483284434631795,0.41616997179033605,0.41750809027732105,0.418847184506225,0.4201872391449249,0.4215282388307147,0.4228701681707953,0.42421301174276976,0.4255567540951387,0.4269013797477976,0.4282468731925366,0.4295932188935431,0.43094040128790384,0.4322884047861112,0.4336372137725703,0.4349868126061074,0.4363371856204812,0.43768831712489525,0.439040191404511,0.4403927927209651,0.44174610531288655,0.4431001133964133,0.44445480116571734,0.44581015279352226,0.4471661526104087,0.44852278439917237,0.44988003244159885,0.4512378808298952,0.4525963136374553,0.4539553149193907,0.4553148687130613,0.4566749590386091,0.45803556989949296,0.45939668528302335,0.46075828916090084,0.4621203654897517,0.46348289821166794,0.4648458712547478,0.4662092744270855,0.46757308011474075,0.46893727784110356,0.47030185148419756,0.4716667849107874,0.47303206197692194,0.47439766652848386,0.47576358240173633,0.4771297934238724,0.47849628341356404,0.4798630361815128,0.4812300355310011,0.4825972652584425,0.48396470915393563,0.4853323510018153,0.48670017458120673,0.48806816366657935,0.48943630202829974,0.49080457343318906,0.49217296164507524,0.4935414504253497,0.49491002353352354,0.4962786647277827,0.4976473577655445,0.4990160864040147,0.5003848344007465,0.5017535855141877,0.5031223235042517,0.5044910321328653,0.5058596951645288,0.507228296366872,0.5085968195112128,0.5099652483731141,0.511333566732938,0.5127017583764076,0.5140698070951593,0.5154376966873021,0.5168054109579724,0.5181729337198913,0.5195402487939184,0.5209073400096095,0.5222741912057706,0.523640786231012,0.5250071089443039,0.5263731432155286,0.5277388729260346,0.5291042819691896,0.5304693604958854,0.5318340802142871,0.5331984310348725,0.5345623969050698,0.5359259622600471,0.5372891101533626,0.5386518250304743,0.5400140909013056,0.5413758917927641,0.542737211749289,0.5440980348333948,0.5454583451262182,0.5468181267280582,0.5481773637589207,0.5495360403590608,0.5508941406895199,0.5522516489326673,0.5536085492927386,0.5549648259963702,0.5563204632931381,0.5576754454560899,0.5590297567822797,0.5603833815932999,0.5617363042358101,0.5630885090820692,0.5644399805304616,0.5657907030060239,0.56714066096097,0.5684898388752155,0.5698382212568989,0.5711857926429018,0.5725325375993695,0.5738784407222265,0.5752234866376943,0.5765676600028022,0.5779109455059044,0.5792533278671861,0.5805947918391747,0.5819353222072479,0.5832749037901357,0.5846135214404268,0.5859511600450695,0.5872878045258701,0.5886234398399922,0.5899580509804523,0.5912916229766116,0.5926241408946701,0.5939555898381564,0.595285955425315,0.5966152219035241,0.5979433749474974,0.599270407944987,0.6005962902835705,0.6019210150951132,0.6032445677585606,0.6045669336940469,0.6058880983633671,0.6072080472704428,0.6085267659617916,0.6098442400269882,0.6111604550991255,0.6124753968552755,0.6137890510169443,0.6151014033505242,0.6164124396677504,0.6177221458261437,0.6190305077294612,0.6203375113281383,0.6216431426197303,0.6229473876493496,0.6242502325101056,0.625551663343533,0.6268516663400251,0.6281502277392612,0.6294473338306322,0.6307429709536622,0.6320371254984282,0.6333297839059776,0.63462093266874,0.6359105583309423,0.6371986474890121,0.638485186791987,0.6397701629419149,0.6410535626942535,0.6423353728582688,0.6436155802974248,0.6448941719297782,0.6461711347283637,0.6474464557215788,0.648720121993565,0.6499921211407563,0.6512624394677766,0.652531064665076,0.6537979840435595,0.6550631849717383,0.656326654876091,0.6575883812414257,0.6588483516112345,0.6601065535880468,0.6613629748337793,0.6626176030700826,0.6638704364736119,0.6651214425299802,0.6663706191208201,0.667617954210756,0.6688634358258508,0.670107052053936,0.6713487910449327,0.6725886410111716,0.6738265902277129,0.6750626270326603,0.6762967398274693,0.6775289170772553,0.6787591473110951,0.6799874191223314,0.6812137211688645,0.6824380421734488,0.6836603709239809,0.6848806962737862,0.686099007141901,0.6873152925133523,0.6885295414394326,0.6897417430379726,0.6909518864936093,0.6921599610580499,0.6933659560503351,0.6945698608570955,0.6957716649328045,0.6969713578000316,0.6981689290496863,0.6993643683412635,0.7005576654030813,0.7017488100325185,0.7029377920962452,0.704124601530453,0.7053092283410785,0.7064916626040253,0.7076718944653808,0.708849914141631,0.7100257119198716,0.7111992781580085,0.7123706032849699,0.7135396778008972,0.7147065021586804,0.7158710483926127,0.7170333152445604,0.7181932942197252,0.7193509761778364,0.7205063520509752,0.7216594128437526,0.7228101496334748,0.7239585535703128,0.7251046158774622,0.7262483278513036,0.7273896808615552,0.7285286663514264,0.7296652758377622,0.7307995009111892,0.7319313332362543,0.7330607645515607,0.7341877866698985,0.735312391478378,0.7364345709385474,0.7375543170865199,0.738671622033088,0.7397864779638376,0.7408988771392568,0.7420088118948432,0.7431162746412049,0.7442212578641596,0.7453237541248275,0.7464237560597261,0.747521256380854,0.7486162478757743,0.7497087234076958,0.7507986759155487,0.7518860984140566,0.752970983993802,0.7540533258212979,0.7551331171390424,0.7562103512655773,0.7572850215955444,0.7583571215997337,0.7594266448251276,0.7604935848949455,0.7615579362358619,0.7626196911996643,0.7636788443365428,0.7647353895750609,0.7657893209201745,0.7668406324532567,0.7678893306578717,0.7689353856093786,0.7699788034703159,0.7710195786285212,0.772057705548316,0.7730931787705069,0.7741259929123823,0.7751561426677014,0.7761836228066844,0.7772084281759999,0.7782305536987414,0.7792499943744092,0.7802667452788824,0.7812808015643923,0.7822921584594855,0.7833008112689929,0.7843067553739851,0.7853099862317338,0.7863104993756623,0.7873082904152928,0.7883033550362006,0.7892956889999513,0.7902852881440401,0.7912721483818311,0.7922562657024889,0.7932376361709064,0.7942162559276317,0.7951921211887941,0.7961652282460183,0.7971355734663436,0.7981031532921349,0.7990679642409942,0.8000300029056646,0.8009892659539337,0.8019457501285343,0.8028994522470381,0.8038503692017529,0.8047984979596072,0.805743835562042,0.8066863902392508,0.8076261382831336,0.8085630859041661,0.8094972312968236,0.8104285718739475,0.8113571051221644,0.8122828286017535,0.8132057399465052,0.8141258368635848,0.8150431171333843,0.8159575786093809,0.8168692192179824,0.817778036958376,0.8186840299023737,0.8195871961942535,0.8204875340505949,0.8213850417601206,0.8222797176835224,0.823171560253295,0.8240605679735625,0.8249467394199019,0.8258300732391628,0.826710568149291,0.8275882229391395,0.8284630364682816,0.829335007666825,0.830204135535215,0.8310704191440441,0.8319338576338499,0.8327944502149156,0.8336521961670682,0.8345070948394744,0.8353591456504288,0.8362083480871424,0.837054701705534,0.8378982061300119,0.838738861053254,0.8395766662359871,0.8404116215067675,0.8412437267617492,0.842072981964459,0.8428993880250485,0.8437229433174163,0.8445436488513581,0.845361504857609,0.8461765116330999,0.8469886830677653,0.8477979930598448,0.8486044551259957,0.8494080698261633,0.850208837785279,0.8510067596930034,0.8518018363034766,0.8525940684350582,0.8533834569700665,0.8541700028545198,0.8549537070978733,0.8557345707727492,0.8565125950146775,0.8572877810218155,0.8580601300546875,0.8588296434359048,0.8595963225498904,0.8603601688426051,0.8611211838212663,0.861879369054067,0.8626347261698942,0.8633872568580431,0.8641369628679304,0.8648838460088097,0.865627908149474,0.8663691512179741,0.8671075772013164,0.8678431881451747,0.8685759861535867,0.8693059733886634,0.8700331520702812,0.8707575244757887,0.8714790929396964,0.8721978598533779,0.8729138276647593,0.8736269988780139,0.8743373760532527,0.8750449747707164,0.8757497722722339,0.8764517837669267,0.8771510120361763,0.8778474599157581,0.8785411302955184,0.8792320261190715,0.8799201503834535,0.8806055061388359,0.881288096488174,0.8819679245868994,0.8826449936425982,0.8833193069146759,0.8839908677140333,0.8846596794027445,0.8853257453937262,0.8859890691504044,0.8866496541863889,0.8873075040651374,0.8879626223996253,0.8886150128520115,0.8892646791333041,0.8899116250030278,0.890555854268877,0.8911973707863943,0.89183617845862,0.8924722812357594,0.8931056831148405,0.8937363881393765,0.8943644003990175,0.8949897240292185,0.8956123632108923,0.8962323221700651,0.8968496051775285,0.8974642165485048,0.898076160642297,0.8986854418619415,0.89929206465386,0.8998960335075182,0.9004973539194896,0.9010960285730175,0.9016920630128412,0.9022854618971619,0.9028762299254786,0.9034643718382417,0.9040499071783138,0.9046328117998037,0.905213104789258,0.9057907910481051,0.9063658755169862,0.9069383631754119,0.9075082590414121,0.9080755681711729,0.9086402956586968,0.909202446635443,0.9097620262699834,0.9103190397676385,0.9108734923701364,0.9114253893552514,0.9119747360364597,0.9125215377625758,0.9130657999174089,0.9136075279194101,0.9141467272213101,0.914683403309778,0.9152175617050633,0.9157492079606357,0.9162783476628498,0.9168049864305753,0.9173291299148583,0.9178507837985552,0.9183699537959944,0.918886645652614,0.9194008651446174,0.9199126180786117,0.9204219102912733,0.9209287476489749,0.9214331369986369,0.9219350823993024,0.9224345907202308,0.9229316679431795,0.9234263200778564,0.9239185531615796,0.9244083875869242,0.924895801324863,0.9253808143050452,0.9258634326723902,0.9263436625977048,0.9268215102773418,0.9272969819328527,0.9277700838106449,0.9282408221816318,0.9287092033408929,0.9291752336073335,0.9296389193233372,0.9301002668544234,0.9305592825889101,0.9310159729375697,0.9314703443332899,0.9319224032307365,0.9323721561060075,0.9328196094563047,0.9332647697995881,0.933707643674246]},\"selected\":{\"id\":\"3603\",\"type\":\"Selection\"},\"selection_policy\":{\"id\":\"3604\",\"type\":\"UnionRenderers\"}},\"id\":\"3577\",\"type\":\"ColumnDataSource\"},{\"attributes\":{\"overlay\":{\"id\":\"3574\",\"type\":\"BoxAnnotation\"}},\"id\":\"3553\",\"type\":\"BoxZoomTool\"},{\"attributes\":{},\"id\":\"3537\",\"type\":\"LinearScale\"},{\"attributes\":{\"line_alpha\":0.1,\"line_color\":\"#1f77b4\",\"x\":{\"field\":\"x\"},\"y\":{\"field\":\"y\"}},\"id\":\"3609\",\"type\":\"Line\"},{\"attributes\":{},\"id\":\"3587\",\"type\":\"Selection\"},{\"attributes\":{\"line_color\":\"#1f78b4\",\"x\":{\"field\":\"x\"},\"y\":{\"field\":\"y\"}},\"id\":\"3578\",\"type\":\"Line\"},{\"attributes\":{\"data_source\":{\"id\":\"3607\",\"type\":\"ColumnDataSource\"},\"glyph\":{\"id\":\"3608\",\"type\":\"Line\"},\"hover_glyph\":null,\"muted_glyph\":null,\"nonselection_glyph\":{\"id\":\"3609\",\"type\":\"Line\"},\"selection_glyph\":null,\"view\":{\"id\":\"3611\",\"type\":\"CDSView\"}},\"id\":\"3610\",\"type\":\"GlyphRenderer\"},{\"attributes\":{},\"id\":\"3554\",\"type\":\"SaveTool\"},{\"attributes\":{\"axis_label\":\"Power\",\"formatter\":{\"id\":\"3570\",\"type\":\"BasicTickFormatter\"},\"ticker\":{\"id\":\"3547\",\"type\":\"BasicTicker\"}},\"id\":\"3546\",\"type\":\"LinearAxis\"},{\"attributes\":{\"source\":{\"id\":\"3607\",\"type\":\"ColumnDataSource\"}},\"id\":\"3611\",\"type\":\"CDSView\"},{\"attributes\":{},\"id\":\"3551\",\"type\":\"PanTool\"}],\"root_ids\":[\"3530\"]},\"title\":\"Bokeh Application\",\"version\":\"1.3.4\"}};\n",
       "  var render_items = [{\"docid\":\"c0f6905f-f3d4-4992-b93b-491ed72a27ad\",\"roots\":{\"3530\":\"f6210eb1-80be-4009-b40d-0fd6b9151e97\"}}];\n",
       "  root.Bokeh.embed.embed_items_notebook(docs_json, render_items);\n",
       "\n",
       "  }\n",
       "  if (root.Bokeh !== undefined) {\n",
       "    embed_document(root);\n",
       "  } else {\n",
       "    var attempts = 0;\n",
       "    var timer = setInterval(function(root) {\n",
       "      if (root.Bokeh !== undefined) {\n",
       "        embed_document(root);\n",
       "        clearInterval(timer);\n",
       "      }\n",
       "      attempts++;\n",
       "      if (attempts > 100) {\n",
       "        console.log(\"Bokeh: ERROR: Unable to run BokehJS code because BokehJS library is missing\");\n",
       "        clearInterval(timer);\n",
       "      }\n",
       "    }, 10, root)\n",
       "  }\n",
       "})(window);"
      ],
      "application/vnd.bokehjs_exec.v0+json": ""
     },
     "metadata": {
      "application/vnd.bokehjs_exec.v0+json": {
       "id": "3530"
      }
     },
     "output_type": "display_data"
    },
    {
     "data": {
      "text/plain": [
       "'C:\\\\Users\\\\ASUS\\\\Inayatus\\\\tokopedia-fundamentals\\\\4_PythonSI\\\\assets\\\\7.png'"
      ]
     },
     "execution_count": 91,
     "metadata": {},
     "output_type": "execute_result"
    }
   ],
   "source": [
    "from bokeh.transform import factor_cmap\n",
    "\n",
    "p = figure(title='Power Analysis',\n",
    "           plot_width=700,\n",
    "           plot_height=400)\n",
    "\n",
    "for n in nobs:\n",
    "    power_line = []\n",
    "    for i in effect_size:\n",
    "        power = power_analysis.solve_power(effect_size=i,\n",
    "                                           nobs1=n,\n",
    "                                           alpha=alpha)\n",
    "        power_line.append(power)\n",
    "    p.line(effect_size, power_line, color=all_palettes['Paired'][len(nobs)][nobs.index(n)], legend=str(n))\n",
    "\n",
    "\n",
    "p.legend.location = 'bottom_right'\n",
    "p.xaxis.axis_label = 'Effect Size'\n",
    "p.yaxis.axis_label = 'Power'\n",
    "show(p)"
   ]
  },
  {
   "cell_type": "markdown",
   "metadata": {},
   "source": [
    "![](assets/7.png)"
   ]
  },
  {
   "cell_type": "markdown",
   "metadata": {},
   "source": [
    "Looking at the above plot will give you an idea of how would the Power and sample size varies given different set of parameters. The information you gain in this analysis needs to correspond with the cost constraints of your experiment and the risk that came with it."
   ]
  },
  {
   "cell_type": "markdown",
   "metadata": {},
   "source": [
    "**Discussion**:\n",
    "\n",
    "The plot above was created to understand the trade-off between power and effect size given a set of number of observations. The alpha, however, was assumed to be 5%. There are a common best practice we can use as the rule of thumbs on how to pick a value: for example 5% for significance level, and 80% for Cohen's d effect size measure.\n",
    "\n",
    "Often times, it's always a good practice to see the plot in different axes such as power compared to number of observation given a set of acceptable effect size. Can you create the plot?"
   ]
  }
 ],
 "metadata": {
  "kernelspec": {
   "display_name": "Python 3",
   "language": "python",
   "name": "python3"
  },
  "language_info": {
   "codemirror_mode": {
    "name": "ipython",
    "version": 3
   },
   "file_extension": ".py",
   "mimetype": "text/x-python",
   "name": "python",
   "nbconvert_exporter": "python",
   "pygments_lexer": "ipython3",
   "version": "3.7.3"
  },
  "toc": {
   "base_numbering": 1,
   "nav_menu": {},
   "number_sections": true,
   "sideBar": true,
   "skip_h1_title": false,
   "title_cell": "Table of Contents",
   "title_sidebar": "Contents",
   "toc_cell": false,
   "toc_position": {},
   "toc_section_display": true,
   "toc_window_display": true
  }
 },
 "nbformat": 4,
 "nbformat_minor": 2
}
