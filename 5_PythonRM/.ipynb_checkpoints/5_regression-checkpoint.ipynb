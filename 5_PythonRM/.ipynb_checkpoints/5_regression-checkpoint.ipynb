{
 "cells": [
  {
   "cell_type": "code",
   "execution_count": 48,
   "metadata": {},
   "outputs": [],
   "source": [
    "import pandas as pd\n",
    "import numpy as np\n",
    "from sklearn import linear_model\n",
    "\n",
    "%matplotlib inline"
   ]
  },
  {
   "cell_type": "code",
   "execution_count": 49,
   "metadata": {},
   "outputs": [
    {
     "data": {
      "text/html": [
       "<div>\n",
       "<style scoped>\n",
       "    .dataframe tbody tr th:only-of-type {\n",
       "        vertical-align: middle;\n",
       "    }\n",
       "\n",
       "    .dataframe tbody tr th {\n",
       "        vertical-align: top;\n",
       "    }\n",
       "\n",
       "    .dataframe thead th {\n",
       "        text-align: right;\n",
       "    }\n",
       "</style>\n",
       "<table border=\"1\" class=\"dataframe\">\n",
       "  <thead>\n",
       "    <tr style=\"text-align: right;\">\n",
       "      <th></th>\n",
       "      <th>Row.ID</th>\n",
       "      <th>Order.ID</th>\n",
       "      <th>Order.Date</th>\n",
       "      <th>Ship.Date</th>\n",
       "      <th>Ship.Mode</th>\n",
       "      <th>Customer.ID</th>\n",
       "      <th>Segment</th>\n",
       "      <th>Product.ID</th>\n",
       "      <th>Category</th>\n",
       "      <th>Sub.Category</th>\n",
       "      <th>Product.Name</th>\n",
       "      <th>Sales</th>\n",
       "      <th>Quantity</th>\n",
       "      <th>Discount</th>\n",
       "      <th>Profit</th>\n",
       "    </tr>\n",
       "  </thead>\n",
       "  <tbody>\n",
       "    <tr>\n",
       "      <th>0</th>\n",
       "      <td>5069</td>\n",
       "      <td>CA-2014-124478</td>\n",
       "      <td>8/8/14</td>\n",
       "      <td>8/12/14</td>\n",
       "      <td>Standard Class</td>\n",
       "      <td>MA-17560</td>\n",
       "      <td>Home Office</td>\n",
       "      <td>TEC-CO-10001571</td>\n",
       "      <td>Technology</td>\n",
       "      <td>Copiers</td>\n",
       "      <td>Sharp 1540cs Digital Laser Copier</td>\n",
       "      <td>549.990</td>\n",
       "      <td>1</td>\n",
       "      <td>0.0</td>\n",
       "      <td>274.9950</td>\n",
       "    </tr>\n",
       "    <tr>\n",
       "      <th>1</th>\n",
       "      <td>3750</td>\n",
       "      <td>CA-2017-161956</td>\n",
       "      <td>8/27/17</td>\n",
       "      <td>8/29/17</td>\n",
       "      <td>Second Class</td>\n",
       "      <td>DR-12880</td>\n",
       "      <td>Corporate</td>\n",
       "      <td>TEC-CO-10001571</td>\n",
       "      <td>Technology</td>\n",
       "      <td>Copiers</td>\n",
       "      <td>Sharp 1540cs Digital Laser Copier</td>\n",
       "      <td>879.984</td>\n",
       "      <td>2</td>\n",
       "      <td>0.2</td>\n",
       "      <td>329.9940</td>\n",
       "    </tr>\n",
       "    <tr>\n",
       "      <th>2</th>\n",
       "      <td>754</td>\n",
       "      <td>CA-2016-110499</td>\n",
       "      <td>4/7/16</td>\n",
       "      <td>4/9/16</td>\n",
       "      <td>First Class</td>\n",
       "      <td>YC-21895</td>\n",
       "      <td>Corporate</td>\n",
       "      <td>TEC-CO-10002095</td>\n",
       "      <td>Technology</td>\n",
       "      <td>Copiers</td>\n",
       "      <td>Hewlett Packard 610 Color Digital Copier / Pri...</td>\n",
       "      <td>1199.976</td>\n",
       "      <td>3</td>\n",
       "      <td>0.2</td>\n",
       "      <td>374.9925</td>\n",
       "    </tr>\n",
       "    <tr>\n",
       "      <th>3</th>\n",
       "      <td>407</td>\n",
       "      <td>CA-2017-117457</td>\n",
       "      <td>12/8/17</td>\n",
       "      <td>12/12/17</td>\n",
       "      <td>Standard Class</td>\n",
       "      <td>KH-16510</td>\n",
       "      <td>Consumer</td>\n",
       "      <td>TEC-CO-10004115</td>\n",
       "      <td>Technology</td>\n",
       "      <td>Copiers</td>\n",
       "      <td>Sharp AL-1530CS Digital Copier</td>\n",
       "      <td>1199.976</td>\n",
       "      <td>3</td>\n",
       "      <td>0.2</td>\n",
       "      <td>434.9913</td>\n",
       "    </tr>\n",
       "    <tr>\n",
       "      <th>4</th>\n",
       "      <td>6201</td>\n",
       "      <td>CA-2015-146675</td>\n",
       "      <td>4/16/15</td>\n",
       "      <td>4/20/15</td>\n",
       "      <td>Standard Class</td>\n",
       "      <td>SB-20185</td>\n",
       "      <td>Consumer</td>\n",
       "      <td>TEC-CO-10001766</td>\n",
       "      <td>Technology</td>\n",
       "      <td>Copiers</td>\n",
       "      <td>Canon PC940 Copier</td>\n",
       "      <td>1439.968</td>\n",
       "      <td>4</td>\n",
       "      <td>0.2</td>\n",
       "      <td>485.9892</td>\n",
       "    </tr>\n",
       "  </tbody>\n",
       "</table>\n",
       "</div>"
      ],
      "text/plain": [
       "   Row.ID        Order.ID Order.Date Ship.Date       Ship.Mode Customer.ID  \\\n",
       "0    5069  CA-2014-124478     8/8/14   8/12/14  Standard Class    MA-17560   \n",
       "1    3750  CA-2017-161956    8/27/17   8/29/17    Second Class    DR-12880   \n",
       "2     754  CA-2016-110499     4/7/16    4/9/16     First Class    YC-21895   \n",
       "3     407  CA-2017-117457    12/8/17  12/12/17  Standard Class    KH-16510   \n",
       "4    6201  CA-2015-146675    4/16/15   4/20/15  Standard Class    SB-20185   \n",
       "\n",
       "       Segment       Product.ID    Category Sub.Category  \\\n",
       "0  Home Office  TEC-CO-10001571  Technology      Copiers   \n",
       "1    Corporate  TEC-CO-10001571  Technology      Copiers   \n",
       "2    Corporate  TEC-CO-10002095  Technology      Copiers   \n",
       "3     Consumer  TEC-CO-10004115  Technology      Copiers   \n",
       "4     Consumer  TEC-CO-10001766  Technology      Copiers   \n",
       "\n",
       "                                        Product.Name     Sales  Quantity  \\\n",
       "0                  Sharp 1540cs Digital Laser Copier   549.990         1   \n",
       "1                  Sharp 1540cs Digital Laser Copier   879.984         2   \n",
       "2  Hewlett Packard 610 Color Digital Copier / Pri...  1199.976         3   \n",
       "3                     Sharp AL-1530CS Digital Copier  1199.976         3   \n",
       "4                                 Canon PC940 Copier  1439.968         4   \n",
       "\n",
       "   Discount    Profit  \n",
       "0       0.0  274.9950  \n",
       "1       0.2  329.9940  \n",
       "2       0.2  374.9925  \n",
       "3       0.2  434.9913  \n",
       "4       0.2  485.9892  "
      ]
     },
     "execution_count": 49,
     "metadata": {},
     "output_type": "execute_result"
    }
   ],
   "source": [
    "copymachines = pd.read_csv(\"data_input/copiers.csv\")\n",
    "copymachines = copymachines.sample(frac=1).reset_index(drop=True)\n",
    "copymachines.head()"
   ]
  },
  {
   "cell_type": "code",
   "execution_count": 50,
   "metadata": {},
   "outputs": [
    {
     "data": {
      "text/plain": [
       "50"
      ]
     },
     "execution_count": 50,
     "metadata": {},
     "output_type": "execute_result"
    }
   ],
   "source": [
    "round(copymachines.shape[0]*0.8)"
   ]
  },
  {
   "cell_type": "code",
   "execution_count": 51,
   "metadata": {},
   "outputs": [
    {
     "data": {
      "text/plain": [
       "45    2879.952\n",
       "46    2999.950\n",
       "47     549.990\n",
       "48    1799.970\n",
       "49     959.984\n",
       "Name: Sales, dtype: float64"
      ]
     },
     "execution_count": 51,
     "metadata": {},
     "output_type": "execute_result"
    }
   ],
   "source": [
    "X_train = copymachines.Sales[:50]\n",
    "X_train.tail()"
   ]
  },
  {
   "cell_type": "code",
   "execution_count": 52,
   "metadata": {},
   "outputs": [],
   "source": [
    "sel = round(copymachines.shape[0]*0.8)\n",
    "\n",
    "x_train = copymachines.Sales[:sel]\n",
    "x_test = copymachines.Sales[sel:]\n",
    "\n",
    "y_train = copymachines.Profit[:sel]\n",
    "y_test = copymachines.Profit[sel:]"
   ]
  },
  {
   "cell_type": "markdown",
   "metadata": {},
   "source": [
    "> You could also have used several built-in scikit-learn functions for the shuffling task. An example of achieving this effect is the `shuffle()` function:\n",
    "\n",
    "    from sklearn.utils import shuffle\n",
    "    df = shuffle(df)"
   ]
  },
  {
   "cell_type": "code",
   "execution_count": 53,
   "metadata": {},
   "outputs": [
    {
     "name": "stdout",
     "output_type": "stream",
     "text": [
      "[ 549.99   879.984 1199.976 1199.976 1439.968  959.984  479.984  599.99\n",
      "  559.992 1439.976 2799.944 2799.96   319.984  439.992 1199.976 3359.952\n",
      " 1499.95  1999.96  3149.93   299.99   479.984 1799.97   599.98  1119.984\n",
      " 2399.96   959.984  899.97   599.97   839.988  479.984 1199.96  1199.976\n",
      "  959.968  439.992 1199.98   479.976  659.988  999.98  1399.98   879.984\n",
      " 1999.96   479.984  999.98   639.968  479.984 2879.952 2999.95   549.99\n",
      " 1799.97   959.984]\n",
      "(50,)\n"
     ]
    }
   ],
   "source": [
    "print(np.array(x_train))\n",
    "print(x_train.shape)"
   ]
  },
  {
   "cell_type": "markdown",
   "metadata": {},
   "source": [
    "`sklearn` expect our x to be a 2-dimensional array and would throw an Exception otherwise, so we'll reshape the data to have two dimension, the second being `1` for the single column feature:"
   ]
  },
  {
   "cell_type": "code",
   "execution_count": 63,
   "metadata": {},
   "outputs": [
    {
     "name": "stdout",
     "output_type": "stream",
     "text": [
      "(50, 1)\n"
     ]
    }
   ],
   "source": [
    "x_train = np.array(x_train).reshape(-1,1)\n",
    "x_test = np.array(x_test).reshape(-1,1)\n",
    "print(x_train.shape)"
   ]
  },
  {
   "cell_type": "markdown",
   "metadata": {},
   "source": [
    "We'll create our linear regressor object (\"model\") and fit the model to our training data"
   ]
  },
  {
   "cell_type": "code",
   "execution_count": 64,
   "metadata": {},
   "outputs": [
    {
     "data": {
      "text/plain": [
       "LinearRegression(copy_X=True, fit_intercept=True, n_jobs=None, normalize=False)"
      ]
     },
     "execution_count": 64,
     "metadata": {},
     "output_type": "execute_result"
    }
   ],
   "source": [
    "lm = linear_model.LinearRegression()\n",
    "lm.fit(x_train, y_train)"
   ]
  },
  {
   "cell_type": "code",
   "execution_count": 65,
   "metadata": {},
   "outputs": [
    {
     "name": "stdout",
     "output_type": "stream",
     "text": [
      "-65.24860118411334\n",
      "[0.38180635]\n"
     ]
    }
   ],
   "source": [
    "print(lm.intercept_)\n",
    "print(lm.coef_)"
   ]
  },
  {
   "cell_type": "code",
   "execution_count": 76,
   "metadata": {},
   "outputs": [
    {
     "data": {
      "text/plain": [
       "<matplotlib.collections.PathCollection at 0x1a21b84588>"
      ]
     },
     "execution_count": 76,
     "metadata": {},
     "output_type": "execute_result"
    },
    {
     "data": {
      "image/png": "[encoded data removed]",
      "text/plain": [
       "<Figure size 432x288 with 1 Axes>"
      ]
     },
     "metadata": {
      "needs_background": "light"
     },
     "output_type": "display_data"
    }
   ],
   "source": [
    "import matplotlib.pyplot as plt\n",
    "plt.scatter(x_train, y_train)"
   ]
  },
  {
   "cell_type": "code",
   "execution_count": 67,
   "metadata": {},
   "outputs": [
    {
     "data": {
      "text/plain": [
       "array([ 118.00928171, 1003.79389636, 1805.57576952,  240.190367  ,\n",
       "        347.09308953])"
      ]
     },
     "execution_count": 67,
     "metadata": {},
     "output_type": "execute_result"
    }
   ],
   "source": [
    "pred = lm.predict(x_test)\n",
    "pred[:5]"
   ]
  },
  {
   "cell_type": "code",
   "execution_count": 70,
   "metadata": {},
   "outputs": [
    {
     "data": {
      "text/plain": [
       "[<matplotlib.lines.Line2D at 0x1a213cfdd8>]"
      ]
     },
     "execution_count": 70,
     "metadata": {},
     "output_type": "execute_result"
    },
    {
     "data": {
      "image/png": "[encoded data removed]",
      "text/plain": [
       "<Figure size 432x288 with 1 Axes>"
      ]
     },
     "metadata": {
      "needs_background": "light"
     },
     "output_type": "display_data"
    }
   ],
   "source": [
    "plt.plot(x_test, pred)"
   ]
  },
  {
   "cell_type": "markdown",
   "metadata": {},
   "source": [
    "## Model Evaluation"
   ]
  },
  {
   "cell_type": "code",
   "execution_count": 80,
   "metadata": {},
   "outputs": [
    {
     "data": {
      "text/plain": [
       "212.29638023672666"
      ]
     },
     "execution_count": 80,
     "metadata": {},
     "output_type": "execute_result"
    }
   ],
   "source": [
    "from sklearn.metrics import mean_squared_error, r2_score\n",
    "from math import sqrt\n",
    "\n",
    "sqrt(mean_squared_error(y_test, pred))"
   ]
  },
  {
   "cell_type": "code",
   "execution_count": 81,
   "metadata": {},
   "outputs": [
    {
     "data": {
      "text/plain": [
       "0.8950844198711629"
      ]
     },
     "execution_count": 81,
     "metadata": {},
     "output_type": "execute_result"
    }
   ],
   "source": [
    "r2_score(y_test, pred)"
   ]
  }
 ],
 "metadata": {
  "kernelspec": {
   "display_name": "Python 3",
   "language": "python",
   "name": "python3"
  },
  "language_info": {
   "codemirror_mode": {
    "name": "ipython",
    "version": 3
   },
   "file_extension": ".py",
   "mimetype": "text/x-python",
   "name": "python",
   "nbconvert_exporter": "python",
   "pygments_lexer": "ipython3",
   "version": "3.6.5"
  }
 },
 "nbformat": 4,
 "nbformat_minor": 2
}
