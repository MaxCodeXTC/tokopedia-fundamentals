{
 "cells": [
  {
   "cell_type": "markdown",
   "metadata": {},
   "source": [
    "**Coursebook: Python for Data Analysts**\n",
    "- Part 1 of Data Analytics Specialization\n",
    "- Course Length: 15 hours\n",
    "- Last Updated: May 2019\n",
    "\n",
    "___\n",
    "\n",
    "- Author: [Samuel Chan](https://github.com/onlyphantom)\n",
    "- Developed by [Algoritma](https://algorit.ma)'s product division and instructors team"
   ]
  },
  {
   "cell_type": "markdown",
   "metadata": {},
   "source": [
    "# Background"
   ]
  },
  {
   "cell_type": "markdown",
   "metadata": {},
   "source": [
    "## Top-Down Approach \n",
    "\n",
    "The coursebook is part of the **Data Analytics Specialization** offered by [Algoritma](https://algorit.ma). It takes a more accessible approach compared to Algoritma's core educational products, by getting participants to overcome the \"how\" barrier first, rather than a detailed breakdown of the \"why\". \n",
    "\n",
    "This translates to an overall easier learning curve, one where the reader is prompted to write short snippets of code in frequent intervals, before being offered an explanation on the underlying theoretical frameworks. Instead of mastering the syntactic design of the Python programming language, then moving into data structures, and then the `pandas` library, and then the mathematical details in an imputation algorithm, and its code implementation; we would do the opposite: Implement the imputation, then a succinct explanation of why it works and applicational considerations (what to look out for, what are assumptions it made, when _not_ to use it etc).\n",
    "\n",
    "For the most part, experience in Python programming is good to have but not required. Familiarity with data manipulation and data structures in a different programming language a welcome addition but again, not required."
   ]
  },
  {
   "cell_type": "markdown",
   "metadata": {},
   "source": [
    "## Learn-by-Building\n",
    "\n",
    "This coursebook is intended for participants new to the world of data analysis and / or programming. No prior programming knowledge is assumed. \n",
    "\n",
    "The coursebook focuses on:\n",
    "- Introduction to the `pandas` library. \n",
    "- Introduction to `DataFrame`  \n",
    "- Data Types\n",
    "- Exploratory Data Analysis I\n",
    "- Indexing and Subsetting\n",
    "\n",
    "The final part of this course is a Graded Asssignment, where you are expected to apply all that you've learned on a new dataset, and attempt the given questions."
   ]
  },
  {
   "cell_type": "markdown",
   "metadata": {},
   "source": [
    "# Python for Data Analysts"
   ]
  },
  {
   "cell_type": "markdown",
   "metadata": {},
   "source": [
    "## Introduction to DataFrames"
   ]
  },
  {
   "cell_type": "markdown",
   "metadata": {},
   "source": [
    "We will start off by learning about a powerful Python data analysis library by the name of `pandas`. Its official documentation introduces itself as the \"fundamental high-level building block for doing practical, real world data analysis in Python\", and strive to do so by implementing many of the key data manipulation functionalities in R. This makes `pandas` a core member of many Python-based scientific computing environments.\n",
    "\n",
    "From its [official documentation](https://pandas.pydata.org):\n",
    "\n",
    "> Python has long been great for data munging and preparation, but less so for data analysis and modeling. pandas helps fill this gap, enabling you to carry out your entire data analysis workflow in Python without having to switch to a more domain specific language like R.\n",
    "\n",
    "To use `pandas`, we will use Python's `import` function. Once imported, all `pandas` function can be accessed using the *pandas.function_name* notation."
   ]
  },
  {
   "cell_type": "code",
   "execution_count": 3,
   "metadata": {},
   "outputs": [
    {
     "name": "stdout",
     "output_type": "stream",
     "text": [
      "0.24.2\n"
     ]
    }
   ],
   "source": [
    "import pandas as pd\n",
    "print(pd.__version__)"
   ]
  },
  {
   "cell_type": "code",
   "execution_count": 4,
   "metadata": {
    "scrolled": true
   },
   "outputs": [
    {
     "data": {
      "text/html": [
       "<div>\n",
       "<style scoped>\n",
       "    .dataframe tbody tr th:only-of-type {\n",
       "        vertical-align: middle;\n",
       "    }\n",
       "\n",
       "    .dataframe tbody tr th {\n",
       "        vertical-align: top;\n",
       "    }\n",
       "\n",
       "    .dataframe thead th {\n",
       "        text-align: right;\n",
       "    }\n",
       "</style>\n",
       "<table border=\"1\" class=\"dataframe\">\n",
       "  <thead>\n",
       "    <tr style=\"text-align: right;\">\n",
       "      <th></th>\n",
       "      <th>product_id</th>\n",
       "      <th>date</th>\n",
       "      <th>categories</th>\n",
       "      <th>brand</th>\n",
       "      <th>name</th>\n",
       "      <th>merchant</th>\n",
       "      <th>quantity</th>\n",
       "      <th>unit_price</th>\n",
       "    </tr>\n",
       "    <tr>\n",
       "      <th>id</th>\n",
       "      <th></th>\n",
       "      <th></th>\n",
       "      <th></th>\n",
       "      <th></th>\n",
       "      <th></th>\n",
       "      <th></th>\n",
       "      <th></th>\n",
       "      <th></th>\n",
       "    </tr>\n",
       "  </thead>\n",
       "  <tbody>\n",
       "    <tr>\n",
       "      <th>1</th>\n",
       "      <td>44342</td>\n",
       "      <td>2017-03-02</td>\n",
       "      <td>Camera &amp; Photo</td>\n",
       "      <td>Panasonic</td>\n",
       "      <td>Lumix G 25mm f/1.7 ASPH. Lens</td>\n",
       "      <td>Bestbuy.com</td>\n",
       "      <td>1</td>\n",
       "      <td>201.99</td>\n",
       "    </tr>\n",
       "    <tr>\n",
       "      <th>2</th>\n",
       "      <td>46876</td>\n",
       "      <td>2017-03-02</td>\n",
       "      <td>Camera &amp; Photo</td>\n",
       "      <td>Sony</td>\n",
       "      <td>Cyber-shot DSC-WX220 Digital Camera (Black)</td>\n",
       "      <td>Bestbuy.com</td>\n",
       "      <td>1</td>\n",
       "      <td>159.99</td>\n",
       "    </tr>\n",
       "    <tr>\n",
       "      <th>3</th>\n",
       "      <td>12136</td>\n",
       "      <td>2017-03-02</td>\n",
       "      <td>Camera &amp; Photo</td>\n",
       "      <td>Sony</td>\n",
       "      <td>Sony - BC-TRX Battery Charger - Black</td>\n",
       "      <td>Bestbuy.com</td>\n",
       "      <td>1</td>\n",
       "      <td>26.99</td>\n",
       "    </tr>\n",
       "    <tr>\n",
       "      <th>6</th>\n",
       "      <td>79238</td>\n",
       "      <td>2017-03-03</td>\n",
       "      <td>Accessories &amp; Supplies</td>\n",
       "      <td>Insignia</td>\n",
       "      <td>Insignia - Fixed TV Wall Mount For Most 40-70\"...</td>\n",
       "      <td>Bestbuy.com</td>\n",
       "      <td>1</td>\n",
       "      <td>56.99</td>\n",
       "    </tr>\n",
       "    <tr>\n",
       "      <th>7</th>\n",
       "      <td>46643</td>\n",
       "      <td>2017-03-03</td>\n",
       "      <td>Camera &amp; Photo</td>\n",
       "      <td>Sony</td>\n",
       "      <td>Cyber-shot DSC-RX100 V Digital Camera</td>\n",
       "      <td>Bestbuy.com</td>\n",
       "      <td>1</td>\n",
       "      <td>849.99</td>\n",
       "    </tr>\n",
       "  </tbody>\n",
       "</table>\n",
       "</div>"
      ],
      "text/plain": [
       "    product_id        date              categories      brand  \\\n",
       "id                                                              \n",
       "1        44342  2017-03-02          Camera & Photo  Panasonic   \n",
       "2        46876  2017-03-02          Camera & Photo       Sony   \n",
       "3        12136  2017-03-02          Camera & Photo       Sony   \n",
       "6        79238  2017-03-03  Accessories & Supplies   Insignia   \n",
       "7        46643  2017-03-03          Camera & Photo       Sony   \n",
       "\n",
       "                                                 name     merchant  quantity  \\\n",
       "id                                                                             \n",
       "1                       Lumix G 25mm f/1.7 ASPH. Lens  Bestbuy.com         1   \n",
       "2         Cyber-shot DSC-WX220 Digital Camera (Black)  Bestbuy.com         1   \n",
       "3               Sony - BC-TRX Battery Charger - Black  Bestbuy.com         1   \n",
       "6   Insignia - Fixed TV Wall Mount For Most 40-70\"...  Bestbuy.com         1   \n",
       "7               Cyber-shot DSC-RX100 V Digital Camera  Bestbuy.com         1   \n",
       "\n",
       "    unit_price  \n",
       "id              \n",
       "1       201.99  \n",
       "2       159.99  \n",
       "3        26.99  \n",
       "6        56.99  \n",
       "7       849.99  "
      ]
     },
     "execution_count": 4,
     "metadata": {},
     "output_type": "execute_result"
    }
   ],
   "source": [
    "elec = pd.read_csv(\"data_input/amazon-electronic.csv\", index_col=0)\n",
    "elec.head()"
   ]
  },
  {
   "cell_type": "markdown",
   "metadata": {},
   "source": [
    "In the code above, we used `.read_csv()` to read a csv file from a specified path. Notice that we set `index_col=0` so the first column in the csv is used as the index. By default, this function treats the first row as the header row. We can add `header=None` to the function call telling `pandas` to read in a CSV without headers.\n",
    "\n",
    "You may find it curious that we use `0` to reference the first element of an axis; This is because Python uses 0-based indexing, a behavior that is different from other languages such as R and Matlab."
   ]
  },
  {
   "cell_type": "markdown",
   "metadata": {},
   "source": [
    "#### Knowledge Check"
   ]
  },
  {
   "cell_type": "markdown",
   "metadata": {},
   "source": [
    "Let's dive deeper into understanding the `index_col` parameter. From the documentation:\n",
    "\n",
    "> `index_col` : int or sequence or `False`  \n",
    "Column to use as the row labels of the DataFrame.\n",
    "\n",
    "1. How would you change the `read.csv()` code such that the DataFrame uses `product_id` as the row label (index)? \n",
    "2. `pandas.DataFrame.head()` accepts an additional parameter, `n`, and returns the first `n` rows of the DataFrame; Set `n=8` to see the first 8 rows of your `elect` DataFrame\n",
    "3. The opposite of `.head()` is `.tail()`. It returns the last `n` row of your DataFrame. Create a new cell below and print the last 4 rows of our DataFrame \n",
    "\n",
    "*Reminder: Python uses 0-based indexing, and `product_id` is the second column in the csv*"
   ]
  },
  {
   "cell_type": "code",
   "execution_count": 3,
   "metadata": {},
   "outputs": [],
   "source": [
    "## Your code below\n",
    "\n",
    "## -- Solution code"
   ]
  },
  {
   "cell_type": "markdown",
   "metadata": {},
   "source": [
    "### Keywords\n",
    "\n",
    "Earlier it was mentioned that `index_col` accepts an integer, sequence or a `False` value. A couple of things to note here. `False`, along with its opposite, `True` are among a reserved list of vocabulary referred to as **Python Keywords**. We cannot use keyword as variable name, function name or assign values to them, essentially treating them as an identifier. \n",
    "\n",
    "Interestingly, all python keywords except **True**, **False** and **None** are in lowercase and they must be written as it is. As of Python 3.7 (latest version of Python as of this writing), there are 33 keywords:\n",
    "\n",
    "`True`, `False`, `None`, `and`, `as`, `assert`, `break`, `class`, `continue`, `def`, `del`, `elif`, `else`\n",
    "`except`, `finally`, `for`, `from`, `global`, `if`, `import`, `in`, `is`, `lambda`, `nonlocal`, `not`, `or`, `pass`\n",
    "`raise`, `return`, `try`, `while`, `with`, `yield`\n",
    "\n",
    "Try and insert a new cell below and assign the value of `2` to `False`. You should expect to see Python raising a `SyntaxError`:\n",
    "\n",
    "> SyntaxError: can't assign to keyword"
   ]
  },
  {
   "cell_type": "markdown",
   "metadata": {},
   "source": [
    "Which of the following 4 lines of code will evaluate without raising an error?\n",
    "\n",
    "- [ ] `pd.read_csv(\"data_input/amazon-electronic.csv\", index_col=false)`\n",
    "- [ ] `Import pandas as pd`\n",
    "- [ ] `print(100-2)`\n",
    "- [ ] `None = 2`"
   ]
  },
  {
   "cell_type": "code",
   "execution_count": 4,
   "metadata": {},
   "outputs": [],
   "source": [
    "## Your Code Below\n",
    "\n",
    "## -- Solution code"
   ]
  },
  {
   "cell_type": "markdown",
   "metadata": {},
   "source": [
    "You'll be tempted to go through all the keywords above and try to wrap your head around each one of them. If this proves to be a tad overwhelming, my recommendation is to move along the rest of the section; Most of us do not know the inner workings of every components of our car engine, but that shouldn't stop you from being an effective driver. \n",
    "\n",
    "\n",
    "As stated in the beginning of this course book, we're choosing a top-down approach and concepts will be presented on a \"need-to-know\" basis. We'll no doubt come across many of the keywords again (since collectively they form the backbone of the language) but for now, there is no need to stress about them if that only serve to discourage you from learning to code.\n",
    "\n",
    "---\n",
    "\n",
    "**What you need to know**:\n",
    "- Python, as with `R`, `Swift`, `C`, and many other languages, are case-sensitive. `Sales` and `sales` refer to different objects.  \n",
    "- You cannot use any Python keywords as identifers. \n",
    "- When naming your variables, start with a letter and use underscore (`_`) to join multiple words.\n",
    "    - Wrong: `2019`, `2019sales`, `sales-2019`, `sales.2019`\n",
    "    - Correct: `sales_2019`, `profit_after_tax`"
   ]
  },
  {
   "cell_type": "markdown",
   "metadata": {},
   "source": [
    "`pandas` allow data analysts to create Series objects and DataFrame objects. Series is used to represent a one-dimensional array whereas DataFrame emulates the functionality of \"Data Frames\" in R and is useful for tabular data. \n",
    "\n",
    "In practice, a large proportion of our data is tabular: when we import data from a relational database (MySQL, Postgre) or from a spreadsheet software (Google Sheets, Microsoft Excel) we can represent these data as a DataFrame object."
   ]
  },
  {
   "cell_type": "markdown",
   "metadata": {},
   "source": [
    "### Data Types"
   ]
  },
  {
   "cell_type": "markdown",
   "metadata": {},
   "source": [
    "When we call `pd.read_csv()` earlier, `pandas` will try to infer data types from the values in each column. Sometimes, it get it right but more often that not, a data analyst's intervention is required. In the following sub-section, we'll learn about various techniques an analyst have at his/her disposal when it comes to the treatment of pandas data types."
   ]
  },
  {
   "cell_type": "code",
   "execution_count": 5,
   "metadata": {},
   "outputs": [
    {
     "data": {
      "text/plain": [
       "product_id      int64\n",
       "date           object\n",
       "categories     object\n",
       "brand          object\n",
       "name           object\n",
       "merchant       object\n",
       "quantity        int64\n",
       "unit_price    float64\n",
       "dtype: object"
      ]
     },
     "execution_count": 5,
     "metadata": {},
     "output_type": "execute_result"
    }
   ],
   "source": [
    "# print(elect.dtypes)\n",
    "\n",
    "elec.dtypes"
   ]
  },
  {
   "cell_type": "markdown",
   "metadata": {},
   "source": [
    "`dtypes` simply stands for \"data types\". Because `elect` is a `pandas` object, accessing the `dtypes` attribute will return a series with the data type of each column. \n",
    "\n",
    "----\n",
    "#### Knowledge check: `.dtypes` and pandas attributes\n",
    "Look at the following code - what is the expected output from the following code? Why?\n",
    "```\n",
    "x = [2019, 4, 'data science']\n",
    "x.dtypes\n",
    "```\n",
    "\n",
    "Hint: Try `type(x)` and verify the type for object `x`."
   ]
  },
  {
   "cell_type": "code",
   "execution_count": 6,
   "metadata": {},
   "outputs": [],
   "source": [
    "## Your code below\n",
    "\n",
    "## -- Solution code"
   ]
  },
  {
   "cell_type": "markdown",
   "metadata": {},
   "source": [
    "Let's take a look at some examples of `DataFrame.dtypes`:"
   ]
  },
  {
   "cell_type": "code",
   "execution_count": 7,
   "metadata": {},
   "outputs": [
    {
     "data": {
      "text/html": [
       "<div>\n",
       "<style scoped>\n",
       "    .dataframe tbody tr th:only-of-type {\n",
       "        vertical-align: middle;\n",
       "    }\n",
       "\n",
       "    .dataframe tbody tr th {\n",
       "        vertical-align: top;\n",
       "    }\n",
       "\n",
       "    .dataframe thead th {\n",
       "        text-align: right;\n",
       "    }\n",
       "</style>\n",
       "<table border=\"1\" class=\"dataframe\">\n",
       "  <thead>\n",
       "    <tr style=\"text-align: right;\">\n",
       "      <th></th>\n",
       "      <th>name</th>\n",
       "      <th>birth</th>\n",
       "      <th>gender</th>\n",
       "      <th>vip</th>\n",
       "      <th>ordercount</th>\n",
       "      <th>avgbuy</th>\n",
       "    </tr>\n",
       "  </thead>\n",
       "  <tbody>\n",
       "    <tr>\n",
       "      <th>0</th>\n",
       "      <td>Anita</td>\n",
       "      <td>1993-11-08</td>\n",
       "      <td>F</td>\n",
       "      <td>True</td>\n",
       "      <td>11</td>\n",
       "      <td>250554.32</td>\n",
       "    </tr>\n",
       "    <tr>\n",
       "      <th>1</th>\n",
       "      <td>Brian</td>\n",
       "      <td>1980-06-12</td>\n",
       "      <td>M</td>\n",
       "      <td>False</td>\n",
       "      <td>7</td>\n",
       "      <td>500004.23</td>\n",
       "    </tr>\n",
       "  </tbody>\n",
       "</table>\n",
       "</div>"
      ],
      "text/plain": [
       "    name      birth gender    vip  ordercount     avgbuy\n",
       "0  Anita 1993-11-08      F   True          11  250554.32\n",
       "1  Brian 1980-06-12      M  False           7  500004.23"
      ]
     },
     "execution_count": 7,
     "metadata": {},
     "output_type": "execute_result"
    }
   ],
   "source": [
    "member = pd.DataFrame({\n",
    "    'name': ['Anita', 'Brian'],\n",
    "    'birth': [pd.Timestamp('19931108'), pd.Timestamp('19800612')],\n",
    "    'gender': ['F','M'],\n",
    "    'vip': [True, False],\n",
    "    'ordercount': [11, 7],\n",
    "    'avgbuy': [250554.32,500004.23 ]\n",
    "})\n",
    "member"
   ]
  },
  {
   "cell_type": "code",
   "execution_count": 7,
   "metadata": {},
   "outputs": [
    {
     "data": {
      "text/plain": [
       "name                  object\n",
       "birth         datetime64[ns]\n",
       "gender                object\n",
       "vip                     bool\n",
       "ordercount             int64\n",
       "avgbuy               float64\n",
       "dtype: object"
      ]
     },
     "execution_count": 7,
     "metadata": {},
     "output_type": "execute_result"
    }
   ],
   "source": [
    "member.dtypes"
   ]
  },
  {
   "cell_type": "markdown",
   "metadata": {},
   "source": [
    "Let's go through the columns and their data types from the above `DataFrame`:\n",
    "\n",
    "- `name` [`object`]: store text values\n",
    "- `birth` [`int`]: date and time values\n",
    "- `gender`[`object`]: store text values\n",
    "- `vip` [`bool`]: True/False values\n",
    "- `ordercount` [`datetime`]: integer values\n",
    "- `avgbuy` [`float`]: floating point values\n",
    "\n",
    "Among these columns, only `ordercount` and `avgbuy` are columns with numeric values. This is a simple, but important, observation to make as we make our way into the Exploratory Data Analysis phase. But before we do, let's do one more exercise. Take a closer look at the Data Frame we just created again.\n",
    "\n",
    "Out of the 6 columns, one of them is of special interest to our next discussion, **categorical values**."
   ]
  },
  {
   "cell_type": "markdown",
   "metadata": {},
   "source": [
    "### Categorical and Numerical Variables\n",
    "\n",
    "From the [main documentation](https://pandas.pydata.org/pandas-docs/stable/user_guide/categorical.html):\n",
    "\n",
    "> Categoricals are a pandas data type corresponding to categorical variables in statistics. A categorical variable takes on a limited, and usually fixed, number of possible values (categories; levels in R). Examples are gender, social class, blood type, country affiliation or rating via Likert scales.\n",
    "\n",
    "Can you spot which of our column holds values that should be encoded in the `category` data type? Once you've spotted it, use the `astype('category')` method to perform the conversion. Remember to re-assign this new column so the original column (`object`) type is overwritten with the new `category` type column.\n",
    "\n",
    "Examples:\n",
    "\n",
    "```py\n",
    "# convert marital_status to category\n",
    "member['gender'] = member['gender'].astype('category')\n",
    "\n",
    "# convert experience to integer\n",
    "member['ordercount'] = member['ordercount'].astype('int')\n",
    "```"
   ]
  },
  {
   "cell_type": "code",
   "execution_count": 8,
   "metadata": {},
   "outputs": [
    {
     "data": {
      "text/html": [
       "<div>\n",
       "<style scoped>\n",
       "    .dataframe tbody tr th:only-of-type {\n",
       "        vertical-align: middle;\n",
       "    }\n",
       "\n",
       "    .dataframe tbody tr th {\n",
       "        vertical-align: top;\n",
       "    }\n",
       "\n",
       "    .dataframe thead th {\n",
       "        text-align: right;\n",
       "    }\n",
       "</style>\n",
       "<table border=\"1\" class=\"dataframe\">\n",
       "  <thead>\n",
       "    <tr style=\"text-align: right;\">\n",
       "      <th></th>\n",
       "      <th>name</th>\n",
       "      <th>birth</th>\n",
       "      <th>gender</th>\n",
       "      <th>vip</th>\n",
       "      <th>ordercount</th>\n",
       "      <th>avgbuy</th>\n",
       "    </tr>\n",
       "  </thead>\n",
       "  <tbody>\n",
       "    <tr>\n",
       "      <th>0</th>\n",
       "      <td>Anita</td>\n",
       "      <td>1993-11-08</td>\n",
       "      <td>F</td>\n",
       "      <td>True</td>\n",
       "      <td>11</td>\n",
       "      <td>250554.32</td>\n",
       "    </tr>\n",
       "    <tr>\n",
       "      <th>1</th>\n",
       "      <td>Brian</td>\n",
       "      <td>1980-06-12</td>\n",
       "      <td>M</td>\n",
       "      <td>False</td>\n",
       "      <td>7</td>\n",
       "      <td>500004.23</td>\n",
       "    </tr>\n",
       "  </tbody>\n",
       "</table>\n",
       "</div>"
      ],
      "text/plain": [
       "    name      birth gender    vip  ordercount     avgbuy\n",
       "0  Anita 1993-11-08      F   True          11  250554.32\n",
       "1  Brian 1980-06-12      M  False           7  500004.23"
      ]
     },
     "execution_count": 8,
     "metadata": {},
     "output_type": "execute_result"
    }
   ],
   "source": [
    "member"
   ]
  },
  {
   "cell_type": "code",
   "execution_count": 10,
   "metadata": {},
   "outputs": [],
   "source": [
    "## Your code below\n",
    "\n",
    "## -- Solution code"
   ]
  },
  {
   "cell_type": "markdown",
   "metadata": {},
   "source": [
    "Use `member.dtypes` to confirm that you've done the exercise above correctly:"
   ]
  },
  {
   "cell_type": "code",
   "execution_count": 11,
   "metadata": {},
   "outputs": [],
   "source": [
    "## Your code below\n",
    "\n",
    "## -- Solution code"
   ]
  },
  {
   "cell_type": "markdown",
   "metadata": {},
   "source": [
    "In most real-world projects, your work as a data analyst will involve working with **categorical**, **numeric** and **datetime** values; either treating them as \"features\" or \"target\". In the case of machine learning:\n",
    "\n",
    "- A **categorical** target represents a classification problem\n",
    "- A **numeric** target represents a regression problem"
   ]
  },
  {
   "cell_type": "markdown",
   "metadata": {},
   "source": [
    "### Exploratory Data Analysis Tools\n",
    "\n",
    "In simple words, exploratory data analysis (EDA) refers to the process of performing initial investigations on data, often with the objective of becoming familiar with certain characteristics of the data. This is usually done with the aid of summary statistics and simple graphical techniques that purposefully uncover the structure of our data.\n",
    "\n",
    "We'll start off by using some of the most convenient EDA tools conveniently built into `pandas`. Particularly, this is a summary of what we'll cover in common EDA workflows:\n",
    "\n",
    "- `.head()` and `.tail()`\n",
    "- `.describe()`\n",
    "- `.shape` and `.size`\n",
    "- `.axes`\n",
    "- `.dtypes`"
   ]
  },
  {
   "cell_type": "code",
   "execution_count": 14,
   "metadata": {
    "scrolled": true
   },
   "outputs": [
    {
     "data": {
      "text/html": [
       "<div>\n",
       "<style scoped>\n",
       "    .dataframe tbody tr th:only-of-type {\n",
       "        vertical-align: middle;\n",
       "    }\n",
       "\n",
       "    .dataframe tbody tr th {\n",
       "        vertical-align: top;\n",
       "    }\n",
       "\n",
       "    .dataframe thead th {\n",
       "        text-align: right;\n",
       "    }\n",
       "</style>\n",
       "<table border=\"1\" class=\"dataframe\">\n",
       "  <thead>\n",
       "    <tr style=\"text-align: right;\">\n",
       "      <th></th>\n",
       "      <th>product_id</th>\n",
       "      <th>quantity</th>\n",
       "      <th>prices</th>\n",
       "    </tr>\n",
       "  </thead>\n",
       "  <tbody>\n",
       "    <tr>\n",
       "      <th>count</th>\n",
       "      <td>3552.000000</td>\n",
       "      <td>3552.000000</td>\n",
       "      <td>3552.000000</td>\n",
       "    </tr>\n",
       "    <tr>\n",
       "      <th>mean</th>\n",
       "      <td>98872.553491</td>\n",
       "      <td>1.126126</td>\n",
       "      <td>505.675976</td>\n",
       "    </tr>\n",
       "    <tr>\n",
       "      <th>std</th>\n",
       "      <td>68.129380</td>\n",
       "      <td>0.417005</td>\n",
       "      <td>550.718599</td>\n",
       "    </tr>\n",
       "    <tr>\n",
       "      <th>min</th>\n",
       "      <td>98763.000000</td>\n",
       "      <td>1.000000</td>\n",
       "      <td>1.000000</td>\n",
       "    </tr>\n",
       "    <tr>\n",
       "      <th>25%</th>\n",
       "      <td>98817.000000</td>\n",
       "      <td>1.000000</td>\n",
       "      <td>149.980000</td>\n",
       "    </tr>\n",
       "    <tr>\n",
       "      <th>50%</th>\n",
       "      <td>98864.000000</td>\n",
       "      <td>1.000000</td>\n",
       "      <td>479.750000</td>\n",
       "    </tr>\n",
       "    <tr>\n",
       "      <th>75%</th>\n",
       "      <td>98928.000000</td>\n",
       "      <td>1.000000</td>\n",
       "      <td>479.750000</td>\n",
       "    </tr>\n",
       "    <tr>\n",
       "      <th>max</th>\n",
       "      <td>98999.000000</td>\n",
       "      <td>6.000000</td>\n",
       "      <td>4199.990000</td>\n",
       "    </tr>\n",
       "  </tbody>\n",
       "</table>\n",
       "</div>"
      ],
      "text/plain": [
       "         product_id     quantity       prices\n",
       "count   3552.000000  3552.000000  3552.000000\n",
       "mean   98872.553491     1.126126   505.675976\n",
       "std       68.129380     0.417005   550.718599\n",
       "min    98763.000000     1.000000     1.000000\n",
       "25%    98817.000000     1.000000   149.980000\n",
       "50%    98864.000000     1.000000   479.750000\n",
       "75%    98928.000000     1.000000   479.750000\n",
       "max    98999.000000     6.000000  4199.990000"
      ]
     },
     "execution_count": 14,
     "metadata": {},
     "output_type": "execute_result"
    }
   ],
   "source": [
    "elec.describe()"
   ]
  },
  {
   "cell_type": "markdown",
   "metadata": {},
   "source": [
    "The `describe()` method will generate descriptive statistics of our data, and by default include all numeric columns in our DataFrame. The code above calls `.describe()` on `elect`, from which there are two numeric columns. This method is an \"instruction\" to perform something (functions) associated with the object. We've seen earlier how to use `.head()` and `.tail()` on our DataFrame: these are also method calls!\n",
    "\n",
    "We can add an `include` parameter in the `.describe()` method call, which takes a list-like of dtypes to be included or `all` for all columns of the dataframe.\n",
    "\n",
    "Add a new cell below, calling `describe()` but only on columns of `object` and `datetime` types (`['object', 'datetime']`)."
   ]
  },
  {
   "cell_type": "code",
   "execution_count": 15,
   "metadata": {},
   "outputs": [],
   "source": [
    "## Your code below\n",
    "\n",
    "## -- Solution code\n"
   ]
  },
  {
   "cell_type": "markdown",
   "metadata": {},
   "source": [
    "Very often, we also want to know the shape of our data - i.e. how many rows and columns are there in our DataFrame? \n",
    "\n",
    "Our DataFrame has attributes that we can use to answer those questions. An attribute is a value stored within an object that describe an aspect of the object's characteristic. In the following call, we are asking for the `.shape` and the `.size` attribute of our `elect` DataFrame.\n",
    "\n",
    "_Tip:_\n",
    "Unlike `describe()`, which is a method call; `shape` and `size` are **attributes** of our DataFrame - that means no function is evaluated; Only a value stored in the object's instance is looked up and returned."
   ]
  },
  {
   "cell_type": "code",
   "execution_count": 8,
   "metadata": {},
   "outputs": [
    {
     "name": "stdout",
     "output_type": "stream",
     "text": [
      "(2519, 8)\n",
      "20152\n"
     ]
    }
   ],
   "source": [
    "print(elec.shape)\n",
    "print(elec.size)"
   ]
  },
  {
   "cell_type": "markdown",
   "metadata": {},
   "source": [
    "`size` returns the number of elements in the `elec` DataFrame. Because we have 2,519 rows and 8 columns, the total number of elements would be a total of 28416. \n",
    "\n",
    "Use `.shape` on the `member` DataFrame. From the resulting output, could you tell what would be the result of calling `member.size`?"
   ]
  },
  {
   "cell_type": "code",
   "execution_count": 17,
   "metadata": {},
   "outputs": [],
   "source": [
    "## Your code below\n",
    "\n",
    "## -- Solution code"
   ]
  },
  {
   "cell_type": "markdown",
   "metadata": {},
   "source": [
    "One other attribute that is often useful is `.axes`, which return a list representing the axes of our DataFrame. Most likely, this would be a list of length 2, one for the row axis and one for the column axis, in that particular order.\n",
    "\n",
    "Because it is ordered that way, calling `.axes[0]` would return the first item of that list, which would be the row axis (or row names if present) and calling `.axes[1]` would return the column axis, which would be equivalent to calling `elec.columns`:"
   ]
  },
  {
   "cell_type": "code",
   "execution_count": 9,
   "metadata": {},
   "outputs": [
    {
     "data": {
      "text/plain": [
       "Index(['product_id', 'date', 'categories', 'brand', 'name', 'merchant',\n",
       "       'quantity', 'unit_price'],\n",
       "      dtype='object')"
      ]
     },
     "execution_count": 9,
     "metadata": {},
     "output_type": "execute_result"
    }
   ],
   "source": [
    "elec.axes[1]"
   ]
  },
  {
   "cell_type": "markdown",
   "metadata": {},
   "source": [
    "We've covered `.dtypes` in earlier sections, so go ahead and practice inspecting the data types of `elec` DataFrame. Are the columns in the right data types? If they are not, formulate a mental checklist of type conversion you need to perform."
   ]
  },
  {
   "cell_type": "code",
   "execution_count": 19,
   "metadata": {
    "scrolled": true
   },
   "outputs": [
    {
     "data": {
      "text/plain": [
       "product_id      int64\n",
       "date           object\n",
       "categories     object\n",
       "brand          object\n",
       "name           object\n",
       "merchant       object\n",
       "quantity        int64\n",
       "prices        float64\n",
       "dtype: object"
      ]
     },
     "execution_count": 19,
     "metadata": {},
     "output_type": "execute_result"
    }
   ],
   "source": [
    "elec.dtypes"
   ]
  },
  {
   "cell_type": "markdown",
   "metadata": {},
   "source": [
    "Compare your mental checklist with the following code. We converted `date` to a `datetime` type, and perform the conversion for the categorical columns as well:"
   ]
  },
  {
   "cell_type": "code",
   "execution_count": 10,
   "metadata": {},
   "outputs": [
    {
     "data": {
      "text/plain": [
       "product_id             int64\n",
       "date          datetime64[ns]\n",
       "categories          category\n",
       "brand               category\n",
       "name                  object\n",
       "merchant            category\n",
       "quantity               int64\n",
       "unit_price           float64\n",
       "dtype: object"
      ]
     },
     "execution_count": 10,
     "metadata": {},
     "output_type": "execute_result"
    }
   ],
   "source": [
    "# convert `date` type to datetime \n",
    "elec['date'] = elec['date'].astype('datetime64')\n",
    "\n",
    "# convert multople variables to category\n",
    "elec[['categories','brand','merchant']] = elec[['categories','brand','merchant']].astype('category')\n",
    "\n",
    "elec.dtypes"
   ]
  },
  {
   "cell_type": "markdown",
   "metadata": {},
   "source": [
    "#### Knowledge Check\n",
    "\n",
    "Supposed we have a pandas DataFrame named `inventory`. \n",
    "\n",
    "1. We called `inventory.dtypes` and got the following output. Which of the column likely require type conversion because it seems to have the wrong data type? Choose all that apply.\n",
    "\n",
    "    - [ ] `units_instock`: int64\n",
    "    - [ ] `discount_price`: float64\n",
    "    - [ ] `item_name`: object\n",
    "    - [ ] `units_sold`: object\n",
    "    \n",
    "\n",
    "2. We would like to know the number of columns in `inventory`. Which of the following code would print the number of columns in `inventory`? Choose all that apply.\n",
    "\n",
    "    - [ ] `print(len(inventory.columns))`\n",
    "    - [ ] `print(inventory.shape[1])`\n",
    "    - [ ] `print(len(rice.axes[1]))`\n"
   ]
  },
  {
   "cell_type": "markdown",
   "metadata": {},
   "source": [
    "## Indexing and Subsetting with Pandas"
   ]
  },
  {
   "cell_type": "markdown",
   "metadata": {},
   "source": [
    "Using indexing operators to select, summarize or transform only a subset of data is a critical part of any data analysis workflow. Consider the following use-cases:\n",
    "\n",
    "- Compare the sales in Year 2018 vs Year 2019  \n",
    "- Identify missed opportunities in a specific market segment\n",
    "- Best quarter of the year to execute cross-selling promos / discounts\n",
    "- Study profitability of goods in the higher price range (e.g. IDR45000000+) and how competitors positioning affect sales in that price range\n",
    "\n",
    "Notice that in all of these use-cases, data analysts will want to use some combination of indexing and then perform the necessary computations on that specific slice or slices of data. Unsurprisingly, `pandas` come with a number of methods to help you accomplish this task.\n",
    "\n",
    "In the following section, we'll take a closer look at some of the most common slicing and subsetting operations in `pandas`:\n",
    "- `head()` and `tail()`  \n",
    "- `select_dtypes()`  \n",
    "- Using `.drop()` \n",
    "- The `[]` operator\n",
    "- `.loc`  \n",
    "- `.iloc`\n",
    "- Conditional subsetting"
   ]
  },
  {
   "cell_type": "markdown",
   "metadata": {},
   "source": [
    "Say we're only really interested in the numeric columns of our data, we can use `select_dtypes` to selectively include or exclude only particular data types.\n",
    "\n",
    "In the following example, I use `select_dtypes` to _include_ only textual columns (`objects`) and then proceed to pass the output of this function call into `.head()`. Notice that when we chain two methods this way, the output of the first function call will be \"passed\" into the second function call: "
   ]
  },
  {
   "cell_type": "code",
   "execution_count": 11,
   "metadata": {},
   "outputs": [
    {
     "data": {
      "text/html": [
       "<div>\n",
       "<style scoped>\n",
       "    .dataframe tbody tr th:only-of-type {\n",
       "        vertical-align: middle;\n",
       "    }\n",
       "\n",
       "    .dataframe tbody tr th {\n",
       "        vertical-align: top;\n",
       "    }\n",
       "\n",
       "    .dataframe thead th {\n",
       "        text-align: right;\n",
       "    }\n",
       "</style>\n",
       "<table border=\"1\" class=\"dataframe\">\n",
       "  <thead>\n",
       "    <tr style=\"text-align: right;\">\n",
       "      <th></th>\n",
       "      <th>name</th>\n",
       "    </tr>\n",
       "    <tr>\n",
       "      <th>id</th>\n",
       "      <th></th>\n",
       "    </tr>\n",
       "  </thead>\n",
       "  <tbody>\n",
       "    <tr>\n",
       "      <th>1</th>\n",
       "      <td>Lumix G 25mm f/1.7 ASPH. Lens</td>\n",
       "    </tr>\n",
       "    <tr>\n",
       "      <th>2</th>\n",
       "      <td>Cyber-shot DSC-WX220 Digital Camera (Black)</td>\n",
       "    </tr>\n",
       "    <tr>\n",
       "      <th>3</th>\n",
       "      <td>Sony - BC-TRX Battery Charger - Black</td>\n",
       "    </tr>\n",
       "    <tr>\n",
       "      <th>6</th>\n",
       "      <td>Insignia - Fixed TV Wall Mount For Most 40-70\"...</td>\n",
       "    </tr>\n",
       "    <tr>\n",
       "      <th>7</th>\n",
       "      <td>Cyber-shot DSC-RX100 V Digital Camera</td>\n",
       "    </tr>\n",
       "  </tbody>\n",
       "</table>\n",
       "</div>"
      ],
      "text/plain": [
       "                                                 name\n",
       "id                                                   \n",
       "1                       Lumix G 25mm f/1.7 ASPH. Lens\n",
       "2         Cyber-shot DSC-WX220 Digital Camera (Black)\n",
       "3               Sony - BC-TRX Battery Charger - Black\n",
       "6   Insignia - Fixed TV Wall Mount For Most 40-70\"...\n",
       "7               Cyber-shot DSC-RX100 V Digital Camera"
      ]
     },
     "execution_count": 11,
     "metadata": {},
     "output_type": "execute_result"
    }
   ],
   "source": [
    "elec.select_dtypes(include = 'object').head()"
   ]
  },
  {
   "cell_type": "markdown",
   "metadata": {},
   "source": [
    "Change the following code from `include` to `exclude` and observe the difference in the output from our `.describe()` call:"
   ]
  },
  {
   "cell_type": "code",
   "execution_count": 12,
   "metadata": {},
   "outputs": [
    {
     "data": {
      "text/html": [
       "<div>\n",
       "<style scoped>\n",
       "    .dataframe tbody tr th:only-of-type {\n",
       "        vertical-align: middle;\n",
       "    }\n",
       "\n",
       "    .dataframe tbody tr th {\n",
       "        vertical-align: top;\n",
       "    }\n",
       "\n",
       "    .dataframe thead th {\n",
       "        text-align: right;\n",
       "    }\n",
       "</style>\n",
       "<table border=\"1\" class=\"dataframe\">\n",
       "  <thead>\n",
       "    <tr style=\"text-align: right;\">\n",
       "      <th></th>\n",
       "      <th>product_id</th>\n",
       "      <th>quantity</th>\n",
       "      <th>unit_price</th>\n",
       "    </tr>\n",
       "  </thead>\n",
       "  <tbody>\n",
       "    <tr>\n",
       "      <th>count</th>\n",
       "      <td>2519.000000</td>\n",
       "      <td>2519.000000</td>\n",
       "      <td>2519.000000</td>\n",
       "    </tr>\n",
       "    <tr>\n",
       "      <th>mean</th>\n",
       "      <td>38543.870584</td>\n",
       "      <td>1.154426</td>\n",
       "      <td>568.362060</td>\n",
       "    </tr>\n",
       "    <tr>\n",
       "      <th>std</th>\n",
       "      <td>22545.966776</td>\n",
       "      <td>0.468605</td>\n",
       "      <td>620.874159</td>\n",
       "    </tr>\n",
       "    <tr>\n",
       "      <th>min</th>\n",
       "      <td>366.000000</td>\n",
       "      <td>1.000000</td>\n",
       "      <td>1.000000</td>\n",
       "    </tr>\n",
       "    <tr>\n",
       "      <th>25%</th>\n",
       "      <td>18956.000000</td>\n",
       "      <td>1.000000</td>\n",
       "      <td>149.990000</td>\n",
       "    </tr>\n",
       "    <tr>\n",
       "      <th>50%</th>\n",
       "      <td>38926.000000</td>\n",
       "      <td>1.000000</td>\n",
       "      <td>479.750000</td>\n",
       "    </tr>\n",
       "    <tr>\n",
       "      <th>75%</th>\n",
       "      <td>56249.000000</td>\n",
       "      <td>1.000000</td>\n",
       "      <td>548.000000</td>\n",
       "    </tr>\n",
       "    <tr>\n",
       "      <th>max</th>\n",
       "      <td>81681.000000</td>\n",
       "      <td>6.000000</td>\n",
       "      <td>4199.990000</td>\n",
       "    </tr>\n",
       "  </tbody>\n",
       "</table>\n",
       "</div>"
      ],
      "text/plain": [
       "         product_id     quantity   unit_price\n",
       "count   2519.000000  2519.000000  2519.000000\n",
       "mean   38543.870584     1.154426   568.362060\n",
       "std    22545.966776     0.468605   620.874159\n",
       "min      366.000000     1.000000     1.000000\n",
       "25%    18956.000000     1.000000   149.990000\n",
       "50%    38926.000000     1.000000   479.750000\n",
       "75%    56249.000000     1.000000   548.000000\n",
       "max    81681.000000     6.000000  4199.990000"
      ]
     },
     "execution_count": 12,
     "metadata": {},
     "output_type": "execute_result"
    }
   ],
   "source": [
    "elec.select_dtypes(exclude='object').describe()"
   ]
  },
  {
   "cell_type": "markdown",
   "metadata": {},
   "source": [
    "You can also use `include` or `exclude` with a list of data types instead of a singular value. To include all columns of data types integer and float, we can do either of these:\n",
    "- `include='number'`  \n",
    "- `include=['int', 'float']`\n",
    "\n",
    "Try and do that now; Chain the `select_dtypes()` command with `.head()` to limit the output to only the first 5 rows:"
   ]
  },
  {
   "cell_type": "code",
   "execution_count": 23,
   "metadata": {},
   "outputs": [],
   "source": [
    "## Your code below\n",
    "\n",
    "\n",
    "## -- Solution code"
   ]
  },
  {
   "cell_type": "markdown",
   "metadata": {},
   "source": [
    "Apart from using `select_dtypes` to exclude columns, we can also use `.drop()` to remove rows or columns by label names and the corresponding axis. By default, the `axis` is assumed to be 0, i.e. referring to the row. Hence the following code will drop the **row** with label `1`: "
   ]
  },
  {
   "cell_type": "code",
   "execution_count": 13,
   "metadata": {},
   "outputs": [
    {
     "data": {
      "text/html": [
       "<div>\n",
       "<style scoped>\n",
       "    .dataframe tbody tr th:only-of-type {\n",
       "        vertical-align: middle;\n",
       "    }\n",
       "\n",
       "    .dataframe tbody tr th {\n",
       "        vertical-align: top;\n",
       "    }\n",
       "\n",
       "    .dataframe thead th {\n",
       "        text-align: right;\n",
       "    }\n",
       "</style>\n",
       "<table border=\"1\" class=\"dataframe\">\n",
       "  <thead>\n",
       "    <tr style=\"text-align: right;\">\n",
       "      <th></th>\n",
       "      <th>product_id</th>\n",
       "      <th>date</th>\n",
       "      <th>categories</th>\n",
       "      <th>brand</th>\n",
       "      <th>name</th>\n",
       "      <th>merchant</th>\n",
       "      <th>quantity</th>\n",
       "      <th>unit_price</th>\n",
       "    </tr>\n",
       "    <tr>\n",
       "      <th>id</th>\n",
       "      <th></th>\n",
       "      <th></th>\n",
       "      <th></th>\n",
       "      <th></th>\n",
       "      <th></th>\n",
       "      <th></th>\n",
       "      <th></th>\n",
       "      <th></th>\n",
       "    </tr>\n",
       "  </thead>\n",
       "  <tbody>\n",
       "    <tr>\n",
       "      <th>2</th>\n",
       "      <td>46876</td>\n",
       "      <td>2017-03-02</td>\n",
       "      <td>Camera &amp; Photo</td>\n",
       "      <td>Sony</td>\n",
       "      <td>Cyber-shot DSC-WX220 Digital Camera (Black)</td>\n",
       "      <td>Bestbuy.com</td>\n",
       "      <td>1</td>\n",
       "      <td>159.99</td>\n",
       "    </tr>\n",
       "    <tr>\n",
       "      <th>3</th>\n",
       "      <td>12136</td>\n",
       "      <td>2017-03-02</td>\n",
       "      <td>Camera &amp; Photo</td>\n",
       "      <td>Sony</td>\n",
       "      <td>Sony - BC-TRX Battery Charger - Black</td>\n",
       "      <td>Bestbuy.com</td>\n",
       "      <td>1</td>\n",
       "      <td>26.99</td>\n",
       "    </tr>\n",
       "    <tr>\n",
       "      <th>6</th>\n",
       "      <td>79238</td>\n",
       "      <td>2017-03-03</td>\n",
       "      <td>Accessories &amp; Supplies</td>\n",
       "      <td>Insignia</td>\n",
       "      <td>Insignia - Fixed TV Wall Mount For Most 40-70\"...</td>\n",
       "      <td>Bestbuy.com</td>\n",
       "      <td>1</td>\n",
       "      <td>56.99</td>\n",
       "    </tr>\n",
       "    <tr>\n",
       "      <th>7</th>\n",
       "      <td>46643</td>\n",
       "      <td>2017-03-03</td>\n",
       "      <td>Camera &amp; Photo</td>\n",
       "      <td>Sony</td>\n",
       "      <td>Cyber-shot DSC-RX100 V Digital Camera</td>\n",
       "      <td>Bestbuy.com</td>\n",
       "      <td>1</td>\n",
       "      <td>849.99</td>\n",
       "    </tr>\n",
       "    <tr>\n",
       "      <th>8</th>\n",
       "      <td>9472</td>\n",
       "      <td>2017-03-03</td>\n",
       "      <td>Camera &amp; Photo</td>\n",
       "      <td>Yamaha</td>\n",
       "      <td>R-S202 Stereo Receiver with Bluetooth (Black)</td>\n",
       "      <td>Bestbuy.com</td>\n",
       "      <td>1</td>\n",
       "      <td>125.99</td>\n",
       "    </tr>\n",
       "  </tbody>\n",
       "</table>\n",
       "</div>"
      ],
      "text/plain": [
       "    product_id       date              categories     brand  \\\n",
       "id                                                            \n",
       "2        46876 2017-03-02          Camera & Photo      Sony   \n",
       "3        12136 2017-03-02          Camera & Photo      Sony   \n",
       "6        79238 2017-03-03  Accessories & Supplies  Insignia   \n",
       "7        46643 2017-03-03          Camera & Photo      Sony   \n",
       "8         9472 2017-03-03          Camera & Photo    Yamaha   \n",
       "\n",
       "                                                 name     merchant  quantity  \\\n",
       "id                                                                             \n",
       "2         Cyber-shot DSC-WX220 Digital Camera (Black)  Bestbuy.com         1   \n",
       "3               Sony - BC-TRX Battery Charger - Black  Bestbuy.com         1   \n",
       "6   Insignia - Fixed TV Wall Mount For Most 40-70\"...  Bestbuy.com         1   \n",
       "7               Cyber-shot DSC-RX100 V Digital Camera  Bestbuy.com         1   \n",
       "8       R-S202 Stereo Receiver with Bluetooth (Black)  Bestbuy.com         1   \n",
       "\n",
       "    unit_price  \n",
       "id              \n",
       "2       159.99  \n",
       "3        26.99  \n",
       "6        56.99  \n",
       "7       849.99  \n",
       "8       125.99  "
      ]
     },
     "execution_count": 13,
     "metadata": {},
     "output_type": "execute_result"
    }
   ],
   "source": [
    "elec.drop(1).head()"
   ]
  },
  {
   "cell_type": "markdown",
   "metadata": {},
   "source": [
    "We can drop multiple rows or columns by passing in a list. In the following code, we override the default `axis` value by passing `axis=1`; As a result `pandas` will drop the specified columns, while preserving all rows:"
   ]
  },
  {
   "cell_type": "code",
   "execution_count": 14,
   "metadata": {},
   "outputs": [
    {
     "data": {
      "text/html": [
       "<div>\n",
       "<style scoped>\n",
       "    .dataframe tbody tr th:only-of-type {\n",
       "        vertical-align: middle;\n",
       "    }\n",
       "\n",
       "    .dataframe tbody tr th {\n",
       "        vertical-align: top;\n",
       "    }\n",
       "\n",
       "    .dataframe thead th {\n",
       "        text-align: right;\n",
       "    }\n",
       "</style>\n",
       "<table border=\"1\" class=\"dataframe\">\n",
       "  <thead>\n",
       "    <tr style=\"text-align: right;\">\n",
       "      <th></th>\n",
       "      <th>date</th>\n",
       "      <th>categories</th>\n",
       "      <th>merchant</th>\n",
       "      <th>quantity</th>\n",
       "      <th>unit_price</th>\n",
       "    </tr>\n",
       "    <tr>\n",
       "      <th>id</th>\n",
       "      <th></th>\n",
       "      <th></th>\n",
       "      <th></th>\n",
       "      <th></th>\n",
       "      <th></th>\n",
       "    </tr>\n",
       "  </thead>\n",
       "  <tbody>\n",
       "    <tr>\n",
       "      <th>1</th>\n",
       "      <td>2017-03-02</td>\n",
       "      <td>Camera &amp; Photo</td>\n",
       "      <td>Bestbuy.com</td>\n",
       "      <td>1</td>\n",
       "      <td>201.99</td>\n",
       "    </tr>\n",
       "    <tr>\n",
       "      <th>2</th>\n",
       "      <td>2017-03-02</td>\n",
       "      <td>Camera &amp; Photo</td>\n",
       "      <td>Bestbuy.com</td>\n",
       "      <td>1</td>\n",
       "      <td>159.99</td>\n",
       "    </tr>\n",
       "    <tr>\n",
       "      <th>3</th>\n",
       "      <td>2017-03-02</td>\n",
       "      <td>Camera &amp; Photo</td>\n",
       "      <td>Bestbuy.com</td>\n",
       "      <td>1</td>\n",
       "      <td>26.99</td>\n",
       "    </tr>\n",
       "    <tr>\n",
       "      <th>6</th>\n",
       "      <td>2017-03-03</td>\n",
       "      <td>Accessories &amp; Supplies</td>\n",
       "      <td>Bestbuy.com</td>\n",
       "      <td>1</td>\n",
       "      <td>56.99</td>\n",
       "    </tr>\n",
       "    <tr>\n",
       "      <th>7</th>\n",
       "      <td>2017-03-03</td>\n",
       "      <td>Camera &amp; Photo</td>\n",
       "      <td>Bestbuy.com</td>\n",
       "      <td>1</td>\n",
       "      <td>849.99</td>\n",
       "    </tr>\n",
       "  </tbody>\n",
       "</table>\n",
       "</div>"
      ],
      "text/plain": [
       "         date              categories     merchant  quantity  unit_price\n",
       "id                                                                      \n",
       "1  2017-03-02          Camera & Photo  Bestbuy.com         1      201.99\n",
       "2  2017-03-02          Camera & Photo  Bestbuy.com         1      159.99\n",
       "3  2017-03-02          Camera & Photo  Bestbuy.com         1       26.99\n",
       "6  2017-03-03  Accessories & Supplies  Bestbuy.com         1       56.99\n",
       "7  2017-03-03          Camera & Photo  Bestbuy.com         1      849.99"
      ]
     },
     "execution_count": 14,
     "metadata": {},
     "output_type": "execute_result"
    }
   ],
   "source": [
    "elec.drop(['product_id', 'brand', 'name'],axis = 1).head()"
   ]
  },
  {
   "cell_type": "markdown",
   "metadata": {},
   "source": [
    "Rather commonly, you may want to perform subsetting by slicing out a set of rows. This can be done using the `elec[start:end]` syntax, where `start` is inclusive.\n",
    "\n",
    "The code follows slices out the first to fourth row, or equivalently, row with the index 0, 1, 2, and 3. "
   ]
  },
  {
   "cell_type": "code",
   "execution_count": 15,
   "metadata": {},
   "outputs": [
    {
     "data": {
      "text/html": [
       "<div>\n",
       "<style scoped>\n",
       "    .dataframe tbody tr th:only-of-type {\n",
       "        vertical-align: middle;\n",
       "    }\n",
       "\n",
       "    .dataframe tbody tr th {\n",
       "        vertical-align: top;\n",
       "    }\n",
       "\n",
       "    .dataframe thead th {\n",
       "        text-align: right;\n",
       "    }\n",
       "</style>\n",
       "<table border=\"1\" class=\"dataframe\">\n",
       "  <thead>\n",
       "    <tr style=\"text-align: right;\">\n",
       "      <th></th>\n",
       "      <th>product_id</th>\n",
       "      <th>date</th>\n",
       "      <th>categories</th>\n",
       "      <th>brand</th>\n",
       "      <th>name</th>\n",
       "      <th>merchant</th>\n",
       "      <th>quantity</th>\n",
       "      <th>unit_price</th>\n",
       "    </tr>\n",
       "    <tr>\n",
       "      <th>id</th>\n",
       "      <th></th>\n",
       "      <th></th>\n",
       "      <th></th>\n",
       "      <th></th>\n",
       "      <th></th>\n",
       "      <th></th>\n",
       "      <th></th>\n",
       "      <th></th>\n",
       "    </tr>\n",
       "  </thead>\n",
       "  <tbody>\n",
       "    <tr>\n",
       "      <th>1</th>\n",
       "      <td>44342</td>\n",
       "      <td>2017-03-02</td>\n",
       "      <td>Camera &amp; Photo</td>\n",
       "      <td>Panasonic</td>\n",
       "      <td>Lumix G 25mm f/1.7 ASPH. Lens</td>\n",
       "      <td>Bestbuy.com</td>\n",
       "      <td>1</td>\n",
       "      <td>201.99</td>\n",
       "    </tr>\n",
       "    <tr>\n",
       "      <th>2</th>\n",
       "      <td>46876</td>\n",
       "      <td>2017-03-02</td>\n",
       "      <td>Camera &amp; Photo</td>\n",
       "      <td>Sony</td>\n",
       "      <td>Cyber-shot DSC-WX220 Digital Camera (Black)</td>\n",
       "      <td>Bestbuy.com</td>\n",
       "      <td>1</td>\n",
       "      <td>159.99</td>\n",
       "    </tr>\n",
       "    <tr>\n",
       "      <th>3</th>\n",
       "      <td>12136</td>\n",
       "      <td>2017-03-02</td>\n",
       "      <td>Camera &amp; Photo</td>\n",
       "      <td>Sony</td>\n",
       "      <td>Sony - BC-TRX Battery Charger - Black</td>\n",
       "      <td>Bestbuy.com</td>\n",
       "      <td>1</td>\n",
       "      <td>26.99</td>\n",
       "    </tr>\n",
       "    <tr>\n",
       "      <th>6</th>\n",
       "      <td>79238</td>\n",
       "      <td>2017-03-03</td>\n",
       "      <td>Accessories &amp; Supplies</td>\n",
       "      <td>Insignia</td>\n",
       "      <td>Insignia - Fixed TV Wall Mount For Most 40-70\"...</td>\n",
       "      <td>Bestbuy.com</td>\n",
       "      <td>1</td>\n",
       "      <td>56.99</td>\n",
       "    </tr>\n",
       "  </tbody>\n",
       "</table>\n",
       "</div>"
      ],
      "text/plain": [
       "    product_id       date              categories      brand  \\\n",
       "id                                                             \n",
       "1        44342 2017-03-02          Camera & Photo  Panasonic   \n",
       "2        46876 2017-03-02          Camera & Photo       Sony   \n",
       "3        12136 2017-03-02          Camera & Photo       Sony   \n",
       "6        79238 2017-03-03  Accessories & Supplies   Insignia   \n",
       "\n",
       "                                                 name     merchant  quantity  \\\n",
       "id                                                                             \n",
       "1                       Lumix G 25mm f/1.7 ASPH. Lens  Bestbuy.com         1   \n",
       "2         Cyber-shot DSC-WX220 Digital Camera (Black)  Bestbuy.com         1   \n",
       "3               Sony - BC-TRX Battery Charger - Black  Bestbuy.com         1   \n",
       "6   Insignia - Fixed TV Wall Mount For Most 40-70\"...  Bestbuy.com         1   \n",
       "\n",
       "    unit_price  \n",
       "id              \n",
       "1       201.99  \n",
       "2       159.99  \n",
       "3        26.99  \n",
       "6        56.99  "
      ]
     },
     "execution_count": 15,
     "metadata": {},
     "output_type": "execute_result"
    }
   ],
   "source": [
    "elec[0:4]"
   ]
  },
  {
   "cell_type": "markdown",
   "metadata": {},
   "source": [
    "Recalling that the `end` is not inclusive and Python's 0-based indexing behavior, if we have wanted to subset the **8th to 12th** row of our data, how would we have done it instead? Pick the right answer and try it in a new code cell below.\n",
    "\n",
    "- [ ] `elec[7:12]`\n",
    "- [ ] `elec[8:12]`\n",
    "- [ ] `elec[7:13]`\n",
    "- [ ] `elec[8:13]`"
   ]
  },
  {
   "cell_type": "markdown",
   "metadata": {},
   "source": [
    "Using `.loc` and `.iloc`, we can perform slicing on both the row and column indices, offering us even greater flexibility and control over our subsetting operations.\n",
    "\n",
    "`.iloc` requires us to pass an `integer` to either the row or/and column. We can also use `:` to indicate no subsetting in a certain direction. The following code slices out the first 4 rows but take all columns (pay attention to the use of the `:` operator): "
   ]
  },
  {
   "cell_type": "code",
   "execution_count": 16,
   "metadata": {},
   "outputs": [
    {
     "data": {
      "text/html": [
       "<div>\n",
       "<style scoped>\n",
       "    .dataframe tbody tr th:only-of-type {\n",
       "        vertical-align: middle;\n",
       "    }\n",
       "\n",
       "    .dataframe tbody tr th {\n",
       "        vertical-align: top;\n",
       "    }\n",
       "\n",
       "    .dataframe thead th {\n",
       "        text-align: right;\n",
       "    }\n",
       "</style>\n",
       "<table border=\"1\" class=\"dataframe\">\n",
       "  <thead>\n",
       "    <tr style=\"text-align: right;\">\n",
       "      <th></th>\n",
       "      <th>product_id</th>\n",
       "      <th>date</th>\n",
       "      <th>categories</th>\n",
       "      <th>brand</th>\n",
       "      <th>name</th>\n",
       "      <th>merchant</th>\n",
       "      <th>quantity</th>\n",
       "      <th>unit_price</th>\n",
       "    </tr>\n",
       "    <tr>\n",
       "      <th>id</th>\n",
       "      <th></th>\n",
       "      <th></th>\n",
       "      <th></th>\n",
       "      <th></th>\n",
       "      <th></th>\n",
       "      <th></th>\n",
       "      <th></th>\n",
       "      <th></th>\n",
       "    </tr>\n",
       "  </thead>\n",
       "  <tbody>\n",
       "    <tr>\n",
       "      <th>1</th>\n",
       "      <td>44342</td>\n",
       "      <td>2017-03-02</td>\n",
       "      <td>Camera &amp; Photo</td>\n",
       "      <td>Panasonic</td>\n",
       "      <td>Lumix G 25mm f/1.7 ASPH. Lens</td>\n",
       "      <td>Bestbuy.com</td>\n",
       "      <td>1</td>\n",
       "      <td>201.99</td>\n",
       "    </tr>\n",
       "    <tr>\n",
       "      <th>2</th>\n",
       "      <td>46876</td>\n",
       "      <td>2017-03-02</td>\n",
       "      <td>Camera &amp; Photo</td>\n",
       "      <td>Sony</td>\n",
       "      <td>Cyber-shot DSC-WX220 Digital Camera (Black)</td>\n",
       "      <td>Bestbuy.com</td>\n",
       "      <td>1</td>\n",
       "      <td>159.99</td>\n",
       "    </tr>\n",
       "    <tr>\n",
       "      <th>3</th>\n",
       "      <td>12136</td>\n",
       "      <td>2017-03-02</td>\n",
       "      <td>Camera &amp; Photo</td>\n",
       "      <td>Sony</td>\n",
       "      <td>Sony - BC-TRX Battery Charger - Black</td>\n",
       "      <td>Bestbuy.com</td>\n",
       "      <td>1</td>\n",
       "      <td>26.99</td>\n",
       "    </tr>\n",
       "    <tr>\n",
       "      <th>6</th>\n",
       "      <td>79238</td>\n",
       "      <td>2017-03-03</td>\n",
       "      <td>Accessories &amp; Supplies</td>\n",
       "      <td>Insignia</td>\n",
       "      <td>Insignia - Fixed TV Wall Mount For Most 40-70\"...</td>\n",
       "      <td>Bestbuy.com</td>\n",
       "      <td>1</td>\n",
       "      <td>56.99</td>\n",
       "    </tr>\n",
       "  </tbody>\n",
       "</table>\n",
       "</div>"
      ],
      "text/plain": [
       "    product_id       date              categories      brand  \\\n",
       "id                                                             \n",
       "1        44342 2017-03-02          Camera & Photo  Panasonic   \n",
       "2        46876 2017-03-02          Camera & Photo       Sony   \n",
       "3        12136 2017-03-02          Camera & Photo       Sony   \n",
       "6        79238 2017-03-03  Accessories & Supplies   Insignia   \n",
       "\n",
       "                                                 name     merchant  quantity  \\\n",
       "id                                                                             \n",
       "1                       Lumix G 25mm f/1.7 ASPH. Lens  Bestbuy.com         1   \n",
       "2         Cyber-shot DSC-WX220 Digital Camera (Black)  Bestbuy.com         1   \n",
       "3               Sony - BC-TRX Battery Charger - Black  Bestbuy.com         1   \n",
       "6   Insignia - Fixed TV Wall Mount For Most 40-70\"...  Bestbuy.com         1   \n",
       "\n",
       "    unit_price  \n",
       "id              \n",
       "1       201.99  \n",
       "2       159.99  \n",
       "3        26.99  \n",
       "6        56.99  "
      ]
     },
     "execution_count": 16,
     "metadata": {},
     "output_type": "execute_result"
    }
   ],
   "source": [
    "elec.iloc[0:4, :]"
   ]
  },
  {
   "cell_type": "markdown",
   "metadata": {},
   "source": [
    "`.loc`, in contrast to `.iloc` does not subset based on _integer_ but rather subset based on `label`. We can still use `integer` but our integers will be treated or interpreted as _labels_.\n",
    "\n",
    "Say, we're now wanted to use the `product_id` as the row labels:"
   ]
  },
  {
   "cell_type": "code",
   "execution_count": 66,
   "metadata": {
    "scrolled": true
   },
   "outputs": [
    {
     "data": {
      "text/html": [
       "<div>\n",
       "<style scoped>\n",
       "    .dataframe tbody tr th:only-of-type {\n",
       "        vertical-align: middle;\n",
       "    }\n",
       "\n",
       "    .dataframe tbody tr th {\n",
       "        vertical-align: top;\n",
       "    }\n",
       "\n",
       "    .dataframe thead th {\n",
       "        text-align: right;\n",
       "    }\n",
       "</style>\n",
       "<table border=\"1\" class=\"dataframe\">\n",
       "  <thead>\n",
       "    <tr style=\"text-align: right;\">\n",
       "      <th></th>\n",
       "      <th>date</th>\n",
       "      <th>categories</th>\n",
       "      <th>brand</th>\n",
       "      <th>name</th>\n",
       "      <th>merchant</th>\n",
       "      <th>quantity</th>\n",
       "      <th>prices</th>\n",
       "    </tr>\n",
       "    <tr>\n",
       "      <th>product_id</th>\n",
       "      <th></th>\n",
       "      <th></th>\n",
       "      <th></th>\n",
       "      <th></th>\n",
       "      <th></th>\n",
       "      <th></th>\n",
       "      <th></th>\n",
       "    </tr>\n",
       "  </thead>\n",
       "  <tbody>\n",
       "    <tr>\n",
       "      <th>44342</th>\n",
       "      <td>2017-03-02</td>\n",
       "      <td>Camera &amp; Photo</td>\n",
       "      <td>Panasonic</td>\n",
       "      <td>Lumix G 25mm f/1.7 ASPH. Lens</td>\n",
       "      <td>Bestbuy.com</td>\n",
       "      <td>1</td>\n",
       "      <td>201.99</td>\n",
       "    </tr>\n",
       "    <tr>\n",
       "      <th>46876</th>\n",
       "      <td>2017-03-02</td>\n",
       "      <td>Camera &amp; Photo</td>\n",
       "      <td>Sony</td>\n",
       "      <td>Cyber-shot DSC-WX220 Digital Camera (Black)</td>\n",
       "      <td>Bestbuy.com</td>\n",
       "      <td>1</td>\n",
       "      <td>159.99</td>\n",
       "    </tr>\n",
       "    <tr>\n",
       "      <th>12136</th>\n",
       "      <td>2017-03-02</td>\n",
       "      <td>Camera &amp; Photo</td>\n",
       "      <td>Sony</td>\n",
       "      <td>Sony - BC-TRX Battery Charger - Black</td>\n",
       "      <td>Bestbuy.com</td>\n",
       "      <td>1</td>\n",
       "      <td>26.99</td>\n",
       "    </tr>\n",
       "    <tr>\n",
       "      <th>41767</th>\n",
       "      <td>2017-03-02</td>\n",
       "      <td>Headphones</td>\n",
       "      <td>Beats</td>\n",
       "      <td>Beats Solo 2 Wireless On-Ear Headphone - White...</td>\n",
       "      <td>Bestbuy.com</td>\n",
       "      <td>2</td>\n",
       "      <td>173.99</td>\n",
       "    </tr>\n",
       "    <tr>\n",
       "      <th>62320</th>\n",
       "      <td>2017-03-02</td>\n",
       "      <td>Home Audio</td>\n",
       "      <td>DENON - HEOS</td>\n",
       "      <td>7.2CH AVR WITH WIFI _ BLUETOOTH 2 HDMI OUTPUTS...</td>\n",
       "      <td>Bestbuy.com</td>\n",
       "      <td>1</td>\n",
       "      <td>486.99</td>\n",
       "    </tr>\n",
       "  </tbody>\n",
       "</table>\n",
       "</div>"
      ],
      "text/plain": [
       "                  date      categories         brand  \\\n",
       "product_id                                             \n",
       "44342       2017-03-02  Camera & Photo     Panasonic   \n",
       "46876       2017-03-02  Camera & Photo          Sony   \n",
       "12136       2017-03-02  Camera & Photo          Sony   \n",
       "41767       2017-03-02      Headphones         Beats   \n",
       "62320       2017-03-02      Home Audio  DENON - HEOS   \n",
       "\n",
       "                                                         name     merchant  \\\n",
       "product_id                                                                   \n",
       "44342                           Lumix G 25mm f/1.7 ASPH. Lens  Bestbuy.com   \n",
       "46876             Cyber-shot DSC-WX220 Digital Camera (Black)  Bestbuy.com   \n",
       "12136                   Sony - BC-TRX Battery Charger - Black  Bestbuy.com   \n",
       "41767       Beats Solo 2 Wireless On-Ear Headphone - White...  Bestbuy.com   \n",
       "62320       7.2CH AVR WITH WIFI _ BLUETOOTH 2 HDMI OUTPUTS...  Bestbuy.com   \n",
       "\n",
       "            quantity  prices  \n",
       "product_id                    \n",
       "44342              1  201.99  \n",
       "46876              1  159.99  \n",
       "12136              1   26.99  \n",
       "41767              2  173.99  \n",
       "62320              1  486.99  "
      ]
     },
     "execution_count": 66,
     "metadata": {},
     "output_type": "execute_result"
    }
   ],
   "source": [
    "product = elec.set_index('product_id')\n",
    "\n",
    "product.head()"
   ]
  },
  {
   "cell_type": "markdown",
   "metadata": {},
   "source": [
    "To subset for the row of transactions corresponding to product id 62320, we can use label-based indexing (`.loc`) as such:"
   ]
  },
  {
   "cell_type": "code",
   "execution_count": 70,
   "metadata": {},
   "outputs": [
    {
     "data": {
      "text/html": [
       "<div>\n",
       "<style scoped>\n",
       "    .dataframe tbody tr th:only-of-type {\n",
       "        vertical-align: middle;\n",
       "    }\n",
       "\n",
       "    .dataframe tbody tr th {\n",
       "        vertical-align: top;\n",
       "    }\n",
       "\n",
       "    .dataframe thead th {\n",
       "        text-align: right;\n",
       "    }\n",
       "</style>\n",
       "<table border=\"1\" class=\"dataframe\">\n",
       "  <thead>\n",
       "    <tr style=\"text-align: right;\">\n",
       "      <th></th>\n",
       "      <th>date</th>\n",
       "      <th>categories</th>\n",
       "      <th>brand</th>\n",
       "      <th>name</th>\n",
       "      <th>merchant</th>\n",
       "      <th>quantity</th>\n",
       "      <th>prices</th>\n",
       "    </tr>\n",
       "    <tr>\n",
       "      <th>product_id</th>\n",
       "      <th></th>\n",
       "      <th></th>\n",
       "      <th></th>\n",
       "      <th></th>\n",
       "      <th></th>\n",
       "      <th></th>\n",
       "      <th></th>\n",
       "    </tr>\n",
       "  </thead>\n",
       "  <tbody>\n",
       "    <tr>\n",
       "      <th>62320</th>\n",
       "      <td>2017-03-02</td>\n",
       "      <td>Home Audio</td>\n",
       "      <td>DENON - HEOS</td>\n",
       "      <td>7.2CH AVR WITH WIFI _ BLUETOOTH 2 HDMI OUTPUTS...</td>\n",
       "      <td>Bestbuy.com</td>\n",
       "      <td>1</td>\n",
       "      <td>486.99</td>\n",
       "    </tr>\n",
       "    <tr>\n",
       "      <th>62320</th>\n",
       "      <td>2017-04-04</td>\n",
       "      <td>Home Audio</td>\n",
       "      <td>DENON - HEOS</td>\n",
       "      <td>7.2CH AVR WITH WIFI _ BLUETOOTH 2 HDMI OUTPUTS...</td>\n",
       "      <td>Bestbuy.com</td>\n",
       "      <td>1</td>\n",
       "      <td>434.99</td>\n",
       "    </tr>\n",
       "    <tr>\n",
       "      <th>62320</th>\n",
       "      <td>2017-12-14</td>\n",
       "      <td>Home Audio</td>\n",
       "      <td>DENON - HEOS</td>\n",
       "      <td>7.2CH AVR WITH WIFI _ BLUETOOTH 2 HDMI OUTPUTS...</td>\n",
       "      <td>Electronics Expo (Authorized Dealer)</td>\n",
       "      <td>1</td>\n",
       "      <td>479.75</td>\n",
       "    </tr>\n",
       "  </tbody>\n",
       "</table>\n",
       "</div>"
      ],
      "text/plain": [
       "                  date  categories         brand  \\\n",
       "product_id                                         \n",
       "62320       2017-03-02  Home Audio  DENON - HEOS   \n",
       "62320       2017-04-04  Home Audio  DENON - HEOS   \n",
       "62320       2017-12-14  Home Audio  DENON - HEOS   \n",
       "\n",
       "                                                         name  \\\n",
       "product_id                                                      \n",
       "62320       7.2CH AVR WITH WIFI _ BLUETOOTH 2 HDMI OUTPUTS...   \n",
       "62320       7.2CH AVR WITH WIFI _ BLUETOOTH 2 HDMI OUTPUTS...   \n",
       "62320       7.2CH AVR WITH WIFI _ BLUETOOTH 2 HDMI OUTPUTS...   \n",
       "\n",
       "                                        merchant  quantity  prices  \n",
       "product_id                                                          \n",
       "62320                                Bestbuy.com         1  486.99  \n",
       "62320                                Bestbuy.com         1  434.99  \n",
       "62320       Electronics Expo (Authorized Dealer)         1  479.75  "
      ]
     },
     "execution_count": 70,
     "metadata": {},
     "output_type": "execute_result"
    }
   ],
   "source": [
    "product.loc[62320, :]"
   ]
  },
  {
   "cell_type": "markdown",
   "metadata": {},
   "source": [
    "In the following code, we read in `womenshoes_sample.csv`. Take a peek at the data using `head` or `tail`. \n",
    "\n",
    "Perform a _label_-based or _integer_-based indexing (whichever deemed more appropriate) by subsetting for the row corresponding to product view count from brand 'Apple':"
   ]
  },
  {
   "cell_type": "code",
   "execution_count": 17,
   "metadata": {
    "scrolled": false
   },
   "outputs": [
    {
     "data": {
      "text/html": [
       "<div>\n",
       "<style scoped>\n",
       "    .dataframe tbody tr th:only-of-type {\n",
       "        vertical-align: middle;\n",
       "    }\n",
       "\n",
       "    .dataframe tbody tr th {\n",
       "        vertical-align: top;\n",
       "    }\n",
       "\n",
       "    .dataframe thead th {\n",
       "        text-align: right;\n",
       "    }\n",
       "</style>\n",
       "<table border=\"1\" class=\"dataframe\">\n",
       "  <thead>\n",
       "    <tr style=\"text-align: right;\">\n",
       "      <th></th>\n",
       "      <th>name</th>\n",
       "      <th>categories</th>\n",
       "      <th>prices_before</th>\n",
       "      <th>prices_after</th>\n",
       "      <th>prices_disc</th>\n",
       "      <th>availability</th>\n",
       "      <th>total_views</th>\n",
       "    </tr>\n",
       "    <tr>\n",
       "      <th>brand</th>\n",
       "      <th></th>\n",
       "      <th></th>\n",
       "      <th></th>\n",
       "      <th></th>\n",
       "      <th></th>\n",
       "      <th></th>\n",
       "      <th></th>\n",
       "    </tr>\n",
       "  </thead>\n",
       "  <tbody>\n",
       "    <tr>\n",
       "      <th>Razer</th>\n",
       "      <td>Blade Pro 17.3 4K Ultra HD Touch-Screen Laptop</td>\n",
       "      <td>Computers &amp; Accessories</td>\n",
       "      <td>USD4619.989</td>\n",
       "      <td>USD4,199.99</td>\n",
       "      <td>10%</td>\n",
       "      <td>True</td>\n",
       "      <td>13</td>\n",
       "    </tr>\n",
       "    <tr>\n",
       "      <th>Sony</th>\n",
       "      <td>Alpha a6500 Mirrorless Digital Camera (Body Only)</td>\n",
       "      <td>Camera &amp; Photo</td>\n",
       "      <td>USD2295.4</td>\n",
       "      <td>USD1,996.00</td>\n",
       "      <td>15%</td>\n",
       "      <td>True</td>\n",
       "      <td>20</td>\n",
       "    </tr>\n",
       "    <tr>\n",
       "      <th>Samsung</th>\n",
       "      <td>Refurbished Samsung Curved 65 4K (2160P) Smart...</td>\n",
       "      <td>TV &amp; Video</td>\n",
       "      <td>USD3672.8895</td>\n",
       "      <td>USD3,497.99</td>\n",
       "      <td>5%</td>\n",
       "      <td>False</td>\n",
       "      <td>28</td>\n",
       "    </tr>\n",
       "    <tr>\n",
       "      <th>LG</th>\n",
       "      <td>75 Class - LED - UJ6470 Series - 2160p - Smart...</td>\n",
       "      <td>TV &amp; Video</td>\n",
       "      <td>USD2636.4</td>\n",
       "      <td>USD2,197.00</td>\n",
       "      <td>20%</td>\n",
       "      <td>True</td>\n",
       "      <td>15</td>\n",
       "    </tr>\n",
       "    <tr>\n",
       "      <th>Panasonic</th>\n",
       "      <td>Leica DG Vario-Elmar 100-400mm f/4-6.3 ASPH. P...</td>\n",
       "      <td>Camera &amp; Photo</td>\n",
       "      <td>USD1919.988</td>\n",
       "      <td>USD1,599.99</td>\n",
       "      <td>20%</td>\n",
       "      <td>False</td>\n",
       "      <td>23</td>\n",
       "    </tr>\n",
       "  </tbody>\n",
       "</table>\n",
       "</div>"
      ],
      "text/plain": [
       "                                                        name  \\\n",
       "brand                                                          \n",
       "Razer         Blade Pro 17.3 4K Ultra HD Touch-Screen Laptop   \n",
       "Sony       Alpha a6500 Mirrorless Digital Camera (Body Only)   \n",
       "Samsung    Refurbished Samsung Curved 65 4K (2160P) Smart...   \n",
       "LG         75 Class - LED - UJ6470 Series - 2160p - Smart...   \n",
       "Panasonic  Leica DG Vario-Elmar 100-400mm f/4-6.3 ASPH. P...   \n",
       "\n",
       "                        categories prices_before prices_after prices_disc  \\\n",
       "brand                                                                       \n",
       "Razer      Computers & Accessories   USD4619.989  USD4,199.99         10%   \n",
       "Sony                Camera & Photo     USD2295.4  USD1,996.00         15%   \n",
       "Samsung                 TV & Video  USD3672.8895  USD3,497.99          5%   \n",
       "LG                      TV & Video     USD2636.4  USD2,197.00         20%   \n",
       "Panasonic           Camera & Photo   USD1919.988  USD1,599.99         20%   \n",
       "\n",
       "           availability  total_views  \n",
       "brand                                 \n",
       "Razer              True           13  \n",
       "Sony               True           20  \n",
       "Samsung           False           28  \n",
       "LG                 True           15  \n",
       "Panasonic         False           23  "
      ]
     },
     "execution_count": 17,
     "metadata": {},
     "output_type": "execute_result"
    }
   ],
   "source": [
    "views = pd.read_csv(\"data_input/electronic_views.csv\", index_col=0)\n",
    "views.head()"
   ]
  },
  {
   "cell_type": "code",
   "execution_count": 76,
   "metadata": {},
   "outputs": [],
   "source": [
    "## Your code below\n",
    "\n",
    "\n",
    "## -- Solution code"
   ]
  },
  {
   "cell_type": "markdown",
   "metadata": {},
   "source": [
    "Observe how in earlier exercises, you inspect the data and consciously decide whether `.loc` or `.iloc` is the more appropriate choice here. This is a helpful mental exercise to get into - in real life data analysis, very often you're faced with the dilemma of picking from a large box of tools, and knowing which method is the best fit is a critical ingredient for efficiency and fluency."
   ]
  },
  {
   "cell_type": "markdown",
   "metadata": {},
   "source": [
    "### Conditional Subsetting\n",
    "\n",
    "Along with `.iloc` and `.loc`, probably the most helpful type of subsetting would have to be conditional subsetting.\n",
    "\n",
    "With conditional subsetting, we select data based on criteria we specified:\n",
    "- `.categories == 'Home Audio'` to select all transactions where format is Home Audio  \n",
    "- `.unit_price >= 200` to select all transactions with unit price being equal to or greater than 200 USD. \n",
    "- `.quantity != 1` to select all transactions where quantity of purchase **is not** 1   \n",
    "\n",
    "We can also use the `&` and `|` operators to join conditions.\n",
    "\n",
    "For example:\n",
    "\n",
    "`customer[(customer.gender == 'Male') & (customer.age > 21)]` subset any rows where customer is Female with age more than 21."
   ]
  },
  {
   "cell_type": "code",
   "execution_count": 84,
   "metadata": {},
   "outputs": [
    {
     "data": {
      "text/html": [
       "<div>\n",
       "<style scoped>\n",
       "    .dataframe tbody tr th:only-of-type {\n",
       "        vertical-align: middle;\n",
       "    }\n",
       "\n",
       "    .dataframe tbody tr th {\n",
       "        vertical-align: top;\n",
       "    }\n",
       "\n",
       "    .dataframe thead th {\n",
       "        text-align: right;\n",
       "    }\n",
       "</style>\n",
       "<table border=\"1\" class=\"dataframe\">\n",
       "  <thead>\n",
       "    <tr style=\"text-align: right;\">\n",
       "      <th></th>\n",
       "      <th>product_id</th>\n",
       "      <th>date</th>\n",
       "      <th>categories</th>\n",
       "      <th>brand</th>\n",
       "      <th>name</th>\n",
       "      <th>merchant</th>\n",
       "      <th>quantity</th>\n",
       "      <th>prices</th>\n",
       "    </tr>\n",
       "    <tr>\n",
       "      <th>id</th>\n",
       "      <th></th>\n",
       "      <th></th>\n",
       "      <th></th>\n",
       "      <th></th>\n",
       "      <th></th>\n",
       "      <th></th>\n",
       "      <th></th>\n",
       "      <th></th>\n",
       "    </tr>\n",
       "  </thead>\n",
       "  <tbody>\n",
       "    <tr>\n",
       "      <th>5</th>\n",
       "      <td>62320</td>\n",
       "      <td>2017-03-02</td>\n",
       "      <td>Home Audio</td>\n",
       "      <td>DENON - HEOS</td>\n",
       "      <td>7.2CH AVR WITH WIFI _ BLUETOOTH 2 HDMI OUTPUTS...</td>\n",
       "      <td>Bestbuy.com</td>\n",
       "      <td>1</td>\n",
       "      <td>486.99</td>\n",
       "    </tr>\n",
       "    <tr>\n",
       "      <th>28</th>\n",
       "      <td>19069</td>\n",
       "      <td>2017-03-03</td>\n",
       "      <td>Home Audio</td>\n",
       "      <td>Definitive Technology</td>\n",
       "      <td>Definitive Technology - Wireless Audio Adapter...</td>\n",
       "      <td>Bestbuy.com</td>\n",
       "      <td>1</td>\n",
       "      <td>355.99</td>\n",
       "    </tr>\n",
       "    <tr>\n",
       "      <th>29</th>\n",
       "      <td>71402</td>\n",
       "      <td>2017-03-03</td>\n",
       "      <td>Home Audio</td>\n",
       "      <td>Denon</td>\n",
       "      <td>DP-300F Fully Automatic Turntable</td>\n",
       "      <td>Bestbuy.com</td>\n",
       "      <td>1</td>\n",
       "      <td>296.99</td>\n",
       "    </tr>\n",
       "    <tr>\n",
       "      <th>30</th>\n",
       "      <td>33811</td>\n",
       "      <td>2017-03-03</td>\n",
       "      <td>Home Audio</td>\n",
       "      <td>Kenwood</td>\n",
       "      <td>Kenwood KMM-BT315U Digital Media Receiver with...</td>\n",
       "      <td>Bestbuy.com</td>\n",
       "      <td>1</td>\n",
       "      <td>89.99</td>\n",
       "    </tr>\n",
       "    <tr>\n",
       "      <th>31</th>\n",
       "      <td>63566</td>\n",
       "      <td>2017-03-03</td>\n",
       "      <td>Home Audio</td>\n",
       "      <td>MartinLogan</td>\n",
       "      <td>MartinLogan - Dynamo 500 10 360-Watt Powered S...</td>\n",
       "      <td>Bestbuy.com</td>\n",
       "      <td>1</td>\n",
       "      <td>349.98</td>\n",
       "    </tr>\n",
       "  </tbody>\n",
       "</table>\n",
       "</div>"
      ],
      "text/plain": [
       "    product_id       date  categories                  brand  \\\n",
       "id                                                             \n",
       "5        62320 2017-03-02  Home Audio           DENON - HEOS   \n",
       "28       19069 2017-03-03  Home Audio  Definitive Technology   \n",
       "29       71402 2017-03-03  Home Audio                  Denon   \n",
       "30       33811 2017-03-03  Home Audio                Kenwood   \n",
       "31       63566 2017-03-03  Home Audio            MartinLogan   \n",
       "\n",
       "                                                 name     merchant  quantity  \\\n",
       "id                                                                             \n",
       "5   7.2CH AVR WITH WIFI _ BLUETOOTH 2 HDMI OUTPUTS...  Bestbuy.com         1   \n",
       "28  Definitive Technology - Wireless Audio Adapter...  Bestbuy.com         1   \n",
       "29                  DP-300F Fully Automatic Turntable  Bestbuy.com         1   \n",
       "30  Kenwood KMM-BT315U Digital Media Receiver with...  Bestbuy.com         1   \n",
       "31  MartinLogan - Dynamo 500 10 360-Watt Powered S...  Bestbuy.com         1   \n",
       "\n",
       "    prices  \n",
       "id          \n",
       "5   486.99  \n",
       "28  355.99  \n",
       "29  296.99  \n",
       "30   89.99  \n",
       "31  349.98  "
      ]
     },
     "execution_count": 84,
     "metadata": {},
     "output_type": "execute_result"
    }
   ],
   "source": [
    "elec[elec.categories == 'Home Audio'].head()"
   ]
  },
  {
   "cell_type": "markdown",
   "metadata": {},
   "source": [
    "#### Knowledge Check\n",
    "\n",
    "In the cell below, write code using conditional subsetting and answer the following questions:\n",
    "\n",
    "1. Say on May 26 last year, we're holding a one-day only big sale promotion. From all of our electronic categories, how many purchases do we have?\n",
    "2. On that day, how many transactions do we have from `Computers & Accessories`?\n",
    "3. From all transactions in our dataset, how many transactions came from `Walmart.com`?\n",
    "\n",
    "_Tip_: You may find the `.shape` attribute convenient in extracting the number of rows / columns from a dataframe"
   ]
  },
  {
   "cell_type": "code",
   "execution_count": 97,
   "metadata": {},
   "outputs": [],
   "source": [
    "## Your code below\n",
    "\n",
    "\n",
    "## -- Solution code"
   ]
  },
  {
   "cell_type": "markdown",
   "metadata": {},
   "source": [
    "## Referencing and Copying"
   ]
  },
  {
   "cell_type": "code",
   "execution_count": 134,
   "metadata": {},
   "outputs": [
    {
     "data": {
      "text/plain": [
       "[1350, 2000, 1750]"
      ]
     },
     "execution_count": 134,
     "metadata": {},
     "output_type": "execute_result"
    }
   ],
   "source": [
    "SEO_budget = [1350, 2000, 1750]\n",
    "\n",
    "SEO_budget"
   ]
  },
  {
   "cell_type": "markdown",
   "metadata": {},
   "source": [
    "In the cell above, we created a Python list, and our variable `SEO_budget` referenced that object accordingly.\n",
    "\n",
    "In the following cell, we created `Socmed_budget`, and set `Socmed_budget = SEO_budget`. What do you think it does?"
   ]
  },
  {
   "cell_type": "code",
   "execution_count": 135,
   "metadata": {},
   "outputs": [
    {
     "name": "stdout",
     "output_type": "stream",
     "text": [
      "[1350, 2000, 1750]\n"
     ]
    }
   ],
   "source": [
    "Socmed_budget = SEO_budget\n",
    "print(Socmed_budget)"
   ]
  },
  {
   "cell_type": "markdown",
   "metadata": {},
   "source": [
    "Now, let's try to update our `Socmed_budget` by changing our first value to 1500 USD:"
   ]
  },
  {
   "cell_type": "code",
   "execution_count": 136,
   "metadata": {},
   "outputs": [
    {
     "name": "stdout",
     "output_type": "stream",
     "text": [
      "[1500, 2000, 1750]\n"
     ]
    }
   ],
   "source": [
    "Socmed_budget[0] = 1500\n",
    "print(Socmed_budget)"
   ]
  },
  {
   "cell_type": "markdown",
   "metadata": {},
   "source": [
    "So far, so reasonable. However, if we were to now check the values of that Python list as referenced by `SEO_budget`, we see that __the list has been updated__."
   ]
  },
  {
   "cell_type": "code",
   "execution_count": 137,
   "metadata": {},
   "outputs": [
    {
     "name": "stdout",
     "output_type": "stream",
     "text": [
      "[1500, 2000, 1750]\n"
     ]
    }
   ],
   "source": [
    "# print(Socmed_budget)\n",
    "print(SEO_budget)"
   ]
  },
  {
   "cell_type": "markdown",
   "metadata": {},
   "source": [
    "The explanation is that when we execute the line `Socmed_budget = SEO_budget`, a new Python list **is not being created**. We truly have only one object, and that line only creates a new variable named `Socmed_budget` that references that very same object.\n",
    "\n",
    "The behavior with using the `=` operator in Python differs from other programming languages and can be confusing to seasoned developers new to Python. \n",
    "\n",
    "The appropriate method instead is `.copy()`, which creates an actual copy of the python list. Notice that in the following code, there are two distinct Python objects, and changing the values in one do not affect the other:"
   ]
  },
  {
   "cell_type": "code",
   "execution_count": 140,
   "metadata": {},
   "outputs": [
    {
     "name": "stdout",
     "output_type": "stream",
     "text": [
      "[1350, 2000, 1750]\n",
      "[1500, 2000, 1750]\n"
     ]
    }
   ],
   "source": [
    "SEO_budget = [1350, 2000, 1750]\n",
    "Socmed_budget = SEO_budget.copy()\n",
    "\n",
    "Socmed_budget[0] = 1500\n",
    "\n",
    "print(SEO_budget)\n",
    "print(Socmed_budget)"
   ]
  },
  {
   "cell_type": "markdown",
   "metadata": {},
   "source": [
    "# Learn-by-Building\n",
    "\n",
    "The data you will read in is `electronic_views.csv`, a small sample from a dataset corresponding to product view counts from electronic section of a e-commerce. Notice that the dataset has some formatting inconsistencies by design: The `prices_after` column has comma delimiter and the currency (`USD`) whereas related columns use values that has omitted the separator."
   ]
  },
  {
   "cell_type": "code",
   "execution_count": 62,
   "metadata": {},
   "outputs": [
    {
     "data": {
      "text/html": [
       "<div>\n",
       "<style scoped>\n",
       "    .dataframe tbody tr th:only-of-type {\n",
       "        vertical-align: middle;\n",
       "    }\n",
       "\n",
       "    .dataframe tbody tr th {\n",
       "        vertical-align: top;\n",
       "    }\n",
       "\n",
       "    .dataframe thead th {\n",
       "        text-align: right;\n",
       "    }\n",
       "</style>\n",
       "<table border=\"1\" class=\"dataframe\">\n",
       "  <thead>\n",
       "    <tr style=\"text-align: right;\">\n",
       "      <th></th>\n",
       "      <th>brand</th>\n",
       "      <th>name</th>\n",
       "      <th>categories</th>\n",
       "      <th>prices_before</th>\n",
       "      <th>prices_after</th>\n",
       "      <th>prices_disc</th>\n",
       "      <th>availability</th>\n",
       "      <th>total_views</th>\n",
       "    </tr>\n",
       "  </thead>\n",
       "  <tbody>\n",
       "    <tr>\n",
       "      <th>0</th>\n",
       "      <td>Razer</td>\n",
       "      <td>Blade Pro 17.3 4K Ultra HD Touch-Screen Laptop</td>\n",
       "      <td>Computers &amp; Accessories</td>\n",
       "      <td>USD4619.989</td>\n",
       "      <td>USD4,199.99</td>\n",
       "      <td>10%</td>\n",
       "      <td>True</td>\n",
       "      <td>13</td>\n",
       "    </tr>\n",
       "    <tr>\n",
       "      <th>1</th>\n",
       "      <td>Sony</td>\n",
       "      <td>Alpha a6500 Mirrorless Digital Camera (Body Only)</td>\n",
       "      <td>Camera &amp; Photo</td>\n",
       "      <td>USD2295.4</td>\n",
       "      <td>USD1,996.00</td>\n",
       "      <td>15%</td>\n",
       "      <td>True</td>\n",
       "      <td>20</td>\n",
       "    </tr>\n",
       "    <tr>\n",
       "      <th>2</th>\n",
       "      <td>Samsung</td>\n",
       "      <td>Refurbished Samsung Curved 65 4K (2160P) Smart...</td>\n",
       "      <td>TV &amp; Video</td>\n",
       "      <td>USD3672.8895</td>\n",
       "      <td>USD3,497.99</td>\n",
       "      <td>5%</td>\n",
       "      <td>False</td>\n",
       "      <td>28</td>\n",
       "    </tr>\n",
       "    <tr>\n",
       "      <th>3</th>\n",
       "      <td>LG</td>\n",
       "      <td>75 Class - LED - UJ6470 Series - 2160p - Smart...</td>\n",
       "      <td>TV &amp; Video</td>\n",
       "      <td>USD2636.4</td>\n",
       "      <td>USD2,197.00</td>\n",
       "      <td>20%</td>\n",
       "      <td>True</td>\n",
       "      <td>15</td>\n",
       "    </tr>\n",
       "    <tr>\n",
       "      <th>4</th>\n",
       "      <td>Panasonic</td>\n",
       "      <td>Leica DG Vario-Elmar 100-400mm f/4-6.3 ASPH. P...</td>\n",
       "      <td>Camera &amp; Photo</td>\n",
       "      <td>USD1919.988</td>\n",
       "      <td>USD1,599.99</td>\n",
       "      <td>20%</td>\n",
       "      <td>False</td>\n",
       "      <td>23</td>\n",
       "    </tr>\n",
       "  </tbody>\n",
       "</table>\n",
       "</div>"
      ],
      "text/plain": [
       "       brand                                               name  \\\n",
       "0      Razer     Blade Pro 17.3 4K Ultra HD Touch-Screen Laptop   \n",
       "1       Sony  Alpha a6500 Mirrorless Digital Camera (Body Only)   \n",
       "2    Samsung  Refurbished Samsung Curved 65 4K (2160P) Smart...   \n",
       "3         LG  75 Class - LED - UJ6470 Series - 2160p - Smart...   \n",
       "4  Panasonic  Leica DG Vario-Elmar 100-400mm f/4-6.3 ASPH. P...   \n",
       "\n",
       "                categories prices_before prices_after prices_disc  \\\n",
       "0  Computers & Accessories   USD4619.989  USD4,199.99         10%   \n",
       "1           Camera & Photo     USD2295.4  USD1,996.00         15%   \n",
       "2               TV & Video  USD3672.8895  USD3,497.99          5%   \n",
       "3               TV & Video     USD2636.4  USD2,197.00         20%   \n",
       "4           Camera & Photo   USD1919.988  USD1,599.99         20%   \n",
       "\n",
       "   availability  total_views  \n",
       "0          True           13  \n",
       "1          True           20  \n",
       "2         False           28  \n",
       "3          True           15  \n",
       "4         False           23  "
      ]
     },
     "execution_count": 62,
     "metadata": {},
     "output_type": "execute_result"
    }
   ],
   "source": [
    "views = pd.read_csv(\"data_input/electronic_views.csv\")\n",
    "views.head()"
   ]
  },
  {
   "cell_type": "markdown",
   "metadata": {},
   "source": [
    "Pay attention to the `prices_before` and `prices_after` columns. To perform arithmetic computations on the numeric columns, we have to drop the 'USD' currency string and treat these columns as numbers. We'll use the built-in `.replace()` method for this.\n",
    "\n",
    "How do we apply that replace function? We can call `.apply(our_function)` on our `DataFrame`. What's interesting is that `our_function` could be any of `python` built-in functions, functions from third-party modules, or it could also be a list of functions:"
   ]
  },
  {
   "cell_type": "code",
   "execution_count": 63,
   "metadata": {},
   "outputs": [
    {
     "data": {
      "text/plain": [
       "max    43\n",
       "min    13\n",
       "Name: total_views, dtype: int64"
      ]
     },
     "execution_count": 63,
     "metadata": {},
     "output_type": "execute_result"
    }
   ],
   "source": [
    "views['total_views'].apply([max, min])"
   ]
  },
  {
   "cell_type": "markdown",
   "metadata": {},
   "source": [
    "Back to removing the currency string from `prices_before` and `prices_after` using `.apply()` and `.replace()`. We could create our own function , name it `removeUSD` for example and then apply it the following way:\n",
    "\n",
    "`views['prices_before'].apply(removeUSD)`\n",
    "\n",
    "Writing functions is a topic that is more suited for a later time, and students new to the trade of programming in Python will be gradually introduced to this aspect of Python programming.\n",
    "\n",
    "However, given the task at hand, this seems like a reasonable time to introduce **Lambdas**.\n",
    "\n"
   ]
  },
  {
   "cell_type": "code",
   "execution_count": 65,
   "metadata": {},
   "outputs": [
    {
     "data": {
      "text/html": [
       "<div>\n",
       "<style scoped>\n",
       "    .dataframe tbody tr th:only-of-type {\n",
       "        vertical-align: middle;\n",
       "    }\n",
       "\n",
       "    .dataframe tbody tr th {\n",
       "        vertical-align: top;\n",
       "    }\n",
       "\n",
       "    .dataframe thead th {\n",
       "        text-align: right;\n",
       "    }\n",
       "</style>\n",
       "<table border=\"1\" class=\"dataframe\">\n",
       "  <thead>\n",
       "    <tr style=\"text-align: right;\">\n",
       "      <th></th>\n",
       "      <th>brand</th>\n",
       "      <th>name</th>\n",
       "      <th>categories</th>\n",
       "      <th>prices_before</th>\n",
       "      <th>prices_after</th>\n",
       "      <th>prices_disc</th>\n",
       "      <th>availability</th>\n",
       "      <th>total_views</th>\n",
       "    </tr>\n",
       "  </thead>\n",
       "  <tbody>\n",
       "    <tr>\n",
       "      <th>0</th>\n",
       "      <td>Razer</td>\n",
       "      <td>Blade Pro 17.3 4K Ultra HD Touch-Screen Laptop</td>\n",
       "      <td>Computers &amp; Accessories</td>\n",
       "      <td>4619.989</td>\n",
       "      <td>4,199.99</td>\n",
       "      <td>10%</td>\n",
       "      <td>True</td>\n",
       "      <td>13</td>\n",
       "    </tr>\n",
       "    <tr>\n",
       "      <th>1</th>\n",
       "      <td>Sony</td>\n",
       "      <td>Alpha a6500 Mirrorless Digital Camera (Body Only)</td>\n",
       "      <td>Camera &amp; Photo</td>\n",
       "      <td>2295.4</td>\n",
       "      <td>1,996.00</td>\n",
       "      <td>15%</td>\n",
       "      <td>True</td>\n",
       "      <td>20</td>\n",
       "    </tr>\n",
       "    <tr>\n",
       "      <th>2</th>\n",
       "      <td>Samsung</td>\n",
       "      <td>Refurbished Samsung Curved 65 4K (2160P) Smart...</td>\n",
       "      <td>TV &amp; Video</td>\n",
       "      <td>3672.8895</td>\n",
       "      <td>3,497.99</td>\n",
       "      <td>5%</td>\n",
       "      <td>False</td>\n",
       "      <td>28</td>\n",
       "    </tr>\n",
       "    <tr>\n",
       "      <th>3</th>\n",
       "      <td>LG</td>\n",
       "      <td>75 Class - LED - UJ6470 Series - 2160p - Smart...</td>\n",
       "      <td>TV &amp; Video</td>\n",
       "      <td>2636.4</td>\n",
       "      <td>2,197.00</td>\n",
       "      <td>20%</td>\n",
       "      <td>True</td>\n",
       "      <td>15</td>\n",
       "    </tr>\n",
       "    <tr>\n",
       "      <th>4</th>\n",
       "      <td>Panasonic</td>\n",
       "      <td>Leica DG Vario-Elmar 100-400mm f/4-6.3 ASPH. P...</td>\n",
       "      <td>Camera &amp; Photo</td>\n",
       "      <td>1919.988</td>\n",
       "      <td>1,599.99</td>\n",
       "      <td>20%</td>\n",
       "      <td>False</td>\n",
       "      <td>23</td>\n",
       "    </tr>\n",
       "  </tbody>\n",
       "</table>\n",
       "</div>"
      ],
      "text/plain": [
       "       brand                                               name  \\\n",
       "0      Razer     Blade Pro 17.3 4K Ultra HD Touch-Screen Laptop   \n",
       "1       Sony  Alpha a6500 Mirrorless Digital Camera (Body Only)   \n",
       "2    Samsung  Refurbished Samsung Curved 65 4K (2160P) Smart...   \n",
       "3         LG  75 Class - LED - UJ6470 Series - 2160p - Smart...   \n",
       "4  Panasonic  Leica DG Vario-Elmar 100-400mm f/4-6.3 ASPH. P...   \n",
       "\n",
       "                categories prices_before prices_after prices_disc  \\\n",
       "0  Computers & Accessories      4619.989     4,199.99         10%   \n",
       "1           Camera & Photo        2295.4     1,996.00         15%   \n",
       "2               TV & Video     3672.8895     3,497.99          5%   \n",
       "3               TV & Video        2636.4     2,197.00         20%   \n",
       "4           Camera & Photo      1919.988     1,599.99         20%   \n",
       "\n",
       "   availability  total_views  \n",
       "0          True           13  \n",
       "1          True           20  \n",
       "2         False           28  \n",
       "3          True           15  \n",
       "4         False           23  "
      ]
     },
     "execution_count": 65,
     "metadata": {},
     "output_type": "execute_result"
    }
   ],
   "source": [
    "views['prices_before'] = views['prices_before'].apply(lambda x: x.replace('USD', ''))\n",
    "views['prices_after'] = views['prices_after'].apply(lambda x: x.replace('USD', ''))\n",
    "\n",
    "views.head()"
   ]
  },
  {
   "cell_type": "code",
   "execution_count": 69,
   "metadata": {},
   "outputs": [
    {
     "data": {
      "text/html": [
       "<div>\n",
       "<style scoped>\n",
       "    .dataframe tbody tr th:only-of-type {\n",
       "        vertical-align: middle;\n",
       "    }\n",
       "\n",
       "    .dataframe tbody tr th {\n",
       "        vertical-align: top;\n",
       "    }\n",
       "\n",
       "    .dataframe thead th {\n",
       "        text-align: right;\n",
       "    }\n",
       "</style>\n",
       "<table border=\"1\" class=\"dataframe\">\n",
       "  <thead>\n",
       "    <tr style=\"text-align: right;\">\n",
       "      <th></th>\n",
       "      <th>brand</th>\n",
       "      <th>name</th>\n",
       "      <th>categories</th>\n",
       "      <th>prices_before</th>\n",
       "      <th>prices_after</th>\n",
       "      <th>prices_disc</th>\n",
       "      <th>availability</th>\n",
       "      <th>total_views</th>\n",
       "    </tr>\n",
       "  </thead>\n",
       "  <tbody>\n",
       "    <tr>\n",
       "      <th>0</th>\n",
       "      <td>Razer</td>\n",
       "      <td>Blade Pro 17.3 4K Ultra HD Touch-Screen Laptop</td>\n",
       "      <td>Computers &amp; Accessories</td>\n",
       "      <td>4619.989</td>\n",
       "      <td>4199.99</td>\n",
       "      <td>10%</td>\n",
       "      <td>True</td>\n",
       "      <td>13</td>\n",
       "    </tr>\n",
       "    <tr>\n",
       "      <th>1</th>\n",
       "      <td>Sony</td>\n",
       "      <td>Alpha a6500 Mirrorless Digital Camera (Body Only)</td>\n",
       "      <td>Camera &amp; Photo</td>\n",
       "      <td>2295.4</td>\n",
       "      <td>1996.00</td>\n",
       "      <td>15%</td>\n",
       "      <td>True</td>\n",
       "      <td>20</td>\n",
       "    </tr>\n",
       "    <tr>\n",
       "      <th>2</th>\n",
       "      <td>Samsung</td>\n",
       "      <td>Refurbished Samsung Curved 65 4K (2160P) Smart...</td>\n",
       "      <td>TV &amp; Video</td>\n",
       "      <td>3672.8895</td>\n",
       "      <td>3497.99</td>\n",
       "      <td>5%</td>\n",
       "      <td>False</td>\n",
       "      <td>28</td>\n",
       "    </tr>\n",
       "  </tbody>\n",
       "</table>\n",
       "</div>"
      ],
      "text/plain": [
       "     brand                                               name  \\\n",
       "0    Razer     Blade Pro 17.3 4K Ultra HD Touch-Screen Laptop   \n",
       "1     Sony  Alpha a6500 Mirrorless Digital Camera (Body Only)   \n",
       "2  Samsung  Refurbished Samsung Curved 65 4K (2160P) Smart...   \n",
       "\n",
       "                categories prices_before prices_after prices_disc  \\\n",
       "0  Computers & Accessories      4619.989      4199.99         10%   \n",
       "1           Camera & Photo        2295.4      1996.00         15%   \n",
       "2               TV & Video     3672.8895      3497.99          5%   \n",
       "\n",
       "   availability  total_views  \n",
       "0          True           13  \n",
       "1          True           20  \n",
       "2         False           28  "
      ]
     },
     "execution_count": 69,
     "metadata": {},
     "output_type": "execute_result"
    }
   ],
   "source": [
    "views = pd.read_csv(\"data_input/electronic_views.csv\")\n",
    "\n",
    "views[['prices_before','prices_after']] = views[['prices_before','prices_after']].replace('[^\\d.]+', '',regex=True)\n",
    "views.head(3)"
   ]
  },
  {
   "cell_type": "code",
   "execution_count": 70,
   "metadata": {
    "scrolled": false
   },
   "outputs": [
    {
     "data": {
      "text/plain": [
       "brand            object\n",
       "name             object\n",
       "categories       object\n",
       "prices_before    object\n",
       "prices_after     object\n",
       "prices_disc      object\n",
       "availability       bool\n",
       "total_views       int64\n",
       "dtype: object"
      ]
     },
     "execution_count": 70,
     "metadata": {},
     "output_type": "execute_result"
    }
   ],
   "source": [
    "views.dtypes"
   ]
  },
  {
   "cell_type": "markdown",
   "metadata": {},
   "source": [
    "## Graded Assignment 1"
   ]
  },
  {
   "cell_type": "markdown",
   "metadata": {},
   "source": [
    "### Task 1\n",
    "\n",
    "You may have noticed that `prices_before` and `prices_after` are not stored in the right data type. You may use `views.dtypes` to double-confirm.  \n",
    "\n",
    "The following code uses the `pd.to_numeric` method to transform these columns to numeric data types. \n",
    "\n",
    "```py\n",
    "numeric_cols = ['prices_before', 'prices_after']\n",
    "views[numeric_cols] = views[numeric_cols].apply(pd.to_numeric)\n",
    "```\n",
    "\n",
    "Add the transformation code and then now try to count the difference amounts between the prices before and after the discount. Use `head` or `tail` to peek at the resulting data frame."
   ]
  },
  {
   "cell_type": "markdown",
   "metadata": {},
   "source": [
    "### Task 2\n",
    "\n",
    "The following code prints the product with the maximum amount of `total_views`:\n",
    "\n",
    "```py\n",
    "views.loc[views['total_views'].idxmax(), ]\n",
    "views.loc[views['total_views'] == views['total_views'].max(), ]\n",
    "```\n",
    "\n",
    "Some of the products viewed by customers is not currently available (See `availability` column). Among the products that is not currently available, which product has the highest product views?\n",
    "\n",
    "_Tip_: Recall what you've learned about conditional subsetting."
   ]
  },
  {
   "cell_type": "markdown",
   "metadata": {},
   "source": [
    "### Task 3\n",
    "\n",
    "Combine `.select_dtypes` and `.describe` to print the summary statistics of **all numeric columns** in `views`. \n",
    "\n",
    "_Tip_: This can be done by passing `['int','float']` or simply `'number'` as a value to the `include` parameter"
   ]
  },
  {
   "cell_type": "markdown",
   "metadata": {},
   "source": [
    "### Task 4\n",
    "\n",
    "Say, we would like to print a dataframe including only any product with price more than USD 1,000. Which are the products that has price exceeding USD 1,000 in the sampled data frame?"
   ]
  },
  {
   "cell_type": "markdown",
   "metadata": {},
   "source": []
  }
 ],
 "metadata": {
  "kernelspec": {
   "display_name": "Python 3",
   "language": "python",
   "name": "python3"
  },
  "language_info": {
   "codemirror_mode": {
    "name": "ipython",
    "version": 3
   },
   "file_extension": ".py",
   "mimetype": "text/x-python",
   "name": "python",
   "nbconvert_exporter": "python",
   "pygments_lexer": "ipython3",
   "version": "3.7.3"
  }
 },
 "nbformat": 4,
 "nbformat_minor": 2
}
